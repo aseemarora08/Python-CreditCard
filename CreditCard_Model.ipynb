{
 "cells": [
  {
   "cell_type": "markdown",
   "id": "a44bef97-0614-4bff-a2c7-0f5dfe329c23",
   "metadata": {},
   "source": [
    "# **Credit Card Approval Model**"
   ]
  },
  {
   "cell_type": "markdown",
   "id": "961e8d61",
   "metadata": {},
   "source": [
    "For this project, I decided to analyze data regarding credit card applications. When reviewing credit card applications, many factors are considered, such as gender, years employed, etc., to check whether the applicant is reliable and non-risky for the bank to approve a credit card. Historically, I have relied on credit score as the primary factor I evaluate to decide whether or not an applicant is trustworthy enough for loans, mortgages, and even credit card approvals (Wagner, 2004).\n",
    "\n",
    "Thus, I aim to compare credit score with debt history, age, and income to analyze the relationship between these quantitative variables and their influence on my decision to approve or reject a credit card application. I created a knn neighbors algorithm to predict how new observations would be classified based on data from these quantitative factors. I will use the dataset called “Credit Approval” from the UC Irvine Machine Learning Repository. The dataset is multivariate and contains a mix of real, integer, and categorical values. I will use the four quantitative listed variables as predictors in my model and approval, a categorical variable, as my predicted value."
   ]
  },
  {
   "cell_type": "markdown",
   "id": "45673a87",
   "metadata": {},
   "source": [
    "Before beginning, we imported all the packages I thought would be relevant to our analysis.  Next, I transferred the data from the web into a Google spreadsheet and, using the read_csv function, loaded the data into our workspace with the name data. \n"
   ]
  },
  {
   "cell_type": "code",
   "execution_count": null,
   "id": "45c0b887-a35f-447e-917d-ae648e022391",
   "metadata": {},
   "outputs": [],
   "source": [
    "import altair as alt\n",
    "import numpy as np\n",
    "import pandas as pd\n",
    "from sklearn import set_config\n",
    "from sklearn.compose import make_column_transformer\n",
    "from sklearn.metrics.pairwise import euclidean_distances\n",
    "from sklearn.model_selection import (\n",
    "    GridSearchCV,\n",
    "    RandomizedSearchCV,\n",
    "    cross_validate,\n",
    "    train_test_split,\n",
    ")\n",
    "from sklearn.neighbors import KNeighborsClassifier\n",
    "from sklearn.pipeline import make_pipeline\n",
    "from sklearn.preprocessing import StandardScaler\n",
    "from sklearn.metrics import mean_squared_error"
   ]
  },
  {
   "cell_type": "code",
   "execution_count": 2,
   "id": "1a0df39c-b206-459a-bba2-c00cdfbc4b7a",
   "metadata": {
    "tags": []
   },
   "outputs": [
    {
     "data": {
      "text/html": [
       "<div>\n",
       "<style scoped>\n",
       "    .dataframe tbody tr th:only-of-type {\n",
       "        vertical-align: middle;\n",
       "    }\n",
       "\n",
       "    .dataframe tbody tr th {\n",
       "        vertical-align: top;\n",
       "    }\n",
       "\n",
       "    .dataframe thead th {\n",
       "        text-align: right;\n",
       "    }\n",
       "</style>\n",
       "<table border=\"1\" class=\"dataframe\">\n",
       "  <thead>\n",
       "    <tr style=\"text-align: right;\">\n",
       "      <th></th>\n",
       "      <th>Age</th>\n",
       "      <th>Debt</th>\n",
       "      <th>CreditScore</th>\n",
       "      <th>Income</th>\n",
       "      <th>Approved</th>\n",
       "    </tr>\n",
       "  </thead>\n",
       "  <tbody>\n",
       "    <tr>\n",
       "      <th>0</th>\n",
       "      <td>30.83</td>\n",
       "      <td>0.000</td>\n",
       "      <td>1</td>\n",
       "      <td>0</td>\n",
       "      <td>Yes</td>\n",
       "    </tr>\n",
       "    <tr>\n",
       "      <th>1</th>\n",
       "      <td>58.67</td>\n",
       "      <td>4.460</td>\n",
       "      <td>6</td>\n",
       "      <td>560</td>\n",
       "      <td>Yes</td>\n",
       "    </tr>\n",
       "    <tr>\n",
       "      <th>2</th>\n",
       "      <td>24.50</td>\n",
       "      <td>0.500</td>\n",
       "      <td>0</td>\n",
       "      <td>824</td>\n",
       "      <td>Yes</td>\n",
       "    </tr>\n",
       "    <tr>\n",
       "      <th>3</th>\n",
       "      <td>27.83</td>\n",
       "      <td>1.540</td>\n",
       "      <td>5</td>\n",
       "      <td>3</td>\n",
       "      <td>Yes</td>\n",
       "    </tr>\n",
       "    <tr>\n",
       "      <th>4</th>\n",
       "      <td>20.17</td>\n",
       "      <td>5.625</td>\n",
       "      <td>0</td>\n",
       "      <td>0</td>\n",
       "      <td>Yes</td>\n",
       "    </tr>\n",
       "    <tr>\n",
       "      <th>...</th>\n",
       "      <td>...</td>\n",
       "      <td>...</td>\n",
       "      <td>...</td>\n",
       "      <td>...</td>\n",
       "      <td>...</td>\n",
       "    </tr>\n",
       "    <tr>\n",
       "      <th>685</th>\n",
       "      <td>21.08</td>\n",
       "      <td>10.085</td>\n",
       "      <td>0</td>\n",
       "      <td>0</td>\n",
       "      <td>No</td>\n",
       "    </tr>\n",
       "    <tr>\n",
       "      <th>686</th>\n",
       "      <td>22.67</td>\n",
       "      <td>0.750</td>\n",
       "      <td>2</td>\n",
       "      <td>394</td>\n",
       "      <td>No</td>\n",
       "    </tr>\n",
       "    <tr>\n",
       "      <th>687</th>\n",
       "      <td>25.25</td>\n",
       "      <td>13.500</td>\n",
       "      <td>1</td>\n",
       "      <td>1</td>\n",
       "      <td>No</td>\n",
       "    </tr>\n",
       "    <tr>\n",
       "      <th>688</th>\n",
       "      <td>17.92</td>\n",
       "      <td>0.205</td>\n",
       "      <td>0</td>\n",
       "      <td>750</td>\n",
       "      <td>No</td>\n",
       "    </tr>\n",
       "    <tr>\n",
       "      <th>689</th>\n",
       "      <td>35.00</td>\n",
       "      <td>3.375</td>\n",
       "      <td>0</td>\n",
       "      <td>0</td>\n",
       "      <td>No</td>\n",
       "    </tr>\n",
       "  </tbody>\n",
       "</table>\n",
       "<p>690 rows × 5 columns</p>\n",
       "</div>"
      ],
      "text/plain": [
       "       Age    Debt  CreditScore  Income Approved\n",
       "0    30.83   0.000            1       0      Yes\n",
       "1    58.67   4.460            6     560      Yes\n",
       "2    24.50   0.500            0     824      Yes\n",
       "3    27.83   1.540            5       3      Yes\n",
       "4    20.17   5.625            0       0      Yes\n",
       "..     ...     ...          ...     ...      ...\n",
       "685  21.08  10.085            0       0       No\n",
       "686  22.67   0.750            2     394       No\n",
       "687  25.25  13.500            1       1       No\n",
       "688  17.92   0.205            0     750       No\n",
       "689  35.00   3.375            0       0       No\n",
       "\n",
       "[690 rows x 5 columns]"
      ]
     },
     "execution_count": 2,
     "metadata": {},
     "output_type": "execute_result"
    }
   ],
   "source": [
    "# load data from the original source on the web \n",
    "data = pd.read_csv('https://docs.google.com/spreadsheets/d/18Uxxd5YAfGLn4qWe5crLplKU19zPXPziaomAZLWpDyI/gviz/tq?tqx=out:csv&sheet=clean_dataset')\n",
    "\n",
    "# wrangling and cleaning the data from it's original (downloaded) format to the format necessary for our analysis\n",
    "data = data.drop('DriversLicense', axis=1)\n",
    "data = data.drop('Gender', axis=1)\n",
    "data = data.drop('Married', axis=1)\n",
    "data = data.drop('BankCustomer', axis=1)\n",
    "data = data.drop('Industry', axis=1)\n",
    "data = data.drop('Ethnicity', axis=1)\n",
    "data = data.drop('YearsEmployed', axis=1)\n",
    "data = data.drop('PriorDefault', axis=1)\n",
    "data = data.drop('Employed', axis=1)\n",
    "data = data.drop('Citizen', axis=1)\n",
    "data = data.drop('ZipCode', axis=1)\n",
    "data[\"Approved\"] = data[\"Approved\"].replace({\n",
    "     0 : \"No\",\n",
    "     1 : \"Yes\"\n",
    " })\n",
    "\n",
    "data"
   ]
  },
  {
   "cell_type": "markdown",
   "id": "cc4ffc49",
   "metadata": {},
   "source": [
    "Table 1. The dataset has been cleaned and wrangled to have only wanted columns. "
   ]
  },
  {
   "cell_type": "markdown",
   "id": "f2285af1",
   "metadata": {},
   "source": [
    "Our data was clean before I imported it. Still, because it contained variables we are not interested in working with, to wrangle our data, we dropped all columns except “Debt,” “Income,” “Age,” and “CreditScore.” These columns were selected because I believed that these columns would be the most crucial components when deciding on an applicant’s acceptance of a credit card. When making approvals, credit card companies are concerned with whether applicants will be able to repay the company or not. I felt that the variables that would best represent this quality were debt, income, age, and credit score. The credit score is also especially important because it examines the customer’s history of making payments on time."
   ]
  },
  {
   "cell_type": "code",
   "execution_count": 3,
   "id": "1bdc5ed7-0d50-4a53-846e-af80dd41a92a",
   "metadata": {
    "tags": []
   },
   "outputs": [
    {
     "data": {
      "text/html": [
       "<div>\n",
       "<style scoped>\n",
       "    .dataframe tbody tr th:only-of-type {\n",
       "        vertical-align: middle;\n",
       "    }\n",
       "\n",
       "    .dataframe tbody tr th {\n",
       "        vertical-align: top;\n",
       "    }\n",
       "\n",
       "    .dataframe thead th {\n",
       "        text-align: right;\n",
       "    }\n",
       "</style>\n",
       "<table border=\"1\" class=\"dataframe\">\n",
       "  <thead>\n",
       "    <tr style=\"text-align: right;\">\n",
       "      <th></th>\n",
       "      <th>Age</th>\n",
       "      <th>Debt</th>\n",
       "      <th>CreditScore</th>\n",
       "      <th>Income</th>\n",
       "      <th>Approved</th>\n",
       "    </tr>\n",
       "  </thead>\n",
       "  <tbody>\n",
       "    <tr>\n",
       "      <th>618</th>\n",
       "      <td>29.58</td>\n",
       "      <td>4.750</td>\n",
       "      <td>1</td>\n",
       "      <td>68</td>\n",
       "      <td>No</td>\n",
       "    </tr>\n",
       "    <tr>\n",
       "      <th>121</th>\n",
       "      <td>25.67</td>\n",
       "      <td>12.500</td>\n",
       "      <td>67</td>\n",
       "      <td>258</td>\n",
       "      <td>Yes</td>\n",
       "    </tr>\n",
       "    <tr>\n",
       "      <th>352</th>\n",
       "      <td>22.50</td>\n",
       "      <td>11.500</td>\n",
       "      <td>0</td>\n",
       "      <td>4000</td>\n",
       "      <td>No</td>\n",
       "    </tr>\n",
       "    <tr>\n",
       "      <th>210</th>\n",
       "      <td>39.33</td>\n",
       "      <td>5.875</td>\n",
       "      <td>14</td>\n",
       "      <td>0</td>\n",
       "      <td>Yes</td>\n",
       "    </tr>\n",
       "    <tr>\n",
       "      <th>299</th>\n",
       "      <td>22.17</td>\n",
       "      <td>12.125</td>\n",
       "      <td>2</td>\n",
       "      <td>173</td>\n",
       "      <td>No</td>\n",
       "    </tr>\n",
       "    <tr>\n",
       "      <th>...</th>\n",
       "      <td>...</td>\n",
       "      <td>...</td>\n",
       "      <td>...</td>\n",
       "      <td>...</td>\n",
       "      <td>...</td>\n",
       "    </tr>\n",
       "    <tr>\n",
       "      <th>98</th>\n",
       "      <td>22.50</td>\n",
       "      <td>11.000</td>\n",
       "      <td>0</td>\n",
       "      <td>0</td>\n",
       "      <td>No</td>\n",
       "    </tr>\n",
       "    <tr>\n",
       "      <th>322</th>\n",
       "      <td>33.67</td>\n",
       "      <td>0.375</td>\n",
       "      <td>0</td>\n",
       "      <td>44</td>\n",
       "      <td>Yes</td>\n",
       "    </tr>\n",
       "    <tr>\n",
       "      <th>382</th>\n",
       "      <td>24.33</td>\n",
       "      <td>2.500</td>\n",
       "      <td>0</td>\n",
       "      <td>456</td>\n",
       "      <td>No</td>\n",
       "    </tr>\n",
       "    <tr>\n",
       "      <th>365</th>\n",
       "      <td>42.83</td>\n",
       "      <td>1.250</td>\n",
       "      <td>1</td>\n",
       "      <td>112</td>\n",
       "      <td>No</td>\n",
       "    </tr>\n",
       "    <tr>\n",
       "      <th>510</th>\n",
       "      <td>13.75</td>\n",
       "      <td>4.000</td>\n",
       "      <td>2</td>\n",
       "      <td>1000</td>\n",
       "      <td>Yes</td>\n",
       "    </tr>\n",
       "  </tbody>\n",
       "</table>\n",
       "<p>517 rows × 5 columns</p>\n",
       "</div>"
      ],
      "text/plain": [
       "       Age    Debt  CreditScore  Income Approved\n",
       "618  29.58   4.750            1      68       No\n",
       "121  25.67  12.500           67     258      Yes\n",
       "352  22.50  11.500            0    4000       No\n",
       "210  39.33   5.875           14       0      Yes\n",
       "299  22.17  12.125            2     173       No\n",
       "..     ...     ...          ...     ...      ...\n",
       "98   22.50  11.000            0       0       No\n",
       "322  33.67   0.375            0      44      Yes\n",
       "382  24.33   2.500            0     456       No\n",
       "365  42.83   1.250            1     112       No\n",
       "510  13.75   4.000            2    1000      Yes\n",
       "\n",
       "[517 rows x 5 columns]"
      ]
     },
     "execution_count": 3,
     "metadata": {},
     "output_type": "execute_result"
    }
   ],
   "source": [
    "data_train, data_test = train_test_split(data, test_size=0.25, random_state=123)\n",
    "data_train"
   ]
  },
  {
   "cell_type": "markdown",
   "id": "41269f7c",
   "metadata": {},
   "source": [
    "Table 2. Training dataset"
   ]
  },
  {
   "cell_type": "markdown",
   "id": "faf9c61f",
   "metadata": {},
   "source": [
    "To conduct preliminary summary statistics on our data, I used the info() function to see the number of columns, column names, non-null count, and Dtype in our dataset, naming this data_summary_info. Next, we used the describe() function to see the count, mean, std, and other summary statistics of the columns in our data, naming this data_summary_description. Lastly, I created a data frame called data_summary_means to store our mean values for the number of “yes” and “no” values in the “approved” column. I stored these mean values in columns named “approved” and “not approved” for the mean of “yes” and “no” values, respectively, in our new data frame. "
   ]
  },
  {
   "cell_type": "code",
   "execution_count": 4,
   "id": "01877c02",
   "metadata": {},
   "outputs": [
    {
     "name": "stdout",
     "output_type": "stream",
     "text": [
      "<class 'pandas.core.frame.DataFrame'>\n",
      "Index: 517 entries, 618 to 510\n",
      "Data columns (total 5 columns):\n",
      " #   Column       Non-Null Count  Dtype  \n",
      "---  ------       --------------  -----  \n",
      " 0   Age          517 non-null    float64\n",
      " 1   Debt         517 non-null    float64\n",
      " 2   CreditScore  517 non-null    int64  \n",
      " 3   Income       517 non-null    int64  \n",
      " 4   Approved     517 non-null    object \n",
      "dtypes: float64(2), int64(2), object(1)\n",
      "memory usage: 24.2+ KB\n"
     ]
    }
   ],
   "source": [
    "data_summary_info = data_train.info()\n",
    "data_summary_info"
   ]
  },
  {
   "cell_type": "markdown",
   "id": "b9d1b89d",
   "metadata": {},
   "source": [
    "Table 3. Data summary information."
   ]
  },
  {
   "cell_type": "code",
   "execution_count": 5,
   "id": "abdfa6d5",
   "metadata": {},
   "outputs": [
    {
     "data": {
      "text/html": [
       "<div>\n",
       "<style scoped>\n",
       "    .dataframe tbody tr th:only-of-type {\n",
       "        vertical-align: middle;\n",
       "    }\n",
       "\n",
       "    .dataframe tbody tr th {\n",
       "        vertical-align: top;\n",
       "    }\n",
       "\n",
       "    .dataframe thead th {\n",
       "        text-align: right;\n",
       "    }\n",
       "</style>\n",
       "<table border=\"1\" class=\"dataframe\">\n",
       "  <thead>\n",
       "    <tr style=\"text-align: right;\">\n",
       "      <th></th>\n",
       "      <th>Age</th>\n",
       "      <th>Debt</th>\n",
       "      <th>CreditScore</th>\n",
       "      <th>Income</th>\n",
       "    </tr>\n",
       "  </thead>\n",
       "  <tbody>\n",
       "    <tr>\n",
       "      <th>count</th>\n",
       "      <td>517.000000</td>\n",
       "      <td>517.000000</td>\n",
       "      <td>517.000000</td>\n",
       "      <td>517.000000</td>\n",
       "    </tr>\n",
       "    <tr>\n",
       "      <th>mean</th>\n",
       "      <td>31.539110</td>\n",
       "      <td>4.573714</td>\n",
       "      <td>2.537718</td>\n",
       "      <td>884.789168</td>\n",
       "    </tr>\n",
       "    <tr>\n",
       "      <th>std</th>\n",
       "      <td>11.737083</td>\n",
       "      <td>4.889537</td>\n",
       "      <td>5.190651</td>\n",
       "      <td>3395.134308</td>\n",
       "    </tr>\n",
       "    <tr>\n",
       "      <th>min</th>\n",
       "      <td>13.750000</td>\n",
       "      <td>0.000000</td>\n",
       "      <td>0.000000</td>\n",
       "      <td>0.000000</td>\n",
       "    </tr>\n",
       "    <tr>\n",
       "      <th>25%</th>\n",
       "      <td>22.920000</td>\n",
       "      <td>0.875000</td>\n",
       "      <td>0.000000</td>\n",
       "      <td>0.000000</td>\n",
       "    </tr>\n",
       "    <tr>\n",
       "      <th>50%</th>\n",
       "      <td>28.460000</td>\n",
       "      <td>2.710000</td>\n",
       "      <td>0.000000</td>\n",
       "      <td>4.000000</td>\n",
       "    </tr>\n",
       "    <tr>\n",
       "      <th>75%</th>\n",
       "      <td>37.330000</td>\n",
       "      <td>6.665000</td>\n",
       "      <td>3.000000</td>\n",
       "      <td>458.000000</td>\n",
       "    </tr>\n",
       "    <tr>\n",
       "      <th>max</th>\n",
       "      <td>80.250000</td>\n",
       "      <td>28.000000</td>\n",
       "      <td>67.000000</td>\n",
       "      <td>50000.000000</td>\n",
       "    </tr>\n",
       "  </tbody>\n",
       "</table>\n",
       "</div>"
      ],
      "text/plain": [
       "              Age        Debt  CreditScore        Income\n",
       "count  517.000000  517.000000   517.000000    517.000000\n",
       "mean    31.539110    4.573714     2.537718    884.789168\n",
       "std     11.737083    4.889537     5.190651   3395.134308\n",
       "min     13.750000    0.000000     0.000000      0.000000\n",
       "25%     22.920000    0.875000     0.000000      0.000000\n",
       "50%     28.460000    2.710000     0.000000      4.000000\n",
       "75%     37.330000    6.665000     3.000000    458.000000\n",
       "max     80.250000   28.000000    67.000000  50000.000000"
      ]
     },
     "execution_count": 5,
     "metadata": {},
     "output_type": "execute_result"
    }
   ],
   "source": [
    "data_summary_description = data_train.describe()\n",
    "data_summary_description"
   ]
  },
  {
   "cell_type": "markdown",
   "id": "d5301284",
   "metadata": {},
   "source": [
    "Table 4. Data summary description."
   ]
  },
  {
   "cell_type": "code",
   "execution_count": 6,
   "id": "9d0d647e-9663-4428-abc5-012ec5556db7",
   "metadata": {
    "tags": []
   },
   "outputs": [
    {
     "data": {
      "text/html": [
       "<div>\n",
       "<style scoped>\n",
       "    .dataframe tbody tr th:only-of-type {\n",
       "        vertical-align: middle;\n",
       "    }\n",
       "\n",
       "    .dataframe tbody tr th {\n",
       "        vertical-align: top;\n",
       "    }\n",
       "\n",
       "    .dataframe thead th {\n",
       "        text-align: right;\n",
       "    }\n",
       "</style>\n",
       "<table border=\"1\" class=\"dataframe\">\n",
       "  <thead>\n",
       "    <tr style=\"text-align: right;\">\n",
       "      <th></th>\n",
       "      <th>Approved</th>\n",
       "      <th>Not Approved</th>\n",
       "    </tr>\n",
       "  </thead>\n",
       "  <tbody>\n",
       "    <tr>\n",
       "      <th>Age</th>\n",
       "      <td>33.686221</td>\n",
       "      <td>29.773029</td>\n",
       "    </tr>\n",
       "    <tr>\n",
       "      <th>Debt</th>\n",
       "      <td>5.904951</td>\n",
       "      <td>3.839948</td>\n",
       "    </tr>\n",
       "    <tr>\n",
       "      <th>CreditScore</th>\n",
       "      <td>4.605863</td>\n",
       "      <td>0.631854</td>\n",
       "    </tr>\n",
       "    <tr>\n",
       "      <th>Income</th>\n",
       "      <td>2038.859935</td>\n",
       "      <td>198.605744</td>\n",
       "    </tr>\n",
       "  </tbody>\n",
       "</table>\n",
       "</div>"
      ],
      "text/plain": [
       "                Approved  Not Approved\n",
       "Age            33.686221     29.773029\n",
       "Debt            5.904951      3.839948\n",
       "CreditScore     4.605863      0.631854\n",
       "Income       2038.859935    198.605744"
      ]
     },
     "execution_count": 6,
     "metadata": {},
     "output_type": "execute_result"
    }
   ],
   "source": [
    "data_summary_means = pd.DataFrame()\n",
    "data_summary_means['Approved'] = (data[data['Approved'] == 'Yes'].mean(numeric_only=True))\n",
    "data_summary_means['Not Approved'] = (data[data['Approved'] == 'No'].mean(numeric_only=True))\n",
    "data_summary_means"
   ]
  },
  {
   "cell_type": "markdown",
   "id": "d47f31f8",
   "metadata": {},
   "source": [
    "Table 5. Data summary means."
   ]
  },
  {
   "cell_type": "markdown",
   "id": "acfe0ac4",
   "metadata": {},
   "source": [
    "I used the altair package to create all of our visualizations, using the mark_point() function for scatter plots and mark_bar() for histograms.\n",
    "\n",
    "To explore the relationships in our preliminary data, I first created histograms, faceting whether the observation was approved or not. This allowed us to understand the distribution of the data and which values of our variables had a lot of approvals or non-approvals. Looking at these histograms, credit score had the biggest impact on approvals. Keeping this in mind, I focused our other visualizations, mainly scatter plots, on the relationships between Credit Score and our other predictive variables (debt, income, and age). "
   ]
  },
  {
   "cell_type": "code",
   "execution_count": 7,
   "id": "4412a69e-a57f-4a1c-9f34-5e87f90eb42a",
   "metadata": {
    "tags": []
   },
   "outputs": [
    {
     "data": {
      "text/html": [
       "\n",
       "<style>\n",
       "  #altair-viz-adf755d72aa24f13b34cc3fb7587d4c7.vega-embed {\n",
       "    width: 100%;\n",
       "    display: flex;\n",
       "  }\n",
       "\n",
       "  #altair-viz-adf755d72aa24f13b34cc3fb7587d4c7.vega-embed details,\n",
       "  #altair-viz-adf755d72aa24f13b34cc3fb7587d4c7.vega-embed details summary {\n",
       "    position: relative;\n",
       "  }\n",
       "</style>\n",
       "<div id=\"altair-viz-adf755d72aa24f13b34cc3fb7587d4c7\"></div>\n",
       "<script type=\"text/javascript\">\n",
       "  var VEGA_DEBUG = (typeof VEGA_DEBUG == \"undefined\") ? {} : VEGA_DEBUG;\n",
       "  (function(spec, embedOpt){\n",
       "    let outputDiv = document.currentScript.previousElementSibling;\n",
       "    if (outputDiv.id !== \"altair-viz-adf755d72aa24f13b34cc3fb7587d4c7\") {\n",
       "      outputDiv = document.getElementById(\"altair-viz-adf755d72aa24f13b34cc3fb7587d4c7\");\n",
       "    }\n",
       "    const paths = {\n",
       "      \"vega\": \"https://cdn.jsdelivr.net/npm/vega@5?noext\",\n",
       "      \"vega-lib\": \"https://cdn.jsdelivr.net/npm/vega-lib?noext\",\n",
       "      \"vega-lite\": \"https://cdn.jsdelivr.net/npm/vega-lite@5.15.1?noext\",\n",
       "      \"vega-embed\": \"https://cdn.jsdelivr.net/npm/vega-embed@6?noext\",\n",
       "    };\n",
       "\n",
       "    function maybeLoadScript(lib, version) {\n",
       "      var key = `${lib.replace(\"-\", \"\")}_version`;\n",
       "      return (VEGA_DEBUG[key] == version) ?\n",
       "        Promise.resolve(paths[lib]) :\n",
       "        new Promise(function(resolve, reject) {\n",
       "          var s = document.createElement('script');\n",
       "          document.getElementsByTagName(\"head\")[0].appendChild(s);\n",
       "          s.async = true;\n",
       "          s.onload = () => {\n",
       "            VEGA_DEBUG[key] = version;\n",
       "            return resolve(paths[lib]);\n",
       "          };\n",
       "          s.onerror = () => reject(`Error loading script: ${paths[lib]}`);\n",
       "          s.src = paths[lib];\n",
       "        });\n",
       "    }\n",
       "\n",
       "    function showError(err) {\n",
       "      outputDiv.innerHTML = `<div class=\"error\" style=\"color:red;\">${err}</div>`;\n",
       "      throw err;\n",
       "    }\n",
       "\n",
       "    function displayChart(vegaEmbed) {\n",
       "      vegaEmbed(outputDiv, spec, embedOpt)\n",
       "        .catch(err => showError(`Javascript Error: ${err.message}<br>This usually means there's a typo in your chart specification. See the javascript console for the full traceback.`));\n",
       "    }\n",
       "\n",
       "    if(typeof define === \"function\" && define.amd) {\n",
       "      requirejs.config({paths});\n",
       "      require([\"vega-embed\"], displayChart, err => showError(`Error loading script: ${err.message}`));\n",
       "    } else {\n",
       "      maybeLoadScript(\"vega\", \"5\")\n",
       "        .then(() => maybeLoadScript(\"vega-lite\", \"5.15.1\"))\n",
       "        .then(() => maybeLoadScript(\"vega-embed\", \"6\"))\n",
       "        .catch(showError)\n",
       "        .then(() => displayChart(vegaEmbed));\n",
       "    }\n",
       "  })({\"config\": {\"view\": {\"continuousWidth\": 300, \"continuousHeight\": 300}}, \"data\": {\"name\": \"data-9b2ed57830432ad344c2b937c9697da2\"}, \"facet\": {\"field\": \"Approved\", \"type\": \"nominal\"}, \"spec\": {\"mark\": {\"type\": \"bar\"}, \"encoding\": {\"color\": {\"field\": \"Approved\", \"type\": \"nominal\"}, \"x\": {\"bin\": {\"maxbins\": 30}, \"field\": \"CreditScore\", \"scale\": {\"domain\": [0, 40], \"clamp\": true}, \"type\": \"quantitative\"}, \"y\": {\"aggregate\": \"count\", \"type\": \"quantitative\"}}, \"height\": 100}, \"$schema\": \"https://vega.github.io/schema/vega-lite/v5.15.1.json\", \"datasets\": {\"data-9b2ed57830432ad344c2b937c9697da2\": [{\"Age\": 29.58, \"Debt\": 4.75, \"CreditScore\": 1, \"Income\": 68, \"Approved\": \"No\"}, {\"Age\": 25.67, \"Debt\": 12.5, \"CreditScore\": 67, \"Income\": 258, \"Approved\": \"Yes\"}, {\"Age\": 22.5, \"Debt\": 11.5, \"CreditScore\": 0, \"Income\": 4000, \"Approved\": \"No\"}, {\"Age\": 39.33, \"Debt\": 5.875, \"CreditScore\": 14, \"Income\": 0, \"Approved\": \"Yes\"}, {\"Age\": 22.17, \"Debt\": 12.125, \"CreditScore\": 2, \"Income\": 173, \"Approved\": \"No\"}, {\"Age\": 47.75, \"Debt\": 8.0, \"CreditScore\": 6, \"Income\": 1260, \"Approved\": \"Yes\"}, {\"Age\": 18.83, \"Debt\": 3.54, \"CreditScore\": 0, \"Income\": 1, \"Approved\": \"No\"}, {\"Age\": 32.83, \"Debt\": 2.5, \"CreditScore\": 6, \"Income\": 2072, \"Approved\": \"Yes\"}, {\"Age\": 34.83, \"Debt\": 2.5, \"CreditScore\": 0, \"Income\": 0, \"Approved\": \"No\"}, {\"Age\": 65.42, \"Debt\": 11.0, \"CreditScore\": 7, \"Income\": 0, \"Approved\": \"Yes\"}, {\"Age\": 18.58, \"Debt\": 5.71, \"CreditScore\": 0, \"Income\": 0, \"Approved\": \"No\"}, {\"Age\": 24.08, \"Debt\": 0.5, \"CreditScore\": 1, \"Income\": 678, \"Approved\": \"Yes\"}, {\"Age\": 32.0, \"Debt\": 6.0, \"CreditScore\": 0, \"Income\": 0, \"Approved\": \"No\"}, {\"Age\": 43.0, \"Debt\": 0.29, \"CreditScore\": 8, \"Income\": 375, \"Approved\": \"Yes\"}, {\"Age\": 24.58, \"Debt\": 1.25, \"CreditScore\": 0, \"Income\": 0, \"Approved\": \"No\"}, {\"Age\": 27.25, \"Debt\": 1.585, \"CreditScore\": 12, \"Income\": 713, \"Approved\": \"Yes\"}, {\"Age\": 54.33, \"Debt\": 6.75, \"CreditScore\": 11, \"Income\": 284, \"Approved\": \"Yes\"}, {\"Age\": 43.08, \"Debt\": 0.375, \"CreditScore\": 8, \"Income\": 162, \"Approved\": \"Yes\"}, {\"Age\": 29.5, \"Debt\": 2.0, \"CreditScore\": 0, \"Income\": 17, \"Approved\": \"No\"}, {\"Age\": 28.5, \"Debt\": 3.04, \"CreditScore\": 1, \"Income\": 0, \"Approved\": \"Yes\"}, {\"Age\": 28.92, \"Debt\": 15.0, \"CreditScore\": 11, \"Income\": 2283, \"Approved\": \"Yes\"}, {\"Age\": 22.08, \"Debt\": 2.335, \"CreditScore\": 0, \"Income\": 0, \"Approved\": \"No\"}, {\"Age\": 47.0, \"Debt\": 13.0, \"CreditScore\": 9, \"Income\": 0, \"Approved\": \"Yes\"}, {\"Age\": 26.83, \"Debt\": 0.54, \"CreditScore\": 0, \"Income\": 0, \"Approved\": \"No\"}, {\"Age\": 21.17, \"Debt\": 0.0, \"CreditScore\": 0, \"Income\": 0, \"Approved\": \"No\"}, {\"Age\": 20.42, \"Debt\": 0.835, \"CreditScore\": 1, \"Income\": 0, \"Approved\": \"Yes\"}, {\"Age\": 22.58, \"Debt\": 10.75, \"CreditScore\": 5, \"Income\": 560, \"Approved\": \"Yes\"}, {\"Age\": 36.75, \"Debt\": 5.125, \"CreditScore\": 0, \"Income\": 4000, \"Approved\": \"Yes\"}, {\"Age\": 19.17, \"Debt\": 5.415, \"CreditScore\": 0, \"Income\": 484, \"Approved\": \"No\"}, {\"Age\": 53.33, \"Debt\": 0.165, \"CreditScore\": 0, \"Income\": 27, \"Approved\": \"No\"}, {\"Age\": 22.67, \"Debt\": 2.54, \"CreditScore\": 0, \"Income\": 0, \"Approved\": \"Yes\"}, {\"Age\": 57.83, \"Debt\": 7.04, \"CreditScore\": 6, \"Income\": 1332, \"Approved\": \"Yes\"}, {\"Age\": 36.67, \"Debt\": 4.415, \"CreditScore\": 10, \"Income\": 0, \"Approved\": \"Yes\"}, {\"Age\": 29.67, \"Debt\": 1.415, \"CreditScore\": 1, \"Income\": 100, \"Approved\": \"Yes\"}, {\"Age\": 16.08, \"Debt\": 0.335, \"CreditScore\": 1, \"Income\": 126, \"Approved\": \"No\"}, {\"Age\": 17.58, \"Debt\": 10.0, \"CreditScore\": 1, \"Income\": 1, \"Approved\": \"No\"}, {\"Age\": 41.33, \"Debt\": 0.0, \"CreditScore\": 0, \"Income\": 0, \"Approved\": \"Yes\"}, {\"Age\": 22.67, \"Debt\": 10.5, \"CreditScore\": 0, \"Income\": 0, \"Approved\": \"Yes\"}, {\"Age\": 18.92, \"Debt\": 9.0, \"CreditScore\": 2, \"Income\": 591, \"Approved\": \"Yes\"}, {\"Age\": 32.17, \"Debt\": 1.46, \"CreditScore\": 16, \"Income\": 2079, \"Approved\": \"Yes\"}, {\"Age\": 27.75, \"Debt\": 1.29, \"CreditScore\": 0, \"Income\": 0, \"Approved\": \"No\"}, {\"Age\": 24.5, \"Debt\": 13.335, \"CreditScore\": 0, \"Income\": 475, \"Approved\": \"No\"}, {\"Age\": 52.33, \"Debt\": 1.375, \"CreditScore\": 0, \"Income\": 100, \"Approved\": \"No\"}, {\"Age\": 18.0, \"Debt\": 0.165, \"CreditScore\": 0, \"Income\": 40, \"Approved\": \"Yes\"}, {\"Age\": 23.33, \"Debt\": 11.625, \"CreditScore\": 0, \"Income\": 300, \"Approved\": \"Yes\"}, {\"Age\": 21.75, \"Debt\": 11.75, \"CreditScore\": 0, \"Income\": 0, \"Approved\": \"No\"}, {\"Age\": 39.42, \"Debt\": 1.71, \"CreditScore\": 0, \"Income\": 0, \"Approved\": \"No\"}, {\"Age\": 20.08, \"Debt\": 0.25, \"CreditScore\": 0, \"Income\": 0, \"Approved\": \"No\"}, {\"Age\": 39.25, \"Debt\": 9.5, \"CreditScore\": 14, \"Income\": 4607, \"Approved\": \"Yes\"}, {\"Age\": 37.75, \"Debt\": 7.0, \"CreditScore\": 7, \"Income\": 5, \"Approved\": \"No\"}, {\"Age\": 51.92, \"Debt\": 6.5, \"CreditScore\": 0, \"Income\": 0, \"Approved\": \"No\"}, {\"Age\": 21.83, \"Debt\": 11.0, \"CreditScore\": 6, \"Income\": 0, \"Approved\": \"Yes\"}, {\"Age\": 28.33, \"Debt\": 5.0, \"CreditScore\": 0, \"Income\": 0, \"Approved\": \"Yes\"}, {\"Age\": 27.83, \"Debt\": 1.0, \"CreditScore\": 0, \"Income\": 537, \"Approved\": \"No\"}, {\"Age\": 28.46, \"Debt\": 4.0, \"CreditScore\": 0, \"Income\": 0, \"Approved\": \"No\"}, {\"Age\": 29.42, \"Debt\": 1.25, \"CreditScore\": 2, \"Income\": 108, \"Approved\": \"No\"}, {\"Age\": 52.5, \"Debt\": 7.0, \"CreditScore\": 0, \"Income\": 0, \"Approved\": \"No\"}, {\"Age\": 21.83, \"Debt\": 0.25, \"CreditScore\": 0, \"Income\": 0, \"Approved\": \"Yes\"}, {\"Age\": 20.0, \"Debt\": 7.0, \"CreditScore\": 0, \"Income\": 0, \"Approved\": \"No\"}, {\"Age\": 57.58, \"Debt\": 2.0, \"CreditScore\": 1, \"Income\": 10, \"Approved\": \"No\"}, {\"Age\": 29.25, \"Debt\": 14.79, \"CreditScore\": 5, \"Income\": 0, \"Approved\": \"Yes\"}, {\"Age\": 40.92, \"Debt\": 0.835, \"CreditScore\": 0, \"Income\": 1, \"Approved\": \"No\"}, {\"Age\": 30.83, \"Debt\": 0.0, \"CreditScore\": 1, \"Income\": 0, \"Approved\": \"Yes\"}, {\"Age\": 38.58, \"Debt\": 5.0, \"CreditScore\": 0, \"Income\": 0, \"Approved\": \"No\"}, {\"Age\": 24.83, \"Debt\": 4.5, \"CreditScore\": 0, \"Income\": 6, \"Approved\": \"No\"}, {\"Age\": 25.75, \"Debt\": 0.5, \"CreditScore\": 5, \"Income\": 0, \"Approved\": \"Yes\"}, {\"Age\": 21.17, \"Debt\": 0.875, \"CreditScore\": 0, \"Income\": 204, \"Approved\": \"No\"}, {\"Age\": 16.92, \"Debt\": 0.335, \"CreditScore\": 0, \"Income\": 0, \"Approved\": \"No\"}, {\"Age\": 32.75, \"Debt\": 2.335, \"CreditScore\": 0, \"Income\": 0, \"Approved\": \"No\"}, {\"Age\": 60.08, \"Debt\": 14.5, \"CreditScore\": 15, \"Income\": 1000, \"Approved\": \"Yes\"}, {\"Age\": 34.08, \"Debt\": 2.5, \"CreditScore\": 0, \"Income\": 16, \"Approved\": \"No\"}, {\"Age\": 18.42, \"Debt\": 9.25, \"CreditScore\": 4, \"Income\": 540, \"Approved\": \"Yes\"}, {\"Age\": 35.58, \"Debt\": 0.75, \"CreditScore\": 0, \"Income\": 0, \"Approved\": \"No\"}, {\"Age\": 22.5, \"Debt\": 0.125, \"CreditScore\": 0, \"Income\": 70, \"Approved\": \"No\"}, {\"Age\": 21.33, \"Debt\": 10.5, \"CreditScore\": 0, \"Income\": 0, \"Approved\": \"Yes\"}, {\"Age\": 21.75, \"Debt\": 1.75, \"CreditScore\": 0, \"Income\": 0, \"Approved\": \"No\"}, {\"Age\": 57.08, \"Debt\": 0.335, \"CreditScore\": 0, \"Income\": 2197, \"Approved\": \"No\"}, {\"Age\": 44.83, \"Debt\": 7.0, \"CreditScore\": 0, \"Income\": 2, \"Approved\": \"No\"}, {\"Age\": 20.42, \"Debt\": 10.5, \"CreditScore\": 0, \"Income\": 32, \"Approved\": \"No\"}, {\"Age\": 22.25, \"Debt\": 0.46, \"CreditScore\": 0, \"Income\": 55, \"Approved\": \"No\"}, {\"Age\": 41.17, \"Debt\": 6.5, \"CreditScore\": 3, \"Income\": 0, \"Approved\": \"Yes\"}, {\"Age\": 22.67, \"Debt\": 0.335, \"CreditScore\": 0, \"Income\": 0, \"Approved\": \"No\"}, {\"Age\": 40.83, \"Debt\": 3.5, \"CreditScore\": 0, \"Income\": 0, \"Approved\": \"No\"}, {\"Age\": 22.58, \"Debt\": 10.04, \"CreditScore\": 9, \"Income\": 396, \"Approved\": \"Yes\"}, {\"Age\": 35.42, \"Debt\": 12.0, \"CreditScore\": 8, \"Income\": 6590, \"Approved\": \"Yes\"}, {\"Age\": 28.46, \"Debt\": 4.0, \"CreditScore\": 3, \"Income\": 2279, \"Approved\": \"Yes\"}, {\"Age\": 18.17, \"Debt\": 2.46, \"CreditScore\": 2, \"Income\": 587, \"Approved\": \"No\"}, {\"Age\": 26.75, \"Debt\": 4.5, \"CreditScore\": 0, \"Income\": 1210, \"Approved\": \"No\"}, {\"Age\": 31.83, \"Debt\": 0.04, \"CreditScore\": 0, \"Income\": 0, \"Approved\": \"No\"}, {\"Age\": 34.58, \"Debt\": 0.0, \"CreditScore\": 0, \"Income\": 0, \"Approved\": \"No\"}, {\"Age\": 21.0, \"Debt\": 4.79, \"CreditScore\": 1, \"Income\": 300, \"Approved\": \"Yes\"}, {\"Age\": 45.0, \"Debt\": 4.585, \"CreditScore\": 0, \"Income\": 0, \"Approved\": \"No\"}, {\"Age\": 45.17, \"Debt\": 1.5, \"CreditScore\": 0, \"Income\": 0, \"Approved\": \"No\"}, {\"Age\": 21.5, \"Debt\": 6.0, \"CreditScore\": 3, \"Income\": 918, \"Approved\": \"Yes\"}, {\"Age\": 30.5, \"Debt\": 6.5, \"CreditScore\": 7, \"Income\": 3065, \"Approved\": \"Yes\"}, {\"Age\": 33.0, \"Debt\": 2.5, \"CreditScore\": 0, \"Income\": 0, \"Approved\": \"No\"}, {\"Age\": 73.42, \"Debt\": 17.75, \"CreditScore\": 0, \"Income\": 0, \"Approved\": \"Yes\"}, {\"Age\": 54.83, \"Debt\": 15.5, \"CreditScore\": 20, \"Income\": 130, \"Approved\": \"No\"}, {\"Age\": 32.42, \"Debt\": 2.165, \"CreditScore\": 0, \"Income\": 0, \"Approved\": \"No\"}, {\"Age\": 20.67, \"Debt\": 1.25, \"CreditScore\": 3, \"Income\": 210, \"Approved\": \"No\"}, {\"Age\": 58.42, \"Debt\": 21.0, \"CreditScore\": 13, \"Income\": 6700, \"Approved\": \"Yes\"}, {\"Age\": 26.75, \"Debt\": 1.125, \"CreditScore\": 0, \"Income\": 5298, \"Approved\": \"Yes\"}, {\"Age\": 23.42, \"Debt\": 1.0, \"CreditScore\": 0, \"Income\": 0, \"Approved\": \"No\"}, {\"Age\": 23.92, \"Debt\": 0.665, \"CreditScore\": 0, \"Income\": 0, \"Approved\": \"Yes\"}, {\"Age\": 18.75, \"Debt\": 7.5, \"CreditScore\": 5, \"Income\": 26726, \"Approved\": \"Yes\"}, {\"Age\": 23.58, \"Debt\": 1.79, \"CreditScore\": 0, \"Income\": 1, \"Approved\": \"No\"}, {\"Age\": 20.17, \"Debt\": 8.17, \"CreditScore\": 14, \"Income\": 158, \"Approved\": \"Yes\"}, {\"Age\": 41.33, \"Debt\": 1.0, \"CreditScore\": 0, \"Income\": 300, \"Approved\": \"Yes\"}, {\"Age\": 68.67, \"Debt\": 15.0, \"CreditScore\": 14, \"Income\": 3376, \"Approved\": \"Yes\"}, {\"Age\": 47.42, \"Debt\": 3.0, \"CreditScore\": 2, \"Income\": 1704, \"Approved\": \"Yes\"}, {\"Age\": 22.67, \"Debt\": 0.165, \"CreditScore\": 0, \"Income\": 0, \"Approved\": \"Yes\"}, {\"Age\": 25.58, \"Debt\": 0.0, \"CreditScore\": 0, \"Income\": 0, \"Approved\": \"Yes\"}, {\"Age\": 28.08, \"Debt\": 15.0, \"CreditScore\": 0, \"Income\": 13212, \"Approved\": \"Yes\"}, {\"Age\": 16.17, \"Debt\": 0.04, \"CreditScore\": 0, \"Income\": 0, \"Approved\": \"Yes\"}, {\"Age\": 38.58, \"Debt\": 3.335, \"CreditScore\": 14, \"Income\": 1344, \"Approved\": \"Yes\"}, {\"Age\": 33.25, \"Debt\": 3.0, \"CreditScore\": 0, \"Income\": 0, \"Approved\": \"No\"}, {\"Age\": 51.83, \"Debt\": 3.0, \"CreditScore\": 0, \"Income\": 4, \"Approved\": \"No\"}, {\"Age\": 26.5, \"Debt\": 2.71, \"CreditScore\": 0, \"Income\": 0, \"Approved\": \"No\"}, {\"Age\": 36.33, \"Debt\": 2.125, \"CreditScore\": 1, \"Income\": 1187, \"Approved\": \"Yes\"}, {\"Age\": 34.92, \"Debt\": 5.0, \"CreditScore\": 6, \"Income\": 1000, \"Approved\": \"Yes\"}, {\"Age\": 27.0, \"Debt\": 1.5, \"CreditScore\": 0, \"Income\": 1065, \"Approved\": \"Yes\"}, {\"Age\": 23.75, \"Debt\": 0.415, \"CreditScore\": 2, \"Income\": 6, \"Approved\": \"No\"}, {\"Age\": 16.0, \"Debt\": 3.125, \"CreditScore\": 1, \"Income\": 6, \"Approved\": \"No\"}, {\"Age\": 19.58, \"Debt\": 0.585, \"CreditScore\": 3, \"Income\": 769, \"Approved\": \"No\"}, {\"Age\": 29.17, \"Debt\": 3.5, \"CreditScore\": 3, \"Income\": 0, \"Approved\": \"No\"}, {\"Age\": 28.58, \"Debt\": 3.54, \"CreditScore\": 0, \"Income\": 0, \"Approved\": \"No\"}, {\"Age\": 20.33, \"Debt\": 10.0, \"CreditScore\": 4, \"Income\": 1465, \"Approved\": \"Yes\"}, {\"Age\": 25.0, \"Debt\": 11.25, \"CreditScore\": 17, \"Income\": 1208, \"Approved\": \"Yes\"}, {\"Age\": 32.67, \"Debt\": 9.0, \"CreditScore\": 0, \"Income\": 0, \"Approved\": \"Yes\"}, {\"Age\": 38.92, \"Debt\": 1.665, \"CreditScore\": 0, \"Income\": 390, \"Approved\": \"No\"}, {\"Age\": 22.83, \"Debt\": 3.0, \"CreditScore\": 1, \"Income\": 800, \"Approved\": \"Yes\"}, {\"Age\": 18.17, \"Debt\": 10.0, \"CreditScore\": 0, \"Income\": 0, \"Approved\": \"No\"}, {\"Age\": 29.58, \"Debt\": 4.5, \"CreditScore\": 2, \"Income\": 0, \"Approved\": \"Yes\"}, {\"Age\": 23.25, \"Debt\": 12.625, \"CreditScore\": 2, \"Income\": 5552, \"Approved\": \"No\"}, {\"Age\": 18.58, \"Debt\": 10.0, \"CreditScore\": 0, \"Income\": 42, \"Approved\": \"No\"}, {\"Age\": 20.0, \"Debt\": 11.045, \"CreditScore\": 0, \"Income\": 0, \"Approved\": \"No\"}, {\"Age\": 22.42, \"Debt\": 5.665, \"CreditScore\": 7, \"Income\": 3257, \"Approved\": \"Yes\"}, {\"Age\": 31.83, \"Debt\": 2.5, \"CreditScore\": 0, \"Income\": 0, \"Approved\": \"No\"}, {\"Age\": 24.33, \"Debt\": 6.625, \"CreditScore\": 0, \"Income\": 0, \"Approved\": \"Yes\"}, {\"Age\": 21.92, \"Debt\": 11.665, \"CreditScore\": 0, \"Income\": 5, \"Approved\": \"No\"}, {\"Age\": 36.58, \"Debt\": 0.29, \"CreditScore\": 10, \"Income\": 18, \"Approved\": \"No\"}, {\"Age\": 25.67, \"Debt\": 3.25, \"CreditScore\": 1, \"Income\": 21, \"Approved\": \"No\"}, {\"Age\": 42.0, \"Debt\": 0.205, \"CreditScore\": 0, \"Income\": 0, \"Approved\": \"Yes\"}, {\"Age\": 19.58, \"Debt\": 0.665, \"CreditScore\": 0, \"Income\": 5, \"Approved\": \"No\"}, {\"Age\": 36.33, \"Debt\": 3.79, \"CreditScore\": 0, \"Income\": 0, \"Approved\": \"No\"}, {\"Age\": 33.17, \"Debt\": 1.0, \"CreditScore\": 7, \"Income\": 4071, \"Approved\": \"Yes\"}, {\"Age\": 30.17, \"Debt\": 6.5, \"CreditScore\": 8, \"Income\": 1200, \"Approved\": \"Yes\"}, {\"Age\": 56.58, \"Debt\": 18.5, \"CreditScore\": 17, \"Income\": 0, \"Approved\": \"Yes\"}, {\"Age\": 63.33, \"Debt\": 0.54, \"CreditScore\": 3, \"Income\": 0, \"Approved\": \"No\"}, {\"Age\": 41.17, \"Debt\": 4.04, \"CreditScore\": 8, \"Income\": 0, \"Approved\": \"Yes\"}, {\"Age\": 24.5, \"Debt\": 12.75, \"CreditScore\": 2, \"Income\": 444, \"Approved\": \"Yes\"}, {\"Age\": 33.08, \"Debt\": 4.625, \"CreditScore\": 2, \"Income\": 0, \"Approved\": \"Yes\"}, {\"Age\": 33.08, \"Debt\": 1.625, \"CreditScore\": 0, \"Income\": 0, \"Approved\": \"No\"}, {\"Age\": 42.17, \"Debt\": 5.04, \"CreditScore\": 0, \"Income\": 0, \"Approved\": \"Yes\"}, {\"Age\": 32.33, \"Debt\": 7.5, \"CreditScore\": 0, \"Income\": 0, \"Approved\": \"No\"}, {\"Age\": 29.5, \"Debt\": 0.58, \"CreditScore\": 1, \"Income\": 2803, \"Approved\": \"No\"}, {\"Age\": 41.58, \"Debt\": 1.75, \"CreditScore\": 0, \"Income\": 0, \"Approved\": \"No\"}, {\"Age\": 26.67, \"Debt\": 14.585, \"CreditScore\": 0, \"Income\": 0, \"Approved\": \"No\"}, {\"Age\": 23.25, \"Debt\": 1.0, \"CreditScore\": 0, \"Income\": 0, \"Approved\": \"Yes\"}, {\"Age\": 25.83, \"Debt\": 12.835, \"CreditScore\": 0, \"Income\": 2, \"Approved\": \"No\"}, {\"Age\": 29.67, \"Debt\": 0.75, \"CreditScore\": 0, \"Income\": 0, \"Approved\": \"No\"}, {\"Age\": 22.67, \"Debt\": 7.0, \"CreditScore\": 0, \"Income\": 0, \"Approved\": \"No\"}, {\"Age\": 27.67, \"Debt\": 0.75, \"CreditScore\": 0, \"Income\": 251, \"Approved\": \"No\"}, {\"Age\": 32.08, \"Debt\": 4.0, \"CreditScore\": 0, \"Income\": 0, \"Approved\": \"No\"}, {\"Age\": 20.42, \"Debt\": 7.0, \"CreditScore\": 3, \"Income\": 1391, \"Approved\": \"Yes\"}, {\"Age\": 27.67, \"Debt\": 13.75, \"CreditScore\": 0, \"Income\": 500, \"Approved\": \"Yes\"}, {\"Age\": 18.83, \"Debt\": 9.54, \"CreditScore\": 0, \"Income\": 0, \"Approved\": \"Yes\"}, {\"Age\": 48.08, \"Debt\": 3.75, \"CreditScore\": 0, \"Income\": 2, \"Approved\": \"No\"}, {\"Age\": 18.83, \"Debt\": 0.415, \"CreditScore\": 1, \"Income\": 1, \"Approved\": \"No\"}, {\"Age\": 27.67, \"Debt\": 2.0, \"CreditScore\": 4, \"Income\": 7544, \"Approved\": \"Yes\"}, {\"Age\": 17.25, \"Debt\": 3.0, \"CreditScore\": 0, \"Income\": 40, \"Approved\": \"No\"}, {\"Age\": 23.5, \"Debt\": 1.5, \"CreditScore\": 0, \"Income\": 0, \"Approved\": \"No\"}, {\"Age\": 25.92, \"Debt\": 0.875, \"CreditScore\": 2, \"Income\": 3, \"Approved\": \"No\"}, {\"Age\": 38.75, \"Debt\": 1.5, \"CreditScore\": 0, \"Income\": 0, \"Approved\": \"No\"}, {\"Age\": 20.75, \"Debt\": 9.54, \"CreditScore\": 0, \"Income\": 1000, \"Approved\": \"No\"}, {\"Age\": 40.33, \"Debt\": 8.125, \"CreditScore\": 2, \"Income\": 18, \"Approved\": \"No\"}, {\"Age\": 37.42, \"Debt\": 2.04, \"CreditScore\": 0, \"Income\": 5800, \"Approved\": \"Yes\"}, {\"Age\": 34.42, \"Debt\": 1.335, \"CreditScore\": 0, \"Income\": 4500, \"Approved\": \"No\"}, {\"Age\": 22.5, \"Debt\": 0.415, \"CreditScore\": 0, \"Income\": 0, \"Approved\": \"No\"}, {\"Age\": 28.75, \"Debt\": 1.5, \"CreditScore\": 0, \"Income\": 225, \"Approved\": \"No\"}, {\"Age\": 59.5, \"Debt\": 2.75, \"CreditScore\": 5, \"Income\": 58, \"Approved\": \"Yes\"}, {\"Age\": 23.58, \"Debt\": 0.835, \"CreditScore\": 0, \"Income\": 5, \"Approved\": \"No\"}, {\"Age\": 22.5, \"Debt\": 8.5, \"CreditScore\": 10, \"Income\": 990, \"Approved\": \"No\"}, {\"Age\": 27.83, \"Debt\": 4.0, \"CreditScore\": 2, \"Income\": 0, \"Approved\": \"No\"}, {\"Age\": 20.83, \"Debt\": 3.0, \"CreditScore\": 0, \"Income\": 0, \"Approved\": \"Yes\"}, {\"Age\": 39.0, \"Debt\": 5.0, \"CreditScore\": 10, \"Income\": 0, \"Approved\": \"Yes\"}, {\"Age\": 30.75, \"Debt\": 1.585, \"CreditScore\": 0, \"Income\": 0, \"Approved\": \"No\"}, {\"Age\": 22.67, \"Debt\": 0.75, \"CreditScore\": 1, \"Income\": 9, \"Approved\": \"No\"}, {\"Age\": 50.25, \"Debt\": 0.835, \"CreditScore\": 0, \"Income\": 117, \"Approved\": \"No\"}, {\"Age\": 34.0, \"Debt\": 5.085, \"CreditScore\": 0, \"Income\": 0, \"Approved\": \"No\"}, {\"Age\": 48.25, \"Debt\": 25.085, \"CreditScore\": 3, \"Income\": 14, \"Approved\": \"Yes\"}, {\"Age\": 25.25, \"Debt\": 12.5, \"CreditScore\": 0, \"Income\": 1062, \"Approved\": \"No\"}, {\"Age\": 23.75, \"Debt\": 0.71, \"CreditScore\": 1, \"Income\": 4, \"Approved\": \"No\"}, {\"Age\": 41.17, \"Debt\": 1.335, \"CreditScore\": 0, \"Income\": 0, \"Approved\": \"No\"}, {\"Age\": 33.17, \"Debt\": 1.04, \"CreditScore\": 0, \"Income\": 31285, \"Approved\": \"Yes\"}, {\"Age\": 23.75, \"Debt\": 12.0, \"CreditScore\": 0, \"Income\": 0, \"Approved\": \"No\"}, {\"Age\": 20.83, \"Debt\": 0.5, \"CreditScore\": 0, \"Income\": 0, \"Approved\": \"No\"}, {\"Age\": 39.92, \"Debt\": 5.0, \"CreditScore\": 0, \"Income\": 0, \"Approved\": \"No\"}, {\"Age\": 26.17, \"Debt\": 12.5, \"CreditScore\": 0, \"Income\": 17, \"Approved\": \"No\"}, {\"Age\": 39.17, \"Debt\": 2.5, \"CreditScore\": 0, \"Income\": 0, \"Approved\": \"No\"}, {\"Age\": 33.58, \"Debt\": 0.25, \"CreditScore\": 0, \"Income\": 0, \"Approved\": \"No\"}, {\"Age\": 23.42, \"Debt\": 0.79, \"CreditScore\": 2, \"Income\": 400, \"Approved\": \"Yes\"}, {\"Age\": 23.0, \"Debt\": 11.75, \"CreditScore\": 2, \"Income\": 551, \"Approved\": \"Yes\"}, {\"Age\": 33.92, \"Debt\": 1.585, \"CreditScore\": 0, \"Income\": 0, \"Approved\": \"No\"}, {\"Age\": 34.42, \"Debt\": 4.25, \"CreditScore\": 2, \"Income\": 610, \"Approved\": \"Yes\"}, {\"Age\": 19.42, \"Debt\": 7.25, \"CreditScore\": 1, \"Income\": 1, \"Approved\": \"No\"}, {\"Age\": 28.46, \"Debt\": 3.0, \"CreditScore\": 0, \"Income\": 1, \"Approved\": \"No\"}, {\"Age\": 40.83, \"Debt\": 10.0, \"CreditScore\": 0, \"Income\": 837, \"Approved\": \"Yes\"}, {\"Age\": 27.67, \"Debt\": 2.04, \"CreditScore\": 0, \"Income\": 50, \"Approved\": \"No\"}, {\"Age\": 22.75, \"Debt\": 11.5, \"CreditScore\": 0, \"Income\": 0, \"Approved\": \"No\"}, {\"Age\": 37.5, \"Debt\": 0.835, \"CreditScore\": 0, \"Income\": 5, \"Approved\": \"No\"}, {\"Age\": 27.75, \"Debt\": 0.585, \"CreditScore\": 2, \"Income\": 500, \"Approved\": \"Yes\"}, {\"Age\": 55.75, \"Debt\": 7.08, \"CreditScore\": 3, \"Income\": 50, \"Approved\": \"No\"}, {\"Age\": 62.5, \"Debt\": 12.75, \"CreditScore\": 0, \"Income\": 0, \"Approved\": \"No\"}, {\"Age\": 38.25, \"Debt\": 6.0, \"CreditScore\": 0, \"Income\": 0, \"Approved\": \"Yes\"}, {\"Age\": 40.92, \"Debt\": 0.5, \"CreditScore\": 0, \"Income\": 0, \"Approved\": \"No\"}, {\"Age\": 28.46, \"Debt\": 1.5, \"CreditScore\": 2, \"Income\": 105, \"Approved\": \"No\"}, {\"Age\": 27.25, \"Debt\": 1.665, \"CreditScore\": 9, \"Income\": 827, \"Approved\": \"Yes\"}, {\"Age\": 23.58, \"Debt\": 0.585, \"CreditScore\": 0, \"Income\": 87, \"Approved\": \"No\"}, {\"Age\": 16.5, \"Debt\": 0.125, \"CreditScore\": 0, \"Income\": 0, \"Approved\": \"No\"}, {\"Age\": 28.46, \"Debt\": 0.5, \"CreditScore\": 0, \"Income\": 0, \"Approved\": \"No\"}, {\"Age\": 15.83, \"Debt\": 0.585, \"CreditScore\": 2, \"Income\": 0, \"Approved\": \"Yes\"}, {\"Age\": 25.0, \"Debt\": 12.33, \"CreditScore\": 6, \"Income\": 458, \"Approved\": \"Yes\"}, {\"Age\": 32.0, \"Debt\": 1.75, \"CreditScore\": 0, \"Income\": 0, \"Approved\": \"Yes\"}, {\"Age\": 27.67, \"Debt\": 1.5, \"CreditScore\": 0, \"Income\": 0, \"Approved\": \"No\"}, {\"Age\": 23.08, \"Debt\": 2.5, \"CreditScore\": 0, \"Income\": 4208, \"Approved\": \"No\"}, {\"Age\": 36.25, \"Debt\": 5.0, \"CreditScore\": 6, \"Income\": 367, \"Approved\": \"Yes\"}, {\"Age\": 58.67, \"Debt\": 4.46, \"CreditScore\": 6, \"Income\": 560, \"Approved\": \"Yes\"}, {\"Age\": 25.17, \"Debt\": 2.875, \"CreditScore\": 0, \"Income\": 0, \"Approved\": \"Yes\"}, {\"Age\": 19.17, \"Debt\": 8.585, \"CreditScore\": 7, \"Income\": 0, \"Approved\": \"Yes\"}, {\"Age\": 42.08, \"Debt\": 1.04, \"CreditScore\": 6, \"Income\": 10000, \"Approved\": \"Yes\"}, {\"Age\": 34.75, \"Debt\": 2.5, \"CreditScore\": 0, \"Income\": 0, \"Approved\": \"No\"}, {\"Age\": 28.17, \"Debt\": 0.585, \"CreditScore\": 0, \"Income\": 1004, \"Approved\": \"No\"}, {\"Age\": 36.17, \"Debt\": 5.5, \"CreditScore\": 0, \"Income\": 687, \"Approved\": \"No\"}, {\"Age\": 18.83, \"Debt\": 4.415, \"CreditScore\": 0, \"Income\": 0, \"Approved\": \"Yes\"}, {\"Age\": 22.25, \"Debt\": 9.0, \"CreditScore\": 0, \"Income\": 0, \"Approved\": \"No\"}, {\"Age\": 34.83, \"Debt\": 4.0, \"CreditScore\": 0, \"Income\": 0, \"Approved\": \"No\"}, {\"Age\": 26.17, \"Debt\": 2.0, \"CreditScore\": 0, \"Income\": 1, \"Approved\": \"No\"}, {\"Age\": 28.46, \"Debt\": 3.5, \"CreditScore\": 0, \"Income\": 0, \"Approved\": \"No\"}, {\"Age\": 21.42, \"Debt\": 0.75, \"CreditScore\": 0, \"Income\": 2, \"Approved\": \"No\"}, {\"Age\": 18.25, \"Debt\": 10.0, \"CreditScore\": 1, \"Income\": 1, \"Approved\": \"No\"}, {\"Age\": 22.08, \"Debt\": 11.46, \"CreditScore\": 0, \"Income\": 1212, \"Approved\": \"No\"}, {\"Age\": 20.42, \"Debt\": 0.0, \"CreditScore\": 0, \"Income\": 0, \"Approved\": \"No\"}, {\"Age\": 34.92, \"Debt\": 2.5, \"CreditScore\": 0, \"Income\": 200, \"Approved\": \"Yes\"}, {\"Age\": 24.58, \"Debt\": 13.5, \"CreditScore\": 0, \"Income\": 0, \"Approved\": \"No\"}, {\"Age\": 49.83, \"Debt\": 13.585, \"CreditScore\": 0, \"Income\": 0, \"Approved\": \"Yes\"}, {\"Age\": 24.17, \"Debt\": 0.875, \"CreditScore\": 2, \"Income\": 2000, \"Approved\": \"Yes\"}, {\"Age\": 23.58, \"Debt\": 0.46, \"CreditScore\": 6, \"Income\": 347, \"Approved\": \"No\"}, {\"Age\": 23.33, \"Debt\": 1.5, \"CreditScore\": 0, \"Income\": 200, \"Approved\": \"Yes\"}, {\"Age\": 39.08, \"Debt\": 6.0, \"CreditScore\": 5, \"Income\": 1097, \"Approved\": \"Yes\"}, {\"Age\": 36.08, \"Debt\": 2.54, \"CreditScore\": 0, \"Income\": 1000, \"Approved\": \"No\"}, {\"Age\": 32.25, \"Debt\": 1.5, \"CreditScore\": 0, \"Income\": 122, \"Approved\": \"No\"}, {\"Age\": 25.0, \"Debt\": 12.0, \"CreditScore\": 2, \"Income\": 5, \"Approved\": \"No\"}, {\"Age\": 36.17, \"Debt\": 0.42, \"CreditScore\": 0, \"Income\": 2, \"Approved\": \"No\"}, {\"Age\": 32.33, \"Debt\": 3.5, \"CreditScore\": 0, \"Income\": 0, \"Approved\": \"No\"}, {\"Age\": 39.17, \"Debt\": 1.625, \"CreditScore\": 10, \"Income\": 4700, \"Approved\": \"Yes\"}, {\"Age\": 26.17, \"Debt\": 0.835, \"CreditScore\": 0, \"Income\": 0, \"Approved\": \"No\"}, {\"Age\": 49.5, \"Debt\": 7.585, \"CreditScore\": 15, \"Income\": 5000, \"Approved\": \"Yes\"}, {\"Age\": 52.83, \"Debt\": 15.0, \"CreditScore\": 14, \"Income\": 2200, \"Approved\": \"Yes\"}, {\"Age\": 20.17, \"Debt\": 5.625, \"CreditScore\": 0, \"Income\": 0, \"Approved\": \"Yes\"}, {\"Age\": 26.25, \"Debt\": 1.54, \"CreditScore\": 0, \"Income\": 0, \"Approved\": \"No\"}, {\"Age\": 53.92, \"Debt\": 9.625, \"CreditScore\": 5, \"Income\": 0, \"Approved\": \"Yes\"}, {\"Age\": 38.17, \"Debt\": 10.125, \"CreditScore\": 6, \"Income\": 196, \"Approved\": \"Yes\"}, {\"Age\": 20.67, \"Debt\": 1.835, \"CreditScore\": 5, \"Income\": 2503, \"Approved\": \"Yes\"}, {\"Age\": 27.25, \"Debt\": 0.625, \"CreditScore\": 0, \"Income\": 0, \"Approved\": \"No\"}, {\"Age\": 22.75, \"Debt\": 11.0, \"CreditScore\": 7, \"Income\": 809, \"Approved\": \"Yes\"}, {\"Age\": 31.67, \"Debt\": 0.83, \"CreditScore\": 8, \"Income\": 3290, \"Approved\": \"Yes\"}, {\"Age\": 22.33, \"Debt\": 11.0, \"CreditScore\": 1, \"Income\": 278, \"Approved\": \"Yes\"}, {\"Age\": 47.67, \"Debt\": 2.5, \"CreditScore\": 12, \"Income\": 2510, \"Approved\": \"Yes\"}, {\"Age\": 37.33, \"Debt\": 6.5, \"CreditScore\": 12, \"Income\": 0, \"Approved\": \"Yes\"}, {\"Age\": 42.83, \"Debt\": 4.625, \"CreditScore\": 0, \"Income\": 0, \"Approved\": \"Yes\"}, {\"Age\": 20.5, \"Debt\": 10.0, \"CreditScore\": 0, \"Income\": 0, \"Approved\": \"Yes\"}, {\"Age\": 49.58, \"Debt\": 19.0, \"CreditScore\": 1, \"Income\": 0, \"Approved\": \"No\"}, {\"Age\": 52.5, \"Debt\": 6.5, \"CreditScore\": 15, \"Income\": 11202, \"Approved\": \"Yes\"}, {\"Age\": 21.0, \"Debt\": 3.0, \"CreditScore\": 8, \"Income\": 1, \"Approved\": \"Yes\"}, {\"Age\": 19.17, \"Debt\": 0.0, \"CreditScore\": 0, \"Income\": 1, \"Approved\": \"Yes\"}, {\"Age\": 27.42, \"Debt\": 14.5, \"CreditScore\": 1, \"Income\": 11, \"Approved\": \"Yes\"}, {\"Age\": 29.5, \"Debt\": 0.46, \"CreditScore\": 4, \"Income\": 500, \"Approved\": \"Yes\"}, {\"Age\": 36.5, \"Debt\": 4.25, \"CreditScore\": 0, \"Income\": 50, \"Approved\": \"No\"}, {\"Age\": 19.67, \"Debt\": 0.21, \"CreditScore\": 11, \"Income\": 99, \"Approved\": \"Yes\"}, {\"Age\": 25.33, \"Debt\": 0.58, \"CreditScore\": 7, \"Income\": 5124, \"Approved\": \"Yes\"}, {\"Age\": 31.67, \"Debt\": 16.165, \"CreditScore\": 9, \"Income\": 730, \"Approved\": \"Yes\"}, {\"Age\": 40.92, \"Debt\": 2.25, \"CreditScore\": 0, \"Income\": 0, \"Approved\": \"No\"}, {\"Age\": 56.83, \"Debt\": 4.25, \"CreditScore\": 0, \"Income\": 4, \"Approved\": \"No\"}, {\"Age\": 34.83, \"Debt\": 1.25, \"CreditScore\": 0, \"Income\": 0, \"Approved\": \"No\"}, {\"Age\": 51.83, \"Debt\": 2.04, \"CreditScore\": 0, \"Income\": 1, \"Approved\": \"No\"}, {\"Age\": 43.25, \"Debt\": 25.21, \"CreditScore\": 1, \"Income\": 90, \"Approved\": \"No\"}, {\"Age\": 56.42, \"Debt\": 28.0, \"CreditScore\": 40, \"Income\": 15, \"Approved\": \"Yes\"}, {\"Age\": 17.92, \"Debt\": 0.54, \"CreditScore\": 1, \"Income\": 5, \"Approved\": \"No\"}, {\"Age\": 23.5, \"Debt\": 2.75, \"CreditScore\": 0, \"Income\": 25, \"Approved\": \"No\"}, {\"Age\": 49.0, \"Debt\": 1.5, \"CreditScore\": 0, \"Income\": 27, \"Approved\": \"No\"}, {\"Age\": 69.5, \"Debt\": 6.0, \"CreditScore\": 0, \"Income\": 0, \"Approved\": \"No\"}, {\"Age\": 33.5, \"Debt\": 1.75, \"CreditScore\": 4, \"Income\": 857, \"Approved\": \"Yes\"}, {\"Age\": 34.25, \"Debt\": 1.75, \"CreditScore\": 0, \"Income\": 0, \"Approved\": \"No\"}, {\"Age\": 33.67, \"Debt\": 1.25, \"CreditScore\": 0, \"Income\": 0, \"Approved\": \"No\"}, {\"Age\": 36.67, \"Debt\": 3.25, \"CreditScore\": 0, \"Income\": 639, \"Approved\": \"Yes\"}, {\"Age\": 33.58, \"Debt\": 2.75, \"CreditScore\": 6, \"Income\": 0, \"Approved\": \"Yes\"}, {\"Age\": 22.92, \"Debt\": 0.17, \"CreditScore\": 0, \"Income\": 0, \"Approved\": \"No\"}, {\"Age\": 29.42, \"Debt\": 1.25, \"CreditScore\": 0, \"Income\": 0, \"Approved\": \"No\"}, {\"Age\": 50.08, \"Debt\": 12.54, \"CreditScore\": 3, \"Income\": 0, \"Approved\": \"Yes\"}, {\"Age\": 31.08, \"Debt\": 3.085, \"CreditScore\": 2, \"Income\": 41, \"Approved\": \"No\"}, {\"Age\": 32.33, \"Debt\": 0.54, \"CreditScore\": 0, \"Income\": 11177, \"Approved\": \"Yes\"}, {\"Age\": 23.25, \"Debt\": 4.0, \"CreditScore\": 0, \"Income\": 0, \"Approved\": \"Yes\"}, {\"Age\": 17.33, \"Debt\": 9.5, \"CreditScore\": 10, \"Income\": 10, \"Approved\": \"No\"}, {\"Age\": 52.42, \"Debt\": 1.5, \"CreditScore\": 0, \"Income\": 350, \"Approved\": \"No\"}, {\"Age\": 22.92, \"Debt\": 11.585, \"CreditScore\": 0, \"Income\": 1349, \"Approved\": \"Yes\"}, {\"Age\": 32.25, \"Debt\": 0.165, \"CreditScore\": 1, \"Income\": 8000, \"Approved\": \"Yes\"}, {\"Age\": 25.42, \"Debt\": 1.125, \"CreditScore\": 2, \"Income\": 0, \"Approved\": \"No\"}, {\"Age\": 27.58, \"Debt\": 3.25, \"CreditScore\": 2, \"Income\": 1, \"Approved\": \"No\"}, {\"Age\": 16.0, \"Debt\": 0.165, \"CreditScore\": 2, \"Income\": 1, \"Approved\": \"No\"}, {\"Age\": 28.58, \"Debt\": 1.665, \"CreditScore\": 0, \"Income\": 0, \"Approved\": \"No\"}, {\"Age\": 23.08, \"Debt\": 11.5, \"CreditScore\": 11, \"Income\": 284, \"Approved\": \"Yes\"}, {\"Age\": 33.17, \"Debt\": 3.04, \"CreditScore\": 1, \"Income\": 18027, \"Approved\": \"Yes\"}, {\"Age\": 39.92, \"Debt\": 0.54, \"CreditScore\": 3, \"Income\": 1000, \"Approved\": \"Yes\"}, {\"Age\": 31.33, \"Debt\": 19.5, \"CreditScore\": 16, \"Income\": 5000, \"Approved\": \"Yes\"}, {\"Age\": 41.0, \"Debt\": 0.04, \"CreditScore\": 1, \"Income\": 0, \"Approved\": \"Yes\"}, {\"Age\": 32.25, \"Debt\": 14.0, \"CreditScore\": 2, \"Income\": 1, \"Approved\": \"No\"}, {\"Age\": 21.58, \"Debt\": 0.79, \"CreditScore\": 0, \"Income\": 0, \"Approved\": \"No\"}, {\"Age\": 38.67, \"Debt\": 0.21, \"CreditScore\": 0, \"Income\": 0, \"Approved\": \"Yes\"}, {\"Age\": 23.08, \"Debt\": 2.5, \"CreditScore\": 11, \"Income\": 2184, \"Approved\": \"Yes\"}, {\"Age\": 20.42, \"Debt\": 7.5, \"CreditScore\": 1, \"Income\": 234, \"Approved\": \"Yes\"}, {\"Age\": 33.75, \"Debt\": 2.75, \"CreditScore\": 0, \"Income\": 0, \"Approved\": \"No\"}, {\"Age\": 22.17, \"Debt\": 2.25, \"CreditScore\": 0, \"Income\": 10, \"Approved\": \"No\"}, {\"Age\": 35.75, \"Debt\": 2.415, \"CreditScore\": 2, \"Income\": 1, \"Approved\": \"No\"}, {\"Age\": 20.83, \"Debt\": 8.5, \"CreditScore\": 0, \"Income\": 351, \"Approved\": \"No\"}, {\"Age\": 57.08, \"Debt\": 19.5, \"CreditScore\": 7, \"Income\": 3000, \"Approved\": \"Yes\"}, {\"Age\": 18.92, \"Debt\": 9.25, \"CreditScore\": 4, \"Income\": 500, \"Approved\": \"Yes\"}, {\"Age\": 16.25, \"Debt\": 0.835, \"CreditScore\": 0, \"Income\": 0, \"Approved\": \"No\"}, {\"Age\": 43.17, \"Debt\": 2.25, \"CreditScore\": 0, \"Income\": 0, \"Approved\": \"No\"}, {\"Age\": 28.17, \"Debt\": 0.375, \"CreditScore\": 4, \"Income\": 0, \"Approved\": \"Yes\"}, {\"Age\": 30.0, \"Debt\": 5.29, \"CreditScore\": 5, \"Income\": 500, \"Approved\": \"Yes\"}, {\"Age\": 19.67, \"Debt\": 0.375, \"CreditScore\": 2, \"Income\": 0, \"Approved\": \"Yes\"}, {\"Age\": 22.08, \"Debt\": 0.83, \"CreditScore\": 0, \"Income\": 0, \"Approved\": \"Yes\"}, {\"Age\": 28.58, \"Debt\": 3.75, \"CreditScore\": 1, \"Income\": 154, \"Approved\": \"No\"}, {\"Age\": 57.42, \"Debt\": 8.5, \"CreditScore\": 3, \"Income\": 0, \"Approved\": \"Yes\"}, {\"Age\": 41.42, \"Debt\": 5.0, \"CreditScore\": 6, \"Income\": 0, \"Approved\": \"Yes\"}, {\"Age\": 28.67, \"Debt\": 9.335, \"CreditScore\": 6, \"Income\": 168, \"Approved\": \"Yes\"}, {\"Age\": 24.75, \"Debt\": 0.54, \"CreditScore\": 0, \"Income\": 1, \"Approved\": \"No\"}, {\"Age\": 23.5, \"Debt\": 9.0, \"CreditScore\": 5, \"Income\": 0, \"Approved\": \"Yes\"}, {\"Age\": 35.17, \"Debt\": 25.125, \"CreditScore\": 1, \"Income\": 500, \"Approved\": \"Yes\"}, {\"Age\": 34.5, \"Debt\": 4.04, \"CreditScore\": 7, \"Income\": 0, \"Approved\": \"Yes\"}, {\"Age\": 16.08, \"Debt\": 0.75, \"CreditScore\": 5, \"Income\": 690, \"Approved\": \"Yes\"}, {\"Age\": 24.58, \"Debt\": 12.5, \"CreditScore\": 0, \"Income\": 0, \"Approved\": \"No\"}, {\"Age\": 29.5, \"Debt\": 1.085, \"CreditScore\": 0, \"Income\": 13, \"Approved\": \"No\"}, {\"Age\": 16.33, \"Debt\": 0.21, \"CreditScore\": 0, \"Income\": 1, \"Approved\": \"No\"}, {\"Age\": 21.83, \"Debt\": 1.54, \"CreditScore\": 0, \"Income\": 0, \"Approved\": \"No\"}, {\"Age\": 64.08, \"Debt\": 0.165, \"CreditScore\": 1, \"Income\": 100, \"Approved\": \"Yes\"}, {\"Age\": 42.75, \"Debt\": 4.085, \"CreditScore\": 0, \"Income\": 100, \"Approved\": \"No\"}, {\"Age\": 29.58, \"Debt\": 1.75, \"CreditScore\": 0, \"Income\": 0, \"Approved\": \"No\"}, {\"Age\": 24.75, \"Debt\": 3.0, \"CreditScore\": 19, \"Income\": 500, \"Approved\": \"Yes\"}, {\"Age\": 39.58, \"Debt\": 5.0, \"CreditScore\": 2, \"Income\": 1, \"Approved\": \"No\"}, {\"Age\": 23.92, \"Debt\": 0.585, \"CreditScore\": 0, \"Income\": 1, \"Approved\": \"No\"}, {\"Age\": 19.58, \"Debt\": 0.665, \"CreditScore\": 1, \"Income\": 2, \"Approved\": \"No\"}, {\"Age\": 40.58, \"Debt\": 5.0, \"CreditScore\": 7, \"Income\": 3065, \"Approved\": \"Yes\"}, {\"Age\": 30.58, \"Debt\": 2.71, \"CreditScore\": 0, \"Income\": 0, \"Approved\": \"No\"}, {\"Age\": 25.67, \"Debt\": 0.29, \"CreditScore\": 0, \"Income\": 0, \"Approved\": \"No\"}, {\"Age\": 28.46, \"Debt\": 5.0, \"CreditScore\": 0, \"Income\": 0, \"Approved\": \"No\"}, {\"Age\": 31.25, \"Debt\": 2.835, \"CreditScore\": 5, \"Income\": 146, \"Approved\": \"No\"}, {\"Age\": 37.33, \"Debt\": 2.5, \"CreditScore\": 0, \"Income\": 246, \"Approved\": \"No\"}, {\"Age\": 28.25, \"Debt\": 5.125, \"CreditScore\": 2, \"Income\": 7, \"Approved\": \"Yes\"}, {\"Age\": 26.75, \"Debt\": 2.0, \"CreditScore\": 0, \"Income\": 0, \"Approved\": \"No\"}, {\"Age\": 18.42, \"Debt\": 10.415, \"CreditScore\": 0, \"Income\": 375, \"Approved\": \"No\"}, {\"Age\": 67.75, \"Debt\": 5.5, \"CreditScore\": 1, \"Income\": 0, \"Approved\": \"Yes\"}, {\"Age\": 18.83, \"Debt\": 0.0, \"CreditScore\": 0, \"Income\": 1, \"Approved\": \"No\"}, {\"Age\": 48.17, \"Debt\": 7.625, \"CreditScore\": 12, \"Income\": 790, \"Approved\": \"Yes\"}, {\"Age\": 48.17, \"Debt\": 3.5, \"CreditScore\": 0, \"Income\": 0, \"Approved\": \"Yes\"}, {\"Age\": 65.17, \"Debt\": 14.0, \"CreditScore\": 11, \"Income\": 1400, \"Approved\": \"Yes\"}, {\"Age\": 40.58, \"Debt\": 3.29, \"CreditScore\": 0, \"Income\": 0, \"Approved\": \"No\"}, {\"Age\": 22.0, \"Debt\": 0.79, \"CreditScore\": 1, \"Income\": 283, \"Approved\": \"No\"}, {\"Age\": 23.5, \"Debt\": 3.165, \"CreditScore\": 1, \"Income\": 80, \"Approved\": \"No\"}, {\"Age\": 21.08, \"Debt\": 4.125, \"CreditScore\": 0, \"Income\": 100, \"Approved\": \"No\"}, {\"Age\": 23.08, \"Debt\": 0.0, \"CreditScore\": 11, \"Income\": 0, \"Approved\": \"No\"}, {\"Age\": 51.42, \"Debt\": 0.04, \"CreditScore\": 0, \"Income\": 3000, \"Approved\": \"Yes\"}, {\"Age\": 20.0, \"Debt\": 0.0, \"CreditScore\": 0, \"Income\": 0, \"Approved\": \"No\"}, {\"Age\": 49.17, \"Debt\": 2.29, \"CreditScore\": 0, \"Income\": 3, \"Approved\": \"No\"}, {\"Age\": 23.58, \"Debt\": 0.83, \"CreditScore\": 1, \"Income\": 11, \"Approved\": \"No\"}, {\"Age\": 20.17, \"Debt\": 9.25, \"CreditScore\": 3, \"Income\": 28, \"Approved\": \"Yes\"}, {\"Age\": 47.25, \"Debt\": 0.75, \"CreditScore\": 1, \"Income\": 892, \"Approved\": \"Yes\"}, {\"Age\": 24.5, \"Debt\": 2.415, \"CreditScore\": 0, \"Income\": 0, \"Approved\": \"No\"}, {\"Age\": 34.08, \"Debt\": 6.5, \"CreditScore\": 0, \"Income\": 0, \"Approved\": \"No\"}, {\"Age\": 34.75, \"Debt\": 15.0, \"CreditScore\": 9, \"Income\": 134, \"Approved\": \"Yes\"}, {\"Age\": 20.08, \"Debt\": 0.125, \"CreditScore\": 1, \"Income\": 768, \"Approved\": \"Yes\"}, {\"Age\": 23.42, \"Debt\": 0.585, \"CreditScore\": 0, \"Income\": 0, \"Approved\": \"No\"}, {\"Age\": 34.17, \"Debt\": 1.54, \"CreditScore\": 1, \"Income\": 50000, \"Approved\": \"Yes\"}, {\"Age\": 25.58, \"Debt\": 0.335, \"CreditScore\": 0, \"Income\": 0, \"Approved\": \"No\"}, {\"Age\": 71.58, \"Debt\": 0.0, \"CreditScore\": 0, \"Income\": 0, \"Approved\": \"Yes\"}, {\"Age\": 54.42, \"Debt\": 0.5, \"CreditScore\": 0, \"Income\": 314, \"Approved\": \"Yes\"}, {\"Age\": 19.17, \"Debt\": 0.585, \"CreditScore\": 0, \"Income\": 0, \"Approved\": \"No\"}, {\"Age\": 27.0, \"Debt\": 0.75, \"CreditScore\": 3, \"Income\": 150, \"Approved\": \"Yes\"}, {\"Age\": 35.17, \"Debt\": 4.5, \"CreditScore\": 0, \"Income\": 0, \"Approved\": \"Yes\"}, {\"Age\": 17.42, \"Debt\": 6.5, \"CreditScore\": 0, \"Income\": 100, \"Approved\": \"No\"}, {\"Age\": 33.67, \"Debt\": 2.165, \"CreditScore\": 0, \"Income\": 0, \"Approved\": \"No\"}, {\"Age\": 20.67, \"Debt\": 0.835, \"CreditScore\": 0, \"Income\": 0, \"Approved\": \"No\"}, {\"Age\": 16.92, \"Debt\": 0.5, \"CreditScore\": 6, \"Income\": 35, \"Approved\": \"No\"}, {\"Age\": 25.0, \"Debt\": 0.875, \"CreditScore\": 0, \"Income\": 5860, \"Approved\": \"Yes\"}, {\"Age\": 29.83, \"Debt\": 3.5, \"CreditScore\": 0, \"Income\": 0, \"Approved\": \"No\"}, {\"Age\": 36.75, \"Debt\": 0.125, \"CreditScore\": 0, \"Income\": 113, \"Approved\": \"Yes\"}, {\"Age\": 24.42, \"Debt\": 2.0, \"CreditScore\": 2, \"Income\": 1300, \"Approved\": \"No\"}, {\"Age\": 22.67, \"Debt\": 0.79, \"CreditScore\": 0, \"Income\": 0, \"Approved\": \"No\"}, {\"Age\": 56.5, \"Debt\": 16.0, \"CreditScore\": 15, \"Income\": 247, \"Approved\": \"Yes\"}, {\"Age\": 34.0, \"Debt\": 4.5, \"CreditScore\": 0, \"Income\": 0, \"Approved\": \"No\"}, {\"Age\": 48.58, \"Debt\": 0.205, \"CreditScore\": 11, \"Income\": 2732, \"Approved\": \"Yes\"}, {\"Age\": 18.08, \"Debt\": 0.375, \"CreditScore\": 0, \"Income\": 0, \"Approved\": \"Yes\"}, {\"Age\": 56.75, \"Debt\": 12.25, \"CreditScore\": 4, \"Income\": 0, \"Approved\": \"Yes\"}, {\"Age\": 28.17, \"Debt\": 0.125, \"CreditScore\": 0, \"Income\": 2100, \"Approved\": \"No\"}, {\"Age\": 34.0, \"Debt\": 5.5, \"CreditScore\": 0, \"Income\": 0, \"Approved\": \"No\"}, {\"Age\": 26.58, \"Debt\": 2.54, \"CreditScore\": 0, \"Income\": 60, \"Approved\": \"No\"}, {\"Age\": 25.25, \"Debt\": 1.0, \"CreditScore\": 0, \"Income\": 0, \"Approved\": \"No\"}, {\"Age\": 18.25, \"Debt\": 0.165, \"CreditScore\": 0, \"Income\": 0, \"Approved\": \"No\"}, {\"Age\": 47.17, \"Debt\": 5.835, \"CreditScore\": 0, \"Income\": 150, \"Approved\": \"No\"}, {\"Age\": 69.17, \"Debt\": 9.0, \"CreditScore\": 1, \"Income\": 6, \"Approved\": \"No\"}, {\"Age\": 23.0, \"Debt\": 0.75, \"CreditScore\": 0, \"Income\": 0, \"Approved\": \"No\"}, {\"Age\": 30.58, \"Debt\": 10.665, \"CreditScore\": 12, \"Income\": 3, \"Approved\": \"No\"}, {\"Age\": 41.0, \"Debt\": 2.04, \"CreditScore\": 23, \"Income\": 1236, \"Approved\": \"Yes\"}, {\"Age\": 28.46, \"Debt\": 0.375, \"CreditScore\": 0, \"Income\": 0, \"Approved\": \"No\"}, {\"Age\": 19.75, \"Debt\": 0.75, \"CreditScore\": 5, \"Income\": 5, \"Approved\": \"No\"}, {\"Age\": 30.25, \"Debt\": 5.5, \"CreditScore\": 0, \"Income\": 0, \"Approved\": \"No\"}, {\"Age\": 28.25, \"Debt\": 0.875, \"CreditScore\": 3, \"Income\": 0, \"Approved\": \"Yes\"}, {\"Age\": 20.5, \"Debt\": 11.835, \"CreditScore\": 0, \"Income\": 0, \"Approved\": \"Yes\"}, {\"Age\": 22.67, \"Debt\": 1.585, \"CreditScore\": 6, \"Income\": 0, \"Approved\": \"Yes\"}, {\"Age\": 21.5, \"Debt\": 11.5, \"CreditScore\": 0, \"Income\": 68, \"Approved\": \"No\"}, {\"Age\": 28.92, \"Debt\": 0.375, \"CreditScore\": 0, \"Income\": 140, \"Approved\": \"No\"}, {\"Age\": 80.25, \"Debt\": 5.5, \"CreditScore\": 0, \"Income\": 340, \"Approved\": \"No\"}, {\"Age\": 27.17, \"Debt\": 1.25, \"CreditScore\": 1, \"Income\": 300, \"Approved\": \"No\"}, {\"Age\": 31.25, \"Debt\": 3.75, \"CreditScore\": 9, \"Income\": 0, \"Approved\": \"Yes\"}, {\"Age\": 27.58, \"Debt\": 2.04, \"CreditScore\": 3, \"Income\": 560, \"Approved\": \"Yes\"}, {\"Age\": 30.42, \"Debt\": 1.375, \"CreditScore\": 3, \"Income\": 33, \"Approved\": \"No\"}, {\"Age\": 45.83, \"Debt\": 10.5, \"CreditScore\": 7, \"Income\": 0, \"Approved\": \"Yes\"}, {\"Age\": 25.67, \"Debt\": 2.21, \"CreditScore\": 0, \"Income\": 0, \"Approved\": \"No\"}, {\"Age\": 17.08, \"Debt\": 0.085, \"CreditScore\": 0, \"Income\": 722, \"Approved\": \"No\"}, {\"Age\": 48.17, \"Debt\": 1.335, \"CreditScore\": 0, \"Income\": 120, \"Approved\": \"No\"}, {\"Age\": 17.58, \"Debt\": 9.0, \"CreditScore\": 0, \"Income\": 0, \"Approved\": \"Yes\"}, {\"Age\": 24.5, \"Debt\": 1.75, \"CreditScore\": 0, \"Income\": 0, \"Approved\": \"No\"}, {\"Age\": 27.83, \"Debt\": 1.54, \"CreditScore\": 5, \"Income\": 3, \"Approved\": \"Yes\"}, {\"Age\": 36.67, \"Debt\": 2.0, \"CreditScore\": 0, \"Income\": 0, \"Approved\": \"No\"}, {\"Age\": 45.33, \"Debt\": 1.0, \"CreditScore\": 0, \"Income\": 0, \"Approved\": \"No\"}, {\"Age\": 19.17, \"Debt\": 4.0, \"CreditScore\": 0, \"Income\": 1000, \"Approved\": \"No\"}, {\"Age\": 26.92, \"Debt\": 13.5, \"CreditScore\": 2, \"Income\": 5000, \"Approved\": \"Yes\"}, {\"Age\": 25.5, \"Debt\": 0.375, \"CreditScore\": 3, \"Income\": 15108, \"Approved\": \"Yes\"}, {\"Age\": 28.46, \"Debt\": 10.5, \"CreditScore\": 0, \"Income\": 0, \"Approved\": \"Yes\"}, {\"Age\": 26.92, \"Debt\": 2.25, \"CreditScore\": 0, \"Income\": 4000, \"Approved\": \"No\"}, {\"Age\": 23.17, \"Debt\": 0.0, \"CreditScore\": 0, \"Income\": 0, \"Approved\": \"Yes\"}, {\"Age\": 24.75, \"Debt\": 13.665, \"CreditScore\": 0, \"Income\": 1, \"Approved\": \"No\"}, {\"Age\": 26.0, \"Debt\": 1.0, \"CreditScore\": 0, \"Income\": 0, \"Approved\": \"Yes\"}, {\"Age\": 20.25, \"Debt\": 9.96, \"CreditScore\": 0, \"Income\": 0, \"Approved\": \"Yes\"}, {\"Age\": 27.58, \"Debt\": 3.0, \"CreditScore\": 1, \"Income\": 10, \"Approved\": \"No\"}, {\"Age\": 25.33, \"Debt\": 2.085, \"CreditScore\": 0, \"Income\": 1, \"Approved\": \"No\"}, {\"Age\": 48.75, \"Debt\": 26.335, \"CreditScore\": 0, \"Income\": 0, \"Approved\": \"No\"}, {\"Age\": 58.58, \"Debt\": 2.71, \"CreditScore\": 0, \"Income\": 0, \"Approved\": \"No\"}, {\"Age\": 35.25, \"Debt\": 3.165, \"CreditScore\": 0, \"Income\": 0, \"Approved\": \"No\"}, {\"Age\": 19.5, \"Debt\": 0.165, \"CreditScore\": 0, \"Income\": 0, \"Approved\": \"No\"}, {\"Age\": 40.0, \"Debt\": 6.5, \"CreditScore\": 1, \"Income\": 500, \"Approved\": \"Yes\"}, {\"Age\": 41.92, \"Debt\": 0.42, \"CreditScore\": 6, \"Income\": 948, \"Approved\": \"Yes\"}, {\"Age\": 28.42, \"Debt\": 3.5, \"CreditScore\": 0, \"Income\": 0, \"Approved\": \"Yes\"}, {\"Age\": 36.75, \"Debt\": 4.71, \"CreditScore\": 0, \"Income\": 0, \"Approved\": \"No\"}, {\"Age\": 18.5, \"Debt\": 2.0, \"CreditScore\": 2, \"Income\": 300, \"Approved\": \"Yes\"}, {\"Age\": 18.17, \"Debt\": 10.25, \"CreditScore\": 0, \"Income\": 13, \"Approved\": \"No\"}, {\"Age\": 15.17, \"Debt\": 7.0, \"CreditScore\": 0, \"Income\": 0, \"Approved\": \"No\"}, {\"Age\": 32.75, \"Debt\": 1.5, \"CreditScore\": 3, \"Income\": 0, \"Approved\": \"Yes\"}, {\"Age\": 26.33, \"Debt\": 13.0, \"CreditScore\": 0, \"Income\": 1110, \"Approved\": \"No\"}, {\"Age\": 17.92, \"Debt\": 0.205, \"CreditScore\": 0, \"Income\": 750, \"Approved\": \"No\"}, {\"Age\": 48.5, \"Debt\": 4.25, \"CreditScore\": 0, \"Income\": 0, \"Approved\": \"Yes\"}, {\"Age\": 15.83, \"Debt\": 7.625, \"CreditScore\": 1, \"Income\": 160, \"Approved\": \"No\"}, {\"Age\": 28.0, \"Debt\": 2.0, \"CreditScore\": 2, \"Income\": 0, \"Approved\": \"Yes\"}, {\"Age\": 24.08, \"Debt\": 9.0, \"CreditScore\": 0, \"Income\": 0, \"Approved\": \"No\"}, {\"Age\": 32.33, \"Debt\": 2.5, \"CreditScore\": 0, \"Income\": 0, \"Approved\": \"No\"}, {\"Age\": 34.67, \"Debt\": 1.08, \"CreditScore\": 0, \"Income\": 0, \"Approved\": \"No\"}, {\"Age\": 23.25, \"Debt\": 1.5, \"CreditScore\": 3, \"Income\": 582, \"Approved\": \"Yes\"}, {\"Age\": 41.17, \"Debt\": 1.25, \"CreditScore\": 0, \"Income\": 195, \"Approved\": \"No\"}, {\"Age\": 38.42, \"Debt\": 0.705, \"CreditScore\": 2, \"Income\": 500, \"Approved\": \"No\"}, {\"Age\": 30.17, \"Debt\": 0.5, \"CreditScore\": 11, \"Income\": 540, \"Approved\": \"Yes\"}, {\"Age\": 17.08, \"Debt\": 3.29, \"CreditScore\": 0, \"Income\": 2, \"Approved\": \"No\"}, {\"Age\": 26.67, \"Debt\": 1.75, \"CreditScore\": 5, \"Income\": 5777, \"Approved\": \"Yes\"}, {\"Age\": 23.0, \"Debt\": 0.75, \"CreditScore\": 0, \"Income\": 0, \"Approved\": \"No\"}, {\"Age\": 25.17, \"Debt\": 3.0, \"CreditScore\": 1, \"Income\": 22, \"Approved\": \"No\"}, {\"Age\": 22.92, \"Debt\": 1.25, \"CreditScore\": 0, \"Income\": 809, \"Approved\": \"No\"}, {\"Age\": 23.08, \"Debt\": 11.5, \"CreditScore\": 9, \"Income\": 742, \"Approved\": \"Yes\"}, {\"Age\": 32.42, \"Debt\": 3.0, \"CreditScore\": 0, \"Income\": 0, \"Approved\": \"No\"}, {\"Age\": 47.67, \"Debt\": 0.29, \"CreditScore\": 20, \"Income\": 15000, \"Approved\": \"Yes\"}, {\"Age\": 43.17, \"Debt\": 5.0, \"CreditScore\": 0, \"Income\": 0, \"Approved\": \"No\"}, {\"Age\": 28.5, \"Debt\": 1.0, \"CreditScore\": 2, \"Income\": 500, \"Approved\": \"No\"}, {\"Age\": 48.58, \"Debt\": 6.5, \"CreditScore\": 0, \"Income\": 0, \"Approved\": \"Yes\"}, {\"Age\": 25.0, \"Debt\": 12.5, \"CreditScore\": 0, \"Income\": 0, \"Approved\": \"Yes\"}, {\"Age\": 28.75, \"Debt\": 3.75, \"CreditScore\": 1, \"Income\": 0, \"Approved\": \"Yes\"}, {\"Age\": 22.83, \"Debt\": 2.29, \"CreditScore\": 7, \"Income\": 2384, \"Approved\": \"Yes\"}, {\"Age\": 46.08, \"Debt\": 3.0, \"CreditScore\": 8, \"Income\": 4159, \"Approved\": \"Yes\"}, {\"Age\": 22.67, \"Debt\": 0.75, \"CreditScore\": 2, \"Income\": 394, \"Approved\": \"No\"}, {\"Age\": 54.58, \"Debt\": 9.415, \"CreditScore\": 11, \"Income\": 300, \"Approved\": \"Yes\"}, {\"Age\": 39.08, \"Debt\": 4.0, \"CreditScore\": 0, \"Income\": 0, \"Approved\": \"No\"}, {\"Age\": 24.5, \"Debt\": 0.5, \"CreditScore\": 0, \"Income\": 824, \"Approved\": \"Yes\"}, {\"Age\": 39.5, \"Debt\": 1.625, \"CreditScore\": 0, \"Income\": 316, \"Approved\": \"No\"}, {\"Age\": 19.42, \"Debt\": 6.5, \"CreditScore\": 7, \"Income\": 2954, \"Approved\": \"Yes\"}, {\"Age\": 35.17, \"Debt\": 2.5, \"CreditScore\": 7, \"Income\": 1270, \"Approved\": \"Yes\"}, {\"Age\": 28.46, \"Debt\": 0.04, \"CreditScore\": 0, \"Income\": 0, \"Approved\": \"No\"}, {\"Age\": 35.0, \"Debt\": 2.5, \"CreditScore\": 0, \"Income\": 0, \"Approved\": \"No\"}, {\"Age\": 23.17, \"Debt\": 11.125, \"CreditScore\": 1, \"Income\": 0, \"Approved\": \"Yes\"}, {\"Age\": 28.0, \"Debt\": 3.0, \"CreditScore\": 0, \"Income\": 67, \"Approved\": \"No\"}, {\"Age\": 17.08, \"Debt\": 0.25, \"CreditScore\": 4, \"Income\": 8, \"Approved\": \"No\"}, {\"Age\": 24.5, \"Debt\": 1.04, \"CreditScore\": 3, \"Income\": 147, \"Approved\": \"No\"}, {\"Age\": 37.75, \"Debt\": 5.5, \"CreditScore\": 0, \"Income\": 0, \"Approved\": \"Yes\"}, {\"Age\": 30.08, \"Debt\": 1.04, \"CreditScore\": 10, \"Income\": 28, \"Approved\": \"No\"}, {\"Age\": 44.25, \"Debt\": 0.5, \"CreditScore\": 0, \"Income\": 0, \"Approved\": \"No\"}, {\"Age\": 31.92, \"Debt\": 4.46, \"CreditScore\": 3, \"Income\": 300, \"Approved\": \"Yes\"}, {\"Age\": 28.58, \"Debt\": 3.625, \"CreditScore\": 0, \"Income\": 0, \"Approved\": \"No\"}, {\"Age\": 33.75, \"Debt\": 0.75, \"CreditScore\": 3, \"Income\": 0, \"Approved\": \"No\"}, {\"Age\": 23.0, \"Debt\": 0.625, \"CreditScore\": 0, \"Income\": 1, \"Approved\": \"No\"}, {\"Age\": 26.67, \"Debt\": 2.71, \"CreditScore\": 1, \"Income\": 0, \"Approved\": \"Yes\"}, {\"Age\": 35.75, \"Debt\": 0.915, \"CreditScore\": 4, \"Income\": 1583, \"Approved\": \"Yes\"}, {\"Age\": 44.17, \"Debt\": 6.665, \"CreditScore\": 3, \"Income\": 0, \"Approved\": \"Yes\"}, {\"Age\": 28.75, \"Debt\": 1.165, \"CreditScore\": 0, \"Income\": 0, \"Approved\": \"No\"}, {\"Age\": 25.75, \"Debt\": 0.75, \"CreditScore\": 0, \"Income\": 23, \"Approved\": \"Yes\"}, {\"Age\": 23.25, \"Debt\": 5.875, \"CreditScore\": 10, \"Income\": 245, \"Approved\": \"Yes\"}, {\"Age\": 22.5, \"Debt\": 11.0, \"CreditScore\": 0, \"Income\": 0, \"Approved\": \"No\"}, {\"Age\": 33.67, \"Debt\": 0.375, \"CreditScore\": 0, \"Income\": 44, \"Approved\": \"Yes\"}, {\"Age\": 24.33, \"Debt\": 2.5, \"CreditScore\": 0, \"Income\": 456, \"Approved\": \"No\"}, {\"Age\": 42.83, \"Debt\": 1.25, \"CreditScore\": 1, \"Income\": 112, \"Approved\": \"No\"}, {\"Age\": 13.75, \"Debt\": 4.0, \"CreditScore\": 2, \"Income\": 1000, \"Approved\": \"Yes\"}]}}, {\"mode\": \"vega-lite\"});\n",
       "</script>"
      ],
      "text/plain": [
       "alt.FacetChart(...)"
      ]
     },
     "execution_count": 7,
     "metadata": {},
     "output_type": "execute_result"
    }
   ],
   "source": [
    "# data summarization\n",
    "\n",
    "data_vis_cs = alt.Chart(data_train).mark_bar().encode(\n",
    "    x = alt.X('CreditScore').scale(domain=[0,40],clamp= True).bin(maxbins=30),\n",
    "    y = alt.Y('count()'),\n",
    "    color = alt.Color('Approved')\n",
    ").properties(\n",
    "    height=100\n",
    ").facet(\n",
    "    \"Approved:N\",)\n",
    "data_vis_cs"
   ]
  },
  {
   "cell_type": "markdown",
   "id": "f57845a5",
   "metadata": {},
   "source": [
    "Figure 1. Number of records approved and not approved for credit card based on applicant's credit score."
   ]
  },
  {
   "cell_type": "code",
   "execution_count": 8,
   "id": "77ce79ab-2474-4c13-ba4a-ba37274e3371",
   "metadata": {
    "tags": []
   },
   "outputs": [
    {
     "data": {
      "text/html": [
       "\n",
       "<style>\n",
       "  #altair-viz-d2cc9bca39574055a0fc4c37cb38c99d.vega-embed {\n",
       "    width: 100%;\n",
       "    display: flex;\n",
       "  }\n",
       "\n",
       "  #altair-viz-d2cc9bca39574055a0fc4c37cb38c99d.vega-embed details,\n",
       "  #altair-viz-d2cc9bca39574055a0fc4c37cb38c99d.vega-embed details summary {\n",
       "    position: relative;\n",
       "  }\n",
       "</style>\n",
       "<div id=\"altair-viz-d2cc9bca39574055a0fc4c37cb38c99d\"></div>\n",
       "<script type=\"text/javascript\">\n",
       "  var VEGA_DEBUG = (typeof VEGA_DEBUG == \"undefined\") ? {} : VEGA_DEBUG;\n",
       "  (function(spec, embedOpt){\n",
       "    let outputDiv = document.currentScript.previousElementSibling;\n",
       "    if (outputDiv.id !== \"altair-viz-d2cc9bca39574055a0fc4c37cb38c99d\") {\n",
       "      outputDiv = document.getElementById(\"altair-viz-d2cc9bca39574055a0fc4c37cb38c99d\");\n",
       "    }\n",
       "    const paths = {\n",
       "      \"vega\": \"https://cdn.jsdelivr.net/npm/vega@5?noext\",\n",
       "      \"vega-lib\": \"https://cdn.jsdelivr.net/npm/vega-lib?noext\",\n",
       "      \"vega-lite\": \"https://cdn.jsdelivr.net/npm/vega-lite@5.15.1?noext\",\n",
       "      \"vega-embed\": \"https://cdn.jsdelivr.net/npm/vega-embed@6?noext\",\n",
       "    };\n",
       "\n",
       "    function maybeLoadScript(lib, version) {\n",
       "      var key = `${lib.replace(\"-\", \"\")}_version`;\n",
       "      return (VEGA_DEBUG[key] == version) ?\n",
       "        Promise.resolve(paths[lib]) :\n",
       "        new Promise(function(resolve, reject) {\n",
       "          var s = document.createElement('script');\n",
       "          document.getElementsByTagName(\"head\")[0].appendChild(s);\n",
       "          s.async = true;\n",
       "          s.onload = () => {\n",
       "            VEGA_DEBUG[key] = version;\n",
       "            return resolve(paths[lib]);\n",
       "          };\n",
       "          s.onerror = () => reject(`Error loading script: ${paths[lib]}`);\n",
       "          s.src = paths[lib];\n",
       "        });\n",
       "    }\n",
       "\n",
       "    function showError(err) {\n",
       "      outputDiv.innerHTML = `<div class=\"error\" style=\"color:red;\">${err}</div>`;\n",
       "      throw err;\n",
       "    }\n",
       "\n",
       "    function displayChart(vegaEmbed) {\n",
       "      vegaEmbed(outputDiv, spec, embedOpt)\n",
       "        .catch(err => showError(`Javascript Error: ${err.message}<br>This usually means there's a typo in your chart specification. See the javascript console for the full traceback.`));\n",
       "    }\n",
       "\n",
       "    if(typeof define === \"function\" && define.amd) {\n",
       "      requirejs.config({paths});\n",
       "      require([\"vega-embed\"], displayChart, err => showError(`Error loading script: ${err.message}`));\n",
       "    } else {\n",
       "      maybeLoadScript(\"vega\", \"5\")\n",
       "        .then(() => maybeLoadScript(\"vega-lite\", \"5.15.1\"))\n",
       "        .then(() => maybeLoadScript(\"vega-embed\", \"6\"))\n",
       "        .catch(showError)\n",
       "        .then(() => displayChart(vegaEmbed));\n",
       "    }\n",
       "  })({\"config\": {\"view\": {\"continuousWidth\": 300, \"continuousHeight\": 300}}, \"data\": {\"name\": \"data-9b2ed57830432ad344c2b937c9697da2\"}, \"facet\": {\"field\": \"Approved\", \"type\": \"nominal\"}, \"spec\": {\"mark\": {\"type\": \"bar\"}, \"encoding\": {\"color\": {\"field\": \"Approved\", \"type\": \"nominal\"}, \"x\": {\"bin\": {\"maxbins\": 20}, \"field\": \"Income\", \"scale\": {\"clamp\": true}, \"type\": \"quantitative\"}, \"y\": {\"aggregate\": \"count\", \"type\": \"quantitative\"}}, \"height\": 100}, \"$schema\": \"https://vega.github.io/schema/vega-lite/v5.15.1.json\", \"datasets\": {\"data-9b2ed57830432ad344c2b937c9697da2\": [{\"Age\": 29.58, \"Debt\": 4.75, \"CreditScore\": 1, \"Income\": 68, \"Approved\": \"No\"}, {\"Age\": 25.67, \"Debt\": 12.5, \"CreditScore\": 67, \"Income\": 258, \"Approved\": \"Yes\"}, {\"Age\": 22.5, \"Debt\": 11.5, \"CreditScore\": 0, \"Income\": 4000, \"Approved\": \"No\"}, {\"Age\": 39.33, \"Debt\": 5.875, \"CreditScore\": 14, \"Income\": 0, \"Approved\": \"Yes\"}, {\"Age\": 22.17, \"Debt\": 12.125, \"CreditScore\": 2, \"Income\": 173, \"Approved\": \"No\"}, {\"Age\": 47.75, \"Debt\": 8.0, \"CreditScore\": 6, \"Income\": 1260, \"Approved\": \"Yes\"}, {\"Age\": 18.83, \"Debt\": 3.54, \"CreditScore\": 0, \"Income\": 1, \"Approved\": \"No\"}, {\"Age\": 32.83, \"Debt\": 2.5, \"CreditScore\": 6, \"Income\": 2072, \"Approved\": \"Yes\"}, {\"Age\": 34.83, \"Debt\": 2.5, \"CreditScore\": 0, \"Income\": 0, \"Approved\": \"No\"}, {\"Age\": 65.42, \"Debt\": 11.0, \"CreditScore\": 7, \"Income\": 0, \"Approved\": \"Yes\"}, {\"Age\": 18.58, \"Debt\": 5.71, \"CreditScore\": 0, \"Income\": 0, \"Approved\": \"No\"}, {\"Age\": 24.08, \"Debt\": 0.5, \"CreditScore\": 1, \"Income\": 678, \"Approved\": \"Yes\"}, {\"Age\": 32.0, \"Debt\": 6.0, \"CreditScore\": 0, \"Income\": 0, \"Approved\": \"No\"}, {\"Age\": 43.0, \"Debt\": 0.29, \"CreditScore\": 8, \"Income\": 375, \"Approved\": \"Yes\"}, {\"Age\": 24.58, \"Debt\": 1.25, \"CreditScore\": 0, \"Income\": 0, \"Approved\": \"No\"}, {\"Age\": 27.25, \"Debt\": 1.585, \"CreditScore\": 12, \"Income\": 713, \"Approved\": \"Yes\"}, {\"Age\": 54.33, \"Debt\": 6.75, \"CreditScore\": 11, \"Income\": 284, \"Approved\": \"Yes\"}, {\"Age\": 43.08, \"Debt\": 0.375, \"CreditScore\": 8, \"Income\": 162, \"Approved\": \"Yes\"}, {\"Age\": 29.5, \"Debt\": 2.0, \"CreditScore\": 0, \"Income\": 17, \"Approved\": \"No\"}, {\"Age\": 28.5, \"Debt\": 3.04, \"CreditScore\": 1, \"Income\": 0, \"Approved\": \"Yes\"}, {\"Age\": 28.92, \"Debt\": 15.0, \"CreditScore\": 11, \"Income\": 2283, \"Approved\": \"Yes\"}, {\"Age\": 22.08, \"Debt\": 2.335, \"CreditScore\": 0, \"Income\": 0, \"Approved\": \"No\"}, {\"Age\": 47.0, \"Debt\": 13.0, \"CreditScore\": 9, \"Income\": 0, \"Approved\": \"Yes\"}, {\"Age\": 26.83, \"Debt\": 0.54, \"CreditScore\": 0, \"Income\": 0, \"Approved\": \"No\"}, {\"Age\": 21.17, \"Debt\": 0.0, \"CreditScore\": 0, \"Income\": 0, \"Approved\": \"No\"}, {\"Age\": 20.42, \"Debt\": 0.835, \"CreditScore\": 1, \"Income\": 0, \"Approved\": \"Yes\"}, {\"Age\": 22.58, \"Debt\": 10.75, \"CreditScore\": 5, \"Income\": 560, \"Approved\": \"Yes\"}, {\"Age\": 36.75, \"Debt\": 5.125, \"CreditScore\": 0, \"Income\": 4000, \"Approved\": \"Yes\"}, {\"Age\": 19.17, \"Debt\": 5.415, \"CreditScore\": 0, \"Income\": 484, \"Approved\": \"No\"}, {\"Age\": 53.33, \"Debt\": 0.165, \"CreditScore\": 0, \"Income\": 27, \"Approved\": \"No\"}, {\"Age\": 22.67, \"Debt\": 2.54, \"CreditScore\": 0, \"Income\": 0, \"Approved\": \"Yes\"}, {\"Age\": 57.83, \"Debt\": 7.04, \"CreditScore\": 6, \"Income\": 1332, \"Approved\": \"Yes\"}, {\"Age\": 36.67, \"Debt\": 4.415, \"CreditScore\": 10, \"Income\": 0, \"Approved\": \"Yes\"}, {\"Age\": 29.67, \"Debt\": 1.415, \"CreditScore\": 1, \"Income\": 100, \"Approved\": \"Yes\"}, {\"Age\": 16.08, \"Debt\": 0.335, \"CreditScore\": 1, \"Income\": 126, \"Approved\": \"No\"}, {\"Age\": 17.58, \"Debt\": 10.0, \"CreditScore\": 1, \"Income\": 1, \"Approved\": \"No\"}, {\"Age\": 41.33, \"Debt\": 0.0, \"CreditScore\": 0, \"Income\": 0, \"Approved\": \"Yes\"}, {\"Age\": 22.67, \"Debt\": 10.5, \"CreditScore\": 0, \"Income\": 0, \"Approved\": \"Yes\"}, {\"Age\": 18.92, \"Debt\": 9.0, \"CreditScore\": 2, \"Income\": 591, \"Approved\": \"Yes\"}, {\"Age\": 32.17, \"Debt\": 1.46, \"CreditScore\": 16, \"Income\": 2079, \"Approved\": \"Yes\"}, {\"Age\": 27.75, \"Debt\": 1.29, \"CreditScore\": 0, \"Income\": 0, \"Approved\": \"No\"}, {\"Age\": 24.5, \"Debt\": 13.335, \"CreditScore\": 0, \"Income\": 475, \"Approved\": \"No\"}, {\"Age\": 52.33, \"Debt\": 1.375, \"CreditScore\": 0, \"Income\": 100, \"Approved\": \"No\"}, {\"Age\": 18.0, \"Debt\": 0.165, \"CreditScore\": 0, \"Income\": 40, \"Approved\": \"Yes\"}, {\"Age\": 23.33, \"Debt\": 11.625, \"CreditScore\": 0, \"Income\": 300, \"Approved\": \"Yes\"}, {\"Age\": 21.75, \"Debt\": 11.75, \"CreditScore\": 0, \"Income\": 0, \"Approved\": \"No\"}, {\"Age\": 39.42, \"Debt\": 1.71, \"CreditScore\": 0, \"Income\": 0, \"Approved\": \"No\"}, {\"Age\": 20.08, \"Debt\": 0.25, \"CreditScore\": 0, \"Income\": 0, \"Approved\": \"No\"}, {\"Age\": 39.25, \"Debt\": 9.5, \"CreditScore\": 14, \"Income\": 4607, \"Approved\": \"Yes\"}, {\"Age\": 37.75, \"Debt\": 7.0, \"CreditScore\": 7, \"Income\": 5, \"Approved\": \"No\"}, {\"Age\": 51.92, \"Debt\": 6.5, \"CreditScore\": 0, \"Income\": 0, \"Approved\": \"No\"}, {\"Age\": 21.83, \"Debt\": 11.0, \"CreditScore\": 6, \"Income\": 0, \"Approved\": \"Yes\"}, {\"Age\": 28.33, \"Debt\": 5.0, \"CreditScore\": 0, \"Income\": 0, \"Approved\": \"Yes\"}, {\"Age\": 27.83, \"Debt\": 1.0, \"CreditScore\": 0, \"Income\": 537, \"Approved\": \"No\"}, {\"Age\": 28.46, \"Debt\": 4.0, \"CreditScore\": 0, \"Income\": 0, \"Approved\": \"No\"}, {\"Age\": 29.42, \"Debt\": 1.25, \"CreditScore\": 2, \"Income\": 108, \"Approved\": \"No\"}, {\"Age\": 52.5, \"Debt\": 7.0, \"CreditScore\": 0, \"Income\": 0, \"Approved\": \"No\"}, {\"Age\": 21.83, \"Debt\": 0.25, \"CreditScore\": 0, \"Income\": 0, \"Approved\": \"Yes\"}, {\"Age\": 20.0, \"Debt\": 7.0, \"CreditScore\": 0, \"Income\": 0, \"Approved\": \"No\"}, {\"Age\": 57.58, \"Debt\": 2.0, \"CreditScore\": 1, \"Income\": 10, \"Approved\": \"No\"}, {\"Age\": 29.25, \"Debt\": 14.79, \"CreditScore\": 5, \"Income\": 0, \"Approved\": \"Yes\"}, {\"Age\": 40.92, \"Debt\": 0.835, \"CreditScore\": 0, \"Income\": 1, \"Approved\": \"No\"}, {\"Age\": 30.83, \"Debt\": 0.0, \"CreditScore\": 1, \"Income\": 0, \"Approved\": \"Yes\"}, {\"Age\": 38.58, \"Debt\": 5.0, \"CreditScore\": 0, \"Income\": 0, \"Approved\": \"No\"}, {\"Age\": 24.83, \"Debt\": 4.5, \"CreditScore\": 0, \"Income\": 6, \"Approved\": \"No\"}, {\"Age\": 25.75, \"Debt\": 0.5, \"CreditScore\": 5, \"Income\": 0, \"Approved\": \"Yes\"}, {\"Age\": 21.17, \"Debt\": 0.875, \"CreditScore\": 0, \"Income\": 204, \"Approved\": \"No\"}, {\"Age\": 16.92, \"Debt\": 0.335, \"CreditScore\": 0, \"Income\": 0, \"Approved\": \"No\"}, {\"Age\": 32.75, \"Debt\": 2.335, \"CreditScore\": 0, \"Income\": 0, \"Approved\": \"No\"}, {\"Age\": 60.08, \"Debt\": 14.5, \"CreditScore\": 15, \"Income\": 1000, \"Approved\": \"Yes\"}, {\"Age\": 34.08, \"Debt\": 2.5, \"CreditScore\": 0, \"Income\": 16, \"Approved\": \"No\"}, {\"Age\": 18.42, \"Debt\": 9.25, \"CreditScore\": 4, \"Income\": 540, \"Approved\": \"Yes\"}, {\"Age\": 35.58, \"Debt\": 0.75, \"CreditScore\": 0, \"Income\": 0, \"Approved\": \"No\"}, {\"Age\": 22.5, \"Debt\": 0.125, \"CreditScore\": 0, \"Income\": 70, \"Approved\": \"No\"}, {\"Age\": 21.33, \"Debt\": 10.5, \"CreditScore\": 0, \"Income\": 0, \"Approved\": \"Yes\"}, {\"Age\": 21.75, \"Debt\": 1.75, \"CreditScore\": 0, \"Income\": 0, \"Approved\": \"No\"}, {\"Age\": 57.08, \"Debt\": 0.335, \"CreditScore\": 0, \"Income\": 2197, \"Approved\": \"No\"}, {\"Age\": 44.83, \"Debt\": 7.0, \"CreditScore\": 0, \"Income\": 2, \"Approved\": \"No\"}, {\"Age\": 20.42, \"Debt\": 10.5, \"CreditScore\": 0, \"Income\": 32, \"Approved\": \"No\"}, {\"Age\": 22.25, \"Debt\": 0.46, \"CreditScore\": 0, \"Income\": 55, \"Approved\": \"No\"}, {\"Age\": 41.17, \"Debt\": 6.5, \"CreditScore\": 3, \"Income\": 0, \"Approved\": \"Yes\"}, {\"Age\": 22.67, \"Debt\": 0.335, \"CreditScore\": 0, \"Income\": 0, \"Approved\": \"No\"}, {\"Age\": 40.83, \"Debt\": 3.5, \"CreditScore\": 0, \"Income\": 0, \"Approved\": \"No\"}, {\"Age\": 22.58, \"Debt\": 10.04, \"CreditScore\": 9, \"Income\": 396, \"Approved\": \"Yes\"}, {\"Age\": 35.42, \"Debt\": 12.0, \"CreditScore\": 8, \"Income\": 6590, \"Approved\": \"Yes\"}, {\"Age\": 28.46, \"Debt\": 4.0, \"CreditScore\": 3, \"Income\": 2279, \"Approved\": \"Yes\"}, {\"Age\": 18.17, \"Debt\": 2.46, \"CreditScore\": 2, \"Income\": 587, \"Approved\": \"No\"}, {\"Age\": 26.75, \"Debt\": 4.5, \"CreditScore\": 0, \"Income\": 1210, \"Approved\": \"No\"}, {\"Age\": 31.83, \"Debt\": 0.04, \"CreditScore\": 0, \"Income\": 0, \"Approved\": \"No\"}, {\"Age\": 34.58, \"Debt\": 0.0, \"CreditScore\": 0, \"Income\": 0, \"Approved\": \"No\"}, {\"Age\": 21.0, \"Debt\": 4.79, \"CreditScore\": 1, \"Income\": 300, \"Approved\": \"Yes\"}, {\"Age\": 45.0, \"Debt\": 4.585, \"CreditScore\": 0, \"Income\": 0, \"Approved\": \"No\"}, {\"Age\": 45.17, \"Debt\": 1.5, \"CreditScore\": 0, \"Income\": 0, \"Approved\": \"No\"}, {\"Age\": 21.5, \"Debt\": 6.0, \"CreditScore\": 3, \"Income\": 918, \"Approved\": \"Yes\"}, {\"Age\": 30.5, \"Debt\": 6.5, \"CreditScore\": 7, \"Income\": 3065, \"Approved\": \"Yes\"}, {\"Age\": 33.0, \"Debt\": 2.5, \"CreditScore\": 0, \"Income\": 0, \"Approved\": \"No\"}, {\"Age\": 73.42, \"Debt\": 17.75, \"CreditScore\": 0, \"Income\": 0, \"Approved\": \"Yes\"}, {\"Age\": 54.83, \"Debt\": 15.5, \"CreditScore\": 20, \"Income\": 130, \"Approved\": \"No\"}, {\"Age\": 32.42, \"Debt\": 2.165, \"CreditScore\": 0, \"Income\": 0, \"Approved\": \"No\"}, {\"Age\": 20.67, \"Debt\": 1.25, \"CreditScore\": 3, \"Income\": 210, \"Approved\": \"No\"}, {\"Age\": 58.42, \"Debt\": 21.0, \"CreditScore\": 13, \"Income\": 6700, \"Approved\": \"Yes\"}, {\"Age\": 26.75, \"Debt\": 1.125, \"CreditScore\": 0, \"Income\": 5298, \"Approved\": \"Yes\"}, {\"Age\": 23.42, \"Debt\": 1.0, \"CreditScore\": 0, \"Income\": 0, \"Approved\": \"No\"}, {\"Age\": 23.92, \"Debt\": 0.665, \"CreditScore\": 0, \"Income\": 0, \"Approved\": \"Yes\"}, {\"Age\": 18.75, \"Debt\": 7.5, \"CreditScore\": 5, \"Income\": 26726, \"Approved\": \"Yes\"}, {\"Age\": 23.58, \"Debt\": 1.79, \"CreditScore\": 0, \"Income\": 1, \"Approved\": \"No\"}, {\"Age\": 20.17, \"Debt\": 8.17, \"CreditScore\": 14, \"Income\": 158, \"Approved\": \"Yes\"}, {\"Age\": 41.33, \"Debt\": 1.0, \"CreditScore\": 0, \"Income\": 300, \"Approved\": \"Yes\"}, {\"Age\": 68.67, \"Debt\": 15.0, \"CreditScore\": 14, \"Income\": 3376, \"Approved\": \"Yes\"}, {\"Age\": 47.42, \"Debt\": 3.0, \"CreditScore\": 2, \"Income\": 1704, \"Approved\": \"Yes\"}, {\"Age\": 22.67, \"Debt\": 0.165, \"CreditScore\": 0, \"Income\": 0, \"Approved\": \"Yes\"}, {\"Age\": 25.58, \"Debt\": 0.0, \"CreditScore\": 0, \"Income\": 0, \"Approved\": \"Yes\"}, {\"Age\": 28.08, \"Debt\": 15.0, \"CreditScore\": 0, \"Income\": 13212, \"Approved\": \"Yes\"}, {\"Age\": 16.17, \"Debt\": 0.04, \"CreditScore\": 0, \"Income\": 0, \"Approved\": \"Yes\"}, {\"Age\": 38.58, \"Debt\": 3.335, \"CreditScore\": 14, \"Income\": 1344, \"Approved\": \"Yes\"}, {\"Age\": 33.25, \"Debt\": 3.0, \"CreditScore\": 0, \"Income\": 0, \"Approved\": \"No\"}, {\"Age\": 51.83, \"Debt\": 3.0, \"CreditScore\": 0, \"Income\": 4, \"Approved\": \"No\"}, {\"Age\": 26.5, \"Debt\": 2.71, \"CreditScore\": 0, \"Income\": 0, \"Approved\": \"No\"}, {\"Age\": 36.33, \"Debt\": 2.125, \"CreditScore\": 1, \"Income\": 1187, \"Approved\": \"Yes\"}, {\"Age\": 34.92, \"Debt\": 5.0, \"CreditScore\": 6, \"Income\": 1000, \"Approved\": \"Yes\"}, {\"Age\": 27.0, \"Debt\": 1.5, \"CreditScore\": 0, \"Income\": 1065, \"Approved\": \"Yes\"}, {\"Age\": 23.75, \"Debt\": 0.415, \"CreditScore\": 2, \"Income\": 6, \"Approved\": \"No\"}, {\"Age\": 16.0, \"Debt\": 3.125, \"CreditScore\": 1, \"Income\": 6, \"Approved\": \"No\"}, {\"Age\": 19.58, \"Debt\": 0.585, \"CreditScore\": 3, \"Income\": 769, \"Approved\": \"No\"}, {\"Age\": 29.17, \"Debt\": 3.5, \"CreditScore\": 3, \"Income\": 0, \"Approved\": \"No\"}, {\"Age\": 28.58, \"Debt\": 3.54, \"CreditScore\": 0, \"Income\": 0, \"Approved\": \"No\"}, {\"Age\": 20.33, \"Debt\": 10.0, \"CreditScore\": 4, \"Income\": 1465, \"Approved\": \"Yes\"}, {\"Age\": 25.0, \"Debt\": 11.25, \"CreditScore\": 17, \"Income\": 1208, \"Approved\": \"Yes\"}, {\"Age\": 32.67, \"Debt\": 9.0, \"CreditScore\": 0, \"Income\": 0, \"Approved\": \"Yes\"}, {\"Age\": 38.92, \"Debt\": 1.665, \"CreditScore\": 0, \"Income\": 390, \"Approved\": \"No\"}, {\"Age\": 22.83, \"Debt\": 3.0, \"CreditScore\": 1, \"Income\": 800, \"Approved\": \"Yes\"}, {\"Age\": 18.17, \"Debt\": 10.0, \"CreditScore\": 0, \"Income\": 0, \"Approved\": \"No\"}, {\"Age\": 29.58, \"Debt\": 4.5, \"CreditScore\": 2, \"Income\": 0, \"Approved\": \"Yes\"}, {\"Age\": 23.25, \"Debt\": 12.625, \"CreditScore\": 2, \"Income\": 5552, \"Approved\": \"No\"}, {\"Age\": 18.58, \"Debt\": 10.0, \"CreditScore\": 0, \"Income\": 42, \"Approved\": \"No\"}, {\"Age\": 20.0, \"Debt\": 11.045, \"CreditScore\": 0, \"Income\": 0, \"Approved\": \"No\"}, {\"Age\": 22.42, \"Debt\": 5.665, \"CreditScore\": 7, \"Income\": 3257, \"Approved\": \"Yes\"}, {\"Age\": 31.83, \"Debt\": 2.5, \"CreditScore\": 0, \"Income\": 0, \"Approved\": \"No\"}, {\"Age\": 24.33, \"Debt\": 6.625, \"CreditScore\": 0, \"Income\": 0, \"Approved\": \"Yes\"}, {\"Age\": 21.92, \"Debt\": 11.665, \"CreditScore\": 0, \"Income\": 5, \"Approved\": \"No\"}, {\"Age\": 36.58, \"Debt\": 0.29, \"CreditScore\": 10, \"Income\": 18, \"Approved\": \"No\"}, {\"Age\": 25.67, \"Debt\": 3.25, \"CreditScore\": 1, \"Income\": 21, \"Approved\": \"No\"}, {\"Age\": 42.0, \"Debt\": 0.205, \"CreditScore\": 0, \"Income\": 0, \"Approved\": \"Yes\"}, {\"Age\": 19.58, \"Debt\": 0.665, \"CreditScore\": 0, \"Income\": 5, \"Approved\": \"No\"}, {\"Age\": 36.33, \"Debt\": 3.79, \"CreditScore\": 0, \"Income\": 0, \"Approved\": \"No\"}, {\"Age\": 33.17, \"Debt\": 1.0, \"CreditScore\": 7, \"Income\": 4071, \"Approved\": \"Yes\"}, {\"Age\": 30.17, \"Debt\": 6.5, \"CreditScore\": 8, \"Income\": 1200, \"Approved\": \"Yes\"}, {\"Age\": 56.58, \"Debt\": 18.5, \"CreditScore\": 17, \"Income\": 0, \"Approved\": \"Yes\"}, {\"Age\": 63.33, \"Debt\": 0.54, \"CreditScore\": 3, \"Income\": 0, \"Approved\": \"No\"}, {\"Age\": 41.17, \"Debt\": 4.04, \"CreditScore\": 8, \"Income\": 0, \"Approved\": \"Yes\"}, {\"Age\": 24.5, \"Debt\": 12.75, \"CreditScore\": 2, \"Income\": 444, \"Approved\": \"Yes\"}, {\"Age\": 33.08, \"Debt\": 4.625, \"CreditScore\": 2, \"Income\": 0, \"Approved\": \"Yes\"}, {\"Age\": 33.08, \"Debt\": 1.625, \"CreditScore\": 0, \"Income\": 0, \"Approved\": \"No\"}, {\"Age\": 42.17, \"Debt\": 5.04, \"CreditScore\": 0, \"Income\": 0, \"Approved\": \"Yes\"}, {\"Age\": 32.33, \"Debt\": 7.5, \"CreditScore\": 0, \"Income\": 0, \"Approved\": \"No\"}, {\"Age\": 29.5, \"Debt\": 0.58, \"CreditScore\": 1, \"Income\": 2803, \"Approved\": \"No\"}, {\"Age\": 41.58, \"Debt\": 1.75, \"CreditScore\": 0, \"Income\": 0, \"Approved\": \"No\"}, {\"Age\": 26.67, \"Debt\": 14.585, \"CreditScore\": 0, \"Income\": 0, \"Approved\": \"No\"}, {\"Age\": 23.25, \"Debt\": 1.0, \"CreditScore\": 0, \"Income\": 0, \"Approved\": \"Yes\"}, {\"Age\": 25.83, \"Debt\": 12.835, \"CreditScore\": 0, \"Income\": 2, \"Approved\": \"No\"}, {\"Age\": 29.67, \"Debt\": 0.75, \"CreditScore\": 0, \"Income\": 0, \"Approved\": \"No\"}, {\"Age\": 22.67, \"Debt\": 7.0, \"CreditScore\": 0, \"Income\": 0, \"Approved\": \"No\"}, {\"Age\": 27.67, \"Debt\": 0.75, \"CreditScore\": 0, \"Income\": 251, \"Approved\": \"No\"}, {\"Age\": 32.08, \"Debt\": 4.0, \"CreditScore\": 0, \"Income\": 0, \"Approved\": \"No\"}, {\"Age\": 20.42, \"Debt\": 7.0, \"CreditScore\": 3, \"Income\": 1391, \"Approved\": \"Yes\"}, {\"Age\": 27.67, \"Debt\": 13.75, \"CreditScore\": 0, \"Income\": 500, \"Approved\": \"Yes\"}, {\"Age\": 18.83, \"Debt\": 9.54, \"CreditScore\": 0, \"Income\": 0, \"Approved\": \"Yes\"}, {\"Age\": 48.08, \"Debt\": 3.75, \"CreditScore\": 0, \"Income\": 2, \"Approved\": \"No\"}, {\"Age\": 18.83, \"Debt\": 0.415, \"CreditScore\": 1, \"Income\": 1, \"Approved\": \"No\"}, {\"Age\": 27.67, \"Debt\": 2.0, \"CreditScore\": 4, \"Income\": 7544, \"Approved\": \"Yes\"}, {\"Age\": 17.25, \"Debt\": 3.0, \"CreditScore\": 0, \"Income\": 40, \"Approved\": \"No\"}, {\"Age\": 23.5, \"Debt\": 1.5, \"CreditScore\": 0, \"Income\": 0, \"Approved\": \"No\"}, {\"Age\": 25.92, \"Debt\": 0.875, \"CreditScore\": 2, \"Income\": 3, \"Approved\": \"No\"}, {\"Age\": 38.75, \"Debt\": 1.5, \"CreditScore\": 0, \"Income\": 0, \"Approved\": \"No\"}, {\"Age\": 20.75, \"Debt\": 9.54, \"CreditScore\": 0, \"Income\": 1000, \"Approved\": \"No\"}, {\"Age\": 40.33, \"Debt\": 8.125, \"CreditScore\": 2, \"Income\": 18, \"Approved\": \"No\"}, {\"Age\": 37.42, \"Debt\": 2.04, \"CreditScore\": 0, \"Income\": 5800, \"Approved\": \"Yes\"}, {\"Age\": 34.42, \"Debt\": 1.335, \"CreditScore\": 0, \"Income\": 4500, \"Approved\": \"No\"}, {\"Age\": 22.5, \"Debt\": 0.415, \"CreditScore\": 0, \"Income\": 0, \"Approved\": \"No\"}, {\"Age\": 28.75, \"Debt\": 1.5, \"CreditScore\": 0, \"Income\": 225, \"Approved\": \"No\"}, {\"Age\": 59.5, \"Debt\": 2.75, \"CreditScore\": 5, \"Income\": 58, \"Approved\": \"Yes\"}, {\"Age\": 23.58, \"Debt\": 0.835, \"CreditScore\": 0, \"Income\": 5, \"Approved\": \"No\"}, {\"Age\": 22.5, \"Debt\": 8.5, \"CreditScore\": 10, \"Income\": 990, \"Approved\": \"No\"}, {\"Age\": 27.83, \"Debt\": 4.0, \"CreditScore\": 2, \"Income\": 0, \"Approved\": \"No\"}, {\"Age\": 20.83, \"Debt\": 3.0, \"CreditScore\": 0, \"Income\": 0, \"Approved\": \"Yes\"}, {\"Age\": 39.0, \"Debt\": 5.0, \"CreditScore\": 10, \"Income\": 0, \"Approved\": \"Yes\"}, {\"Age\": 30.75, \"Debt\": 1.585, \"CreditScore\": 0, \"Income\": 0, \"Approved\": \"No\"}, {\"Age\": 22.67, \"Debt\": 0.75, \"CreditScore\": 1, \"Income\": 9, \"Approved\": \"No\"}, {\"Age\": 50.25, \"Debt\": 0.835, \"CreditScore\": 0, \"Income\": 117, \"Approved\": \"No\"}, {\"Age\": 34.0, \"Debt\": 5.085, \"CreditScore\": 0, \"Income\": 0, \"Approved\": \"No\"}, {\"Age\": 48.25, \"Debt\": 25.085, \"CreditScore\": 3, \"Income\": 14, \"Approved\": \"Yes\"}, {\"Age\": 25.25, \"Debt\": 12.5, \"CreditScore\": 0, \"Income\": 1062, \"Approved\": \"No\"}, {\"Age\": 23.75, \"Debt\": 0.71, \"CreditScore\": 1, \"Income\": 4, \"Approved\": \"No\"}, {\"Age\": 41.17, \"Debt\": 1.335, \"CreditScore\": 0, \"Income\": 0, \"Approved\": \"No\"}, {\"Age\": 33.17, \"Debt\": 1.04, \"CreditScore\": 0, \"Income\": 31285, \"Approved\": \"Yes\"}, {\"Age\": 23.75, \"Debt\": 12.0, \"CreditScore\": 0, \"Income\": 0, \"Approved\": \"No\"}, {\"Age\": 20.83, \"Debt\": 0.5, \"CreditScore\": 0, \"Income\": 0, \"Approved\": \"No\"}, {\"Age\": 39.92, \"Debt\": 5.0, \"CreditScore\": 0, \"Income\": 0, \"Approved\": \"No\"}, {\"Age\": 26.17, \"Debt\": 12.5, \"CreditScore\": 0, \"Income\": 17, \"Approved\": \"No\"}, {\"Age\": 39.17, \"Debt\": 2.5, \"CreditScore\": 0, \"Income\": 0, \"Approved\": \"No\"}, {\"Age\": 33.58, \"Debt\": 0.25, \"CreditScore\": 0, \"Income\": 0, \"Approved\": \"No\"}, {\"Age\": 23.42, \"Debt\": 0.79, \"CreditScore\": 2, \"Income\": 400, \"Approved\": \"Yes\"}, {\"Age\": 23.0, \"Debt\": 11.75, \"CreditScore\": 2, \"Income\": 551, \"Approved\": \"Yes\"}, {\"Age\": 33.92, \"Debt\": 1.585, \"CreditScore\": 0, \"Income\": 0, \"Approved\": \"No\"}, {\"Age\": 34.42, \"Debt\": 4.25, \"CreditScore\": 2, \"Income\": 610, \"Approved\": \"Yes\"}, {\"Age\": 19.42, \"Debt\": 7.25, \"CreditScore\": 1, \"Income\": 1, \"Approved\": \"No\"}, {\"Age\": 28.46, \"Debt\": 3.0, \"CreditScore\": 0, \"Income\": 1, \"Approved\": \"No\"}, {\"Age\": 40.83, \"Debt\": 10.0, \"CreditScore\": 0, \"Income\": 837, \"Approved\": \"Yes\"}, {\"Age\": 27.67, \"Debt\": 2.04, \"CreditScore\": 0, \"Income\": 50, \"Approved\": \"No\"}, {\"Age\": 22.75, \"Debt\": 11.5, \"CreditScore\": 0, \"Income\": 0, \"Approved\": \"No\"}, {\"Age\": 37.5, \"Debt\": 0.835, \"CreditScore\": 0, \"Income\": 5, \"Approved\": \"No\"}, {\"Age\": 27.75, \"Debt\": 0.585, \"CreditScore\": 2, \"Income\": 500, \"Approved\": \"Yes\"}, {\"Age\": 55.75, \"Debt\": 7.08, \"CreditScore\": 3, \"Income\": 50, \"Approved\": \"No\"}, {\"Age\": 62.5, \"Debt\": 12.75, \"CreditScore\": 0, \"Income\": 0, \"Approved\": \"No\"}, {\"Age\": 38.25, \"Debt\": 6.0, \"CreditScore\": 0, \"Income\": 0, \"Approved\": \"Yes\"}, {\"Age\": 40.92, \"Debt\": 0.5, \"CreditScore\": 0, \"Income\": 0, \"Approved\": \"No\"}, {\"Age\": 28.46, \"Debt\": 1.5, \"CreditScore\": 2, \"Income\": 105, \"Approved\": \"No\"}, {\"Age\": 27.25, \"Debt\": 1.665, \"CreditScore\": 9, \"Income\": 827, \"Approved\": \"Yes\"}, {\"Age\": 23.58, \"Debt\": 0.585, \"CreditScore\": 0, \"Income\": 87, \"Approved\": \"No\"}, {\"Age\": 16.5, \"Debt\": 0.125, \"CreditScore\": 0, \"Income\": 0, \"Approved\": \"No\"}, {\"Age\": 28.46, \"Debt\": 0.5, \"CreditScore\": 0, \"Income\": 0, \"Approved\": \"No\"}, {\"Age\": 15.83, \"Debt\": 0.585, \"CreditScore\": 2, \"Income\": 0, \"Approved\": \"Yes\"}, {\"Age\": 25.0, \"Debt\": 12.33, \"CreditScore\": 6, \"Income\": 458, \"Approved\": \"Yes\"}, {\"Age\": 32.0, \"Debt\": 1.75, \"CreditScore\": 0, \"Income\": 0, \"Approved\": \"Yes\"}, {\"Age\": 27.67, \"Debt\": 1.5, \"CreditScore\": 0, \"Income\": 0, \"Approved\": \"No\"}, {\"Age\": 23.08, \"Debt\": 2.5, \"CreditScore\": 0, \"Income\": 4208, \"Approved\": \"No\"}, {\"Age\": 36.25, \"Debt\": 5.0, \"CreditScore\": 6, \"Income\": 367, \"Approved\": \"Yes\"}, {\"Age\": 58.67, \"Debt\": 4.46, \"CreditScore\": 6, \"Income\": 560, \"Approved\": \"Yes\"}, {\"Age\": 25.17, \"Debt\": 2.875, \"CreditScore\": 0, \"Income\": 0, \"Approved\": \"Yes\"}, {\"Age\": 19.17, \"Debt\": 8.585, \"CreditScore\": 7, \"Income\": 0, \"Approved\": \"Yes\"}, {\"Age\": 42.08, \"Debt\": 1.04, \"CreditScore\": 6, \"Income\": 10000, \"Approved\": \"Yes\"}, {\"Age\": 34.75, \"Debt\": 2.5, \"CreditScore\": 0, \"Income\": 0, \"Approved\": \"No\"}, {\"Age\": 28.17, \"Debt\": 0.585, \"CreditScore\": 0, \"Income\": 1004, \"Approved\": \"No\"}, {\"Age\": 36.17, \"Debt\": 5.5, \"CreditScore\": 0, \"Income\": 687, \"Approved\": \"No\"}, {\"Age\": 18.83, \"Debt\": 4.415, \"CreditScore\": 0, \"Income\": 0, \"Approved\": \"Yes\"}, {\"Age\": 22.25, \"Debt\": 9.0, \"CreditScore\": 0, \"Income\": 0, \"Approved\": \"No\"}, {\"Age\": 34.83, \"Debt\": 4.0, \"CreditScore\": 0, \"Income\": 0, \"Approved\": \"No\"}, {\"Age\": 26.17, \"Debt\": 2.0, \"CreditScore\": 0, \"Income\": 1, \"Approved\": \"No\"}, {\"Age\": 28.46, \"Debt\": 3.5, \"CreditScore\": 0, \"Income\": 0, \"Approved\": \"No\"}, {\"Age\": 21.42, \"Debt\": 0.75, \"CreditScore\": 0, \"Income\": 2, \"Approved\": \"No\"}, {\"Age\": 18.25, \"Debt\": 10.0, \"CreditScore\": 1, \"Income\": 1, \"Approved\": \"No\"}, {\"Age\": 22.08, \"Debt\": 11.46, \"CreditScore\": 0, \"Income\": 1212, \"Approved\": \"No\"}, {\"Age\": 20.42, \"Debt\": 0.0, \"CreditScore\": 0, \"Income\": 0, \"Approved\": \"No\"}, {\"Age\": 34.92, \"Debt\": 2.5, \"CreditScore\": 0, \"Income\": 200, \"Approved\": \"Yes\"}, {\"Age\": 24.58, \"Debt\": 13.5, \"CreditScore\": 0, \"Income\": 0, \"Approved\": \"No\"}, {\"Age\": 49.83, \"Debt\": 13.585, \"CreditScore\": 0, \"Income\": 0, \"Approved\": \"Yes\"}, {\"Age\": 24.17, \"Debt\": 0.875, \"CreditScore\": 2, \"Income\": 2000, \"Approved\": \"Yes\"}, {\"Age\": 23.58, \"Debt\": 0.46, \"CreditScore\": 6, \"Income\": 347, \"Approved\": \"No\"}, {\"Age\": 23.33, \"Debt\": 1.5, \"CreditScore\": 0, \"Income\": 200, \"Approved\": \"Yes\"}, {\"Age\": 39.08, \"Debt\": 6.0, \"CreditScore\": 5, \"Income\": 1097, \"Approved\": \"Yes\"}, {\"Age\": 36.08, \"Debt\": 2.54, \"CreditScore\": 0, \"Income\": 1000, \"Approved\": \"No\"}, {\"Age\": 32.25, \"Debt\": 1.5, \"CreditScore\": 0, \"Income\": 122, \"Approved\": \"No\"}, {\"Age\": 25.0, \"Debt\": 12.0, \"CreditScore\": 2, \"Income\": 5, \"Approved\": \"No\"}, {\"Age\": 36.17, \"Debt\": 0.42, \"CreditScore\": 0, \"Income\": 2, \"Approved\": \"No\"}, {\"Age\": 32.33, \"Debt\": 3.5, \"CreditScore\": 0, \"Income\": 0, \"Approved\": \"No\"}, {\"Age\": 39.17, \"Debt\": 1.625, \"CreditScore\": 10, \"Income\": 4700, \"Approved\": \"Yes\"}, {\"Age\": 26.17, \"Debt\": 0.835, \"CreditScore\": 0, \"Income\": 0, \"Approved\": \"No\"}, {\"Age\": 49.5, \"Debt\": 7.585, \"CreditScore\": 15, \"Income\": 5000, \"Approved\": \"Yes\"}, {\"Age\": 52.83, \"Debt\": 15.0, \"CreditScore\": 14, \"Income\": 2200, \"Approved\": \"Yes\"}, {\"Age\": 20.17, \"Debt\": 5.625, \"CreditScore\": 0, \"Income\": 0, \"Approved\": \"Yes\"}, {\"Age\": 26.25, \"Debt\": 1.54, \"CreditScore\": 0, \"Income\": 0, \"Approved\": \"No\"}, {\"Age\": 53.92, \"Debt\": 9.625, \"CreditScore\": 5, \"Income\": 0, \"Approved\": \"Yes\"}, {\"Age\": 38.17, \"Debt\": 10.125, \"CreditScore\": 6, \"Income\": 196, \"Approved\": \"Yes\"}, {\"Age\": 20.67, \"Debt\": 1.835, \"CreditScore\": 5, \"Income\": 2503, \"Approved\": \"Yes\"}, {\"Age\": 27.25, \"Debt\": 0.625, \"CreditScore\": 0, \"Income\": 0, \"Approved\": \"No\"}, {\"Age\": 22.75, \"Debt\": 11.0, \"CreditScore\": 7, \"Income\": 809, \"Approved\": \"Yes\"}, {\"Age\": 31.67, \"Debt\": 0.83, \"CreditScore\": 8, \"Income\": 3290, \"Approved\": \"Yes\"}, {\"Age\": 22.33, \"Debt\": 11.0, \"CreditScore\": 1, \"Income\": 278, \"Approved\": \"Yes\"}, {\"Age\": 47.67, \"Debt\": 2.5, \"CreditScore\": 12, \"Income\": 2510, \"Approved\": \"Yes\"}, {\"Age\": 37.33, \"Debt\": 6.5, \"CreditScore\": 12, \"Income\": 0, \"Approved\": \"Yes\"}, {\"Age\": 42.83, \"Debt\": 4.625, \"CreditScore\": 0, \"Income\": 0, \"Approved\": \"Yes\"}, {\"Age\": 20.5, \"Debt\": 10.0, \"CreditScore\": 0, \"Income\": 0, \"Approved\": \"Yes\"}, {\"Age\": 49.58, \"Debt\": 19.0, \"CreditScore\": 1, \"Income\": 0, \"Approved\": \"No\"}, {\"Age\": 52.5, \"Debt\": 6.5, \"CreditScore\": 15, \"Income\": 11202, \"Approved\": \"Yes\"}, {\"Age\": 21.0, \"Debt\": 3.0, \"CreditScore\": 8, \"Income\": 1, \"Approved\": \"Yes\"}, {\"Age\": 19.17, \"Debt\": 0.0, \"CreditScore\": 0, \"Income\": 1, \"Approved\": \"Yes\"}, {\"Age\": 27.42, \"Debt\": 14.5, \"CreditScore\": 1, \"Income\": 11, \"Approved\": \"Yes\"}, {\"Age\": 29.5, \"Debt\": 0.46, \"CreditScore\": 4, \"Income\": 500, \"Approved\": \"Yes\"}, {\"Age\": 36.5, \"Debt\": 4.25, \"CreditScore\": 0, \"Income\": 50, \"Approved\": \"No\"}, {\"Age\": 19.67, \"Debt\": 0.21, \"CreditScore\": 11, \"Income\": 99, \"Approved\": \"Yes\"}, {\"Age\": 25.33, \"Debt\": 0.58, \"CreditScore\": 7, \"Income\": 5124, \"Approved\": \"Yes\"}, {\"Age\": 31.67, \"Debt\": 16.165, \"CreditScore\": 9, \"Income\": 730, \"Approved\": \"Yes\"}, {\"Age\": 40.92, \"Debt\": 2.25, \"CreditScore\": 0, \"Income\": 0, \"Approved\": \"No\"}, {\"Age\": 56.83, \"Debt\": 4.25, \"CreditScore\": 0, \"Income\": 4, \"Approved\": \"No\"}, {\"Age\": 34.83, \"Debt\": 1.25, \"CreditScore\": 0, \"Income\": 0, \"Approved\": \"No\"}, {\"Age\": 51.83, \"Debt\": 2.04, \"CreditScore\": 0, \"Income\": 1, \"Approved\": \"No\"}, {\"Age\": 43.25, \"Debt\": 25.21, \"CreditScore\": 1, \"Income\": 90, \"Approved\": \"No\"}, {\"Age\": 56.42, \"Debt\": 28.0, \"CreditScore\": 40, \"Income\": 15, \"Approved\": \"Yes\"}, {\"Age\": 17.92, \"Debt\": 0.54, \"CreditScore\": 1, \"Income\": 5, \"Approved\": \"No\"}, {\"Age\": 23.5, \"Debt\": 2.75, \"CreditScore\": 0, \"Income\": 25, \"Approved\": \"No\"}, {\"Age\": 49.0, \"Debt\": 1.5, \"CreditScore\": 0, \"Income\": 27, \"Approved\": \"No\"}, {\"Age\": 69.5, \"Debt\": 6.0, \"CreditScore\": 0, \"Income\": 0, \"Approved\": \"No\"}, {\"Age\": 33.5, \"Debt\": 1.75, \"CreditScore\": 4, \"Income\": 857, \"Approved\": \"Yes\"}, {\"Age\": 34.25, \"Debt\": 1.75, \"CreditScore\": 0, \"Income\": 0, \"Approved\": \"No\"}, {\"Age\": 33.67, \"Debt\": 1.25, \"CreditScore\": 0, \"Income\": 0, \"Approved\": \"No\"}, {\"Age\": 36.67, \"Debt\": 3.25, \"CreditScore\": 0, \"Income\": 639, \"Approved\": \"Yes\"}, {\"Age\": 33.58, \"Debt\": 2.75, \"CreditScore\": 6, \"Income\": 0, \"Approved\": \"Yes\"}, {\"Age\": 22.92, \"Debt\": 0.17, \"CreditScore\": 0, \"Income\": 0, \"Approved\": \"No\"}, {\"Age\": 29.42, \"Debt\": 1.25, \"CreditScore\": 0, \"Income\": 0, \"Approved\": \"No\"}, {\"Age\": 50.08, \"Debt\": 12.54, \"CreditScore\": 3, \"Income\": 0, \"Approved\": \"Yes\"}, {\"Age\": 31.08, \"Debt\": 3.085, \"CreditScore\": 2, \"Income\": 41, \"Approved\": \"No\"}, {\"Age\": 32.33, \"Debt\": 0.54, \"CreditScore\": 0, \"Income\": 11177, \"Approved\": \"Yes\"}, {\"Age\": 23.25, \"Debt\": 4.0, \"CreditScore\": 0, \"Income\": 0, \"Approved\": \"Yes\"}, {\"Age\": 17.33, \"Debt\": 9.5, \"CreditScore\": 10, \"Income\": 10, \"Approved\": \"No\"}, {\"Age\": 52.42, \"Debt\": 1.5, \"CreditScore\": 0, \"Income\": 350, \"Approved\": \"No\"}, {\"Age\": 22.92, \"Debt\": 11.585, \"CreditScore\": 0, \"Income\": 1349, \"Approved\": \"Yes\"}, {\"Age\": 32.25, \"Debt\": 0.165, \"CreditScore\": 1, \"Income\": 8000, \"Approved\": \"Yes\"}, {\"Age\": 25.42, \"Debt\": 1.125, \"CreditScore\": 2, \"Income\": 0, \"Approved\": \"No\"}, {\"Age\": 27.58, \"Debt\": 3.25, \"CreditScore\": 2, \"Income\": 1, \"Approved\": \"No\"}, {\"Age\": 16.0, \"Debt\": 0.165, \"CreditScore\": 2, \"Income\": 1, \"Approved\": \"No\"}, {\"Age\": 28.58, \"Debt\": 1.665, \"CreditScore\": 0, \"Income\": 0, \"Approved\": \"No\"}, {\"Age\": 23.08, \"Debt\": 11.5, \"CreditScore\": 11, \"Income\": 284, \"Approved\": \"Yes\"}, {\"Age\": 33.17, \"Debt\": 3.04, \"CreditScore\": 1, \"Income\": 18027, \"Approved\": \"Yes\"}, {\"Age\": 39.92, \"Debt\": 0.54, \"CreditScore\": 3, \"Income\": 1000, \"Approved\": \"Yes\"}, {\"Age\": 31.33, \"Debt\": 19.5, \"CreditScore\": 16, \"Income\": 5000, \"Approved\": \"Yes\"}, {\"Age\": 41.0, \"Debt\": 0.04, \"CreditScore\": 1, \"Income\": 0, \"Approved\": \"Yes\"}, {\"Age\": 32.25, \"Debt\": 14.0, \"CreditScore\": 2, \"Income\": 1, \"Approved\": \"No\"}, {\"Age\": 21.58, \"Debt\": 0.79, \"CreditScore\": 0, \"Income\": 0, \"Approved\": \"No\"}, {\"Age\": 38.67, \"Debt\": 0.21, \"CreditScore\": 0, \"Income\": 0, \"Approved\": \"Yes\"}, {\"Age\": 23.08, \"Debt\": 2.5, \"CreditScore\": 11, \"Income\": 2184, \"Approved\": \"Yes\"}, {\"Age\": 20.42, \"Debt\": 7.5, \"CreditScore\": 1, \"Income\": 234, \"Approved\": \"Yes\"}, {\"Age\": 33.75, \"Debt\": 2.75, \"CreditScore\": 0, \"Income\": 0, \"Approved\": \"No\"}, {\"Age\": 22.17, \"Debt\": 2.25, \"CreditScore\": 0, \"Income\": 10, \"Approved\": \"No\"}, {\"Age\": 35.75, \"Debt\": 2.415, \"CreditScore\": 2, \"Income\": 1, \"Approved\": \"No\"}, {\"Age\": 20.83, \"Debt\": 8.5, \"CreditScore\": 0, \"Income\": 351, \"Approved\": \"No\"}, {\"Age\": 57.08, \"Debt\": 19.5, \"CreditScore\": 7, \"Income\": 3000, \"Approved\": \"Yes\"}, {\"Age\": 18.92, \"Debt\": 9.25, \"CreditScore\": 4, \"Income\": 500, \"Approved\": \"Yes\"}, {\"Age\": 16.25, \"Debt\": 0.835, \"CreditScore\": 0, \"Income\": 0, \"Approved\": \"No\"}, {\"Age\": 43.17, \"Debt\": 2.25, \"CreditScore\": 0, \"Income\": 0, \"Approved\": \"No\"}, {\"Age\": 28.17, \"Debt\": 0.375, \"CreditScore\": 4, \"Income\": 0, \"Approved\": \"Yes\"}, {\"Age\": 30.0, \"Debt\": 5.29, \"CreditScore\": 5, \"Income\": 500, \"Approved\": \"Yes\"}, {\"Age\": 19.67, \"Debt\": 0.375, \"CreditScore\": 2, \"Income\": 0, \"Approved\": \"Yes\"}, {\"Age\": 22.08, \"Debt\": 0.83, \"CreditScore\": 0, \"Income\": 0, \"Approved\": \"Yes\"}, {\"Age\": 28.58, \"Debt\": 3.75, \"CreditScore\": 1, \"Income\": 154, \"Approved\": \"No\"}, {\"Age\": 57.42, \"Debt\": 8.5, \"CreditScore\": 3, \"Income\": 0, \"Approved\": \"Yes\"}, {\"Age\": 41.42, \"Debt\": 5.0, \"CreditScore\": 6, \"Income\": 0, \"Approved\": \"Yes\"}, {\"Age\": 28.67, \"Debt\": 9.335, \"CreditScore\": 6, \"Income\": 168, \"Approved\": \"Yes\"}, {\"Age\": 24.75, \"Debt\": 0.54, \"CreditScore\": 0, \"Income\": 1, \"Approved\": \"No\"}, {\"Age\": 23.5, \"Debt\": 9.0, \"CreditScore\": 5, \"Income\": 0, \"Approved\": \"Yes\"}, {\"Age\": 35.17, \"Debt\": 25.125, \"CreditScore\": 1, \"Income\": 500, \"Approved\": \"Yes\"}, {\"Age\": 34.5, \"Debt\": 4.04, \"CreditScore\": 7, \"Income\": 0, \"Approved\": \"Yes\"}, {\"Age\": 16.08, \"Debt\": 0.75, \"CreditScore\": 5, \"Income\": 690, \"Approved\": \"Yes\"}, {\"Age\": 24.58, \"Debt\": 12.5, \"CreditScore\": 0, \"Income\": 0, \"Approved\": \"No\"}, {\"Age\": 29.5, \"Debt\": 1.085, \"CreditScore\": 0, \"Income\": 13, \"Approved\": \"No\"}, {\"Age\": 16.33, \"Debt\": 0.21, \"CreditScore\": 0, \"Income\": 1, \"Approved\": \"No\"}, {\"Age\": 21.83, \"Debt\": 1.54, \"CreditScore\": 0, \"Income\": 0, \"Approved\": \"No\"}, {\"Age\": 64.08, \"Debt\": 0.165, \"CreditScore\": 1, \"Income\": 100, \"Approved\": \"Yes\"}, {\"Age\": 42.75, \"Debt\": 4.085, \"CreditScore\": 0, \"Income\": 100, \"Approved\": \"No\"}, {\"Age\": 29.58, \"Debt\": 1.75, \"CreditScore\": 0, \"Income\": 0, \"Approved\": \"No\"}, {\"Age\": 24.75, \"Debt\": 3.0, \"CreditScore\": 19, \"Income\": 500, \"Approved\": \"Yes\"}, {\"Age\": 39.58, \"Debt\": 5.0, \"CreditScore\": 2, \"Income\": 1, \"Approved\": \"No\"}, {\"Age\": 23.92, \"Debt\": 0.585, \"CreditScore\": 0, \"Income\": 1, \"Approved\": \"No\"}, {\"Age\": 19.58, \"Debt\": 0.665, \"CreditScore\": 1, \"Income\": 2, \"Approved\": \"No\"}, {\"Age\": 40.58, \"Debt\": 5.0, \"CreditScore\": 7, \"Income\": 3065, \"Approved\": \"Yes\"}, {\"Age\": 30.58, \"Debt\": 2.71, \"CreditScore\": 0, \"Income\": 0, \"Approved\": \"No\"}, {\"Age\": 25.67, \"Debt\": 0.29, \"CreditScore\": 0, \"Income\": 0, \"Approved\": \"No\"}, {\"Age\": 28.46, \"Debt\": 5.0, \"CreditScore\": 0, \"Income\": 0, \"Approved\": \"No\"}, {\"Age\": 31.25, \"Debt\": 2.835, \"CreditScore\": 5, \"Income\": 146, \"Approved\": \"No\"}, {\"Age\": 37.33, \"Debt\": 2.5, \"CreditScore\": 0, \"Income\": 246, \"Approved\": \"No\"}, {\"Age\": 28.25, \"Debt\": 5.125, \"CreditScore\": 2, \"Income\": 7, \"Approved\": \"Yes\"}, {\"Age\": 26.75, \"Debt\": 2.0, \"CreditScore\": 0, \"Income\": 0, \"Approved\": \"No\"}, {\"Age\": 18.42, \"Debt\": 10.415, \"CreditScore\": 0, \"Income\": 375, \"Approved\": \"No\"}, {\"Age\": 67.75, \"Debt\": 5.5, \"CreditScore\": 1, \"Income\": 0, \"Approved\": \"Yes\"}, {\"Age\": 18.83, \"Debt\": 0.0, \"CreditScore\": 0, \"Income\": 1, \"Approved\": \"No\"}, {\"Age\": 48.17, \"Debt\": 7.625, \"CreditScore\": 12, \"Income\": 790, \"Approved\": \"Yes\"}, {\"Age\": 48.17, \"Debt\": 3.5, \"CreditScore\": 0, \"Income\": 0, \"Approved\": \"Yes\"}, {\"Age\": 65.17, \"Debt\": 14.0, \"CreditScore\": 11, \"Income\": 1400, \"Approved\": \"Yes\"}, {\"Age\": 40.58, \"Debt\": 3.29, \"CreditScore\": 0, \"Income\": 0, \"Approved\": \"No\"}, {\"Age\": 22.0, \"Debt\": 0.79, \"CreditScore\": 1, \"Income\": 283, \"Approved\": \"No\"}, {\"Age\": 23.5, \"Debt\": 3.165, \"CreditScore\": 1, \"Income\": 80, \"Approved\": \"No\"}, {\"Age\": 21.08, \"Debt\": 4.125, \"CreditScore\": 0, \"Income\": 100, \"Approved\": \"No\"}, {\"Age\": 23.08, \"Debt\": 0.0, \"CreditScore\": 11, \"Income\": 0, \"Approved\": \"No\"}, {\"Age\": 51.42, \"Debt\": 0.04, \"CreditScore\": 0, \"Income\": 3000, \"Approved\": \"Yes\"}, {\"Age\": 20.0, \"Debt\": 0.0, \"CreditScore\": 0, \"Income\": 0, \"Approved\": \"No\"}, {\"Age\": 49.17, \"Debt\": 2.29, \"CreditScore\": 0, \"Income\": 3, \"Approved\": \"No\"}, {\"Age\": 23.58, \"Debt\": 0.83, \"CreditScore\": 1, \"Income\": 11, \"Approved\": \"No\"}, {\"Age\": 20.17, \"Debt\": 9.25, \"CreditScore\": 3, \"Income\": 28, \"Approved\": \"Yes\"}, {\"Age\": 47.25, \"Debt\": 0.75, \"CreditScore\": 1, \"Income\": 892, \"Approved\": \"Yes\"}, {\"Age\": 24.5, \"Debt\": 2.415, \"CreditScore\": 0, \"Income\": 0, \"Approved\": \"No\"}, {\"Age\": 34.08, \"Debt\": 6.5, \"CreditScore\": 0, \"Income\": 0, \"Approved\": \"No\"}, {\"Age\": 34.75, \"Debt\": 15.0, \"CreditScore\": 9, \"Income\": 134, \"Approved\": \"Yes\"}, {\"Age\": 20.08, \"Debt\": 0.125, \"CreditScore\": 1, \"Income\": 768, \"Approved\": \"Yes\"}, {\"Age\": 23.42, \"Debt\": 0.585, \"CreditScore\": 0, \"Income\": 0, \"Approved\": \"No\"}, {\"Age\": 34.17, \"Debt\": 1.54, \"CreditScore\": 1, \"Income\": 50000, \"Approved\": \"Yes\"}, {\"Age\": 25.58, \"Debt\": 0.335, \"CreditScore\": 0, \"Income\": 0, \"Approved\": \"No\"}, {\"Age\": 71.58, \"Debt\": 0.0, \"CreditScore\": 0, \"Income\": 0, \"Approved\": \"Yes\"}, {\"Age\": 54.42, \"Debt\": 0.5, \"CreditScore\": 0, \"Income\": 314, \"Approved\": \"Yes\"}, {\"Age\": 19.17, \"Debt\": 0.585, \"CreditScore\": 0, \"Income\": 0, \"Approved\": \"No\"}, {\"Age\": 27.0, \"Debt\": 0.75, \"CreditScore\": 3, \"Income\": 150, \"Approved\": \"Yes\"}, {\"Age\": 35.17, \"Debt\": 4.5, \"CreditScore\": 0, \"Income\": 0, \"Approved\": \"Yes\"}, {\"Age\": 17.42, \"Debt\": 6.5, \"CreditScore\": 0, \"Income\": 100, \"Approved\": \"No\"}, {\"Age\": 33.67, \"Debt\": 2.165, \"CreditScore\": 0, \"Income\": 0, \"Approved\": \"No\"}, {\"Age\": 20.67, \"Debt\": 0.835, \"CreditScore\": 0, \"Income\": 0, \"Approved\": \"No\"}, {\"Age\": 16.92, \"Debt\": 0.5, \"CreditScore\": 6, \"Income\": 35, \"Approved\": \"No\"}, {\"Age\": 25.0, \"Debt\": 0.875, \"CreditScore\": 0, \"Income\": 5860, \"Approved\": \"Yes\"}, {\"Age\": 29.83, \"Debt\": 3.5, \"CreditScore\": 0, \"Income\": 0, \"Approved\": \"No\"}, {\"Age\": 36.75, \"Debt\": 0.125, \"CreditScore\": 0, \"Income\": 113, \"Approved\": \"Yes\"}, {\"Age\": 24.42, \"Debt\": 2.0, \"CreditScore\": 2, \"Income\": 1300, \"Approved\": \"No\"}, {\"Age\": 22.67, \"Debt\": 0.79, \"CreditScore\": 0, \"Income\": 0, \"Approved\": \"No\"}, {\"Age\": 56.5, \"Debt\": 16.0, \"CreditScore\": 15, \"Income\": 247, \"Approved\": \"Yes\"}, {\"Age\": 34.0, \"Debt\": 4.5, \"CreditScore\": 0, \"Income\": 0, \"Approved\": \"No\"}, {\"Age\": 48.58, \"Debt\": 0.205, \"CreditScore\": 11, \"Income\": 2732, \"Approved\": \"Yes\"}, {\"Age\": 18.08, \"Debt\": 0.375, \"CreditScore\": 0, \"Income\": 0, \"Approved\": \"Yes\"}, {\"Age\": 56.75, \"Debt\": 12.25, \"CreditScore\": 4, \"Income\": 0, \"Approved\": \"Yes\"}, {\"Age\": 28.17, \"Debt\": 0.125, \"CreditScore\": 0, \"Income\": 2100, \"Approved\": \"No\"}, {\"Age\": 34.0, \"Debt\": 5.5, \"CreditScore\": 0, \"Income\": 0, \"Approved\": \"No\"}, {\"Age\": 26.58, \"Debt\": 2.54, \"CreditScore\": 0, \"Income\": 60, \"Approved\": \"No\"}, {\"Age\": 25.25, \"Debt\": 1.0, \"CreditScore\": 0, \"Income\": 0, \"Approved\": \"No\"}, {\"Age\": 18.25, \"Debt\": 0.165, \"CreditScore\": 0, \"Income\": 0, \"Approved\": \"No\"}, {\"Age\": 47.17, \"Debt\": 5.835, \"CreditScore\": 0, \"Income\": 150, \"Approved\": \"No\"}, {\"Age\": 69.17, \"Debt\": 9.0, \"CreditScore\": 1, \"Income\": 6, \"Approved\": \"No\"}, {\"Age\": 23.0, \"Debt\": 0.75, \"CreditScore\": 0, \"Income\": 0, \"Approved\": \"No\"}, {\"Age\": 30.58, \"Debt\": 10.665, \"CreditScore\": 12, \"Income\": 3, \"Approved\": \"No\"}, {\"Age\": 41.0, \"Debt\": 2.04, \"CreditScore\": 23, \"Income\": 1236, \"Approved\": \"Yes\"}, {\"Age\": 28.46, \"Debt\": 0.375, \"CreditScore\": 0, \"Income\": 0, \"Approved\": \"No\"}, {\"Age\": 19.75, \"Debt\": 0.75, \"CreditScore\": 5, \"Income\": 5, \"Approved\": \"No\"}, {\"Age\": 30.25, \"Debt\": 5.5, \"CreditScore\": 0, \"Income\": 0, \"Approved\": \"No\"}, {\"Age\": 28.25, \"Debt\": 0.875, \"CreditScore\": 3, \"Income\": 0, \"Approved\": \"Yes\"}, {\"Age\": 20.5, \"Debt\": 11.835, \"CreditScore\": 0, \"Income\": 0, \"Approved\": \"Yes\"}, {\"Age\": 22.67, \"Debt\": 1.585, \"CreditScore\": 6, \"Income\": 0, \"Approved\": \"Yes\"}, {\"Age\": 21.5, \"Debt\": 11.5, \"CreditScore\": 0, \"Income\": 68, \"Approved\": \"No\"}, {\"Age\": 28.92, \"Debt\": 0.375, \"CreditScore\": 0, \"Income\": 140, \"Approved\": \"No\"}, {\"Age\": 80.25, \"Debt\": 5.5, \"CreditScore\": 0, \"Income\": 340, \"Approved\": \"No\"}, {\"Age\": 27.17, \"Debt\": 1.25, \"CreditScore\": 1, \"Income\": 300, \"Approved\": \"No\"}, {\"Age\": 31.25, \"Debt\": 3.75, \"CreditScore\": 9, \"Income\": 0, \"Approved\": \"Yes\"}, {\"Age\": 27.58, \"Debt\": 2.04, \"CreditScore\": 3, \"Income\": 560, \"Approved\": \"Yes\"}, {\"Age\": 30.42, \"Debt\": 1.375, \"CreditScore\": 3, \"Income\": 33, \"Approved\": \"No\"}, {\"Age\": 45.83, \"Debt\": 10.5, \"CreditScore\": 7, \"Income\": 0, \"Approved\": \"Yes\"}, {\"Age\": 25.67, \"Debt\": 2.21, \"CreditScore\": 0, \"Income\": 0, \"Approved\": \"No\"}, {\"Age\": 17.08, \"Debt\": 0.085, \"CreditScore\": 0, \"Income\": 722, \"Approved\": \"No\"}, {\"Age\": 48.17, \"Debt\": 1.335, \"CreditScore\": 0, \"Income\": 120, \"Approved\": \"No\"}, {\"Age\": 17.58, \"Debt\": 9.0, \"CreditScore\": 0, \"Income\": 0, \"Approved\": \"Yes\"}, {\"Age\": 24.5, \"Debt\": 1.75, \"CreditScore\": 0, \"Income\": 0, \"Approved\": \"No\"}, {\"Age\": 27.83, \"Debt\": 1.54, \"CreditScore\": 5, \"Income\": 3, \"Approved\": \"Yes\"}, {\"Age\": 36.67, \"Debt\": 2.0, \"CreditScore\": 0, \"Income\": 0, \"Approved\": \"No\"}, {\"Age\": 45.33, \"Debt\": 1.0, \"CreditScore\": 0, \"Income\": 0, \"Approved\": \"No\"}, {\"Age\": 19.17, \"Debt\": 4.0, \"CreditScore\": 0, \"Income\": 1000, \"Approved\": \"No\"}, {\"Age\": 26.92, \"Debt\": 13.5, \"CreditScore\": 2, \"Income\": 5000, \"Approved\": \"Yes\"}, {\"Age\": 25.5, \"Debt\": 0.375, \"CreditScore\": 3, \"Income\": 15108, \"Approved\": \"Yes\"}, {\"Age\": 28.46, \"Debt\": 10.5, \"CreditScore\": 0, \"Income\": 0, \"Approved\": \"Yes\"}, {\"Age\": 26.92, \"Debt\": 2.25, \"CreditScore\": 0, \"Income\": 4000, \"Approved\": \"No\"}, {\"Age\": 23.17, \"Debt\": 0.0, \"CreditScore\": 0, \"Income\": 0, \"Approved\": \"Yes\"}, {\"Age\": 24.75, \"Debt\": 13.665, \"CreditScore\": 0, \"Income\": 1, \"Approved\": \"No\"}, {\"Age\": 26.0, \"Debt\": 1.0, \"CreditScore\": 0, \"Income\": 0, \"Approved\": \"Yes\"}, {\"Age\": 20.25, \"Debt\": 9.96, \"CreditScore\": 0, \"Income\": 0, \"Approved\": \"Yes\"}, {\"Age\": 27.58, \"Debt\": 3.0, \"CreditScore\": 1, \"Income\": 10, \"Approved\": \"No\"}, {\"Age\": 25.33, \"Debt\": 2.085, \"CreditScore\": 0, \"Income\": 1, \"Approved\": \"No\"}, {\"Age\": 48.75, \"Debt\": 26.335, \"CreditScore\": 0, \"Income\": 0, \"Approved\": \"No\"}, {\"Age\": 58.58, \"Debt\": 2.71, \"CreditScore\": 0, \"Income\": 0, \"Approved\": \"No\"}, {\"Age\": 35.25, \"Debt\": 3.165, \"CreditScore\": 0, \"Income\": 0, \"Approved\": \"No\"}, {\"Age\": 19.5, \"Debt\": 0.165, \"CreditScore\": 0, \"Income\": 0, \"Approved\": \"No\"}, {\"Age\": 40.0, \"Debt\": 6.5, \"CreditScore\": 1, \"Income\": 500, \"Approved\": \"Yes\"}, {\"Age\": 41.92, \"Debt\": 0.42, \"CreditScore\": 6, \"Income\": 948, \"Approved\": \"Yes\"}, {\"Age\": 28.42, \"Debt\": 3.5, \"CreditScore\": 0, \"Income\": 0, \"Approved\": \"Yes\"}, {\"Age\": 36.75, \"Debt\": 4.71, \"CreditScore\": 0, \"Income\": 0, \"Approved\": \"No\"}, {\"Age\": 18.5, \"Debt\": 2.0, \"CreditScore\": 2, \"Income\": 300, \"Approved\": \"Yes\"}, {\"Age\": 18.17, \"Debt\": 10.25, \"CreditScore\": 0, \"Income\": 13, \"Approved\": \"No\"}, {\"Age\": 15.17, \"Debt\": 7.0, \"CreditScore\": 0, \"Income\": 0, \"Approved\": \"No\"}, {\"Age\": 32.75, \"Debt\": 1.5, \"CreditScore\": 3, \"Income\": 0, \"Approved\": \"Yes\"}, {\"Age\": 26.33, \"Debt\": 13.0, \"CreditScore\": 0, \"Income\": 1110, \"Approved\": \"No\"}, {\"Age\": 17.92, \"Debt\": 0.205, \"CreditScore\": 0, \"Income\": 750, \"Approved\": \"No\"}, {\"Age\": 48.5, \"Debt\": 4.25, \"CreditScore\": 0, \"Income\": 0, \"Approved\": \"Yes\"}, {\"Age\": 15.83, \"Debt\": 7.625, \"CreditScore\": 1, \"Income\": 160, \"Approved\": \"No\"}, {\"Age\": 28.0, \"Debt\": 2.0, \"CreditScore\": 2, \"Income\": 0, \"Approved\": \"Yes\"}, {\"Age\": 24.08, \"Debt\": 9.0, \"CreditScore\": 0, \"Income\": 0, \"Approved\": \"No\"}, {\"Age\": 32.33, \"Debt\": 2.5, \"CreditScore\": 0, \"Income\": 0, \"Approved\": \"No\"}, {\"Age\": 34.67, \"Debt\": 1.08, \"CreditScore\": 0, \"Income\": 0, \"Approved\": \"No\"}, {\"Age\": 23.25, \"Debt\": 1.5, \"CreditScore\": 3, \"Income\": 582, \"Approved\": \"Yes\"}, {\"Age\": 41.17, \"Debt\": 1.25, \"CreditScore\": 0, \"Income\": 195, \"Approved\": \"No\"}, {\"Age\": 38.42, \"Debt\": 0.705, \"CreditScore\": 2, \"Income\": 500, \"Approved\": \"No\"}, {\"Age\": 30.17, \"Debt\": 0.5, \"CreditScore\": 11, \"Income\": 540, \"Approved\": \"Yes\"}, {\"Age\": 17.08, \"Debt\": 3.29, \"CreditScore\": 0, \"Income\": 2, \"Approved\": \"No\"}, {\"Age\": 26.67, \"Debt\": 1.75, \"CreditScore\": 5, \"Income\": 5777, \"Approved\": \"Yes\"}, {\"Age\": 23.0, \"Debt\": 0.75, \"CreditScore\": 0, \"Income\": 0, \"Approved\": \"No\"}, {\"Age\": 25.17, \"Debt\": 3.0, \"CreditScore\": 1, \"Income\": 22, \"Approved\": \"No\"}, {\"Age\": 22.92, \"Debt\": 1.25, \"CreditScore\": 0, \"Income\": 809, \"Approved\": \"No\"}, {\"Age\": 23.08, \"Debt\": 11.5, \"CreditScore\": 9, \"Income\": 742, \"Approved\": \"Yes\"}, {\"Age\": 32.42, \"Debt\": 3.0, \"CreditScore\": 0, \"Income\": 0, \"Approved\": \"No\"}, {\"Age\": 47.67, \"Debt\": 0.29, \"CreditScore\": 20, \"Income\": 15000, \"Approved\": \"Yes\"}, {\"Age\": 43.17, \"Debt\": 5.0, \"CreditScore\": 0, \"Income\": 0, \"Approved\": \"No\"}, {\"Age\": 28.5, \"Debt\": 1.0, \"CreditScore\": 2, \"Income\": 500, \"Approved\": \"No\"}, {\"Age\": 48.58, \"Debt\": 6.5, \"CreditScore\": 0, \"Income\": 0, \"Approved\": \"Yes\"}, {\"Age\": 25.0, \"Debt\": 12.5, \"CreditScore\": 0, \"Income\": 0, \"Approved\": \"Yes\"}, {\"Age\": 28.75, \"Debt\": 3.75, \"CreditScore\": 1, \"Income\": 0, \"Approved\": \"Yes\"}, {\"Age\": 22.83, \"Debt\": 2.29, \"CreditScore\": 7, \"Income\": 2384, \"Approved\": \"Yes\"}, {\"Age\": 46.08, \"Debt\": 3.0, \"CreditScore\": 8, \"Income\": 4159, \"Approved\": \"Yes\"}, {\"Age\": 22.67, \"Debt\": 0.75, \"CreditScore\": 2, \"Income\": 394, \"Approved\": \"No\"}, {\"Age\": 54.58, \"Debt\": 9.415, \"CreditScore\": 11, \"Income\": 300, \"Approved\": \"Yes\"}, {\"Age\": 39.08, \"Debt\": 4.0, \"CreditScore\": 0, \"Income\": 0, \"Approved\": \"No\"}, {\"Age\": 24.5, \"Debt\": 0.5, \"CreditScore\": 0, \"Income\": 824, \"Approved\": \"Yes\"}, {\"Age\": 39.5, \"Debt\": 1.625, \"CreditScore\": 0, \"Income\": 316, \"Approved\": \"No\"}, {\"Age\": 19.42, \"Debt\": 6.5, \"CreditScore\": 7, \"Income\": 2954, \"Approved\": \"Yes\"}, {\"Age\": 35.17, \"Debt\": 2.5, \"CreditScore\": 7, \"Income\": 1270, \"Approved\": \"Yes\"}, {\"Age\": 28.46, \"Debt\": 0.04, \"CreditScore\": 0, \"Income\": 0, \"Approved\": \"No\"}, {\"Age\": 35.0, \"Debt\": 2.5, \"CreditScore\": 0, \"Income\": 0, \"Approved\": \"No\"}, {\"Age\": 23.17, \"Debt\": 11.125, \"CreditScore\": 1, \"Income\": 0, \"Approved\": \"Yes\"}, {\"Age\": 28.0, \"Debt\": 3.0, \"CreditScore\": 0, \"Income\": 67, \"Approved\": \"No\"}, {\"Age\": 17.08, \"Debt\": 0.25, \"CreditScore\": 4, \"Income\": 8, \"Approved\": \"No\"}, {\"Age\": 24.5, \"Debt\": 1.04, \"CreditScore\": 3, \"Income\": 147, \"Approved\": \"No\"}, {\"Age\": 37.75, \"Debt\": 5.5, \"CreditScore\": 0, \"Income\": 0, \"Approved\": \"Yes\"}, {\"Age\": 30.08, \"Debt\": 1.04, \"CreditScore\": 10, \"Income\": 28, \"Approved\": \"No\"}, {\"Age\": 44.25, \"Debt\": 0.5, \"CreditScore\": 0, \"Income\": 0, \"Approved\": \"No\"}, {\"Age\": 31.92, \"Debt\": 4.46, \"CreditScore\": 3, \"Income\": 300, \"Approved\": \"Yes\"}, {\"Age\": 28.58, \"Debt\": 3.625, \"CreditScore\": 0, \"Income\": 0, \"Approved\": \"No\"}, {\"Age\": 33.75, \"Debt\": 0.75, \"CreditScore\": 3, \"Income\": 0, \"Approved\": \"No\"}, {\"Age\": 23.0, \"Debt\": 0.625, \"CreditScore\": 0, \"Income\": 1, \"Approved\": \"No\"}, {\"Age\": 26.67, \"Debt\": 2.71, \"CreditScore\": 1, \"Income\": 0, \"Approved\": \"Yes\"}, {\"Age\": 35.75, \"Debt\": 0.915, \"CreditScore\": 4, \"Income\": 1583, \"Approved\": \"Yes\"}, {\"Age\": 44.17, \"Debt\": 6.665, \"CreditScore\": 3, \"Income\": 0, \"Approved\": \"Yes\"}, {\"Age\": 28.75, \"Debt\": 1.165, \"CreditScore\": 0, \"Income\": 0, \"Approved\": \"No\"}, {\"Age\": 25.75, \"Debt\": 0.75, \"CreditScore\": 0, \"Income\": 23, \"Approved\": \"Yes\"}, {\"Age\": 23.25, \"Debt\": 5.875, \"CreditScore\": 10, \"Income\": 245, \"Approved\": \"Yes\"}, {\"Age\": 22.5, \"Debt\": 11.0, \"CreditScore\": 0, \"Income\": 0, \"Approved\": \"No\"}, {\"Age\": 33.67, \"Debt\": 0.375, \"CreditScore\": 0, \"Income\": 44, \"Approved\": \"Yes\"}, {\"Age\": 24.33, \"Debt\": 2.5, \"CreditScore\": 0, \"Income\": 456, \"Approved\": \"No\"}, {\"Age\": 42.83, \"Debt\": 1.25, \"CreditScore\": 1, \"Income\": 112, \"Approved\": \"No\"}, {\"Age\": 13.75, \"Debt\": 4.0, \"CreditScore\": 2, \"Income\": 1000, \"Approved\": \"Yes\"}]}}, {\"mode\": \"vega-lite\"});\n",
       "</script>"
      ],
      "text/plain": [
       "alt.FacetChart(...)"
      ]
     },
     "execution_count": 8,
     "metadata": {},
     "output_type": "execute_result"
    }
   ],
   "source": [
    "data_vis_i = alt.Chart(data_train).mark_bar().encode(\n",
    "    x = alt.X('Income').scale(clamp= True).bin(maxbins=20),\n",
    "    y = alt.Y('count()'),\n",
    "    color = alt.Color('Approved')\n",
    ").properties(\n",
    "    height=100\n",
    ").facet(\n",
    "    \"Approved:N\",)\n",
    "data_vis_i"
   ]
  },
  {
   "cell_type": "markdown",
   "id": "155b1888",
   "metadata": {},
   "source": [
    "Figure 2. Number of records approved and not approved for credit card based on applicant's income."
   ]
  },
  {
   "cell_type": "code",
   "execution_count": 9,
   "id": "c0142e73-977a-4bc1-9c9b-f51903b1cc4d",
   "metadata": {
    "tags": []
   },
   "outputs": [
    {
     "data": {
      "text/html": [
       "\n",
       "<style>\n",
       "  #altair-viz-e2d0e3a1c115490580c40bcea7b8789f.vega-embed {\n",
       "    width: 100%;\n",
       "    display: flex;\n",
       "  }\n",
       "\n",
       "  #altair-viz-e2d0e3a1c115490580c40bcea7b8789f.vega-embed details,\n",
       "  #altair-viz-e2d0e3a1c115490580c40bcea7b8789f.vega-embed details summary {\n",
       "    position: relative;\n",
       "  }\n",
       "</style>\n",
       "<div id=\"altair-viz-e2d0e3a1c115490580c40bcea7b8789f\"></div>\n",
       "<script type=\"text/javascript\">\n",
       "  var VEGA_DEBUG = (typeof VEGA_DEBUG == \"undefined\") ? {} : VEGA_DEBUG;\n",
       "  (function(spec, embedOpt){\n",
       "    let outputDiv = document.currentScript.previousElementSibling;\n",
       "    if (outputDiv.id !== \"altair-viz-e2d0e3a1c115490580c40bcea7b8789f\") {\n",
       "      outputDiv = document.getElementById(\"altair-viz-e2d0e3a1c115490580c40bcea7b8789f\");\n",
       "    }\n",
       "    const paths = {\n",
       "      \"vega\": \"https://cdn.jsdelivr.net/npm/vega@5?noext\",\n",
       "      \"vega-lib\": \"https://cdn.jsdelivr.net/npm/vega-lib?noext\",\n",
       "      \"vega-lite\": \"https://cdn.jsdelivr.net/npm/vega-lite@5.15.1?noext\",\n",
       "      \"vega-embed\": \"https://cdn.jsdelivr.net/npm/vega-embed@6?noext\",\n",
       "    };\n",
       "\n",
       "    function maybeLoadScript(lib, version) {\n",
       "      var key = `${lib.replace(\"-\", \"\")}_version`;\n",
       "      return (VEGA_DEBUG[key] == version) ?\n",
       "        Promise.resolve(paths[lib]) :\n",
       "        new Promise(function(resolve, reject) {\n",
       "          var s = document.createElement('script');\n",
       "          document.getElementsByTagName(\"head\")[0].appendChild(s);\n",
       "          s.async = true;\n",
       "          s.onload = () => {\n",
       "            VEGA_DEBUG[key] = version;\n",
       "            return resolve(paths[lib]);\n",
       "          };\n",
       "          s.onerror = () => reject(`Error loading script: ${paths[lib]}`);\n",
       "          s.src = paths[lib];\n",
       "        });\n",
       "    }\n",
       "\n",
       "    function showError(err) {\n",
       "      outputDiv.innerHTML = `<div class=\"error\" style=\"color:red;\">${err}</div>`;\n",
       "      throw err;\n",
       "    }\n",
       "\n",
       "    function displayChart(vegaEmbed) {\n",
       "      vegaEmbed(outputDiv, spec, embedOpt)\n",
       "        .catch(err => showError(`Javascript Error: ${err.message}<br>This usually means there's a typo in your chart specification. See the javascript console for the full traceback.`));\n",
       "    }\n",
       "\n",
       "    if(typeof define === \"function\" && define.amd) {\n",
       "      requirejs.config({paths});\n",
       "      require([\"vega-embed\"], displayChart, err => showError(`Error loading script: ${err.message}`));\n",
       "    } else {\n",
       "      maybeLoadScript(\"vega\", \"5\")\n",
       "        .then(() => maybeLoadScript(\"vega-lite\", \"5.15.1\"))\n",
       "        .then(() => maybeLoadScript(\"vega-embed\", \"6\"))\n",
       "        .catch(showError)\n",
       "        .then(() => displayChart(vegaEmbed));\n",
       "    }\n",
       "  })({\"config\": {\"view\": {\"continuousWidth\": 300, \"continuousHeight\": 300}}, \"data\": {\"name\": \"data-9b2ed57830432ad344c2b937c9697da2\"}, \"facet\": {\"field\": \"Approved\", \"type\": \"nominal\"}, \"spec\": {\"mark\": {\"type\": \"bar\"}, \"encoding\": {\"color\": {\"field\": \"Approved\", \"type\": \"nominal\"}, \"x\": {\"bin\": {\"maxbins\": 45}, \"field\": \"Age\", \"scale\": {\"clamp\": true}, \"type\": \"quantitative\"}, \"y\": {\"aggregate\": \"count\", \"type\": \"quantitative\"}}, \"height\": 100}, \"$schema\": \"https://vega.github.io/schema/vega-lite/v5.15.1.json\", \"datasets\": {\"data-9b2ed57830432ad344c2b937c9697da2\": [{\"Age\": 29.58, \"Debt\": 4.75, \"CreditScore\": 1, \"Income\": 68, \"Approved\": \"No\"}, {\"Age\": 25.67, \"Debt\": 12.5, \"CreditScore\": 67, \"Income\": 258, \"Approved\": \"Yes\"}, {\"Age\": 22.5, \"Debt\": 11.5, \"CreditScore\": 0, \"Income\": 4000, \"Approved\": \"No\"}, {\"Age\": 39.33, \"Debt\": 5.875, \"CreditScore\": 14, \"Income\": 0, \"Approved\": \"Yes\"}, {\"Age\": 22.17, \"Debt\": 12.125, \"CreditScore\": 2, \"Income\": 173, \"Approved\": \"No\"}, {\"Age\": 47.75, \"Debt\": 8.0, \"CreditScore\": 6, \"Income\": 1260, \"Approved\": \"Yes\"}, {\"Age\": 18.83, \"Debt\": 3.54, \"CreditScore\": 0, \"Income\": 1, \"Approved\": \"No\"}, {\"Age\": 32.83, \"Debt\": 2.5, \"CreditScore\": 6, \"Income\": 2072, \"Approved\": \"Yes\"}, {\"Age\": 34.83, \"Debt\": 2.5, \"CreditScore\": 0, \"Income\": 0, \"Approved\": \"No\"}, {\"Age\": 65.42, \"Debt\": 11.0, \"CreditScore\": 7, \"Income\": 0, \"Approved\": \"Yes\"}, {\"Age\": 18.58, \"Debt\": 5.71, \"CreditScore\": 0, \"Income\": 0, \"Approved\": \"No\"}, {\"Age\": 24.08, \"Debt\": 0.5, \"CreditScore\": 1, \"Income\": 678, \"Approved\": \"Yes\"}, {\"Age\": 32.0, \"Debt\": 6.0, \"CreditScore\": 0, \"Income\": 0, \"Approved\": \"No\"}, {\"Age\": 43.0, \"Debt\": 0.29, \"CreditScore\": 8, \"Income\": 375, \"Approved\": \"Yes\"}, {\"Age\": 24.58, \"Debt\": 1.25, \"CreditScore\": 0, \"Income\": 0, \"Approved\": \"No\"}, {\"Age\": 27.25, \"Debt\": 1.585, \"CreditScore\": 12, \"Income\": 713, \"Approved\": \"Yes\"}, {\"Age\": 54.33, \"Debt\": 6.75, \"CreditScore\": 11, \"Income\": 284, \"Approved\": \"Yes\"}, {\"Age\": 43.08, \"Debt\": 0.375, \"CreditScore\": 8, \"Income\": 162, \"Approved\": \"Yes\"}, {\"Age\": 29.5, \"Debt\": 2.0, \"CreditScore\": 0, \"Income\": 17, \"Approved\": \"No\"}, {\"Age\": 28.5, \"Debt\": 3.04, \"CreditScore\": 1, \"Income\": 0, \"Approved\": \"Yes\"}, {\"Age\": 28.92, \"Debt\": 15.0, \"CreditScore\": 11, \"Income\": 2283, \"Approved\": \"Yes\"}, {\"Age\": 22.08, \"Debt\": 2.335, \"CreditScore\": 0, \"Income\": 0, \"Approved\": \"No\"}, {\"Age\": 47.0, \"Debt\": 13.0, \"CreditScore\": 9, \"Income\": 0, \"Approved\": \"Yes\"}, {\"Age\": 26.83, \"Debt\": 0.54, \"CreditScore\": 0, \"Income\": 0, \"Approved\": \"No\"}, {\"Age\": 21.17, \"Debt\": 0.0, \"CreditScore\": 0, \"Income\": 0, \"Approved\": \"No\"}, {\"Age\": 20.42, \"Debt\": 0.835, \"CreditScore\": 1, \"Income\": 0, \"Approved\": \"Yes\"}, {\"Age\": 22.58, \"Debt\": 10.75, \"CreditScore\": 5, \"Income\": 560, \"Approved\": \"Yes\"}, {\"Age\": 36.75, \"Debt\": 5.125, \"CreditScore\": 0, \"Income\": 4000, \"Approved\": \"Yes\"}, {\"Age\": 19.17, \"Debt\": 5.415, \"CreditScore\": 0, \"Income\": 484, \"Approved\": \"No\"}, {\"Age\": 53.33, \"Debt\": 0.165, \"CreditScore\": 0, \"Income\": 27, \"Approved\": \"No\"}, {\"Age\": 22.67, \"Debt\": 2.54, \"CreditScore\": 0, \"Income\": 0, \"Approved\": \"Yes\"}, {\"Age\": 57.83, \"Debt\": 7.04, \"CreditScore\": 6, \"Income\": 1332, \"Approved\": \"Yes\"}, {\"Age\": 36.67, \"Debt\": 4.415, \"CreditScore\": 10, \"Income\": 0, \"Approved\": \"Yes\"}, {\"Age\": 29.67, \"Debt\": 1.415, \"CreditScore\": 1, \"Income\": 100, \"Approved\": \"Yes\"}, {\"Age\": 16.08, \"Debt\": 0.335, \"CreditScore\": 1, \"Income\": 126, \"Approved\": \"No\"}, {\"Age\": 17.58, \"Debt\": 10.0, \"CreditScore\": 1, \"Income\": 1, \"Approved\": \"No\"}, {\"Age\": 41.33, \"Debt\": 0.0, \"CreditScore\": 0, \"Income\": 0, \"Approved\": \"Yes\"}, {\"Age\": 22.67, \"Debt\": 10.5, \"CreditScore\": 0, \"Income\": 0, \"Approved\": \"Yes\"}, {\"Age\": 18.92, \"Debt\": 9.0, \"CreditScore\": 2, \"Income\": 591, \"Approved\": \"Yes\"}, {\"Age\": 32.17, \"Debt\": 1.46, \"CreditScore\": 16, \"Income\": 2079, \"Approved\": \"Yes\"}, {\"Age\": 27.75, \"Debt\": 1.29, \"CreditScore\": 0, \"Income\": 0, \"Approved\": \"No\"}, {\"Age\": 24.5, \"Debt\": 13.335, \"CreditScore\": 0, \"Income\": 475, \"Approved\": \"No\"}, {\"Age\": 52.33, \"Debt\": 1.375, \"CreditScore\": 0, \"Income\": 100, \"Approved\": \"No\"}, {\"Age\": 18.0, \"Debt\": 0.165, \"CreditScore\": 0, \"Income\": 40, \"Approved\": \"Yes\"}, {\"Age\": 23.33, \"Debt\": 11.625, \"CreditScore\": 0, \"Income\": 300, \"Approved\": \"Yes\"}, {\"Age\": 21.75, \"Debt\": 11.75, \"CreditScore\": 0, \"Income\": 0, \"Approved\": \"No\"}, {\"Age\": 39.42, \"Debt\": 1.71, \"CreditScore\": 0, \"Income\": 0, \"Approved\": \"No\"}, {\"Age\": 20.08, \"Debt\": 0.25, \"CreditScore\": 0, \"Income\": 0, \"Approved\": \"No\"}, {\"Age\": 39.25, \"Debt\": 9.5, \"CreditScore\": 14, \"Income\": 4607, \"Approved\": \"Yes\"}, {\"Age\": 37.75, \"Debt\": 7.0, \"CreditScore\": 7, \"Income\": 5, \"Approved\": \"No\"}, {\"Age\": 51.92, \"Debt\": 6.5, \"CreditScore\": 0, \"Income\": 0, \"Approved\": \"No\"}, {\"Age\": 21.83, \"Debt\": 11.0, \"CreditScore\": 6, \"Income\": 0, \"Approved\": \"Yes\"}, {\"Age\": 28.33, \"Debt\": 5.0, \"CreditScore\": 0, \"Income\": 0, \"Approved\": \"Yes\"}, {\"Age\": 27.83, \"Debt\": 1.0, \"CreditScore\": 0, \"Income\": 537, \"Approved\": \"No\"}, {\"Age\": 28.46, \"Debt\": 4.0, \"CreditScore\": 0, \"Income\": 0, \"Approved\": \"No\"}, {\"Age\": 29.42, \"Debt\": 1.25, \"CreditScore\": 2, \"Income\": 108, \"Approved\": \"No\"}, {\"Age\": 52.5, \"Debt\": 7.0, \"CreditScore\": 0, \"Income\": 0, \"Approved\": \"No\"}, {\"Age\": 21.83, \"Debt\": 0.25, \"CreditScore\": 0, \"Income\": 0, \"Approved\": \"Yes\"}, {\"Age\": 20.0, \"Debt\": 7.0, \"CreditScore\": 0, \"Income\": 0, \"Approved\": \"No\"}, {\"Age\": 57.58, \"Debt\": 2.0, \"CreditScore\": 1, \"Income\": 10, \"Approved\": \"No\"}, {\"Age\": 29.25, \"Debt\": 14.79, \"CreditScore\": 5, \"Income\": 0, \"Approved\": \"Yes\"}, {\"Age\": 40.92, \"Debt\": 0.835, \"CreditScore\": 0, \"Income\": 1, \"Approved\": \"No\"}, {\"Age\": 30.83, \"Debt\": 0.0, \"CreditScore\": 1, \"Income\": 0, \"Approved\": \"Yes\"}, {\"Age\": 38.58, \"Debt\": 5.0, \"CreditScore\": 0, \"Income\": 0, \"Approved\": \"No\"}, {\"Age\": 24.83, \"Debt\": 4.5, \"CreditScore\": 0, \"Income\": 6, \"Approved\": \"No\"}, {\"Age\": 25.75, \"Debt\": 0.5, \"CreditScore\": 5, \"Income\": 0, \"Approved\": \"Yes\"}, {\"Age\": 21.17, \"Debt\": 0.875, \"CreditScore\": 0, \"Income\": 204, \"Approved\": \"No\"}, {\"Age\": 16.92, \"Debt\": 0.335, \"CreditScore\": 0, \"Income\": 0, \"Approved\": \"No\"}, {\"Age\": 32.75, \"Debt\": 2.335, \"CreditScore\": 0, \"Income\": 0, \"Approved\": \"No\"}, {\"Age\": 60.08, \"Debt\": 14.5, \"CreditScore\": 15, \"Income\": 1000, \"Approved\": \"Yes\"}, {\"Age\": 34.08, \"Debt\": 2.5, \"CreditScore\": 0, \"Income\": 16, \"Approved\": \"No\"}, {\"Age\": 18.42, \"Debt\": 9.25, \"CreditScore\": 4, \"Income\": 540, \"Approved\": \"Yes\"}, {\"Age\": 35.58, \"Debt\": 0.75, \"CreditScore\": 0, \"Income\": 0, \"Approved\": \"No\"}, {\"Age\": 22.5, \"Debt\": 0.125, \"CreditScore\": 0, \"Income\": 70, \"Approved\": \"No\"}, {\"Age\": 21.33, \"Debt\": 10.5, \"CreditScore\": 0, \"Income\": 0, \"Approved\": \"Yes\"}, {\"Age\": 21.75, \"Debt\": 1.75, \"CreditScore\": 0, \"Income\": 0, \"Approved\": \"No\"}, {\"Age\": 57.08, \"Debt\": 0.335, \"CreditScore\": 0, \"Income\": 2197, \"Approved\": \"No\"}, {\"Age\": 44.83, \"Debt\": 7.0, \"CreditScore\": 0, \"Income\": 2, \"Approved\": \"No\"}, {\"Age\": 20.42, \"Debt\": 10.5, \"CreditScore\": 0, \"Income\": 32, \"Approved\": \"No\"}, {\"Age\": 22.25, \"Debt\": 0.46, \"CreditScore\": 0, \"Income\": 55, \"Approved\": \"No\"}, {\"Age\": 41.17, \"Debt\": 6.5, \"CreditScore\": 3, \"Income\": 0, \"Approved\": \"Yes\"}, {\"Age\": 22.67, \"Debt\": 0.335, \"CreditScore\": 0, \"Income\": 0, \"Approved\": \"No\"}, {\"Age\": 40.83, \"Debt\": 3.5, \"CreditScore\": 0, \"Income\": 0, \"Approved\": \"No\"}, {\"Age\": 22.58, \"Debt\": 10.04, \"CreditScore\": 9, \"Income\": 396, \"Approved\": \"Yes\"}, {\"Age\": 35.42, \"Debt\": 12.0, \"CreditScore\": 8, \"Income\": 6590, \"Approved\": \"Yes\"}, {\"Age\": 28.46, \"Debt\": 4.0, \"CreditScore\": 3, \"Income\": 2279, \"Approved\": \"Yes\"}, {\"Age\": 18.17, \"Debt\": 2.46, \"CreditScore\": 2, \"Income\": 587, \"Approved\": \"No\"}, {\"Age\": 26.75, \"Debt\": 4.5, \"CreditScore\": 0, \"Income\": 1210, \"Approved\": \"No\"}, {\"Age\": 31.83, \"Debt\": 0.04, \"CreditScore\": 0, \"Income\": 0, \"Approved\": \"No\"}, {\"Age\": 34.58, \"Debt\": 0.0, \"CreditScore\": 0, \"Income\": 0, \"Approved\": \"No\"}, {\"Age\": 21.0, \"Debt\": 4.79, \"CreditScore\": 1, \"Income\": 300, \"Approved\": \"Yes\"}, {\"Age\": 45.0, \"Debt\": 4.585, \"CreditScore\": 0, \"Income\": 0, \"Approved\": \"No\"}, {\"Age\": 45.17, \"Debt\": 1.5, \"CreditScore\": 0, \"Income\": 0, \"Approved\": \"No\"}, {\"Age\": 21.5, \"Debt\": 6.0, \"CreditScore\": 3, \"Income\": 918, \"Approved\": \"Yes\"}, {\"Age\": 30.5, \"Debt\": 6.5, \"CreditScore\": 7, \"Income\": 3065, \"Approved\": \"Yes\"}, {\"Age\": 33.0, \"Debt\": 2.5, \"CreditScore\": 0, \"Income\": 0, \"Approved\": \"No\"}, {\"Age\": 73.42, \"Debt\": 17.75, \"CreditScore\": 0, \"Income\": 0, \"Approved\": \"Yes\"}, {\"Age\": 54.83, \"Debt\": 15.5, \"CreditScore\": 20, \"Income\": 130, \"Approved\": \"No\"}, {\"Age\": 32.42, \"Debt\": 2.165, \"CreditScore\": 0, \"Income\": 0, \"Approved\": \"No\"}, {\"Age\": 20.67, \"Debt\": 1.25, \"CreditScore\": 3, \"Income\": 210, \"Approved\": \"No\"}, {\"Age\": 58.42, \"Debt\": 21.0, \"CreditScore\": 13, \"Income\": 6700, \"Approved\": \"Yes\"}, {\"Age\": 26.75, \"Debt\": 1.125, \"CreditScore\": 0, \"Income\": 5298, \"Approved\": \"Yes\"}, {\"Age\": 23.42, \"Debt\": 1.0, \"CreditScore\": 0, \"Income\": 0, \"Approved\": \"No\"}, {\"Age\": 23.92, \"Debt\": 0.665, \"CreditScore\": 0, \"Income\": 0, \"Approved\": \"Yes\"}, {\"Age\": 18.75, \"Debt\": 7.5, \"CreditScore\": 5, \"Income\": 26726, \"Approved\": \"Yes\"}, {\"Age\": 23.58, \"Debt\": 1.79, \"CreditScore\": 0, \"Income\": 1, \"Approved\": \"No\"}, {\"Age\": 20.17, \"Debt\": 8.17, \"CreditScore\": 14, \"Income\": 158, \"Approved\": \"Yes\"}, {\"Age\": 41.33, \"Debt\": 1.0, \"CreditScore\": 0, \"Income\": 300, \"Approved\": \"Yes\"}, {\"Age\": 68.67, \"Debt\": 15.0, \"CreditScore\": 14, \"Income\": 3376, \"Approved\": \"Yes\"}, {\"Age\": 47.42, \"Debt\": 3.0, \"CreditScore\": 2, \"Income\": 1704, \"Approved\": \"Yes\"}, {\"Age\": 22.67, \"Debt\": 0.165, \"CreditScore\": 0, \"Income\": 0, \"Approved\": \"Yes\"}, {\"Age\": 25.58, \"Debt\": 0.0, \"CreditScore\": 0, \"Income\": 0, \"Approved\": \"Yes\"}, {\"Age\": 28.08, \"Debt\": 15.0, \"CreditScore\": 0, \"Income\": 13212, \"Approved\": \"Yes\"}, {\"Age\": 16.17, \"Debt\": 0.04, \"CreditScore\": 0, \"Income\": 0, \"Approved\": \"Yes\"}, {\"Age\": 38.58, \"Debt\": 3.335, \"CreditScore\": 14, \"Income\": 1344, \"Approved\": \"Yes\"}, {\"Age\": 33.25, \"Debt\": 3.0, \"CreditScore\": 0, \"Income\": 0, \"Approved\": \"No\"}, {\"Age\": 51.83, \"Debt\": 3.0, \"CreditScore\": 0, \"Income\": 4, \"Approved\": \"No\"}, {\"Age\": 26.5, \"Debt\": 2.71, \"CreditScore\": 0, \"Income\": 0, \"Approved\": \"No\"}, {\"Age\": 36.33, \"Debt\": 2.125, \"CreditScore\": 1, \"Income\": 1187, \"Approved\": \"Yes\"}, {\"Age\": 34.92, \"Debt\": 5.0, \"CreditScore\": 6, \"Income\": 1000, \"Approved\": \"Yes\"}, {\"Age\": 27.0, \"Debt\": 1.5, \"CreditScore\": 0, \"Income\": 1065, \"Approved\": \"Yes\"}, {\"Age\": 23.75, \"Debt\": 0.415, \"CreditScore\": 2, \"Income\": 6, \"Approved\": \"No\"}, {\"Age\": 16.0, \"Debt\": 3.125, \"CreditScore\": 1, \"Income\": 6, \"Approved\": \"No\"}, {\"Age\": 19.58, \"Debt\": 0.585, \"CreditScore\": 3, \"Income\": 769, \"Approved\": \"No\"}, {\"Age\": 29.17, \"Debt\": 3.5, \"CreditScore\": 3, \"Income\": 0, \"Approved\": \"No\"}, {\"Age\": 28.58, \"Debt\": 3.54, \"CreditScore\": 0, \"Income\": 0, \"Approved\": \"No\"}, {\"Age\": 20.33, \"Debt\": 10.0, \"CreditScore\": 4, \"Income\": 1465, \"Approved\": \"Yes\"}, {\"Age\": 25.0, \"Debt\": 11.25, \"CreditScore\": 17, \"Income\": 1208, \"Approved\": \"Yes\"}, {\"Age\": 32.67, \"Debt\": 9.0, \"CreditScore\": 0, \"Income\": 0, \"Approved\": \"Yes\"}, {\"Age\": 38.92, \"Debt\": 1.665, \"CreditScore\": 0, \"Income\": 390, \"Approved\": \"No\"}, {\"Age\": 22.83, \"Debt\": 3.0, \"CreditScore\": 1, \"Income\": 800, \"Approved\": \"Yes\"}, {\"Age\": 18.17, \"Debt\": 10.0, \"CreditScore\": 0, \"Income\": 0, \"Approved\": \"No\"}, {\"Age\": 29.58, \"Debt\": 4.5, \"CreditScore\": 2, \"Income\": 0, \"Approved\": \"Yes\"}, {\"Age\": 23.25, \"Debt\": 12.625, \"CreditScore\": 2, \"Income\": 5552, \"Approved\": \"No\"}, {\"Age\": 18.58, \"Debt\": 10.0, \"CreditScore\": 0, \"Income\": 42, \"Approved\": \"No\"}, {\"Age\": 20.0, \"Debt\": 11.045, \"CreditScore\": 0, \"Income\": 0, \"Approved\": \"No\"}, {\"Age\": 22.42, \"Debt\": 5.665, \"CreditScore\": 7, \"Income\": 3257, \"Approved\": \"Yes\"}, {\"Age\": 31.83, \"Debt\": 2.5, \"CreditScore\": 0, \"Income\": 0, \"Approved\": \"No\"}, {\"Age\": 24.33, \"Debt\": 6.625, \"CreditScore\": 0, \"Income\": 0, \"Approved\": \"Yes\"}, {\"Age\": 21.92, \"Debt\": 11.665, \"CreditScore\": 0, \"Income\": 5, \"Approved\": \"No\"}, {\"Age\": 36.58, \"Debt\": 0.29, \"CreditScore\": 10, \"Income\": 18, \"Approved\": \"No\"}, {\"Age\": 25.67, \"Debt\": 3.25, \"CreditScore\": 1, \"Income\": 21, \"Approved\": \"No\"}, {\"Age\": 42.0, \"Debt\": 0.205, \"CreditScore\": 0, \"Income\": 0, \"Approved\": \"Yes\"}, {\"Age\": 19.58, \"Debt\": 0.665, \"CreditScore\": 0, \"Income\": 5, \"Approved\": \"No\"}, {\"Age\": 36.33, \"Debt\": 3.79, \"CreditScore\": 0, \"Income\": 0, \"Approved\": \"No\"}, {\"Age\": 33.17, \"Debt\": 1.0, \"CreditScore\": 7, \"Income\": 4071, \"Approved\": \"Yes\"}, {\"Age\": 30.17, \"Debt\": 6.5, \"CreditScore\": 8, \"Income\": 1200, \"Approved\": \"Yes\"}, {\"Age\": 56.58, \"Debt\": 18.5, \"CreditScore\": 17, \"Income\": 0, \"Approved\": \"Yes\"}, {\"Age\": 63.33, \"Debt\": 0.54, \"CreditScore\": 3, \"Income\": 0, \"Approved\": \"No\"}, {\"Age\": 41.17, \"Debt\": 4.04, \"CreditScore\": 8, \"Income\": 0, \"Approved\": \"Yes\"}, {\"Age\": 24.5, \"Debt\": 12.75, \"CreditScore\": 2, \"Income\": 444, \"Approved\": \"Yes\"}, {\"Age\": 33.08, \"Debt\": 4.625, \"CreditScore\": 2, \"Income\": 0, \"Approved\": \"Yes\"}, {\"Age\": 33.08, \"Debt\": 1.625, \"CreditScore\": 0, \"Income\": 0, \"Approved\": \"No\"}, {\"Age\": 42.17, \"Debt\": 5.04, \"CreditScore\": 0, \"Income\": 0, \"Approved\": \"Yes\"}, {\"Age\": 32.33, \"Debt\": 7.5, \"CreditScore\": 0, \"Income\": 0, \"Approved\": \"No\"}, {\"Age\": 29.5, \"Debt\": 0.58, \"CreditScore\": 1, \"Income\": 2803, \"Approved\": \"No\"}, {\"Age\": 41.58, \"Debt\": 1.75, \"CreditScore\": 0, \"Income\": 0, \"Approved\": \"No\"}, {\"Age\": 26.67, \"Debt\": 14.585, \"CreditScore\": 0, \"Income\": 0, \"Approved\": \"No\"}, {\"Age\": 23.25, \"Debt\": 1.0, \"CreditScore\": 0, \"Income\": 0, \"Approved\": \"Yes\"}, {\"Age\": 25.83, \"Debt\": 12.835, \"CreditScore\": 0, \"Income\": 2, \"Approved\": \"No\"}, {\"Age\": 29.67, \"Debt\": 0.75, \"CreditScore\": 0, \"Income\": 0, \"Approved\": \"No\"}, {\"Age\": 22.67, \"Debt\": 7.0, \"CreditScore\": 0, \"Income\": 0, \"Approved\": \"No\"}, {\"Age\": 27.67, \"Debt\": 0.75, \"CreditScore\": 0, \"Income\": 251, \"Approved\": \"No\"}, {\"Age\": 32.08, \"Debt\": 4.0, \"CreditScore\": 0, \"Income\": 0, \"Approved\": \"No\"}, {\"Age\": 20.42, \"Debt\": 7.0, \"CreditScore\": 3, \"Income\": 1391, \"Approved\": \"Yes\"}, {\"Age\": 27.67, \"Debt\": 13.75, \"CreditScore\": 0, \"Income\": 500, \"Approved\": \"Yes\"}, {\"Age\": 18.83, \"Debt\": 9.54, \"CreditScore\": 0, \"Income\": 0, \"Approved\": \"Yes\"}, {\"Age\": 48.08, \"Debt\": 3.75, \"CreditScore\": 0, \"Income\": 2, \"Approved\": \"No\"}, {\"Age\": 18.83, \"Debt\": 0.415, \"CreditScore\": 1, \"Income\": 1, \"Approved\": \"No\"}, {\"Age\": 27.67, \"Debt\": 2.0, \"CreditScore\": 4, \"Income\": 7544, \"Approved\": \"Yes\"}, {\"Age\": 17.25, \"Debt\": 3.0, \"CreditScore\": 0, \"Income\": 40, \"Approved\": \"No\"}, {\"Age\": 23.5, \"Debt\": 1.5, \"CreditScore\": 0, \"Income\": 0, \"Approved\": \"No\"}, {\"Age\": 25.92, \"Debt\": 0.875, \"CreditScore\": 2, \"Income\": 3, \"Approved\": \"No\"}, {\"Age\": 38.75, \"Debt\": 1.5, \"CreditScore\": 0, \"Income\": 0, \"Approved\": \"No\"}, {\"Age\": 20.75, \"Debt\": 9.54, \"CreditScore\": 0, \"Income\": 1000, \"Approved\": \"No\"}, {\"Age\": 40.33, \"Debt\": 8.125, \"CreditScore\": 2, \"Income\": 18, \"Approved\": \"No\"}, {\"Age\": 37.42, \"Debt\": 2.04, \"CreditScore\": 0, \"Income\": 5800, \"Approved\": \"Yes\"}, {\"Age\": 34.42, \"Debt\": 1.335, \"CreditScore\": 0, \"Income\": 4500, \"Approved\": \"No\"}, {\"Age\": 22.5, \"Debt\": 0.415, \"CreditScore\": 0, \"Income\": 0, \"Approved\": \"No\"}, {\"Age\": 28.75, \"Debt\": 1.5, \"CreditScore\": 0, \"Income\": 225, \"Approved\": \"No\"}, {\"Age\": 59.5, \"Debt\": 2.75, \"CreditScore\": 5, \"Income\": 58, \"Approved\": \"Yes\"}, {\"Age\": 23.58, \"Debt\": 0.835, \"CreditScore\": 0, \"Income\": 5, \"Approved\": \"No\"}, {\"Age\": 22.5, \"Debt\": 8.5, \"CreditScore\": 10, \"Income\": 990, \"Approved\": \"No\"}, {\"Age\": 27.83, \"Debt\": 4.0, \"CreditScore\": 2, \"Income\": 0, \"Approved\": \"No\"}, {\"Age\": 20.83, \"Debt\": 3.0, \"CreditScore\": 0, \"Income\": 0, \"Approved\": \"Yes\"}, {\"Age\": 39.0, \"Debt\": 5.0, \"CreditScore\": 10, \"Income\": 0, \"Approved\": \"Yes\"}, {\"Age\": 30.75, \"Debt\": 1.585, \"CreditScore\": 0, \"Income\": 0, \"Approved\": \"No\"}, {\"Age\": 22.67, \"Debt\": 0.75, \"CreditScore\": 1, \"Income\": 9, \"Approved\": \"No\"}, {\"Age\": 50.25, \"Debt\": 0.835, \"CreditScore\": 0, \"Income\": 117, \"Approved\": \"No\"}, {\"Age\": 34.0, \"Debt\": 5.085, \"CreditScore\": 0, \"Income\": 0, \"Approved\": \"No\"}, {\"Age\": 48.25, \"Debt\": 25.085, \"CreditScore\": 3, \"Income\": 14, \"Approved\": \"Yes\"}, {\"Age\": 25.25, \"Debt\": 12.5, \"CreditScore\": 0, \"Income\": 1062, \"Approved\": \"No\"}, {\"Age\": 23.75, \"Debt\": 0.71, \"CreditScore\": 1, \"Income\": 4, \"Approved\": \"No\"}, {\"Age\": 41.17, \"Debt\": 1.335, \"CreditScore\": 0, \"Income\": 0, \"Approved\": \"No\"}, {\"Age\": 33.17, \"Debt\": 1.04, \"CreditScore\": 0, \"Income\": 31285, \"Approved\": \"Yes\"}, {\"Age\": 23.75, \"Debt\": 12.0, \"CreditScore\": 0, \"Income\": 0, \"Approved\": \"No\"}, {\"Age\": 20.83, \"Debt\": 0.5, \"CreditScore\": 0, \"Income\": 0, \"Approved\": \"No\"}, {\"Age\": 39.92, \"Debt\": 5.0, \"CreditScore\": 0, \"Income\": 0, \"Approved\": \"No\"}, {\"Age\": 26.17, \"Debt\": 12.5, \"CreditScore\": 0, \"Income\": 17, \"Approved\": \"No\"}, {\"Age\": 39.17, \"Debt\": 2.5, \"CreditScore\": 0, \"Income\": 0, \"Approved\": \"No\"}, {\"Age\": 33.58, \"Debt\": 0.25, \"CreditScore\": 0, \"Income\": 0, \"Approved\": \"No\"}, {\"Age\": 23.42, \"Debt\": 0.79, \"CreditScore\": 2, \"Income\": 400, \"Approved\": \"Yes\"}, {\"Age\": 23.0, \"Debt\": 11.75, \"CreditScore\": 2, \"Income\": 551, \"Approved\": \"Yes\"}, {\"Age\": 33.92, \"Debt\": 1.585, \"CreditScore\": 0, \"Income\": 0, \"Approved\": \"No\"}, {\"Age\": 34.42, \"Debt\": 4.25, \"CreditScore\": 2, \"Income\": 610, \"Approved\": \"Yes\"}, {\"Age\": 19.42, \"Debt\": 7.25, \"CreditScore\": 1, \"Income\": 1, \"Approved\": \"No\"}, {\"Age\": 28.46, \"Debt\": 3.0, \"CreditScore\": 0, \"Income\": 1, \"Approved\": \"No\"}, {\"Age\": 40.83, \"Debt\": 10.0, \"CreditScore\": 0, \"Income\": 837, \"Approved\": \"Yes\"}, {\"Age\": 27.67, \"Debt\": 2.04, \"CreditScore\": 0, \"Income\": 50, \"Approved\": \"No\"}, {\"Age\": 22.75, \"Debt\": 11.5, \"CreditScore\": 0, \"Income\": 0, \"Approved\": \"No\"}, {\"Age\": 37.5, \"Debt\": 0.835, \"CreditScore\": 0, \"Income\": 5, \"Approved\": \"No\"}, {\"Age\": 27.75, \"Debt\": 0.585, \"CreditScore\": 2, \"Income\": 500, \"Approved\": \"Yes\"}, {\"Age\": 55.75, \"Debt\": 7.08, \"CreditScore\": 3, \"Income\": 50, \"Approved\": \"No\"}, {\"Age\": 62.5, \"Debt\": 12.75, \"CreditScore\": 0, \"Income\": 0, \"Approved\": \"No\"}, {\"Age\": 38.25, \"Debt\": 6.0, \"CreditScore\": 0, \"Income\": 0, \"Approved\": \"Yes\"}, {\"Age\": 40.92, \"Debt\": 0.5, \"CreditScore\": 0, \"Income\": 0, \"Approved\": \"No\"}, {\"Age\": 28.46, \"Debt\": 1.5, \"CreditScore\": 2, \"Income\": 105, \"Approved\": \"No\"}, {\"Age\": 27.25, \"Debt\": 1.665, \"CreditScore\": 9, \"Income\": 827, \"Approved\": \"Yes\"}, {\"Age\": 23.58, \"Debt\": 0.585, \"CreditScore\": 0, \"Income\": 87, \"Approved\": \"No\"}, {\"Age\": 16.5, \"Debt\": 0.125, \"CreditScore\": 0, \"Income\": 0, \"Approved\": \"No\"}, {\"Age\": 28.46, \"Debt\": 0.5, \"CreditScore\": 0, \"Income\": 0, \"Approved\": \"No\"}, {\"Age\": 15.83, \"Debt\": 0.585, \"CreditScore\": 2, \"Income\": 0, \"Approved\": \"Yes\"}, {\"Age\": 25.0, \"Debt\": 12.33, \"CreditScore\": 6, \"Income\": 458, \"Approved\": \"Yes\"}, {\"Age\": 32.0, \"Debt\": 1.75, \"CreditScore\": 0, \"Income\": 0, \"Approved\": \"Yes\"}, {\"Age\": 27.67, \"Debt\": 1.5, \"CreditScore\": 0, \"Income\": 0, \"Approved\": \"No\"}, {\"Age\": 23.08, \"Debt\": 2.5, \"CreditScore\": 0, \"Income\": 4208, \"Approved\": \"No\"}, {\"Age\": 36.25, \"Debt\": 5.0, \"CreditScore\": 6, \"Income\": 367, \"Approved\": \"Yes\"}, {\"Age\": 58.67, \"Debt\": 4.46, \"CreditScore\": 6, \"Income\": 560, \"Approved\": \"Yes\"}, {\"Age\": 25.17, \"Debt\": 2.875, \"CreditScore\": 0, \"Income\": 0, \"Approved\": \"Yes\"}, {\"Age\": 19.17, \"Debt\": 8.585, \"CreditScore\": 7, \"Income\": 0, \"Approved\": \"Yes\"}, {\"Age\": 42.08, \"Debt\": 1.04, \"CreditScore\": 6, \"Income\": 10000, \"Approved\": \"Yes\"}, {\"Age\": 34.75, \"Debt\": 2.5, \"CreditScore\": 0, \"Income\": 0, \"Approved\": \"No\"}, {\"Age\": 28.17, \"Debt\": 0.585, \"CreditScore\": 0, \"Income\": 1004, \"Approved\": \"No\"}, {\"Age\": 36.17, \"Debt\": 5.5, \"CreditScore\": 0, \"Income\": 687, \"Approved\": \"No\"}, {\"Age\": 18.83, \"Debt\": 4.415, \"CreditScore\": 0, \"Income\": 0, \"Approved\": \"Yes\"}, {\"Age\": 22.25, \"Debt\": 9.0, \"CreditScore\": 0, \"Income\": 0, \"Approved\": \"No\"}, {\"Age\": 34.83, \"Debt\": 4.0, \"CreditScore\": 0, \"Income\": 0, \"Approved\": \"No\"}, {\"Age\": 26.17, \"Debt\": 2.0, \"CreditScore\": 0, \"Income\": 1, \"Approved\": \"No\"}, {\"Age\": 28.46, \"Debt\": 3.5, \"CreditScore\": 0, \"Income\": 0, \"Approved\": \"No\"}, {\"Age\": 21.42, \"Debt\": 0.75, \"CreditScore\": 0, \"Income\": 2, \"Approved\": \"No\"}, {\"Age\": 18.25, \"Debt\": 10.0, \"CreditScore\": 1, \"Income\": 1, \"Approved\": \"No\"}, {\"Age\": 22.08, \"Debt\": 11.46, \"CreditScore\": 0, \"Income\": 1212, \"Approved\": \"No\"}, {\"Age\": 20.42, \"Debt\": 0.0, \"CreditScore\": 0, \"Income\": 0, \"Approved\": \"No\"}, {\"Age\": 34.92, \"Debt\": 2.5, \"CreditScore\": 0, \"Income\": 200, \"Approved\": \"Yes\"}, {\"Age\": 24.58, \"Debt\": 13.5, \"CreditScore\": 0, \"Income\": 0, \"Approved\": \"No\"}, {\"Age\": 49.83, \"Debt\": 13.585, \"CreditScore\": 0, \"Income\": 0, \"Approved\": \"Yes\"}, {\"Age\": 24.17, \"Debt\": 0.875, \"CreditScore\": 2, \"Income\": 2000, \"Approved\": \"Yes\"}, {\"Age\": 23.58, \"Debt\": 0.46, \"CreditScore\": 6, \"Income\": 347, \"Approved\": \"No\"}, {\"Age\": 23.33, \"Debt\": 1.5, \"CreditScore\": 0, \"Income\": 200, \"Approved\": \"Yes\"}, {\"Age\": 39.08, \"Debt\": 6.0, \"CreditScore\": 5, \"Income\": 1097, \"Approved\": \"Yes\"}, {\"Age\": 36.08, \"Debt\": 2.54, \"CreditScore\": 0, \"Income\": 1000, \"Approved\": \"No\"}, {\"Age\": 32.25, \"Debt\": 1.5, \"CreditScore\": 0, \"Income\": 122, \"Approved\": \"No\"}, {\"Age\": 25.0, \"Debt\": 12.0, \"CreditScore\": 2, \"Income\": 5, \"Approved\": \"No\"}, {\"Age\": 36.17, \"Debt\": 0.42, \"CreditScore\": 0, \"Income\": 2, \"Approved\": \"No\"}, {\"Age\": 32.33, \"Debt\": 3.5, \"CreditScore\": 0, \"Income\": 0, \"Approved\": \"No\"}, {\"Age\": 39.17, \"Debt\": 1.625, \"CreditScore\": 10, \"Income\": 4700, \"Approved\": \"Yes\"}, {\"Age\": 26.17, \"Debt\": 0.835, \"CreditScore\": 0, \"Income\": 0, \"Approved\": \"No\"}, {\"Age\": 49.5, \"Debt\": 7.585, \"CreditScore\": 15, \"Income\": 5000, \"Approved\": \"Yes\"}, {\"Age\": 52.83, \"Debt\": 15.0, \"CreditScore\": 14, \"Income\": 2200, \"Approved\": \"Yes\"}, {\"Age\": 20.17, \"Debt\": 5.625, \"CreditScore\": 0, \"Income\": 0, \"Approved\": \"Yes\"}, {\"Age\": 26.25, \"Debt\": 1.54, \"CreditScore\": 0, \"Income\": 0, \"Approved\": \"No\"}, {\"Age\": 53.92, \"Debt\": 9.625, \"CreditScore\": 5, \"Income\": 0, \"Approved\": \"Yes\"}, {\"Age\": 38.17, \"Debt\": 10.125, \"CreditScore\": 6, \"Income\": 196, \"Approved\": \"Yes\"}, {\"Age\": 20.67, \"Debt\": 1.835, \"CreditScore\": 5, \"Income\": 2503, \"Approved\": \"Yes\"}, {\"Age\": 27.25, \"Debt\": 0.625, \"CreditScore\": 0, \"Income\": 0, \"Approved\": \"No\"}, {\"Age\": 22.75, \"Debt\": 11.0, \"CreditScore\": 7, \"Income\": 809, \"Approved\": \"Yes\"}, {\"Age\": 31.67, \"Debt\": 0.83, \"CreditScore\": 8, \"Income\": 3290, \"Approved\": \"Yes\"}, {\"Age\": 22.33, \"Debt\": 11.0, \"CreditScore\": 1, \"Income\": 278, \"Approved\": \"Yes\"}, {\"Age\": 47.67, \"Debt\": 2.5, \"CreditScore\": 12, \"Income\": 2510, \"Approved\": \"Yes\"}, {\"Age\": 37.33, \"Debt\": 6.5, \"CreditScore\": 12, \"Income\": 0, \"Approved\": \"Yes\"}, {\"Age\": 42.83, \"Debt\": 4.625, \"CreditScore\": 0, \"Income\": 0, \"Approved\": \"Yes\"}, {\"Age\": 20.5, \"Debt\": 10.0, \"CreditScore\": 0, \"Income\": 0, \"Approved\": \"Yes\"}, {\"Age\": 49.58, \"Debt\": 19.0, \"CreditScore\": 1, \"Income\": 0, \"Approved\": \"No\"}, {\"Age\": 52.5, \"Debt\": 6.5, \"CreditScore\": 15, \"Income\": 11202, \"Approved\": \"Yes\"}, {\"Age\": 21.0, \"Debt\": 3.0, \"CreditScore\": 8, \"Income\": 1, \"Approved\": \"Yes\"}, {\"Age\": 19.17, \"Debt\": 0.0, \"CreditScore\": 0, \"Income\": 1, \"Approved\": \"Yes\"}, {\"Age\": 27.42, \"Debt\": 14.5, \"CreditScore\": 1, \"Income\": 11, \"Approved\": \"Yes\"}, {\"Age\": 29.5, \"Debt\": 0.46, \"CreditScore\": 4, \"Income\": 500, \"Approved\": \"Yes\"}, {\"Age\": 36.5, \"Debt\": 4.25, \"CreditScore\": 0, \"Income\": 50, \"Approved\": \"No\"}, {\"Age\": 19.67, \"Debt\": 0.21, \"CreditScore\": 11, \"Income\": 99, \"Approved\": \"Yes\"}, {\"Age\": 25.33, \"Debt\": 0.58, \"CreditScore\": 7, \"Income\": 5124, \"Approved\": \"Yes\"}, {\"Age\": 31.67, \"Debt\": 16.165, \"CreditScore\": 9, \"Income\": 730, \"Approved\": \"Yes\"}, {\"Age\": 40.92, \"Debt\": 2.25, \"CreditScore\": 0, \"Income\": 0, \"Approved\": \"No\"}, {\"Age\": 56.83, \"Debt\": 4.25, \"CreditScore\": 0, \"Income\": 4, \"Approved\": \"No\"}, {\"Age\": 34.83, \"Debt\": 1.25, \"CreditScore\": 0, \"Income\": 0, \"Approved\": \"No\"}, {\"Age\": 51.83, \"Debt\": 2.04, \"CreditScore\": 0, \"Income\": 1, \"Approved\": \"No\"}, {\"Age\": 43.25, \"Debt\": 25.21, \"CreditScore\": 1, \"Income\": 90, \"Approved\": \"No\"}, {\"Age\": 56.42, \"Debt\": 28.0, \"CreditScore\": 40, \"Income\": 15, \"Approved\": \"Yes\"}, {\"Age\": 17.92, \"Debt\": 0.54, \"CreditScore\": 1, \"Income\": 5, \"Approved\": \"No\"}, {\"Age\": 23.5, \"Debt\": 2.75, \"CreditScore\": 0, \"Income\": 25, \"Approved\": \"No\"}, {\"Age\": 49.0, \"Debt\": 1.5, \"CreditScore\": 0, \"Income\": 27, \"Approved\": \"No\"}, {\"Age\": 69.5, \"Debt\": 6.0, \"CreditScore\": 0, \"Income\": 0, \"Approved\": \"No\"}, {\"Age\": 33.5, \"Debt\": 1.75, \"CreditScore\": 4, \"Income\": 857, \"Approved\": \"Yes\"}, {\"Age\": 34.25, \"Debt\": 1.75, \"CreditScore\": 0, \"Income\": 0, \"Approved\": \"No\"}, {\"Age\": 33.67, \"Debt\": 1.25, \"CreditScore\": 0, \"Income\": 0, \"Approved\": \"No\"}, {\"Age\": 36.67, \"Debt\": 3.25, \"CreditScore\": 0, \"Income\": 639, \"Approved\": \"Yes\"}, {\"Age\": 33.58, \"Debt\": 2.75, \"CreditScore\": 6, \"Income\": 0, \"Approved\": \"Yes\"}, {\"Age\": 22.92, \"Debt\": 0.17, \"CreditScore\": 0, \"Income\": 0, \"Approved\": \"No\"}, {\"Age\": 29.42, \"Debt\": 1.25, \"CreditScore\": 0, \"Income\": 0, \"Approved\": \"No\"}, {\"Age\": 50.08, \"Debt\": 12.54, \"CreditScore\": 3, \"Income\": 0, \"Approved\": \"Yes\"}, {\"Age\": 31.08, \"Debt\": 3.085, \"CreditScore\": 2, \"Income\": 41, \"Approved\": \"No\"}, {\"Age\": 32.33, \"Debt\": 0.54, \"CreditScore\": 0, \"Income\": 11177, \"Approved\": \"Yes\"}, {\"Age\": 23.25, \"Debt\": 4.0, \"CreditScore\": 0, \"Income\": 0, \"Approved\": \"Yes\"}, {\"Age\": 17.33, \"Debt\": 9.5, \"CreditScore\": 10, \"Income\": 10, \"Approved\": \"No\"}, {\"Age\": 52.42, \"Debt\": 1.5, \"CreditScore\": 0, \"Income\": 350, \"Approved\": \"No\"}, {\"Age\": 22.92, \"Debt\": 11.585, \"CreditScore\": 0, \"Income\": 1349, \"Approved\": \"Yes\"}, {\"Age\": 32.25, \"Debt\": 0.165, \"CreditScore\": 1, \"Income\": 8000, \"Approved\": \"Yes\"}, {\"Age\": 25.42, \"Debt\": 1.125, \"CreditScore\": 2, \"Income\": 0, \"Approved\": \"No\"}, {\"Age\": 27.58, \"Debt\": 3.25, \"CreditScore\": 2, \"Income\": 1, \"Approved\": \"No\"}, {\"Age\": 16.0, \"Debt\": 0.165, \"CreditScore\": 2, \"Income\": 1, \"Approved\": \"No\"}, {\"Age\": 28.58, \"Debt\": 1.665, \"CreditScore\": 0, \"Income\": 0, \"Approved\": \"No\"}, {\"Age\": 23.08, \"Debt\": 11.5, \"CreditScore\": 11, \"Income\": 284, \"Approved\": \"Yes\"}, {\"Age\": 33.17, \"Debt\": 3.04, \"CreditScore\": 1, \"Income\": 18027, \"Approved\": \"Yes\"}, {\"Age\": 39.92, \"Debt\": 0.54, \"CreditScore\": 3, \"Income\": 1000, \"Approved\": \"Yes\"}, {\"Age\": 31.33, \"Debt\": 19.5, \"CreditScore\": 16, \"Income\": 5000, \"Approved\": \"Yes\"}, {\"Age\": 41.0, \"Debt\": 0.04, \"CreditScore\": 1, \"Income\": 0, \"Approved\": \"Yes\"}, {\"Age\": 32.25, \"Debt\": 14.0, \"CreditScore\": 2, \"Income\": 1, \"Approved\": \"No\"}, {\"Age\": 21.58, \"Debt\": 0.79, \"CreditScore\": 0, \"Income\": 0, \"Approved\": \"No\"}, {\"Age\": 38.67, \"Debt\": 0.21, \"CreditScore\": 0, \"Income\": 0, \"Approved\": \"Yes\"}, {\"Age\": 23.08, \"Debt\": 2.5, \"CreditScore\": 11, \"Income\": 2184, \"Approved\": \"Yes\"}, {\"Age\": 20.42, \"Debt\": 7.5, \"CreditScore\": 1, \"Income\": 234, \"Approved\": \"Yes\"}, {\"Age\": 33.75, \"Debt\": 2.75, \"CreditScore\": 0, \"Income\": 0, \"Approved\": \"No\"}, {\"Age\": 22.17, \"Debt\": 2.25, \"CreditScore\": 0, \"Income\": 10, \"Approved\": \"No\"}, {\"Age\": 35.75, \"Debt\": 2.415, \"CreditScore\": 2, \"Income\": 1, \"Approved\": \"No\"}, {\"Age\": 20.83, \"Debt\": 8.5, \"CreditScore\": 0, \"Income\": 351, \"Approved\": \"No\"}, {\"Age\": 57.08, \"Debt\": 19.5, \"CreditScore\": 7, \"Income\": 3000, \"Approved\": \"Yes\"}, {\"Age\": 18.92, \"Debt\": 9.25, \"CreditScore\": 4, \"Income\": 500, \"Approved\": \"Yes\"}, {\"Age\": 16.25, \"Debt\": 0.835, \"CreditScore\": 0, \"Income\": 0, \"Approved\": \"No\"}, {\"Age\": 43.17, \"Debt\": 2.25, \"CreditScore\": 0, \"Income\": 0, \"Approved\": \"No\"}, {\"Age\": 28.17, \"Debt\": 0.375, \"CreditScore\": 4, \"Income\": 0, \"Approved\": \"Yes\"}, {\"Age\": 30.0, \"Debt\": 5.29, \"CreditScore\": 5, \"Income\": 500, \"Approved\": \"Yes\"}, {\"Age\": 19.67, \"Debt\": 0.375, \"CreditScore\": 2, \"Income\": 0, \"Approved\": \"Yes\"}, {\"Age\": 22.08, \"Debt\": 0.83, \"CreditScore\": 0, \"Income\": 0, \"Approved\": \"Yes\"}, {\"Age\": 28.58, \"Debt\": 3.75, \"CreditScore\": 1, \"Income\": 154, \"Approved\": \"No\"}, {\"Age\": 57.42, \"Debt\": 8.5, \"CreditScore\": 3, \"Income\": 0, \"Approved\": \"Yes\"}, {\"Age\": 41.42, \"Debt\": 5.0, \"CreditScore\": 6, \"Income\": 0, \"Approved\": \"Yes\"}, {\"Age\": 28.67, \"Debt\": 9.335, \"CreditScore\": 6, \"Income\": 168, \"Approved\": \"Yes\"}, {\"Age\": 24.75, \"Debt\": 0.54, \"CreditScore\": 0, \"Income\": 1, \"Approved\": \"No\"}, {\"Age\": 23.5, \"Debt\": 9.0, \"CreditScore\": 5, \"Income\": 0, \"Approved\": \"Yes\"}, {\"Age\": 35.17, \"Debt\": 25.125, \"CreditScore\": 1, \"Income\": 500, \"Approved\": \"Yes\"}, {\"Age\": 34.5, \"Debt\": 4.04, \"CreditScore\": 7, \"Income\": 0, \"Approved\": \"Yes\"}, {\"Age\": 16.08, \"Debt\": 0.75, \"CreditScore\": 5, \"Income\": 690, \"Approved\": \"Yes\"}, {\"Age\": 24.58, \"Debt\": 12.5, \"CreditScore\": 0, \"Income\": 0, \"Approved\": \"No\"}, {\"Age\": 29.5, \"Debt\": 1.085, \"CreditScore\": 0, \"Income\": 13, \"Approved\": \"No\"}, {\"Age\": 16.33, \"Debt\": 0.21, \"CreditScore\": 0, \"Income\": 1, \"Approved\": \"No\"}, {\"Age\": 21.83, \"Debt\": 1.54, \"CreditScore\": 0, \"Income\": 0, \"Approved\": \"No\"}, {\"Age\": 64.08, \"Debt\": 0.165, \"CreditScore\": 1, \"Income\": 100, \"Approved\": \"Yes\"}, {\"Age\": 42.75, \"Debt\": 4.085, \"CreditScore\": 0, \"Income\": 100, \"Approved\": \"No\"}, {\"Age\": 29.58, \"Debt\": 1.75, \"CreditScore\": 0, \"Income\": 0, \"Approved\": \"No\"}, {\"Age\": 24.75, \"Debt\": 3.0, \"CreditScore\": 19, \"Income\": 500, \"Approved\": \"Yes\"}, {\"Age\": 39.58, \"Debt\": 5.0, \"CreditScore\": 2, \"Income\": 1, \"Approved\": \"No\"}, {\"Age\": 23.92, \"Debt\": 0.585, \"CreditScore\": 0, \"Income\": 1, \"Approved\": \"No\"}, {\"Age\": 19.58, \"Debt\": 0.665, \"CreditScore\": 1, \"Income\": 2, \"Approved\": \"No\"}, {\"Age\": 40.58, \"Debt\": 5.0, \"CreditScore\": 7, \"Income\": 3065, \"Approved\": \"Yes\"}, {\"Age\": 30.58, \"Debt\": 2.71, \"CreditScore\": 0, \"Income\": 0, \"Approved\": \"No\"}, {\"Age\": 25.67, \"Debt\": 0.29, \"CreditScore\": 0, \"Income\": 0, \"Approved\": \"No\"}, {\"Age\": 28.46, \"Debt\": 5.0, \"CreditScore\": 0, \"Income\": 0, \"Approved\": \"No\"}, {\"Age\": 31.25, \"Debt\": 2.835, \"CreditScore\": 5, \"Income\": 146, \"Approved\": \"No\"}, {\"Age\": 37.33, \"Debt\": 2.5, \"CreditScore\": 0, \"Income\": 246, \"Approved\": \"No\"}, {\"Age\": 28.25, \"Debt\": 5.125, \"CreditScore\": 2, \"Income\": 7, \"Approved\": \"Yes\"}, {\"Age\": 26.75, \"Debt\": 2.0, \"CreditScore\": 0, \"Income\": 0, \"Approved\": \"No\"}, {\"Age\": 18.42, \"Debt\": 10.415, \"CreditScore\": 0, \"Income\": 375, \"Approved\": \"No\"}, {\"Age\": 67.75, \"Debt\": 5.5, \"CreditScore\": 1, \"Income\": 0, \"Approved\": \"Yes\"}, {\"Age\": 18.83, \"Debt\": 0.0, \"CreditScore\": 0, \"Income\": 1, \"Approved\": \"No\"}, {\"Age\": 48.17, \"Debt\": 7.625, \"CreditScore\": 12, \"Income\": 790, \"Approved\": \"Yes\"}, {\"Age\": 48.17, \"Debt\": 3.5, \"CreditScore\": 0, \"Income\": 0, \"Approved\": \"Yes\"}, {\"Age\": 65.17, \"Debt\": 14.0, \"CreditScore\": 11, \"Income\": 1400, \"Approved\": \"Yes\"}, {\"Age\": 40.58, \"Debt\": 3.29, \"CreditScore\": 0, \"Income\": 0, \"Approved\": \"No\"}, {\"Age\": 22.0, \"Debt\": 0.79, \"CreditScore\": 1, \"Income\": 283, \"Approved\": \"No\"}, {\"Age\": 23.5, \"Debt\": 3.165, \"CreditScore\": 1, \"Income\": 80, \"Approved\": \"No\"}, {\"Age\": 21.08, \"Debt\": 4.125, \"CreditScore\": 0, \"Income\": 100, \"Approved\": \"No\"}, {\"Age\": 23.08, \"Debt\": 0.0, \"CreditScore\": 11, \"Income\": 0, \"Approved\": \"No\"}, {\"Age\": 51.42, \"Debt\": 0.04, \"CreditScore\": 0, \"Income\": 3000, \"Approved\": \"Yes\"}, {\"Age\": 20.0, \"Debt\": 0.0, \"CreditScore\": 0, \"Income\": 0, \"Approved\": \"No\"}, {\"Age\": 49.17, \"Debt\": 2.29, \"CreditScore\": 0, \"Income\": 3, \"Approved\": \"No\"}, {\"Age\": 23.58, \"Debt\": 0.83, \"CreditScore\": 1, \"Income\": 11, \"Approved\": \"No\"}, {\"Age\": 20.17, \"Debt\": 9.25, \"CreditScore\": 3, \"Income\": 28, \"Approved\": \"Yes\"}, {\"Age\": 47.25, \"Debt\": 0.75, \"CreditScore\": 1, \"Income\": 892, \"Approved\": \"Yes\"}, {\"Age\": 24.5, \"Debt\": 2.415, \"CreditScore\": 0, \"Income\": 0, \"Approved\": \"No\"}, {\"Age\": 34.08, \"Debt\": 6.5, \"CreditScore\": 0, \"Income\": 0, \"Approved\": \"No\"}, {\"Age\": 34.75, \"Debt\": 15.0, \"CreditScore\": 9, \"Income\": 134, \"Approved\": \"Yes\"}, {\"Age\": 20.08, \"Debt\": 0.125, \"CreditScore\": 1, \"Income\": 768, \"Approved\": \"Yes\"}, {\"Age\": 23.42, \"Debt\": 0.585, \"CreditScore\": 0, \"Income\": 0, \"Approved\": \"No\"}, {\"Age\": 34.17, \"Debt\": 1.54, \"CreditScore\": 1, \"Income\": 50000, \"Approved\": \"Yes\"}, {\"Age\": 25.58, \"Debt\": 0.335, \"CreditScore\": 0, \"Income\": 0, \"Approved\": \"No\"}, {\"Age\": 71.58, \"Debt\": 0.0, \"CreditScore\": 0, \"Income\": 0, \"Approved\": \"Yes\"}, {\"Age\": 54.42, \"Debt\": 0.5, \"CreditScore\": 0, \"Income\": 314, \"Approved\": \"Yes\"}, {\"Age\": 19.17, \"Debt\": 0.585, \"CreditScore\": 0, \"Income\": 0, \"Approved\": \"No\"}, {\"Age\": 27.0, \"Debt\": 0.75, \"CreditScore\": 3, \"Income\": 150, \"Approved\": \"Yes\"}, {\"Age\": 35.17, \"Debt\": 4.5, \"CreditScore\": 0, \"Income\": 0, \"Approved\": \"Yes\"}, {\"Age\": 17.42, \"Debt\": 6.5, \"CreditScore\": 0, \"Income\": 100, \"Approved\": \"No\"}, {\"Age\": 33.67, \"Debt\": 2.165, \"CreditScore\": 0, \"Income\": 0, \"Approved\": \"No\"}, {\"Age\": 20.67, \"Debt\": 0.835, \"CreditScore\": 0, \"Income\": 0, \"Approved\": \"No\"}, {\"Age\": 16.92, \"Debt\": 0.5, \"CreditScore\": 6, \"Income\": 35, \"Approved\": \"No\"}, {\"Age\": 25.0, \"Debt\": 0.875, \"CreditScore\": 0, \"Income\": 5860, \"Approved\": \"Yes\"}, {\"Age\": 29.83, \"Debt\": 3.5, \"CreditScore\": 0, \"Income\": 0, \"Approved\": \"No\"}, {\"Age\": 36.75, \"Debt\": 0.125, \"CreditScore\": 0, \"Income\": 113, \"Approved\": \"Yes\"}, {\"Age\": 24.42, \"Debt\": 2.0, \"CreditScore\": 2, \"Income\": 1300, \"Approved\": \"No\"}, {\"Age\": 22.67, \"Debt\": 0.79, \"CreditScore\": 0, \"Income\": 0, \"Approved\": \"No\"}, {\"Age\": 56.5, \"Debt\": 16.0, \"CreditScore\": 15, \"Income\": 247, \"Approved\": \"Yes\"}, {\"Age\": 34.0, \"Debt\": 4.5, \"CreditScore\": 0, \"Income\": 0, \"Approved\": \"No\"}, {\"Age\": 48.58, \"Debt\": 0.205, \"CreditScore\": 11, \"Income\": 2732, \"Approved\": \"Yes\"}, {\"Age\": 18.08, \"Debt\": 0.375, \"CreditScore\": 0, \"Income\": 0, \"Approved\": \"Yes\"}, {\"Age\": 56.75, \"Debt\": 12.25, \"CreditScore\": 4, \"Income\": 0, \"Approved\": \"Yes\"}, {\"Age\": 28.17, \"Debt\": 0.125, \"CreditScore\": 0, \"Income\": 2100, \"Approved\": \"No\"}, {\"Age\": 34.0, \"Debt\": 5.5, \"CreditScore\": 0, \"Income\": 0, \"Approved\": \"No\"}, {\"Age\": 26.58, \"Debt\": 2.54, \"CreditScore\": 0, \"Income\": 60, \"Approved\": \"No\"}, {\"Age\": 25.25, \"Debt\": 1.0, \"CreditScore\": 0, \"Income\": 0, \"Approved\": \"No\"}, {\"Age\": 18.25, \"Debt\": 0.165, \"CreditScore\": 0, \"Income\": 0, \"Approved\": \"No\"}, {\"Age\": 47.17, \"Debt\": 5.835, \"CreditScore\": 0, \"Income\": 150, \"Approved\": \"No\"}, {\"Age\": 69.17, \"Debt\": 9.0, \"CreditScore\": 1, \"Income\": 6, \"Approved\": \"No\"}, {\"Age\": 23.0, \"Debt\": 0.75, \"CreditScore\": 0, \"Income\": 0, \"Approved\": \"No\"}, {\"Age\": 30.58, \"Debt\": 10.665, \"CreditScore\": 12, \"Income\": 3, \"Approved\": \"No\"}, {\"Age\": 41.0, \"Debt\": 2.04, \"CreditScore\": 23, \"Income\": 1236, \"Approved\": \"Yes\"}, {\"Age\": 28.46, \"Debt\": 0.375, \"CreditScore\": 0, \"Income\": 0, \"Approved\": \"No\"}, {\"Age\": 19.75, \"Debt\": 0.75, \"CreditScore\": 5, \"Income\": 5, \"Approved\": \"No\"}, {\"Age\": 30.25, \"Debt\": 5.5, \"CreditScore\": 0, \"Income\": 0, \"Approved\": \"No\"}, {\"Age\": 28.25, \"Debt\": 0.875, \"CreditScore\": 3, \"Income\": 0, \"Approved\": \"Yes\"}, {\"Age\": 20.5, \"Debt\": 11.835, \"CreditScore\": 0, \"Income\": 0, \"Approved\": \"Yes\"}, {\"Age\": 22.67, \"Debt\": 1.585, \"CreditScore\": 6, \"Income\": 0, \"Approved\": \"Yes\"}, {\"Age\": 21.5, \"Debt\": 11.5, \"CreditScore\": 0, \"Income\": 68, \"Approved\": \"No\"}, {\"Age\": 28.92, \"Debt\": 0.375, \"CreditScore\": 0, \"Income\": 140, \"Approved\": \"No\"}, {\"Age\": 80.25, \"Debt\": 5.5, \"CreditScore\": 0, \"Income\": 340, \"Approved\": \"No\"}, {\"Age\": 27.17, \"Debt\": 1.25, \"CreditScore\": 1, \"Income\": 300, \"Approved\": \"No\"}, {\"Age\": 31.25, \"Debt\": 3.75, \"CreditScore\": 9, \"Income\": 0, \"Approved\": \"Yes\"}, {\"Age\": 27.58, \"Debt\": 2.04, \"CreditScore\": 3, \"Income\": 560, \"Approved\": \"Yes\"}, {\"Age\": 30.42, \"Debt\": 1.375, \"CreditScore\": 3, \"Income\": 33, \"Approved\": \"No\"}, {\"Age\": 45.83, \"Debt\": 10.5, \"CreditScore\": 7, \"Income\": 0, \"Approved\": \"Yes\"}, {\"Age\": 25.67, \"Debt\": 2.21, \"CreditScore\": 0, \"Income\": 0, \"Approved\": \"No\"}, {\"Age\": 17.08, \"Debt\": 0.085, \"CreditScore\": 0, \"Income\": 722, \"Approved\": \"No\"}, {\"Age\": 48.17, \"Debt\": 1.335, \"CreditScore\": 0, \"Income\": 120, \"Approved\": \"No\"}, {\"Age\": 17.58, \"Debt\": 9.0, \"CreditScore\": 0, \"Income\": 0, \"Approved\": \"Yes\"}, {\"Age\": 24.5, \"Debt\": 1.75, \"CreditScore\": 0, \"Income\": 0, \"Approved\": \"No\"}, {\"Age\": 27.83, \"Debt\": 1.54, \"CreditScore\": 5, \"Income\": 3, \"Approved\": \"Yes\"}, {\"Age\": 36.67, \"Debt\": 2.0, \"CreditScore\": 0, \"Income\": 0, \"Approved\": \"No\"}, {\"Age\": 45.33, \"Debt\": 1.0, \"CreditScore\": 0, \"Income\": 0, \"Approved\": \"No\"}, {\"Age\": 19.17, \"Debt\": 4.0, \"CreditScore\": 0, \"Income\": 1000, \"Approved\": \"No\"}, {\"Age\": 26.92, \"Debt\": 13.5, \"CreditScore\": 2, \"Income\": 5000, \"Approved\": \"Yes\"}, {\"Age\": 25.5, \"Debt\": 0.375, \"CreditScore\": 3, \"Income\": 15108, \"Approved\": \"Yes\"}, {\"Age\": 28.46, \"Debt\": 10.5, \"CreditScore\": 0, \"Income\": 0, \"Approved\": \"Yes\"}, {\"Age\": 26.92, \"Debt\": 2.25, \"CreditScore\": 0, \"Income\": 4000, \"Approved\": \"No\"}, {\"Age\": 23.17, \"Debt\": 0.0, \"CreditScore\": 0, \"Income\": 0, \"Approved\": \"Yes\"}, {\"Age\": 24.75, \"Debt\": 13.665, \"CreditScore\": 0, \"Income\": 1, \"Approved\": \"No\"}, {\"Age\": 26.0, \"Debt\": 1.0, \"CreditScore\": 0, \"Income\": 0, \"Approved\": \"Yes\"}, {\"Age\": 20.25, \"Debt\": 9.96, \"CreditScore\": 0, \"Income\": 0, \"Approved\": \"Yes\"}, {\"Age\": 27.58, \"Debt\": 3.0, \"CreditScore\": 1, \"Income\": 10, \"Approved\": \"No\"}, {\"Age\": 25.33, \"Debt\": 2.085, \"CreditScore\": 0, \"Income\": 1, \"Approved\": \"No\"}, {\"Age\": 48.75, \"Debt\": 26.335, \"CreditScore\": 0, \"Income\": 0, \"Approved\": \"No\"}, {\"Age\": 58.58, \"Debt\": 2.71, \"CreditScore\": 0, \"Income\": 0, \"Approved\": \"No\"}, {\"Age\": 35.25, \"Debt\": 3.165, \"CreditScore\": 0, \"Income\": 0, \"Approved\": \"No\"}, {\"Age\": 19.5, \"Debt\": 0.165, \"CreditScore\": 0, \"Income\": 0, \"Approved\": \"No\"}, {\"Age\": 40.0, \"Debt\": 6.5, \"CreditScore\": 1, \"Income\": 500, \"Approved\": \"Yes\"}, {\"Age\": 41.92, \"Debt\": 0.42, \"CreditScore\": 6, \"Income\": 948, \"Approved\": \"Yes\"}, {\"Age\": 28.42, \"Debt\": 3.5, \"CreditScore\": 0, \"Income\": 0, \"Approved\": \"Yes\"}, {\"Age\": 36.75, \"Debt\": 4.71, \"CreditScore\": 0, \"Income\": 0, \"Approved\": \"No\"}, {\"Age\": 18.5, \"Debt\": 2.0, \"CreditScore\": 2, \"Income\": 300, \"Approved\": \"Yes\"}, {\"Age\": 18.17, \"Debt\": 10.25, \"CreditScore\": 0, \"Income\": 13, \"Approved\": \"No\"}, {\"Age\": 15.17, \"Debt\": 7.0, \"CreditScore\": 0, \"Income\": 0, \"Approved\": \"No\"}, {\"Age\": 32.75, \"Debt\": 1.5, \"CreditScore\": 3, \"Income\": 0, \"Approved\": \"Yes\"}, {\"Age\": 26.33, \"Debt\": 13.0, \"CreditScore\": 0, \"Income\": 1110, \"Approved\": \"No\"}, {\"Age\": 17.92, \"Debt\": 0.205, \"CreditScore\": 0, \"Income\": 750, \"Approved\": \"No\"}, {\"Age\": 48.5, \"Debt\": 4.25, \"CreditScore\": 0, \"Income\": 0, \"Approved\": \"Yes\"}, {\"Age\": 15.83, \"Debt\": 7.625, \"CreditScore\": 1, \"Income\": 160, \"Approved\": \"No\"}, {\"Age\": 28.0, \"Debt\": 2.0, \"CreditScore\": 2, \"Income\": 0, \"Approved\": \"Yes\"}, {\"Age\": 24.08, \"Debt\": 9.0, \"CreditScore\": 0, \"Income\": 0, \"Approved\": \"No\"}, {\"Age\": 32.33, \"Debt\": 2.5, \"CreditScore\": 0, \"Income\": 0, \"Approved\": \"No\"}, {\"Age\": 34.67, \"Debt\": 1.08, \"CreditScore\": 0, \"Income\": 0, \"Approved\": \"No\"}, {\"Age\": 23.25, \"Debt\": 1.5, \"CreditScore\": 3, \"Income\": 582, \"Approved\": \"Yes\"}, {\"Age\": 41.17, \"Debt\": 1.25, \"CreditScore\": 0, \"Income\": 195, \"Approved\": \"No\"}, {\"Age\": 38.42, \"Debt\": 0.705, \"CreditScore\": 2, \"Income\": 500, \"Approved\": \"No\"}, {\"Age\": 30.17, \"Debt\": 0.5, \"CreditScore\": 11, \"Income\": 540, \"Approved\": \"Yes\"}, {\"Age\": 17.08, \"Debt\": 3.29, \"CreditScore\": 0, \"Income\": 2, \"Approved\": \"No\"}, {\"Age\": 26.67, \"Debt\": 1.75, \"CreditScore\": 5, \"Income\": 5777, \"Approved\": \"Yes\"}, {\"Age\": 23.0, \"Debt\": 0.75, \"CreditScore\": 0, \"Income\": 0, \"Approved\": \"No\"}, {\"Age\": 25.17, \"Debt\": 3.0, \"CreditScore\": 1, \"Income\": 22, \"Approved\": \"No\"}, {\"Age\": 22.92, \"Debt\": 1.25, \"CreditScore\": 0, \"Income\": 809, \"Approved\": \"No\"}, {\"Age\": 23.08, \"Debt\": 11.5, \"CreditScore\": 9, \"Income\": 742, \"Approved\": \"Yes\"}, {\"Age\": 32.42, \"Debt\": 3.0, \"CreditScore\": 0, \"Income\": 0, \"Approved\": \"No\"}, {\"Age\": 47.67, \"Debt\": 0.29, \"CreditScore\": 20, \"Income\": 15000, \"Approved\": \"Yes\"}, {\"Age\": 43.17, \"Debt\": 5.0, \"CreditScore\": 0, \"Income\": 0, \"Approved\": \"No\"}, {\"Age\": 28.5, \"Debt\": 1.0, \"CreditScore\": 2, \"Income\": 500, \"Approved\": \"No\"}, {\"Age\": 48.58, \"Debt\": 6.5, \"CreditScore\": 0, \"Income\": 0, \"Approved\": \"Yes\"}, {\"Age\": 25.0, \"Debt\": 12.5, \"CreditScore\": 0, \"Income\": 0, \"Approved\": \"Yes\"}, {\"Age\": 28.75, \"Debt\": 3.75, \"CreditScore\": 1, \"Income\": 0, \"Approved\": \"Yes\"}, {\"Age\": 22.83, \"Debt\": 2.29, \"CreditScore\": 7, \"Income\": 2384, \"Approved\": \"Yes\"}, {\"Age\": 46.08, \"Debt\": 3.0, \"CreditScore\": 8, \"Income\": 4159, \"Approved\": \"Yes\"}, {\"Age\": 22.67, \"Debt\": 0.75, \"CreditScore\": 2, \"Income\": 394, \"Approved\": \"No\"}, {\"Age\": 54.58, \"Debt\": 9.415, \"CreditScore\": 11, \"Income\": 300, \"Approved\": \"Yes\"}, {\"Age\": 39.08, \"Debt\": 4.0, \"CreditScore\": 0, \"Income\": 0, \"Approved\": \"No\"}, {\"Age\": 24.5, \"Debt\": 0.5, \"CreditScore\": 0, \"Income\": 824, \"Approved\": \"Yes\"}, {\"Age\": 39.5, \"Debt\": 1.625, \"CreditScore\": 0, \"Income\": 316, \"Approved\": \"No\"}, {\"Age\": 19.42, \"Debt\": 6.5, \"CreditScore\": 7, \"Income\": 2954, \"Approved\": \"Yes\"}, {\"Age\": 35.17, \"Debt\": 2.5, \"CreditScore\": 7, \"Income\": 1270, \"Approved\": \"Yes\"}, {\"Age\": 28.46, \"Debt\": 0.04, \"CreditScore\": 0, \"Income\": 0, \"Approved\": \"No\"}, {\"Age\": 35.0, \"Debt\": 2.5, \"CreditScore\": 0, \"Income\": 0, \"Approved\": \"No\"}, {\"Age\": 23.17, \"Debt\": 11.125, \"CreditScore\": 1, \"Income\": 0, \"Approved\": \"Yes\"}, {\"Age\": 28.0, \"Debt\": 3.0, \"CreditScore\": 0, \"Income\": 67, \"Approved\": \"No\"}, {\"Age\": 17.08, \"Debt\": 0.25, \"CreditScore\": 4, \"Income\": 8, \"Approved\": \"No\"}, {\"Age\": 24.5, \"Debt\": 1.04, \"CreditScore\": 3, \"Income\": 147, \"Approved\": \"No\"}, {\"Age\": 37.75, \"Debt\": 5.5, \"CreditScore\": 0, \"Income\": 0, \"Approved\": \"Yes\"}, {\"Age\": 30.08, \"Debt\": 1.04, \"CreditScore\": 10, \"Income\": 28, \"Approved\": \"No\"}, {\"Age\": 44.25, \"Debt\": 0.5, \"CreditScore\": 0, \"Income\": 0, \"Approved\": \"No\"}, {\"Age\": 31.92, \"Debt\": 4.46, \"CreditScore\": 3, \"Income\": 300, \"Approved\": \"Yes\"}, {\"Age\": 28.58, \"Debt\": 3.625, \"CreditScore\": 0, \"Income\": 0, \"Approved\": \"No\"}, {\"Age\": 33.75, \"Debt\": 0.75, \"CreditScore\": 3, \"Income\": 0, \"Approved\": \"No\"}, {\"Age\": 23.0, \"Debt\": 0.625, \"CreditScore\": 0, \"Income\": 1, \"Approved\": \"No\"}, {\"Age\": 26.67, \"Debt\": 2.71, \"CreditScore\": 1, \"Income\": 0, \"Approved\": \"Yes\"}, {\"Age\": 35.75, \"Debt\": 0.915, \"CreditScore\": 4, \"Income\": 1583, \"Approved\": \"Yes\"}, {\"Age\": 44.17, \"Debt\": 6.665, \"CreditScore\": 3, \"Income\": 0, \"Approved\": \"Yes\"}, {\"Age\": 28.75, \"Debt\": 1.165, \"CreditScore\": 0, \"Income\": 0, \"Approved\": \"No\"}, {\"Age\": 25.75, \"Debt\": 0.75, \"CreditScore\": 0, \"Income\": 23, \"Approved\": \"Yes\"}, {\"Age\": 23.25, \"Debt\": 5.875, \"CreditScore\": 10, \"Income\": 245, \"Approved\": \"Yes\"}, {\"Age\": 22.5, \"Debt\": 11.0, \"CreditScore\": 0, \"Income\": 0, \"Approved\": \"No\"}, {\"Age\": 33.67, \"Debt\": 0.375, \"CreditScore\": 0, \"Income\": 44, \"Approved\": \"Yes\"}, {\"Age\": 24.33, \"Debt\": 2.5, \"CreditScore\": 0, \"Income\": 456, \"Approved\": \"No\"}, {\"Age\": 42.83, \"Debt\": 1.25, \"CreditScore\": 1, \"Income\": 112, \"Approved\": \"No\"}, {\"Age\": 13.75, \"Debt\": 4.0, \"CreditScore\": 2, \"Income\": 1000, \"Approved\": \"Yes\"}]}}, {\"mode\": \"vega-lite\"});\n",
       "</script>"
      ],
      "text/plain": [
       "alt.FacetChart(...)"
      ]
     },
     "execution_count": 9,
     "metadata": {},
     "output_type": "execute_result"
    }
   ],
   "source": [
    "data_vis_age = alt.Chart(data_train).mark_bar().encode(\n",
    "    x = alt.X('Age').scale(clamp= True).bin(maxbins=45),\n",
    "    y = alt.Y('count()'),\n",
    "    color = alt.Color('Approved')\n",
    ").properties(\n",
    "    height=100\n",
    ").facet(\n",
    "    \"Approved:N\",)\n",
    "data_vis_age"
   ]
  },
  {
   "cell_type": "markdown",
   "id": "d6ca588c",
   "metadata": {},
   "source": [
    "Figure 3. Number of records approved and not approved for credit card based on applicant's age."
   ]
  },
  {
   "cell_type": "code",
   "execution_count": 10,
   "id": "fdd1e8f3-5eb9-42c1-b9c4-6ab4f859f7d2",
   "metadata": {
    "tags": []
   },
   "outputs": [
    {
     "data": {
      "text/html": [
       "\n",
       "<style>\n",
       "  #altair-viz-9bf8c6643b154b9a91f89009006c98db.vega-embed {\n",
       "    width: 100%;\n",
       "    display: flex;\n",
       "  }\n",
       "\n",
       "  #altair-viz-9bf8c6643b154b9a91f89009006c98db.vega-embed details,\n",
       "  #altair-viz-9bf8c6643b154b9a91f89009006c98db.vega-embed details summary {\n",
       "    position: relative;\n",
       "  }\n",
       "</style>\n",
       "<div id=\"altair-viz-9bf8c6643b154b9a91f89009006c98db\"></div>\n",
       "<script type=\"text/javascript\">\n",
       "  var VEGA_DEBUG = (typeof VEGA_DEBUG == \"undefined\") ? {} : VEGA_DEBUG;\n",
       "  (function(spec, embedOpt){\n",
       "    let outputDiv = document.currentScript.previousElementSibling;\n",
       "    if (outputDiv.id !== \"altair-viz-9bf8c6643b154b9a91f89009006c98db\") {\n",
       "      outputDiv = document.getElementById(\"altair-viz-9bf8c6643b154b9a91f89009006c98db\");\n",
       "    }\n",
       "    const paths = {\n",
       "      \"vega\": \"https://cdn.jsdelivr.net/npm/vega@5?noext\",\n",
       "      \"vega-lib\": \"https://cdn.jsdelivr.net/npm/vega-lib?noext\",\n",
       "      \"vega-lite\": \"https://cdn.jsdelivr.net/npm/vega-lite@5.15.1?noext\",\n",
       "      \"vega-embed\": \"https://cdn.jsdelivr.net/npm/vega-embed@6?noext\",\n",
       "    };\n",
       "\n",
       "    function maybeLoadScript(lib, version) {\n",
       "      var key = `${lib.replace(\"-\", \"\")}_version`;\n",
       "      return (VEGA_DEBUG[key] == version) ?\n",
       "        Promise.resolve(paths[lib]) :\n",
       "        new Promise(function(resolve, reject) {\n",
       "          var s = document.createElement('script');\n",
       "          document.getElementsByTagName(\"head\")[0].appendChild(s);\n",
       "          s.async = true;\n",
       "          s.onload = () => {\n",
       "            VEGA_DEBUG[key] = version;\n",
       "            return resolve(paths[lib]);\n",
       "          };\n",
       "          s.onerror = () => reject(`Error loading script: ${paths[lib]}`);\n",
       "          s.src = paths[lib];\n",
       "        });\n",
       "    }\n",
       "\n",
       "    function showError(err) {\n",
       "      outputDiv.innerHTML = `<div class=\"error\" style=\"color:red;\">${err}</div>`;\n",
       "      throw err;\n",
       "    }\n",
       "\n",
       "    function displayChart(vegaEmbed) {\n",
       "      vegaEmbed(outputDiv, spec, embedOpt)\n",
       "        .catch(err => showError(`Javascript Error: ${err.message}<br>This usually means there's a typo in your chart specification. See the javascript console for the full traceback.`));\n",
       "    }\n",
       "\n",
       "    if(typeof define === \"function\" && define.amd) {\n",
       "      requirejs.config({paths});\n",
       "      require([\"vega-embed\"], displayChart, err => showError(`Error loading script: ${err.message}`));\n",
       "    } else {\n",
       "      maybeLoadScript(\"vega\", \"5\")\n",
       "        .then(() => maybeLoadScript(\"vega-lite\", \"5.15.1\"))\n",
       "        .then(() => maybeLoadScript(\"vega-embed\", \"6\"))\n",
       "        .catch(showError)\n",
       "        .then(() => displayChart(vegaEmbed));\n",
       "    }\n",
       "  })({\"config\": {\"view\": {\"continuousWidth\": 300, \"continuousHeight\": 300}}, \"data\": {\"name\": \"data-9b2ed57830432ad344c2b937c9697da2\"}, \"facet\": {\"field\": \"Approved\", \"type\": \"nominal\"}, \"spec\": {\"mark\": {\"type\": \"bar\"}, \"encoding\": {\"color\": {\"field\": \"Approved\", \"type\": \"nominal\"}, \"x\": {\"bin\": {\"maxbins\": 30}, \"field\": \"Debt\", \"scale\": {\"clamp\": true}, \"type\": \"quantitative\"}, \"y\": {\"aggregate\": \"count\", \"type\": \"quantitative\"}}, \"height\": 100}, \"$schema\": \"https://vega.github.io/schema/vega-lite/v5.15.1.json\", \"datasets\": {\"data-9b2ed57830432ad344c2b937c9697da2\": [{\"Age\": 29.58, \"Debt\": 4.75, \"CreditScore\": 1, \"Income\": 68, \"Approved\": \"No\"}, {\"Age\": 25.67, \"Debt\": 12.5, \"CreditScore\": 67, \"Income\": 258, \"Approved\": \"Yes\"}, {\"Age\": 22.5, \"Debt\": 11.5, \"CreditScore\": 0, \"Income\": 4000, \"Approved\": \"No\"}, {\"Age\": 39.33, \"Debt\": 5.875, \"CreditScore\": 14, \"Income\": 0, \"Approved\": \"Yes\"}, {\"Age\": 22.17, \"Debt\": 12.125, \"CreditScore\": 2, \"Income\": 173, \"Approved\": \"No\"}, {\"Age\": 47.75, \"Debt\": 8.0, \"CreditScore\": 6, \"Income\": 1260, \"Approved\": \"Yes\"}, {\"Age\": 18.83, \"Debt\": 3.54, \"CreditScore\": 0, \"Income\": 1, \"Approved\": \"No\"}, {\"Age\": 32.83, \"Debt\": 2.5, \"CreditScore\": 6, \"Income\": 2072, \"Approved\": \"Yes\"}, {\"Age\": 34.83, \"Debt\": 2.5, \"CreditScore\": 0, \"Income\": 0, \"Approved\": \"No\"}, {\"Age\": 65.42, \"Debt\": 11.0, \"CreditScore\": 7, \"Income\": 0, \"Approved\": \"Yes\"}, {\"Age\": 18.58, \"Debt\": 5.71, \"CreditScore\": 0, \"Income\": 0, \"Approved\": \"No\"}, {\"Age\": 24.08, \"Debt\": 0.5, \"CreditScore\": 1, \"Income\": 678, \"Approved\": \"Yes\"}, {\"Age\": 32.0, \"Debt\": 6.0, \"CreditScore\": 0, \"Income\": 0, \"Approved\": \"No\"}, {\"Age\": 43.0, \"Debt\": 0.29, \"CreditScore\": 8, \"Income\": 375, \"Approved\": \"Yes\"}, {\"Age\": 24.58, \"Debt\": 1.25, \"CreditScore\": 0, \"Income\": 0, \"Approved\": \"No\"}, {\"Age\": 27.25, \"Debt\": 1.585, \"CreditScore\": 12, \"Income\": 713, \"Approved\": \"Yes\"}, {\"Age\": 54.33, \"Debt\": 6.75, \"CreditScore\": 11, \"Income\": 284, \"Approved\": \"Yes\"}, {\"Age\": 43.08, \"Debt\": 0.375, \"CreditScore\": 8, \"Income\": 162, \"Approved\": \"Yes\"}, {\"Age\": 29.5, \"Debt\": 2.0, \"CreditScore\": 0, \"Income\": 17, \"Approved\": \"No\"}, {\"Age\": 28.5, \"Debt\": 3.04, \"CreditScore\": 1, \"Income\": 0, \"Approved\": \"Yes\"}, {\"Age\": 28.92, \"Debt\": 15.0, \"CreditScore\": 11, \"Income\": 2283, \"Approved\": \"Yes\"}, {\"Age\": 22.08, \"Debt\": 2.335, \"CreditScore\": 0, \"Income\": 0, \"Approved\": \"No\"}, {\"Age\": 47.0, \"Debt\": 13.0, \"CreditScore\": 9, \"Income\": 0, \"Approved\": \"Yes\"}, {\"Age\": 26.83, \"Debt\": 0.54, \"CreditScore\": 0, \"Income\": 0, \"Approved\": \"No\"}, {\"Age\": 21.17, \"Debt\": 0.0, \"CreditScore\": 0, \"Income\": 0, \"Approved\": \"No\"}, {\"Age\": 20.42, \"Debt\": 0.835, \"CreditScore\": 1, \"Income\": 0, \"Approved\": \"Yes\"}, {\"Age\": 22.58, \"Debt\": 10.75, \"CreditScore\": 5, \"Income\": 560, \"Approved\": \"Yes\"}, {\"Age\": 36.75, \"Debt\": 5.125, \"CreditScore\": 0, \"Income\": 4000, \"Approved\": \"Yes\"}, {\"Age\": 19.17, \"Debt\": 5.415, \"CreditScore\": 0, \"Income\": 484, \"Approved\": \"No\"}, {\"Age\": 53.33, \"Debt\": 0.165, \"CreditScore\": 0, \"Income\": 27, \"Approved\": \"No\"}, {\"Age\": 22.67, \"Debt\": 2.54, \"CreditScore\": 0, \"Income\": 0, \"Approved\": \"Yes\"}, {\"Age\": 57.83, \"Debt\": 7.04, \"CreditScore\": 6, \"Income\": 1332, \"Approved\": \"Yes\"}, {\"Age\": 36.67, \"Debt\": 4.415, \"CreditScore\": 10, \"Income\": 0, \"Approved\": \"Yes\"}, {\"Age\": 29.67, \"Debt\": 1.415, \"CreditScore\": 1, \"Income\": 100, \"Approved\": \"Yes\"}, {\"Age\": 16.08, \"Debt\": 0.335, \"CreditScore\": 1, \"Income\": 126, \"Approved\": \"No\"}, {\"Age\": 17.58, \"Debt\": 10.0, \"CreditScore\": 1, \"Income\": 1, \"Approved\": \"No\"}, {\"Age\": 41.33, \"Debt\": 0.0, \"CreditScore\": 0, \"Income\": 0, \"Approved\": \"Yes\"}, {\"Age\": 22.67, \"Debt\": 10.5, \"CreditScore\": 0, \"Income\": 0, \"Approved\": \"Yes\"}, {\"Age\": 18.92, \"Debt\": 9.0, \"CreditScore\": 2, \"Income\": 591, \"Approved\": \"Yes\"}, {\"Age\": 32.17, \"Debt\": 1.46, \"CreditScore\": 16, \"Income\": 2079, \"Approved\": \"Yes\"}, {\"Age\": 27.75, \"Debt\": 1.29, \"CreditScore\": 0, \"Income\": 0, \"Approved\": \"No\"}, {\"Age\": 24.5, \"Debt\": 13.335, \"CreditScore\": 0, \"Income\": 475, \"Approved\": \"No\"}, {\"Age\": 52.33, \"Debt\": 1.375, \"CreditScore\": 0, \"Income\": 100, \"Approved\": \"No\"}, {\"Age\": 18.0, \"Debt\": 0.165, \"CreditScore\": 0, \"Income\": 40, \"Approved\": \"Yes\"}, {\"Age\": 23.33, \"Debt\": 11.625, \"CreditScore\": 0, \"Income\": 300, \"Approved\": \"Yes\"}, {\"Age\": 21.75, \"Debt\": 11.75, \"CreditScore\": 0, \"Income\": 0, \"Approved\": \"No\"}, {\"Age\": 39.42, \"Debt\": 1.71, \"CreditScore\": 0, \"Income\": 0, \"Approved\": \"No\"}, {\"Age\": 20.08, \"Debt\": 0.25, \"CreditScore\": 0, \"Income\": 0, \"Approved\": \"No\"}, {\"Age\": 39.25, \"Debt\": 9.5, \"CreditScore\": 14, \"Income\": 4607, \"Approved\": \"Yes\"}, {\"Age\": 37.75, \"Debt\": 7.0, \"CreditScore\": 7, \"Income\": 5, \"Approved\": \"No\"}, {\"Age\": 51.92, \"Debt\": 6.5, \"CreditScore\": 0, \"Income\": 0, \"Approved\": \"No\"}, {\"Age\": 21.83, \"Debt\": 11.0, \"CreditScore\": 6, \"Income\": 0, \"Approved\": \"Yes\"}, {\"Age\": 28.33, \"Debt\": 5.0, \"CreditScore\": 0, \"Income\": 0, \"Approved\": \"Yes\"}, {\"Age\": 27.83, \"Debt\": 1.0, \"CreditScore\": 0, \"Income\": 537, \"Approved\": \"No\"}, {\"Age\": 28.46, \"Debt\": 4.0, \"CreditScore\": 0, \"Income\": 0, \"Approved\": \"No\"}, {\"Age\": 29.42, \"Debt\": 1.25, \"CreditScore\": 2, \"Income\": 108, \"Approved\": \"No\"}, {\"Age\": 52.5, \"Debt\": 7.0, \"CreditScore\": 0, \"Income\": 0, \"Approved\": \"No\"}, {\"Age\": 21.83, \"Debt\": 0.25, \"CreditScore\": 0, \"Income\": 0, \"Approved\": \"Yes\"}, {\"Age\": 20.0, \"Debt\": 7.0, \"CreditScore\": 0, \"Income\": 0, \"Approved\": \"No\"}, {\"Age\": 57.58, \"Debt\": 2.0, \"CreditScore\": 1, \"Income\": 10, \"Approved\": \"No\"}, {\"Age\": 29.25, \"Debt\": 14.79, \"CreditScore\": 5, \"Income\": 0, \"Approved\": \"Yes\"}, {\"Age\": 40.92, \"Debt\": 0.835, \"CreditScore\": 0, \"Income\": 1, \"Approved\": \"No\"}, {\"Age\": 30.83, \"Debt\": 0.0, \"CreditScore\": 1, \"Income\": 0, \"Approved\": \"Yes\"}, {\"Age\": 38.58, \"Debt\": 5.0, \"CreditScore\": 0, \"Income\": 0, \"Approved\": \"No\"}, {\"Age\": 24.83, \"Debt\": 4.5, \"CreditScore\": 0, \"Income\": 6, \"Approved\": \"No\"}, {\"Age\": 25.75, \"Debt\": 0.5, \"CreditScore\": 5, \"Income\": 0, \"Approved\": \"Yes\"}, {\"Age\": 21.17, \"Debt\": 0.875, \"CreditScore\": 0, \"Income\": 204, \"Approved\": \"No\"}, {\"Age\": 16.92, \"Debt\": 0.335, \"CreditScore\": 0, \"Income\": 0, \"Approved\": \"No\"}, {\"Age\": 32.75, \"Debt\": 2.335, \"CreditScore\": 0, \"Income\": 0, \"Approved\": \"No\"}, {\"Age\": 60.08, \"Debt\": 14.5, \"CreditScore\": 15, \"Income\": 1000, \"Approved\": \"Yes\"}, {\"Age\": 34.08, \"Debt\": 2.5, \"CreditScore\": 0, \"Income\": 16, \"Approved\": \"No\"}, {\"Age\": 18.42, \"Debt\": 9.25, \"CreditScore\": 4, \"Income\": 540, \"Approved\": \"Yes\"}, {\"Age\": 35.58, \"Debt\": 0.75, \"CreditScore\": 0, \"Income\": 0, \"Approved\": \"No\"}, {\"Age\": 22.5, \"Debt\": 0.125, \"CreditScore\": 0, \"Income\": 70, \"Approved\": \"No\"}, {\"Age\": 21.33, \"Debt\": 10.5, \"CreditScore\": 0, \"Income\": 0, \"Approved\": \"Yes\"}, {\"Age\": 21.75, \"Debt\": 1.75, \"CreditScore\": 0, \"Income\": 0, \"Approved\": \"No\"}, {\"Age\": 57.08, \"Debt\": 0.335, \"CreditScore\": 0, \"Income\": 2197, \"Approved\": \"No\"}, {\"Age\": 44.83, \"Debt\": 7.0, \"CreditScore\": 0, \"Income\": 2, \"Approved\": \"No\"}, {\"Age\": 20.42, \"Debt\": 10.5, \"CreditScore\": 0, \"Income\": 32, \"Approved\": \"No\"}, {\"Age\": 22.25, \"Debt\": 0.46, \"CreditScore\": 0, \"Income\": 55, \"Approved\": \"No\"}, {\"Age\": 41.17, \"Debt\": 6.5, \"CreditScore\": 3, \"Income\": 0, \"Approved\": \"Yes\"}, {\"Age\": 22.67, \"Debt\": 0.335, \"CreditScore\": 0, \"Income\": 0, \"Approved\": \"No\"}, {\"Age\": 40.83, \"Debt\": 3.5, \"CreditScore\": 0, \"Income\": 0, \"Approved\": \"No\"}, {\"Age\": 22.58, \"Debt\": 10.04, \"CreditScore\": 9, \"Income\": 396, \"Approved\": \"Yes\"}, {\"Age\": 35.42, \"Debt\": 12.0, \"CreditScore\": 8, \"Income\": 6590, \"Approved\": \"Yes\"}, {\"Age\": 28.46, \"Debt\": 4.0, \"CreditScore\": 3, \"Income\": 2279, \"Approved\": \"Yes\"}, {\"Age\": 18.17, \"Debt\": 2.46, \"CreditScore\": 2, \"Income\": 587, \"Approved\": \"No\"}, {\"Age\": 26.75, \"Debt\": 4.5, \"CreditScore\": 0, \"Income\": 1210, \"Approved\": \"No\"}, {\"Age\": 31.83, \"Debt\": 0.04, \"CreditScore\": 0, \"Income\": 0, \"Approved\": \"No\"}, {\"Age\": 34.58, \"Debt\": 0.0, \"CreditScore\": 0, \"Income\": 0, \"Approved\": \"No\"}, {\"Age\": 21.0, \"Debt\": 4.79, \"CreditScore\": 1, \"Income\": 300, \"Approved\": \"Yes\"}, {\"Age\": 45.0, \"Debt\": 4.585, \"CreditScore\": 0, \"Income\": 0, \"Approved\": \"No\"}, {\"Age\": 45.17, \"Debt\": 1.5, \"CreditScore\": 0, \"Income\": 0, \"Approved\": \"No\"}, {\"Age\": 21.5, \"Debt\": 6.0, \"CreditScore\": 3, \"Income\": 918, \"Approved\": \"Yes\"}, {\"Age\": 30.5, \"Debt\": 6.5, \"CreditScore\": 7, \"Income\": 3065, \"Approved\": \"Yes\"}, {\"Age\": 33.0, \"Debt\": 2.5, \"CreditScore\": 0, \"Income\": 0, \"Approved\": \"No\"}, {\"Age\": 73.42, \"Debt\": 17.75, \"CreditScore\": 0, \"Income\": 0, \"Approved\": \"Yes\"}, {\"Age\": 54.83, \"Debt\": 15.5, \"CreditScore\": 20, \"Income\": 130, \"Approved\": \"No\"}, {\"Age\": 32.42, \"Debt\": 2.165, \"CreditScore\": 0, \"Income\": 0, \"Approved\": \"No\"}, {\"Age\": 20.67, \"Debt\": 1.25, \"CreditScore\": 3, \"Income\": 210, \"Approved\": \"No\"}, {\"Age\": 58.42, \"Debt\": 21.0, \"CreditScore\": 13, \"Income\": 6700, \"Approved\": \"Yes\"}, {\"Age\": 26.75, \"Debt\": 1.125, \"CreditScore\": 0, \"Income\": 5298, \"Approved\": \"Yes\"}, {\"Age\": 23.42, \"Debt\": 1.0, \"CreditScore\": 0, \"Income\": 0, \"Approved\": \"No\"}, {\"Age\": 23.92, \"Debt\": 0.665, \"CreditScore\": 0, \"Income\": 0, \"Approved\": \"Yes\"}, {\"Age\": 18.75, \"Debt\": 7.5, \"CreditScore\": 5, \"Income\": 26726, \"Approved\": \"Yes\"}, {\"Age\": 23.58, \"Debt\": 1.79, \"CreditScore\": 0, \"Income\": 1, \"Approved\": \"No\"}, {\"Age\": 20.17, \"Debt\": 8.17, \"CreditScore\": 14, \"Income\": 158, \"Approved\": \"Yes\"}, {\"Age\": 41.33, \"Debt\": 1.0, \"CreditScore\": 0, \"Income\": 300, \"Approved\": \"Yes\"}, {\"Age\": 68.67, \"Debt\": 15.0, \"CreditScore\": 14, \"Income\": 3376, \"Approved\": \"Yes\"}, {\"Age\": 47.42, \"Debt\": 3.0, \"CreditScore\": 2, \"Income\": 1704, \"Approved\": \"Yes\"}, {\"Age\": 22.67, \"Debt\": 0.165, \"CreditScore\": 0, \"Income\": 0, \"Approved\": \"Yes\"}, {\"Age\": 25.58, \"Debt\": 0.0, \"CreditScore\": 0, \"Income\": 0, \"Approved\": \"Yes\"}, {\"Age\": 28.08, \"Debt\": 15.0, \"CreditScore\": 0, \"Income\": 13212, \"Approved\": \"Yes\"}, {\"Age\": 16.17, \"Debt\": 0.04, \"CreditScore\": 0, \"Income\": 0, \"Approved\": \"Yes\"}, {\"Age\": 38.58, \"Debt\": 3.335, \"CreditScore\": 14, \"Income\": 1344, \"Approved\": \"Yes\"}, {\"Age\": 33.25, \"Debt\": 3.0, \"CreditScore\": 0, \"Income\": 0, \"Approved\": \"No\"}, {\"Age\": 51.83, \"Debt\": 3.0, \"CreditScore\": 0, \"Income\": 4, \"Approved\": \"No\"}, {\"Age\": 26.5, \"Debt\": 2.71, \"CreditScore\": 0, \"Income\": 0, \"Approved\": \"No\"}, {\"Age\": 36.33, \"Debt\": 2.125, \"CreditScore\": 1, \"Income\": 1187, \"Approved\": \"Yes\"}, {\"Age\": 34.92, \"Debt\": 5.0, \"CreditScore\": 6, \"Income\": 1000, \"Approved\": \"Yes\"}, {\"Age\": 27.0, \"Debt\": 1.5, \"CreditScore\": 0, \"Income\": 1065, \"Approved\": \"Yes\"}, {\"Age\": 23.75, \"Debt\": 0.415, \"CreditScore\": 2, \"Income\": 6, \"Approved\": \"No\"}, {\"Age\": 16.0, \"Debt\": 3.125, \"CreditScore\": 1, \"Income\": 6, \"Approved\": \"No\"}, {\"Age\": 19.58, \"Debt\": 0.585, \"CreditScore\": 3, \"Income\": 769, \"Approved\": \"No\"}, {\"Age\": 29.17, \"Debt\": 3.5, \"CreditScore\": 3, \"Income\": 0, \"Approved\": \"No\"}, {\"Age\": 28.58, \"Debt\": 3.54, \"CreditScore\": 0, \"Income\": 0, \"Approved\": \"No\"}, {\"Age\": 20.33, \"Debt\": 10.0, \"CreditScore\": 4, \"Income\": 1465, \"Approved\": \"Yes\"}, {\"Age\": 25.0, \"Debt\": 11.25, \"CreditScore\": 17, \"Income\": 1208, \"Approved\": \"Yes\"}, {\"Age\": 32.67, \"Debt\": 9.0, \"CreditScore\": 0, \"Income\": 0, \"Approved\": \"Yes\"}, {\"Age\": 38.92, \"Debt\": 1.665, \"CreditScore\": 0, \"Income\": 390, \"Approved\": \"No\"}, {\"Age\": 22.83, \"Debt\": 3.0, \"CreditScore\": 1, \"Income\": 800, \"Approved\": \"Yes\"}, {\"Age\": 18.17, \"Debt\": 10.0, \"CreditScore\": 0, \"Income\": 0, \"Approved\": \"No\"}, {\"Age\": 29.58, \"Debt\": 4.5, \"CreditScore\": 2, \"Income\": 0, \"Approved\": \"Yes\"}, {\"Age\": 23.25, \"Debt\": 12.625, \"CreditScore\": 2, \"Income\": 5552, \"Approved\": \"No\"}, {\"Age\": 18.58, \"Debt\": 10.0, \"CreditScore\": 0, \"Income\": 42, \"Approved\": \"No\"}, {\"Age\": 20.0, \"Debt\": 11.045, \"CreditScore\": 0, \"Income\": 0, \"Approved\": \"No\"}, {\"Age\": 22.42, \"Debt\": 5.665, \"CreditScore\": 7, \"Income\": 3257, \"Approved\": \"Yes\"}, {\"Age\": 31.83, \"Debt\": 2.5, \"CreditScore\": 0, \"Income\": 0, \"Approved\": \"No\"}, {\"Age\": 24.33, \"Debt\": 6.625, \"CreditScore\": 0, \"Income\": 0, \"Approved\": \"Yes\"}, {\"Age\": 21.92, \"Debt\": 11.665, \"CreditScore\": 0, \"Income\": 5, \"Approved\": \"No\"}, {\"Age\": 36.58, \"Debt\": 0.29, \"CreditScore\": 10, \"Income\": 18, \"Approved\": \"No\"}, {\"Age\": 25.67, \"Debt\": 3.25, \"CreditScore\": 1, \"Income\": 21, \"Approved\": \"No\"}, {\"Age\": 42.0, \"Debt\": 0.205, \"CreditScore\": 0, \"Income\": 0, \"Approved\": \"Yes\"}, {\"Age\": 19.58, \"Debt\": 0.665, \"CreditScore\": 0, \"Income\": 5, \"Approved\": \"No\"}, {\"Age\": 36.33, \"Debt\": 3.79, \"CreditScore\": 0, \"Income\": 0, \"Approved\": \"No\"}, {\"Age\": 33.17, \"Debt\": 1.0, \"CreditScore\": 7, \"Income\": 4071, \"Approved\": \"Yes\"}, {\"Age\": 30.17, \"Debt\": 6.5, \"CreditScore\": 8, \"Income\": 1200, \"Approved\": \"Yes\"}, {\"Age\": 56.58, \"Debt\": 18.5, \"CreditScore\": 17, \"Income\": 0, \"Approved\": \"Yes\"}, {\"Age\": 63.33, \"Debt\": 0.54, \"CreditScore\": 3, \"Income\": 0, \"Approved\": \"No\"}, {\"Age\": 41.17, \"Debt\": 4.04, \"CreditScore\": 8, \"Income\": 0, \"Approved\": \"Yes\"}, {\"Age\": 24.5, \"Debt\": 12.75, \"CreditScore\": 2, \"Income\": 444, \"Approved\": \"Yes\"}, {\"Age\": 33.08, \"Debt\": 4.625, \"CreditScore\": 2, \"Income\": 0, \"Approved\": \"Yes\"}, {\"Age\": 33.08, \"Debt\": 1.625, \"CreditScore\": 0, \"Income\": 0, \"Approved\": \"No\"}, {\"Age\": 42.17, \"Debt\": 5.04, \"CreditScore\": 0, \"Income\": 0, \"Approved\": \"Yes\"}, {\"Age\": 32.33, \"Debt\": 7.5, \"CreditScore\": 0, \"Income\": 0, \"Approved\": \"No\"}, {\"Age\": 29.5, \"Debt\": 0.58, \"CreditScore\": 1, \"Income\": 2803, \"Approved\": \"No\"}, {\"Age\": 41.58, \"Debt\": 1.75, \"CreditScore\": 0, \"Income\": 0, \"Approved\": \"No\"}, {\"Age\": 26.67, \"Debt\": 14.585, \"CreditScore\": 0, \"Income\": 0, \"Approved\": \"No\"}, {\"Age\": 23.25, \"Debt\": 1.0, \"CreditScore\": 0, \"Income\": 0, \"Approved\": \"Yes\"}, {\"Age\": 25.83, \"Debt\": 12.835, \"CreditScore\": 0, \"Income\": 2, \"Approved\": \"No\"}, {\"Age\": 29.67, \"Debt\": 0.75, \"CreditScore\": 0, \"Income\": 0, \"Approved\": \"No\"}, {\"Age\": 22.67, \"Debt\": 7.0, \"CreditScore\": 0, \"Income\": 0, \"Approved\": \"No\"}, {\"Age\": 27.67, \"Debt\": 0.75, \"CreditScore\": 0, \"Income\": 251, \"Approved\": \"No\"}, {\"Age\": 32.08, \"Debt\": 4.0, \"CreditScore\": 0, \"Income\": 0, \"Approved\": \"No\"}, {\"Age\": 20.42, \"Debt\": 7.0, \"CreditScore\": 3, \"Income\": 1391, \"Approved\": \"Yes\"}, {\"Age\": 27.67, \"Debt\": 13.75, \"CreditScore\": 0, \"Income\": 500, \"Approved\": \"Yes\"}, {\"Age\": 18.83, \"Debt\": 9.54, \"CreditScore\": 0, \"Income\": 0, \"Approved\": \"Yes\"}, {\"Age\": 48.08, \"Debt\": 3.75, \"CreditScore\": 0, \"Income\": 2, \"Approved\": \"No\"}, {\"Age\": 18.83, \"Debt\": 0.415, \"CreditScore\": 1, \"Income\": 1, \"Approved\": \"No\"}, {\"Age\": 27.67, \"Debt\": 2.0, \"CreditScore\": 4, \"Income\": 7544, \"Approved\": \"Yes\"}, {\"Age\": 17.25, \"Debt\": 3.0, \"CreditScore\": 0, \"Income\": 40, \"Approved\": \"No\"}, {\"Age\": 23.5, \"Debt\": 1.5, \"CreditScore\": 0, \"Income\": 0, \"Approved\": \"No\"}, {\"Age\": 25.92, \"Debt\": 0.875, \"CreditScore\": 2, \"Income\": 3, \"Approved\": \"No\"}, {\"Age\": 38.75, \"Debt\": 1.5, \"CreditScore\": 0, \"Income\": 0, \"Approved\": \"No\"}, {\"Age\": 20.75, \"Debt\": 9.54, \"CreditScore\": 0, \"Income\": 1000, \"Approved\": \"No\"}, {\"Age\": 40.33, \"Debt\": 8.125, \"CreditScore\": 2, \"Income\": 18, \"Approved\": \"No\"}, {\"Age\": 37.42, \"Debt\": 2.04, \"CreditScore\": 0, \"Income\": 5800, \"Approved\": \"Yes\"}, {\"Age\": 34.42, \"Debt\": 1.335, \"CreditScore\": 0, \"Income\": 4500, \"Approved\": \"No\"}, {\"Age\": 22.5, \"Debt\": 0.415, \"CreditScore\": 0, \"Income\": 0, \"Approved\": \"No\"}, {\"Age\": 28.75, \"Debt\": 1.5, \"CreditScore\": 0, \"Income\": 225, \"Approved\": \"No\"}, {\"Age\": 59.5, \"Debt\": 2.75, \"CreditScore\": 5, \"Income\": 58, \"Approved\": \"Yes\"}, {\"Age\": 23.58, \"Debt\": 0.835, \"CreditScore\": 0, \"Income\": 5, \"Approved\": \"No\"}, {\"Age\": 22.5, \"Debt\": 8.5, \"CreditScore\": 10, \"Income\": 990, \"Approved\": \"No\"}, {\"Age\": 27.83, \"Debt\": 4.0, \"CreditScore\": 2, \"Income\": 0, \"Approved\": \"No\"}, {\"Age\": 20.83, \"Debt\": 3.0, \"CreditScore\": 0, \"Income\": 0, \"Approved\": \"Yes\"}, {\"Age\": 39.0, \"Debt\": 5.0, \"CreditScore\": 10, \"Income\": 0, \"Approved\": \"Yes\"}, {\"Age\": 30.75, \"Debt\": 1.585, \"CreditScore\": 0, \"Income\": 0, \"Approved\": \"No\"}, {\"Age\": 22.67, \"Debt\": 0.75, \"CreditScore\": 1, \"Income\": 9, \"Approved\": \"No\"}, {\"Age\": 50.25, \"Debt\": 0.835, \"CreditScore\": 0, \"Income\": 117, \"Approved\": \"No\"}, {\"Age\": 34.0, \"Debt\": 5.085, \"CreditScore\": 0, \"Income\": 0, \"Approved\": \"No\"}, {\"Age\": 48.25, \"Debt\": 25.085, \"CreditScore\": 3, \"Income\": 14, \"Approved\": \"Yes\"}, {\"Age\": 25.25, \"Debt\": 12.5, \"CreditScore\": 0, \"Income\": 1062, \"Approved\": \"No\"}, {\"Age\": 23.75, \"Debt\": 0.71, \"CreditScore\": 1, \"Income\": 4, \"Approved\": \"No\"}, {\"Age\": 41.17, \"Debt\": 1.335, \"CreditScore\": 0, \"Income\": 0, \"Approved\": \"No\"}, {\"Age\": 33.17, \"Debt\": 1.04, \"CreditScore\": 0, \"Income\": 31285, \"Approved\": \"Yes\"}, {\"Age\": 23.75, \"Debt\": 12.0, \"CreditScore\": 0, \"Income\": 0, \"Approved\": \"No\"}, {\"Age\": 20.83, \"Debt\": 0.5, \"CreditScore\": 0, \"Income\": 0, \"Approved\": \"No\"}, {\"Age\": 39.92, \"Debt\": 5.0, \"CreditScore\": 0, \"Income\": 0, \"Approved\": \"No\"}, {\"Age\": 26.17, \"Debt\": 12.5, \"CreditScore\": 0, \"Income\": 17, \"Approved\": \"No\"}, {\"Age\": 39.17, \"Debt\": 2.5, \"CreditScore\": 0, \"Income\": 0, \"Approved\": \"No\"}, {\"Age\": 33.58, \"Debt\": 0.25, \"CreditScore\": 0, \"Income\": 0, \"Approved\": \"No\"}, {\"Age\": 23.42, \"Debt\": 0.79, \"CreditScore\": 2, \"Income\": 400, \"Approved\": \"Yes\"}, {\"Age\": 23.0, \"Debt\": 11.75, \"CreditScore\": 2, \"Income\": 551, \"Approved\": \"Yes\"}, {\"Age\": 33.92, \"Debt\": 1.585, \"CreditScore\": 0, \"Income\": 0, \"Approved\": \"No\"}, {\"Age\": 34.42, \"Debt\": 4.25, \"CreditScore\": 2, \"Income\": 610, \"Approved\": \"Yes\"}, {\"Age\": 19.42, \"Debt\": 7.25, \"CreditScore\": 1, \"Income\": 1, \"Approved\": \"No\"}, {\"Age\": 28.46, \"Debt\": 3.0, \"CreditScore\": 0, \"Income\": 1, \"Approved\": \"No\"}, {\"Age\": 40.83, \"Debt\": 10.0, \"CreditScore\": 0, \"Income\": 837, \"Approved\": \"Yes\"}, {\"Age\": 27.67, \"Debt\": 2.04, \"CreditScore\": 0, \"Income\": 50, \"Approved\": \"No\"}, {\"Age\": 22.75, \"Debt\": 11.5, \"CreditScore\": 0, \"Income\": 0, \"Approved\": \"No\"}, {\"Age\": 37.5, \"Debt\": 0.835, \"CreditScore\": 0, \"Income\": 5, \"Approved\": \"No\"}, {\"Age\": 27.75, \"Debt\": 0.585, \"CreditScore\": 2, \"Income\": 500, \"Approved\": \"Yes\"}, {\"Age\": 55.75, \"Debt\": 7.08, \"CreditScore\": 3, \"Income\": 50, \"Approved\": \"No\"}, {\"Age\": 62.5, \"Debt\": 12.75, \"CreditScore\": 0, \"Income\": 0, \"Approved\": \"No\"}, {\"Age\": 38.25, \"Debt\": 6.0, \"CreditScore\": 0, \"Income\": 0, \"Approved\": \"Yes\"}, {\"Age\": 40.92, \"Debt\": 0.5, \"CreditScore\": 0, \"Income\": 0, \"Approved\": \"No\"}, {\"Age\": 28.46, \"Debt\": 1.5, \"CreditScore\": 2, \"Income\": 105, \"Approved\": \"No\"}, {\"Age\": 27.25, \"Debt\": 1.665, \"CreditScore\": 9, \"Income\": 827, \"Approved\": \"Yes\"}, {\"Age\": 23.58, \"Debt\": 0.585, \"CreditScore\": 0, \"Income\": 87, \"Approved\": \"No\"}, {\"Age\": 16.5, \"Debt\": 0.125, \"CreditScore\": 0, \"Income\": 0, \"Approved\": \"No\"}, {\"Age\": 28.46, \"Debt\": 0.5, \"CreditScore\": 0, \"Income\": 0, \"Approved\": \"No\"}, {\"Age\": 15.83, \"Debt\": 0.585, \"CreditScore\": 2, \"Income\": 0, \"Approved\": \"Yes\"}, {\"Age\": 25.0, \"Debt\": 12.33, \"CreditScore\": 6, \"Income\": 458, \"Approved\": \"Yes\"}, {\"Age\": 32.0, \"Debt\": 1.75, \"CreditScore\": 0, \"Income\": 0, \"Approved\": \"Yes\"}, {\"Age\": 27.67, \"Debt\": 1.5, \"CreditScore\": 0, \"Income\": 0, \"Approved\": \"No\"}, {\"Age\": 23.08, \"Debt\": 2.5, \"CreditScore\": 0, \"Income\": 4208, \"Approved\": \"No\"}, {\"Age\": 36.25, \"Debt\": 5.0, \"CreditScore\": 6, \"Income\": 367, \"Approved\": \"Yes\"}, {\"Age\": 58.67, \"Debt\": 4.46, \"CreditScore\": 6, \"Income\": 560, \"Approved\": \"Yes\"}, {\"Age\": 25.17, \"Debt\": 2.875, \"CreditScore\": 0, \"Income\": 0, \"Approved\": \"Yes\"}, {\"Age\": 19.17, \"Debt\": 8.585, \"CreditScore\": 7, \"Income\": 0, \"Approved\": \"Yes\"}, {\"Age\": 42.08, \"Debt\": 1.04, \"CreditScore\": 6, \"Income\": 10000, \"Approved\": \"Yes\"}, {\"Age\": 34.75, \"Debt\": 2.5, \"CreditScore\": 0, \"Income\": 0, \"Approved\": \"No\"}, {\"Age\": 28.17, \"Debt\": 0.585, \"CreditScore\": 0, \"Income\": 1004, \"Approved\": \"No\"}, {\"Age\": 36.17, \"Debt\": 5.5, \"CreditScore\": 0, \"Income\": 687, \"Approved\": \"No\"}, {\"Age\": 18.83, \"Debt\": 4.415, \"CreditScore\": 0, \"Income\": 0, \"Approved\": \"Yes\"}, {\"Age\": 22.25, \"Debt\": 9.0, \"CreditScore\": 0, \"Income\": 0, \"Approved\": \"No\"}, {\"Age\": 34.83, \"Debt\": 4.0, \"CreditScore\": 0, \"Income\": 0, \"Approved\": \"No\"}, {\"Age\": 26.17, \"Debt\": 2.0, \"CreditScore\": 0, \"Income\": 1, \"Approved\": \"No\"}, {\"Age\": 28.46, \"Debt\": 3.5, \"CreditScore\": 0, \"Income\": 0, \"Approved\": \"No\"}, {\"Age\": 21.42, \"Debt\": 0.75, \"CreditScore\": 0, \"Income\": 2, \"Approved\": \"No\"}, {\"Age\": 18.25, \"Debt\": 10.0, \"CreditScore\": 1, \"Income\": 1, \"Approved\": \"No\"}, {\"Age\": 22.08, \"Debt\": 11.46, \"CreditScore\": 0, \"Income\": 1212, \"Approved\": \"No\"}, {\"Age\": 20.42, \"Debt\": 0.0, \"CreditScore\": 0, \"Income\": 0, \"Approved\": \"No\"}, {\"Age\": 34.92, \"Debt\": 2.5, \"CreditScore\": 0, \"Income\": 200, \"Approved\": \"Yes\"}, {\"Age\": 24.58, \"Debt\": 13.5, \"CreditScore\": 0, \"Income\": 0, \"Approved\": \"No\"}, {\"Age\": 49.83, \"Debt\": 13.585, \"CreditScore\": 0, \"Income\": 0, \"Approved\": \"Yes\"}, {\"Age\": 24.17, \"Debt\": 0.875, \"CreditScore\": 2, \"Income\": 2000, \"Approved\": \"Yes\"}, {\"Age\": 23.58, \"Debt\": 0.46, \"CreditScore\": 6, \"Income\": 347, \"Approved\": \"No\"}, {\"Age\": 23.33, \"Debt\": 1.5, \"CreditScore\": 0, \"Income\": 200, \"Approved\": \"Yes\"}, {\"Age\": 39.08, \"Debt\": 6.0, \"CreditScore\": 5, \"Income\": 1097, \"Approved\": \"Yes\"}, {\"Age\": 36.08, \"Debt\": 2.54, \"CreditScore\": 0, \"Income\": 1000, \"Approved\": \"No\"}, {\"Age\": 32.25, \"Debt\": 1.5, \"CreditScore\": 0, \"Income\": 122, \"Approved\": \"No\"}, {\"Age\": 25.0, \"Debt\": 12.0, \"CreditScore\": 2, \"Income\": 5, \"Approved\": \"No\"}, {\"Age\": 36.17, \"Debt\": 0.42, \"CreditScore\": 0, \"Income\": 2, \"Approved\": \"No\"}, {\"Age\": 32.33, \"Debt\": 3.5, \"CreditScore\": 0, \"Income\": 0, \"Approved\": \"No\"}, {\"Age\": 39.17, \"Debt\": 1.625, \"CreditScore\": 10, \"Income\": 4700, \"Approved\": \"Yes\"}, {\"Age\": 26.17, \"Debt\": 0.835, \"CreditScore\": 0, \"Income\": 0, \"Approved\": \"No\"}, {\"Age\": 49.5, \"Debt\": 7.585, \"CreditScore\": 15, \"Income\": 5000, \"Approved\": \"Yes\"}, {\"Age\": 52.83, \"Debt\": 15.0, \"CreditScore\": 14, \"Income\": 2200, \"Approved\": \"Yes\"}, {\"Age\": 20.17, \"Debt\": 5.625, \"CreditScore\": 0, \"Income\": 0, \"Approved\": \"Yes\"}, {\"Age\": 26.25, \"Debt\": 1.54, \"CreditScore\": 0, \"Income\": 0, \"Approved\": \"No\"}, {\"Age\": 53.92, \"Debt\": 9.625, \"CreditScore\": 5, \"Income\": 0, \"Approved\": \"Yes\"}, {\"Age\": 38.17, \"Debt\": 10.125, \"CreditScore\": 6, \"Income\": 196, \"Approved\": \"Yes\"}, {\"Age\": 20.67, \"Debt\": 1.835, \"CreditScore\": 5, \"Income\": 2503, \"Approved\": \"Yes\"}, {\"Age\": 27.25, \"Debt\": 0.625, \"CreditScore\": 0, \"Income\": 0, \"Approved\": \"No\"}, {\"Age\": 22.75, \"Debt\": 11.0, \"CreditScore\": 7, \"Income\": 809, \"Approved\": \"Yes\"}, {\"Age\": 31.67, \"Debt\": 0.83, \"CreditScore\": 8, \"Income\": 3290, \"Approved\": \"Yes\"}, {\"Age\": 22.33, \"Debt\": 11.0, \"CreditScore\": 1, \"Income\": 278, \"Approved\": \"Yes\"}, {\"Age\": 47.67, \"Debt\": 2.5, \"CreditScore\": 12, \"Income\": 2510, \"Approved\": \"Yes\"}, {\"Age\": 37.33, \"Debt\": 6.5, \"CreditScore\": 12, \"Income\": 0, \"Approved\": \"Yes\"}, {\"Age\": 42.83, \"Debt\": 4.625, \"CreditScore\": 0, \"Income\": 0, \"Approved\": \"Yes\"}, {\"Age\": 20.5, \"Debt\": 10.0, \"CreditScore\": 0, \"Income\": 0, \"Approved\": \"Yes\"}, {\"Age\": 49.58, \"Debt\": 19.0, \"CreditScore\": 1, \"Income\": 0, \"Approved\": \"No\"}, {\"Age\": 52.5, \"Debt\": 6.5, \"CreditScore\": 15, \"Income\": 11202, \"Approved\": \"Yes\"}, {\"Age\": 21.0, \"Debt\": 3.0, \"CreditScore\": 8, \"Income\": 1, \"Approved\": \"Yes\"}, {\"Age\": 19.17, \"Debt\": 0.0, \"CreditScore\": 0, \"Income\": 1, \"Approved\": \"Yes\"}, {\"Age\": 27.42, \"Debt\": 14.5, \"CreditScore\": 1, \"Income\": 11, \"Approved\": \"Yes\"}, {\"Age\": 29.5, \"Debt\": 0.46, \"CreditScore\": 4, \"Income\": 500, \"Approved\": \"Yes\"}, {\"Age\": 36.5, \"Debt\": 4.25, \"CreditScore\": 0, \"Income\": 50, \"Approved\": \"No\"}, {\"Age\": 19.67, \"Debt\": 0.21, \"CreditScore\": 11, \"Income\": 99, \"Approved\": \"Yes\"}, {\"Age\": 25.33, \"Debt\": 0.58, \"CreditScore\": 7, \"Income\": 5124, \"Approved\": \"Yes\"}, {\"Age\": 31.67, \"Debt\": 16.165, \"CreditScore\": 9, \"Income\": 730, \"Approved\": \"Yes\"}, {\"Age\": 40.92, \"Debt\": 2.25, \"CreditScore\": 0, \"Income\": 0, \"Approved\": \"No\"}, {\"Age\": 56.83, \"Debt\": 4.25, \"CreditScore\": 0, \"Income\": 4, \"Approved\": \"No\"}, {\"Age\": 34.83, \"Debt\": 1.25, \"CreditScore\": 0, \"Income\": 0, \"Approved\": \"No\"}, {\"Age\": 51.83, \"Debt\": 2.04, \"CreditScore\": 0, \"Income\": 1, \"Approved\": \"No\"}, {\"Age\": 43.25, \"Debt\": 25.21, \"CreditScore\": 1, \"Income\": 90, \"Approved\": \"No\"}, {\"Age\": 56.42, \"Debt\": 28.0, \"CreditScore\": 40, \"Income\": 15, \"Approved\": \"Yes\"}, {\"Age\": 17.92, \"Debt\": 0.54, \"CreditScore\": 1, \"Income\": 5, \"Approved\": \"No\"}, {\"Age\": 23.5, \"Debt\": 2.75, \"CreditScore\": 0, \"Income\": 25, \"Approved\": \"No\"}, {\"Age\": 49.0, \"Debt\": 1.5, \"CreditScore\": 0, \"Income\": 27, \"Approved\": \"No\"}, {\"Age\": 69.5, \"Debt\": 6.0, \"CreditScore\": 0, \"Income\": 0, \"Approved\": \"No\"}, {\"Age\": 33.5, \"Debt\": 1.75, \"CreditScore\": 4, \"Income\": 857, \"Approved\": \"Yes\"}, {\"Age\": 34.25, \"Debt\": 1.75, \"CreditScore\": 0, \"Income\": 0, \"Approved\": \"No\"}, {\"Age\": 33.67, \"Debt\": 1.25, \"CreditScore\": 0, \"Income\": 0, \"Approved\": \"No\"}, {\"Age\": 36.67, \"Debt\": 3.25, \"CreditScore\": 0, \"Income\": 639, \"Approved\": \"Yes\"}, {\"Age\": 33.58, \"Debt\": 2.75, \"CreditScore\": 6, \"Income\": 0, \"Approved\": \"Yes\"}, {\"Age\": 22.92, \"Debt\": 0.17, \"CreditScore\": 0, \"Income\": 0, \"Approved\": \"No\"}, {\"Age\": 29.42, \"Debt\": 1.25, \"CreditScore\": 0, \"Income\": 0, \"Approved\": \"No\"}, {\"Age\": 50.08, \"Debt\": 12.54, \"CreditScore\": 3, \"Income\": 0, \"Approved\": \"Yes\"}, {\"Age\": 31.08, \"Debt\": 3.085, \"CreditScore\": 2, \"Income\": 41, \"Approved\": \"No\"}, {\"Age\": 32.33, \"Debt\": 0.54, \"CreditScore\": 0, \"Income\": 11177, \"Approved\": \"Yes\"}, {\"Age\": 23.25, \"Debt\": 4.0, \"CreditScore\": 0, \"Income\": 0, \"Approved\": \"Yes\"}, {\"Age\": 17.33, \"Debt\": 9.5, \"CreditScore\": 10, \"Income\": 10, \"Approved\": \"No\"}, {\"Age\": 52.42, \"Debt\": 1.5, \"CreditScore\": 0, \"Income\": 350, \"Approved\": \"No\"}, {\"Age\": 22.92, \"Debt\": 11.585, \"CreditScore\": 0, \"Income\": 1349, \"Approved\": \"Yes\"}, {\"Age\": 32.25, \"Debt\": 0.165, \"CreditScore\": 1, \"Income\": 8000, \"Approved\": \"Yes\"}, {\"Age\": 25.42, \"Debt\": 1.125, \"CreditScore\": 2, \"Income\": 0, \"Approved\": \"No\"}, {\"Age\": 27.58, \"Debt\": 3.25, \"CreditScore\": 2, \"Income\": 1, \"Approved\": \"No\"}, {\"Age\": 16.0, \"Debt\": 0.165, \"CreditScore\": 2, \"Income\": 1, \"Approved\": \"No\"}, {\"Age\": 28.58, \"Debt\": 1.665, \"CreditScore\": 0, \"Income\": 0, \"Approved\": \"No\"}, {\"Age\": 23.08, \"Debt\": 11.5, \"CreditScore\": 11, \"Income\": 284, \"Approved\": \"Yes\"}, {\"Age\": 33.17, \"Debt\": 3.04, \"CreditScore\": 1, \"Income\": 18027, \"Approved\": \"Yes\"}, {\"Age\": 39.92, \"Debt\": 0.54, \"CreditScore\": 3, \"Income\": 1000, \"Approved\": \"Yes\"}, {\"Age\": 31.33, \"Debt\": 19.5, \"CreditScore\": 16, \"Income\": 5000, \"Approved\": \"Yes\"}, {\"Age\": 41.0, \"Debt\": 0.04, \"CreditScore\": 1, \"Income\": 0, \"Approved\": \"Yes\"}, {\"Age\": 32.25, \"Debt\": 14.0, \"CreditScore\": 2, \"Income\": 1, \"Approved\": \"No\"}, {\"Age\": 21.58, \"Debt\": 0.79, \"CreditScore\": 0, \"Income\": 0, \"Approved\": \"No\"}, {\"Age\": 38.67, \"Debt\": 0.21, \"CreditScore\": 0, \"Income\": 0, \"Approved\": \"Yes\"}, {\"Age\": 23.08, \"Debt\": 2.5, \"CreditScore\": 11, \"Income\": 2184, \"Approved\": \"Yes\"}, {\"Age\": 20.42, \"Debt\": 7.5, \"CreditScore\": 1, \"Income\": 234, \"Approved\": \"Yes\"}, {\"Age\": 33.75, \"Debt\": 2.75, \"CreditScore\": 0, \"Income\": 0, \"Approved\": \"No\"}, {\"Age\": 22.17, \"Debt\": 2.25, \"CreditScore\": 0, \"Income\": 10, \"Approved\": \"No\"}, {\"Age\": 35.75, \"Debt\": 2.415, \"CreditScore\": 2, \"Income\": 1, \"Approved\": \"No\"}, {\"Age\": 20.83, \"Debt\": 8.5, \"CreditScore\": 0, \"Income\": 351, \"Approved\": \"No\"}, {\"Age\": 57.08, \"Debt\": 19.5, \"CreditScore\": 7, \"Income\": 3000, \"Approved\": \"Yes\"}, {\"Age\": 18.92, \"Debt\": 9.25, \"CreditScore\": 4, \"Income\": 500, \"Approved\": \"Yes\"}, {\"Age\": 16.25, \"Debt\": 0.835, \"CreditScore\": 0, \"Income\": 0, \"Approved\": \"No\"}, {\"Age\": 43.17, \"Debt\": 2.25, \"CreditScore\": 0, \"Income\": 0, \"Approved\": \"No\"}, {\"Age\": 28.17, \"Debt\": 0.375, \"CreditScore\": 4, \"Income\": 0, \"Approved\": \"Yes\"}, {\"Age\": 30.0, \"Debt\": 5.29, \"CreditScore\": 5, \"Income\": 500, \"Approved\": \"Yes\"}, {\"Age\": 19.67, \"Debt\": 0.375, \"CreditScore\": 2, \"Income\": 0, \"Approved\": \"Yes\"}, {\"Age\": 22.08, \"Debt\": 0.83, \"CreditScore\": 0, \"Income\": 0, \"Approved\": \"Yes\"}, {\"Age\": 28.58, \"Debt\": 3.75, \"CreditScore\": 1, \"Income\": 154, \"Approved\": \"No\"}, {\"Age\": 57.42, \"Debt\": 8.5, \"CreditScore\": 3, \"Income\": 0, \"Approved\": \"Yes\"}, {\"Age\": 41.42, \"Debt\": 5.0, \"CreditScore\": 6, \"Income\": 0, \"Approved\": \"Yes\"}, {\"Age\": 28.67, \"Debt\": 9.335, \"CreditScore\": 6, \"Income\": 168, \"Approved\": \"Yes\"}, {\"Age\": 24.75, \"Debt\": 0.54, \"CreditScore\": 0, \"Income\": 1, \"Approved\": \"No\"}, {\"Age\": 23.5, \"Debt\": 9.0, \"CreditScore\": 5, \"Income\": 0, \"Approved\": \"Yes\"}, {\"Age\": 35.17, \"Debt\": 25.125, \"CreditScore\": 1, \"Income\": 500, \"Approved\": \"Yes\"}, {\"Age\": 34.5, \"Debt\": 4.04, \"CreditScore\": 7, \"Income\": 0, \"Approved\": \"Yes\"}, {\"Age\": 16.08, \"Debt\": 0.75, \"CreditScore\": 5, \"Income\": 690, \"Approved\": \"Yes\"}, {\"Age\": 24.58, \"Debt\": 12.5, \"CreditScore\": 0, \"Income\": 0, \"Approved\": \"No\"}, {\"Age\": 29.5, \"Debt\": 1.085, \"CreditScore\": 0, \"Income\": 13, \"Approved\": \"No\"}, {\"Age\": 16.33, \"Debt\": 0.21, \"CreditScore\": 0, \"Income\": 1, \"Approved\": \"No\"}, {\"Age\": 21.83, \"Debt\": 1.54, \"CreditScore\": 0, \"Income\": 0, \"Approved\": \"No\"}, {\"Age\": 64.08, \"Debt\": 0.165, \"CreditScore\": 1, \"Income\": 100, \"Approved\": \"Yes\"}, {\"Age\": 42.75, \"Debt\": 4.085, \"CreditScore\": 0, \"Income\": 100, \"Approved\": \"No\"}, {\"Age\": 29.58, \"Debt\": 1.75, \"CreditScore\": 0, \"Income\": 0, \"Approved\": \"No\"}, {\"Age\": 24.75, \"Debt\": 3.0, \"CreditScore\": 19, \"Income\": 500, \"Approved\": \"Yes\"}, {\"Age\": 39.58, \"Debt\": 5.0, \"CreditScore\": 2, \"Income\": 1, \"Approved\": \"No\"}, {\"Age\": 23.92, \"Debt\": 0.585, \"CreditScore\": 0, \"Income\": 1, \"Approved\": \"No\"}, {\"Age\": 19.58, \"Debt\": 0.665, \"CreditScore\": 1, \"Income\": 2, \"Approved\": \"No\"}, {\"Age\": 40.58, \"Debt\": 5.0, \"CreditScore\": 7, \"Income\": 3065, \"Approved\": \"Yes\"}, {\"Age\": 30.58, \"Debt\": 2.71, \"CreditScore\": 0, \"Income\": 0, \"Approved\": \"No\"}, {\"Age\": 25.67, \"Debt\": 0.29, \"CreditScore\": 0, \"Income\": 0, \"Approved\": \"No\"}, {\"Age\": 28.46, \"Debt\": 5.0, \"CreditScore\": 0, \"Income\": 0, \"Approved\": \"No\"}, {\"Age\": 31.25, \"Debt\": 2.835, \"CreditScore\": 5, \"Income\": 146, \"Approved\": \"No\"}, {\"Age\": 37.33, \"Debt\": 2.5, \"CreditScore\": 0, \"Income\": 246, \"Approved\": \"No\"}, {\"Age\": 28.25, \"Debt\": 5.125, \"CreditScore\": 2, \"Income\": 7, \"Approved\": \"Yes\"}, {\"Age\": 26.75, \"Debt\": 2.0, \"CreditScore\": 0, \"Income\": 0, \"Approved\": \"No\"}, {\"Age\": 18.42, \"Debt\": 10.415, \"CreditScore\": 0, \"Income\": 375, \"Approved\": \"No\"}, {\"Age\": 67.75, \"Debt\": 5.5, \"CreditScore\": 1, \"Income\": 0, \"Approved\": \"Yes\"}, {\"Age\": 18.83, \"Debt\": 0.0, \"CreditScore\": 0, \"Income\": 1, \"Approved\": \"No\"}, {\"Age\": 48.17, \"Debt\": 7.625, \"CreditScore\": 12, \"Income\": 790, \"Approved\": \"Yes\"}, {\"Age\": 48.17, \"Debt\": 3.5, \"CreditScore\": 0, \"Income\": 0, \"Approved\": \"Yes\"}, {\"Age\": 65.17, \"Debt\": 14.0, \"CreditScore\": 11, \"Income\": 1400, \"Approved\": \"Yes\"}, {\"Age\": 40.58, \"Debt\": 3.29, \"CreditScore\": 0, \"Income\": 0, \"Approved\": \"No\"}, {\"Age\": 22.0, \"Debt\": 0.79, \"CreditScore\": 1, \"Income\": 283, \"Approved\": \"No\"}, {\"Age\": 23.5, \"Debt\": 3.165, \"CreditScore\": 1, \"Income\": 80, \"Approved\": \"No\"}, {\"Age\": 21.08, \"Debt\": 4.125, \"CreditScore\": 0, \"Income\": 100, \"Approved\": \"No\"}, {\"Age\": 23.08, \"Debt\": 0.0, \"CreditScore\": 11, \"Income\": 0, \"Approved\": \"No\"}, {\"Age\": 51.42, \"Debt\": 0.04, \"CreditScore\": 0, \"Income\": 3000, \"Approved\": \"Yes\"}, {\"Age\": 20.0, \"Debt\": 0.0, \"CreditScore\": 0, \"Income\": 0, \"Approved\": \"No\"}, {\"Age\": 49.17, \"Debt\": 2.29, \"CreditScore\": 0, \"Income\": 3, \"Approved\": \"No\"}, {\"Age\": 23.58, \"Debt\": 0.83, \"CreditScore\": 1, \"Income\": 11, \"Approved\": \"No\"}, {\"Age\": 20.17, \"Debt\": 9.25, \"CreditScore\": 3, \"Income\": 28, \"Approved\": \"Yes\"}, {\"Age\": 47.25, \"Debt\": 0.75, \"CreditScore\": 1, \"Income\": 892, \"Approved\": \"Yes\"}, {\"Age\": 24.5, \"Debt\": 2.415, \"CreditScore\": 0, \"Income\": 0, \"Approved\": \"No\"}, {\"Age\": 34.08, \"Debt\": 6.5, \"CreditScore\": 0, \"Income\": 0, \"Approved\": \"No\"}, {\"Age\": 34.75, \"Debt\": 15.0, \"CreditScore\": 9, \"Income\": 134, \"Approved\": \"Yes\"}, {\"Age\": 20.08, \"Debt\": 0.125, \"CreditScore\": 1, \"Income\": 768, \"Approved\": \"Yes\"}, {\"Age\": 23.42, \"Debt\": 0.585, \"CreditScore\": 0, \"Income\": 0, \"Approved\": \"No\"}, {\"Age\": 34.17, \"Debt\": 1.54, \"CreditScore\": 1, \"Income\": 50000, \"Approved\": \"Yes\"}, {\"Age\": 25.58, \"Debt\": 0.335, \"CreditScore\": 0, \"Income\": 0, \"Approved\": \"No\"}, {\"Age\": 71.58, \"Debt\": 0.0, \"CreditScore\": 0, \"Income\": 0, \"Approved\": \"Yes\"}, {\"Age\": 54.42, \"Debt\": 0.5, \"CreditScore\": 0, \"Income\": 314, \"Approved\": \"Yes\"}, {\"Age\": 19.17, \"Debt\": 0.585, \"CreditScore\": 0, \"Income\": 0, \"Approved\": \"No\"}, {\"Age\": 27.0, \"Debt\": 0.75, \"CreditScore\": 3, \"Income\": 150, \"Approved\": \"Yes\"}, {\"Age\": 35.17, \"Debt\": 4.5, \"CreditScore\": 0, \"Income\": 0, \"Approved\": \"Yes\"}, {\"Age\": 17.42, \"Debt\": 6.5, \"CreditScore\": 0, \"Income\": 100, \"Approved\": \"No\"}, {\"Age\": 33.67, \"Debt\": 2.165, \"CreditScore\": 0, \"Income\": 0, \"Approved\": \"No\"}, {\"Age\": 20.67, \"Debt\": 0.835, \"CreditScore\": 0, \"Income\": 0, \"Approved\": \"No\"}, {\"Age\": 16.92, \"Debt\": 0.5, \"CreditScore\": 6, \"Income\": 35, \"Approved\": \"No\"}, {\"Age\": 25.0, \"Debt\": 0.875, \"CreditScore\": 0, \"Income\": 5860, \"Approved\": \"Yes\"}, {\"Age\": 29.83, \"Debt\": 3.5, \"CreditScore\": 0, \"Income\": 0, \"Approved\": \"No\"}, {\"Age\": 36.75, \"Debt\": 0.125, \"CreditScore\": 0, \"Income\": 113, \"Approved\": \"Yes\"}, {\"Age\": 24.42, \"Debt\": 2.0, \"CreditScore\": 2, \"Income\": 1300, \"Approved\": \"No\"}, {\"Age\": 22.67, \"Debt\": 0.79, \"CreditScore\": 0, \"Income\": 0, \"Approved\": \"No\"}, {\"Age\": 56.5, \"Debt\": 16.0, \"CreditScore\": 15, \"Income\": 247, \"Approved\": \"Yes\"}, {\"Age\": 34.0, \"Debt\": 4.5, \"CreditScore\": 0, \"Income\": 0, \"Approved\": \"No\"}, {\"Age\": 48.58, \"Debt\": 0.205, \"CreditScore\": 11, \"Income\": 2732, \"Approved\": \"Yes\"}, {\"Age\": 18.08, \"Debt\": 0.375, \"CreditScore\": 0, \"Income\": 0, \"Approved\": \"Yes\"}, {\"Age\": 56.75, \"Debt\": 12.25, \"CreditScore\": 4, \"Income\": 0, \"Approved\": \"Yes\"}, {\"Age\": 28.17, \"Debt\": 0.125, \"CreditScore\": 0, \"Income\": 2100, \"Approved\": \"No\"}, {\"Age\": 34.0, \"Debt\": 5.5, \"CreditScore\": 0, \"Income\": 0, \"Approved\": \"No\"}, {\"Age\": 26.58, \"Debt\": 2.54, \"CreditScore\": 0, \"Income\": 60, \"Approved\": \"No\"}, {\"Age\": 25.25, \"Debt\": 1.0, \"CreditScore\": 0, \"Income\": 0, \"Approved\": \"No\"}, {\"Age\": 18.25, \"Debt\": 0.165, \"CreditScore\": 0, \"Income\": 0, \"Approved\": \"No\"}, {\"Age\": 47.17, \"Debt\": 5.835, \"CreditScore\": 0, \"Income\": 150, \"Approved\": \"No\"}, {\"Age\": 69.17, \"Debt\": 9.0, \"CreditScore\": 1, \"Income\": 6, \"Approved\": \"No\"}, {\"Age\": 23.0, \"Debt\": 0.75, \"CreditScore\": 0, \"Income\": 0, \"Approved\": \"No\"}, {\"Age\": 30.58, \"Debt\": 10.665, \"CreditScore\": 12, \"Income\": 3, \"Approved\": \"No\"}, {\"Age\": 41.0, \"Debt\": 2.04, \"CreditScore\": 23, \"Income\": 1236, \"Approved\": \"Yes\"}, {\"Age\": 28.46, \"Debt\": 0.375, \"CreditScore\": 0, \"Income\": 0, \"Approved\": \"No\"}, {\"Age\": 19.75, \"Debt\": 0.75, \"CreditScore\": 5, \"Income\": 5, \"Approved\": \"No\"}, {\"Age\": 30.25, \"Debt\": 5.5, \"CreditScore\": 0, \"Income\": 0, \"Approved\": \"No\"}, {\"Age\": 28.25, \"Debt\": 0.875, \"CreditScore\": 3, \"Income\": 0, \"Approved\": \"Yes\"}, {\"Age\": 20.5, \"Debt\": 11.835, \"CreditScore\": 0, \"Income\": 0, \"Approved\": \"Yes\"}, {\"Age\": 22.67, \"Debt\": 1.585, \"CreditScore\": 6, \"Income\": 0, \"Approved\": \"Yes\"}, {\"Age\": 21.5, \"Debt\": 11.5, \"CreditScore\": 0, \"Income\": 68, \"Approved\": \"No\"}, {\"Age\": 28.92, \"Debt\": 0.375, \"CreditScore\": 0, \"Income\": 140, \"Approved\": \"No\"}, {\"Age\": 80.25, \"Debt\": 5.5, \"CreditScore\": 0, \"Income\": 340, \"Approved\": \"No\"}, {\"Age\": 27.17, \"Debt\": 1.25, \"CreditScore\": 1, \"Income\": 300, \"Approved\": \"No\"}, {\"Age\": 31.25, \"Debt\": 3.75, \"CreditScore\": 9, \"Income\": 0, \"Approved\": \"Yes\"}, {\"Age\": 27.58, \"Debt\": 2.04, \"CreditScore\": 3, \"Income\": 560, \"Approved\": \"Yes\"}, {\"Age\": 30.42, \"Debt\": 1.375, \"CreditScore\": 3, \"Income\": 33, \"Approved\": \"No\"}, {\"Age\": 45.83, \"Debt\": 10.5, \"CreditScore\": 7, \"Income\": 0, \"Approved\": \"Yes\"}, {\"Age\": 25.67, \"Debt\": 2.21, \"CreditScore\": 0, \"Income\": 0, \"Approved\": \"No\"}, {\"Age\": 17.08, \"Debt\": 0.085, \"CreditScore\": 0, \"Income\": 722, \"Approved\": \"No\"}, {\"Age\": 48.17, \"Debt\": 1.335, \"CreditScore\": 0, \"Income\": 120, \"Approved\": \"No\"}, {\"Age\": 17.58, \"Debt\": 9.0, \"CreditScore\": 0, \"Income\": 0, \"Approved\": \"Yes\"}, {\"Age\": 24.5, \"Debt\": 1.75, \"CreditScore\": 0, \"Income\": 0, \"Approved\": \"No\"}, {\"Age\": 27.83, \"Debt\": 1.54, \"CreditScore\": 5, \"Income\": 3, \"Approved\": \"Yes\"}, {\"Age\": 36.67, \"Debt\": 2.0, \"CreditScore\": 0, \"Income\": 0, \"Approved\": \"No\"}, {\"Age\": 45.33, \"Debt\": 1.0, \"CreditScore\": 0, \"Income\": 0, \"Approved\": \"No\"}, {\"Age\": 19.17, \"Debt\": 4.0, \"CreditScore\": 0, \"Income\": 1000, \"Approved\": \"No\"}, {\"Age\": 26.92, \"Debt\": 13.5, \"CreditScore\": 2, \"Income\": 5000, \"Approved\": \"Yes\"}, {\"Age\": 25.5, \"Debt\": 0.375, \"CreditScore\": 3, \"Income\": 15108, \"Approved\": \"Yes\"}, {\"Age\": 28.46, \"Debt\": 10.5, \"CreditScore\": 0, \"Income\": 0, \"Approved\": \"Yes\"}, {\"Age\": 26.92, \"Debt\": 2.25, \"CreditScore\": 0, \"Income\": 4000, \"Approved\": \"No\"}, {\"Age\": 23.17, \"Debt\": 0.0, \"CreditScore\": 0, \"Income\": 0, \"Approved\": \"Yes\"}, {\"Age\": 24.75, \"Debt\": 13.665, \"CreditScore\": 0, \"Income\": 1, \"Approved\": \"No\"}, {\"Age\": 26.0, \"Debt\": 1.0, \"CreditScore\": 0, \"Income\": 0, \"Approved\": \"Yes\"}, {\"Age\": 20.25, \"Debt\": 9.96, \"CreditScore\": 0, \"Income\": 0, \"Approved\": \"Yes\"}, {\"Age\": 27.58, \"Debt\": 3.0, \"CreditScore\": 1, \"Income\": 10, \"Approved\": \"No\"}, {\"Age\": 25.33, \"Debt\": 2.085, \"CreditScore\": 0, \"Income\": 1, \"Approved\": \"No\"}, {\"Age\": 48.75, \"Debt\": 26.335, \"CreditScore\": 0, \"Income\": 0, \"Approved\": \"No\"}, {\"Age\": 58.58, \"Debt\": 2.71, \"CreditScore\": 0, \"Income\": 0, \"Approved\": \"No\"}, {\"Age\": 35.25, \"Debt\": 3.165, \"CreditScore\": 0, \"Income\": 0, \"Approved\": \"No\"}, {\"Age\": 19.5, \"Debt\": 0.165, \"CreditScore\": 0, \"Income\": 0, \"Approved\": \"No\"}, {\"Age\": 40.0, \"Debt\": 6.5, \"CreditScore\": 1, \"Income\": 500, \"Approved\": \"Yes\"}, {\"Age\": 41.92, \"Debt\": 0.42, \"CreditScore\": 6, \"Income\": 948, \"Approved\": \"Yes\"}, {\"Age\": 28.42, \"Debt\": 3.5, \"CreditScore\": 0, \"Income\": 0, \"Approved\": \"Yes\"}, {\"Age\": 36.75, \"Debt\": 4.71, \"CreditScore\": 0, \"Income\": 0, \"Approved\": \"No\"}, {\"Age\": 18.5, \"Debt\": 2.0, \"CreditScore\": 2, \"Income\": 300, \"Approved\": \"Yes\"}, {\"Age\": 18.17, \"Debt\": 10.25, \"CreditScore\": 0, \"Income\": 13, \"Approved\": \"No\"}, {\"Age\": 15.17, \"Debt\": 7.0, \"CreditScore\": 0, \"Income\": 0, \"Approved\": \"No\"}, {\"Age\": 32.75, \"Debt\": 1.5, \"CreditScore\": 3, \"Income\": 0, \"Approved\": \"Yes\"}, {\"Age\": 26.33, \"Debt\": 13.0, \"CreditScore\": 0, \"Income\": 1110, \"Approved\": \"No\"}, {\"Age\": 17.92, \"Debt\": 0.205, \"CreditScore\": 0, \"Income\": 750, \"Approved\": \"No\"}, {\"Age\": 48.5, \"Debt\": 4.25, \"CreditScore\": 0, \"Income\": 0, \"Approved\": \"Yes\"}, {\"Age\": 15.83, \"Debt\": 7.625, \"CreditScore\": 1, \"Income\": 160, \"Approved\": \"No\"}, {\"Age\": 28.0, \"Debt\": 2.0, \"CreditScore\": 2, \"Income\": 0, \"Approved\": \"Yes\"}, {\"Age\": 24.08, \"Debt\": 9.0, \"CreditScore\": 0, \"Income\": 0, \"Approved\": \"No\"}, {\"Age\": 32.33, \"Debt\": 2.5, \"CreditScore\": 0, \"Income\": 0, \"Approved\": \"No\"}, {\"Age\": 34.67, \"Debt\": 1.08, \"CreditScore\": 0, \"Income\": 0, \"Approved\": \"No\"}, {\"Age\": 23.25, \"Debt\": 1.5, \"CreditScore\": 3, \"Income\": 582, \"Approved\": \"Yes\"}, {\"Age\": 41.17, \"Debt\": 1.25, \"CreditScore\": 0, \"Income\": 195, \"Approved\": \"No\"}, {\"Age\": 38.42, \"Debt\": 0.705, \"CreditScore\": 2, \"Income\": 500, \"Approved\": \"No\"}, {\"Age\": 30.17, \"Debt\": 0.5, \"CreditScore\": 11, \"Income\": 540, \"Approved\": \"Yes\"}, {\"Age\": 17.08, \"Debt\": 3.29, \"CreditScore\": 0, \"Income\": 2, \"Approved\": \"No\"}, {\"Age\": 26.67, \"Debt\": 1.75, \"CreditScore\": 5, \"Income\": 5777, \"Approved\": \"Yes\"}, {\"Age\": 23.0, \"Debt\": 0.75, \"CreditScore\": 0, \"Income\": 0, \"Approved\": \"No\"}, {\"Age\": 25.17, \"Debt\": 3.0, \"CreditScore\": 1, \"Income\": 22, \"Approved\": \"No\"}, {\"Age\": 22.92, \"Debt\": 1.25, \"CreditScore\": 0, \"Income\": 809, \"Approved\": \"No\"}, {\"Age\": 23.08, \"Debt\": 11.5, \"CreditScore\": 9, \"Income\": 742, \"Approved\": \"Yes\"}, {\"Age\": 32.42, \"Debt\": 3.0, \"CreditScore\": 0, \"Income\": 0, \"Approved\": \"No\"}, {\"Age\": 47.67, \"Debt\": 0.29, \"CreditScore\": 20, \"Income\": 15000, \"Approved\": \"Yes\"}, {\"Age\": 43.17, \"Debt\": 5.0, \"CreditScore\": 0, \"Income\": 0, \"Approved\": \"No\"}, {\"Age\": 28.5, \"Debt\": 1.0, \"CreditScore\": 2, \"Income\": 500, \"Approved\": \"No\"}, {\"Age\": 48.58, \"Debt\": 6.5, \"CreditScore\": 0, \"Income\": 0, \"Approved\": \"Yes\"}, {\"Age\": 25.0, \"Debt\": 12.5, \"CreditScore\": 0, \"Income\": 0, \"Approved\": \"Yes\"}, {\"Age\": 28.75, \"Debt\": 3.75, \"CreditScore\": 1, \"Income\": 0, \"Approved\": \"Yes\"}, {\"Age\": 22.83, \"Debt\": 2.29, \"CreditScore\": 7, \"Income\": 2384, \"Approved\": \"Yes\"}, {\"Age\": 46.08, \"Debt\": 3.0, \"CreditScore\": 8, \"Income\": 4159, \"Approved\": \"Yes\"}, {\"Age\": 22.67, \"Debt\": 0.75, \"CreditScore\": 2, \"Income\": 394, \"Approved\": \"No\"}, {\"Age\": 54.58, \"Debt\": 9.415, \"CreditScore\": 11, \"Income\": 300, \"Approved\": \"Yes\"}, {\"Age\": 39.08, \"Debt\": 4.0, \"CreditScore\": 0, \"Income\": 0, \"Approved\": \"No\"}, {\"Age\": 24.5, \"Debt\": 0.5, \"CreditScore\": 0, \"Income\": 824, \"Approved\": \"Yes\"}, {\"Age\": 39.5, \"Debt\": 1.625, \"CreditScore\": 0, \"Income\": 316, \"Approved\": \"No\"}, {\"Age\": 19.42, \"Debt\": 6.5, \"CreditScore\": 7, \"Income\": 2954, \"Approved\": \"Yes\"}, {\"Age\": 35.17, \"Debt\": 2.5, \"CreditScore\": 7, \"Income\": 1270, \"Approved\": \"Yes\"}, {\"Age\": 28.46, \"Debt\": 0.04, \"CreditScore\": 0, \"Income\": 0, \"Approved\": \"No\"}, {\"Age\": 35.0, \"Debt\": 2.5, \"CreditScore\": 0, \"Income\": 0, \"Approved\": \"No\"}, {\"Age\": 23.17, \"Debt\": 11.125, \"CreditScore\": 1, \"Income\": 0, \"Approved\": \"Yes\"}, {\"Age\": 28.0, \"Debt\": 3.0, \"CreditScore\": 0, \"Income\": 67, \"Approved\": \"No\"}, {\"Age\": 17.08, \"Debt\": 0.25, \"CreditScore\": 4, \"Income\": 8, \"Approved\": \"No\"}, {\"Age\": 24.5, \"Debt\": 1.04, \"CreditScore\": 3, \"Income\": 147, \"Approved\": \"No\"}, {\"Age\": 37.75, \"Debt\": 5.5, \"CreditScore\": 0, \"Income\": 0, \"Approved\": \"Yes\"}, {\"Age\": 30.08, \"Debt\": 1.04, \"CreditScore\": 10, \"Income\": 28, \"Approved\": \"No\"}, {\"Age\": 44.25, \"Debt\": 0.5, \"CreditScore\": 0, \"Income\": 0, \"Approved\": \"No\"}, {\"Age\": 31.92, \"Debt\": 4.46, \"CreditScore\": 3, \"Income\": 300, \"Approved\": \"Yes\"}, {\"Age\": 28.58, \"Debt\": 3.625, \"CreditScore\": 0, \"Income\": 0, \"Approved\": \"No\"}, {\"Age\": 33.75, \"Debt\": 0.75, \"CreditScore\": 3, \"Income\": 0, \"Approved\": \"No\"}, {\"Age\": 23.0, \"Debt\": 0.625, \"CreditScore\": 0, \"Income\": 1, \"Approved\": \"No\"}, {\"Age\": 26.67, \"Debt\": 2.71, \"CreditScore\": 1, \"Income\": 0, \"Approved\": \"Yes\"}, {\"Age\": 35.75, \"Debt\": 0.915, \"CreditScore\": 4, \"Income\": 1583, \"Approved\": \"Yes\"}, {\"Age\": 44.17, \"Debt\": 6.665, \"CreditScore\": 3, \"Income\": 0, \"Approved\": \"Yes\"}, {\"Age\": 28.75, \"Debt\": 1.165, \"CreditScore\": 0, \"Income\": 0, \"Approved\": \"No\"}, {\"Age\": 25.75, \"Debt\": 0.75, \"CreditScore\": 0, \"Income\": 23, \"Approved\": \"Yes\"}, {\"Age\": 23.25, \"Debt\": 5.875, \"CreditScore\": 10, \"Income\": 245, \"Approved\": \"Yes\"}, {\"Age\": 22.5, \"Debt\": 11.0, \"CreditScore\": 0, \"Income\": 0, \"Approved\": \"No\"}, {\"Age\": 33.67, \"Debt\": 0.375, \"CreditScore\": 0, \"Income\": 44, \"Approved\": \"Yes\"}, {\"Age\": 24.33, \"Debt\": 2.5, \"CreditScore\": 0, \"Income\": 456, \"Approved\": \"No\"}, {\"Age\": 42.83, \"Debt\": 1.25, \"CreditScore\": 1, \"Income\": 112, \"Approved\": \"No\"}, {\"Age\": 13.75, \"Debt\": 4.0, \"CreditScore\": 2, \"Income\": 1000, \"Approved\": \"Yes\"}]}}, {\"mode\": \"vega-lite\"});\n",
       "</script>"
      ],
      "text/plain": [
       "alt.FacetChart(...)"
      ]
     },
     "execution_count": 10,
     "metadata": {},
     "output_type": "execute_result"
    }
   ],
   "source": [
    "data_vis_d = alt.Chart(data_train).mark_bar().encode(\n",
    "    x = alt.X('Debt').scale(clamp= True).bin(maxbins=30),\n",
    "    y = alt.Y('count()'),\n",
    "    color = alt.Color('Approved')\n",
    ").properties(\n",
    "    height=100\n",
    ").facet(\n",
    "    \"Approved:N\",)\n",
    "data_vis_d"
   ]
  },
  {
   "cell_type": "markdown",
   "id": "c92ed79d",
   "metadata": {},
   "source": [
    "Figure 4. Number of records approved and not approved for credit card based on applicant's amount of debt."
   ]
  },
  {
   "cell_type": "code",
   "execution_count": 11,
   "id": "0831b9af-361f-4674-af7a-99b060f8193a",
   "metadata": {
    "tags": []
   },
   "outputs": [],
   "source": [
    "# Exploratory data analysis \n",
    "# Data Vizualisation (Preliminary)"
   ]
  },
  {
   "cell_type": "markdown",
   "id": "6fdfe57b",
   "metadata": {},
   "source": [
    "Therefore, I created scatter plot visualizations using the altair package, creating graphs comparing “Income vs Credit Score,” “Debt vs Credit Score”, and “Age vs Credit Score.” I used colour encoding to visualize approved applications vs unapproved and the clamp function to ensure the scale of our graphs highlighted the data well. This combined with the data summary work (such as examining means and so on), gave us a preliminary sense of the data layout and some basic relationships between our variables of interest. \n"
   ]
  },
  {
   "cell_type": "code",
   "execution_count": 12,
   "id": "f95ee267-16f8-49c5-a286-6b4dec0e5a08",
   "metadata": {
    "tags": []
   },
   "outputs": [
    {
     "data": {
      "text/html": [
       "\n",
       "<style>\n",
       "  #altair-viz-ccef1385923840a7be827ee8e4bf3d37.vega-embed {\n",
       "    width: 100%;\n",
       "    display: flex;\n",
       "  }\n",
       "\n",
       "  #altair-viz-ccef1385923840a7be827ee8e4bf3d37.vega-embed details,\n",
       "  #altair-viz-ccef1385923840a7be827ee8e4bf3d37.vega-embed details summary {\n",
       "    position: relative;\n",
       "  }\n",
       "</style>\n",
       "<div id=\"altair-viz-ccef1385923840a7be827ee8e4bf3d37\"></div>\n",
       "<script type=\"text/javascript\">\n",
       "  var VEGA_DEBUG = (typeof VEGA_DEBUG == \"undefined\") ? {} : VEGA_DEBUG;\n",
       "  (function(spec, embedOpt){\n",
       "    let outputDiv = document.currentScript.previousElementSibling;\n",
       "    if (outputDiv.id !== \"altair-viz-ccef1385923840a7be827ee8e4bf3d37\") {\n",
       "      outputDiv = document.getElementById(\"altair-viz-ccef1385923840a7be827ee8e4bf3d37\");\n",
       "    }\n",
       "    const paths = {\n",
       "      \"vega\": \"https://cdn.jsdelivr.net/npm/vega@5?noext\",\n",
       "      \"vega-lib\": \"https://cdn.jsdelivr.net/npm/vega-lib?noext\",\n",
       "      \"vega-lite\": \"https://cdn.jsdelivr.net/npm/vega-lite@5.15.1?noext\",\n",
       "      \"vega-embed\": \"https://cdn.jsdelivr.net/npm/vega-embed@6?noext\",\n",
       "    };\n",
       "\n",
       "    function maybeLoadScript(lib, version) {\n",
       "      var key = `${lib.replace(\"-\", \"\")}_version`;\n",
       "      return (VEGA_DEBUG[key] == version) ?\n",
       "        Promise.resolve(paths[lib]) :\n",
       "        new Promise(function(resolve, reject) {\n",
       "          var s = document.createElement('script');\n",
       "          document.getElementsByTagName(\"head\")[0].appendChild(s);\n",
       "          s.async = true;\n",
       "          s.onload = () => {\n",
       "            VEGA_DEBUG[key] = version;\n",
       "            return resolve(paths[lib]);\n",
       "          };\n",
       "          s.onerror = () => reject(`Error loading script: ${paths[lib]}`);\n",
       "          s.src = paths[lib];\n",
       "        });\n",
       "    }\n",
       "\n",
       "    function showError(err) {\n",
       "      outputDiv.innerHTML = `<div class=\"error\" style=\"color:red;\">${err}</div>`;\n",
       "      throw err;\n",
       "    }\n",
       "\n",
       "    function displayChart(vegaEmbed) {\n",
       "      vegaEmbed(outputDiv, spec, embedOpt)\n",
       "        .catch(err => showError(`Javascript Error: ${err.message}<br>This usually means there's a typo in your chart specification. See the javascript console for the full traceback.`));\n",
       "    }\n",
       "\n",
       "    if(typeof define === \"function\" && define.amd) {\n",
       "      requirejs.config({paths});\n",
       "      require([\"vega-embed\"], displayChart, err => showError(`Error loading script: ${err.message}`));\n",
       "    } else {\n",
       "      maybeLoadScript(\"vega\", \"5\")\n",
       "        .then(() => maybeLoadScript(\"vega-lite\", \"5.15.1\"))\n",
       "        .then(() => maybeLoadScript(\"vega-embed\", \"6\"))\n",
       "        .catch(showError)\n",
       "        .then(() => displayChart(vegaEmbed));\n",
       "    }\n",
       "  })({\"config\": {\"view\": {\"continuousWidth\": 300, \"continuousHeight\": 300}}, \"data\": {\"name\": \"data-9b2ed57830432ad344c2b937c9697da2\"}, \"mark\": {\"type\": \"point\"}, \"encoding\": {\"color\": {\"field\": \"Approved\", \"type\": \"nominal\"}, \"x\": {\"field\": \"CreditScore\", \"scale\": {\"domain\": [0, 20], \"clamp\": true}, \"type\": \"quantitative\"}, \"y\": {\"field\": \"Debt\", \"scale\": {\"domain\": [0, 40], \"clamp\": true}, \"title\": \"Debt\", \"type\": \"quantitative\"}}, \"title\": \"Debt vs Credit Score\", \"$schema\": \"https://vega.github.io/schema/vega-lite/v5.15.1.json\", \"datasets\": {\"data-9b2ed57830432ad344c2b937c9697da2\": [{\"Age\": 29.58, \"Debt\": 4.75, \"CreditScore\": 1, \"Income\": 68, \"Approved\": \"No\"}, {\"Age\": 25.67, \"Debt\": 12.5, \"CreditScore\": 67, \"Income\": 258, \"Approved\": \"Yes\"}, {\"Age\": 22.5, \"Debt\": 11.5, \"CreditScore\": 0, \"Income\": 4000, \"Approved\": \"No\"}, {\"Age\": 39.33, \"Debt\": 5.875, \"CreditScore\": 14, \"Income\": 0, \"Approved\": \"Yes\"}, {\"Age\": 22.17, \"Debt\": 12.125, \"CreditScore\": 2, \"Income\": 173, \"Approved\": \"No\"}, {\"Age\": 47.75, \"Debt\": 8.0, \"CreditScore\": 6, \"Income\": 1260, \"Approved\": \"Yes\"}, {\"Age\": 18.83, \"Debt\": 3.54, \"CreditScore\": 0, \"Income\": 1, \"Approved\": \"No\"}, {\"Age\": 32.83, \"Debt\": 2.5, \"CreditScore\": 6, \"Income\": 2072, \"Approved\": \"Yes\"}, {\"Age\": 34.83, \"Debt\": 2.5, \"CreditScore\": 0, \"Income\": 0, \"Approved\": \"No\"}, {\"Age\": 65.42, \"Debt\": 11.0, \"CreditScore\": 7, \"Income\": 0, \"Approved\": \"Yes\"}, {\"Age\": 18.58, \"Debt\": 5.71, \"CreditScore\": 0, \"Income\": 0, \"Approved\": \"No\"}, {\"Age\": 24.08, \"Debt\": 0.5, \"CreditScore\": 1, \"Income\": 678, \"Approved\": \"Yes\"}, {\"Age\": 32.0, \"Debt\": 6.0, \"CreditScore\": 0, \"Income\": 0, \"Approved\": \"No\"}, {\"Age\": 43.0, \"Debt\": 0.29, \"CreditScore\": 8, \"Income\": 375, \"Approved\": \"Yes\"}, {\"Age\": 24.58, \"Debt\": 1.25, \"CreditScore\": 0, \"Income\": 0, \"Approved\": \"No\"}, {\"Age\": 27.25, \"Debt\": 1.585, \"CreditScore\": 12, \"Income\": 713, \"Approved\": \"Yes\"}, {\"Age\": 54.33, \"Debt\": 6.75, \"CreditScore\": 11, \"Income\": 284, \"Approved\": \"Yes\"}, {\"Age\": 43.08, \"Debt\": 0.375, \"CreditScore\": 8, \"Income\": 162, \"Approved\": \"Yes\"}, {\"Age\": 29.5, \"Debt\": 2.0, \"CreditScore\": 0, \"Income\": 17, \"Approved\": \"No\"}, {\"Age\": 28.5, \"Debt\": 3.04, \"CreditScore\": 1, \"Income\": 0, \"Approved\": \"Yes\"}, {\"Age\": 28.92, \"Debt\": 15.0, \"CreditScore\": 11, \"Income\": 2283, \"Approved\": \"Yes\"}, {\"Age\": 22.08, \"Debt\": 2.335, \"CreditScore\": 0, \"Income\": 0, \"Approved\": \"No\"}, {\"Age\": 47.0, \"Debt\": 13.0, \"CreditScore\": 9, \"Income\": 0, \"Approved\": \"Yes\"}, {\"Age\": 26.83, \"Debt\": 0.54, \"CreditScore\": 0, \"Income\": 0, \"Approved\": \"No\"}, {\"Age\": 21.17, \"Debt\": 0.0, \"CreditScore\": 0, \"Income\": 0, \"Approved\": \"No\"}, {\"Age\": 20.42, \"Debt\": 0.835, \"CreditScore\": 1, \"Income\": 0, \"Approved\": \"Yes\"}, {\"Age\": 22.58, \"Debt\": 10.75, \"CreditScore\": 5, \"Income\": 560, \"Approved\": \"Yes\"}, {\"Age\": 36.75, \"Debt\": 5.125, \"CreditScore\": 0, \"Income\": 4000, \"Approved\": \"Yes\"}, {\"Age\": 19.17, \"Debt\": 5.415, \"CreditScore\": 0, \"Income\": 484, \"Approved\": \"No\"}, {\"Age\": 53.33, \"Debt\": 0.165, \"CreditScore\": 0, \"Income\": 27, \"Approved\": \"No\"}, {\"Age\": 22.67, \"Debt\": 2.54, \"CreditScore\": 0, \"Income\": 0, \"Approved\": \"Yes\"}, {\"Age\": 57.83, \"Debt\": 7.04, \"CreditScore\": 6, \"Income\": 1332, \"Approved\": \"Yes\"}, {\"Age\": 36.67, \"Debt\": 4.415, \"CreditScore\": 10, \"Income\": 0, \"Approved\": \"Yes\"}, {\"Age\": 29.67, \"Debt\": 1.415, \"CreditScore\": 1, \"Income\": 100, \"Approved\": \"Yes\"}, {\"Age\": 16.08, \"Debt\": 0.335, \"CreditScore\": 1, \"Income\": 126, \"Approved\": \"No\"}, {\"Age\": 17.58, \"Debt\": 10.0, \"CreditScore\": 1, \"Income\": 1, \"Approved\": \"No\"}, {\"Age\": 41.33, \"Debt\": 0.0, \"CreditScore\": 0, \"Income\": 0, \"Approved\": \"Yes\"}, {\"Age\": 22.67, \"Debt\": 10.5, \"CreditScore\": 0, \"Income\": 0, \"Approved\": \"Yes\"}, {\"Age\": 18.92, \"Debt\": 9.0, \"CreditScore\": 2, \"Income\": 591, \"Approved\": \"Yes\"}, {\"Age\": 32.17, \"Debt\": 1.46, \"CreditScore\": 16, \"Income\": 2079, \"Approved\": \"Yes\"}, {\"Age\": 27.75, \"Debt\": 1.29, \"CreditScore\": 0, \"Income\": 0, \"Approved\": \"No\"}, {\"Age\": 24.5, \"Debt\": 13.335, \"CreditScore\": 0, \"Income\": 475, \"Approved\": \"No\"}, {\"Age\": 52.33, \"Debt\": 1.375, \"CreditScore\": 0, \"Income\": 100, \"Approved\": \"No\"}, {\"Age\": 18.0, \"Debt\": 0.165, \"CreditScore\": 0, \"Income\": 40, \"Approved\": \"Yes\"}, {\"Age\": 23.33, \"Debt\": 11.625, \"CreditScore\": 0, \"Income\": 300, \"Approved\": \"Yes\"}, {\"Age\": 21.75, \"Debt\": 11.75, \"CreditScore\": 0, \"Income\": 0, \"Approved\": \"No\"}, {\"Age\": 39.42, \"Debt\": 1.71, \"CreditScore\": 0, \"Income\": 0, \"Approved\": \"No\"}, {\"Age\": 20.08, \"Debt\": 0.25, \"CreditScore\": 0, \"Income\": 0, \"Approved\": \"No\"}, {\"Age\": 39.25, \"Debt\": 9.5, \"CreditScore\": 14, \"Income\": 4607, \"Approved\": \"Yes\"}, {\"Age\": 37.75, \"Debt\": 7.0, \"CreditScore\": 7, \"Income\": 5, \"Approved\": \"No\"}, {\"Age\": 51.92, \"Debt\": 6.5, \"CreditScore\": 0, \"Income\": 0, \"Approved\": \"No\"}, {\"Age\": 21.83, \"Debt\": 11.0, \"CreditScore\": 6, \"Income\": 0, \"Approved\": \"Yes\"}, {\"Age\": 28.33, \"Debt\": 5.0, \"CreditScore\": 0, \"Income\": 0, \"Approved\": \"Yes\"}, {\"Age\": 27.83, \"Debt\": 1.0, \"CreditScore\": 0, \"Income\": 537, \"Approved\": \"No\"}, {\"Age\": 28.46, \"Debt\": 4.0, \"CreditScore\": 0, \"Income\": 0, \"Approved\": \"No\"}, {\"Age\": 29.42, \"Debt\": 1.25, \"CreditScore\": 2, \"Income\": 108, \"Approved\": \"No\"}, {\"Age\": 52.5, \"Debt\": 7.0, \"CreditScore\": 0, \"Income\": 0, \"Approved\": \"No\"}, {\"Age\": 21.83, \"Debt\": 0.25, \"CreditScore\": 0, \"Income\": 0, \"Approved\": \"Yes\"}, {\"Age\": 20.0, \"Debt\": 7.0, \"CreditScore\": 0, \"Income\": 0, \"Approved\": \"No\"}, {\"Age\": 57.58, \"Debt\": 2.0, \"CreditScore\": 1, \"Income\": 10, \"Approved\": \"No\"}, {\"Age\": 29.25, \"Debt\": 14.79, \"CreditScore\": 5, \"Income\": 0, \"Approved\": \"Yes\"}, {\"Age\": 40.92, \"Debt\": 0.835, \"CreditScore\": 0, \"Income\": 1, \"Approved\": \"No\"}, {\"Age\": 30.83, \"Debt\": 0.0, \"CreditScore\": 1, \"Income\": 0, \"Approved\": \"Yes\"}, {\"Age\": 38.58, \"Debt\": 5.0, \"CreditScore\": 0, \"Income\": 0, \"Approved\": \"No\"}, {\"Age\": 24.83, \"Debt\": 4.5, \"CreditScore\": 0, \"Income\": 6, \"Approved\": \"No\"}, {\"Age\": 25.75, \"Debt\": 0.5, \"CreditScore\": 5, \"Income\": 0, \"Approved\": \"Yes\"}, {\"Age\": 21.17, \"Debt\": 0.875, \"CreditScore\": 0, \"Income\": 204, \"Approved\": \"No\"}, {\"Age\": 16.92, \"Debt\": 0.335, \"CreditScore\": 0, \"Income\": 0, \"Approved\": \"No\"}, {\"Age\": 32.75, \"Debt\": 2.335, \"CreditScore\": 0, \"Income\": 0, \"Approved\": \"No\"}, {\"Age\": 60.08, \"Debt\": 14.5, \"CreditScore\": 15, \"Income\": 1000, \"Approved\": \"Yes\"}, {\"Age\": 34.08, \"Debt\": 2.5, \"CreditScore\": 0, \"Income\": 16, \"Approved\": \"No\"}, {\"Age\": 18.42, \"Debt\": 9.25, \"CreditScore\": 4, \"Income\": 540, \"Approved\": \"Yes\"}, {\"Age\": 35.58, \"Debt\": 0.75, \"CreditScore\": 0, \"Income\": 0, \"Approved\": \"No\"}, {\"Age\": 22.5, \"Debt\": 0.125, \"CreditScore\": 0, \"Income\": 70, \"Approved\": \"No\"}, {\"Age\": 21.33, \"Debt\": 10.5, \"CreditScore\": 0, \"Income\": 0, \"Approved\": \"Yes\"}, {\"Age\": 21.75, \"Debt\": 1.75, \"CreditScore\": 0, \"Income\": 0, \"Approved\": \"No\"}, {\"Age\": 57.08, \"Debt\": 0.335, \"CreditScore\": 0, \"Income\": 2197, \"Approved\": \"No\"}, {\"Age\": 44.83, \"Debt\": 7.0, \"CreditScore\": 0, \"Income\": 2, \"Approved\": \"No\"}, {\"Age\": 20.42, \"Debt\": 10.5, \"CreditScore\": 0, \"Income\": 32, \"Approved\": \"No\"}, {\"Age\": 22.25, \"Debt\": 0.46, \"CreditScore\": 0, \"Income\": 55, \"Approved\": \"No\"}, {\"Age\": 41.17, \"Debt\": 6.5, \"CreditScore\": 3, \"Income\": 0, \"Approved\": \"Yes\"}, {\"Age\": 22.67, \"Debt\": 0.335, \"CreditScore\": 0, \"Income\": 0, \"Approved\": \"No\"}, {\"Age\": 40.83, \"Debt\": 3.5, \"CreditScore\": 0, \"Income\": 0, \"Approved\": \"No\"}, {\"Age\": 22.58, \"Debt\": 10.04, \"CreditScore\": 9, \"Income\": 396, \"Approved\": \"Yes\"}, {\"Age\": 35.42, \"Debt\": 12.0, \"CreditScore\": 8, \"Income\": 6590, \"Approved\": \"Yes\"}, {\"Age\": 28.46, \"Debt\": 4.0, \"CreditScore\": 3, \"Income\": 2279, \"Approved\": \"Yes\"}, {\"Age\": 18.17, \"Debt\": 2.46, \"CreditScore\": 2, \"Income\": 587, \"Approved\": \"No\"}, {\"Age\": 26.75, \"Debt\": 4.5, \"CreditScore\": 0, \"Income\": 1210, \"Approved\": \"No\"}, {\"Age\": 31.83, \"Debt\": 0.04, \"CreditScore\": 0, \"Income\": 0, \"Approved\": \"No\"}, {\"Age\": 34.58, \"Debt\": 0.0, \"CreditScore\": 0, \"Income\": 0, \"Approved\": \"No\"}, {\"Age\": 21.0, \"Debt\": 4.79, \"CreditScore\": 1, \"Income\": 300, \"Approved\": \"Yes\"}, {\"Age\": 45.0, \"Debt\": 4.585, \"CreditScore\": 0, \"Income\": 0, \"Approved\": \"No\"}, {\"Age\": 45.17, \"Debt\": 1.5, \"CreditScore\": 0, \"Income\": 0, \"Approved\": \"No\"}, {\"Age\": 21.5, \"Debt\": 6.0, \"CreditScore\": 3, \"Income\": 918, \"Approved\": \"Yes\"}, {\"Age\": 30.5, \"Debt\": 6.5, \"CreditScore\": 7, \"Income\": 3065, \"Approved\": \"Yes\"}, {\"Age\": 33.0, \"Debt\": 2.5, \"CreditScore\": 0, \"Income\": 0, \"Approved\": \"No\"}, {\"Age\": 73.42, \"Debt\": 17.75, \"CreditScore\": 0, \"Income\": 0, \"Approved\": \"Yes\"}, {\"Age\": 54.83, \"Debt\": 15.5, \"CreditScore\": 20, \"Income\": 130, \"Approved\": \"No\"}, {\"Age\": 32.42, \"Debt\": 2.165, \"CreditScore\": 0, \"Income\": 0, \"Approved\": \"No\"}, {\"Age\": 20.67, \"Debt\": 1.25, \"CreditScore\": 3, \"Income\": 210, \"Approved\": \"No\"}, {\"Age\": 58.42, \"Debt\": 21.0, \"CreditScore\": 13, \"Income\": 6700, \"Approved\": \"Yes\"}, {\"Age\": 26.75, \"Debt\": 1.125, \"CreditScore\": 0, \"Income\": 5298, \"Approved\": \"Yes\"}, {\"Age\": 23.42, \"Debt\": 1.0, \"CreditScore\": 0, \"Income\": 0, \"Approved\": \"No\"}, {\"Age\": 23.92, \"Debt\": 0.665, \"CreditScore\": 0, \"Income\": 0, \"Approved\": \"Yes\"}, {\"Age\": 18.75, \"Debt\": 7.5, \"CreditScore\": 5, \"Income\": 26726, \"Approved\": \"Yes\"}, {\"Age\": 23.58, \"Debt\": 1.79, \"CreditScore\": 0, \"Income\": 1, \"Approved\": \"No\"}, {\"Age\": 20.17, \"Debt\": 8.17, \"CreditScore\": 14, \"Income\": 158, \"Approved\": \"Yes\"}, {\"Age\": 41.33, \"Debt\": 1.0, \"CreditScore\": 0, \"Income\": 300, \"Approved\": \"Yes\"}, {\"Age\": 68.67, \"Debt\": 15.0, \"CreditScore\": 14, \"Income\": 3376, \"Approved\": \"Yes\"}, {\"Age\": 47.42, \"Debt\": 3.0, \"CreditScore\": 2, \"Income\": 1704, \"Approved\": \"Yes\"}, {\"Age\": 22.67, \"Debt\": 0.165, \"CreditScore\": 0, \"Income\": 0, \"Approved\": \"Yes\"}, {\"Age\": 25.58, \"Debt\": 0.0, \"CreditScore\": 0, \"Income\": 0, \"Approved\": \"Yes\"}, {\"Age\": 28.08, \"Debt\": 15.0, \"CreditScore\": 0, \"Income\": 13212, \"Approved\": \"Yes\"}, {\"Age\": 16.17, \"Debt\": 0.04, \"CreditScore\": 0, \"Income\": 0, \"Approved\": \"Yes\"}, {\"Age\": 38.58, \"Debt\": 3.335, \"CreditScore\": 14, \"Income\": 1344, \"Approved\": \"Yes\"}, {\"Age\": 33.25, \"Debt\": 3.0, \"CreditScore\": 0, \"Income\": 0, \"Approved\": \"No\"}, {\"Age\": 51.83, \"Debt\": 3.0, \"CreditScore\": 0, \"Income\": 4, \"Approved\": \"No\"}, {\"Age\": 26.5, \"Debt\": 2.71, \"CreditScore\": 0, \"Income\": 0, \"Approved\": \"No\"}, {\"Age\": 36.33, \"Debt\": 2.125, \"CreditScore\": 1, \"Income\": 1187, \"Approved\": \"Yes\"}, {\"Age\": 34.92, \"Debt\": 5.0, \"CreditScore\": 6, \"Income\": 1000, \"Approved\": \"Yes\"}, {\"Age\": 27.0, \"Debt\": 1.5, \"CreditScore\": 0, \"Income\": 1065, \"Approved\": \"Yes\"}, {\"Age\": 23.75, \"Debt\": 0.415, \"CreditScore\": 2, \"Income\": 6, \"Approved\": \"No\"}, {\"Age\": 16.0, \"Debt\": 3.125, \"CreditScore\": 1, \"Income\": 6, \"Approved\": \"No\"}, {\"Age\": 19.58, \"Debt\": 0.585, \"CreditScore\": 3, \"Income\": 769, \"Approved\": \"No\"}, {\"Age\": 29.17, \"Debt\": 3.5, \"CreditScore\": 3, \"Income\": 0, \"Approved\": \"No\"}, {\"Age\": 28.58, \"Debt\": 3.54, \"CreditScore\": 0, \"Income\": 0, \"Approved\": \"No\"}, {\"Age\": 20.33, \"Debt\": 10.0, \"CreditScore\": 4, \"Income\": 1465, \"Approved\": \"Yes\"}, {\"Age\": 25.0, \"Debt\": 11.25, \"CreditScore\": 17, \"Income\": 1208, \"Approved\": \"Yes\"}, {\"Age\": 32.67, \"Debt\": 9.0, \"CreditScore\": 0, \"Income\": 0, \"Approved\": \"Yes\"}, {\"Age\": 38.92, \"Debt\": 1.665, \"CreditScore\": 0, \"Income\": 390, \"Approved\": \"No\"}, {\"Age\": 22.83, \"Debt\": 3.0, \"CreditScore\": 1, \"Income\": 800, \"Approved\": \"Yes\"}, {\"Age\": 18.17, \"Debt\": 10.0, \"CreditScore\": 0, \"Income\": 0, \"Approved\": \"No\"}, {\"Age\": 29.58, \"Debt\": 4.5, \"CreditScore\": 2, \"Income\": 0, \"Approved\": \"Yes\"}, {\"Age\": 23.25, \"Debt\": 12.625, \"CreditScore\": 2, \"Income\": 5552, \"Approved\": \"No\"}, {\"Age\": 18.58, \"Debt\": 10.0, \"CreditScore\": 0, \"Income\": 42, \"Approved\": \"No\"}, {\"Age\": 20.0, \"Debt\": 11.045, \"CreditScore\": 0, \"Income\": 0, \"Approved\": \"No\"}, {\"Age\": 22.42, \"Debt\": 5.665, \"CreditScore\": 7, \"Income\": 3257, \"Approved\": \"Yes\"}, {\"Age\": 31.83, \"Debt\": 2.5, \"CreditScore\": 0, \"Income\": 0, \"Approved\": \"No\"}, {\"Age\": 24.33, \"Debt\": 6.625, \"CreditScore\": 0, \"Income\": 0, \"Approved\": \"Yes\"}, {\"Age\": 21.92, \"Debt\": 11.665, \"CreditScore\": 0, \"Income\": 5, \"Approved\": \"No\"}, {\"Age\": 36.58, \"Debt\": 0.29, \"CreditScore\": 10, \"Income\": 18, \"Approved\": \"No\"}, {\"Age\": 25.67, \"Debt\": 3.25, \"CreditScore\": 1, \"Income\": 21, \"Approved\": \"No\"}, {\"Age\": 42.0, \"Debt\": 0.205, \"CreditScore\": 0, \"Income\": 0, \"Approved\": \"Yes\"}, {\"Age\": 19.58, \"Debt\": 0.665, \"CreditScore\": 0, \"Income\": 5, \"Approved\": \"No\"}, {\"Age\": 36.33, \"Debt\": 3.79, \"CreditScore\": 0, \"Income\": 0, \"Approved\": \"No\"}, {\"Age\": 33.17, \"Debt\": 1.0, \"CreditScore\": 7, \"Income\": 4071, \"Approved\": \"Yes\"}, {\"Age\": 30.17, \"Debt\": 6.5, \"CreditScore\": 8, \"Income\": 1200, \"Approved\": \"Yes\"}, {\"Age\": 56.58, \"Debt\": 18.5, \"CreditScore\": 17, \"Income\": 0, \"Approved\": \"Yes\"}, {\"Age\": 63.33, \"Debt\": 0.54, \"CreditScore\": 3, \"Income\": 0, \"Approved\": \"No\"}, {\"Age\": 41.17, \"Debt\": 4.04, \"CreditScore\": 8, \"Income\": 0, \"Approved\": \"Yes\"}, {\"Age\": 24.5, \"Debt\": 12.75, \"CreditScore\": 2, \"Income\": 444, \"Approved\": \"Yes\"}, {\"Age\": 33.08, \"Debt\": 4.625, \"CreditScore\": 2, \"Income\": 0, \"Approved\": \"Yes\"}, {\"Age\": 33.08, \"Debt\": 1.625, \"CreditScore\": 0, \"Income\": 0, \"Approved\": \"No\"}, {\"Age\": 42.17, \"Debt\": 5.04, \"CreditScore\": 0, \"Income\": 0, \"Approved\": \"Yes\"}, {\"Age\": 32.33, \"Debt\": 7.5, \"CreditScore\": 0, \"Income\": 0, \"Approved\": \"No\"}, {\"Age\": 29.5, \"Debt\": 0.58, \"CreditScore\": 1, \"Income\": 2803, \"Approved\": \"No\"}, {\"Age\": 41.58, \"Debt\": 1.75, \"CreditScore\": 0, \"Income\": 0, \"Approved\": \"No\"}, {\"Age\": 26.67, \"Debt\": 14.585, \"CreditScore\": 0, \"Income\": 0, \"Approved\": \"No\"}, {\"Age\": 23.25, \"Debt\": 1.0, \"CreditScore\": 0, \"Income\": 0, \"Approved\": \"Yes\"}, {\"Age\": 25.83, \"Debt\": 12.835, \"CreditScore\": 0, \"Income\": 2, \"Approved\": \"No\"}, {\"Age\": 29.67, \"Debt\": 0.75, \"CreditScore\": 0, \"Income\": 0, \"Approved\": \"No\"}, {\"Age\": 22.67, \"Debt\": 7.0, \"CreditScore\": 0, \"Income\": 0, \"Approved\": \"No\"}, {\"Age\": 27.67, \"Debt\": 0.75, \"CreditScore\": 0, \"Income\": 251, \"Approved\": \"No\"}, {\"Age\": 32.08, \"Debt\": 4.0, \"CreditScore\": 0, \"Income\": 0, \"Approved\": \"No\"}, {\"Age\": 20.42, \"Debt\": 7.0, \"CreditScore\": 3, \"Income\": 1391, \"Approved\": \"Yes\"}, {\"Age\": 27.67, \"Debt\": 13.75, \"CreditScore\": 0, \"Income\": 500, \"Approved\": \"Yes\"}, {\"Age\": 18.83, \"Debt\": 9.54, \"CreditScore\": 0, \"Income\": 0, \"Approved\": \"Yes\"}, {\"Age\": 48.08, \"Debt\": 3.75, \"CreditScore\": 0, \"Income\": 2, \"Approved\": \"No\"}, {\"Age\": 18.83, \"Debt\": 0.415, \"CreditScore\": 1, \"Income\": 1, \"Approved\": \"No\"}, {\"Age\": 27.67, \"Debt\": 2.0, \"CreditScore\": 4, \"Income\": 7544, \"Approved\": \"Yes\"}, {\"Age\": 17.25, \"Debt\": 3.0, \"CreditScore\": 0, \"Income\": 40, \"Approved\": \"No\"}, {\"Age\": 23.5, \"Debt\": 1.5, \"CreditScore\": 0, \"Income\": 0, \"Approved\": \"No\"}, {\"Age\": 25.92, \"Debt\": 0.875, \"CreditScore\": 2, \"Income\": 3, \"Approved\": \"No\"}, {\"Age\": 38.75, \"Debt\": 1.5, \"CreditScore\": 0, \"Income\": 0, \"Approved\": \"No\"}, {\"Age\": 20.75, \"Debt\": 9.54, \"CreditScore\": 0, \"Income\": 1000, \"Approved\": \"No\"}, {\"Age\": 40.33, \"Debt\": 8.125, \"CreditScore\": 2, \"Income\": 18, \"Approved\": \"No\"}, {\"Age\": 37.42, \"Debt\": 2.04, \"CreditScore\": 0, \"Income\": 5800, \"Approved\": \"Yes\"}, {\"Age\": 34.42, \"Debt\": 1.335, \"CreditScore\": 0, \"Income\": 4500, \"Approved\": \"No\"}, {\"Age\": 22.5, \"Debt\": 0.415, \"CreditScore\": 0, \"Income\": 0, \"Approved\": \"No\"}, {\"Age\": 28.75, \"Debt\": 1.5, \"CreditScore\": 0, \"Income\": 225, \"Approved\": \"No\"}, {\"Age\": 59.5, \"Debt\": 2.75, \"CreditScore\": 5, \"Income\": 58, \"Approved\": \"Yes\"}, {\"Age\": 23.58, \"Debt\": 0.835, \"CreditScore\": 0, \"Income\": 5, \"Approved\": \"No\"}, {\"Age\": 22.5, \"Debt\": 8.5, \"CreditScore\": 10, \"Income\": 990, \"Approved\": \"No\"}, {\"Age\": 27.83, \"Debt\": 4.0, \"CreditScore\": 2, \"Income\": 0, \"Approved\": \"No\"}, {\"Age\": 20.83, \"Debt\": 3.0, \"CreditScore\": 0, \"Income\": 0, \"Approved\": \"Yes\"}, {\"Age\": 39.0, \"Debt\": 5.0, \"CreditScore\": 10, \"Income\": 0, \"Approved\": \"Yes\"}, {\"Age\": 30.75, \"Debt\": 1.585, \"CreditScore\": 0, \"Income\": 0, \"Approved\": \"No\"}, {\"Age\": 22.67, \"Debt\": 0.75, \"CreditScore\": 1, \"Income\": 9, \"Approved\": \"No\"}, {\"Age\": 50.25, \"Debt\": 0.835, \"CreditScore\": 0, \"Income\": 117, \"Approved\": \"No\"}, {\"Age\": 34.0, \"Debt\": 5.085, \"CreditScore\": 0, \"Income\": 0, \"Approved\": \"No\"}, {\"Age\": 48.25, \"Debt\": 25.085, \"CreditScore\": 3, \"Income\": 14, \"Approved\": \"Yes\"}, {\"Age\": 25.25, \"Debt\": 12.5, \"CreditScore\": 0, \"Income\": 1062, \"Approved\": \"No\"}, {\"Age\": 23.75, \"Debt\": 0.71, \"CreditScore\": 1, \"Income\": 4, \"Approved\": \"No\"}, {\"Age\": 41.17, \"Debt\": 1.335, \"CreditScore\": 0, \"Income\": 0, \"Approved\": \"No\"}, {\"Age\": 33.17, \"Debt\": 1.04, \"CreditScore\": 0, \"Income\": 31285, \"Approved\": \"Yes\"}, {\"Age\": 23.75, \"Debt\": 12.0, \"CreditScore\": 0, \"Income\": 0, \"Approved\": \"No\"}, {\"Age\": 20.83, \"Debt\": 0.5, \"CreditScore\": 0, \"Income\": 0, \"Approved\": \"No\"}, {\"Age\": 39.92, \"Debt\": 5.0, \"CreditScore\": 0, \"Income\": 0, \"Approved\": \"No\"}, {\"Age\": 26.17, \"Debt\": 12.5, \"CreditScore\": 0, \"Income\": 17, \"Approved\": \"No\"}, {\"Age\": 39.17, \"Debt\": 2.5, \"CreditScore\": 0, \"Income\": 0, \"Approved\": \"No\"}, {\"Age\": 33.58, \"Debt\": 0.25, \"CreditScore\": 0, \"Income\": 0, \"Approved\": \"No\"}, {\"Age\": 23.42, \"Debt\": 0.79, \"CreditScore\": 2, \"Income\": 400, \"Approved\": \"Yes\"}, {\"Age\": 23.0, \"Debt\": 11.75, \"CreditScore\": 2, \"Income\": 551, \"Approved\": \"Yes\"}, {\"Age\": 33.92, \"Debt\": 1.585, \"CreditScore\": 0, \"Income\": 0, \"Approved\": \"No\"}, {\"Age\": 34.42, \"Debt\": 4.25, \"CreditScore\": 2, \"Income\": 610, \"Approved\": \"Yes\"}, {\"Age\": 19.42, \"Debt\": 7.25, \"CreditScore\": 1, \"Income\": 1, \"Approved\": \"No\"}, {\"Age\": 28.46, \"Debt\": 3.0, \"CreditScore\": 0, \"Income\": 1, \"Approved\": \"No\"}, {\"Age\": 40.83, \"Debt\": 10.0, \"CreditScore\": 0, \"Income\": 837, \"Approved\": \"Yes\"}, {\"Age\": 27.67, \"Debt\": 2.04, \"CreditScore\": 0, \"Income\": 50, \"Approved\": \"No\"}, {\"Age\": 22.75, \"Debt\": 11.5, \"CreditScore\": 0, \"Income\": 0, \"Approved\": \"No\"}, {\"Age\": 37.5, \"Debt\": 0.835, \"CreditScore\": 0, \"Income\": 5, \"Approved\": \"No\"}, {\"Age\": 27.75, \"Debt\": 0.585, \"CreditScore\": 2, \"Income\": 500, \"Approved\": \"Yes\"}, {\"Age\": 55.75, \"Debt\": 7.08, \"CreditScore\": 3, \"Income\": 50, \"Approved\": \"No\"}, {\"Age\": 62.5, \"Debt\": 12.75, \"CreditScore\": 0, \"Income\": 0, \"Approved\": \"No\"}, {\"Age\": 38.25, \"Debt\": 6.0, \"CreditScore\": 0, \"Income\": 0, \"Approved\": \"Yes\"}, {\"Age\": 40.92, \"Debt\": 0.5, \"CreditScore\": 0, \"Income\": 0, \"Approved\": \"No\"}, {\"Age\": 28.46, \"Debt\": 1.5, \"CreditScore\": 2, \"Income\": 105, \"Approved\": \"No\"}, {\"Age\": 27.25, \"Debt\": 1.665, \"CreditScore\": 9, \"Income\": 827, \"Approved\": \"Yes\"}, {\"Age\": 23.58, \"Debt\": 0.585, \"CreditScore\": 0, \"Income\": 87, \"Approved\": \"No\"}, {\"Age\": 16.5, \"Debt\": 0.125, \"CreditScore\": 0, \"Income\": 0, \"Approved\": \"No\"}, {\"Age\": 28.46, \"Debt\": 0.5, \"CreditScore\": 0, \"Income\": 0, \"Approved\": \"No\"}, {\"Age\": 15.83, \"Debt\": 0.585, \"CreditScore\": 2, \"Income\": 0, \"Approved\": \"Yes\"}, {\"Age\": 25.0, \"Debt\": 12.33, \"CreditScore\": 6, \"Income\": 458, \"Approved\": \"Yes\"}, {\"Age\": 32.0, \"Debt\": 1.75, \"CreditScore\": 0, \"Income\": 0, \"Approved\": \"Yes\"}, {\"Age\": 27.67, \"Debt\": 1.5, \"CreditScore\": 0, \"Income\": 0, \"Approved\": \"No\"}, {\"Age\": 23.08, \"Debt\": 2.5, \"CreditScore\": 0, \"Income\": 4208, \"Approved\": \"No\"}, {\"Age\": 36.25, \"Debt\": 5.0, \"CreditScore\": 6, \"Income\": 367, \"Approved\": \"Yes\"}, {\"Age\": 58.67, \"Debt\": 4.46, \"CreditScore\": 6, \"Income\": 560, \"Approved\": \"Yes\"}, {\"Age\": 25.17, \"Debt\": 2.875, \"CreditScore\": 0, \"Income\": 0, \"Approved\": \"Yes\"}, {\"Age\": 19.17, \"Debt\": 8.585, \"CreditScore\": 7, \"Income\": 0, \"Approved\": \"Yes\"}, {\"Age\": 42.08, \"Debt\": 1.04, \"CreditScore\": 6, \"Income\": 10000, \"Approved\": \"Yes\"}, {\"Age\": 34.75, \"Debt\": 2.5, \"CreditScore\": 0, \"Income\": 0, \"Approved\": \"No\"}, {\"Age\": 28.17, \"Debt\": 0.585, \"CreditScore\": 0, \"Income\": 1004, \"Approved\": \"No\"}, {\"Age\": 36.17, \"Debt\": 5.5, \"CreditScore\": 0, \"Income\": 687, \"Approved\": \"No\"}, {\"Age\": 18.83, \"Debt\": 4.415, \"CreditScore\": 0, \"Income\": 0, \"Approved\": \"Yes\"}, {\"Age\": 22.25, \"Debt\": 9.0, \"CreditScore\": 0, \"Income\": 0, \"Approved\": \"No\"}, {\"Age\": 34.83, \"Debt\": 4.0, \"CreditScore\": 0, \"Income\": 0, \"Approved\": \"No\"}, {\"Age\": 26.17, \"Debt\": 2.0, \"CreditScore\": 0, \"Income\": 1, \"Approved\": \"No\"}, {\"Age\": 28.46, \"Debt\": 3.5, \"CreditScore\": 0, \"Income\": 0, \"Approved\": \"No\"}, {\"Age\": 21.42, \"Debt\": 0.75, \"CreditScore\": 0, \"Income\": 2, \"Approved\": \"No\"}, {\"Age\": 18.25, \"Debt\": 10.0, \"CreditScore\": 1, \"Income\": 1, \"Approved\": \"No\"}, {\"Age\": 22.08, \"Debt\": 11.46, \"CreditScore\": 0, \"Income\": 1212, \"Approved\": \"No\"}, {\"Age\": 20.42, \"Debt\": 0.0, \"CreditScore\": 0, \"Income\": 0, \"Approved\": \"No\"}, {\"Age\": 34.92, \"Debt\": 2.5, \"CreditScore\": 0, \"Income\": 200, \"Approved\": \"Yes\"}, {\"Age\": 24.58, \"Debt\": 13.5, \"CreditScore\": 0, \"Income\": 0, \"Approved\": \"No\"}, {\"Age\": 49.83, \"Debt\": 13.585, \"CreditScore\": 0, \"Income\": 0, \"Approved\": \"Yes\"}, {\"Age\": 24.17, \"Debt\": 0.875, \"CreditScore\": 2, \"Income\": 2000, \"Approved\": \"Yes\"}, {\"Age\": 23.58, \"Debt\": 0.46, \"CreditScore\": 6, \"Income\": 347, \"Approved\": \"No\"}, {\"Age\": 23.33, \"Debt\": 1.5, \"CreditScore\": 0, \"Income\": 200, \"Approved\": \"Yes\"}, {\"Age\": 39.08, \"Debt\": 6.0, \"CreditScore\": 5, \"Income\": 1097, \"Approved\": \"Yes\"}, {\"Age\": 36.08, \"Debt\": 2.54, \"CreditScore\": 0, \"Income\": 1000, \"Approved\": \"No\"}, {\"Age\": 32.25, \"Debt\": 1.5, \"CreditScore\": 0, \"Income\": 122, \"Approved\": \"No\"}, {\"Age\": 25.0, \"Debt\": 12.0, \"CreditScore\": 2, \"Income\": 5, \"Approved\": \"No\"}, {\"Age\": 36.17, \"Debt\": 0.42, \"CreditScore\": 0, \"Income\": 2, \"Approved\": \"No\"}, {\"Age\": 32.33, \"Debt\": 3.5, \"CreditScore\": 0, \"Income\": 0, \"Approved\": \"No\"}, {\"Age\": 39.17, \"Debt\": 1.625, \"CreditScore\": 10, \"Income\": 4700, \"Approved\": \"Yes\"}, {\"Age\": 26.17, \"Debt\": 0.835, \"CreditScore\": 0, \"Income\": 0, \"Approved\": \"No\"}, {\"Age\": 49.5, \"Debt\": 7.585, \"CreditScore\": 15, \"Income\": 5000, \"Approved\": \"Yes\"}, {\"Age\": 52.83, \"Debt\": 15.0, \"CreditScore\": 14, \"Income\": 2200, \"Approved\": \"Yes\"}, {\"Age\": 20.17, \"Debt\": 5.625, \"CreditScore\": 0, \"Income\": 0, \"Approved\": \"Yes\"}, {\"Age\": 26.25, \"Debt\": 1.54, \"CreditScore\": 0, \"Income\": 0, \"Approved\": \"No\"}, {\"Age\": 53.92, \"Debt\": 9.625, \"CreditScore\": 5, \"Income\": 0, \"Approved\": \"Yes\"}, {\"Age\": 38.17, \"Debt\": 10.125, \"CreditScore\": 6, \"Income\": 196, \"Approved\": \"Yes\"}, {\"Age\": 20.67, \"Debt\": 1.835, \"CreditScore\": 5, \"Income\": 2503, \"Approved\": \"Yes\"}, {\"Age\": 27.25, \"Debt\": 0.625, \"CreditScore\": 0, \"Income\": 0, \"Approved\": \"No\"}, {\"Age\": 22.75, \"Debt\": 11.0, \"CreditScore\": 7, \"Income\": 809, \"Approved\": \"Yes\"}, {\"Age\": 31.67, \"Debt\": 0.83, \"CreditScore\": 8, \"Income\": 3290, \"Approved\": \"Yes\"}, {\"Age\": 22.33, \"Debt\": 11.0, \"CreditScore\": 1, \"Income\": 278, \"Approved\": \"Yes\"}, {\"Age\": 47.67, \"Debt\": 2.5, \"CreditScore\": 12, \"Income\": 2510, \"Approved\": \"Yes\"}, {\"Age\": 37.33, \"Debt\": 6.5, \"CreditScore\": 12, \"Income\": 0, \"Approved\": \"Yes\"}, {\"Age\": 42.83, \"Debt\": 4.625, \"CreditScore\": 0, \"Income\": 0, \"Approved\": \"Yes\"}, {\"Age\": 20.5, \"Debt\": 10.0, \"CreditScore\": 0, \"Income\": 0, \"Approved\": \"Yes\"}, {\"Age\": 49.58, \"Debt\": 19.0, \"CreditScore\": 1, \"Income\": 0, \"Approved\": \"No\"}, {\"Age\": 52.5, \"Debt\": 6.5, \"CreditScore\": 15, \"Income\": 11202, \"Approved\": \"Yes\"}, {\"Age\": 21.0, \"Debt\": 3.0, \"CreditScore\": 8, \"Income\": 1, \"Approved\": \"Yes\"}, {\"Age\": 19.17, \"Debt\": 0.0, \"CreditScore\": 0, \"Income\": 1, \"Approved\": \"Yes\"}, {\"Age\": 27.42, \"Debt\": 14.5, \"CreditScore\": 1, \"Income\": 11, \"Approved\": \"Yes\"}, {\"Age\": 29.5, \"Debt\": 0.46, \"CreditScore\": 4, \"Income\": 500, \"Approved\": \"Yes\"}, {\"Age\": 36.5, \"Debt\": 4.25, \"CreditScore\": 0, \"Income\": 50, \"Approved\": \"No\"}, {\"Age\": 19.67, \"Debt\": 0.21, \"CreditScore\": 11, \"Income\": 99, \"Approved\": \"Yes\"}, {\"Age\": 25.33, \"Debt\": 0.58, \"CreditScore\": 7, \"Income\": 5124, \"Approved\": \"Yes\"}, {\"Age\": 31.67, \"Debt\": 16.165, \"CreditScore\": 9, \"Income\": 730, \"Approved\": \"Yes\"}, {\"Age\": 40.92, \"Debt\": 2.25, \"CreditScore\": 0, \"Income\": 0, \"Approved\": \"No\"}, {\"Age\": 56.83, \"Debt\": 4.25, \"CreditScore\": 0, \"Income\": 4, \"Approved\": \"No\"}, {\"Age\": 34.83, \"Debt\": 1.25, \"CreditScore\": 0, \"Income\": 0, \"Approved\": \"No\"}, {\"Age\": 51.83, \"Debt\": 2.04, \"CreditScore\": 0, \"Income\": 1, \"Approved\": \"No\"}, {\"Age\": 43.25, \"Debt\": 25.21, \"CreditScore\": 1, \"Income\": 90, \"Approved\": \"No\"}, {\"Age\": 56.42, \"Debt\": 28.0, \"CreditScore\": 40, \"Income\": 15, \"Approved\": \"Yes\"}, {\"Age\": 17.92, \"Debt\": 0.54, \"CreditScore\": 1, \"Income\": 5, \"Approved\": \"No\"}, {\"Age\": 23.5, \"Debt\": 2.75, \"CreditScore\": 0, \"Income\": 25, \"Approved\": \"No\"}, {\"Age\": 49.0, \"Debt\": 1.5, \"CreditScore\": 0, \"Income\": 27, \"Approved\": \"No\"}, {\"Age\": 69.5, \"Debt\": 6.0, \"CreditScore\": 0, \"Income\": 0, \"Approved\": \"No\"}, {\"Age\": 33.5, \"Debt\": 1.75, \"CreditScore\": 4, \"Income\": 857, \"Approved\": \"Yes\"}, {\"Age\": 34.25, \"Debt\": 1.75, \"CreditScore\": 0, \"Income\": 0, \"Approved\": \"No\"}, {\"Age\": 33.67, \"Debt\": 1.25, \"CreditScore\": 0, \"Income\": 0, \"Approved\": \"No\"}, {\"Age\": 36.67, \"Debt\": 3.25, \"CreditScore\": 0, \"Income\": 639, \"Approved\": \"Yes\"}, {\"Age\": 33.58, \"Debt\": 2.75, \"CreditScore\": 6, \"Income\": 0, \"Approved\": \"Yes\"}, {\"Age\": 22.92, \"Debt\": 0.17, \"CreditScore\": 0, \"Income\": 0, \"Approved\": \"No\"}, {\"Age\": 29.42, \"Debt\": 1.25, \"CreditScore\": 0, \"Income\": 0, \"Approved\": \"No\"}, {\"Age\": 50.08, \"Debt\": 12.54, \"CreditScore\": 3, \"Income\": 0, \"Approved\": \"Yes\"}, {\"Age\": 31.08, \"Debt\": 3.085, \"CreditScore\": 2, \"Income\": 41, \"Approved\": \"No\"}, {\"Age\": 32.33, \"Debt\": 0.54, \"CreditScore\": 0, \"Income\": 11177, \"Approved\": \"Yes\"}, {\"Age\": 23.25, \"Debt\": 4.0, \"CreditScore\": 0, \"Income\": 0, \"Approved\": \"Yes\"}, {\"Age\": 17.33, \"Debt\": 9.5, \"CreditScore\": 10, \"Income\": 10, \"Approved\": \"No\"}, {\"Age\": 52.42, \"Debt\": 1.5, \"CreditScore\": 0, \"Income\": 350, \"Approved\": \"No\"}, {\"Age\": 22.92, \"Debt\": 11.585, \"CreditScore\": 0, \"Income\": 1349, \"Approved\": \"Yes\"}, {\"Age\": 32.25, \"Debt\": 0.165, \"CreditScore\": 1, \"Income\": 8000, \"Approved\": \"Yes\"}, {\"Age\": 25.42, \"Debt\": 1.125, \"CreditScore\": 2, \"Income\": 0, \"Approved\": \"No\"}, {\"Age\": 27.58, \"Debt\": 3.25, \"CreditScore\": 2, \"Income\": 1, \"Approved\": \"No\"}, {\"Age\": 16.0, \"Debt\": 0.165, \"CreditScore\": 2, \"Income\": 1, \"Approved\": \"No\"}, {\"Age\": 28.58, \"Debt\": 1.665, \"CreditScore\": 0, \"Income\": 0, \"Approved\": \"No\"}, {\"Age\": 23.08, \"Debt\": 11.5, \"CreditScore\": 11, \"Income\": 284, \"Approved\": \"Yes\"}, {\"Age\": 33.17, \"Debt\": 3.04, \"CreditScore\": 1, \"Income\": 18027, \"Approved\": \"Yes\"}, {\"Age\": 39.92, \"Debt\": 0.54, \"CreditScore\": 3, \"Income\": 1000, \"Approved\": \"Yes\"}, {\"Age\": 31.33, \"Debt\": 19.5, \"CreditScore\": 16, \"Income\": 5000, \"Approved\": \"Yes\"}, {\"Age\": 41.0, \"Debt\": 0.04, \"CreditScore\": 1, \"Income\": 0, \"Approved\": \"Yes\"}, {\"Age\": 32.25, \"Debt\": 14.0, \"CreditScore\": 2, \"Income\": 1, \"Approved\": \"No\"}, {\"Age\": 21.58, \"Debt\": 0.79, \"CreditScore\": 0, \"Income\": 0, \"Approved\": \"No\"}, {\"Age\": 38.67, \"Debt\": 0.21, \"CreditScore\": 0, \"Income\": 0, \"Approved\": \"Yes\"}, {\"Age\": 23.08, \"Debt\": 2.5, \"CreditScore\": 11, \"Income\": 2184, \"Approved\": \"Yes\"}, {\"Age\": 20.42, \"Debt\": 7.5, \"CreditScore\": 1, \"Income\": 234, \"Approved\": \"Yes\"}, {\"Age\": 33.75, \"Debt\": 2.75, \"CreditScore\": 0, \"Income\": 0, \"Approved\": \"No\"}, {\"Age\": 22.17, \"Debt\": 2.25, \"CreditScore\": 0, \"Income\": 10, \"Approved\": \"No\"}, {\"Age\": 35.75, \"Debt\": 2.415, \"CreditScore\": 2, \"Income\": 1, \"Approved\": \"No\"}, {\"Age\": 20.83, \"Debt\": 8.5, \"CreditScore\": 0, \"Income\": 351, \"Approved\": \"No\"}, {\"Age\": 57.08, \"Debt\": 19.5, \"CreditScore\": 7, \"Income\": 3000, \"Approved\": \"Yes\"}, {\"Age\": 18.92, \"Debt\": 9.25, \"CreditScore\": 4, \"Income\": 500, \"Approved\": \"Yes\"}, {\"Age\": 16.25, \"Debt\": 0.835, \"CreditScore\": 0, \"Income\": 0, \"Approved\": \"No\"}, {\"Age\": 43.17, \"Debt\": 2.25, \"CreditScore\": 0, \"Income\": 0, \"Approved\": \"No\"}, {\"Age\": 28.17, \"Debt\": 0.375, \"CreditScore\": 4, \"Income\": 0, \"Approved\": \"Yes\"}, {\"Age\": 30.0, \"Debt\": 5.29, \"CreditScore\": 5, \"Income\": 500, \"Approved\": \"Yes\"}, {\"Age\": 19.67, \"Debt\": 0.375, \"CreditScore\": 2, \"Income\": 0, \"Approved\": \"Yes\"}, {\"Age\": 22.08, \"Debt\": 0.83, \"CreditScore\": 0, \"Income\": 0, \"Approved\": \"Yes\"}, {\"Age\": 28.58, \"Debt\": 3.75, \"CreditScore\": 1, \"Income\": 154, \"Approved\": \"No\"}, {\"Age\": 57.42, \"Debt\": 8.5, \"CreditScore\": 3, \"Income\": 0, \"Approved\": \"Yes\"}, {\"Age\": 41.42, \"Debt\": 5.0, \"CreditScore\": 6, \"Income\": 0, \"Approved\": \"Yes\"}, {\"Age\": 28.67, \"Debt\": 9.335, \"CreditScore\": 6, \"Income\": 168, \"Approved\": \"Yes\"}, {\"Age\": 24.75, \"Debt\": 0.54, \"CreditScore\": 0, \"Income\": 1, \"Approved\": \"No\"}, {\"Age\": 23.5, \"Debt\": 9.0, \"CreditScore\": 5, \"Income\": 0, \"Approved\": \"Yes\"}, {\"Age\": 35.17, \"Debt\": 25.125, \"CreditScore\": 1, \"Income\": 500, \"Approved\": \"Yes\"}, {\"Age\": 34.5, \"Debt\": 4.04, \"CreditScore\": 7, \"Income\": 0, \"Approved\": \"Yes\"}, {\"Age\": 16.08, \"Debt\": 0.75, \"CreditScore\": 5, \"Income\": 690, \"Approved\": \"Yes\"}, {\"Age\": 24.58, \"Debt\": 12.5, \"CreditScore\": 0, \"Income\": 0, \"Approved\": \"No\"}, {\"Age\": 29.5, \"Debt\": 1.085, \"CreditScore\": 0, \"Income\": 13, \"Approved\": \"No\"}, {\"Age\": 16.33, \"Debt\": 0.21, \"CreditScore\": 0, \"Income\": 1, \"Approved\": \"No\"}, {\"Age\": 21.83, \"Debt\": 1.54, \"CreditScore\": 0, \"Income\": 0, \"Approved\": \"No\"}, {\"Age\": 64.08, \"Debt\": 0.165, \"CreditScore\": 1, \"Income\": 100, \"Approved\": \"Yes\"}, {\"Age\": 42.75, \"Debt\": 4.085, \"CreditScore\": 0, \"Income\": 100, \"Approved\": \"No\"}, {\"Age\": 29.58, \"Debt\": 1.75, \"CreditScore\": 0, \"Income\": 0, \"Approved\": \"No\"}, {\"Age\": 24.75, \"Debt\": 3.0, \"CreditScore\": 19, \"Income\": 500, \"Approved\": \"Yes\"}, {\"Age\": 39.58, \"Debt\": 5.0, \"CreditScore\": 2, \"Income\": 1, \"Approved\": \"No\"}, {\"Age\": 23.92, \"Debt\": 0.585, \"CreditScore\": 0, \"Income\": 1, \"Approved\": \"No\"}, {\"Age\": 19.58, \"Debt\": 0.665, \"CreditScore\": 1, \"Income\": 2, \"Approved\": \"No\"}, {\"Age\": 40.58, \"Debt\": 5.0, \"CreditScore\": 7, \"Income\": 3065, \"Approved\": \"Yes\"}, {\"Age\": 30.58, \"Debt\": 2.71, \"CreditScore\": 0, \"Income\": 0, \"Approved\": \"No\"}, {\"Age\": 25.67, \"Debt\": 0.29, \"CreditScore\": 0, \"Income\": 0, \"Approved\": \"No\"}, {\"Age\": 28.46, \"Debt\": 5.0, \"CreditScore\": 0, \"Income\": 0, \"Approved\": \"No\"}, {\"Age\": 31.25, \"Debt\": 2.835, \"CreditScore\": 5, \"Income\": 146, \"Approved\": \"No\"}, {\"Age\": 37.33, \"Debt\": 2.5, \"CreditScore\": 0, \"Income\": 246, \"Approved\": \"No\"}, {\"Age\": 28.25, \"Debt\": 5.125, \"CreditScore\": 2, \"Income\": 7, \"Approved\": \"Yes\"}, {\"Age\": 26.75, \"Debt\": 2.0, \"CreditScore\": 0, \"Income\": 0, \"Approved\": \"No\"}, {\"Age\": 18.42, \"Debt\": 10.415, \"CreditScore\": 0, \"Income\": 375, \"Approved\": \"No\"}, {\"Age\": 67.75, \"Debt\": 5.5, \"CreditScore\": 1, \"Income\": 0, \"Approved\": \"Yes\"}, {\"Age\": 18.83, \"Debt\": 0.0, \"CreditScore\": 0, \"Income\": 1, \"Approved\": \"No\"}, {\"Age\": 48.17, \"Debt\": 7.625, \"CreditScore\": 12, \"Income\": 790, \"Approved\": \"Yes\"}, {\"Age\": 48.17, \"Debt\": 3.5, \"CreditScore\": 0, \"Income\": 0, \"Approved\": \"Yes\"}, {\"Age\": 65.17, \"Debt\": 14.0, \"CreditScore\": 11, \"Income\": 1400, \"Approved\": \"Yes\"}, {\"Age\": 40.58, \"Debt\": 3.29, \"CreditScore\": 0, \"Income\": 0, \"Approved\": \"No\"}, {\"Age\": 22.0, \"Debt\": 0.79, \"CreditScore\": 1, \"Income\": 283, \"Approved\": \"No\"}, {\"Age\": 23.5, \"Debt\": 3.165, \"CreditScore\": 1, \"Income\": 80, \"Approved\": \"No\"}, {\"Age\": 21.08, \"Debt\": 4.125, \"CreditScore\": 0, \"Income\": 100, \"Approved\": \"No\"}, {\"Age\": 23.08, \"Debt\": 0.0, \"CreditScore\": 11, \"Income\": 0, \"Approved\": \"No\"}, {\"Age\": 51.42, \"Debt\": 0.04, \"CreditScore\": 0, \"Income\": 3000, \"Approved\": \"Yes\"}, {\"Age\": 20.0, \"Debt\": 0.0, \"CreditScore\": 0, \"Income\": 0, \"Approved\": \"No\"}, {\"Age\": 49.17, \"Debt\": 2.29, \"CreditScore\": 0, \"Income\": 3, \"Approved\": \"No\"}, {\"Age\": 23.58, \"Debt\": 0.83, \"CreditScore\": 1, \"Income\": 11, \"Approved\": \"No\"}, {\"Age\": 20.17, \"Debt\": 9.25, \"CreditScore\": 3, \"Income\": 28, \"Approved\": \"Yes\"}, {\"Age\": 47.25, \"Debt\": 0.75, \"CreditScore\": 1, \"Income\": 892, \"Approved\": \"Yes\"}, {\"Age\": 24.5, \"Debt\": 2.415, \"CreditScore\": 0, \"Income\": 0, \"Approved\": \"No\"}, {\"Age\": 34.08, \"Debt\": 6.5, \"CreditScore\": 0, \"Income\": 0, \"Approved\": \"No\"}, {\"Age\": 34.75, \"Debt\": 15.0, \"CreditScore\": 9, \"Income\": 134, \"Approved\": \"Yes\"}, {\"Age\": 20.08, \"Debt\": 0.125, \"CreditScore\": 1, \"Income\": 768, \"Approved\": \"Yes\"}, {\"Age\": 23.42, \"Debt\": 0.585, \"CreditScore\": 0, \"Income\": 0, \"Approved\": \"No\"}, {\"Age\": 34.17, \"Debt\": 1.54, \"CreditScore\": 1, \"Income\": 50000, \"Approved\": \"Yes\"}, {\"Age\": 25.58, \"Debt\": 0.335, \"CreditScore\": 0, \"Income\": 0, \"Approved\": \"No\"}, {\"Age\": 71.58, \"Debt\": 0.0, \"CreditScore\": 0, \"Income\": 0, \"Approved\": \"Yes\"}, {\"Age\": 54.42, \"Debt\": 0.5, \"CreditScore\": 0, \"Income\": 314, \"Approved\": \"Yes\"}, {\"Age\": 19.17, \"Debt\": 0.585, \"CreditScore\": 0, \"Income\": 0, \"Approved\": \"No\"}, {\"Age\": 27.0, \"Debt\": 0.75, \"CreditScore\": 3, \"Income\": 150, \"Approved\": \"Yes\"}, {\"Age\": 35.17, \"Debt\": 4.5, \"CreditScore\": 0, \"Income\": 0, \"Approved\": \"Yes\"}, {\"Age\": 17.42, \"Debt\": 6.5, \"CreditScore\": 0, \"Income\": 100, \"Approved\": \"No\"}, {\"Age\": 33.67, \"Debt\": 2.165, \"CreditScore\": 0, \"Income\": 0, \"Approved\": \"No\"}, {\"Age\": 20.67, \"Debt\": 0.835, \"CreditScore\": 0, \"Income\": 0, \"Approved\": \"No\"}, {\"Age\": 16.92, \"Debt\": 0.5, \"CreditScore\": 6, \"Income\": 35, \"Approved\": \"No\"}, {\"Age\": 25.0, \"Debt\": 0.875, \"CreditScore\": 0, \"Income\": 5860, \"Approved\": \"Yes\"}, {\"Age\": 29.83, \"Debt\": 3.5, \"CreditScore\": 0, \"Income\": 0, \"Approved\": \"No\"}, {\"Age\": 36.75, \"Debt\": 0.125, \"CreditScore\": 0, \"Income\": 113, \"Approved\": \"Yes\"}, {\"Age\": 24.42, \"Debt\": 2.0, \"CreditScore\": 2, \"Income\": 1300, \"Approved\": \"No\"}, {\"Age\": 22.67, \"Debt\": 0.79, \"CreditScore\": 0, \"Income\": 0, \"Approved\": \"No\"}, {\"Age\": 56.5, \"Debt\": 16.0, \"CreditScore\": 15, \"Income\": 247, \"Approved\": \"Yes\"}, {\"Age\": 34.0, \"Debt\": 4.5, \"CreditScore\": 0, \"Income\": 0, \"Approved\": \"No\"}, {\"Age\": 48.58, \"Debt\": 0.205, \"CreditScore\": 11, \"Income\": 2732, \"Approved\": \"Yes\"}, {\"Age\": 18.08, \"Debt\": 0.375, \"CreditScore\": 0, \"Income\": 0, \"Approved\": \"Yes\"}, {\"Age\": 56.75, \"Debt\": 12.25, \"CreditScore\": 4, \"Income\": 0, \"Approved\": \"Yes\"}, {\"Age\": 28.17, \"Debt\": 0.125, \"CreditScore\": 0, \"Income\": 2100, \"Approved\": \"No\"}, {\"Age\": 34.0, \"Debt\": 5.5, \"CreditScore\": 0, \"Income\": 0, \"Approved\": \"No\"}, {\"Age\": 26.58, \"Debt\": 2.54, \"CreditScore\": 0, \"Income\": 60, \"Approved\": \"No\"}, {\"Age\": 25.25, \"Debt\": 1.0, \"CreditScore\": 0, \"Income\": 0, \"Approved\": \"No\"}, {\"Age\": 18.25, \"Debt\": 0.165, \"CreditScore\": 0, \"Income\": 0, \"Approved\": \"No\"}, {\"Age\": 47.17, \"Debt\": 5.835, \"CreditScore\": 0, \"Income\": 150, \"Approved\": \"No\"}, {\"Age\": 69.17, \"Debt\": 9.0, \"CreditScore\": 1, \"Income\": 6, \"Approved\": \"No\"}, {\"Age\": 23.0, \"Debt\": 0.75, \"CreditScore\": 0, \"Income\": 0, \"Approved\": \"No\"}, {\"Age\": 30.58, \"Debt\": 10.665, \"CreditScore\": 12, \"Income\": 3, \"Approved\": \"No\"}, {\"Age\": 41.0, \"Debt\": 2.04, \"CreditScore\": 23, \"Income\": 1236, \"Approved\": \"Yes\"}, {\"Age\": 28.46, \"Debt\": 0.375, \"CreditScore\": 0, \"Income\": 0, \"Approved\": \"No\"}, {\"Age\": 19.75, \"Debt\": 0.75, \"CreditScore\": 5, \"Income\": 5, \"Approved\": \"No\"}, {\"Age\": 30.25, \"Debt\": 5.5, \"CreditScore\": 0, \"Income\": 0, \"Approved\": \"No\"}, {\"Age\": 28.25, \"Debt\": 0.875, \"CreditScore\": 3, \"Income\": 0, \"Approved\": \"Yes\"}, {\"Age\": 20.5, \"Debt\": 11.835, \"CreditScore\": 0, \"Income\": 0, \"Approved\": \"Yes\"}, {\"Age\": 22.67, \"Debt\": 1.585, \"CreditScore\": 6, \"Income\": 0, \"Approved\": \"Yes\"}, {\"Age\": 21.5, \"Debt\": 11.5, \"CreditScore\": 0, \"Income\": 68, \"Approved\": \"No\"}, {\"Age\": 28.92, \"Debt\": 0.375, \"CreditScore\": 0, \"Income\": 140, \"Approved\": \"No\"}, {\"Age\": 80.25, \"Debt\": 5.5, \"CreditScore\": 0, \"Income\": 340, \"Approved\": \"No\"}, {\"Age\": 27.17, \"Debt\": 1.25, \"CreditScore\": 1, \"Income\": 300, \"Approved\": \"No\"}, {\"Age\": 31.25, \"Debt\": 3.75, \"CreditScore\": 9, \"Income\": 0, \"Approved\": \"Yes\"}, {\"Age\": 27.58, \"Debt\": 2.04, \"CreditScore\": 3, \"Income\": 560, \"Approved\": \"Yes\"}, {\"Age\": 30.42, \"Debt\": 1.375, \"CreditScore\": 3, \"Income\": 33, \"Approved\": \"No\"}, {\"Age\": 45.83, \"Debt\": 10.5, \"CreditScore\": 7, \"Income\": 0, \"Approved\": \"Yes\"}, {\"Age\": 25.67, \"Debt\": 2.21, \"CreditScore\": 0, \"Income\": 0, \"Approved\": \"No\"}, {\"Age\": 17.08, \"Debt\": 0.085, \"CreditScore\": 0, \"Income\": 722, \"Approved\": \"No\"}, {\"Age\": 48.17, \"Debt\": 1.335, \"CreditScore\": 0, \"Income\": 120, \"Approved\": \"No\"}, {\"Age\": 17.58, \"Debt\": 9.0, \"CreditScore\": 0, \"Income\": 0, \"Approved\": \"Yes\"}, {\"Age\": 24.5, \"Debt\": 1.75, \"CreditScore\": 0, \"Income\": 0, \"Approved\": \"No\"}, {\"Age\": 27.83, \"Debt\": 1.54, \"CreditScore\": 5, \"Income\": 3, \"Approved\": \"Yes\"}, {\"Age\": 36.67, \"Debt\": 2.0, \"CreditScore\": 0, \"Income\": 0, \"Approved\": \"No\"}, {\"Age\": 45.33, \"Debt\": 1.0, \"CreditScore\": 0, \"Income\": 0, \"Approved\": \"No\"}, {\"Age\": 19.17, \"Debt\": 4.0, \"CreditScore\": 0, \"Income\": 1000, \"Approved\": \"No\"}, {\"Age\": 26.92, \"Debt\": 13.5, \"CreditScore\": 2, \"Income\": 5000, \"Approved\": \"Yes\"}, {\"Age\": 25.5, \"Debt\": 0.375, \"CreditScore\": 3, \"Income\": 15108, \"Approved\": \"Yes\"}, {\"Age\": 28.46, \"Debt\": 10.5, \"CreditScore\": 0, \"Income\": 0, \"Approved\": \"Yes\"}, {\"Age\": 26.92, \"Debt\": 2.25, \"CreditScore\": 0, \"Income\": 4000, \"Approved\": \"No\"}, {\"Age\": 23.17, \"Debt\": 0.0, \"CreditScore\": 0, \"Income\": 0, \"Approved\": \"Yes\"}, {\"Age\": 24.75, \"Debt\": 13.665, \"CreditScore\": 0, \"Income\": 1, \"Approved\": \"No\"}, {\"Age\": 26.0, \"Debt\": 1.0, \"CreditScore\": 0, \"Income\": 0, \"Approved\": \"Yes\"}, {\"Age\": 20.25, \"Debt\": 9.96, \"CreditScore\": 0, \"Income\": 0, \"Approved\": \"Yes\"}, {\"Age\": 27.58, \"Debt\": 3.0, \"CreditScore\": 1, \"Income\": 10, \"Approved\": \"No\"}, {\"Age\": 25.33, \"Debt\": 2.085, \"CreditScore\": 0, \"Income\": 1, \"Approved\": \"No\"}, {\"Age\": 48.75, \"Debt\": 26.335, \"CreditScore\": 0, \"Income\": 0, \"Approved\": \"No\"}, {\"Age\": 58.58, \"Debt\": 2.71, \"CreditScore\": 0, \"Income\": 0, \"Approved\": \"No\"}, {\"Age\": 35.25, \"Debt\": 3.165, \"CreditScore\": 0, \"Income\": 0, \"Approved\": \"No\"}, {\"Age\": 19.5, \"Debt\": 0.165, \"CreditScore\": 0, \"Income\": 0, \"Approved\": \"No\"}, {\"Age\": 40.0, \"Debt\": 6.5, \"CreditScore\": 1, \"Income\": 500, \"Approved\": \"Yes\"}, {\"Age\": 41.92, \"Debt\": 0.42, \"CreditScore\": 6, \"Income\": 948, \"Approved\": \"Yes\"}, {\"Age\": 28.42, \"Debt\": 3.5, \"CreditScore\": 0, \"Income\": 0, \"Approved\": \"Yes\"}, {\"Age\": 36.75, \"Debt\": 4.71, \"CreditScore\": 0, \"Income\": 0, \"Approved\": \"No\"}, {\"Age\": 18.5, \"Debt\": 2.0, \"CreditScore\": 2, \"Income\": 300, \"Approved\": \"Yes\"}, {\"Age\": 18.17, \"Debt\": 10.25, \"CreditScore\": 0, \"Income\": 13, \"Approved\": \"No\"}, {\"Age\": 15.17, \"Debt\": 7.0, \"CreditScore\": 0, \"Income\": 0, \"Approved\": \"No\"}, {\"Age\": 32.75, \"Debt\": 1.5, \"CreditScore\": 3, \"Income\": 0, \"Approved\": \"Yes\"}, {\"Age\": 26.33, \"Debt\": 13.0, \"CreditScore\": 0, \"Income\": 1110, \"Approved\": \"No\"}, {\"Age\": 17.92, \"Debt\": 0.205, \"CreditScore\": 0, \"Income\": 750, \"Approved\": \"No\"}, {\"Age\": 48.5, \"Debt\": 4.25, \"CreditScore\": 0, \"Income\": 0, \"Approved\": \"Yes\"}, {\"Age\": 15.83, \"Debt\": 7.625, \"CreditScore\": 1, \"Income\": 160, \"Approved\": \"No\"}, {\"Age\": 28.0, \"Debt\": 2.0, \"CreditScore\": 2, \"Income\": 0, \"Approved\": \"Yes\"}, {\"Age\": 24.08, \"Debt\": 9.0, \"CreditScore\": 0, \"Income\": 0, \"Approved\": \"No\"}, {\"Age\": 32.33, \"Debt\": 2.5, \"CreditScore\": 0, \"Income\": 0, \"Approved\": \"No\"}, {\"Age\": 34.67, \"Debt\": 1.08, \"CreditScore\": 0, \"Income\": 0, \"Approved\": \"No\"}, {\"Age\": 23.25, \"Debt\": 1.5, \"CreditScore\": 3, \"Income\": 582, \"Approved\": \"Yes\"}, {\"Age\": 41.17, \"Debt\": 1.25, \"CreditScore\": 0, \"Income\": 195, \"Approved\": \"No\"}, {\"Age\": 38.42, \"Debt\": 0.705, \"CreditScore\": 2, \"Income\": 500, \"Approved\": \"No\"}, {\"Age\": 30.17, \"Debt\": 0.5, \"CreditScore\": 11, \"Income\": 540, \"Approved\": \"Yes\"}, {\"Age\": 17.08, \"Debt\": 3.29, \"CreditScore\": 0, \"Income\": 2, \"Approved\": \"No\"}, {\"Age\": 26.67, \"Debt\": 1.75, \"CreditScore\": 5, \"Income\": 5777, \"Approved\": \"Yes\"}, {\"Age\": 23.0, \"Debt\": 0.75, \"CreditScore\": 0, \"Income\": 0, \"Approved\": \"No\"}, {\"Age\": 25.17, \"Debt\": 3.0, \"CreditScore\": 1, \"Income\": 22, \"Approved\": \"No\"}, {\"Age\": 22.92, \"Debt\": 1.25, \"CreditScore\": 0, \"Income\": 809, \"Approved\": \"No\"}, {\"Age\": 23.08, \"Debt\": 11.5, \"CreditScore\": 9, \"Income\": 742, \"Approved\": \"Yes\"}, {\"Age\": 32.42, \"Debt\": 3.0, \"CreditScore\": 0, \"Income\": 0, \"Approved\": \"No\"}, {\"Age\": 47.67, \"Debt\": 0.29, \"CreditScore\": 20, \"Income\": 15000, \"Approved\": \"Yes\"}, {\"Age\": 43.17, \"Debt\": 5.0, \"CreditScore\": 0, \"Income\": 0, \"Approved\": \"No\"}, {\"Age\": 28.5, \"Debt\": 1.0, \"CreditScore\": 2, \"Income\": 500, \"Approved\": \"No\"}, {\"Age\": 48.58, \"Debt\": 6.5, \"CreditScore\": 0, \"Income\": 0, \"Approved\": \"Yes\"}, {\"Age\": 25.0, \"Debt\": 12.5, \"CreditScore\": 0, \"Income\": 0, \"Approved\": \"Yes\"}, {\"Age\": 28.75, \"Debt\": 3.75, \"CreditScore\": 1, \"Income\": 0, \"Approved\": \"Yes\"}, {\"Age\": 22.83, \"Debt\": 2.29, \"CreditScore\": 7, \"Income\": 2384, \"Approved\": \"Yes\"}, {\"Age\": 46.08, \"Debt\": 3.0, \"CreditScore\": 8, \"Income\": 4159, \"Approved\": \"Yes\"}, {\"Age\": 22.67, \"Debt\": 0.75, \"CreditScore\": 2, \"Income\": 394, \"Approved\": \"No\"}, {\"Age\": 54.58, \"Debt\": 9.415, \"CreditScore\": 11, \"Income\": 300, \"Approved\": \"Yes\"}, {\"Age\": 39.08, \"Debt\": 4.0, \"CreditScore\": 0, \"Income\": 0, \"Approved\": \"No\"}, {\"Age\": 24.5, \"Debt\": 0.5, \"CreditScore\": 0, \"Income\": 824, \"Approved\": \"Yes\"}, {\"Age\": 39.5, \"Debt\": 1.625, \"CreditScore\": 0, \"Income\": 316, \"Approved\": \"No\"}, {\"Age\": 19.42, \"Debt\": 6.5, \"CreditScore\": 7, \"Income\": 2954, \"Approved\": \"Yes\"}, {\"Age\": 35.17, \"Debt\": 2.5, \"CreditScore\": 7, \"Income\": 1270, \"Approved\": \"Yes\"}, {\"Age\": 28.46, \"Debt\": 0.04, \"CreditScore\": 0, \"Income\": 0, \"Approved\": \"No\"}, {\"Age\": 35.0, \"Debt\": 2.5, \"CreditScore\": 0, \"Income\": 0, \"Approved\": \"No\"}, {\"Age\": 23.17, \"Debt\": 11.125, \"CreditScore\": 1, \"Income\": 0, \"Approved\": \"Yes\"}, {\"Age\": 28.0, \"Debt\": 3.0, \"CreditScore\": 0, \"Income\": 67, \"Approved\": \"No\"}, {\"Age\": 17.08, \"Debt\": 0.25, \"CreditScore\": 4, \"Income\": 8, \"Approved\": \"No\"}, {\"Age\": 24.5, \"Debt\": 1.04, \"CreditScore\": 3, \"Income\": 147, \"Approved\": \"No\"}, {\"Age\": 37.75, \"Debt\": 5.5, \"CreditScore\": 0, \"Income\": 0, \"Approved\": \"Yes\"}, {\"Age\": 30.08, \"Debt\": 1.04, \"CreditScore\": 10, \"Income\": 28, \"Approved\": \"No\"}, {\"Age\": 44.25, \"Debt\": 0.5, \"CreditScore\": 0, \"Income\": 0, \"Approved\": \"No\"}, {\"Age\": 31.92, \"Debt\": 4.46, \"CreditScore\": 3, \"Income\": 300, \"Approved\": \"Yes\"}, {\"Age\": 28.58, \"Debt\": 3.625, \"CreditScore\": 0, \"Income\": 0, \"Approved\": \"No\"}, {\"Age\": 33.75, \"Debt\": 0.75, \"CreditScore\": 3, \"Income\": 0, \"Approved\": \"No\"}, {\"Age\": 23.0, \"Debt\": 0.625, \"CreditScore\": 0, \"Income\": 1, \"Approved\": \"No\"}, {\"Age\": 26.67, \"Debt\": 2.71, \"CreditScore\": 1, \"Income\": 0, \"Approved\": \"Yes\"}, {\"Age\": 35.75, \"Debt\": 0.915, \"CreditScore\": 4, \"Income\": 1583, \"Approved\": \"Yes\"}, {\"Age\": 44.17, \"Debt\": 6.665, \"CreditScore\": 3, \"Income\": 0, \"Approved\": \"Yes\"}, {\"Age\": 28.75, \"Debt\": 1.165, \"CreditScore\": 0, \"Income\": 0, \"Approved\": \"No\"}, {\"Age\": 25.75, \"Debt\": 0.75, \"CreditScore\": 0, \"Income\": 23, \"Approved\": \"Yes\"}, {\"Age\": 23.25, \"Debt\": 5.875, \"CreditScore\": 10, \"Income\": 245, \"Approved\": \"Yes\"}, {\"Age\": 22.5, \"Debt\": 11.0, \"CreditScore\": 0, \"Income\": 0, \"Approved\": \"No\"}, {\"Age\": 33.67, \"Debt\": 0.375, \"CreditScore\": 0, \"Income\": 44, \"Approved\": \"Yes\"}, {\"Age\": 24.33, \"Debt\": 2.5, \"CreditScore\": 0, \"Income\": 456, \"Approved\": \"No\"}, {\"Age\": 42.83, \"Debt\": 1.25, \"CreditScore\": 1, \"Income\": 112, \"Approved\": \"No\"}, {\"Age\": 13.75, \"Debt\": 4.0, \"CreditScore\": 2, \"Income\": 1000, \"Approved\": \"Yes\"}]}}, {\"mode\": \"vega-lite\"});\n",
       "</script>"
      ],
      "text/plain": [
       "alt.Chart(...)"
      ]
     },
     "execution_count": 12,
     "metadata": {},
     "output_type": "execute_result"
    }
   ],
   "source": [
    "#Debt vs Credit Score\n",
    "scatterplot_debt_creditscore = alt.Chart(data_train, title = \"Debt vs Credit Score\").mark_point().encode(\n",
    "    y=alt.Y(\"Debt\").title(\"Debt\").scale(domain=[0,40],clamp=True),\n",
    "    x=alt.X(\"CreditScore\").scale(domain=[0,20],clamp= True),\n",
    "    color=alt.Color(\"Approved\")\n",
    ")\n",
    "scatterplot_debt_creditscore"
   ]
  },
  {
   "cell_type": "markdown",
   "id": "98a608fa",
   "metadata": {},
   "source": [
    "Figure 5. A scatter plot that shows a relationship between debt and credit score and its correlation to credit card approcal using training data. "
   ]
  },
  {
   "cell_type": "code",
   "execution_count": 13,
   "id": "e1e57a50-3e28-4bac-9238-1b71504e7ef8",
   "metadata": {
    "tags": []
   },
   "outputs": [
    {
     "data": {
      "text/html": [
       "\n",
       "<style>\n",
       "  #altair-viz-88c0c847db6f44beb2d60fc20ee2ed78.vega-embed {\n",
       "    width: 100%;\n",
       "    display: flex;\n",
       "  }\n",
       "\n",
       "  #altair-viz-88c0c847db6f44beb2d60fc20ee2ed78.vega-embed details,\n",
       "  #altair-viz-88c0c847db6f44beb2d60fc20ee2ed78.vega-embed details summary {\n",
       "    position: relative;\n",
       "  }\n",
       "</style>\n",
       "<div id=\"altair-viz-88c0c847db6f44beb2d60fc20ee2ed78\"></div>\n",
       "<script type=\"text/javascript\">\n",
       "  var VEGA_DEBUG = (typeof VEGA_DEBUG == \"undefined\") ? {} : VEGA_DEBUG;\n",
       "  (function(spec, embedOpt){\n",
       "    let outputDiv = document.currentScript.previousElementSibling;\n",
       "    if (outputDiv.id !== \"altair-viz-88c0c847db6f44beb2d60fc20ee2ed78\") {\n",
       "      outputDiv = document.getElementById(\"altair-viz-88c0c847db6f44beb2d60fc20ee2ed78\");\n",
       "    }\n",
       "    const paths = {\n",
       "      \"vega\": \"https://cdn.jsdelivr.net/npm/vega@5?noext\",\n",
       "      \"vega-lib\": \"https://cdn.jsdelivr.net/npm/vega-lib?noext\",\n",
       "      \"vega-lite\": \"https://cdn.jsdelivr.net/npm/vega-lite@5.15.1?noext\",\n",
       "      \"vega-embed\": \"https://cdn.jsdelivr.net/npm/vega-embed@6?noext\",\n",
       "    };\n",
       "\n",
       "    function maybeLoadScript(lib, version) {\n",
       "      var key = `${lib.replace(\"-\", \"\")}_version`;\n",
       "      return (VEGA_DEBUG[key] == version) ?\n",
       "        Promise.resolve(paths[lib]) :\n",
       "        new Promise(function(resolve, reject) {\n",
       "          var s = document.createElement('script');\n",
       "          document.getElementsByTagName(\"head\")[0].appendChild(s);\n",
       "          s.async = true;\n",
       "          s.onload = () => {\n",
       "            VEGA_DEBUG[key] = version;\n",
       "            return resolve(paths[lib]);\n",
       "          };\n",
       "          s.onerror = () => reject(`Error loading script: ${paths[lib]}`);\n",
       "          s.src = paths[lib];\n",
       "        });\n",
       "    }\n",
       "\n",
       "    function showError(err) {\n",
       "      outputDiv.innerHTML = `<div class=\"error\" style=\"color:red;\">${err}</div>`;\n",
       "      throw err;\n",
       "    }\n",
       "\n",
       "    function displayChart(vegaEmbed) {\n",
       "      vegaEmbed(outputDiv, spec, embedOpt)\n",
       "        .catch(err => showError(`Javascript Error: ${err.message}<br>This usually means there's a typo in your chart specification. See the javascript console for the full traceback.`));\n",
       "    }\n",
       "\n",
       "    if(typeof define === \"function\" && define.amd) {\n",
       "      requirejs.config({paths});\n",
       "      require([\"vega-embed\"], displayChart, err => showError(`Error loading script: ${err.message}`));\n",
       "    } else {\n",
       "      maybeLoadScript(\"vega\", \"5\")\n",
       "        .then(() => maybeLoadScript(\"vega-lite\", \"5.15.1\"))\n",
       "        .then(() => maybeLoadScript(\"vega-embed\", \"6\"))\n",
       "        .catch(showError)\n",
       "        .then(() => displayChart(vegaEmbed));\n",
       "    }\n",
       "  })({\"config\": {\"view\": {\"continuousWidth\": 300, \"continuousHeight\": 300}}, \"data\": {\"name\": \"data-9b2ed57830432ad344c2b937c9697da2\"}, \"mark\": {\"type\": \"point\"}, \"encoding\": {\"color\": {\"field\": \"Approved\", \"type\": \"nominal\"}, \"x\": {\"field\": \"CreditScore\", \"scale\": {\"domain\": [0, 20], \"clamp\": true}, \"title\": \"Credit Score\", \"type\": \"quantitative\"}, \"y\": {\"field\": \"Income\", \"scale\": {\"domain\": [0, 10000], \"clamp\": true}, \"type\": \"quantitative\"}}, \"title\": \"Income vs Credit Score\", \"$schema\": \"https://vega.github.io/schema/vega-lite/v5.15.1.json\", \"datasets\": {\"data-9b2ed57830432ad344c2b937c9697da2\": [{\"Age\": 29.58, \"Debt\": 4.75, \"CreditScore\": 1, \"Income\": 68, \"Approved\": \"No\"}, {\"Age\": 25.67, \"Debt\": 12.5, \"CreditScore\": 67, \"Income\": 258, \"Approved\": \"Yes\"}, {\"Age\": 22.5, \"Debt\": 11.5, \"CreditScore\": 0, \"Income\": 4000, \"Approved\": \"No\"}, {\"Age\": 39.33, \"Debt\": 5.875, \"CreditScore\": 14, \"Income\": 0, \"Approved\": \"Yes\"}, {\"Age\": 22.17, \"Debt\": 12.125, \"CreditScore\": 2, \"Income\": 173, \"Approved\": \"No\"}, {\"Age\": 47.75, \"Debt\": 8.0, \"CreditScore\": 6, \"Income\": 1260, \"Approved\": \"Yes\"}, {\"Age\": 18.83, \"Debt\": 3.54, \"CreditScore\": 0, \"Income\": 1, \"Approved\": \"No\"}, {\"Age\": 32.83, \"Debt\": 2.5, \"CreditScore\": 6, \"Income\": 2072, \"Approved\": \"Yes\"}, {\"Age\": 34.83, \"Debt\": 2.5, \"CreditScore\": 0, \"Income\": 0, \"Approved\": \"No\"}, {\"Age\": 65.42, \"Debt\": 11.0, \"CreditScore\": 7, \"Income\": 0, \"Approved\": \"Yes\"}, {\"Age\": 18.58, \"Debt\": 5.71, \"CreditScore\": 0, \"Income\": 0, \"Approved\": \"No\"}, {\"Age\": 24.08, \"Debt\": 0.5, \"CreditScore\": 1, \"Income\": 678, \"Approved\": \"Yes\"}, {\"Age\": 32.0, \"Debt\": 6.0, \"CreditScore\": 0, \"Income\": 0, \"Approved\": \"No\"}, {\"Age\": 43.0, \"Debt\": 0.29, \"CreditScore\": 8, \"Income\": 375, \"Approved\": \"Yes\"}, {\"Age\": 24.58, \"Debt\": 1.25, \"CreditScore\": 0, \"Income\": 0, \"Approved\": \"No\"}, {\"Age\": 27.25, \"Debt\": 1.585, \"CreditScore\": 12, \"Income\": 713, \"Approved\": \"Yes\"}, {\"Age\": 54.33, \"Debt\": 6.75, \"CreditScore\": 11, \"Income\": 284, \"Approved\": \"Yes\"}, {\"Age\": 43.08, \"Debt\": 0.375, \"CreditScore\": 8, \"Income\": 162, \"Approved\": \"Yes\"}, {\"Age\": 29.5, \"Debt\": 2.0, \"CreditScore\": 0, \"Income\": 17, \"Approved\": \"No\"}, {\"Age\": 28.5, \"Debt\": 3.04, \"CreditScore\": 1, \"Income\": 0, \"Approved\": \"Yes\"}, {\"Age\": 28.92, \"Debt\": 15.0, \"CreditScore\": 11, \"Income\": 2283, \"Approved\": \"Yes\"}, {\"Age\": 22.08, \"Debt\": 2.335, \"CreditScore\": 0, \"Income\": 0, \"Approved\": \"No\"}, {\"Age\": 47.0, \"Debt\": 13.0, \"CreditScore\": 9, \"Income\": 0, \"Approved\": \"Yes\"}, {\"Age\": 26.83, \"Debt\": 0.54, \"CreditScore\": 0, \"Income\": 0, \"Approved\": \"No\"}, {\"Age\": 21.17, \"Debt\": 0.0, \"CreditScore\": 0, \"Income\": 0, \"Approved\": \"No\"}, {\"Age\": 20.42, \"Debt\": 0.835, \"CreditScore\": 1, \"Income\": 0, \"Approved\": \"Yes\"}, {\"Age\": 22.58, \"Debt\": 10.75, \"CreditScore\": 5, \"Income\": 560, \"Approved\": \"Yes\"}, {\"Age\": 36.75, \"Debt\": 5.125, \"CreditScore\": 0, \"Income\": 4000, \"Approved\": \"Yes\"}, {\"Age\": 19.17, \"Debt\": 5.415, \"CreditScore\": 0, \"Income\": 484, \"Approved\": \"No\"}, {\"Age\": 53.33, \"Debt\": 0.165, \"CreditScore\": 0, \"Income\": 27, \"Approved\": \"No\"}, {\"Age\": 22.67, \"Debt\": 2.54, \"CreditScore\": 0, \"Income\": 0, \"Approved\": \"Yes\"}, {\"Age\": 57.83, \"Debt\": 7.04, \"CreditScore\": 6, \"Income\": 1332, \"Approved\": \"Yes\"}, {\"Age\": 36.67, \"Debt\": 4.415, \"CreditScore\": 10, \"Income\": 0, \"Approved\": \"Yes\"}, {\"Age\": 29.67, \"Debt\": 1.415, \"CreditScore\": 1, \"Income\": 100, \"Approved\": \"Yes\"}, {\"Age\": 16.08, \"Debt\": 0.335, \"CreditScore\": 1, \"Income\": 126, \"Approved\": \"No\"}, {\"Age\": 17.58, \"Debt\": 10.0, \"CreditScore\": 1, \"Income\": 1, \"Approved\": \"No\"}, {\"Age\": 41.33, \"Debt\": 0.0, \"CreditScore\": 0, \"Income\": 0, \"Approved\": \"Yes\"}, {\"Age\": 22.67, \"Debt\": 10.5, \"CreditScore\": 0, \"Income\": 0, \"Approved\": \"Yes\"}, {\"Age\": 18.92, \"Debt\": 9.0, \"CreditScore\": 2, \"Income\": 591, \"Approved\": \"Yes\"}, {\"Age\": 32.17, \"Debt\": 1.46, \"CreditScore\": 16, \"Income\": 2079, \"Approved\": \"Yes\"}, {\"Age\": 27.75, \"Debt\": 1.29, \"CreditScore\": 0, \"Income\": 0, \"Approved\": \"No\"}, {\"Age\": 24.5, \"Debt\": 13.335, \"CreditScore\": 0, \"Income\": 475, \"Approved\": \"No\"}, {\"Age\": 52.33, \"Debt\": 1.375, \"CreditScore\": 0, \"Income\": 100, \"Approved\": \"No\"}, {\"Age\": 18.0, \"Debt\": 0.165, \"CreditScore\": 0, \"Income\": 40, \"Approved\": \"Yes\"}, {\"Age\": 23.33, \"Debt\": 11.625, \"CreditScore\": 0, \"Income\": 300, \"Approved\": \"Yes\"}, {\"Age\": 21.75, \"Debt\": 11.75, \"CreditScore\": 0, \"Income\": 0, \"Approved\": \"No\"}, {\"Age\": 39.42, \"Debt\": 1.71, \"CreditScore\": 0, \"Income\": 0, \"Approved\": \"No\"}, {\"Age\": 20.08, \"Debt\": 0.25, \"CreditScore\": 0, \"Income\": 0, \"Approved\": \"No\"}, {\"Age\": 39.25, \"Debt\": 9.5, \"CreditScore\": 14, \"Income\": 4607, \"Approved\": \"Yes\"}, {\"Age\": 37.75, \"Debt\": 7.0, \"CreditScore\": 7, \"Income\": 5, \"Approved\": \"No\"}, {\"Age\": 51.92, \"Debt\": 6.5, \"CreditScore\": 0, \"Income\": 0, \"Approved\": \"No\"}, {\"Age\": 21.83, \"Debt\": 11.0, \"CreditScore\": 6, \"Income\": 0, \"Approved\": \"Yes\"}, {\"Age\": 28.33, \"Debt\": 5.0, \"CreditScore\": 0, \"Income\": 0, \"Approved\": \"Yes\"}, {\"Age\": 27.83, \"Debt\": 1.0, \"CreditScore\": 0, \"Income\": 537, \"Approved\": \"No\"}, {\"Age\": 28.46, \"Debt\": 4.0, \"CreditScore\": 0, \"Income\": 0, \"Approved\": \"No\"}, {\"Age\": 29.42, \"Debt\": 1.25, \"CreditScore\": 2, \"Income\": 108, \"Approved\": \"No\"}, {\"Age\": 52.5, \"Debt\": 7.0, \"CreditScore\": 0, \"Income\": 0, \"Approved\": \"No\"}, {\"Age\": 21.83, \"Debt\": 0.25, \"CreditScore\": 0, \"Income\": 0, \"Approved\": \"Yes\"}, {\"Age\": 20.0, \"Debt\": 7.0, \"CreditScore\": 0, \"Income\": 0, \"Approved\": \"No\"}, {\"Age\": 57.58, \"Debt\": 2.0, \"CreditScore\": 1, \"Income\": 10, \"Approved\": \"No\"}, {\"Age\": 29.25, \"Debt\": 14.79, \"CreditScore\": 5, \"Income\": 0, \"Approved\": \"Yes\"}, {\"Age\": 40.92, \"Debt\": 0.835, \"CreditScore\": 0, \"Income\": 1, \"Approved\": \"No\"}, {\"Age\": 30.83, \"Debt\": 0.0, \"CreditScore\": 1, \"Income\": 0, \"Approved\": \"Yes\"}, {\"Age\": 38.58, \"Debt\": 5.0, \"CreditScore\": 0, \"Income\": 0, \"Approved\": \"No\"}, {\"Age\": 24.83, \"Debt\": 4.5, \"CreditScore\": 0, \"Income\": 6, \"Approved\": \"No\"}, {\"Age\": 25.75, \"Debt\": 0.5, \"CreditScore\": 5, \"Income\": 0, \"Approved\": \"Yes\"}, {\"Age\": 21.17, \"Debt\": 0.875, \"CreditScore\": 0, \"Income\": 204, \"Approved\": \"No\"}, {\"Age\": 16.92, \"Debt\": 0.335, \"CreditScore\": 0, \"Income\": 0, \"Approved\": \"No\"}, {\"Age\": 32.75, \"Debt\": 2.335, \"CreditScore\": 0, \"Income\": 0, \"Approved\": \"No\"}, {\"Age\": 60.08, \"Debt\": 14.5, \"CreditScore\": 15, \"Income\": 1000, \"Approved\": \"Yes\"}, {\"Age\": 34.08, \"Debt\": 2.5, \"CreditScore\": 0, \"Income\": 16, \"Approved\": \"No\"}, {\"Age\": 18.42, \"Debt\": 9.25, \"CreditScore\": 4, \"Income\": 540, \"Approved\": \"Yes\"}, {\"Age\": 35.58, \"Debt\": 0.75, \"CreditScore\": 0, \"Income\": 0, \"Approved\": \"No\"}, {\"Age\": 22.5, \"Debt\": 0.125, \"CreditScore\": 0, \"Income\": 70, \"Approved\": \"No\"}, {\"Age\": 21.33, \"Debt\": 10.5, \"CreditScore\": 0, \"Income\": 0, \"Approved\": \"Yes\"}, {\"Age\": 21.75, \"Debt\": 1.75, \"CreditScore\": 0, \"Income\": 0, \"Approved\": \"No\"}, {\"Age\": 57.08, \"Debt\": 0.335, \"CreditScore\": 0, \"Income\": 2197, \"Approved\": \"No\"}, {\"Age\": 44.83, \"Debt\": 7.0, \"CreditScore\": 0, \"Income\": 2, \"Approved\": \"No\"}, {\"Age\": 20.42, \"Debt\": 10.5, \"CreditScore\": 0, \"Income\": 32, \"Approved\": \"No\"}, {\"Age\": 22.25, \"Debt\": 0.46, \"CreditScore\": 0, \"Income\": 55, \"Approved\": \"No\"}, {\"Age\": 41.17, \"Debt\": 6.5, \"CreditScore\": 3, \"Income\": 0, \"Approved\": \"Yes\"}, {\"Age\": 22.67, \"Debt\": 0.335, \"CreditScore\": 0, \"Income\": 0, \"Approved\": \"No\"}, {\"Age\": 40.83, \"Debt\": 3.5, \"CreditScore\": 0, \"Income\": 0, \"Approved\": \"No\"}, {\"Age\": 22.58, \"Debt\": 10.04, \"CreditScore\": 9, \"Income\": 396, \"Approved\": \"Yes\"}, {\"Age\": 35.42, \"Debt\": 12.0, \"CreditScore\": 8, \"Income\": 6590, \"Approved\": \"Yes\"}, {\"Age\": 28.46, \"Debt\": 4.0, \"CreditScore\": 3, \"Income\": 2279, \"Approved\": \"Yes\"}, {\"Age\": 18.17, \"Debt\": 2.46, \"CreditScore\": 2, \"Income\": 587, \"Approved\": \"No\"}, {\"Age\": 26.75, \"Debt\": 4.5, \"CreditScore\": 0, \"Income\": 1210, \"Approved\": \"No\"}, {\"Age\": 31.83, \"Debt\": 0.04, \"CreditScore\": 0, \"Income\": 0, \"Approved\": \"No\"}, {\"Age\": 34.58, \"Debt\": 0.0, \"CreditScore\": 0, \"Income\": 0, \"Approved\": \"No\"}, {\"Age\": 21.0, \"Debt\": 4.79, \"CreditScore\": 1, \"Income\": 300, \"Approved\": \"Yes\"}, {\"Age\": 45.0, \"Debt\": 4.585, \"CreditScore\": 0, \"Income\": 0, \"Approved\": \"No\"}, {\"Age\": 45.17, \"Debt\": 1.5, \"CreditScore\": 0, \"Income\": 0, \"Approved\": \"No\"}, {\"Age\": 21.5, \"Debt\": 6.0, \"CreditScore\": 3, \"Income\": 918, \"Approved\": \"Yes\"}, {\"Age\": 30.5, \"Debt\": 6.5, \"CreditScore\": 7, \"Income\": 3065, \"Approved\": \"Yes\"}, {\"Age\": 33.0, \"Debt\": 2.5, \"CreditScore\": 0, \"Income\": 0, \"Approved\": \"No\"}, {\"Age\": 73.42, \"Debt\": 17.75, \"CreditScore\": 0, \"Income\": 0, \"Approved\": \"Yes\"}, {\"Age\": 54.83, \"Debt\": 15.5, \"CreditScore\": 20, \"Income\": 130, \"Approved\": \"No\"}, {\"Age\": 32.42, \"Debt\": 2.165, \"CreditScore\": 0, \"Income\": 0, \"Approved\": \"No\"}, {\"Age\": 20.67, \"Debt\": 1.25, \"CreditScore\": 3, \"Income\": 210, \"Approved\": \"No\"}, {\"Age\": 58.42, \"Debt\": 21.0, \"CreditScore\": 13, \"Income\": 6700, \"Approved\": \"Yes\"}, {\"Age\": 26.75, \"Debt\": 1.125, \"CreditScore\": 0, \"Income\": 5298, \"Approved\": \"Yes\"}, {\"Age\": 23.42, \"Debt\": 1.0, \"CreditScore\": 0, \"Income\": 0, \"Approved\": \"No\"}, {\"Age\": 23.92, \"Debt\": 0.665, \"CreditScore\": 0, \"Income\": 0, \"Approved\": \"Yes\"}, {\"Age\": 18.75, \"Debt\": 7.5, \"CreditScore\": 5, \"Income\": 26726, \"Approved\": \"Yes\"}, {\"Age\": 23.58, \"Debt\": 1.79, \"CreditScore\": 0, \"Income\": 1, \"Approved\": \"No\"}, {\"Age\": 20.17, \"Debt\": 8.17, \"CreditScore\": 14, \"Income\": 158, \"Approved\": \"Yes\"}, {\"Age\": 41.33, \"Debt\": 1.0, \"CreditScore\": 0, \"Income\": 300, \"Approved\": \"Yes\"}, {\"Age\": 68.67, \"Debt\": 15.0, \"CreditScore\": 14, \"Income\": 3376, \"Approved\": \"Yes\"}, {\"Age\": 47.42, \"Debt\": 3.0, \"CreditScore\": 2, \"Income\": 1704, \"Approved\": \"Yes\"}, {\"Age\": 22.67, \"Debt\": 0.165, \"CreditScore\": 0, \"Income\": 0, \"Approved\": \"Yes\"}, {\"Age\": 25.58, \"Debt\": 0.0, \"CreditScore\": 0, \"Income\": 0, \"Approved\": \"Yes\"}, {\"Age\": 28.08, \"Debt\": 15.0, \"CreditScore\": 0, \"Income\": 13212, \"Approved\": \"Yes\"}, {\"Age\": 16.17, \"Debt\": 0.04, \"CreditScore\": 0, \"Income\": 0, \"Approved\": \"Yes\"}, {\"Age\": 38.58, \"Debt\": 3.335, \"CreditScore\": 14, \"Income\": 1344, \"Approved\": \"Yes\"}, {\"Age\": 33.25, \"Debt\": 3.0, \"CreditScore\": 0, \"Income\": 0, \"Approved\": \"No\"}, {\"Age\": 51.83, \"Debt\": 3.0, \"CreditScore\": 0, \"Income\": 4, \"Approved\": \"No\"}, {\"Age\": 26.5, \"Debt\": 2.71, \"CreditScore\": 0, \"Income\": 0, \"Approved\": \"No\"}, {\"Age\": 36.33, \"Debt\": 2.125, \"CreditScore\": 1, \"Income\": 1187, \"Approved\": \"Yes\"}, {\"Age\": 34.92, \"Debt\": 5.0, \"CreditScore\": 6, \"Income\": 1000, \"Approved\": \"Yes\"}, {\"Age\": 27.0, \"Debt\": 1.5, \"CreditScore\": 0, \"Income\": 1065, \"Approved\": \"Yes\"}, {\"Age\": 23.75, \"Debt\": 0.415, \"CreditScore\": 2, \"Income\": 6, \"Approved\": \"No\"}, {\"Age\": 16.0, \"Debt\": 3.125, \"CreditScore\": 1, \"Income\": 6, \"Approved\": \"No\"}, {\"Age\": 19.58, \"Debt\": 0.585, \"CreditScore\": 3, \"Income\": 769, \"Approved\": \"No\"}, {\"Age\": 29.17, \"Debt\": 3.5, \"CreditScore\": 3, \"Income\": 0, \"Approved\": \"No\"}, {\"Age\": 28.58, \"Debt\": 3.54, \"CreditScore\": 0, \"Income\": 0, \"Approved\": \"No\"}, {\"Age\": 20.33, \"Debt\": 10.0, \"CreditScore\": 4, \"Income\": 1465, \"Approved\": \"Yes\"}, {\"Age\": 25.0, \"Debt\": 11.25, \"CreditScore\": 17, \"Income\": 1208, \"Approved\": \"Yes\"}, {\"Age\": 32.67, \"Debt\": 9.0, \"CreditScore\": 0, \"Income\": 0, \"Approved\": \"Yes\"}, {\"Age\": 38.92, \"Debt\": 1.665, \"CreditScore\": 0, \"Income\": 390, \"Approved\": \"No\"}, {\"Age\": 22.83, \"Debt\": 3.0, \"CreditScore\": 1, \"Income\": 800, \"Approved\": \"Yes\"}, {\"Age\": 18.17, \"Debt\": 10.0, \"CreditScore\": 0, \"Income\": 0, \"Approved\": \"No\"}, {\"Age\": 29.58, \"Debt\": 4.5, \"CreditScore\": 2, \"Income\": 0, \"Approved\": \"Yes\"}, {\"Age\": 23.25, \"Debt\": 12.625, \"CreditScore\": 2, \"Income\": 5552, \"Approved\": \"No\"}, {\"Age\": 18.58, \"Debt\": 10.0, \"CreditScore\": 0, \"Income\": 42, \"Approved\": \"No\"}, {\"Age\": 20.0, \"Debt\": 11.045, \"CreditScore\": 0, \"Income\": 0, \"Approved\": \"No\"}, {\"Age\": 22.42, \"Debt\": 5.665, \"CreditScore\": 7, \"Income\": 3257, \"Approved\": \"Yes\"}, {\"Age\": 31.83, \"Debt\": 2.5, \"CreditScore\": 0, \"Income\": 0, \"Approved\": \"No\"}, {\"Age\": 24.33, \"Debt\": 6.625, \"CreditScore\": 0, \"Income\": 0, \"Approved\": \"Yes\"}, {\"Age\": 21.92, \"Debt\": 11.665, \"CreditScore\": 0, \"Income\": 5, \"Approved\": \"No\"}, {\"Age\": 36.58, \"Debt\": 0.29, \"CreditScore\": 10, \"Income\": 18, \"Approved\": \"No\"}, {\"Age\": 25.67, \"Debt\": 3.25, \"CreditScore\": 1, \"Income\": 21, \"Approved\": \"No\"}, {\"Age\": 42.0, \"Debt\": 0.205, \"CreditScore\": 0, \"Income\": 0, \"Approved\": \"Yes\"}, {\"Age\": 19.58, \"Debt\": 0.665, \"CreditScore\": 0, \"Income\": 5, \"Approved\": \"No\"}, {\"Age\": 36.33, \"Debt\": 3.79, \"CreditScore\": 0, \"Income\": 0, \"Approved\": \"No\"}, {\"Age\": 33.17, \"Debt\": 1.0, \"CreditScore\": 7, \"Income\": 4071, \"Approved\": \"Yes\"}, {\"Age\": 30.17, \"Debt\": 6.5, \"CreditScore\": 8, \"Income\": 1200, \"Approved\": \"Yes\"}, {\"Age\": 56.58, \"Debt\": 18.5, \"CreditScore\": 17, \"Income\": 0, \"Approved\": \"Yes\"}, {\"Age\": 63.33, \"Debt\": 0.54, \"CreditScore\": 3, \"Income\": 0, \"Approved\": \"No\"}, {\"Age\": 41.17, \"Debt\": 4.04, \"CreditScore\": 8, \"Income\": 0, \"Approved\": \"Yes\"}, {\"Age\": 24.5, \"Debt\": 12.75, \"CreditScore\": 2, \"Income\": 444, \"Approved\": \"Yes\"}, {\"Age\": 33.08, \"Debt\": 4.625, \"CreditScore\": 2, \"Income\": 0, \"Approved\": \"Yes\"}, {\"Age\": 33.08, \"Debt\": 1.625, \"CreditScore\": 0, \"Income\": 0, \"Approved\": \"No\"}, {\"Age\": 42.17, \"Debt\": 5.04, \"CreditScore\": 0, \"Income\": 0, \"Approved\": \"Yes\"}, {\"Age\": 32.33, \"Debt\": 7.5, \"CreditScore\": 0, \"Income\": 0, \"Approved\": \"No\"}, {\"Age\": 29.5, \"Debt\": 0.58, \"CreditScore\": 1, \"Income\": 2803, \"Approved\": \"No\"}, {\"Age\": 41.58, \"Debt\": 1.75, \"CreditScore\": 0, \"Income\": 0, \"Approved\": \"No\"}, {\"Age\": 26.67, \"Debt\": 14.585, \"CreditScore\": 0, \"Income\": 0, \"Approved\": \"No\"}, {\"Age\": 23.25, \"Debt\": 1.0, \"CreditScore\": 0, \"Income\": 0, \"Approved\": \"Yes\"}, {\"Age\": 25.83, \"Debt\": 12.835, \"CreditScore\": 0, \"Income\": 2, \"Approved\": \"No\"}, {\"Age\": 29.67, \"Debt\": 0.75, \"CreditScore\": 0, \"Income\": 0, \"Approved\": \"No\"}, {\"Age\": 22.67, \"Debt\": 7.0, \"CreditScore\": 0, \"Income\": 0, \"Approved\": \"No\"}, {\"Age\": 27.67, \"Debt\": 0.75, \"CreditScore\": 0, \"Income\": 251, \"Approved\": \"No\"}, {\"Age\": 32.08, \"Debt\": 4.0, \"CreditScore\": 0, \"Income\": 0, \"Approved\": \"No\"}, {\"Age\": 20.42, \"Debt\": 7.0, \"CreditScore\": 3, \"Income\": 1391, \"Approved\": \"Yes\"}, {\"Age\": 27.67, \"Debt\": 13.75, \"CreditScore\": 0, \"Income\": 500, \"Approved\": \"Yes\"}, {\"Age\": 18.83, \"Debt\": 9.54, \"CreditScore\": 0, \"Income\": 0, \"Approved\": \"Yes\"}, {\"Age\": 48.08, \"Debt\": 3.75, \"CreditScore\": 0, \"Income\": 2, \"Approved\": \"No\"}, {\"Age\": 18.83, \"Debt\": 0.415, \"CreditScore\": 1, \"Income\": 1, \"Approved\": \"No\"}, {\"Age\": 27.67, \"Debt\": 2.0, \"CreditScore\": 4, \"Income\": 7544, \"Approved\": \"Yes\"}, {\"Age\": 17.25, \"Debt\": 3.0, \"CreditScore\": 0, \"Income\": 40, \"Approved\": \"No\"}, {\"Age\": 23.5, \"Debt\": 1.5, \"CreditScore\": 0, \"Income\": 0, \"Approved\": \"No\"}, {\"Age\": 25.92, \"Debt\": 0.875, \"CreditScore\": 2, \"Income\": 3, \"Approved\": \"No\"}, {\"Age\": 38.75, \"Debt\": 1.5, \"CreditScore\": 0, \"Income\": 0, \"Approved\": \"No\"}, {\"Age\": 20.75, \"Debt\": 9.54, \"CreditScore\": 0, \"Income\": 1000, \"Approved\": \"No\"}, {\"Age\": 40.33, \"Debt\": 8.125, \"CreditScore\": 2, \"Income\": 18, \"Approved\": \"No\"}, {\"Age\": 37.42, \"Debt\": 2.04, \"CreditScore\": 0, \"Income\": 5800, \"Approved\": \"Yes\"}, {\"Age\": 34.42, \"Debt\": 1.335, \"CreditScore\": 0, \"Income\": 4500, \"Approved\": \"No\"}, {\"Age\": 22.5, \"Debt\": 0.415, \"CreditScore\": 0, \"Income\": 0, \"Approved\": \"No\"}, {\"Age\": 28.75, \"Debt\": 1.5, \"CreditScore\": 0, \"Income\": 225, \"Approved\": \"No\"}, {\"Age\": 59.5, \"Debt\": 2.75, \"CreditScore\": 5, \"Income\": 58, \"Approved\": \"Yes\"}, {\"Age\": 23.58, \"Debt\": 0.835, \"CreditScore\": 0, \"Income\": 5, \"Approved\": \"No\"}, {\"Age\": 22.5, \"Debt\": 8.5, \"CreditScore\": 10, \"Income\": 990, \"Approved\": \"No\"}, {\"Age\": 27.83, \"Debt\": 4.0, \"CreditScore\": 2, \"Income\": 0, \"Approved\": \"No\"}, {\"Age\": 20.83, \"Debt\": 3.0, \"CreditScore\": 0, \"Income\": 0, \"Approved\": \"Yes\"}, {\"Age\": 39.0, \"Debt\": 5.0, \"CreditScore\": 10, \"Income\": 0, \"Approved\": \"Yes\"}, {\"Age\": 30.75, \"Debt\": 1.585, \"CreditScore\": 0, \"Income\": 0, \"Approved\": \"No\"}, {\"Age\": 22.67, \"Debt\": 0.75, \"CreditScore\": 1, \"Income\": 9, \"Approved\": \"No\"}, {\"Age\": 50.25, \"Debt\": 0.835, \"CreditScore\": 0, \"Income\": 117, \"Approved\": \"No\"}, {\"Age\": 34.0, \"Debt\": 5.085, \"CreditScore\": 0, \"Income\": 0, \"Approved\": \"No\"}, {\"Age\": 48.25, \"Debt\": 25.085, \"CreditScore\": 3, \"Income\": 14, \"Approved\": \"Yes\"}, {\"Age\": 25.25, \"Debt\": 12.5, \"CreditScore\": 0, \"Income\": 1062, \"Approved\": \"No\"}, {\"Age\": 23.75, \"Debt\": 0.71, \"CreditScore\": 1, \"Income\": 4, \"Approved\": \"No\"}, {\"Age\": 41.17, \"Debt\": 1.335, \"CreditScore\": 0, \"Income\": 0, \"Approved\": \"No\"}, {\"Age\": 33.17, \"Debt\": 1.04, \"CreditScore\": 0, \"Income\": 31285, \"Approved\": \"Yes\"}, {\"Age\": 23.75, \"Debt\": 12.0, \"CreditScore\": 0, \"Income\": 0, \"Approved\": \"No\"}, {\"Age\": 20.83, \"Debt\": 0.5, \"CreditScore\": 0, \"Income\": 0, \"Approved\": \"No\"}, {\"Age\": 39.92, \"Debt\": 5.0, \"CreditScore\": 0, \"Income\": 0, \"Approved\": \"No\"}, {\"Age\": 26.17, \"Debt\": 12.5, \"CreditScore\": 0, \"Income\": 17, \"Approved\": \"No\"}, {\"Age\": 39.17, \"Debt\": 2.5, \"CreditScore\": 0, \"Income\": 0, \"Approved\": \"No\"}, {\"Age\": 33.58, \"Debt\": 0.25, \"CreditScore\": 0, \"Income\": 0, \"Approved\": \"No\"}, {\"Age\": 23.42, \"Debt\": 0.79, \"CreditScore\": 2, \"Income\": 400, \"Approved\": \"Yes\"}, {\"Age\": 23.0, \"Debt\": 11.75, \"CreditScore\": 2, \"Income\": 551, \"Approved\": \"Yes\"}, {\"Age\": 33.92, \"Debt\": 1.585, \"CreditScore\": 0, \"Income\": 0, \"Approved\": \"No\"}, {\"Age\": 34.42, \"Debt\": 4.25, \"CreditScore\": 2, \"Income\": 610, \"Approved\": \"Yes\"}, {\"Age\": 19.42, \"Debt\": 7.25, \"CreditScore\": 1, \"Income\": 1, \"Approved\": \"No\"}, {\"Age\": 28.46, \"Debt\": 3.0, \"CreditScore\": 0, \"Income\": 1, \"Approved\": \"No\"}, {\"Age\": 40.83, \"Debt\": 10.0, \"CreditScore\": 0, \"Income\": 837, \"Approved\": \"Yes\"}, {\"Age\": 27.67, \"Debt\": 2.04, \"CreditScore\": 0, \"Income\": 50, \"Approved\": \"No\"}, {\"Age\": 22.75, \"Debt\": 11.5, \"CreditScore\": 0, \"Income\": 0, \"Approved\": \"No\"}, {\"Age\": 37.5, \"Debt\": 0.835, \"CreditScore\": 0, \"Income\": 5, \"Approved\": \"No\"}, {\"Age\": 27.75, \"Debt\": 0.585, \"CreditScore\": 2, \"Income\": 500, \"Approved\": \"Yes\"}, {\"Age\": 55.75, \"Debt\": 7.08, \"CreditScore\": 3, \"Income\": 50, \"Approved\": \"No\"}, {\"Age\": 62.5, \"Debt\": 12.75, \"CreditScore\": 0, \"Income\": 0, \"Approved\": \"No\"}, {\"Age\": 38.25, \"Debt\": 6.0, \"CreditScore\": 0, \"Income\": 0, \"Approved\": \"Yes\"}, {\"Age\": 40.92, \"Debt\": 0.5, \"CreditScore\": 0, \"Income\": 0, \"Approved\": \"No\"}, {\"Age\": 28.46, \"Debt\": 1.5, \"CreditScore\": 2, \"Income\": 105, \"Approved\": \"No\"}, {\"Age\": 27.25, \"Debt\": 1.665, \"CreditScore\": 9, \"Income\": 827, \"Approved\": \"Yes\"}, {\"Age\": 23.58, \"Debt\": 0.585, \"CreditScore\": 0, \"Income\": 87, \"Approved\": \"No\"}, {\"Age\": 16.5, \"Debt\": 0.125, \"CreditScore\": 0, \"Income\": 0, \"Approved\": \"No\"}, {\"Age\": 28.46, \"Debt\": 0.5, \"CreditScore\": 0, \"Income\": 0, \"Approved\": \"No\"}, {\"Age\": 15.83, \"Debt\": 0.585, \"CreditScore\": 2, \"Income\": 0, \"Approved\": \"Yes\"}, {\"Age\": 25.0, \"Debt\": 12.33, \"CreditScore\": 6, \"Income\": 458, \"Approved\": \"Yes\"}, {\"Age\": 32.0, \"Debt\": 1.75, \"CreditScore\": 0, \"Income\": 0, \"Approved\": \"Yes\"}, {\"Age\": 27.67, \"Debt\": 1.5, \"CreditScore\": 0, \"Income\": 0, \"Approved\": \"No\"}, {\"Age\": 23.08, \"Debt\": 2.5, \"CreditScore\": 0, \"Income\": 4208, \"Approved\": \"No\"}, {\"Age\": 36.25, \"Debt\": 5.0, \"CreditScore\": 6, \"Income\": 367, \"Approved\": \"Yes\"}, {\"Age\": 58.67, \"Debt\": 4.46, \"CreditScore\": 6, \"Income\": 560, \"Approved\": \"Yes\"}, {\"Age\": 25.17, \"Debt\": 2.875, \"CreditScore\": 0, \"Income\": 0, \"Approved\": \"Yes\"}, {\"Age\": 19.17, \"Debt\": 8.585, \"CreditScore\": 7, \"Income\": 0, \"Approved\": \"Yes\"}, {\"Age\": 42.08, \"Debt\": 1.04, \"CreditScore\": 6, \"Income\": 10000, \"Approved\": \"Yes\"}, {\"Age\": 34.75, \"Debt\": 2.5, \"CreditScore\": 0, \"Income\": 0, \"Approved\": \"No\"}, {\"Age\": 28.17, \"Debt\": 0.585, \"CreditScore\": 0, \"Income\": 1004, \"Approved\": \"No\"}, {\"Age\": 36.17, \"Debt\": 5.5, \"CreditScore\": 0, \"Income\": 687, \"Approved\": \"No\"}, {\"Age\": 18.83, \"Debt\": 4.415, \"CreditScore\": 0, \"Income\": 0, \"Approved\": \"Yes\"}, {\"Age\": 22.25, \"Debt\": 9.0, \"CreditScore\": 0, \"Income\": 0, \"Approved\": \"No\"}, {\"Age\": 34.83, \"Debt\": 4.0, \"CreditScore\": 0, \"Income\": 0, \"Approved\": \"No\"}, {\"Age\": 26.17, \"Debt\": 2.0, \"CreditScore\": 0, \"Income\": 1, \"Approved\": \"No\"}, {\"Age\": 28.46, \"Debt\": 3.5, \"CreditScore\": 0, \"Income\": 0, \"Approved\": \"No\"}, {\"Age\": 21.42, \"Debt\": 0.75, \"CreditScore\": 0, \"Income\": 2, \"Approved\": \"No\"}, {\"Age\": 18.25, \"Debt\": 10.0, \"CreditScore\": 1, \"Income\": 1, \"Approved\": \"No\"}, {\"Age\": 22.08, \"Debt\": 11.46, \"CreditScore\": 0, \"Income\": 1212, \"Approved\": \"No\"}, {\"Age\": 20.42, \"Debt\": 0.0, \"CreditScore\": 0, \"Income\": 0, \"Approved\": \"No\"}, {\"Age\": 34.92, \"Debt\": 2.5, \"CreditScore\": 0, \"Income\": 200, \"Approved\": \"Yes\"}, {\"Age\": 24.58, \"Debt\": 13.5, \"CreditScore\": 0, \"Income\": 0, \"Approved\": \"No\"}, {\"Age\": 49.83, \"Debt\": 13.585, \"CreditScore\": 0, \"Income\": 0, \"Approved\": \"Yes\"}, {\"Age\": 24.17, \"Debt\": 0.875, \"CreditScore\": 2, \"Income\": 2000, \"Approved\": \"Yes\"}, {\"Age\": 23.58, \"Debt\": 0.46, \"CreditScore\": 6, \"Income\": 347, \"Approved\": \"No\"}, {\"Age\": 23.33, \"Debt\": 1.5, \"CreditScore\": 0, \"Income\": 200, \"Approved\": \"Yes\"}, {\"Age\": 39.08, \"Debt\": 6.0, \"CreditScore\": 5, \"Income\": 1097, \"Approved\": \"Yes\"}, {\"Age\": 36.08, \"Debt\": 2.54, \"CreditScore\": 0, \"Income\": 1000, \"Approved\": \"No\"}, {\"Age\": 32.25, \"Debt\": 1.5, \"CreditScore\": 0, \"Income\": 122, \"Approved\": \"No\"}, {\"Age\": 25.0, \"Debt\": 12.0, \"CreditScore\": 2, \"Income\": 5, \"Approved\": \"No\"}, {\"Age\": 36.17, \"Debt\": 0.42, \"CreditScore\": 0, \"Income\": 2, \"Approved\": \"No\"}, {\"Age\": 32.33, \"Debt\": 3.5, \"CreditScore\": 0, \"Income\": 0, \"Approved\": \"No\"}, {\"Age\": 39.17, \"Debt\": 1.625, \"CreditScore\": 10, \"Income\": 4700, \"Approved\": \"Yes\"}, {\"Age\": 26.17, \"Debt\": 0.835, \"CreditScore\": 0, \"Income\": 0, \"Approved\": \"No\"}, {\"Age\": 49.5, \"Debt\": 7.585, \"CreditScore\": 15, \"Income\": 5000, \"Approved\": \"Yes\"}, {\"Age\": 52.83, \"Debt\": 15.0, \"CreditScore\": 14, \"Income\": 2200, \"Approved\": \"Yes\"}, {\"Age\": 20.17, \"Debt\": 5.625, \"CreditScore\": 0, \"Income\": 0, \"Approved\": \"Yes\"}, {\"Age\": 26.25, \"Debt\": 1.54, \"CreditScore\": 0, \"Income\": 0, \"Approved\": \"No\"}, {\"Age\": 53.92, \"Debt\": 9.625, \"CreditScore\": 5, \"Income\": 0, \"Approved\": \"Yes\"}, {\"Age\": 38.17, \"Debt\": 10.125, \"CreditScore\": 6, \"Income\": 196, \"Approved\": \"Yes\"}, {\"Age\": 20.67, \"Debt\": 1.835, \"CreditScore\": 5, \"Income\": 2503, \"Approved\": \"Yes\"}, {\"Age\": 27.25, \"Debt\": 0.625, \"CreditScore\": 0, \"Income\": 0, \"Approved\": \"No\"}, {\"Age\": 22.75, \"Debt\": 11.0, \"CreditScore\": 7, \"Income\": 809, \"Approved\": \"Yes\"}, {\"Age\": 31.67, \"Debt\": 0.83, \"CreditScore\": 8, \"Income\": 3290, \"Approved\": \"Yes\"}, {\"Age\": 22.33, \"Debt\": 11.0, \"CreditScore\": 1, \"Income\": 278, \"Approved\": \"Yes\"}, {\"Age\": 47.67, \"Debt\": 2.5, \"CreditScore\": 12, \"Income\": 2510, \"Approved\": \"Yes\"}, {\"Age\": 37.33, \"Debt\": 6.5, \"CreditScore\": 12, \"Income\": 0, \"Approved\": \"Yes\"}, {\"Age\": 42.83, \"Debt\": 4.625, \"CreditScore\": 0, \"Income\": 0, \"Approved\": \"Yes\"}, {\"Age\": 20.5, \"Debt\": 10.0, \"CreditScore\": 0, \"Income\": 0, \"Approved\": \"Yes\"}, {\"Age\": 49.58, \"Debt\": 19.0, \"CreditScore\": 1, \"Income\": 0, \"Approved\": \"No\"}, {\"Age\": 52.5, \"Debt\": 6.5, \"CreditScore\": 15, \"Income\": 11202, \"Approved\": \"Yes\"}, {\"Age\": 21.0, \"Debt\": 3.0, \"CreditScore\": 8, \"Income\": 1, \"Approved\": \"Yes\"}, {\"Age\": 19.17, \"Debt\": 0.0, \"CreditScore\": 0, \"Income\": 1, \"Approved\": \"Yes\"}, {\"Age\": 27.42, \"Debt\": 14.5, \"CreditScore\": 1, \"Income\": 11, \"Approved\": \"Yes\"}, {\"Age\": 29.5, \"Debt\": 0.46, \"CreditScore\": 4, \"Income\": 500, \"Approved\": \"Yes\"}, {\"Age\": 36.5, \"Debt\": 4.25, \"CreditScore\": 0, \"Income\": 50, \"Approved\": \"No\"}, {\"Age\": 19.67, \"Debt\": 0.21, \"CreditScore\": 11, \"Income\": 99, \"Approved\": \"Yes\"}, {\"Age\": 25.33, \"Debt\": 0.58, \"CreditScore\": 7, \"Income\": 5124, \"Approved\": \"Yes\"}, {\"Age\": 31.67, \"Debt\": 16.165, \"CreditScore\": 9, \"Income\": 730, \"Approved\": \"Yes\"}, {\"Age\": 40.92, \"Debt\": 2.25, \"CreditScore\": 0, \"Income\": 0, \"Approved\": \"No\"}, {\"Age\": 56.83, \"Debt\": 4.25, \"CreditScore\": 0, \"Income\": 4, \"Approved\": \"No\"}, {\"Age\": 34.83, \"Debt\": 1.25, \"CreditScore\": 0, \"Income\": 0, \"Approved\": \"No\"}, {\"Age\": 51.83, \"Debt\": 2.04, \"CreditScore\": 0, \"Income\": 1, \"Approved\": \"No\"}, {\"Age\": 43.25, \"Debt\": 25.21, \"CreditScore\": 1, \"Income\": 90, \"Approved\": \"No\"}, {\"Age\": 56.42, \"Debt\": 28.0, \"CreditScore\": 40, \"Income\": 15, \"Approved\": \"Yes\"}, {\"Age\": 17.92, \"Debt\": 0.54, \"CreditScore\": 1, \"Income\": 5, \"Approved\": \"No\"}, {\"Age\": 23.5, \"Debt\": 2.75, \"CreditScore\": 0, \"Income\": 25, \"Approved\": \"No\"}, {\"Age\": 49.0, \"Debt\": 1.5, \"CreditScore\": 0, \"Income\": 27, \"Approved\": \"No\"}, {\"Age\": 69.5, \"Debt\": 6.0, \"CreditScore\": 0, \"Income\": 0, \"Approved\": \"No\"}, {\"Age\": 33.5, \"Debt\": 1.75, \"CreditScore\": 4, \"Income\": 857, \"Approved\": \"Yes\"}, {\"Age\": 34.25, \"Debt\": 1.75, \"CreditScore\": 0, \"Income\": 0, \"Approved\": \"No\"}, {\"Age\": 33.67, \"Debt\": 1.25, \"CreditScore\": 0, \"Income\": 0, \"Approved\": \"No\"}, {\"Age\": 36.67, \"Debt\": 3.25, \"CreditScore\": 0, \"Income\": 639, \"Approved\": \"Yes\"}, {\"Age\": 33.58, \"Debt\": 2.75, \"CreditScore\": 6, \"Income\": 0, \"Approved\": \"Yes\"}, {\"Age\": 22.92, \"Debt\": 0.17, \"CreditScore\": 0, \"Income\": 0, \"Approved\": \"No\"}, {\"Age\": 29.42, \"Debt\": 1.25, \"CreditScore\": 0, \"Income\": 0, \"Approved\": \"No\"}, {\"Age\": 50.08, \"Debt\": 12.54, \"CreditScore\": 3, \"Income\": 0, \"Approved\": \"Yes\"}, {\"Age\": 31.08, \"Debt\": 3.085, \"CreditScore\": 2, \"Income\": 41, \"Approved\": \"No\"}, {\"Age\": 32.33, \"Debt\": 0.54, \"CreditScore\": 0, \"Income\": 11177, \"Approved\": \"Yes\"}, {\"Age\": 23.25, \"Debt\": 4.0, \"CreditScore\": 0, \"Income\": 0, \"Approved\": \"Yes\"}, {\"Age\": 17.33, \"Debt\": 9.5, \"CreditScore\": 10, \"Income\": 10, \"Approved\": \"No\"}, {\"Age\": 52.42, \"Debt\": 1.5, \"CreditScore\": 0, \"Income\": 350, \"Approved\": \"No\"}, {\"Age\": 22.92, \"Debt\": 11.585, \"CreditScore\": 0, \"Income\": 1349, \"Approved\": \"Yes\"}, {\"Age\": 32.25, \"Debt\": 0.165, \"CreditScore\": 1, \"Income\": 8000, \"Approved\": \"Yes\"}, {\"Age\": 25.42, \"Debt\": 1.125, \"CreditScore\": 2, \"Income\": 0, \"Approved\": \"No\"}, {\"Age\": 27.58, \"Debt\": 3.25, \"CreditScore\": 2, \"Income\": 1, \"Approved\": \"No\"}, {\"Age\": 16.0, \"Debt\": 0.165, \"CreditScore\": 2, \"Income\": 1, \"Approved\": \"No\"}, {\"Age\": 28.58, \"Debt\": 1.665, \"CreditScore\": 0, \"Income\": 0, \"Approved\": \"No\"}, {\"Age\": 23.08, \"Debt\": 11.5, \"CreditScore\": 11, \"Income\": 284, \"Approved\": \"Yes\"}, {\"Age\": 33.17, \"Debt\": 3.04, \"CreditScore\": 1, \"Income\": 18027, \"Approved\": \"Yes\"}, {\"Age\": 39.92, \"Debt\": 0.54, \"CreditScore\": 3, \"Income\": 1000, \"Approved\": \"Yes\"}, {\"Age\": 31.33, \"Debt\": 19.5, \"CreditScore\": 16, \"Income\": 5000, \"Approved\": \"Yes\"}, {\"Age\": 41.0, \"Debt\": 0.04, \"CreditScore\": 1, \"Income\": 0, \"Approved\": \"Yes\"}, {\"Age\": 32.25, \"Debt\": 14.0, \"CreditScore\": 2, \"Income\": 1, \"Approved\": \"No\"}, {\"Age\": 21.58, \"Debt\": 0.79, \"CreditScore\": 0, \"Income\": 0, \"Approved\": \"No\"}, {\"Age\": 38.67, \"Debt\": 0.21, \"CreditScore\": 0, \"Income\": 0, \"Approved\": \"Yes\"}, {\"Age\": 23.08, \"Debt\": 2.5, \"CreditScore\": 11, \"Income\": 2184, \"Approved\": \"Yes\"}, {\"Age\": 20.42, \"Debt\": 7.5, \"CreditScore\": 1, \"Income\": 234, \"Approved\": \"Yes\"}, {\"Age\": 33.75, \"Debt\": 2.75, \"CreditScore\": 0, \"Income\": 0, \"Approved\": \"No\"}, {\"Age\": 22.17, \"Debt\": 2.25, \"CreditScore\": 0, \"Income\": 10, \"Approved\": \"No\"}, {\"Age\": 35.75, \"Debt\": 2.415, \"CreditScore\": 2, \"Income\": 1, \"Approved\": \"No\"}, {\"Age\": 20.83, \"Debt\": 8.5, \"CreditScore\": 0, \"Income\": 351, \"Approved\": \"No\"}, {\"Age\": 57.08, \"Debt\": 19.5, \"CreditScore\": 7, \"Income\": 3000, \"Approved\": \"Yes\"}, {\"Age\": 18.92, \"Debt\": 9.25, \"CreditScore\": 4, \"Income\": 500, \"Approved\": \"Yes\"}, {\"Age\": 16.25, \"Debt\": 0.835, \"CreditScore\": 0, \"Income\": 0, \"Approved\": \"No\"}, {\"Age\": 43.17, \"Debt\": 2.25, \"CreditScore\": 0, \"Income\": 0, \"Approved\": \"No\"}, {\"Age\": 28.17, \"Debt\": 0.375, \"CreditScore\": 4, \"Income\": 0, \"Approved\": \"Yes\"}, {\"Age\": 30.0, \"Debt\": 5.29, \"CreditScore\": 5, \"Income\": 500, \"Approved\": \"Yes\"}, {\"Age\": 19.67, \"Debt\": 0.375, \"CreditScore\": 2, \"Income\": 0, \"Approved\": \"Yes\"}, {\"Age\": 22.08, \"Debt\": 0.83, \"CreditScore\": 0, \"Income\": 0, \"Approved\": \"Yes\"}, {\"Age\": 28.58, \"Debt\": 3.75, \"CreditScore\": 1, \"Income\": 154, \"Approved\": \"No\"}, {\"Age\": 57.42, \"Debt\": 8.5, \"CreditScore\": 3, \"Income\": 0, \"Approved\": \"Yes\"}, {\"Age\": 41.42, \"Debt\": 5.0, \"CreditScore\": 6, \"Income\": 0, \"Approved\": \"Yes\"}, {\"Age\": 28.67, \"Debt\": 9.335, \"CreditScore\": 6, \"Income\": 168, \"Approved\": \"Yes\"}, {\"Age\": 24.75, \"Debt\": 0.54, \"CreditScore\": 0, \"Income\": 1, \"Approved\": \"No\"}, {\"Age\": 23.5, \"Debt\": 9.0, \"CreditScore\": 5, \"Income\": 0, \"Approved\": \"Yes\"}, {\"Age\": 35.17, \"Debt\": 25.125, \"CreditScore\": 1, \"Income\": 500, \"Approved\": \"Yes\"}, {\"Age\": 34.5, \"Debt\": 4.04, \"CreditScore\": 7, \"Income\": 0, \"Approved\": \"Yes\"}, {\"Age\": 16.08, \"Debt\": 0.75, \"CreditScore\": 5, \"Income\": 690, \"Approved\": \"Yes\"}, {\"Age\": 24.58, \"Debt\": 12.5, \"CreditScore\": 0, \"Income\": 0, \"Approved\": \"No\"}, {\"Age\": 29.5, \"Debt\": 1.085, \"CreditScore\": 0, \"Income\": 13, \"Approved\": \"No\"}, {\"Age\": 16.33, \"Debt\": 0.21, \"CreditScore\": 0, \"Income\": 1, \"Approved\": \"No\"}, {\"Age\": 21.83, \"Debt\": 1.54, \"CreditScore\": 0, \"Income\": 0, \"Approved\": \"No\"}, {\"Age\": 64.08, \"Debt\": 0.165, \"CreditScore\": 1, \"Income\": 100, \"Approved\": \"Yes\"}, {\"Age\": 42.75, \"Debt\": 4.085, \"CreditScore\": 0, \"Income\": 100, \"Approved\": \"No\"}, {\"Age\": 29.58, \"Debt\": 1.75, \"CreditScore\": 0, \"Income\": 0, \"Approved\": \"No\"}, {\"Age\": 24.75, \"Debt\": 3.0, \"CreditScore\": 19, \"Income\": 500, \"Approved\": \"Yes\"}, {\"Age\": 39.58, \"Debt\": 5.0, \"CreditScore\": 2, \"Income\": 1, \"Approved\": \"No\"}, {\"Age\": 23.92, \"Debt\": 0.585, \"CreditScore\": 0, \"Income\": 1, \"Approved\": \"No\"}, {\"Age\": 19.58, \"Debt\": 0.665, \"CreditScore\": 1, \"Income\": 2, \"Approved\": \"No\"}, {\"Age\": 40.58, \"Debt\": 5.0, \"CreditScore\": 7, \"Income\": 3065, \"Approved\": \"Yes\"}, {\"Age\": 30.58, \"Debt\": 2.71, \"CreditScore\": 0, \"Income\": 0, \"Approved\": \"No\"}, {\"Age\": 25.67, \"Debt\": 0.29, \"CreditScore\": 0, \"Income\": 0, \"Approved\": \"No\"}, {\"Age\": 28.46, \"Debt\": 5.0, \"CreditScore\": 0, \"Income\": 0, \"Approved\": \"No\"}, {\"Age\": 31.25, \"Debt\": 2.835, \"CreditScore\": 5, \"Income\": 146, \"Approved\": \"No\"}, {\"Age\": 37.33, \"Debt\": 2.5, \"CreditScore\": 0, \"Income\": 246, \"Approved\": \"No\"}, {\"Age\": 28.25, \"Debt\": 5.125, \"CreditScore\": 2, \"Income\": 7, \"Approved\": \"Yes\"}, {\"Age\": 26.75, \"Debt\": 2.0, \"CreditScore\": 0, \"Income\": 0, \"Approved\": \"No\"}, {\"Age\": 18.42, \"Debt\": 10.415, \"CreditScore\": 0, \"Income\": 375, \"Approved\": \"No\"}, {\"Age\": 67.75, \"Debt\": 5.5, \"CreditScore\": 1, \"Income\": 0, \"Approved\": \"Yes\"}, {\"Age\": 18.83, \"Debt\": 0.0, \"CreditScore\": 0, \"Income\": 1, \"Approved\": \"No\"}, {\"Age\": 48.17, \"Debt\": 7.625, \"CreditScore\": 12, \"Income\": 790, \"Approved\": \"Yes\"}, {\"Age\": 48.17, \"Debt\": 3.5, \"CreditScore\": 0, \"Income\": 0, \"Approved\": \"Yes\"}, {\"Age\": 65.17, \"Debt\": 14.0, \"CreditScore\": 11, \"Income\": 1400, \"Approved\": \"Yes\"}, {\"Age\": 40.58, \"Debt\": 3.29, \"CreditScore\": 0, \"Income\": 0, \"Approved\": \"No\"}, {\"Age\": 22.0, \"Debt\": 0.79, \"CreditScore\": 1, \"Income\": 283, \"Approved\": \"No\"}, {\"Age\": 23.5, \"Debt\": 3.165, \"CreditScore\": 1, \"Income\": 80, \"Approved\": \"No\"}, {\"Age\": 21.08, \"Debt\": 4.125, \"CreditScore\": 0, \"Income\": 100, \"Approved\": \"No\"}, {\"Age\": 23.08, \"Debt\": 0.0, \"CreditScore\": 11, \"Income\": 0, \"Approved\": \"No\"}, {\"Age\": 51.42, \"Debt\": 0.04, \"CreditScore\": 0, \"Income\": 3000, \"Approved\": \"Yes\"}, {\"Age\": 20.0, \"Debt\": 0.0, \"CreditScore\": 0, \"Income\": 0, \"Approved\": \"No\"}, {\"Age\": 49.17, \"Debt\": 2.29, \"CreditScore\": 0, \"Income\": 3, \"Approved\": \"No\"}, {\"Age\": 23.58, \"Debt\": 0.83, \"CreditScore\": 1, \"Income\": 11, \"Approved\": \"No\"}, {\"Age\": 20.17, \"Debt\": 9.25, \"CreditScore\": 3, \"Income\": 28, \"Approved\": \"Yes\"}, {\"Age\": 47.25, \"Debt\": 0.75, \"CreditScore\": 1, \"Income\": 892, \"Approved\": \"Yes\"}, {\"Age\": 24.5, \"Debt\": 2.415, \"CreditScore\": 0, \"Income\": 0, \"Approved\": \"No\"}, {\"Age\": 34.08, \"Debt\": 6.5, \"CreditScore\": 0, \"Income\": 0, \"Approved\": \"No\"}, {\"Age\": 34.75, \"Debt\": 15.0, \"CreditScore\": 9, \"Income\": 134, \"Approved\": \"Yes\"}, {\"Age\": 20.08, \"Debt\": 0.125, \"CreditScore\": 1, \"Income\": 768, \"Approved\": \"Yes\"}, {\"Age\": 23.42, \"Debt\": 0.585, \"CreditScore\": 0, \"Income\": 0, \"Approved\": \"No\"}, {\"Age\": 34.17, \"Debt\": 1.54, \"CreditScore\": 1, \"Income\": 50000, \"Approved\": \"Yes\"}, {\"Age\": 25.58, \"Debt\": 0.335, \"CreditScore\": 0, \"Income\": 0, \"Approved\": \"No\"}, {\"Age\": 71.58, \"Debt\": 0.0, \"CreditScore\": 0, \"Income\": 0, \"Approved\": \"Yes\"}, {\"Age\": 54.42, \"Debt\": 0.5, \"CreditScore\": 0, \"Income\": 314, \"Approved\": \"Yes\"}, {\"Age\": 19.17, \"Debt\": 0.585, \"CreditScore\": 0, \"Income\": 0, \"Approved\": \"No\"}, {\"Age\": 27.0, \"Debt\": 0.75, \"CreditScore\": 3, \"Income\": 150, \"Approved\": \"Yes\"}, {\"Age\": 35.17, \"Debt\": 4.5, \"CreditScore\": 0, \"Income\": 0, \"Approved\": \"Yes\"}, {\"Age\": 17.42, \"Debt\": 6.5, \"CreditScore\": 0, \"Income\": 100, \"Approved\": \"No\"}, {\"Age\": 33.67, \"Debt\": 2.165, \"CreditScore\": 0, \"Income\": 0, \"Approved\": \"No\"}, {\"Age\": 20.67, \"Debt\": 0.835, \"CreditScore\": 0, \"Income\": 0, \"Approved\": \"No\"}, {\"Age\": 16.92, \"Debt\": 0.5, \"CreditScore\": 6, \"Income\": 35, \"Approved\": \"No\"}, {\"Age\": 25.0, \"Debt\": 0.875, \"CreditScore\": 0, \"Income\": 5860, \"Approved\": \"Yes\"}, {\"Age\": 29.83, \"Debt\": 3.5, \"CreditScore\": 0, \"Income\": 0, \"Approved\": \"No\"}, {\"Age\": 36.75, \"Debt\": 0.125, \"CreditScore\": 0, \"Income\": 113, \"Approved\": \"Yes\"}, {\"Age\": 24.42, \"Debt\": 2.0, \"CreditScore\": 2, \"Income\": 1300, \"Approved\": \"No\"}, {\"Age\": 22.67, \"Debt\": 0.79, \"CreditScore\": 0, \"Income\": 0, \"Approved\": \"No\"}, {\"Age\": 56.5, \"Debt\": 16.0, \"CreditScore\": 15, \"Income\": 247, \"Approved\": \"Yes\"}, {\"Age\": 34.0, \"Debt\": 4.5, \"CreditScore\": 0, \"Income\": 0, \"Approved\": \"No\"}, {\"Age\": 48.58, \"Debt\": 0.205, \"CreditScore\": 11, \"Income\": 2732, \"Approved\": \"Yes\"}, {\"Age\": 18.08, \"Debt\": 0.375, \"CreditScore\": 0, \"Income\": 0, \"Approved\": \"Yes\"}, {\"Age\": 56.75, \"Debt\": 12.25, \"CreditScore\": 4, \"Income\": 0, \"Approved\": \"Yes\"}, {\"Age\": 28.17, \"Debt\": 0.125, \"CreditScore\": 0, \"Income\": 2100, \"Approved\": \"No\"}, {\"Age\": 34.0, \"Debt\": 5.5, \"CreditScore\": 0, \"Income\": 0, \"Approved\": \"No\"}, {\"Age\": 26.58, \"Debt\": 2.54, \"CreditScore\": 0, \"Income\": 60, \"Approved\": \"No\"}, {\"Age\": 25.25, \"Debt\": 1.0, \"CreditScore\": 0, \"Income\": 0, \"Approved\": \"No\"}, {\"Age\": 18.25, \"Debt\": 0.165, \"CreditScore\": 0, \"Income\": 0, \"Approved\": \"No\"}, {\"Age\": 47.17, \"Debt\": 5.835, \"CreditScore\": 0, \"Income\": 150, \"Approved\": \"No\"}, {\"Age\": 69.17, \"Debt\": 9.0, \"CreditScore\": 1, \"Income\": 6, \"Approved\": \"No\"}, {\"Age\": 23.0, \"Debt\": 0.75, \"CreditScore\": 0, \"Income\": 0, \"Approved\": \"No\"}, {\"Age\": 30.58, \"Debt\": 10.665, \"CreditScore\": 12, \"Income\": 3, \"Approved\": \"No\"}, {\"Age\": 41.0, \"Debt\": 2.04, \"CreditScore\": 23, \"Income\": 1236, \"Approved\": \"Yes\"}, {\"Age\": 28.46, \"Debt\": 0.375, \"CreditScore\": 0, \"Income\": 0, \"Approved\": \"No\"}, {\"Age\": 19.75, \"Debt\": 0.75, \"CreditScore\": 5, \"Income\": 5, \"Approved\": \"No\"}, {\"Age\": 30.25, \"Debt\": 5.5, \"CreditScore\": 0, \"Income\": 0, \"Approved\": \"No\"}, {\"Age\": 28.25, \"Debt\": 0.875, \"CreditScore\": 3, \"Income\": 0, \"Approved\": \"Yes\"}, {\"Age\": 20.5, \"Debt\": 11.835, \"CreditScore\": 0, \"Income\": 0, \"Approved\": \"Yes\"}, {\"Age\": 22.67, \"Debt\": 1.585, \"CreditScore\": 6, \"Income\": 0, \"Approved\": \"Yes\"}, {\"Age\": 21.5, \"Debt\": 11.5, \"CreditScore\": 0, \"Income\": 68, \"Approved\": \"No\"}, {\"Age\": 28.92, \"Debt\": 0.375, \"CreditScore\": 0, \"Income\": 140, \"Approved\": \"No\"}, {\"Age\": 80.25, \"Debt\": 5.5, \"CreditScore\": 0, \"Income\": 340, \"Approved\": \"No\"}, {\"Age\": 27.17, \"Debt\": 1.25, \"CreditScore\": 1, \"Income\": 300, \"Approved\": \"No\"}, {\"Age\": 31.25, \"Debt\": 3.75, \"CreditScore\": 9, \"Income\": 0, \"Approved\": \"Yes\"}, {\"Age\": 27.58, \"Debt\": 2.04, \"CreditScore\": 3, \"Income\": 560, \"Approved\": \"Yes\"}, {\"Age\": 30.42, \"Debt\": 1.375, \"CreditScore\": 3, \"Income\": 33, \"Approved\": \"No\"}, {\"Age\": 45.83, \"Debt\": 10.5, \"CreditScore\": 7, \"Income\": 0, \"Approved\": \"Yes\"}, {\"Age\": 25.67, \"Debt\": 2.21, \"CreditScore\": 0, \"Income\": 0, \"Approved\": \"No\"}, {\"Age\": 17.08, \"Debt\": 0.085, \"CreditScore\": 0, \"Income\": 722, \"Approved\": \"No\"}, {\"Age\": 48.17, \"Debt\": 1.335, \"CreditScore\": 0, \"Income\": 120, \"Approved\": \"No\"}, {\"Age\": 17.58, \"Debt\": 9.0, \"CreditScore\": 0, \"Income\": 0, \"Approved\": \"Yes\"}, {\"Age\": 24.5, \"Debt\": 1.75, \"CreditScore\": 0, \"Income\": 0, \"Approved\": \"No\"}, {\"Age\": 27.83, \"Debt\": 1.54, \"CreditScore\": 5, \"Income\": 3, \"Approved\": \"Yes\"}, {\"Age\": 36.67, \"Debt\": 2.0, \"CreditScore\": 0, \"Income\": 0, \"Approved\": \"No\"}, {\"Age\": 45.33, \"Debt\": 1.0, \"CreditScore\": 0, \"Income\": 0, \"Approved\": \"No\"}, {\"Age\": 19.17, \"Debt\": 4.0, \"CreditScore\": 0, \"Income\": 1000, \"Approved\": \"No\"}, {\"Age\": 26.92, \"Debt\": 13.5, \"CreditScore\": 2, \"Income\": 5000, \"Approved\": \"Yes\"}, {\"Age\": 25.5, \"Debt\": 0.375, \"CreditScore\": 3, \"Income\": 15108, \"Approved\": \"Yes\"}, {\"Age\": 28.46, \"Debt\": 10.5, \"CreditScore\": 0, \"Income\": 0, \"Approved\": \"Yes\"}, {\"Age\": 26.92, \"Debt\": 2.25, \"CreditScore\": 0, \"Income\": 4000, \"Approved\": \"No\"}, {\"Age\": 23.17, \"Debt\": 0.0, \"CreditScore\": 0, \"Income\": 0, \"Approved\": \"Yes\"}, {\"Age\": 24.75, \"Debt\": 13.665, \"CreditScore\": 0, \"Income\": 1, \"Approved\": \"No\"}, {\"Age\": 26.0, \"Debt\": 1.0, \"CreditScore\": 0, \"Income\": 0, \"Approved\": \"Yes\"}, {\"Age\": 20.25, \"Debt\": 9.96, \"CreditScore\": 0, \"Income\": 0, \"Approved\": \"Yes\"}, {\"Age\": 27.58, \"Debt\": 3.0, \"CreditScore\": 1, \"Income\": 10, \"Approved\": \"No\"}, {\"Age\": 25.33, \"Debt\": 2.085, \"CreditScore\": 0, \"Income\": 1, \"Approved\": \"No\"}, {\"Age\": 48.75, \"Debt\": 26.335, \"CreditScore\": 0, \"Income\": 0, \"Approved\": \"No\"}, {\"Age\": 58.58, \"Debt\": 2.71, \"CreditScore\": 0, \"Income\": 0, \"Approved\": \"No\"}, {\"Age\": 35.25, \"Debt\": 3.165, \"CreditScore\": 0, \"Income\": 0, \"Approved\": \"No\"}, {\"Age\": 19.5, \"Debt\": 0.165, \"CreditScore\": 0, \"Income\": 0, \"Approved\": \"No\"}, {\"Age\": 40.0, \"Debt\": 6.5, \"CreditScore\": 1, \"Income\": 500, \"Approved\": \"Yes\"}, {\"Age\": 41.92, \"Debt\": 0.42, \"CreditScore\": 6, \"Income\": 948, \"Approved\": \"Yes\"}, {\"Age\": 28.42, \"Debt\": 3.5, \"CreditScore\": 0, \"Income\": 0, \"Approved\": \"Yes\"}, {\"Age\": 36.75, \"Debt\": 4.71, \"CreditScore\": 0, \"Income\": 0, \"Approved\": \"No\"}, {\"Age\": 18.5, \"Debt\": 2.0, \"CreditScore\": 2, \"Income\": 300, \"Approved\": \"Yes\"}, {\"Age\": 18.17, \"Debt\": 10.25, \"CreditScore\": 0, \"Income\": 13, \"Approved\": \"No\"}, {\"Age\": 15.17, \"Debt\": 7.0, \"CreditScore\": 0, \"Income\": 0, \"Approved\": \"No\"}, {\"Age\": 32.75, \"Debt\": 1.5, \"CreditScore\": 3, \"Income\": 0, \"Approved\": \"Yes\"}, {\"Age\": 26.33, \"Debt\": 13.0, \"CreditScore\": 0, \"Income\": 1110, \"Approved\": \"No\"}, {\"Age\": 17.92, \"Debt\": 0.205, \"CreditScore\": 0, \"Income\": 750, \"Approved\": \"No\"}, {\"Age\": 48.5, \"Debt\": 4.25, \"CreditScore\": 0, \"Income\": 0, \"Approved\": \"Yes\"}, {\"Age\": 15.83, \"Debt\": 7.625, \"CreditScore\": 1, \"Income\": 160, \"Approved\": \"No\"}, {\"Age\": 28.0, \"Debt\": 2.0, \"CreditScore\": 2, \"Income\": 0, \"Approved\": \"Yes\"}, {\"Age\": 24.08, \"Debt\": 9.0, \"CreditScore\": 0, \"Income\": 0, \"Approved\": \"No\"}, {\"Age\": 32.33, \"Debt\": 2.5, \"CreditScore\": 0, \"Income\": 0, \"Approved\": \"No\"}, {\"Age\": 34.67, \"Debt\": 1.08, \"CreditScore\": 0, \"Income\": 0, \"Approved\": \"No\"}, {\"Age\": 23.25, \"Debt\": 1.5, \"CreditScore\": 3, \"Income\": 582, \"Approved\": \"Yes\"}, {\"Age\": 41.17, \"Debt\": 1.25, \"CreditScore\": 0, \"Income\": 195, \"Approved\": \"No\"}, {\"Age\": 38.42, \"Debt\": 0.705, \"CreditScore\": 2, \"Income\": 500, \"Approved\": \"No\"}, {\"Age\": 30.17, \"Debt\": 0.5, \"CreditScore\": 11, \"Income\": 540, \"Approved\": \"Yes\"}, {\"Age\": 17.08, \"Debt\": 3.29, \"CreditScore\": 0, \"Income\": 2, \"Approved\": \"No\"}, {\"Age\": 26.67, \"Debt\": 1.75, \"CreditScore\": 5, \"Income\": 5777, \"Approved\": \"Yes\"}, {\"Age\": 23.0, \"Debt\": 0.75, \"CreditScore\": 0, \"Income\": 0, \"Approved\": \"No\"}, {\"Age\": 25.17, \"Debt\": 3.0, \"CreditScore\": 1, \"Income\": 22, \"Approved\": \"No\"}, {\"Age\": 22.92, \"Debt\": 1.25, \"CreditScore\": 0, \"Income\": 809, \"Approved\": \"No\"}, {\"Age\": 23.08, \"Debt\": 11.5, \"CreditScore\": 9, \"Income\": 742, \"Approved\": \"Yes\"}, {\"Age\": 32.42, \"Debt\": 3.0, \"CreditScore\": 0, \"Income\": 0, \"Approved\": \"No\"}, {\"Age\": 47.67, \"Debt\": 0.29, \"CreditScore\": 20, \"Income\": 15000, \"Approved\": \"Yes\"}, {\"Age\": 43.17, \"Debt\": 5.0, \"CreditScore\": 0, \"Income\": 0, \"Approved\": \"No\"}, {\"Age\": 28.5, \"Debt\": 1.0, \"CreditScore\": 2, \"Income\": 500, \"Approved\": \"No\"}, {\"Age\": 48.58, \"Debt\": 6.5, \"CreditScore\": 0, \"Income\": 0, \"Approved\": \"Yes\"}, {\"Age\": 25.0, \"Debt\": 12.5, \"CreditScore\": 0, \"Income\": 0, \"Approved\": \"Yes\"}, {\"Age\": 28.75, \"Debt\": 3.75, \"CreditScore\": 1, \"Income\": 0, \"Approved\": \"Yes\"}, {\"Age\": 22.83, \"Debt\": 2.29, \"CreditScore\": 7, \"Income\": 2384, \"Approved\": \"Yes\"}, {\"Age\": 46.08, \"Debt\": 3.0, \"CreditScore\": 8, \"Income\": 4159, \"Approved\": \"Yes\"}, {\"Age\": 22.67, \"Debt\": 0.75, \"CreditScore\": 2, \"Income\": 394, \"Approved\": \"No\"}, {\"Age\": 54.58, \"Debt\": 9.415, \"CreditScore\": 11, \"Income\": 300, \"Approved\": \"Yes\"}, {\"Age\": 39.08, \"Debt\": 4.0, \"CreditScore\": 0, \"Income\": 0, \"Approved\": \"No\"}, {\"Age\": 24.5, \"Debt\": 0.5, \"CreditScore\": 0, \"Income\": 824, \"Approved\": \"Yes\"}, {\"Age\": 39.5, \"Debt\": 1.625, \"CreditScore\": 0, \"Income\": 316, \"Approved\": \"No\"}, {\"Age\": 19.42, \"Debt\": 6.5, \"CreditScore\": 7, \"Income\": 2954, \"Approved\": \"Yes\"}, {\"Age\": 35.17, \"Debt\": 2.5, \"CreditScore\": 7, \"Income\": 1270, \"Approved\": \"Yes\"}, {\"Age\": 28.46, \"Debt\": 0.04, \"CreditScore\": 0, \"Income\": 0, \"Approved\": \"No\"}, {\"Age\": 35.0, \"Debt\": 2.5, \"CreditScore\": 0, \"Income\": 0, \"Approved\": \"No\"}, {\"Age\": 23.17, \"Debt\": 11.125, \"CreditScore\": 1, \"Income\": 0, \"Approved\": \"Yes\"}, {\"Age\": 28.0, \"Debt\": 3.0, \"CreditScore\": 0, \"Income\": 67, \"Approved\": \"No\"}, {\"Age\": 17.08, \"Debt\": 0.25, \"CreditScore\": 4, \"Income\": 8, \"Approved\": \"No\"}, {\"Age\": 24.5, \"Debt\": 1.04, \"CreditScore\": 3, \"Income\": 147, \"Approved\": \"No\"}, {\"Age\": 37.75, \"Debt\": 5.5, \"CreditScore\": 0, \"Income\": 0, \"Approved\": \"Yes\"}, {\"Age\": 30.08, \"Debt\": 1.04, \"CreditScore\": 10, \"Income\": 28, \"Approved\": \"No\"}, {\"Age\": 44.25, \"Debt\": 0.5, \"CreditScore\": 0, \"Income\": 0, \"Approved\": \"No\"}, {\"Age\": 31.92, \"Debt\": 4.46, \"CreditScore\": 3, \"Income\": 300, \"Approved\": \"Yes\"}, {\"Age\": 28.58, \"Debt\": 3.625, \"CreditScore\": 0, \"Income\": 0, \"Approved\": \"No\"}, {\"Age\": 33.75, \"Debt\": 0.75, \"CreditScore\": 3, \"Income\": 0, \"Approved\": \"No\"}, {\"Age\": 23.0, \"Debt\": 0.625, \"CreditScore\": 0, \"Income\": 1, \"Approved\": \"No\"}, {\"Age\": 26.67, \"Debt\": 2.71, \"CreditScore\": 1, \"Income\": 0, \"Approved\": \"Yes\"}, {\"Age\": 35.75, \"Debt\": 0.915, \"CreditScore\": 4, \"Income\": 1583, \"Approved\": \"Yes\"}, {\"Age\": 44.17, \"Debt\": 6.665, \"CreditScore\": 3, \"Income\": 0, \"Approved\": \"Yes\"}, {\"Age\": 28.75, \"Debt\": 1.165, \"CreditScore\": 0, \"Income\": 0, \"Approved\": \"No\"}, {\"Age\": 25.75, \"Debt\": 0.75, \"CreditScore\": 0, \"Income\": 23, \"Approved\": \"Yes\"}, {\"Age\": 23.25, \"Debt\": 5.875, \"CreditScore\": 10, \"Income\": 245, \"Approved\": \"Yes\"}, {\"Age\": 22.5, \"Debt\": 11.0, \"CreditScore\": 0, \"Income\": 0, \"Approved\": \"No\"}, {\"Age\": 33.67, \"Debt\": 0.375, \"CreditScore\": 0, \"Income\": 44, \"Approved\": \"Yes\"}, {\"Age\": 24.33, \"Debt\": 2.5, \"CreditScore\": 0, \"Income\": 456, \"Approved\": \"No\"}, {\"Age\": 42.83, \"Debt\": 1.25, \"CreditScore\": 1, \"Income\": 112, \"Approved\": \"No\"}, {\"Age\": 13.75, \"Debt\": 4.0, \"CreditScore\": 2, \"Income\": 1000, \"Approved\": \"Yes\"}]}}, {\"mode\": \"vega-lite\"});\n",
       "</script>"
      ],
      "text/plain": [
       "alt.Chart(...)"
      ]
     },
     "execution_count": 13,
     "metadata": {},
     "output_type": "execute_result"
    }
   ],
   "source": [
    "#Income vs Credit Score\n",
    "scatterplot_income = alt.Chart(data_train, title = \"Income vs Credit Score\").mark_point().encode(\n",
    "    x=alt.X(\"CreditScore\").title(\"Credit Score\").scale(domain=[0,20],clamp=True),\n",
    "    y=alt.Y(\"Income\").scale(domain=[0,10000],clamp= True),\n",
    "    color=alt.Color(\"Approved\")\n",
    ")\n",
    "scatterplot_income"
   ]
  },
  {
   "cell_type": "markdown",
   "id": "ffc49889",
   "metadata": {},
   "source": [
    "Figure 6. A scatter plot that shows a relationship between income and credit score and its correlation to credit card approcal using training data. "
   ]
  },
  {
   "cell_type": "code",
   "execution_count": 14,
   "id": "2a93cf25-3f5b-4210-a45b-b040539d79a4",
   "metadata": {
    "tags": []
   },
   "outputs": [
    {
     "data": {
      "text/html": [
       "\n",
       "<style>\n",
       "  #altair-viz-11a560145bce4d80add9ee8476b15b98.vega-embed {\n",
       "    width: 100%;\n",
       "    display: flex;\n",
       "  }\n",
       "\n",
       "  #altair-viz-11a560145bce4d80add9ee8476b15b98.vega-embed details,\n",
       "  #altair-viz-11a560145bce4d80add9ee8476b15b98.vega-embed details summary {\n",
       "    position: relative;\n",
       "  }\n",
       "</style>\n",
       "<div id=\"altair-viz-11a560145bce4d80add9ee8476b15b98\"></div>\n",
       "<script type=\"text/javascript\">\n",
       "  var VEGA_DEBUG = (typeof VEGA_DEBUG == \"undefined\") ? {} : VEGA_DEBUG;\n",
       "  (function(spec, embedOpt){\n",
       "    let outputDiv = document.currentScript.previousElementSibling;\n",
       "    if (outputDiv.id !== \"altair-viz-11a560145bce4d80add9ee8476b15b98\") {\n",
       "      outputDiv = document.getElementById(\"altair-viz-11a560145bce4d80add9ee8476b15b98\");\n",
       "    }\n",
       "    const paths = {\n",
       "      \"vega\": \"https://cdn.jsdelivr.net/npm/vega@5?noext\",\n",
       "      \"vega-lib\": \"https://cdn.jsdelivr.net/npm/vega-lib?noext\",\n",
       "      \"vega-lite\": \"https://cdn.jsdelivr.net/npm/vega-lite@5.15.1?noext\",\n",
       "      \"vega-embed\": \"https://cdn.jsdelivr.net/npm/vega-embed@6?noext\",\n",
       "    };\n",
       "\n",
       "    function maybeLoadScript(lib, version) {\n",
       "      var key = `${lib.replace(\"-\", \"\")}_version`;\n",
       "      return (VEGA_DEBUG[key] == version) ?\n",
       "        Promise.resolve(paths[lib]) :\n",
       "        new Promise(function(resolve, reject) {\n",
       "          var s = document.createElement('script');\n",
       "          document.getElementsByTagName(\"head\")[0].appendChild(s);\n",
       "          s.async = true;\n",
       "          s.onload = () => {\n",
       "            VEGA_DEBUG[key] = version;\n",
       "            return resolve(paths[lib]);\n",
       "          };\n",
       "          s.onerror = () => reject(`Error loading script: ${paths[lib]}`);\n",
       "          s.src = paths[lib];\n",
       "        });\n",
       "    }\n",
       "\n",
       "    function showError(err) {\n",
       "      outputDiv.innerHTML = `<div class=\"error\" style=\"color:red;\">${err}</div>`;\n",
       "      throw err;\n",
       "    }\n",
       "\n",
       "    function displayChart(vegaEmbed) {\n",
       "      vegaEmbed(outputDiv, spec, embedOpt)\n",
       "        .catch(err => showError(`Javascript Error: ${err.message}<br>This usually means there's a typo in your chart specification. See the javascript console for the full traceback.`));\n",
       "    }\n",
       "\n",
       "    if(typeof define === \"function\" && define.amd) {\n",
       "      requirejs.config({paths});\n",
       "      require([\"vega-embed\"], displayChart, err => showError(`Error loading script: ${err.message}`));\n",
       "    } else {\n",
       "      maybeLoadScript(\"vega\", \"5\")\n",
       "        .then(() => maybeLoadScript(\"vega-lite\", \"5.15.1\"))\n",
       "        .then(() => maybeLoadScript(\"vega-embed\", \"6\"))\n",
       "        .catch(showError)\n",
       "        .then(() => displayChart(vegaEmbed));\n",
       "    }\n",
       "  })({\"config\": {\"view\": {\"continuousWidth\": 300, \"continuousHeight\": 300}}, \"data\": {\"name\": \"data-9b2ed57830432ad344c2b937c9697da2\"}, \"mark\": {\"type\": \"point\"}, \"encoding\": {\"color\": {\"field\": \"Approved\", \"type\": \"nominal\"}, \"x\": {\"field\": \"CreditScore\", \"scale\": {\"domain\": [0, 20], \"clamp\": true}, \"title\": \"Credit Score\", \"type\": \"quantitative\"}, \"y\": {\"field\": \"Age\", \"scale\": {\"domain\": [0, 90], \"clamp\": true}, \"type\": \"quantitative\"}}, \"title\": \"Age vs Credit Score\", \"$schema\": \"https://vega.github.io/schema/vega-lite/v5.15.1.json\", \"datasets\": {\"data-9b2ed57830432ad344c2b937c9697da2\": [{\"Age\": 29.58, \"Debt\": 4.75, \"CreditScore\": 1, \"Income\": 68, \"Approved\": \"No\"}, {\"Age\": 25.67, \"Debt\": 12.5, \"CreditScore\": 67, \"Income\": 258, \"Approved\": \"Yes\"}, {\"Age\": 22.5, \"Debt\": 11.5, \"CreditScore\": 0, \"Income\": 4000, \"Approved\": \"No\"}, {\"Age\": 39.33, \"Debt\": 5.875, \"CreditScore\": 14, \"Income\": 0, \"Approved\": \"Yes\"}, {\"Age\": 22.17, \"Debt\": 12.125, \"CreditScore\": 2, \"Income\": 173, \"Approved\": \"No\"}, {\"Age\": 47.75, \"Debt\": 8.0, \"CreditScore\": 6, \"Income\": 1260, \"Approved\": \"Yes\"}, {\"Age\": 18.83, \"Debt\": 3.54, \"CreditScore\": 0, \"Income\": 1, \"Approved\": \"No\"}, {\"Age\": 32.83, \"Debt\": 2.5, \"CreditScore\": 6, \"Income\": 2072, \"Approved\": \"Yes\"}, {\"Age\": 34.83, \"Debt\": 2.5, \"CreditScore\": 0, \"Income\": 0, \"Approved\": \"No\"}, {\"Age\": 65.42, \"Debt\": 11.0, \"CreditScore\": 7, \"Income\": 0, \"Approved\": \"Yes\"}, {\"Age\": 18.58, \"Debt\": 5.71, \"CreditScore\": 0, \"Income\": 0, \"Approved\": \"No\"}, {\"Age\": 24.08, \"Debt\": 0.5, \"CreditScore\": 1, \"Income\": 678, \"Approved\": \"Yes\"}, {\"Age\": 32.0, \"Debt\": 6.0, \"CreditScore\": 0, \"Income\": 0, \"Approved\": \"No\"}, {\"Age\": 43.0, \"Debt\": 0.29, \"CreditScore\": 8, \"Income\": 375, \"Approved\": \"Yes\"}, {\"Age\": 24.58, \"Debt\": 1.25, \"CreditScore\": 0, \"Income\": 0, \"Approved\": \"No\"}, {\"Age\": 27.25, \"Debt\": 1.585, \"CreditScore\": 12, \"Income\": 713, \"Approved\": \"Yes\"}, {\"Age\": 54.33, \"Debt\": 6.75, \"CreditScore\": 11, \"Income\": 284, \"Approved\": \"Yes\"}, {\"Age\": 43.08, \"Debt\": 0.375, \"CreditScore\": 8, \"Income\": 162, \"Approved\": \"Yes\"}, {\"Age\": 29.5, \"Debt\": 2.0, \"CreditScore\": 0, \"Income\": 17, \"Approved\": \"No\"}, {\"Age\": 28.5, \"Debt\": 3.04, \"CreditScore\": 1, \"Income\": 0, \"Approved\": \"Yes\"}, {\"Age\": 28.92, \"Debt\": 15.0, \"CreditScore\": 11, \"Income\": 2283, \"Approved\": \"Yes\"}, {\"Age\": 22.08, \"Debt\": 2.335, \"CreditScore\": 0, \"Income\": 0, \"Approved\": \"No\"}, {\"Age\": 47.0, \"Debt\": 13.0, \"CreditScore\": 9, \"Income\": 0, \"Approved\": \"Yes\"}, {\"Age\": 26.83, \"Debt\": 0.54, \"CreditScore\": 0, \"Income\": 0, \"Approved\": \"No\"}, {\"Age\": 21.17, \"Debt\": 0.0, \"CreditScore\": 0, \"Income\": 0, \"Approved\": \"No\"}, {\"Age\": 20.42, \"Debt\": 0.835, \"CreditScore\": 1, \"Income\": 0, \"Approved\": \"Yes\"}, {\"Age\": 22.58, \"Debt\": 10.75, \"CreditScore\": 5, \"Income\": 560, \"Approved\": \"Yes\"}, {\"Age\": 36.75, \"Debt\": 5.125, \"CreditScore\": 0, \"Income\": 4000, \"Approved\": \"Yes\"}, {\"Age\": 19.17, \"Debt\": 5.415, \"CreditScore\": 0, \"Income\": 484, \"Approved\": \"No\"}, {\"Age\": 53.33, \"Debt\": 0.165, \"CreditScore\": 0, \"Income\": 27, \"Approved\": \"No\"}, {\"Age\": 22.67, \"Debt\": 2.54, \"CreditScore\": 0, \"Income\": 0, \"Approved\": \"Yes\"}, {\"Age\": 57.83, \"Debt\": 7.04, \"CreditScore\": 6, \"Income\": 1332, \"Approved\": \"Yes\"}, {\"Age\": 36.67, \"Debt\": 4.415, \"CreditScore\": 10, \"Income\": 0, \"Approved\": \"Yes\"}, {\"Age\": 29.67, \"Debt\": 1.415, \"CreditScore\": 1, \"Income\": 100, \"Approved\": \"Yes\"}, {\"Age\": 16.08, \"Debt\": 0.335, \"CreditScore\": 1, \"Income\": 126, \"Approved\": \"No\"}, {\"Age\": 17.58, \"Debt\": 10.0, \"CreditScore\": 1, \"Income\": 1, \"Approved\": \"No\"}, {\"Age\": 41.33, \"Debt\": 0.0, \"CreditScore\": 0, \"Income\": 0, \"Approved\": \"Yes\"}, {\"Age\": 22.67, \"Debt\": 10.5, \"CreditScore\": 0, \"Income\": 0, \"Approved\": \"Yes\"}, {\"Age\": 18.92, \"Debt\": 9.0, \"CreditScore\": 2, \"Income\": 591, \"Approved\": \"Yes\"}, {\"Age\": 32.17, \"Debt\": 1.46, \"CreditScore\": 16, \"Income\": 2079, \"Approved\": \"Yes\"}, {\"Age\": 27.75, \"Debt\": 1.29, \"CreditScore\": 0, \"Income\": 0, \"Approved\": \"No\"}, {\"Age\": 24.5, \"Debt\": 13.335, \"CreditScore\": 0, \"Income\": 475, \"Approved\": \"No\"}, {\"Age\": 52.33, \"Debt\": 1.375, \"CreditScore\": 0, \"Income\": 100, \"Approved\": \"No\"}, {\"Age\": 18.0, \"Debt\": 0.165, \"CreditScore\": 0, \"Income\": 40, \"Approved\": \"Yes\"}, {\"Age\": 23.33, \"Debt\": 11.625, \"CreditScore\": 0, \"Income\": 300, \"Approved\": \"Yes\"}, {\"Age\": 21.75, \"Debt\": 11.75, \"CreditScore\": 0, \"Income\": 0, \"Approved\": \"No\"}, {\"Age\": 39.42, \"Debt\": 1.71, \"CreditScore\": 0, \"Income\": 0, \"Approved\": \"No\"}, {\"Age\": 20.08, \"Debt\": 0.25, \"CreditScore\": 0, \"Income\": 0, \"Approved\": \"No\"}, {\"Age\": 39.25, \"Debt\": 9.5, \"CreditScore\": 14, \"Income\": 4607, \"Approved\": \"Yes\"}, {\"Age\": 37.75, \"Debt\": 7.0, \"CreditScore\": 7, \"Income\": 5, \"Approved\": \"No\"}, {\"Age\": 51.92, \"Debt\": 6.5, \"CreditScore\": 0, \"Income\": 0, \"Approved\": \"No\"}, {\"Age\": 21.83, \"Debt\": 11.0, \"CreditScore\": 6, \"Income\": 0, \"Approved\": \"Yes\"}, {\"Age\": 28.33, \"Debt\": 5.0, \"CreditScore\": 0, \"Income\": 0, \"Approved\": \"Yes\"}, {\"Age\": 27.83, \"Debt\": 1.0, \"CreditScore\": 0, \"Income\": 537, \"Approved\": \"No\"}, {\"Age\": 28.46, \"Debt\": 4.0, \"CreditScore\": 0, \"Income\": 0, \"Approved\": \"No\"}, {\"Age\": 29.42, \"Debt\": 1.25, \"CreditScore\": 2, \"Income\": 108, \"Approved\": \"No\"}, {\"Age\": 52.5, \"Debt\": 7.0, \"CreditScore\": 0, \"Income\": 0, \"Approved\": \"No\"}, {\"Age\": 21.83, \"Debt\": 0.25, \"CreditScore\": 0, \"Income\": 0, \"Approved\": \"Yes\"}, {\"Age\": 20.0, \"Debt\": 7.0, \"CreditScore\": 0, \"Income\": 0, \"Approved\": \"No\"}, {\"Age\": 57.58, \"Debt\": 2.0, \"CreditScore\": 1, \"Income\": 10, \"Approved\": \"No\"}, {\"Age\": 29.25, \"Debt\": 14.79, \"CreditScore\": 5, \"Income\": 0, \"Approved\": \"Yes\"}, {\"Age\": 40.92, \"Debt\": 0.835, \"CreditScore\": 0, \"Income\": 1, \"Approved\": \"No\"}, {\"Age\": 30.83, \"Debt\": 0.0, \"CreditScore\": 1, \"Income\": 0, \"Approved\": \"Yes\"}, {\"Age\": 38.58, \"Debt\": 5.0, \"CreditScore\": 0, \"Income\": 0, \"Approved\": \"No\"}, {\"Age\": 24.83, \"Debt\": 4.5, \"CreditScore\": 0, \"Income\": 6, \"Approved\": \"No\"}, {\"Age\": 25.75, \"Debt\": 0.5, \"CreditScore\": 5, \"Income\": 0, \"Approved\": \"Yes\"}, {\"Age\": 21.17, \"Debt\": 0.875, \"CreditScore\": 0, \"Income\": 204, \"Approved\": \"No\"}, {\"Age\": 16.92, \"Debt\": 0.335, \"CreditScore\": 0, \"Income\": 0, \"Approved\": \"No\"}, {\"Age\": 32.75, \"Debt\": 2.335, \"CreditScore\": 0, \"Income\": 0, \"Approved\": \"No\"}, {\"Age\": 60.08, \"Debt\": 14.5, \"CreditScore\": 15, \"Income\": 1000, \"Approved\": \"Yes\"}, {\"Age\": 34.08, \"Debt\": 2.5, \"CreditScore\": 0, \"Income\": 16, \"Approved\": \"No\"}, {\"Age\": 18.42, \"Debt\": 9.25, \"CreditScore\": 4, \"Income\": 540, \"Approved\": \"Yes\"}, {\"Age\": 35.58, \"Debt\": 0.75, \"CreditScore\": 0, \"Income\": 0, \"Approved\": \"No\"}, {\"Age\": 22.5, \"Debt\": 0.125, \"CreditScore\": 0, \"Income\": 70, \"Approved\": \"No\"}, {\"Age\": 21.33, \"Debt\": 10.5, \"CreditScore\": 0, \"Income\": 0, \"Approved\": \"Yes\"}, {\"Age\": 21.75, \"Debt\": 1.75, \"CreditScore\": 0, \"Income\": 0, \"Approved\": \"No\"}, {\"Age\": 57.08, \"Debt\": 0.335, \"CreditScore\": 0, \"Income\": 2197, \"Approved\": \"No\"}, {\"Age\": 44.83, \"Debt\": 7.0, \"CreditScore\": 0, \"Income\": 2, \"Approved\": \"No\"}, {\"Age\": 20.42, \"Debt\": 10.5, \"CreditScore\": 0, \"Income\": 32, \"Approved\": \"No\"}, {\"Age\": 22.25, \"Debt\": 0.46, \"CreditScore\": 0, \"Income\": 55, \"Approved\": \"No\"}, {\"Age\": 41.17, \"Debt\": 6.5, \"CreditScore\": 3, \"Income\": 0, \"Approved\": \"Yes\"}, {\"Age\": 22.67, \"Debt\": 0.335, \"CreditScore\": 0, \"Income\": 0, \"Approved\": \"No\"}, {\"Age\": 40.83, \"Debt\": 3.5, \"CreditScore\": 0, \"Income\": 0, \"Approved\": \"No\"}, {\"Age\": 22.58, \"Debt\": 10.04, \"CreditScore\": 9, \"Income\": 396, \"Approved\": \"Yes\"}, {\"Age\": 35.42, \"Debt\": 12.0, \"CreditScore\": 8, \"Income\": 6590, \"Approved\": \"Yes\"}, {\"Age\": 28.46, \"Debt\": 4.0, \"CreditScore\": 3, \"Income\": 2279, \"Approved\": \"Yes\"}, {\"Age\": 18.17, \"Debt\": 2.46, \"CreditScore\": 2, \"Income\": 587, \"Approved\": \"No\"}, {\"Age\": 26.75, \"Debt\": 4.5, \"CreditScore\": 0, \"Income\": 1210, \"Approved\": \"No\"}, {\"Age\": 31.83, \"Debt\": 0.04, \"CreditScore\": 0, \"Income\": 0, \"Approved\": \"No\"}, {\"Age\": 34.58, \"Debt\": 0.0, \"CreditScore\": 0, \"Income\": 0, \"Approved\": \"No\"}, {\"Age\": 21.0, \"Debt\": 4.79, \"CreditScore\": 1, \"Income\": 300, \"Approved\": \"Yes\"}, {\"Age\": 45.0, \"Debt\": 4.585, \"CreditScore\": 0, \"Income\": 0, \"Approved\": \"No\"}, {\"Age\": 45.17, \"Debt\": 1.5, \"CreditScore\": 0, \"Income\": 0, \"Approved\": \"No\"}, {\"Age\": 21.5, \"Debt\": 6.0, \"CreditScore\": 3, \"Income\": 918, \"Approved\": \"Yes\"}, {\"Age\": 30.5, \"Debt\": 6.5, \"CreditScore\": 7, \"Income\": 3065, \"Approved\": \"Yes\"}, {\"Age\": 33.0, \"Debt\": 2.5, \"CreditScore\": 0, \"Income\": 0, \"Approved\": \"No\"}, {\"Age\": 73.42, \"Debt\": 17.75, \"CreditScore\": 0, \"Income\": 0, \"Approved\": \"Yes\"}, {\"Age\": 54.83, \"Debt\": 15.5, \"CreditScore\": 20, \"Income\": 130, \"Approved\": \"No\"}, {\"Age\": 32.42, \"Debt\": 2.165, \"CreditScore\": 0, \"Income\": 0, \"Approved\": \"No\"}, {\"Age\": 20.67, \"Debt\": 1.25, \"CreditScore\": 3, \"Income\": 210, \"Approved\": \"No\"}, {\"Age\": 58.42, \"Debt\": 21.0, \"CreditScore\": 13, \"Income\": 6700, \"Approved\": \"Yes\"}, {\"Age\": 26.75, \"Debt\": 1.125, \"CreditScore\": 0, \"Income\": 5298, \"Approved\": \"Yes\"}, {\"Age\": 23.42, \"Debt\": 1.0, \"CreditScore\": 0, \"Income\": 0, \"Approved\": \"No\"}, {\"Age\": 23.92, \"Debt\": 0.665, \"CreditScore\": 0, \"Income\": 0, \"Approved\": \"Yes\"}, {\"Age\": 18.75, \"Debt\": 7.5, \"CreditScore\": 5, \"Income\": 26726, \"Approved\": \"Yes\"}, {\"Age\": 23.58, \"Debt\": 1.79, \"CreditScore\": 0, \"Income\": 1, \"Approved\": \"No\"}, {\"Age\": 20.17, \"Debt\": 8.17, \"CreditScore\": 14, \"Income\": 158, \"Approved\": \"Yes\"}, {\"Age\": 41.33, \"Debt\": 1.0, \"CreditScore\": 0, \"Income\": 300, \"Approved\": \"Yes\"}, {\"Age\": 68.67, \"Debt\": 15.0, \"CreditScore\": 14, \"Income\": 3376, \"Approved\": \"Yes\"}, {\"Age\": 47.42, \"Debt\": 3.0, \"CreditScore\": 2, \"Income\": 1704, \"Approved\": \"Yes\"}, {\"Age\": 22.67, \"Debt\": 0.165, \"CreditScore\": 0, \"Income\": 0, \"Approved\": \"Yes\"}, {\"Age\": 25.58, \"Debt\": 0.0, \"CreditScore\": 0, \"Income\": 0, \"Approved\": \"Yes\"}, {\"Age\": 28.08, \"Debt\": 15.0, \"CreditScore\": 0, \"Income\": 13212, \"Approved\": \"Yes\"}, {\"Age\": 16.17, \"Debt\": 0.04, \"CreditScore\": 0, \"Income\": 0, \"Approved\": \"Yes\"}, {\"Age\": 38.58, \"Debt\": 3.335, \"CreditScore\": 14, \"Income\": 1344, \"Approved\": \"Yes\"}, {\"Age\": 33.25, \"Debt\": 3.0, \"CreditScore\": 0, \"Income\": 0, \"Approved\": \"No\"}, {\"Age\": 51.83, \"Debt\": 3.0, \"CreditScore\": 0, \"Income\": 4, \"Approved\": \"No\"}, {\"Age\": 26.5, \"Debt\": 2.71, \"CreditScore\": 0, \"Income\": 0, \"Approved\": \"No\"}, {\"Age\": 36.33, \"Debt\": 2.125, \"CreditScore\": 1, \"Income\": 1187, \"Approved\": \"Yes\"}, {\"Age\": 34.92, \"Debt\": 5.0, \"CreditScore\": 6, \"Income\": 1000, \"Approved\": \"Yes\"}, {\"Age\": 27.0, \"Debt\": 1.5, \"CreditScore\": 0, \"Income\": 1065, \"Approved\": \"Yes\"}, {\"Age\": 23.75, \"Debt\": 0.415, \"CreditScore\": 2, \"Income\": 6, \"Approved\": \"No\"}, {\"Age\": 16.0, \"Debt\": 3.125, \"CreditScore\": 1, \"Income\": 6, \"Approved\": \"No\"}, {\"Age\": 19.58, \"Debt\": 0.585, \"CreditScore\": 3, \"Income\": 769, \"Approved\": \"No\"}, {\"Age\": 29.17, \"Debt\": 3.5, \"CreditScore\": 3, \"Income\": 0, \"Approved\": \"No\"}, {\"Age\": 28.58, \"Debt\": 3.54, \"CreditScore\": 0, \"Income\": 0, \"Approved\": \"No\"}, {\"Age\": 20.33, \"Debt\": 10.0, \"CreditScore\": 4, \"Income\": 1465, \"Approved\": \"Yes\"}, {\"Age\": 25.0, \"Debt\": 11.25, \"CreditScore\": 17, \"Income\": 1208, \"Approved\": \"Yes\"}, {\"Age\": 32.67, \"Debt\": 9.0, \"CreditScore\": 0, \"Income\": 0, \"Approved\": \"Yes\"}, {\"Age\": 38.92, \"Debt\": 1.665, \"CreditScore\": 0, \"Income\": 390, \"Approved\": \"No\"}, {\"Age\": 22.83, \"Debt\": 3.0, \"CreditScore\": 1, \"Income\": 800, \"Approved\": \"Yes\"}, {\"Age\": 18.17, \"Debt\": 10.0, \"CreditScore\": 0, \"Income\": 0, \"Approved\": \"No\"}, {\"Age\": 29.58, \"Debt\": 4.5, \"CreditScore\": 2, \"Income\": 0, \"Approved\": \"Yes\"}, {\"Age\": 23.25, \"Debt\": 12.625, \"CreditScore\": 2, \"Income\": 5552, \"Approved\": \"No\"}, {\"Age\": 18.58, \"Debt\": 10.0, \"CreditScore\": 0, \"Income\": 42, \"Approved\": \"No\"}, {\"Age\": 20.0, \"Debt\": 11.045, \"CreditScore\": 0, \"Income\": 0, \"Approved\": \"No\"}, {\"Age\": 22.42, \"Debt\": 5.665, \"CreditScore\": 7, \"Income\": 3257, \"Approved\": \"Yes\"}, {\"Age\": 31.83, \"Debt\": 2.5, \"CreditScore\": 0, \"Income\": 0, \"Approved\": \"No\"}, {\"Age\": 24.33, \"Debt\": 6.625, \"CreditScore\": 0, \"Income\": 0, \"Approved\": \"Yes\"}, {\"Age\": 21.92, \"Debt\": 11.665, \"CreditScore\": 0, \"Income\": 5, \"Approved\": \"No\"}, {\"Age\": 36.58, \"Debt\": 0.29, \"CreditScore\": 10, \"Income\": 18, \"Approved\": \"No\"}, {\"Age\": 25.67, \"Debt\": 3.25, \"CreditScore\": 1, \"Income\": 21, \"Approved\": \"No\"}, {\"Age\": 42.0, \"Debt\": 0.205, \"CreditScore\": 0, \"Income\": 0, \"Approved\": \"Yes\"}, {\"Age\": 19.58, \"Debt\": 0.665, \"CreditScore\": 0, \"Income\": 5, \"Approved\": \"No\"}, {\"Age\": 36.33, \"Debt\": 3.79, \"CreditScore\": 0, \"Income\": 0, \"Approved\": \"No\"}, {\"Age\": 33.17, \"Debt\": 1.0, \"CreditScore\": 7, \"Income\": 4071, \"Approved\": \"Yes\"}, {\"Age\": 30.17, \"Debt\": 6.5, \"CreditScore\": 8, \"Income\": 1200, \"Approved\": \"Yes\"}, {\"Age\": 56.58, \"Debt\": 18.5, \"CreditScore\": 17, \"Income\": 0, \"Approved\": \"Yes\"}, {\"Age\": 63.33, \"Debt\": 0.54, \"CreditScore\": 3, \"Income\": 0, \"Approved\": \"No\"}, {\"Age\": 41.17, \"Debt\": 4.04, \"CreditScore\": 8, \"Income\": 0, \"Approved\": \"Yes\"}, {\"Age\": 24.5, \"Debt\": 12.75, \"CreditScore\": 2, \"Income\": 444, \"Approved\": \"Yes\"}, {\"Age\": 33.08, \"Debt\": 4.625, \"CreditScore\": 2, \"Income\": 0, \"Approved\": \"Yes\"}, {\"Age\": 33.08, \"Debt\": 1.625, \"CreditScore\": 0, \"Income\": 0, \"Approved\": \"No\"}, {\"Age\": 42.17, \"Debt\": 5.04, \"CreditScore\": 0, \"Income\": 0, \"Approved\": \"Yes\"}, {\"Age\": 32.33, \"Debt\": 7.5, \"CreditScore\": 0, \"Income\": 0, \"Approved\": \"No\"}, {\"Age\": 29.5, \"Debt\": 0.58, \"CreditScore\": 1, \"Income\": 2803, \"Approved\": \"No\"}, {\"Age\": 41.58, \"Debt\": 1.75, \"CreditScore\": 0, \"Income\": 0, \"Approved\": \"No\"}, {\"Age\": 26.67, \"Debt\": 14.585, \"CreditScore\": 0, \"Income\": 0, \"Approved\": \"No\"}, {\"Age\": 23.25, \"Debt\": 1.0, \"CreditScore\": 0, \"Income\": 0, \"Approved\": \"Yes\"}, {\"Age\": 25.83, \"Debt\": 12.835, \"CreditScore\": 0, \"Income\": 2, \"Approved\": \"No\"}, {\"Age\": 29.67, \"Debt\": 0.75, \"CreditScore\": 0, \"Income\": 0, \"Approved\": \"No\"}, {\"Age\": 22.67, \"Debt\": 7.0, \"CreditScore\": 0, \"Income\": 0, \"Approved\": \"No\"}, {\"Age\": 27.67, \"Debt\": 0.75, \"CreditScore\": 0, \"Income\": 251, \"Approved\": \"No\"}, {\"Age\": 32.08, \"Debt\": 4.0, \"CreditScore\": 0, \"Income\": 0, \"Approved\": \"No\"}, {\"Age\": 20.42, \"Debt\": 7.0, \"CreditScore\": 3, \"Income\": 1391, \"Approved\": \"Yes\"}, {\"Age\": 27.67, \"Debt\": 13.75, \"CreditScore\": 0, \"Income\": 500, \"Approved\": \"Yes\"}, {\"Age\": 18.83, \"Debt\": 9.54, \"CreditScore\": 0, \"Income\": 0, \"Approved\": \"Yes\"}, {\"Age\": 48.08, \"Debt\": 3.75, \"CreditScore\": 0, \"Income\": 2, \"Approved\": \"No\"}, {\"Age\": 18.83, \"Debt\": 0.415, \"CreditScore\": 1, \"Income\": 1, \"Approved\": \"No\"}, {\"Age\": 27.67, \"Debt\": 2.0, \"CreditScore\": 4, \"Income\": 7544, \"Approved\": \"Yes\"}, {\"Age\": 17.25, \"Debt\": 3.0, \"CreditScore\": 0, \"Income\": 40, \"Approved\": \"No\"}, {\"Age\": 23.5, \"Debt\": 1.5, \"CreditScore\": 0, \"Income\": 0, \"Approved\": \"No\"}, {\"Age\": 25.92, \"Debt\": 0.875, \"CreditScore\": 2, \"Income\": 3, \"Approved\": \"No\"}, {\"Age\": 38.75, \"Debt\": 1.5, \"CreditScore\": 0, \"Income\": 0, \"Approved\": \"No\"}, {\"Age\": 20.75, \"Debt\": 9.54, \"CreditScore\": 0, \"Income\": 1000, \"Approved\": \"No\"}, {\"Age\": 40.33, \"Debt\": 8.125, \"CreditScore\": 2, \"Income\": 18, \"Approved\": \"No\"}, {\"Age\": 37.42, \"Debt\": 2.04, \"CreditScore\": 0, \"Income\": 5800, \"Approved\": \"Yes\"}, {\"Age\": 34.42, \"Debt\": 1.335, \"CreditScore\": 0, \"Income\": 4500, \"Approved\": \"No\"}, {\"Age\": 22.5, \"Debt\": 0.415, \"CreditScore\": 0, \"Income\": 0, \"Approved\": \"No\"}, {\"Age\": 28.75, \"Debt\": 1.5, \"CreditScore\": 0, \"Income\": 225, \"Approved\": \"No\"}, {\"Age\": 59.5, \"Debt\": 2.75, \"CreditScore\": 5, \"Income\": 58, \"Approved\": \"Yes\"}, {\"Age\": 23.58, \"Debt\": 0.835, \"CreditScore\": 0, \"Income\": 5, \"Approved\": \"No\"}, {\"Age\": 22.5, \"Debt\": 8.5, \"CreditScore\": 10, \"Income\": 990, \"Approved\": \"No\"}, {\"Age\": 27.83, \"Debt\": 4.0, \"CreditScore\": 2, \"Income\": 0, \"Approved\": \"No\"}, {\"Age\": 20.83, \"Debt\": 3.0, \"CreditScore\": 0, \"Income\": 0, \"Approved\": \"Yes\"}, {\"Age\": 39.0, \"Debt\": 5.0, \"CreditScore\": 10, \"Income\": 0, \"Approved\": \"Yes\"}, {\"Age\": 30.75, \"Debt\": 1.585, \"CreditScore\": 0, \"Income\": 0, \"Approved\": \"No\"}, {\"Age\": 22.67, \"Debt\": 0.75, \"CreditScore\": 1, \"Income\": 9, \"Approved\": \"No\"}, {\"Age\": 50.25, \"Debt\": 0.835, \"CreditScore\": 0, \"Income\": 117, \"Approved\": \"No\"}, {\"Age\": 34.0, \"Debt\": 5.085, \"CreditScore\": 0, \"Income\": 0, \"Approved\": \"No\"}, {\"Age\": 48.25, \"Debt\": 25.085, \"CreditScore\": 3, \"Income\": 14, \"Approved\": \"Yes\"}, {\"Age\": 25.25, \"Debt\": 12.5, \"CreditScore\": 0, \"Income\": 1062, \"Approved\": \"No\"}, {\"Age\": 23.75, \"Debt\": 0.71, \"CreditScore\": 1, \"Income\": 4, \"Approved\": \"No\"}, {\"Age\": 41.17, \"Debt\": 1.335, \"CreditScore\": 0, \"Income\": 0, \"Approved\": \"No\"}, {\"Age\": 33.17, \"Debt\": 1.04, \"CreditScore\": 0, \"Income\": 31285, \"Approved\": \"Yes\"}, {\"Age\": 23.75, \"Debt\": 12.0, \"CreditScore\": 0, \"Income\": 0, \"Approved\": \"No\"}, {\"Age\": 20.83, \"Debt\": 0.5, \"CreditScore\": 0, \"Income\": 0, \"Approved\": \"No\"}, {\"Age\": 39.92, \"Debt\": 5.0, \"CreditScore\": 0, \"Income\": 0, \"Approved\": \"No\"}, {\"Age\": 26.17, \"Debt\": 12.5, \"CreditScore\": 0, \"Income\": 17, \"Approved\": \"No\"}, {\"Age\": 39.17, \"Debt\": 2.5, \"CreditScore\": 0, \"Income\": 0, \"Approved\": \"No\"}, {\"Age\": 33.58, \"Debt\": 0.25, \"CreditScore\": 0, \"Income\": 0, \"Approved\": \"No\"}, {\"Age\": 23.42, \"Debt\": 0.79, \"CreditScore\": 2, \"Income\": 400, \"Approved\": \"Yes\"}, {\"Age\": 23.0, \"Debt\": 11.75, \"CreditScore\": 2, \"Income\": 551, \"Approved\": \"Yes\"}, {\"Age\": 33.92, \"Debt\": 1.585, \"CreditScore\": 0, \"Income\": 0, \"Approved\": \"No\"}, {\"Age\": 34.42, \"Debt\": 4.25, \"CreditScore\": 2, \"Income\": 610, \"Approved\": \"Yes\"}, {\"Age\": 19.42, \"Debt\": 7.25, \"CreditScore\": 1, \"Income\": 1, \"Approved\": \"No\"}, {\"Age\": 28.46, \"Debt\": 3.0, \"CreditScore\": 0, \"Income\": 1, \"Approved\": \"No\"}, {\"Age\": 40.83, \"Debt\": 10.0, \"CreditScore\": 0, \"Income\": 837, \"Approved\": \"Yes\"}, {\"Age\": 27.67, \"Debt\": 2.04, \"CreditScore\": 0, \"Income\": 50, \"Approved\": \"No\"}, {\"Age\": 22.75, \"Debt\": 11.5, \"CreditScore\": 0, \"Income\": 0, \"Approved\": \"No\"}, {\"Age\": 37.5, \"Debt\": 0.835, \"CreditScore\": 0, \"Income\": 5, \"Approved\": \"No\"}, {\"Age\": 27.75, \"Debt\": 0.585, \"CreditScore\": 2, \"Income\": 500, \"Approved\": \"Yes\"}, {\"Age\": 55.75, \"Debt\": 7.08, \"CreditScore\": 3, \"Income\": 50, \"Approved\": \"No\"}, {\"Age\": 62.5, \"Debt\": 12.75, \"CreditScore\": 0, \"Income\": 0, \"Approved\": \"No\"}, {\"Age\": 38.25, \"Debt\": 6.0, \"CreditScore\": 0, \"Income\": 0, \"Approved\": \"Yes\"}, {\"Age\": 40.92, \"Debt\": 0.5, \"CreditScore\": 0, \"Income\": 0, \"Approved\": \"No\"}, {\"Age\": 28.46, \"Debt\": 1.5, \"CreditScore\": 2, \"Income\": 105, \"Approved\": \"No\"}, {\"Age\": 27.25, \"Debt\": 1.665, \"CreditScore\": 9, \"Income\": 827, \"Approved\": \"Yes\"}, {\"Age\": 23.58, \"Debt\": 0.585, \"CreditScore\": 0, \"Income\": 87, \"Approved\": \"No\"}, {\"Age\": 16.5, \"Debt\": 0.125, \"CreditScore\": 0, \"Income\": 0, \"Approved\": \"No\"}, {\"Age\": 28.46, \"Debt\": 0.5, \"CreditScore\": 0, \"Income\": 0, \"Approved\": \"No\"}, {\"Age\": 15.83, \"Debt\": 0.585, \"CreditScore\": 2, \"Income\": 0, \"Approved\": \"Yes\"}, {\"Age\": 25.0, \"Debt\": 12.33, \"CreditScore\": 6, \"Income\": 458, \"Approved\": \"Yes\"}, {\"Age\": 32.0, \"Debt\": 1.75, \"CreditScore\": 0, \"Income\": 0, \"Approved\": \"Yes\"}, {\"Age\": 27.67, \"Debt\": 1.5, \"CreditScore\": 0, \"Income\": 0, \"Approved\": \"No\"}, {\"Age\": 23.08, \"Debt\": 2.5, \"CreditScore\": 0, \"Income\": 4208, \"Approved\": \"No\"}, {\"Age\": 36.25, \"Debt\": 5.0, \"CreditScore\": 6, \"Income\": 367, \"Approved\": \"Yes\"}, {\"Age\": 58.67, \"Debt\": 4.46, \"CreditScore\": 6, \"Income\": 560, \"Approved\": \"Yes\"}, {\"Age\": 25.17, \"Debt\": 2.875, \"CreditScore\": 0, \"Income\": 0, \"Approved\": \"Yes\"}, {\"Age\": 19.17, \"Debt\": 8.585, \"CreditScore\": 7, \"Income\": 0, \"Approved\": \"Yes\"}, {\"Age\": 42.08, \"Debt\": 1.04, \"CreditScore\": 6, \"Income\": 10000, \"Approved\": \"Yes\"}, {\"Age\": 34.75, \"Debt\": 2.5, \"CreditScore\": 0, \"Income\": 0, \"Approved\": \"No\"}, {\"Age\": 28.17, \"Debt\": 0.585, \"CreditScore\": 0, \"Income\": 1004, \"Approved\": \"No\"}, {\"Age\": 36.17, \"Debt\": 5.5, \"CreditScore\": 0, \"Income\": 687, \"Approved\": \"No\"}, {\"Age\": 18.83, \"Debt\": 4.415, \"CreditScore\": 0, \"Income\": 0, \"Approved\": \"Yes\"}, {\"Age\": 22.25, \"Debt\": 9.0, \"CreditScore\": 0, \"Income\": 0, \"Approved\": \"No\"}, {\"Age\": 34.83, \"Debt\": 4.0, \"CreditScore\": 0, \"Income\": 0, \"Approved\": \"No\"}, {\"Age\": 26.17, \"Debt\": 2.0, \"CreditScore\": 0, \"Income\": 1, \"Approved\": \"No\"}, {\"Age\": 28.46, \"Debt\": 3.5, \"CreditScore\": 0, \"Income\": 0, \"Approved\": \"No\"}, {\"Age\": 21.42, \"Debt\": 0.75, \"CreditScore\": 0, \"Income\": 2, \"Approved\": \"No\"}, {\"Age\": 18.25, \"Debt\": 10.0, \"CreditScore\": 1, \"Income\": 1, \"Approved\": \"No\"}, {\"Age\": 22.08, \"Debt\": 11.46, \"CreditScore\": 0, \"Income\": 1212, \"Approved\": \"No\"}, {\"Age\": 20.42, \"Debt\": 0.0, \"CreditScore\": 0, \"Income\": 0, \"Approved\": \"No\"}, {\"Age\": 34.92, \"Debt\": 2.5, \"CreditScore\": 0, \"Income\": 200, \"Approved\": \"Yes\"}, {\"Age\": 24.58, \"Debt\": 13.5, \"CreditScore\": 0, \"Income\": 0, \"Approved\": \"No\"}, {\"Age\": 49.83, \"Debt\": 13.585, \"CreditScore\": 0, \"Income\": 0, \"Approved\": \"Yes\"}, {\"Age\": 24.17, \"Debt\": 0.875, \"CreditScore\": 2, \"Income\": 2000, \"Approved\": \"Yes\"}, {\"Age\": 23.58, \"Debt\": 0.46, \"CreditScore\": 6, \"Income\": 347, \"Approved\": \"No\"}, {\"Age\": 23.33, \"Debt\": 1.5, \"CreditScore\": 0, \"Income\": 200, \"Approved\": \"Yes\"}, {\"Age\": 39.08, \"Debt\": 6.0, \"CreditScore\": 5, \"Income\": 1097, \"Approved\": \"Yes\"}, {\"Age\": 36.08, \"Debt\": 2.54, \"CreditScore\": 0, \"Income\": 1000, \"Approved\": \"No\"}, {\"Age\": 32.25, \"Debt\": 1.5, \"CreditScore\": 0, \"Income\": 122, \"Approved\": \"No\"}, {\"Age\": 25.0, \"Debt\": 12.0, \"CreditScore\": 2, \"Income\": 5, \"Approved\": \"No\"}, {\"Age\": 36.17, \"Debt\": 0.42, \"CreditScore\": 0, \"Income\": 2, \"Approved\": \"No\"}, {\"Age\": 32.33, \"Debt\": 3.5, \"CreditScore\": 0, \"Income\": 0, \"Approved\": \"No\"}, {\"Age\": 39.17, \"Debt\": 1.625, \"CreditScore\": 10, \"Income\": 4700, \"Approved\": \"Yes\"}, {\"Age\": 26.17, \"Debt\": 0.835, \"CreditScore\": 0, \"Income\": 0, \"Approved\": \"No\"}, {\"Age\": 49.5, \"Debt\": 7.585, \"CreditScore\": 15, \"Income\": 5000, \"Approved\": \"Yes\"}, {\"Age\": 52.83, \"Debt\": 15.0, \"CreditScore\": 14, \"Income\": 2200, \"Approved\": \"Yes\"}, {\"Age\": 20.17, \"Debt\": 5.625, \"CreditScore\": 0, \"Income\": 0, \"Approved\": \"Yes\"}, {\"Age\": 26.25, \"Debt\": 1.54, \"CreditScore\": 0, \"Income\": 0, \"Approved\": \"No\"}, {\"Age\": 53.92, \"Debt\": 9.625, \"CreditScore\": 5, \"Income\": 0, \"Approved\": \"Yes\"}, {\"Age\": 38.17, \"Debt\": 10.125, \"CreditScore\": 6, \"Income\": 196, \"Approved\": \"Yes\"}, {\"Age\": 20.67, \"Debt\": 1.835, \"CreditScore\": 5, \"Income\": 2503, \"Approved\": \"Yes\"}, {\"Age\": 27.25, \"Debt\": 0.625, \"CreditScore\": 0, \"Income\": 0, \"Approved\": \"No\"}, {\"Age\": 22.75, \"Debt\": 11.0, \"CreditScore\": 7, \"Income\": 809, \"Approved\": \"Yes\"}, {\"Age\": 31.67, \"Debt\": 0.83, \"CreditScore\": 8, \"Income\": 3290, \"Approved\": \"Yes\"}, {\"Age\": 22.33, \"Debt\": 11.0, \"CreditScore\": 1, \"Income\": 278, \"Approved\": \"Yes\"}, {\"Age\": 47.67, \"Debt\": 2.5, \"CreditScore\": 12, \"Income\": 2510, \"Approved\": \"Yes\"}, {\"Age\": 37.33, \"Debt\": 6.5, \"CreditScore\": 12, \"Income\": 0, \"Approved\": \"Yes\"}, {\"Age\": 42.83, \"Debt\": 4.625, \"CreditScore\": 0, \"Income\": 0, \"Approved\": \"Yes\"}, {\"Age\": 20.5, \"Debt\": 10.0, \"CreditScore\": 0, \"Income\": 0, \"Approved\": \"Yes\"}, {\"Age\": 49.58, \"Debt\": 19.0, \"CreditScore\": 1, \"Income\": 0, \"Approved\": \"No\"}, {\"Age\": 52.5, \"Debt\": 6.5, \"CreditScore\": 15, \"Income\": 11202, \"Approved\": \"Yes\"}, {\"Age\": 21.0, \"Debt\": 3.0, \"CreditScore\": 8, \"Income\": 1, \"Approved\": \"Yes\"}, {\"Age\": 19.17, \"Debt\": 0.0, \"CreditScore\": 0, \"Income\": 1, \"Approved\": \"Yes\"}, {\"Age\": 27.42, \"Debt\": 14.5, \"CreditScore\": 1, \"Income\": 11, \"Approved\": \"Yes\"}, {\"Age\": 29.5, \"Debt\": 0.46, \"CreditScore\": 4, \"Income\": 500, \"Approved\": \"Yes\"}, {\"Age\": 36.5, \"Debt\": 4.25, \"CreditScore\": 0, \"Income\": 50, \"Approved\": \"No\"}, {\"Age\": 19.67, \"Debt\": 0.21, \"CreditScore\": 11, \"Income\": 99, \"Approved\": \"Yes\"}, {\"Age\": 25.33, \"Debt\": 0.58, \"CreditScore\": 7, \"Income\": 5124, \"Approved\": \"Yes\"}, {\"Age\": 31.67, \"Debt\": 16.165, \"CreditScore\": 9, \"Income\": 730, \"Approved\": \"Yes\"}, {\"Age\": 40.92, \"Debt\": 2.25, \"CreditScore\": 0, \"Income\": 0, \"Approved\": \"No\"}, {\"Age\": 56.83, \"Debt\": 4.25, \"CreditScore\": 0, \"Income\": 4, \"Approved\": \"No\"}, {\"Age\": 34.83, \"Debt\": 1.25, \"CreditScore\": 0, \"Income\": 0, \"Approved\": \"No\"}, {\"Age\": 51.83, \"Debt\": 2.04, \"CreditScore\": 0, \"Income\": 1, \"Approved\": \"No\"}, {\"Age\": 43.25, \"Debt\": 25.21, \"CreditScore\": 1, \"Income\": 90, \"Approved\": \"No\"}, {\"Age\": 56.42, \"Debt\": 28.0, \"CreditScore\": 40, \"Income\": 15, \"Approved\": \"Yes\"}, {\"Age\": 17.92, \"Debt\": 0.54, \"CreditScore\": 1, \"Income\": 5, \"Approved\": \"No\"}, {\"Age\": 23.5, \"Debt\": 2.75, \"CreditScore\": 0, \"Income\": 25, \"Approved\": \"No\"}, {\"Age\": 49.0, \"Debt\": 1.5, \"CreditScore\": 0, \"Income\": 27, \"Approved\": \"No\"}, {\"Age\": 69.5, \"Debt\": 6.0, \"CreditScore\": 0, \"Income\": 0, \"Approved\": \"No\"}, {\"Age\": 33.5, \"Debt\": 1.75, \"CreditScore\": 4, \"Income\": 857, \"Approved\": \"Yes\"}, {\"Age\": 34.25, \"Debt\": 1.75, \"CreditScore\": 0, \"Income\": 0, \"Approved\": \"No\"}, {\"Age\": 33.67, \"Debt\": 1.25, \"CreditScore\": 0, \"Income\": 0, \"Approved\": \"No\"}, {\"Age\": 36.67, \"Debt\": 3.25, \"CreditScore\": 0, \"Income\": 639, \"Approved\": \"Yes\"}, {\"Age\": 33.58, \"Debt\": 2.75, \"CreditScore\": 6, \"Income\": 0, \"Approved\": \"Yes\"}, {\"Age\": 22.92, \"Debt\": 0.17, \"CreditScore\": 0, \"Income\": 0, \"Approved\": \"No\"}, {\"Age\": 29.42, \"Debt\": 1.25, \"CreditScore\": 0, \"Income\": 0, \"Approved\": \"No\"}, {\"Age\": 50.08, \"Debt\": 12.54, \"CreditScore\": 3, \"Income\": 0, \"Approved\": \"Yes\"}, {\"Age\": 31.08, \"Debt\": 3.085, \"CreditScore\": 2, \"Income\": 41, \"Approved\": \"No\"}, {\"Age\": 32.33, \"Debt\": 0.54, \"CreditScore\": 0, \"Income\": 11177, \"Approved\": \"Yes\"}, {\"Age\": 23.25, \"Debt\": 4.0, \"CreditScore\": 0, \"Income\": 0, \"Approved\": \"Yes\"}, {\"Age\": 17.33, \"Debt\": 9.5, \"CreditScore\": 10, \"Income\": 10, \"Approved\": \"No\"}, {\"Age\": 52.42, \"Debt\": 1.5, \"CreditScore\": 0, \"Income\": 350, \"Approved\": \"No\"}, {\"Age\": 22.92, \"Debt\": 11.585, \"CreditScore\": 0, \"Income\": 1349, \"Approved\": \"Yes\"}, {\"Age\": 32.25, \"Debt\": 0.165, \"CreditScore\": 1, \"Income\": 8000, \"Approved\": \"Yes\"}, {\"Age\": 25.42, \"Debt\": 1.125, \"CreditScore\": 2, \"Income\": 0, \"Approved\": \"No\"}, {\"Age\": 27.58, \"Debt\": 3.25, \"CreditScore\": 2, \"Income\": 1, \"Approved\": \"No\"}, {\"Age\": 16.0, \"Debt\": 0.165, \"CreditScore\": 2, \"Income\": 1, \"Approved\": \"No\"}, {\"Age\": 28.58, \"Debt\": 1.665, \"CreditScore\": 0, \"Income\": 0, \"Approved\": \"No\"}, {\"Age\": 23.08, \"Debt\": 11.5, \"CreditScore\": 11, \"Income\": 284, \"Approved\": \"Yes\"}, {\"Age\": 33.17, \"Debt\": 3.04, \"CreditScore\": 1, \"Income\": 18027, \"Approved\": \"Yes\"}, {\"Age\": 39.92, \"Debt\": 0.54, \"CreditScore\": 3, \"Income\": 1000, \"Approved\": \"Yes\"}, {\"Age\": 31.33, \"Debt\": 19.5, \"CreditScore\": 16, \"Income\": 5000, \"Approved\": \"Yes\"}, {\"Age\": 41.0, \"Debt\": 0.04, \"CreditScore\": 1, \"Income\": 0, \"Approved\": \"Yes\"}, {\"Age\": 32.25, \"Debt\": 14.0, \"CreditScore\": 2, \"Income\": 1, \"Approved\": \"No\"}, {\"Age\": 21.58, \"Debt\": 0.79, \"CreditScore\": 0, \"Income\": 0, \"Approved\": \"No\"}, {\"Age\": 38.67, \"Debt\": 0.21, \"CreditScore\": 0, \"Income\": 0, \"Approved\": \"Yes\"}, {\"Age\": 23.08, \"Debt\": 2.5, \"CreditScore\": 11, \"Income\": 2184, \"Approved\": \"Yes\"}, {\"Age\": 20.42, \"Debt\": 7.5, \"CreditScore\": 1, \"Income\": 234, \"Approved\": \"Yes\"}, {\"Age\": 33.75, \"Debt\": 2.75, \"CreditScore\": 0, \"Income\": 0, \"Approved\": \"No\"}, {\"Age\": 22.17, \"Debt\": 2.25, \"CreditScore\": 0, \"Income\": 10, \"Approved\": \"No\"}, {\"Age\": 35.75, \"Debt\": 2.415, \"CreditScore\": 2, \"Income\": 1, \"Approved\": \"No\"}, {\"Age\": 20.83, \"Debt\": 8.5, \"CreditScore\": 0, \"Income\": 351, \"Approved\": \"No\"}, {\"Age\": 57.08, \"Debt\": 19.5, \"CreditScore\": 7, \"Income\": 3000, \"Approved\": \"Yes\"}, {\"Age\": 18.92, \"Debt\": 9.25, \"CreditScore\": 4, \"Income\": 500, \"Approved\": \"Yes\"}, {\"Age\": 16.25, \"Debt\": 0.835, \"CreditScore\": 0, \"Income\": 0, \"Approved\": \"No\"}, {\"Age\": 43.17, \"Debt\": 2.25, \"CreditScore\": 0, \"Income\": 0, \"Approved\": \"No\"}, {\"Age\": 28.17, \"Debt\": 0.375, \"CreditScore\": 4, \"Income\": 0, \"Approved\": \"Yes\"}, {\"Age\": 30.0, \"Debt\": 5.29, \"CreditScore\": 5, \"Income\": 500, \"Approved\": \"Yes\"}, {\"Age\": 19.67, \"Debt\": 0.375, \"CreditScore\": 2, \"Income\": 0, \"Approved\": \"Yes\"}, {\"Age\": 22.08, \"Debt\": 0.83, \"CreditScore\": 0, \"Income\": 0, \"Approved\": \"Yes\"}, {\"Age\": 28.58, \"Debt\": 3.75, \"CreditScore\": 1, \"Income\": 154, \"Approved\": \"No\"}, {\"Age\": 57.42, \"Debt\": 8.5, \"CreditScore\": 3, \"Income\": 0, \"Approved\": \"Yes\"}, {\"Age\": 41.42, \"Debt\": 5.0, \"CreditScore\": 6, \"Income\": 0, \"Approved\": \"Yes\"}, {\"Age\": 28.67, \"Debt\": 9.335, \"CreditScore\": 6, \"Income\": 168, \"Approved\": \"Yes\"}, {\"Age\": 24.75, \"Debt\": 0.54, \"CreditScore\": 0, \"Income\": 1, \"Approved\": \"No\"}, {\"Age\": 23.5, \"Debt\": 9.0, \"CreditScore\": 5, \"Income\": 0, \"Approved\": \"Yes\"}, {\"Age\": 35.17, \"Debt\": 25.125, \"CreditScore\": 1, \"Income\": 500, \"Approved\": \"Yes\"}, {\"Age\": 34.5, \"Debt\": 4.04, \"CreditScore\": 7, \"Income\": 0, \"Approved\": \"Yes\"}, {\"Age\": 16.08, \"Debt\": 0.75, \"CreditScore\": 5, \"Income\": 690, \"Approved\": \"Yes\"}, {\"Age\": 24.58, \"Debt\": 12.5, \"CreditScore\": 0, \"Income\": 0, \"Approved\": \"No\"}, {\"Age\": 29.5, \"Debt\": 1.085, \"CreditScore\": 0, \"Income\": 13, \"Approved\": \"No\"}, {\"Age\": 16.33, \"Debt\": 0.21, \"CreditScore\": 0, \"Income\": 1, \"Approved\": \"No\"}, {\"Age\": 21.83, \"Debt\": 1.54, \"CreditScore\": 0, \"Income\": 0, \"Approved\": \"No\"}, {\"Age\": 64.08, \"Debt\": 0.165, \"CreditScore\": 1, \"Income\": 100, \"Approved\": \"Yes\"}, {\"Age\": 42.75, \"Debt\": 4.085, \"CreditScore\": 0, \"Income\": 100, \"Approved\": \"No\"}, {\"Age\": 29.58, \"Debt\": 1.75, \"CreditScore\": 0, \"Income\": 0, \"Approved\": \"No\"}, {\"Age\": 24.75, \"Debt\": 3.0, \"CreditScore\": 19, \"Income\": 500, \"Approved\": \"Yes\"}, {\"Age\": 39.58, \"Debt\": 5.0, \"CreditScore\": 2, \"Income\": 1, \"Approved\": \"No\"}, {\"Age\": 23.92, \"Debt\": 0.585, \"CreditScore\": 0, \"Income\": 1, \"Approved\": \"No\"}, {\"Age\": 19.58, \"Debt\": 0.665, \"CreditScore\": 1, \"Income\": 2, \"Approved\": \"No\"}, {\"Age\": 40.58, \"Debt\": 5.0, \"CreditScore\": 7, \"Income\": 3065, \"Approved\": \"Yes\"}, {\"Age\": 30.58, \"Debt\": 2.71, \"CreditScore\": 0, \"Income\": 0, \"Approved\": \"No\"}, {\"Age\": 25.67, \"Debt\": 0.29, \"CreditScore\": 0, \"Income\": 0, \"Approved\": \"No\"}, {\"Age\": 28.46, \"Debt\": 5.0, \"CreditScore\": 0, \"Income\": 0, \"Approved\": \"No\"}, {\"Age\": 31.25, \"Debt\": 2.835, \"CreditScore\": 5, \"Income\": 146, \"Approved\": \"No\"}, {\"Age\": 37.33, \"Debt\": 2.5, \"CreditScore\": 0, \"Income\": 246, \"Approved\": \"No\"}, {\"Age\": 28.25, \"Debt\": 5.125, \"CreditScore\": 2, \"Income\": 7, \"Approved\": \"Yes\"}, {\"Age\": 26.75, \"Debt\": 2.0, \"CreditScore\": 0, \"Income\": 0, \"Approved\": \"No\"}, {\"Age\": 18.42, \"Debt\": 10.415, \"CreditScore\": 0, \"Income\": 375, \"Approved\": \"No\"}, {\"Age\": 67.75, \"Debt\": 5.5, \"CreditScore\": 1, \"Income\": 0, \"Approved\": \"Yes\"}, {\"Age\": 18.83, \"Debt\": 0.0, \"CreditScore\": 0, \"Income\": 1, \"Approved\": \"No\"}, {\"Age\": 48.17, \"Debt\": 7.625, \"CreditScore\": 12, \"Income\": 790, \"Approved\": \"Yes\"}, {\"Age\": 48.17, \"Debt\": 3.5, \"CreditScore\": 0, \"Income\": 0, \"Approved\": \"Yes\"}, {\"Age\": 65.17, \"Debt\": 14.0, \"CreditScore\": 11, \"Income\": 1400, \"Approved\": \"Yes\"}, {\"Age\": 40.58, \"Debt\": 3.29, \"CreditScore\": 0, \"Income\": 0, \"Approved\": \"No\"}, {\"Age\": 22.0, \"Debt\": 0.79, \"CreditScore\": 1, \"Income\": 283, \"Approved\": \"No\"}, {\"Age\": 23.5, \"Debt\": 3.165, \"CreditScore\": 1, \"Income\": 80, \"Approved\": \"No\"}, {\"Age\": 21.08, \"Debt\": 4.125, \"CreditScore\": 0, \"Income\": 100, \"Approved\": \"No\"}, {\"Age\": 23.08, \"Debt\": 0.0, \"CreditScore\": 11, \"Income\": 0, \"Approved\": \"No\"}, {\"Age\": 51.42, \"Debt\": 0.04, \"CreditScore\": 0, \"Income\": 3000, \"Approved\": \"Yes\"}, {\"Age\": 20.0, \"Debt\": 0.0, \"CreditScore\": 0, \"Income\": 0, \"Approved\": \"No\"}, {\"Age\": 49.17, \"Debt\": 2.29, \"CreditScore\": 0, \"Income\": 3, \"Approved\": \"No\"}, {\"Age\": 23.58, \"Debt\": 0.83, \"CreditScore\": 1, \"Income\": 11, \"Approved\": \"No\"}, {\"Age\": 20.17, \"Debt\": 9.25, \"CreditScore\": 3, \"Income\": 28, \"Approved\": \"Yes\"}, {\"Age\": 47.25, \"Debt\": 0.75, \"CreditScore\": 1, \"Income\": 892, \"Approved\": \"Yes\"}, {\"Age\": 24.5, \"Debt\": 2.415, \"CreditScore\": 0, \"Income\": 0, \"Approved\": \"No\"}, {\"Age\": 34.08, \"Debt\": 6.5, \"CreditScore\": 0, \"Income\": 0, \"Approved\": \"No\"}, {\"Age\": 34.75, \"Debt\": 15.0, \"CreditScore\": 9, \"Income\": 134, \"Approved\": \"Yes\"}, {\"Age\": 20.08, \"Debt\": 0.125, \"CreditScore\": 1, \"Income\": 768, \"Approved\": \"Yes\"}, {\"Age\": 23.42, \"Debt\": 0.585, \"CreditScore\": 0, \"Income\": 0, \"Approved\": \"No\"}, {\"Age\": 34.17, \"Debt\": 1.54, \"CreditScore\": 1, \"Income\": 50000, \"Approved\": \"Yes\"}, {\"Age\": 25.58, \"Debt\": 0.335, \"CreditScore\": 0, \"Income\": 0, \"Approved\": \"No\"}, {\"Age\": 71.58, \"Debt\": 0.0, \"CreditScore\": 0, \"Income\": 0, \"Approved\": \"Yes\"}, {\"Age\": 54.42, \"Debt\": 0.5, \"CreditScore\": 0, \"Income\": 314, \"Approved\": \"Yes\"}, {\"Age\": 19.17, \"Debt\": 0.585, \"CreditScore\": 0, \"Income\": 0, \"Approved\": \"No\"}, {\"Age\": 27.0, \"Debt\": 0.75, \"CreditScore\": 3, \"Income\": 150, \"Approved\": \"Yes\"}, {\"Age\": 35.17, \"Debt\": 4.5, \"CreditScore\": 0, \"Income\": 0, \"Approved\": \"Yes\"}, {\"Age\": 17.42, \"Debt\": 6.5, \"CreditScore\": 0, \"Income\": 100, \"Approved\": \"No\"}, {\"Age\": 33.67, \"Debt\": 2.165, \"CreditScore\": 0, \"Income\": 0, \"Approved\": \"No\"}, {\"Age\": 20.67, \"Debt\": 0.835, \"CreditScore\": 0, \"Income\": 0, \"Approved\": \"No\"}, {\"Age\": 16.92, \"Debt\": 0.5, \"CreditScore\": 6, \"Income\": 35, \"Approved\": \"No\"}, {\"Age\": 25.0, \"Debt\": 0.875, \"CreditScore\": 0, \"Income\": 5860, \"Approved\": \"Yes\"}, {\"Age\": 29.83, \"Debt\": 3.5, \"CreditScore\": 0, \"Income\": 0, \"Approved\": \"No\"}, {\"Age\": 36.75, \"Debt\": 0.125, \"CreditScore\": 0, \"Income\": 113, \"Approved\": \"Yes\"}, {\"Age\": 24.42, \"Debt\": 2.0, \"CreditScore\": 2, \"Income\": 1300, \"Approved\": \"No\"}, {\"Age\": 22.67, \"Debt\": 0.79, \"CreditScore\": 0, \"Income\": 0, \"Approved\": \"No\"}, {\"Age\": 56.5, \"Debt\": 16.0, \"CreditScore\": 15, \"Income\": 247, \"Approved\": \"Yes\"}, {\"Age\": 34.0, \"Debt\": 4.5, \"CreditScore\": 0, \"Income\": 0, \"Approved\": \"No\"}, {\"Age\": 48.58, \"Debt\": 0.205, \"CreditScore\": 11, \"Income\": 2732, \"Approved\": \"Yes\"}, {\"Age\": 18.08, \"Debt\": 0.375, \"CreditScore\": 0, \"Income\": 0, \"Approved\": \"Yes\"}, {\"Age\": 56.75, \"Debt\": 12.25, \"CreditScore\": 4, \"Income\": 0, \"Approved\": \"Yes\"}, {\"Age\": 28.17, \"Debt\": 0.125, \"CreditScore\": 0, \"Income\": 2100, \"Approved\": \"No\"}, {\"Age\": 34.0, \"Debt\": 5.5, \"CreditScore\": 0, \"Income\": 0, \"Approved\": \"No\"}, {\"Age\": 26.58, \"Debt\": 2.54, \"CreditScore\": 0, \"Income\": 60, \"Approved\": \"No\"}, {\"Age\": 25.25, \"Debt\": 1.0, \"CreditScore\": 0, \"Income\": 0, \"Approved\": \"No\"}, {\"Age\": 18.25, \"Debt\": 0.165, \"CreditScore\": 0, \"Income\": 0, \"Approved\": \"No\"}, {\"Age\": 47.17, \"Debt\": 5.835, \"CreditScore\": 0, \"Income\": 150, \"Approved\": \"No\"}, {\"Age\": 69.17, \"Debt\": 9.0, \"CreditScore\": 1, \"Income\": 6, \"Approved\": \"No\"}, {\"Age\": 23.0, \"Debt\": 0.75, \"CreditScore\": 0, \"Income\": 0, \"Approved\": \"No\"}, {\"Age\": 30.58, \"Debt\": 10.665, \"CreditScore\": 12, \"Income\": 3, \"Approved\": \"No\"}, {\"Age\": 41.0, \"Debt\": 2.04, \"CreditScore\": 23, \"Income\": 1236, \"Approved\": \"Yes\"}, {\"Age\": 28.46, \"Debt\": 0.375, \"CreditScore\": 0, \"Income\": 0, \"Approved\": \"No\"}, {\"Age\": 19.75, \"Debt\": 0.75, \"CreditScore\": 5, \"Income\": 5, \"Approved\": \"No\"}, {\"Age\": 30.25, \"Debt\": 5.5, \"CreditScore\": 0, \"Income\": 0, \"Approved\": \"No\"}, {\"Age\": 28.25, \"Debt\": 0.875, \"CreditScore\": 3, \"Income\": 0, \"Approved\": \"Yes\"}, {\"Age\": 20.5, \"Debt\": 11.835, \"CreditScore\": 0, \"Income\": 0, \"Approved\": \"Yes\"}, {\"Age\": 22.67, \"Debt\": 1.585, \"CreditScore\": 6, \"Income\": 0, \"Approved\": \"Yes\"}, {\"Age\": 21.5, \"Debt\": 11.5, \"CreditScore\": 0, \"Income\": 68, \"Approved\": \"No\"}, {\"Age\": 28.92, \"Debt\": 0.375, \"CreditScore\": 0, \"Income\": 140, \"Approved\": \"No\"}, {\"Age\": 80.25, \"Debt\": 5.5, \"CreditScore\": 0, \"Income\": 340, \"Approved\": \"No\"}, {\"Age\": 27.17, \"Debt\": 1.25, \"CreditScore\": 1, \"Income\": 300, \"Approved\": \"No\"}, {\"Age\": 31.25, \"Debt\": 3.75, \"CreditScore\": 9, \"Income\": 0, \"Approved\": \"Yes\"}, {\"Age\": 27.58, \"Debt\": 2.04, \"CreditScore\": 3, \"Income\": 560, \"Approved\": \"Yes\"}, {\"Age\": 30.42, \"Debt\": 1.375, \"CreditScore\": 3, \"Income\": 33, \"Approved\": \"No\"}, {\"Age\": 45.83, \"Debt\": 10.5, \"CreditScore\": 7, \"Income\": 0, \"Approved\": \"Yes\"}, {\"Age\": 25.67, \"Debt\": 2.21, \"CreditScore\": 0, \"Income\": 0, \"Approved\": \"No\"}, {\"Age\": 17.08, \"Debt\": 0.085, \"CreditScore\": 0, \"Income\": 722, \"Approved\": \"No\"}, {\"Age\": 48.17, \"Debt\": 1.335, \"CreditScore\": 0, \"Income\": 120, \"Approved\": \"No\"}, {\"Age\": 17.58, \"Debt\": 9.0, \"CreditScore\": 0, \"Income\": 0, \"Approved\": \"Yes\"}, {\"Age\": 24.5, \"Debt\": 1.75, \"CreditScore\": 0, \"Income\": 0, \"Approved\": \"No\"}, {\"Age\": 27.83, \"Debt\": 1.54, \"CreditScore\": 5, \"Income\": 3, \"Approved\": \"Yes\"}, {\"Age\": 36.67, \"Debt\": 2.0, \"CreditScore\": 0, \"Income\": 0, \"Approved\": \"No\"}, {\"Age\": 45.33, \"Debt\": 1.0, \"CreditScore\": 0, \"Income\": 0, \"Approved\": \"No\"}, {\"Age\": 19.17, \"Debt\": 4.0, \"CreditScore\": 0, \"Income\": 1000, \"Approved\": \"No\"}, {\"Age\": 26.92, \"Debt\": 13.5, \"CreditScore\": 2, \"Income\": 5000, \"Approved\": \"Yes\"}, {\"Age\": 25.5, \"Debt\": 0.375, \"CreditScore\": 3, \"Income\": 15108, \"Approved\": \"Yes\"}, {\"Age\": 28.46, \"Debt\": 10.5, \"CreditScore\": 0, \"Income\": 0, \"Approved\": \"Yes\"}, {\"Age\": 26.92, \"Debt\": 2.25, \"CreditScore\": 0, \"Income\": 4000, \"Approved\": \"No\"}, {\"Age\": 23.17, \"Debt\": 0.0, \"CreditScore\": 0, \"Income\": 0, \"Approved\": \"Yes\"}, {\"Age\": 24.75, \"Debt\": 13.665, \"CreditScore\": 0, \"Income\": 1, \"Approved\": \"No\"}, {\"Age\": 26.0, \"Debt\": 1.0, \"CreditScore\": 0, \"Income\": 0, \"Approved\": \"Yes\"}, {\"Age\": 20.25, \"Debt\": 9.96, \"CreditScore\": 0, \"Income\": 0, \"Approved\": \"Yes\"}, {\"Age\": 27.58, \"Debt\": 3.0, \"CreditScore\": 1, \"Income\": 10, \"Approved\": \"No\"}, {\"Age\": 25.33, \"Debt\": 2.085, \"CreditScore\": 0, \"Income\": 1, \"Approved\": \"No\"}, {\"Age\": 48.75, \"Debt\": 26.335, \"CreditScore\": 0, \"Income\": 0, \"Approved\": \"No\"}, {\"Age\": 58.58, \"Debt\": 2.71, \"CreditScore\": 0, \"Income\": 0, \"Approved\": \"No\"}, {\"Age\": 35.25, \"Debt\": 3.165, \"CreditScore\": 0, \"Income\": 0, \"Approved\": \"No\"}, {\"Age\": 19.5, \"Debt\": 0.165, \"CreditScore\": 0, \"Income\": 0, \"Approved\": \"No\"}, {\"Age\": 40.0, \"Debt\": 6.5, \"CreditScore\": 1, \"Income\": 500, \"Approved\": \"Yes\"}, {\"Age\": 41.92, \"Debt\": 0.42, \"CreditScore\": 6, \"Income\": 948, \"Approved\": \"Yes\"}, {\"Age\": 28.42, \"Debt\": 3.5, \"CreditScore\": 0, \"Income\": 0, \"Approved\": \"Yes\"}, {\"Age\": 36.75, \"Debt\": 4.71, \"CreditScore\": 0, \"Income\": 0, \"Approved\": \"No\"}, {\"Age\": 18.5, \"Debt\": 2.0, \"CreditScore\": 2, \"Income\": 300, \"Approved\": \"Yes\"}, {\"Age\": 18.17, \"Debt\": 10.25, \"CreditScore\": 0, \"Income\": 13, \"Approved\": \"No\"}, {\"Age\": 15.17, \"Debt\": 7.0, \"CreditScore\": 0, \"Income\": 0, \"Approved\": \"No\"}, {\"Age\": 32.75, \"Debt\": 1.5, \"CreditScore\": 3, \"Income\": 0, \"Approved\": \"Yes\"}, {\"Age\": 26.33, \"Debt\": 13.0, \"CreditScore\": 0, \"Income\": 1110, \"Approved\": \"No\"}, {\"Age\": 17.92, \"Debt\": 0.205, \"CreditScore\": 0, \"Income\": 750, \"Approved\": \"No\"}, {\"Age\": 48.5, \"Debt\": 4.25, \"CreditScore\": 0, \"Income\": 0, \"Approved\": \"Yes\"}, {\"Age\": 15.83, \"Debt\": 7.625, \"CreditScore\": 1, \"Income\": 160, \"Approved\": \"No\"}, {\"Age\": 28.0, \"Debt\": 2.0, \"CreditScore\": 2, \"Income\": 0, \"Approved\": \"Yes\"}, {\"Age\": 24.08, \"Debt\": 9.0, \"CreditScore\": 0, \"Income\": 0, \"Approved\": \"No\"}, {\"Age\": 32.33, \"Debt\": 2.5, \"CreditScore\": 0, \"Income\": 0, \"Approved\": \"No\"}, {\"Age\": 34.67, \"Debt\": 1.08, \"CreditScore\": 0, \"Income\": 0, \"Approved\": \"No\"}, {\"Age\": 23.25, \"Debt\": 1.5, \"CreditScore\": 3, \"Income\": 582, \"Approved\": \"Yes\"}, {\"Age\": 41.17, \"Debt\": 1.25, \"CreditScore\": 0, \"Income\": 195, \"Approved\": \"No\"}, {\"Age\": 38.42, \"Debt\": 0.705, \"CreditScore\": 2, \"Income\": 500, \"Approved\": \"No\"}, {\"Age\": 30.17, \"Debt\": 0.5, \"CreditScore\": 11, \"Income\": 540, \"Approved\": \"Yes\"}, {\"Age\": 17.08, \"Debt\": 3.29, \"CreditScore\": 0, \"Income\": 2, \"Approved\": \"No\"}, {\"Age\": 26.67, \"Debt\": 1.75, \"CreditScore\": 5, \"Income\": 5777, \"Approved\": \"Yes\"}, {\"Age\": 23.0, \"Debt\": 0.75, \"CreditScore\": 0, \"Income\": 0, \"Approved\": \"No\"}, {\"Age\": 25.17, \"Debt\": 3.0, \"CreditScore\": 1, \"Income\": 22, \"Approved\": \"No\"}, {\"Age\": 22.92, \"Debt\": 1.25, \"CreditScore\": 0, \"Income\": 809, \"Approved\": \"No\"}, {\"Age\": 23.08, \"Debt\": 11.5, \"CreditScore\": 9, \"Income\": 742, \"Approved\": \"Yes\"}, {\"Age\": 32.42, \"Debt\": 3.0, \"CreditScore\": 0, \"Income\": 0, \"Approved\": \"No\"}, {\"Age\": 47.67, \"Debt\": 0.29, \"CreditScore\": 20, \"Income\": 15000, \"Approved\": \"Yes\"}, {\"Age\": 43.17, \"Debt\": 5.0, \"CreditScore\": 0, \"Income\": 0, \"Approved\": \"No\"}, {\"Age\": 28.5, \"Debt\": 1.0, \"CreditScore\": 2, \"Income\": 500, \"Approved\": \"No\"}, {\"Age\": 48.58, \"Debt\": 6.5, \"CreditScore\": 0, \"Income\": 0, \"Approved\": \"Yes\"}, {\"Age\": 25.0, \"Debt\": 12.5, \"CreditScore\": 0, \"Income\": 0, \"Approved\": \"Yes\"}, {\"Age\": 28.75, \"Debt\": 3.75, \"CreditScore\": 1, \"Income\": 0, \"Approved\": \"Yes\"}, {\"Age\": 22.83, \"Debt\": 2.29, \"CreditScore\": 7, \"Income\": 2384, \"Approved\": \"Yes\"}, {\"Age\": 46.08, \"Debt\": 3.0, \"CreditScore\": 8, \"Income\": 4159, \"Approved\": \"Yes\"}, {\"Age\": 22.67, \"Debt\": 0.75, \"CreditScore\": 2, \"Income\": 394, \"Approved\": \"No\"}, {\"Age\": 54.58, \"Debt\": 9.415, \"CreditScore\": 11, \"Income\": 300, \"Approved\": \"Yes\"}, {\"Age\": 39.08, \"Debt\": 4.0, \"CreditScore\": 0, \"Income\": 0, \"Approved\": \"No\"}, {\"Age\": 24.5, \"Debt\": 0.5, \"CreditScore\": 0, \"Income\": 824, \"Approved\": \"Yes\"}, {\"Age\": 39.5, \"Debt\": 1.625, \"CreditScore\": 0, \"Income\": 316, \"Approved\": \"No\"}, {\"Age\": 19.42, \"Debt\": 6.5, \"CreditScore\": 7, \"Income\": 2954, \"Approved\": \"Yes\"}, {\"Age\": 35.17, \"Debt\": 2.5, \"CreditScore\": 7, \"Income\": 1270, \"Approved\": \"Yes\"}, {\"Age\": 28.46, \"Debt\": 0.04, \"CreditScore\": 0, \"Income\": 0, \"Approved\": \"No\"}, {\"Age\": 35.0, \"Debt\": 2.5, \"CreditScore\": 0, \"Income\": 0, \"Approved\": \"No\"}, {\"Age\": 23.17, \"Debt\": 11.125, \"CreditScore\": 1, \"Income\": 0, \"Approved\": \"Yes\"}, {\"Age\": 28.0, \"Debt\": 3.0, \"CreditScore\": 0, \"Income\": 67, \"Approved\": \"No\"}, {\"Age\": 17.08, \"Debt\": 0.25, \"CreditScore\": 4, \"Income\": 8, \"Approved\": \"No\"}, {\"Age\": 24.5, \"Debt\": 1.04, \"CreditScore\": 3, \"Income\": 147, \"Approved\": \"No\"}, {\"Age\": 37.75, \"Debt\": 5.5, \"CreditScore\": 0, \"Income\": 0, \"Approved\": \"Yes\"}, {\"Age\": 30.08, \"Debt\": 1.04, \"CreditScore\": 10, \"Income\": 28, \"Approved\": \"No\"}, {\"Age\": 44.25, \"Debt\": 0.5, \"CreditScore\": 0, \"Income\": 0, \"Approved\": \"No\"}, {\"Age\": 31.92, \"Debt\": 4.46, \"CreditScore\": 3, \"Income\": 300, \"Approved\": \"Yes\"}, {\"Age\": 28.58, \"Debt\": 3.625, \"CreditScore\": 0, \"Income\": 0, \"Approved\": \"No\"}, {\"Age\": 33.75, \"Debt\": 0.75, \"CreditScore\": 3, \"Income\": 0, \"Approved\": \"No\"}, {\"Age\": 23.0, \"Debt\": 0.625, \"CreditScore\": 0, \"Income\": 1, \"Approved\": \"No\"}, {\"Age\": 26.67, \"Debt\": 2.71, \"CreditScore\": 1, \"Income\": 0, \"Approved\": \"Yes\"}, {\"Age\": 35.75, \"Debt\": 0.915, \"CreditScore\": 4, \"Income\": 1583, \"Approved\": \"Yes\"}, {\"Age\": 44.17, \"Debt\": 6.665, \"CreditScore\": 3, \"Income\": 0, \"Approved\": \"Yes\"}, {\"Age\": 28.75, \"Debt\": 1.165, \"CreditScore\": 0, \"Income\": 0, \"Approved\": \"No\"}, {\"Age\": 25.75, \"Debt\": 0.75, \"CreditScore\": 0, \"Income\": 23, \"Approved\": \"Yes\"}, {\"Age\": 23.25, \"Debt\": 5.875, \"CreditScore\": 10, \"Income\": 245, \"Approved\": \"Yes\"}, {\"Age\": 22.5, \"Debt\": 11.0, \"CreditScore\": 0, \"Income\": 0, \"Approved\": \"No\"}, {\"Age\": 33.67, \"Debt\": 0.375, \"CreditScore\": 0, \"Income\": 44, \"Approved\": \"Yes\"}, {\"Age\": 24.33, \"Debt\": 2.5, \"CreditScore\": 0, \"Income\": 456, \"Approved\": \"No\"}, {\"Age\": 42.83, \"Debt\": 1.25, \"CreditScore\": 1, \"Income\": 112, \"Approved\": \"No\"}, {\"Age\": 13.75, \"Debt\": 4.0, \"CreditScore\": 2, \"Income\": 1000, \"Approved\": \"Yes\"}]}}, {\"mode\": \"vega-lite\"});\n",
       "</script>"
      ],
      "text/plain": [
       "alt.Chart(...)"
      ]
     },
     "execution_count": 14,
     "metadata": {},
     "output_type": "execute_result"
    }
   ],
   "source": [
    "#Age vs Credit Score\n",
    "scatterplot_age = alt.Chart(data_train, title = \"Age vs Credit Score\").mark_point().encode(\n",
    "    x=alt.X(\"CreditScore\").title(\"Credit Score\").scale(domain=[0,20],clamp=True),\n",
    "    y=alt.Y(\"Age\").scale(domain=[0,90],clamp= True),\n",
    "    color=alt.Color(\"Approved\")\n",
    ")\n",
    "scatterplot_age"
   ]
  },
  {
   "cell_type": "markdown",
   "id": "c534de58",
   "metadata": {},
   "source": [
    "Figure 7. A scatter plot that shows a relationship between age and credit score and its correlation to credit card approcal using training data. "
   ]
  },
  {
   "cell_type": "markdown",
   "id": "75babfc0",
   "metadata": {},
   "source": [
    "I used knn-neighbors data analysis. To choose the number of neighbors we looked at a combination of accuracy and standard error for a range of different values of k. We then tested our model with values of 7 such as 7,11,15, 25, and so on. "
   ]
  },
  {
   "cell_type": "code",
   "execution_count": 15,
   "id": "be4b48d1-8575-4e32-8fd9-9cf4511bd870",
   "metadata": {
    "tags": []
   },
   "outputs": [
    {
     "data": {
      "text/html": [
       "<style>#sk-container-id-1 {color: black;}#sk-container-id-1 pre{padding: 0;}#sk-container-id-1 div.sk-toggleable {background-color: white;}#sk-container-id-1 label.sk-toggleable__label {cursor: pointer;display: block;width: 100%;margin-bottom: 0;padding: 0.3em;box-sizing: border-box;text-align: center;}#sk-container-id-1 label.sk-toggleable__label-arrow:before {content: \"▸\";float: left;margin-right: 0.25em;color: #696969;}#sk-container-id-1 label.sk-toggleable__label-arrow:hover:before {color: black;}#sk-container-id-1 div.sk-estimator:hover label.sk-toggleable__label-arrow:before {color: black;}#sk-container-id-1 div.sk-toggleable__content {max-height: 0;max-width: 0;overflow: hidden;text-align: left;background-color: #f0f8ff;}#sk-container-id-1 div.sk-toggleable__content pre {margin: 0.2em;color: black;border-radius: 0.25em;background-color: #f0f8ff;}#sk-container-id-1 input.sk-toggleable__control:checked~div.sk-toggleable__content {max-height: 200px;max-width: 100%;overflow: auto;}#sk-container-id-1 input.sk-toggleable__control:checked~label.sk-toggleable__label-arrow:before {content: \"▾\";}#sk-container-id-1 div.sk-estimator input.sk-toggleable__control:checked~label.sk-toggleable__label {background-color: #d4ebff;}#sk-container-id-1 div.sk-label input.sk-toggleable__control:checked~label.sk-toggleable__label {background-color: #d4ebff;}#sk-container-id-1 input.sk-hidden--visually {border: 0;clip: rect(1px 1px 1px 1px);clip: rect(1px, 1px, 1px, 1px);height: 1px;margin: -1px;overflow: hidden;padding: 0;position: absolute;width: 1px;}#sk-container-id-1 div.sk-estimator {font-family: monospace;background-color: #f0f8ff;border: 1px dotted black;border-radius: 0.25em;box-sizing: border-box;margin-bottom: 0.5em;}#sk-container-id-1 div.sk-estimator:hover {background-color: #d4ebff;}#sk-container-id-1 div.sk-parallel-item::after {content: \"\";width: 100%;border-bottom: 1px solid gray;flex-grow: 1;}#sk-container-id-1 div.sk-label:hover label.sk-toggleable__label {background-color: #d4ebff;}#sk-container-id-1 div.sk-serial::before {content: \"\";position: absolute;border-left: 1px solid gray;box-sizing: border-box;top: 0;bottom: 0;left: 50%;z-index: 0;}#sk-container-id-1 div.sk-serial {display: flex;flex-direction: column;align-items: center;background-color: white;padding-right: 0.2em;padding-left: 0.2em;position: relative;}#sk-container-id-1 div.sk-item {position: relative;z-index: 1;}#sk-container-id-1 div.sk-parallel {display: flex;align-items: stretch;justify-content: center;background-color: white;position: relative;}#sk-container-id-1 div.sk-item::before, #sk-container-id-1 div.sk-parallel-item::before {content: \"\";position: absolute;border-left: 1px solid gray;box-sizing: border-box;top: 0;bottom: 0;left: 50%;z-index: -1;}#sk-container-id-1 div.sk-parallel-item {display: flex;flex-direction: column;z-index: 1;position: relative;background-color: white;}#sk-container-id-1 div.sk-parallel-item:first-child::after {align-self: flex-end;width: 50%;}#sk-container-id-1 div.sk-parallel-item:last-child::after {align-self: flex-start;width: 50%;}#sk-container-id-1 div.sk-parallel-item:only-child::after {width: 0;}#sk-container-id-1 div.sk-dashed-wrapped {border: 1px dashed gray;margin: 0 0.4em 0.5em 0.4em;box-sizing: border-box;padding-bottom: 0.4em;background-color: white;}#sk-container-id-1 div.sk-label label {font-family: monospace;font-weight: bold;display: inline-block;line-height: 1.2em;}#sk-container-id-1 div.sk-label-container {text-align: center;}#sk-container-id-1 div.sk-container {/* jupyter's `normalize.less` sets `[hidden] { display: none; }` but bootstrap.min.css set `[hidden] { display: none !important; }` so we also need the `!important` here to be able to override the default hidden behavior on the sphinx rendered scikit-learn.org. See: https://github.com/scikit-learn/scikit-learn/issues/21755 */display: inline-block !important;position: relative;}#sk-container-id-1 div.sk-text-repr-fallback {display: none;}</style><div id=\"sk-container-id-1\" class=\"sk-top-container\"><div class=\"sk-text-repr-fallback\"><pre>ColumnTransformer(remainder=&#x27;passthrough&#x27;,\n",
       "                  transformers=[(&#x27;standardscaler&#x27;, StandardScaler(),\n",
       "                                 [&#x27;Age&#x27;, &#x27;Debt&#x27;, &#x27;Income&#x27;, &#x27;CreditScore&#x27;])])</pre><b>In a Jupyter environment, please rerun this cell to show the HTML representation or trust the notebook. <br />On GitHub, the HTML representation is unable to render, please try loading this page with nbviewer.org.</b></div><div class=\"sk-container\" hidden><div class=\"sk-item sk-dashed-wrapped\"><div class=\"sk-label-container\"><div class=\"sk-label sk-toggleable\"><input class=\"sk-toggleable__control sk-hidden--visually\" id=\"sk-estimator-id-1\" type=\"checkbox\" ><label for=\"sk-estimator-id-1\" class=\"sk-toggleable__label sk-toggleable__label-arrow\">ColumnTransformer</label><div class=\"sk-toggleable__content\"><pre>ColumnTransformer(remainder=&#x27;passthrough&#x27;,\n",
       "                  transformers=[(&#x27;standardscaler&#x27;, StandardScaler(),\n",
       "                                 [&#x27;Age&#x27;, &#x27;Debt&#x27;, &#x27;Income&#x27;, &#x27;CreditScore&#x27;])])</pre></div></div></div><div class=\"sk-parallel\"><div class=\"sk-parallel-item\"><div class=\"sk-item\"><div class=\"sk-label-container\"><div class=\"sk-label sk-toggleable\"><input class=\"sk-toggleable__control sk-hidden--visually\" id=\"sk-estimator-id-2\" type=\"checkbox\" ><label for=\"sk-estimator-id-2\" class=\"sk-toggleable__label sk-toggleable__label-arrow\">standardscaler</label><div class=\"sk-toggleable__content\"><pre>[&#x27;Age&#x27;, &#x27;Debt&#x27;, &#x27;Income&#x27;, &#x27;CreditScore&#x27;]</pre></div></div></div><div class=\"sk-serial\"><div class=\"sk-item\"><div class=\"sk-estimator sk-toggleable\"><input class=\"sk-toggleable__control sk-hidden--visually\" id=\"sk-estimator-id-3\" type=\"checkbox\" ><label for=\"sk-estimator-id-3\" class=\"sk-toggleable__label sk-toggleable__label-arrow\">StandardScaler</label><div class=\"sk-toggleable__content\"><pre>StandardScaler()</pre></div></div></div></div></div></div><div class=\"sk-parallel-item\"><div class=\"sk-item\"><div class=\"sk-label-container\"><div class=\"sk-label sk-toggleable\"><input class=\"sk-toggleable__control sk-hidden--visually\" id=\"sk-estimator-id-4\" type=\"checkbox\" ><label for=\"sk-estimator-id-4\" class=\"sk-toggleable__label sk-toggleable__label-arrow\">remainder</label><div class=\"sk-toggleable__content\"><pre>[&#x27;Approved&#x27;]</pre></div></div></div><div class=\"sk-serial\"><div class=\"sk-item\"><div class=\"sk-estimator sk-toggleable\"><input class=\"sk-toggleable__control sk-hidden--visually\" id=\"sk-estimator-id-5\" type=\"checkbox\" ><label for=\"sk-estimator-id-5\" class=\"sk-toggleable__label sk-toggleable__label-arrow\">passthrough</label><div class=\"sk-toggleable__content\"><pre>passthrough</pre></div></div></div></div></div></div></div></div></div></div>"
      ],
      "text/plain": [
       "ColumnTransformer(remainder='passthrough',\n",
       "                  transformers=[('standardscaler', StandardScaler(),\n",
       "                                 ['Age', 'Debt', 'Income', 'CreditScore'])])"
      ]
     },
     "execution_count": 15,
     "metadata": {},
     "output_type": "execute_result"
    }
   ],
   "source": [
    "# knn classifier\n",
    "# Model: knn Neighbours Classification\n",
    "knn = KNeighborsClassifier(n_neighbors=15)\n",
    "# we increased k from 7, to 11, to 15, to 25, choosing k=15 with the best \n",
    "# the accuracy of the \"No\" column increased with every increase in k, but the \"Yes\" column either decreased in accuracy or didnt change\n",
    "\n",
    "# create the preprocessor\n",
    "preprocessor = make_column_transformer(\n",
    "    (StandardScaler(), [\"Age\", \"Debt\",\"Income\",\"CreditScore\"]),\n",
    "    remainder='passthrough'\n",
    ")\n",
    "data_fit = preprocessor.fit(data_train)\n",
    "data_fit"
   ]
  },
  {
   "cell_type": "code",
   "execution_count": 16,
   "id": "dd889b1a-3c86-49bc-8635-4b29b8a8b7fa",
   "metadata": {
    "tags": []
   },
   "outputs": [
    {
     "data": {
      "text/html": [
       "<style>#sk-container-id-2 {color: black;}#sk-container-id-2 pre{padding: 0;}#sk-container-id-2 div.sk-toggleable {background-color: white;}#sk-container-id-2 label.sk-toggleable__label {cursor: pointer;display: block;width: 100%;margin-bottom: 0;padding: 0.3em;box-sizing: border-box;text-align: center;}#sk-container-id-2 label.sk-toggleable__label-arrow:before {content: \"▸\";float: left;margin-right: 0.25em;color: #696969;}#sk-container-id-2 label.sk-toggleable__label-arrow:hover:before {color: black;}#sk-container-id-2 div.sk-estimator:hover label.sk-toggleable__label-arrow:before {color: black;}#sk-container-id-2 div.sk-toggleable__content {max-height: 0;max-width: 0;overflow: hidden;text-align: left;background-color: #f0f8ff;}#sk-container-id-2 div.sk-toggleable__content pre {margin: 0.2em;color: black;border-radius: 0.25em;background-color: #f0f8ff;}#sk-container-id-2 input.sk-toggleable__control:checked~div.sk-toggleable__content {max-height: 200px;max-width: 100%;overflow: auto;}#sk-container-id-2 input.sk-toggleable__control:checked~label.sk-toggleable__label-arrow:before {content: \"▾\";}#sk-container-id-2 div.sk-estimator input.sk-toggleable__control:checked~label.sk-toggleable__label {background-color: #d4ebff;}#sk-container-id-2 div.sk-label input.sk-toggleable__control:checked~label.sk-toggleable__label {background-color: #d4ebff;}#sk-container-id-2 input.sk-hidden--visually {border: 0;clip: rect(1px 1px 1px 1px);clip: rect(1px, 1px, 1px, 1px);height: 1px;margin: -1px;overflow: hidden;padding: 0;position: absolute;width: 1px;}#sk-container-id-2 div.sk-estimator {font-family: monospace;background-color: #f0f8ff;border: 1px dotted black;border-radius: 0.25em;box-sizing: border-box;margin-bottom: 0.5em;}#sk-container-id-2 div.sk-estimator:hover {background-color: #d4ebff;}#sk-container-id-2 div.sk-parallel-item::after {content: \"\";width: 100%;border-bottom: 1px solid gray;flex-grow: 1;}#sk-container-id-2 div.sk-label:hover label.sk-toggleable__label {background-color: #d4ebff;}#sk-container-id-2 div.sk-serial::before {content: \"\";position: absolute;border-left: 1px solid gray;box-sizing: border-box;top: 0;bottom: 0;left: 50%;z-index: 0;}#sk-container-id-2 div.sk-serial {display: flex;flex-direction: column;align-items: center;background-color: white;padding-right: 0.2em;padding-left: 0.2em;position: relative;}#sk-container-id-2 div.sk-item {position: relative;z-index: 1;}#sk-container-id-2 div.sk-parallel {display: flex;align-items: stretch;justify-content: center;background-color: white;position: relative;}#sk-container-id-2 div.sk-item::before, #sk-container-id-2 div.sk-parallel-item::before {content: \"\";position: absolute;border-left: 1px solid gray;box-sizing: border-box;top: 0;bottom: 0;left: 50%;z-index: -1;}#sk-container-id-2 div.sk-parallel-item {display: flex;flex-direction: column;z-index: 1;position: relative;background-color: white;}#sk-container-id-2 div.sk-parallel-item:first-child::after {align-self: flex-end;width: 50%;}#sk-container-id-2 div.sk-parallel-item:last-child::after {align-self: flex-start;width: 50%;}#sk-container-id-2 div.sk-parallel-item:only-child::after {width: 0;}#sk-container-id-2 div.sk-dashed-wrapped {border: 1px dashed gray;margin: 0 0.4em 0.5em 0.4em;box-sizing: border-box;padding-bottom: 0.4em;background-color: white;}#sk-container-id-2 div.sk-label label {font-family: monospace;font-weight: bold;display: inline-block;line-height: 1.2em;}#sk-container-id-2 div.sk-label-container {text-align: center;}#sk-container-id-2 div.sk-container {/* jupyter's `normalize.less` sets `[hidden] { display: none; }` but bootstrap.min.css set `[hidden] { display: none !important; }` so we also need the `!important` here to be able to override the default hidden behavior on the sphinx rendered scikit-learn.org. See: https://github.com/scikit-learn/scikit-learn/issues/21755 */display: inline-block !important;position: relative;}#sk-container-id-2 div.sk-text-repr-fallback {display: none;}</style><div id=\"sk-container-id-2\" class=\"sk-top-container\"><div class=\"sk-text-repr-fallback\"><pre>Pipeline(steps=[(&#x27;columntransformer&#x27;,\n",
       "                 ColumnTransformer(remainder=&#x27;passthrough&#x27;,\n",
       "                                   transformers=[(&#x27;standardscaler&#x27;,\n",
       "                                                  StandardScaler(),\n",
       "                                                  [&#x27;Age&#x27;, &#x27;Debt&#x27;, &#x27;Income&#x27;,\n",
       "                                                   &#x27;CreditScore&#x27;])])),\n",
       "                (&#x27;kneighborsclassifier&#x27;, KNeighborsClassifier(n_neighbors=15))])</pre><b>In a Jupyter environment, please rerun this cell to show the HTML representation or trust the notebook. <br />On GitHub, the HTML representation is unable to render, please try loading this page with nbviewer.org.</b></div><div class=\"sk-container\" hidden><div class=\"sk-item sk-dashed-wrapped\"><div class=\"sk-label-container\"><div class=\"sk-label sk-toggleable\"><input class=\"sk-toggleable__control sk-hidden--visually\" id=\"sk-estimator-id-6\" type=\"checkbox\" ><label for=\"sk-estimator-id-6\" class=\"sk-toggleable__label sk-toggleable__label-arrow\">Pipeline</label><div class=\"sk-toggleable__content\"><pre>Pipeline(steps=[(&#x27;columntransformer&#x27;,\n",
       "                 ColumnTransformer(remainder=&#x27;passthrough&#x27;,\n",
       "                                   transformers=[(&#x27;standardscaler&#x27;,\n",
       "                                                  StandardScaler(),\n",
       "                                                  [&#x27;Age&#x27;, &#x27;Debt&#x27;, &#x27;Income&#x27;,\n",
       "                                                   &#x27;CreditScore&#x27;])])),\n",
       "                (&#x27;kneighborsclassifier&#x27;, KNeighborsClassifier(n_neighbors=15))])</pre></div></div></div><div class=\"sk-serial\"><div class=\"sk-item sk-dashed-wrapped\"><div class=\"sk-label-container\"><div class=\"sk-label sk-toggleable\"><input class=\"sk-toggleable__control sk-hidden--visually\" id=\"sk-estimator-id-7\" type=\"checkbox\" ><label for=\"sk-estimator-id-7\" class=\"sk-toggleable__label sk-toggleable__label-arrow\">columntransformer: ColumnTransformer</label><div class=\"sk-toggleable__content\"><pre>ColumnTransformer(remainder=&#x27;passthrough&#x27;,\n",
       "                  transformers=[(&#x27;standardscaler&#x27;, StandardScaler(),\n",
       "                                 [&#x27;Age&#x27;, &#x27;Debt&#x27;, &#x27;Income&#x27;, &#x27;CreditScore&#x27;])])</pre></div></div></div><div class=\"sk-parallel\"><div class=\"sk-parallel-item\"><div class=\"sk-item\"><div class=\"sk-label-container\"><div class=\"sk-label sk-toggleable\"><input class=\"sk-toggleable__control sk-hidden--visually\" id=\"sk-estimator-id-8\" type=\"checkbox\" ><label for=\"sk-estimator-id-8\" class=\"sk-toggleable__label sk-toggleable__label-arrow\">standardscaler</label><div class=\"sk-toggleable__content\"><pre>[&#x27;Age&#x27;, &#x27;Debt&#x27;, &#x27;Income&#x27;, &#x27;CreditScore&#x27;]</pre></div></div></div><div class=\"sk-serial\"><div class=\"sk-item\"><div class=\"sk-estimator sk-toggleable\"><input class=\"sk-toggleable__control sk-hidden--visually\" id=\"sk-estimator-id-9\" type=\"checkbox\" ><label for=\"sk-estimator-id-9\" class=\"sk-toggleable__label sk-toggleable__label-arrow\">StandardScaler</label><div class=\"sk-toggleable__content\"><pre>StandardScaler()</pre></div></div></div></div></div></div><div class=\"sk-parallel-item\"><div class=\"sk-item\"><div class=\"sk-label-container\"><div class=\"sk-label sk-toggleable\"><input class=\"sk-toggleable__control sk-hidden--visually\" id=\"sk-estimator-id-10\" type=\"checkbox\" ><label for=\"sk-estimator-id-10\" class=\"sk-toggleable__label sk-toggleable__label-arrow\">remainder</label><div class=\"sk-toggleable__content\"><pre>[]</pre></div></div></div><div class=\"sk-serial\"><div class=\"sk-item\"><div class=\"sk-estimator sk-toggleable\"><input class=\"sk-toggleable__control sk-hidden--visually\" id=\"sk-estimator-id-11\" type=\"checkbox\" ><label for=\"sk-estimator-id-11\" class=\"sk-toggleable__label sk-toggleable__label-arrow\">passthrough</label><div class=\"sk-toggleable__content\"><pre>passthrough</pre></div></div></div></div></div></div></div></div><div class=\"sk-item\"><div class=\"sk-estimator sk-toggleable\"><input class=\"sk-toggleable__control sk-hidden--visually\" id=\"sk-estimator-id-12\" type=\"checkbox\" ><label for=\"sk-estimator-id-12\" class=\"sk-toggleable__label sk-toggleable__label-arrow\">KNeighborsClassifier</label><div class=\"sk-toggleable__content\"><pre>KNeighborsClassifier(n_neighbors=15)</pre></div></div></div></div></div></div></div>"
      ],
      "text/plain": [
       "Pipeline(steps=[('columntransformer',\n",
       "                 ColumnTransformer(remainder='passthrough',\n",
       "                                   transformers=[('standardscaler',\n",
       "                                                  StandardScaler(),\n",
       "                                                  ['Age', 'Debt', 'Income',\n",
       "                                                   'CreditScore'])])),\n",
       "                ('kneighborsclassifier', KNeighborsClassifier(n_neighbors=15))])"
      ]
     },
     "execution_count": 16,
     "metadata": {},
     "output_type": "execute_result"
    }
   ],
   "source": [
    "# Make pipeline and fit it to our data\n",
    "knn_fit = make_pipeline(preprocessor, knn).fit(\n",
    "    X=data_train.drop(columns=['Approved']), \n",
    "    y=data_train[\"Approved\"]\n",
    ")\n",
    "\n",
    "knn_fit"
   ]
  },
  {
   "cell_type": "code",
   "execution_count": 17,
   "id": "55115857-7c25-42db-973a-848fc0753096",
   "metadata": {
    "tags": []
   },
   "outputs": [
    {
     "data": {
      "text/html": [
       "<div>\n",
       "<style scoped>\n",
       "    .dataframe tbody tr th:only-of-type {\n",
       "        vertical-align: middle;\n",
       "    }\n",
       "\n",
       "    .dataframe tbody tr th {\n",
       "        vertical-align: top;\n",
       "    }\n",
       "\n",
       "    .dataframe thead th {\n",
       "        text-align: right;\n",
       "    }\n",
       "</style>\n",
       "<table border=\"1\" class=\"dataframe\">\n",
       "  <thead>\n",
       "    <tr style=\"text-align: right;\">\n",
       "      <th></th>\n",
       "      <th>Age</th>\n",
       "      <th>Debt</th>\n",
       "      <th>Income</th>\n",
       "      <th>CreditScore</th>\n",
       "      <th>Approved</th>\n",
       "      <th>predicted</th>\n",
       "    </tr>\n",
       "  </thead>\n",
       "  <tbody>\n",
       "    <tr>\n",
       "      <th>399</th>\n",
       "      <td>31.00</td>\n",
       "      <td>2.085</td>\n",
       "      <td>0</td>\n",
       "      <td>0</td>\n",
       "      <td>No</td>\n",
       "      <td>No</td>\n",
       "    </tr>\n",
       "    <tr>\n",
       "      <th>250</th>\n",
       "      <td>40.25</td>\n",
       "      <td>21.500</td>\n",
       "      <td>1200</td>\n",
       "      <td>11</td>\n",
       "      <td>Yes</td>\n",
       "      <td>Yes</td>\n",
       "    </tr>\n",
       "    <tr>\n",
       "      <th>396</th>\n",
       "      <td>29.83</td>\n",
       "      <td>2.040</td>\n",
       "      <td>1</td>\n",
       "      <td>0</td>\n",
       "      <td>No</td>\n",
       "      <td>No</td>\n",
       "    </tr>\n",
       "    <tr>\n",
       "      <th>192</th>\n",
       "      <td>41.75</td>\n",
       "      <td>0.960</td>\n",
       "      <td>600</td>\n",
       "      <td>0</td>\n",
       "      <td>Yes</td>\n",
       "      <td>No</td>\n",
       "    </tr>\n",
       "    <tr>\n",
       "      <th>602</th>\n",
       "      <td>29.83</td>\n",
       "      <td>1.250</td>\n",
       "      <td>0</td>\n",
       "      <td>0</td>\n",
       "      <td>No</td>\n",
       "      <td>No</td>\n",
       "    </tr>\n",
       "    <tr>\n",
       "      <th>...</th>\n",
       "      <td>...</td>\n",
       "      <td>...</td>\n",
       "      <td>...</td>\n",
       "      <td>...</td>\n",
       "      <td>...</td>\n",
       "      <td>...</td>\n",
       "    </tr>\n",
       "    <tr>\n",
       "      <th>100</th>\n",
       "      <td>37.50</td>\n",
       "      <td>1.750</td>\n",
       "      <td>400</td>\n",
       "      <td>0</td>\n",
       "      <td>No</td>\n",
       "      <td>No</td>\n",
       "    </tr>\n",
       "    <tr>\n",
       "      <th>572</th>\n",
       "      <td>21.92</td>\n",
       "      <td>0.540</td>\n",
       "      <td>59</td>\n",
       "      <td>1</td>\n",
       "      <td>Yes</td>\n",
       "      <td>No</td>\n",
       "    </tr>\n",
       "    <tr>\n",
       "      <th>101</th>\n",
       "      <td>35.25</td>\n",
       "      <td>16.500</td>\n",
       "      <td>0</td>\n",
       "      <td>0</td>\n",
       "      <td>No</td>\n",
       "      <td>No</td>\n",
       "    </tr>\n",
       "    <tr>\n",
       "      <th>195</th>\n",
       "      <td>28.25</td>\n",
       "      <td>5.040</td>\n",
       "      <td>7</td>\n",
       "      <td>8</td>\n",
       "      <td>Yes</td>\n",
       "      <td>Yes</td>\n",
       "    </tr>\n",
       "    <tr>\n",
       "      <th>229</th>\n",
       "      <td>22.08</td>\n",
       "      <td>11.000</td>\n",
       "      <td>0</td>\n",
       "      <td>0</td>\n",
       "      <td>Yes</td>\n",
       "      <td>No</td>\n",
       "    </tr>\n",
       "  </tbody>\n",
       "</table>\n",
       "<p>173 rows × 6 columns</p>\n",
       "</div>"
      ],
      "text/plain": [
       "       Age    Debt  Income  CreditScore Approved predicted\n",
       "399  31.00   2.085       0            0       No        No\n",
       "250  40.25  21.500    1200           11      Yes       Yes\n",
       "396  29.83   2.040       1            0       No        No\n",
       "192  41.75   0.960     600            0      Yes        No\n",
       "602  29.83   1.250       0            0       No        No\n",
       "..     ...     ...     ...          ...      ...       ...\n",
       "100  37.50   1.750     400            0       No        No\n",
       "572  21.92   0.540      59            1      Yes        No\n",
       "101  35.25  16.500       0            0       No        No\n",
       "195  28.25   5.040       7            8      Yes       Yes\n",
       "229  22.08  11.000       0            0      Yes        No\n",
       "\n",
       "[173 rows x 6 columns]"
      ]
     },
     "execution_count": 17,
     "metadata": {},
     "output_type": "execute_result"
    }
   ],
   "source": [
    "data_test_predictions = data_test.assign(\n",
    "    predicted = knn_fit.predict(data_test[[\"Age\", \"Debt\",\"Income\", \"Approved\",\"CreditScore\"]])\n",
    ")\n",
    "data_test_predictions[[\"Age\", \"Debt\",\"Income\",\"CreditScore\", \"Approved\", 'predicted']]"
   ]
  },
  {
   "cell_type": "markdown",
   "id": "1a27b2f6",
   "metadata": {},
   "source": [
    "Table 6. This dataset is a testing dataset with predicted column added."
   ]
  },
  {
   "cell_type": "code",
   "execution_count": 18,
   "id": "23a2d64e-031c-40c5-b7ac-80e7cf7ba15a",
   "metadata": {
    "tags": []
   },
   "outputs": [
    {
     "data": {
      "text/plain": [
       "0.7572254335260116"
      ]
     },
     "execution_count": 18,
     "metadata": {},
     "output_type": "execute_result"
    }
   ],
   "source": [
    "data_preds = data_test_predictions[\n",
    "    data_test_predictions['Approved'] == data_test_predictions['predicted']\n",
    "]\n",
    "\n",
    "data_preds.shape[0] / data_test_predictions.shape[0]"
   ]
  },
  {
   "cell_type": "code",
   "execution_count": 19,
   "id": "28f0d38a-83e6-4131-95f0-f285d82f3188",
   "metadata": {
    "tags": []
   },
   "outputs": [
    {
     "data": {
      "text/html": [
       "<div>\n",
       "<style scoped>\n",
       "    .dataframe tbody tr th:only-of-type {\n",
       "        vertical-align: middle;\n",
       "    }\n",
       "\n",
       "    .dataframe tbody tr th {\n",
       "        vertical-align: top;\n",
       "    }\n",
       "\n",
       "    .dataframe thead th {\n",
       "        text-align: right;\n",
       "    }\n",
       "</style>\n",
       "<table border=\"1\" class=\"dataframe\">\n",
       "  <thead>\n",
       "    <tr style=\"text-align: right;\">\n",
       "      <th>predicted</th>\n",
       "      <th>No</th>\n",
       "      <th>Yes</th>\n",
       "    </tr>\n",
       "    <tr>\n",
       "      <th>Approved</th>\n",
       "      <th></th>\n",
       "      <th></th>\n",
       "    </tr>\n",
       "  </thead>\n",
       "  <tbody>\n",
       "    <tr>\n",
       "      <th>No</th>\n",
       "      <td>90</td>\n",
       "      <td>5</td>\n",
       "    </tr>\n",
       "    <tr>\n",
       "      <th>Yes</th>\n",
       "      <td>37</td>\n",
       "      <td>41</td>\n",
       "    </tr>\n",
       "  </tbody>\n",
       "</table>\n",
       "</div>"
      ],
      "text/plain": [
       "predicted  No  Yes\n",
       "Approved          \n",
       "No         90    5\n",
       "Yes        37   41"
      ]
     },
     "execution_count": 19,
     "metadata": {},
     "output_type": "execute_result"
    }
   ],
   "source": [
    "pd.crosstab(\n",
    "    data_test_predictions[\"Approved\"],\n",
    "    data_test_predictions[\"predicted\"]\n",
    ")"
   ]
  },
  {
   "cell_type": "markdown",
   "id": "a595a0ed",
   "metadata": {},
   "source": [
    "Table 7. Estimated accuracy of the classifier using crosstab function."
   ]
  },
  {
   "cell_type": "code",
   "execution_count": 20,
   "id": "86de1861-0d8d-4ba9-8a42-532649576427",
   "metadata": {
    "tags": []
   },
   "outputs": [
    {
     "data": {
      "text/html": [
       "\n",
       "<style>\n",
       "  #altair-viz-cb84b7c8799c49568c481956c3378bab.vega-embed {\n",
       "    width: 100%;\n",
       "    display: flex;\n",
       "  }\n",
       "\n",
       "  #altair-viz-cb84b7c8799c49568c481956c3378bab.vega-embed details,\n",
       "  #altair-viz-cb84b7c8799c49568c481956c3378bab.vega-embed details summary {\n",
       "    position: relative;\n",
       "  }\n",
       "</style>\n",
       "<div id=\"altair-viz-cb84b7c8799c49568c481956c3378bab\"></div>\n",
       "<script type=\"text/javascript\">\n",
       "  var VEGA_DEBUG = (typeof VEGA_DEBUG == \"undefined\") ? {} : VEGA_DEBUG;\n",
       "  (function(spec, embedOpt){\n",
       "    let outputDiv = document.currentScript.previousElementSibling;\n",
       "    if (outputDiv.id !== \"altair-viz-cb84b7c8799c49568c481956c3378bab\") {\n",
       "      outputDiv = document.getElementById(\"altair-viz-cb84b7c8799c49568c481956c3378bab\");\n",
       "    }\n",
       "    const paths = {\n",
       "      \"vega\": \"https://cdn.jsdelivr.net/npm/vega@5?noext\",\n",
       "      \"vega-lib\": \"https://cdn.jsdelivr.net/npm/vega-lib?noext\",\n",
       "      \"vega-lite\": \"https://cdn.jsdelivr.net/npm/vega-lite@5.15.1?noext\",\n",
       "      \"vega-embed\": \"https://cdn.jsdelivr.net/npm/vega-embed@6?noext\",\n",
       "    };\n",
       "\n",
       "    function maybeLoadScript(lib, version) {\n",
       "      var key = `${lib.replace(\"-\", \"\")}_version`;\n",
       "      return (VEGA_DEBUG[key] == version) ?\n",
       "        Promise.resolve(paths[lib]) :\n",
       "        new Promise(function(resolve, reject) {\n",
       "          var s = document.createElement('script');\n",
       "          document.getElementsByTagName(\"head\")[0].appendChild(s);\n",
       "          s.async = true;\n",
       "          s.onload = () => {\n",
       "            VEGA_DEBUG[key] = version;\n",
       "            return resolve(paths[lib]);\n",
       "          };\n",
       "          s.onerror = () => reject(`Error loading script: ${paths[lib]}`);\n",
       "          s.src = paths[lib];\n",
       "        });\n",
       "    }\n",
       "\n",
       "    function showError(err) {\n",
       "      outputDiv.innerHTML = `<div class=\"error\" style=\"color:red;\">${err}</div>`;\n",
       "      throw err;\n",
       "    }\n",
       "\n",
       "    function displayChart(vegaEmbed) {\n",
       "      vegaEmbed(outputDiv, spec, embedOpt)\n",
       "        .catch(err => showError(`Javascript Error: ${err.message}<br>This usually means there's a typo in your chart specification. See the javascript console for the full traceback.`));\n",
       "    }\n",
       "\n",
       "    if(typeof define === \"function\" && define.amd) {\n",
       "      requirejs.config({paths});\n",
       "      require([\"vega-embed\"], displayChart, err => showError(`Error loading script: ${err.message}`));\n",
       "    } else {\n",
       "      maybeLoadScript(\"vega\", \"5\")\n",
       "        .then(() => maybeLoadScript(\"vega-lite\", \"5.15.1\"))\n",
       "        .then(() => maybeLoadScript(\"vega-embed\", \"6\"))\n",
       "        .catch(showError)\n",
       "        .then(() => displayChart(vegaEmbed));\n",
       "    }\n",
       "  })({\"config\": {\"view\": {\"continuousWidth\": 300, \"continuousHeight\": 300}}, \"data\": {\"name\": \"data-9b2ed57830432ad344c2b937c9697da2\"}, \"mark\": {\"type\": \"bar\"}, \"encoding\": {\"color\": {\"field\": \"Approved\", \"type\": \"nominal\"}, \"x\": {\"field\": \"Approved\", \"type\": \"nominal\"}, \"y\": {\"aggregate\": \"count\", \"type\": \"quantitative\"}}, \"title\": \"Number of approvals\", \"$schema\": \"https://vega.github.io/schema/vega-lite/v5.15.1.json\", \"datasets\": {\"data-9b2ed57830432ad344c2b937c9697da2\": [{\"Age\": 29.58, \"Debt\": 4.75, \"CreditScore\": 1, \"Income\": 68, \"Approved\": \"No\"}, {\"Age\": 25.67, \"Debt\": 12.5, \"CreditScore\": 67, \"Income\": 258, \"Approved\": \"Yes\"}, {\"Age\": 22.5, \"Debt\": 11.5, \"CreditScore\": 0, \"Income\": 4000, \"Approved\": \"No\"}, {\"Age\": 39.33, \"Debt\": 5.875, \"CreditScore\": 14, \"Income\": 0, \"Approved\": \"Yes\"}, {\"Age\": 22.17, \"Debt\": 12.125, \"CreditScore\": 2, \"Income\": 173, \"Approved\": \"No\"}, {\"Age\": 47.75, \"Debt\": 8.0, \"CreditScore\": 6, \"Income\": 1260, \"Approved\": \"Yes\"}, {\"Age\": 18.83, \"Debt\": 3.54, \"CreditScore\": 0, \"Income\": 1, \"Approved\": \"No\"}, {\"Age\": 32.83, \"Debt\": 2.5, \"CreditScore\": 6, \"Income\": 2072, \"Approved\": \"Yes\"}, {\"Age\": 34.83, \"Debt\": 2.5, \"CreditScore\": 0, \"Income\": 0, \"Approved\": \"No\"}, {\"Age\": 65.42, \"Debt\": 11.0, \"CreditScore\": 7, \"Income\": 0, \"Approved\": \"Yes\"}, {\"Age\": 18.58, \"Debt\": 5.71, \"CreditScore\": 0, \"Income\": 0, \"Approved\": \"No\"}, {\"Age\": 24.08, \"Debt\": 0.5, \"CreditScore\": 1, \"Income\": 678, \"Approved\": \"Yes\"}, {\"Age\": 32.0, \"Debt\": 6.0, \"CreditScore\": 0, \"Income\": 0, \"Approved\": \"No\"}, {\"Age\": 43.0, \"Debt\": 0.29, \"CreditScore\": 8, \"Income\": 375, \"Approved\": \"Yes\"}, {\"Age\": 24.58, \"Debt\": 1.25, \"CreditScore\": 0, \"Income\": 0, \"Approved\": \"No\"}, {\"Age\": 27.25, \"Debt\": 1.585, \"CreditScore\": 12, \"Income\": 713, \"Approved\": \"Yes\"}, {\"Age\": 54.33, \"Debt\": 6.75, \"CreditScore\": 11, \"Income\": 284, \"Approved\": \"Yes\"}, {\"Age\": 43.08, \"Debt\": 0.375, \"CreditScore\": 8, \"Income\": 162, \"Approved\": \"Yes\"}, {\"Age\": 29.5, \"Debt\": 2.0, \"CreditScore\": 0, \"Income\": 17, \"Approved\": \"No\"}, {\"Age\": 28.5, \"Debt\": 3.04, \"CreditScore\": 1, \"Income\": 0, \"Approved\": \"Yes\"}, {\"Age\": 28.92, \"Debt\": 15.0, \"CreditScore\": 11, \"Income\": 2283, \"Approved\": \"Yes\"}, {\"Age\": 22.08, \"Debt\": 2.335, \"CreditScore\": 0, \"Income\": 0, \"Approved\": \"No\"}, {\"Age\": 47.0, \"Debt\": 13.0, \"CreditScore\": 9, \"Income\": 0, \"Approved\": \"Yes\"}, {\"Age\": 26.83, \"Debt\": 0.54, \"CreditScore\": 0, \"Income\": 0, \"Approved\": \"No\"}, {\"Age\": 21.17, \"Debt\": 0.0, \"CreditScore\": 0, \"Income\": 0, \"Approved\": \"No\"}, {\"Age\": 20.42, \"Debt\": 0.835, \"CreditScore\": 1, \"Income\": 0, \"Approved\": \"Yes\"}, {\"Age\": 22.58, \"Debt\": 10.75, \"CreditScore\": 5, \"Income\": 560, \"Approved\": \"Yes\"}, {\"Age\": 36.75, \"Debt\": 5.125, \"CreditScore\": 0, \"Income\": 4000, \"Approved\": \"Yes\"}, {\"Age\": 19.17, \"Debt\": 5.415, \"CreditScore\": 0, \"Income\": 484, \"Approved\": \"No\"}, {\"Age\": 53.33, \"Debt\": 0.165, \"CreditScore\": 0, \"Income\": 27, \"Approved\": \"No\"}, {\"Age\": 22.67, \"Debt\": 2.54, \"CreditScore\": 0, \"Income\": 0, \"Approved\": \"Yes\"}, {\"Age\": 57.83, \"Debt\": 7.04, \"CreditScore\": 6, \"Income\": 1332, \"Approved\": \"Yes\"}, {\"Age\": 36.67, \"Debt\": 4.415, \"CreditScore\": 10, \"Income\": 0, \"Approved\": \"Yes\"}, {\"Age\": 29.67, \"Debt\": 1.415, \"CreditScore\": 1, \"Income\": 100, \"Approved\": \"Yes\"}, {\"Age\": 16.08, \"Debt\": 0.335, \"CreditScore\": 1, \"Income\": 126, \"Approved\": \"No\"}, {\"Age\": 17.58, \"Debt\": 10.0, \"CreditScore\": 1, \"Income\": 1, \"Approved\": \"No\"}, {\"Age\": 41.33, \"Debt\": 0.0, \"CreditScore\": 0, \"Income\": 0, \"Approved\": \"Yes\"}, {\"Age\": 22.67, \"Debt\": 10.5, \"CreditScore\": 0, \"Income\": 0, \"Approved\": \"Yes\"}, {\"Age\": 18.92, \"Debt\": 9.0, \"CreditScore\": 2, \"Income\": 591, \"Approved\": \"Yes\"}, {\"Age\": 32.17, \"Debt\": 1.46, \"CreditScore\": 16, \"Income\": 2079, \"Approved\": \"Yes\"}, {\"Age\": 27.75, \"Debt\": 1.29, \"CreditScore\": 0, \"Income\": 0, \"Approved\": \"No\"}, {\"Age\": 24.5, \"Debt\": 13.335, \"CreditScore\": 0, \"Income\": 475, \"Approved\": \"No\"}, {\"Age\": 52.33, \"Debt\": 1.375, \"CreditScore\": 0, \"Income\": 100, \"Approved\": \"No\"}, {\"Age\": 18.0, \"Debt\": 0.165, \"CreditScore\": 0, \"Income\": 40, \"Approved\": \"Yes\"}, {\"Age\": 23.33, \"Debt\": 11.625, \"CreditScore\": 0, \"Income\": 300, \"Approved\": \"Yes\"}, {\"Age\": 21.75, \"Debt\": 11.75, \"CreditScore\": 0, \"Income\": 0, \"Approved\": \"No\"}, {\"Age\": 39.42, \"Debt\": 1.71, \"CreditScore\": 0, \"Income\": 0, \"Approved\": \"No\"}, {\"Age\": 20.08, \"Debt\": 0.25, \"CreditScore\": 0, \"Income\": 0, \"Approved\": \"No\"}, {\"Age\": 39.25, \"Debt\": 9.5, \"CreditScore\": 14, \"Income\": 4607, \"Approved\": \"Yes\"}, {\"Age\": 37.75, \"Debt\": 7.0, \"CreditScore\": 7, \"Income\": 5, \"Approved\": \"No\"}, {\"Age\": 51.92, \"Debt\": 6.5, \"CreditScore\": 0, \"Income\": 0, \"Approved\": \"No\"}, {\"Age\": 21.83, \"Debt\": 11.0, \"CreditScore\": 6, \"Income\": 0, \"Approved\": \"Yes\"}, {\"Age\": 28.33, \"Debt\": 5.0, \"CreditScore\": 0, \"Income\": 0, \"Approved\": \"Yes\"}, {\"Age\": 27.83, \"Debt\": 1.0, \"CreditScore\": 0, \"Income\": 537, \"Approved\": \"No\"}, {\"Age\": 28.46, \"Debt\": 4.0, \"CreditScore\": 0, \"Income\": 0, \"Approved\": \"No\"}, {\"Age\": 29.42, \"Debt\": 1.25, \"CreditScore\": 2, \"Income\": 108, \"Approved\": \"No\"}, {\"Age\": 52.5, \"Debt\": 7.0, \"CreditScore\": 0, \"Income\": 0, \"Approved\": \"No\"}, {\"Age\": 21.83, \"Debt\": 0.25, \"CreditScore\": 0, \"Income\": 0, \"Approved\": \"Yes\"}, {\"Age\": 20.0, \"Debt\": 7.0, \"CreditScore\": 0, \"Income\": 0, \"Approved\": \"No\"}, {\"Age\": 57.58, \"Debt\": 2.0, \"CreditScore\": 1, \"Income\": 10, \"Approved\": \"No\"}, {\"Age\": 29.25, \"Debt\": 14.79, \"CreditScore\": 5, \"Income\": 0, \"Approved\": \"Yes\"}, {\"Age\": 40.92, \"Debt\": 0.835, \"CreditScore\": 0, \"Income\": 1, \"Approved\": \"No\"}, {\"Age\": 30.83, \"Debt\": 0.0, \"CreditScore\": 1, \"Income\": 0, \"Approved\": \"Yes\"}, {\"Age\": 38.58, \"Debt\": 5.0, \"CreditScore\": 0, \"Income\": 0, \"Approved\": \"No\"}, {\"Age\": 24.83, \"Debt\": 4.5, \"CreditScore\": 0, \"Income\": 6, \"Approved\": \"No\"}, {\"Age\": 25.75, \"Debt\": 0.5, \"CreditScore\": 5, \"Income\": 0, \"Approved\": \"Yes\"}, {\"Age\": 21.17, \"Debt\": 0.875, \"CreditScore\": 0, \"Income\": 204, \"Approved\": \"No\"}, {\"Age\": 16.92, \"Debt\": 0.335, \"CreditScore\": 0, \"Income\": 0, \"Approved\": \"No\"}, {\"Age\": 32.75, \"Debt\": 2.335, \"CreditScore\": 0, \"Income\": 0, \"Approved\": \"No\"}, {\"Age\": 60.08, \"Debt\": 14.5, \"CreditScore\": 15, \"Income\": 1000, \"Approved\": \"Yes\"}, {\"Age\": 34.08, \"Debt\": 2.5, \"CreditScore\": 0, \"Income\": 16, \"Approved\": \"No\"}, {\"Age\": 18.42, \"Debt\": 9.25, \"CreditScore\": 4, \"Income\": 540, \"Approved\": \"Yes\"}, {\"Age\": 35.58, \"Debt\": 0.75, \"CreditScore\": 0, \"Income\": 0, \"Approved\": \"No\"}, {\"Age\": 22.5, \"Debt\": 0.125, \"CreditScore\": 0, \"Income\": 70, \"Approved\": \"No\"}, {\"Age\": 21.33, \"Debt\": 10.5, \"CreditScore\": 0, \"Income\": 0, \"Approved\": \"Yes\"}, {\"Age\": 21.75, \"Debt\": 1.75, \"CreditScore\": 0, \"Income\": 0, \"Approved\": \"No\"}, {\"Age\": 57.08, \"Debt\": 0.335, \"CreditScore\": 0, \"Income\": 2197, \"Approved\": \"No\"}, {\"Age\": 44.83, \"Debt\": 7.0, \"CreditScore\": 0, \"Income\": 2, \"Approved\": \"No\"}, {\"Age\": 20.42, \"Debt\": 10.5, \"CreditScore\": 0, \"Income\": 32, \"Approved\": \"No\"}, {\"Age\": 22.25, \"Debt\": 0.46, \"CreditScore\": 0, \"Income\": 55, \"Approved\": \"No\"}, {\"Age\": 41.17, \"Debt\": 6.5, \"CreditScore\": 3, \"Income\": 0, \"Approved\": \"Yes\"}, {\"Age\": 22.67, \"Debt\": 0.335, \"CreditScore\": 0, \"Income\": 0, \"Approved\": \"No\"}, {\"Age\": 40.83, \"Debt\": 3.5, \"CreditScore\": 0, \"Income\": 0, \"Approved\": \"No\"}, {\"Age\": 22.58, \"Debt\": 10.04, \"CreditScore\": 9, \"Income\": 396, \"Approved\": \"Yes\"}, {\"Age\": 35.42, \"Debt\": 12.0, \"CreditScore\": 8, \"Income\": 6590, \"Approved\": \"Yes\"}, {\"Age\": 28.46, \"Debt\": 4.0, \"CreditScore\": 3, \"Income\": 2279, \"Approved\": \"Yes\"}, {\"Age\": 18.17, \"Debt\": 2.46, \"CreditScore\": 2, \"Income\": 587, \"Approved\": \"No\"}, {\"Age\": 26.75, \"Debt\": 4.5, \"CreditScore\": 0, \"Income\": 1210, \"Approved\": \"No\"}, {\"Age\": 31.83, \"Debt\": 0.04, \"CreditScore\": 0, \"Income\": 0, \"Approved\": \"No\"}, {\"Age\": 34.58, \"Debt\": 0.0, \"CreditScore\": 0, \"Income\": 0, \"Approved\": \"No\"}, {\"Age\": 21.0, \"Debt\": 4.79, \"CreditScore\": 1, \"Income\": 300, \"Approved\": \"Yes\"}, {\"Age\": 45.0, \"Debt\": 4.585, \"CreditScore\": 0, \"Income\": 0, \"Approved\": \"No\"}, {\"Age\": 45.17, \"Debt\": 1.5, \"CreditScore\": 0, \"Income\": 0, \"Approved\": \"No\"}, {\"Age\": 21.5, \"Debt\": 6.0, \"CreditScore\": 3, \"Income\": 918, \"Approved\": \"Yes\"}, {\"Age\": 30.5, \"Debt\": 6.5, \"CreditScore\": 7, \"Income\": 3065, \"Approved\": \"Yes\"}, {\"Age\": 33.0, \"Debt\": 2.5, \"CreditScore\": 0, \"Income\": 0, \"Approved\": \"No\"}, {\"Age\": 73.42, \"Debt\": 17.75, \"CreditScore\": 0, \"Income\": 0, \"Approved\": \"Yes\"}, {\"Age\": 54.83, \"Debt\": 15.5, \"CreditScore\": 20, \"Income\": 130, \"Approved\": \"No\"}, {\"Age\": 32.42, \"Debt\": 2.165, \"CreditScore\": 0, \"Income\": 0, \"Approved\": \"No\"}, {\"Age\": 20.67, \"Debt\": 1.25, \"CreditScore\": 3, \"Income\": 210, \"Approved\": \"No\"}, {\"Age\": 58.42, \"Debt\": 21.0, \"CreditScore\": 13, \"Income\": 6700, \"Approved\": \"Yes\"}, {\"Age\": 26.75, \"Debt\": 1.125, \"CreditScore\": 0, \"Income\": 5298, \"Approved\": \"Yes\"}, {\"Age\": 23.42, \"Debt\": 1.0, \"CreditScore\": 0, \"Income\": 0, \"Approved\": \"No\"}, {\"Age\": 23.92, \"Debt\": 0.665, \"CreditScore\": 0, \"Income\": 0, \"Approved\": \"Yes\"}, {\"Age\": 18.75, \"Debt\": 7.5, \"CreditScore\": 5, \"Income\": 26726, \"Approved\": \"Yes\"}, {\"Age\": 23.58, \"Debt\": 1.79, \"CreditScore\": 0, \"Income\": 1, \"Approved\": \"No\"}, {\"Age\": 20.17, \"Debt\": 8.17, \"CreditScore\": 14, \"Income\": 158, \"Approved\": \"Yes\"}, {\"Age\": 41.33, \"Debt\": 1.0, \"CreditScore\": 0, \"Income\": 300, \"Approved\": \"Yes\"}, {\"Age\": 68.67, \"Debt\": 15.0, \"CreditScore\": 14, \"Income\": 3376, \"Approved\": \"Yes\"}, {\"Age\": 47.42, \"Debt\": 3.0, \"CreditScore\": 2, \"Income\": 1704, \"Approved\": \"Yes\"}, {\"Age\": 22.67, \"Debt\": 0.165, \"CreditScore\": 0, \"Income\": 0, \"Approved\": \"Yes\"}, {\"Age\": 25.58, \"Debt\": 0.0, \"CreditScore\": 0, \"Income\": 0, \"Approved\": \"Yes\"}, {\"Age\": 28.08, \"Debt\": 15.0, \"CreditScore\": 0, \"Income\": 13212, \"Approved\": \"Yes\"}, {\"Age\": 16.17, \"Debt\": 0.04, \"CreditScore\": 0, \"Income\": 0, \"Approved\": \"Yes\"}, {\"Age\": 38.58, \"Debt\": 3.335, \"CreditScore\": 14, \"Income\": 1344, \"Approved\": \"Yes\"}, {\"Age\": 33.25, \"Debt\": 3.0, \"CreditScore\": 0, \"Income\": 0, \"Approved\": \"No\"}, {\"Age\": 51.83, \"Debt\": 3.0, \"CreditScore\": 0, \"Income\": 4, \"Approved\": \"No\"}, {\"Age\": 26.5, \"Debt\": 2.71, \"CreditScore\": 0, \"Income\": 0, \"Approved\": \"No\"}, {\"Age\": 36.33, \"Debt\": 2.125, \"CreditScore\": 1, \"Income\": 1187, \"Approved\": \"Yes\"}, {\"Age\": 34.92, \"Debt\": 5.0, \"CreditScore\": 6, \"Income\": 1000, \"Approved\": \"Yes\"}, {\"Age\": 27.0, \"Debt\": 1.5, \"CreditScore\": 0, \"Income\": 1065, \"Approved\": \"Yes\"}, {\"Age\": 23.75, \"Debt\": 0.415, \"CreditScore\": 2, \"Income\": 6, \"Approved\": \"No\"}, {\"Age\": 16.0, \"Debt\": 3.125, \"CreditScore\": 1, \"Income\": 6, \"Approved\": \"No\"}, {\"Age\": 19.58, \"Debt\": 0.585, \"CreditScore\": 3, \"Income\": 769, \"Approved\": \"No\"}, {\"Age\": 29.17, \"Debt\": 3.5, \"CreditScore\": 3, \"Income\": 0, \"Approved\": \"No\"}, {\"Age\": 28.58, \"Debt\": 3.54, \"CreditScore\": 0, \"Income\": 0, \"Approved\": \"No\"}, {\"Age\": 20.33, \"Debt\": 10.0, \"CreditScore\": 4, \"Income\": 1465, \"Approved\": \"Yes\"}, {\"Age\": 25.0, \"Debt\": 11.25, \"CreditScore\": 17, \"Income\": 1208, \"Approved\": \"Yes\"}, {\"Age\": 32.67, \"Debt\": 9.0, \"CreditScore\": 0, \"Income\": 0, \"Approved\": \"Yes\"}, {\"Age\": 38.92, \"Debt\": 1.665, \"CreditScore\": 0, \"Income\": 390, \"Approved\": \"No\"}, {\"Age\": 22.83, \"Debt\": 3.0, \"CreditScore\": 1, \"Income\": 800, \"Approved\": \"Yes\"}, {\"Age\": 18.17, \"Debt\": 10.0, \"CreditScore\": 0, \"Income\": 0, \"Approved\": \"No\"}, {\"Age\": 29.58, \"Debt\": 4.5, \"CreditScore\": 2, \"Income\": 0, \"Approved\": \"Yes\"}, {\"Age\": 23.25, \"Debt\": 12.625, \"CreditScore\": 2, \"Income\": 5552, \"Approved\": \"No\"}, {\"Age\": 18.58, \"Debt\": 10.0, \"CreditScore\": 0, \"Income\": 42, \"Approved\": \"No\"}, {\"Age\": 20.0, \"Debt\": 11.045, \"CreditScore\": 0, \"Income\": 0, \"Approved\": \"No\"}, {\"Age\": 22.42, \"Debt\": 5.665, \"CreditScore\": 7, \"Income\": 3257, \"Approved\": \"Yes\"}, {\"Age\": 31.83, \"Debt\": 2.5, \"CreditScore\": 0, \"Income\": 0, \"Approved\": \"No\"}, {\"Age\": 24.33, \"Debt\": 6.625, \"CreditScore\": 0, \"Income\": 0, \"Approved\": \"Yes\"}, {\"Age\": 21.92, \"Debt\": 11.665, \"CreditScore\": 0, \"Income\": 5, \"Approved\": \"No\"}, {\"Age\": 36.58, \"Debt\": 0.29, \"CreditScore\": 10, \"Income\": 18, \"Approved\": \"No\"}, {\"Age\": 25.67, \"Debt\": 3.25, \"CreditScore\": 1, \"Income\": 21, \"Approved\": \"No\"}, {\"Age\": 42.0, \"Debt\": 0.205, \"CreditScore\": 0, \"Income\": 0, \"Approved\": \"Yes\"}, {\"Age\": 19.58, \"Debt\": 0.665, \"CreditScore\": 0, \"Income\": 5, \"Approved\": \"No\"}, {\"Age\": 36.33, \"Debt\": 3.79, \"CreditScore\": 0, \"Income\": 0, \"Approved\": \"No\"}, {\"Age\": 33.17, \"Debt\": 1.0, \"CreditScore\": 7, \"Income\": 4071, \"Approved\": \"Yes\"}, {\"Age\": 30.17, \"Debt\": 6.5, \"CreditScore\": 8, \"Income\": 1200, \"Approved\": \"Yes\"}, {\"Age\": 56.58, \"Debt\": 18.5, \"CreditScore\": 17, \"Income\": 0, \"Approved\": \"Yes\"}, {\"Age\": 63.33, \"Debt\": 0.54, \"CreditScore\": 3, \"Income\": 0, \"Approved\": \"No\"}, {\"Age\": 41.17, \"Debt\": 4.04, \"CreditScore\": 8, \"Income\": 0, \"Approved\": \"Yes\"}, {\"Age\": 24.5, \"Debt\": 12.75, \"CreditScore\": 2, \"Income\": 444, \"Approved\": \"Yes\"}, {\"Age\": 33.08, \"Debt\": 4.625, \"CreditScore\": 2, \"Income\": 0, \"Approved\": \"Yes\"}, {\"Age\": 33.08, \"Debt\": 1.625, \"CreditScore\": 0, \"Income\": 0, \"Approved\": \"No\"}, {\"Age\": 42.17, \"Debt\": 5.04, \"CreditScore\": 0, \"Income\": 0, \"Approved\": \"Yes\"}, {\"Age\": 32.33, \"Debt\": 7.5, \"CreditScore\": 0, \"Income\": 0, \"Approved\": \"No\"}, {\"Age\": 29.5, \"Debt\": 0.58, \"CreditScore\": 1, \"Income\": 2803, \"Approved\": \"No\"}, {\"Age\": 41.58, \"Debt\": 1.75, \"CreditScore\": 0, \"Income\": 0, \"Approved\": \"No\"}, {\"Age\": 26.67, \"Debt\": 14.585, \"CreditScore\": 0, \"Income\": 0, \"Approved\": \"No\"}, {\"Age\": 23.25, \"Debt\": 1.0, \"CreditScore\": 0, \"Income\": 0, \"Approved\": \"Yes\"}, {\"Age\": 25.83, \"Debt\": 12.835, \"CreditScore\": 0, \"Income\": 2, \"Approved\": \"No\"}, {\"Age\": 29.67, \"Debt\": 0.75, \"CreditScore\": 0, \"Income\": 0, \"Approved\": \"No\"}, {\"Age\": 22.67, \"Debt\": 7.0, \"CreditScore\": 0, \"Income\": 0, \"Approved\": \"No\"}, {\"Age\": 27.67, \"Debt\": 0.75, \"CreditScore\": 0, \"Income\": 251, \"Approved\": \"No\"}, {\"Age\": 32.08, \"Debt\": 4.0, \"CreditScore\": 0, \"Income\": 0, \"Approved\": \"No\"}, {\"Age\": 20.42, \"Debt\": 7.0, \"CreditScore\": 3, \"Income\": 1391, \"Approved\": \"Yes\"}, {\"Age\": 27.67, \"Debt\": 13.75, \"CreditScore\": 0, \"Income\": 500, \"Approved\": \"Yes\"}, {\"Age\": 18.83, \"Debt\": 9.54, \"CreditScore\": 0, \"Income\": 0, \"Approved\": \"Yes\"}, {\"Age\": 48.08, \"Debt\": 3.75, \"CreditScore\": 0, \"Income\": 2, \"Approved\": \"No\"}, {\"Age\": 18.83, \"Debt\": 0.415, \"CreditScore\": 1, \"Income\": 1, \"Approved\": \"No\"}, {\"Age\": 27.67, \"Debt\": 2.0, \"CreditScore\": 4, \"Income\": 7544, \"Approved\": \"Yes\"}, {\"Age\": 17.25, \"Debt\": 3.0, \"CreditScore\": 0, \"Income\": 40, \"Approved\": \"No\"}, {\"Age\": 23.5, \"Debt\": 1.5, \"CreditScore\": 0, \"Income\": 0, \"Approved\": \"No\"}, {\"Age\": 25.92, \"Debt\": 0.875, \"CreditScore\": 2, \"Income\": 3, \"Approved\": \"No\"}, {\"Age\": 38.75, \"Debt\": 1.5, \"CreditScore\": 0, \"Income\": 0, \"Approved\": \"No\"}, {\"Age\": 20.75, \"Debt\": 9.54, \"CreditScore\": 0, \"Income\": 1000, \"Approved\": \"No\"}, {\"Age\": 40.33, \"Debt\": 8.125, \"CreditScore\": 2, \"Income\": 18, \"Approved\": \"No\"}, {\"Age\": 37.42, \"Debt\": 2.04, \"CreditScore\": 0, \"Income\": 5800, \"Approved\": \"Yes\"}, {\"Age\": 34.42, \"Debt\": 1.335, \"CreditScore\": 0, \"Income\": 4500, \"Approved\": \"No\"}, {\"Age\": 22.5, \"Debt\": 0.415, \"CreditScore\": 0, \"Income\": 0, \"Approved\": \"No\"}, {\"Age\": 28.75, \"Debt\": 1.5, \"CreditScore\": 0, \"Income\": 225, \"Approved\": \"No\"}, {\"Age\": 59.5, \"Debt\": 2.75, \"CreditScore\": 5, \"Income\": 58, \"Approved\": \"Yes\"}, {\"Age\": 23.58, \"Debt\": 0.835, \"CreditScore\": 0, \"Income\": 5, \"Approved\": \"No\"}, {\"Age\": 22.5, \"Debt\": 8.5, \"CreditScore\": 10, \"Income\": 990, \"Approved\": \"No\"}, {\"Age\": 27.83, \"Debt\": 4.0, \"CreditScore\": 2, \"Income\": 0, \"Approved\": \"No\"}, {\"Age\": 20.83, \"Debt\": 3.0, \"CreditScore\": 0, \"Income\": 0, \"Approved\": \"Yes\"}, {\"Age\": 39.0, \"Debt\": 5.0, \"CreditScore\": 10, \"Income\": 0, \"Approved\": \"Yes\"}, {\"Age\": 30.75, \"Debt\": 1.585, \"CreditScore\": 0, \"Income\": 0, \"Approved\": \"No\"}, {\"Age\": 22.67, \"Debt\": 0.75, \"CreditScore\": 1, \"Income\": 9, \"Approved\": \"No\"}, {\"Age\": 50.25, \"Debt\": 0.835, \"CreditScore\": 0, \"Income\": 117, \"Approved\": \"No\"}, {\"Age\": 34.0, \"Debt\": 5.085, \"CreditScore\": 0, \"Income\": 0, \"Approved\": \"No\"}, {\"Age\": 48.25, \"Debt\": 25.085, \"CreditScore\": 3, \"Income\": 14, \"Approved\": \"Yes\"}, {\"Age\": 25.25, \"Debt\": 12.5, \"CreditScore\": 0, \"Income\": 1062, \"Approved\": \"No\"}, {\"Age\": 23.75, \"Debt\": 0.71, \"CreditScore\": 1, \"Income\": 4, \"Approved\": \"No\"}, {\"Age\": 41.17, \"Debt\": 1.335, \"CreditScore\": 0, \"Income\": 0, \"Approved\": \"No\"}, {\"Age\": 33.17, \"Debt\": 1.04, \"CreditScore\": 0, \"Income\": 31285, \"Approved\": \"Yes\"}, {\"Age\": 23.75, \"Debt\": 12.0, \"CreditScore\": 0, \"Income\": 0, \"Approved\": \"No\"}, {\"Age\": 20.83, \"Debt\": 0.5, \"CreditScore\": 0, \"Income\": 0, \"Approved\": \"No\"}, {\"Age\": 39.92, \"Debt\": 5.0, \"CreditScore\": 0, \"Income\": 0, \"Approved\": \"No\"}, {\"Age\": 26.17, \"Debt\": 12.5, \"CreditScore\": 0, \"Income\": 17, \"Approved\": \"No\"}, {\"Age\": 39.17, \"Debt\": 2.5, \"CreditScore\": 0, \"Income\": 0, \"Approved\": \"No\"}, {\"Age\": 33.58, \"Debt\": 0.25, \"CreditScore\": 0, \"Income\": 0, \"Approved\": \"No\"}, {\"Age\": 23.42, \"Debt\": 0.79, \"CreditScore\": 2, \"Income\": 400, \"Approved\": \"Yes\"}, {\"Age\": 23.0, \"Debt\": 11.75, \"CreditScore\": 2, \"Income\": 551, \"Approved\": \"Yes\"}, {\"Age\": 33.92, \"Debt\": 1.585, \"CreditScore\": 0, \"Income\": 0, \"Approved\": \"No\"}, {\"Age\": 34.42, \"Debt\": 4.25, \"CreditScore\": 2, \"Income\": 610, \"Approved\": \"Yes\"}, {\"Age\": 19.42, \"Debt\": 7.25, \"CreditScore\": 1, \"Income\": 1, \"Approved\": \"No\"}, {\"Age\": 28.46, \"Debt\": 3.0, \"CreditScore\": 0, \"Income\": 1, \"Approved\": \"No\"}, {\"Age\": 40.83, \"Debt\": 10.0, \"CreditScore\": 0, \"Income\": 837, \"Approved\": \"Yes\"}, {\"Age\": 27.67, \"Debt\": 2.04, \"CreditScore\": 0, \"Income\": 50, \"Approved\": \"No\"}, {\"Age\": 22.75, \"Debt\": 11.5, \"CreditScore\": 0, \"Income\": 0, \"Approved\": \"No\"}, {\"Age\": 37.5, \"Debt\": 0.835, \"CreditScore\": 0, \"Income\": 5, \"Approved\": \"No\"}, {\"Age\": 27.75, \"Debt\": 0.585, \"CreditScore\": 2, \"Income\": 500, \"Approved\": \"Yes\"}, {\"Age\": 55.75, \"Debt\": 7.08, \"CreditScore\": 3, \"Income\": 50, \"Approved\": \"No\"}, {\"Age\": 62.5, \"Debt\": 12.75, \"CreditScore\": 0, \"Income\": 0, \"Approved\": \"No\"}, {\"Age\": 38.25, \"Debt\": 6.0, \"CreditScore\": 0, \"Income\": 0, \"Approved\": \"Yes\"}, {\"Age\": 40.92, \"Debt\": 0.5, \"CreditScore\": 0, \"Income\": 0, \"Approved\": \"No\"}, {\"Age\": 28.46, \"Debt\": 1.5, \"CreditScore\": 2, \"Income\": 105, \"Approved\": \"No\"}, {\"Age\": 27.25, \"Debt\": 1.665, \"CreditScore\": 9, \"Income\": 827, \"Approved\": \"Yes\"}, {\"Age\": 23.58, \"Debt\": 0.585, \"CreditScore\": 0, \"Income\": 87, \"Approved\": \"No\"}, {\"Age\": 16.5, \"Debt\": 0.125, \"CreditScore\": 0, \"Income\": 0, \"Approved\": \"No\"}, {\"Age\": 28.46, \"Debt\": 0.5, \"CreditScore\": 0, \"Income\": 0, \"Approved\": \"No\"}, {\"Age\": 15.83, \"Debt\": 0.585, \"CreditScore\": 2, \"Income\": 0, \"Approved\": \"Yes\"}, {\"Age\": 25.0, \"Debt\": 12.33, \"CreditScore\": 6, \"Income\": 458, \"Approved\": \"Yes\"}, {\"Age\": 32.0, \"Debt\": 1.75, \"CreditScore\": 0, \"Income\": 0, \"Approved\": \"Yes\"}, {\"Age\": 27.67, \"Debt\": 1.5, \"CreditScore\": 0, \"Income\": 0, \"Approved\": \"No\"}, {\"Age\": 23.08, \"Debt\": 2.5, \"CreditScore\": 0, \"Income\": 4208, \"Approved\": \"No\"}, {\"Age\": 36.25, \"Debt\": 5.0, \"CreditScore\": 6, \"Income\": 367, \"Approved\": \"Yes\"}, {\"Age\": 58.67, \"Debt\": 4.46, \"CreditScore\": 6, \"Income\": 560, \"Approved\": \"Yes\"}, {\"Age\": 25.17, \"Debt\": 2.875, \"CreditScore\": 0, \"Income\": 0, \"Approved\": \"Yes\"}, {\"Age\": 19.17, \"Debt\": 8.585, \"CreditScore\": 7, \"Income\": 0, \"Approved\": \"Yes\"}, {\"Age\": 42.08, \"Debt\": 1.04, \"CreditScore\": 6, \"Income\": 10000, \"Approved\": \"Yes\"}, {\"Age\": 34.75, \"Debt\": 2.5, \"CreditScore\": 0, \"Income\": 0, \"Approved\": \"No\"}, {\"Age\": 28.17, \"Debt\": 0.585, \"CreditScore\": 0, \"Income\": 1004, \"Approved\": \"No\"}, {\"Age\": 36.17, \"Debt\": 5.5, \"CreditScore\": 0, \"Income\": 687, \"Approved\": \"No\"}, {\"Age\": 18.83, \"Debt\": 4.415, \"CreditScore\": 0, \"Income\": 0, \"Approved\": \"Yes\"}, {\"Age\": 22.25, \"Debt\": 9.0, \"CreditScore\": 0, \"Income\": 0, \"Approved\": \"No\"}, {\"Age\": 34.83, \"Debt\": 4.0, \"CreditScore\": 0, \"Income\": 0, \"Approved\": \"No\"}, {\"Age\": 26.17, \"Debt\": 2.0, \"CreditScore\": 0, \"Income\": 1, \"Approved\": \"No\"}, {\"Age\": 28.46, \"Debt\": 3.5, \"CreditScore\": 0, \"Income\": 0, \"Approved\": \"No\"}, {\"Age\": 21.42, \"Debt\": 0.75, \"CreditScore\": 0, \"Income\": 2, \"Approved\": \"No\"}, {\"Age\": 18.25, \"Debt\": 10.0, \"CreditScore\": 1, \"Income\": 1, \"Approved\": \"No\"}, {\"Age\": 22.08, \"Debt\": 11.46, \"CreditScore\": 0, \"Income\": 1212, \"Approved\": \"No\"}, {\"Age\": 20.42, \"Debt\": 0.0, \"CreditScore\": 0, \"Income\": 0, \"Approved\": \"No\"}, {\"Age\": 34.92, \"Debt\": 2.5, \"CreditScore\": 0, \"Income\": 200, \"Approved\": \"Yes\"}, {\"Age\": 24.58, \"Debt\": 13.5, \"CreditScore\": 0, \"Income\": 0, \"Approved\": \"No\"}, {\"Age\": 49.83, \"Debt\": 13.585, \"CreditScore\": 0, \"Income\": 0, \"Approved\": \"Yes\"}, {\"Age\": 24.17, \"Debt\": 0.875, \"CreditScore\": 2, \"Income\": 2000, \"Approved\": \"Yes\"}, {\"Age\": 23.58, \"Debt\": 0.46, \"CreditScore\": 6, \"Income\": 347, \"Approved\": \"No\"}, {\"Age\": 23.33, \"Debt\": 1.5, \"CreditScore\": 0, \"Income\": 200, \"Approved\": \"Yes\"}, {\"Age\": 39.08, \"Debt\": 6.0, \"CreditScore\": 5, \"Income\": 1097, \"Approved\": \"Yes\"}, {\"Age\": 36.08, \"Debt\": 2.54, \"CreditScore\": 0, \"Income\": 1000, \"Approved\": \"No\"}, {\"Age\": 32.25, \"Debt\": 1.5, \"CreditScore\": 0, \"Income\": 122, \"Approved\": \"No\"}, {\"Age\": 25.0, \"Debt\": 12.0, \"CreditScore\": 2, \"Income\": 5, \"Approved\": \"No\"}, {\"Age\": 36.17, \"Debt\": 0.42, \"CreditScore\": 0, \"Income\": 2, \"Approved\": \"No\"}, {\"Age\": 32.33, \"Debt\": 3.5, \"CreditScore\": 0, \"Income\": 0, \"Approved\": \"No\"}, {\"Age\": 39.17, \"Debt\": 1.625, \"CreditScore\": 10, \"Income\": 4700, \"Approved\": \"Yes\"}, {\"Age\": 26.17, \"Debt\": 0.835, \"CreditScore\": 0, \"Income\": 0, \"Approved\": \"No\"}, {\"Age\": 49.5, \"Debt\": 7.585, \"CreditScore\": 15, \"Income\": 5000, \"Approved\": \"Yes\"}, {\"Age\": 52.83, \"Debt\": 15.0, \"CreditScore\": 14, \"Income\": 2200, \"Approved\": \"Yes\"}, {\"Age\": 20.17, \"Debt\": 5.625, \"CreditScore\": 0, \"Income\": 0, \"Approved\": \"Yes\"}, {\"Age\": 26.25, \"Debt\": 1.54, \"CreditScore\": 0, \"Income\": 0, \"Approved\": \"No\"}, {\"Age\": 53.92, \"Debt\": 9.625, \"CreditScore\": 5, \"Income\": 0, \"Approved\": \"Yes\"}, {\"Age\": 38.17, \"Debt\": 10.125, \"CreditScore\": 6, \"Income\": 196, \"Approved\": \"Yes\"}, {\"Age\": 20.67, \"Debt\": 1.835, \"CreditScore\": 5, \"Income\": 2503, \"Approved\": \"Yes\"}, {\"Age\": 27.25, \"Debt\": 0.625, \"CreditScore\": 0, \"Income\": 0, \"Approved\": \"No\"}, {\"Age\": 22.75, \"Debt\": 11.0, \"CreditScore\": 7, \"Income\": 809, \"Approved\": \"Yes\"}, {\"Age\": 31.67, \"Debt\": 0.83, \"CreditScore\": 8, \"Income\": 3290, \"Approved\": \"Yes\"}, {\"Age\": 22.33, \"Debt\": 11.0, \"CreditScore\": 1, \"Income\": 278, \"Approved\": \"Yes\"}, {\"Age\": 47.67, \"Debt\": 2.5, \"CreditScore\": 12, \"Income\": 2510, \"Approved\": \"Yes\"}, {\"Age\": 37.33, \"Debt\": 6.5, \"CreditScore\": 12, \"Income\": 0, \"Approved\": \"Yes\"}, {\"Age\": 42.83, \"Debt\": 4.625, \"CreditScore\": 0, \"Income\": 0, \"Approved\": \"Yes\"}, {\"Age\": 20.5, \"Debt\": 10.0, \"CreditScore\": 0, \"Income\": 0, \"Approved\": \"Yes\"}, {\"Age\": 49.58, \"Debt\": 19.0, \"CreditScore\": 1, \"Income\": 0, \"Approved\": \"No\"}, {\"Age\": 52.5, \"Debt\": 6.5, \"CreditScore\": 15, \"Income\": 11202, \"Approved\": \"Yes\"}, {\"Age\": 21.0, \"Debt\": 3.0, \"CreditScore\": 8, \"Income\": 1, \"Approved\": \"Yes\"}, {\"Age\": 19.17, \"Debt\": 0.0, \"CreditScore\": 0, \"Income\": 1, \"Approved\": \"Yes\"}, {\"Age\": 27.42, \"Debt\": 14.5, \"CreditScore\": 1, \"Income\": 11, \"Approved\": \"Yes\"}, {\"Age\": 29.5, \"Debt\": 0.46, \"CreditScore\": 4, \"Income\": 500, \"Approved\": \"Yes\"}, {\"Age\": 36.5, \"Debt\": 4.25, \"CreditScore\": 0, \"Income\": 50, \"Approved\": \"No\"}, {\"Age\": 19.67, \"Debt\": 0.21, \"CreditScore\": 11, \"Income\": 99, \"Approved\": \"Yes\"}, {\"Age\": 25.33, \"Debt\": 0.58, \"CreditScore\": 7, \"Income\": 5124, \"Approved\": \"Yes\"}, {\"Age\": 31.67, \"Debt\": 16.165, \"CreditScore\": 9, \"Income\": 730, \"Approved\": \"Yes\"}, {\"Age\": 40.92, \"Debt\": 2.25, \"CreditScore\": 0, \"Income\": 0, \"Approved\": \"No\"}, {\"Age\": 56.83, \"Debt\": 4.25, \"CreditScore\": 0, \"Income\": 4, \"Approved\": \"No\"}, {\"Age\": 34.83, \"Debt\": 1.25, \"CreditScore\": 0, \"Income\": 0, \"Approved\": \"No\"}, {\"Age\": 51.83, \"Debt\": 2.04, \"CreditScore\": 0, \"Income\": 1, \"Approved\": \"No\"}, {\"Age\": 43.25, \"Debt\": 25.21, \"CreditScore\": 1, \"Income\": 90, \"Approved\": \"No\"}, {\"Age\": 56.42, \"Debt\": 28.0, \"CreditScore\": 40, \"Income\": 15, \"Approved\": \"Yes\"}, {\"Age\": 17.92, \"Debt\": 0.54, \"CreditScore\": 1, \"Income\": 5, \"Approved\": \"No\"}, {\"Age\": 23.5, \"Debt\": 2.75, \"CreditScore\": 0, \"Income\": 25, \"Approved\": \"No\"}, {\"Age\": 49.0, \"Debt\": 1.5, \"CreditScore\": 0, \"Income\": 27, \"Approved\": \"No\"}, {\"Age\": 69.5, \"Debt\": 6.0, \"CreditScore\": 0, \"Income\": 0, \"Approved\": \"No\"}, {\"Age\": 33.5, \"Debt\": 1.75, \"CreditScore\": 4, \"Income\": 857, \"Approved\": \"Yes\"}, {\"Age\": 34.25, \"Debt\": 1.75, \"CreditScore\": 0, \"Income\": 0, \"Approved\": \"No\"}, {\"Age\": 33.67, \"Debt\": 1.25, \"CreditScore\": 0, \"Income\": 0, \"Approved\": \"No\"}, {\"Age\": 36.67, \"Debt\": 3.25, \"CreditScore\": 0, \"Income\": 639, \"Approved\": \"Yes\"}, {\"Age\": 33.58, \"Debt\": 2.75, \"CreditScore\": 6, \"Income\": 0, \"Approved\": \"Yes\"}, {\"Age\": 22.92, \"Debt\": 0.17, \"CreditScore\": 0, \"Income\": 0, \"Approved\": \"No\"}, {\"Age\": 29.42, \"Debt\": 1.25, \"CreditScore\": 0, \"Income\": 0, \"Approved\": \"No\"}, {\"Age\": 50.08, \"Debt\": 12.54, \"CreditScore\": 3, \"Income\": 0, \"Approved\": \"Yes\"}, {\"Age\": 31.08, \"Debt\": 3.085, \"CreditScore\": 2, \"Income\": 41, \"Approved\": \"No\"}, {\"Age\": 32.33, \"Debt\": 0.54, \"CreditScore\": 0, \"Income\": 11177, \"Approved\": \"Yes\"}, {\"Age\": 23.25, \"Debt\": 4.0, \"CreditScore\": 0, \"Income\": 0, \"Approved\": \"Yes\"}, {\"Age\": 17.33, \"Debt\": 9.5, \"CreditScore\": 10, \"Income\": 10, \"Approved\": \"No\"}, {\"Age\": 52.42, \"Debt\": 1.5, \"CreditScore\": 0, \"Income\": 350, \"Approved\": \"No\"}, {\"Age\": 22.92, \"Debt\": 11.585, \"CreditScore\": 0, \"Income\": 1349, \"Approved\": \"Yes\"}, {\"Age\": 32.25, \"Debt\": 0.165, \"CreditScore\": 1, \"Income\": 8000, \"Approved\": \"Yes\"}, {\"Age\": 25.42, \"Debt\": 1.125, \"CreditScore\": 2, \"Income\": 0, \"Approved\": \"No\"}, {\"Age\": 27.58, \"Debt\": 3.25, \"CreditScore\": 2, \"Income\": 1, \"Approved\": \"No\"}, {\"Age\": 16.0, \"Debt\": 0.165, \"CreditScore\": 2, \"Income\": 1, \"Approved\": \"No\"}, {\"Age\": 28.58, \"Debt\": 1.665, \"CreditScore\": 0, \"Income\": 0, \"Approved\": \"No\"}, {\"Age\": 23.08, \"Debt\": 11.5, \"CreditScore\": 11, \"Income\": 284, \"Approved\": \"Yes\"}, {\"Age\": 33.17, \"Debt\": 3.04, \"CreditScore\": 1, \"Income\": 18027, \"Approved\": \"Yes\"}, {\"Age\": 39.92, \"Debt\": 0.54, \"CreditScore\": 3, \"Income\": 1000, \"Approved\": \"Yes\"}, {\"Age\": 31.33, \"Debt\": 19.5, \"CreditScore\": 16, \"Income\": 5000, \"Approved\": \"Yes\"}, {\"Age\": 41.0, \"Debt\": 0.04, \"CreditScore\": 1, \"Income\": 0, \"Approved\": \"Yes\"}, {\"Age\": 32.25, \"Debt\": 14.0, \"CreditScore\": 2, \"Income\": 1, \"Approved\": \"No\"}, {\"Age\": 21.58, \"Debt\": 0.79, \"CreditScore\": 0, \"Income\": 0, \"Approved\": \"No\"}, {\"Age\": 38.67, \"Debt\": 0.21, \"CreditScore\": 0, \"Income\": 0, \"Approved\": \"Yes\"}, {\"Age\": 23.08, \"Debt\": 2.5, \"CreditScore\": 11, \"Income\": 2184, \"Approved\": \"Yes\"}, {\"Age\": 20.42, \"Debt\": 7.5, \"CreditScore\": 1, \"Income\": 234, \"Approved\": \"Yes\"}, {\"Age\": 33.75, \"Debt\": 2.75, \"CreditScore\": 0, \"Income\": 0, \"Approved\": \"No\"}, {\"Age\": 22.17, \"Debt\": 2.25, \"CreditScore\": 0, \"Income\": 10, \"Approved\": \"No\"}, {\"Age\": 35.75, \"Debt\": 2.415, \"CreditScore\": 2, \"Income\": 1, \"Approved\": \"No\"}, {\"Age\": 20.83, \"Debt\": 8.5, \"CreditScore\": 0, \"Income\": 351, \"Approved\": \"No\"}, {\"Age\": 57.08, \"Debt\": 19.5, \"CreditScore\": 7, \"Income\": 3000, \"Approved\": \"Yes\"}, {\"Age\": 18.92, \"Debt\": 9.25, \"CreditScore\": 4, \"Income\": 500, \"Approved\": \"Yes\"}, {\"Age\": 16.25, \"Debt\": 0.835, \"CreditScore\": 0, \"Income\": 0, \"Approved\": \"No\"}, {\"Age\": 43.17, \"Debt\": 2.25, \"CreditScore\": 0, \"Income\": 0, \"Approved\": \"No\"}, {\"Age\": 28.17, \"Debt\": 0.375, \"CreditScore\": 4, \"Income\": 0, \"Approved\": \"Yes\"}, {\"Age\": 30.0, \"Debt\": 5.29, \"CreditScore\": 5, \"Income\": 500, \"Approved\": \"Yes\"}, {\"Age\": 19.67, \"Debt\": 0.375, \"CreditScore\": 2, \"Income\": 0, \"Approved\": \"Yes\"}, {\"Age\": 22.08, \"Debt\": 0.83, \"CreditScore\": 0, \"Income\": 0, \"Approved\": \"Yes\"}, {\"Age\": 28.58, \"Debt\": 3.75, \"CreditScore\": 1, \"Income\": 154, \"Approved\": \"No\"}, {\"Age\": 57.42, \"Debt\": 8.5, \"CreditScore\": 3, \"Income\": 0, \"Approved\": \"Yes\"}, {\"Age\": 41.42, \"Debt\": 5.0, \"CreditScore\": 6, \"Income\": 0, \"Approved\": \"Yes\"}, {\"Age\": 28.67, \"Debt\": 9.335, \"CreditScore\": 6, \"Income\": 168, \"Approved\": \"Yes\"}, {\"Age\": 24.75, \"Debt\": 0.54, \"CreditScore\": 0, \"Income\": 1, \"Approved\": \"No\"}, {\"Age\": 23.5, \"Debt\": 9.0, \"CreditScore\": 5, \"Income\": 0, \"Approved\": \"Yes\"}, {\"Age\": 35.17, \"Debt\": 25.125, \"CreditScore\": 1, \"Income\": 500, \"Approved\": \"Yes\"}, {\"Age\": 34.5, \"Debt\": 4.04, \"CreditScore\": 7, \"Income\": 0, \"Approved\": \"Yes\"}, {\"Age\": 16.08, \"Debt\": 0.75, \"CreditScore\": 5, \"Income\": 690, \"Approved\": \"Yes\"}, {\"Age\": 24.58, \"Debt\": 12.5, \"CreditScore\": 0, \"Income\": 0, \"Approved\": \"No\"}, {\"Age\": 29.5, \"Debt\": 1.085, \"CreditScore\": 0, \"Income\": 13, \"Approved\": \"No\"}, {\"Age\": 16.33, \"Debt\": 0.21, \"CreditScore\": 0, \"Income\": 1, \"Approved\": \"No\"}, {\"Age\": 21.83, \"Debt\": 1.54, \"CreditScore\": 0, \"Income\": 0, \"Approved\": \"No\"}, {\"Age\": 64.08, \"Debt\": 0.165, \"CreditScore\": 1, \"Income\": 100, \"Approved\": \"Yes\"}, {\"Age\": 42.75, \"Debt\": 4.085, \"CreditScore\": 0, \"Income\": 100, \"Approved\": \"No\"}, {\"Age\": 29.58, \"Debt\": 1.75, \"CreditScore\": 0, \"Income\": 0, \"Approved\": \"No\"}, {\"Age\": 24.75, \"Debt\": 3.0, \"CreditScore\": 19, \"Income\": 500, \"Approved\": \"Yes\"}, {\"Age\": 39.58, \"Debt\": 5.0, \"CreditScore\": 2, \"Income\": 1, \"Approved\": \"No\"}, {\"Age\": 23.92, \"Debt\": 0.585, \"CreditScore\": 0, \"Income\": 1, \"Approved\": \"No\"}, {\"Age\": 19.58, \"Debt\": 0.665, \"CreditScore\": 1, \"Income\": 2, \"Approved\": \"No\"}, {\"Age\": 40.58, \"Debt\": 5.0, \"CreditScore\": 7, \"Income\": 3065, \"Approved\": \"Yes\"}, {\"Age\": 30.58, \"Debt\": 2.71, \"CreditScore\": 0, \"Income\": 0, \"Approved\": \"No\"}, {\"Age\": 25.67, \"Debt\": 0.29, \"CreditScore\": 0, \"Income\": 0, \"Approved\": \"No\"}, {\"Age\": 28.46, \"Debt\": 5.0, \"CreditScore\": 0, \"Income\": 0, \"Approved\": \"No\"}, {\"Age\": 31.25, \"Debt\": 2.835, \"CreditScore\": 5, \"Income\": 146, \"Approved\": \"No\"}, {\"Age\": 37.33, \"Debt\": 2.5, \"CreditScore\": 0, \"Income\": 246, \"Approved\": \"No\"}, {\"Age\": 28.25, \"Debt\": 5.125, \"CreditScore\": 2, \"Income\": 7, \"Approved\": \"Yes\"}, {\"Age\": 26.75, \"Debt\": 2.0, \"CreditScore\": 0, \"Income\": 0, \"Approved\": \"No\"}, {\"Age\": 18.42, \"Debt\": 10.415, \"CreditScore\": 0, \"Income\": 375, \"Approved\": \"No\"}, {\"Age\": 67.75, \"Debt\": 5.5, \"CreditScore\": 1, \"Income\": 0, \"Approved\": \"Yes\"}, {\"Age\": 18.83, \"Debt\": 0.0, \"CreditScore\": 0, \"Income\": 1, \"Approved\": \"No\"}, {\"Age\": 48.17, \"Debt\": 7.625, \"CreditScore\": 12, \"Income\": 790, \"Approved\": \"Yes\"}, {\"Age\": 48.17, \"Debt\": 3.5, \"CreditScore\": 0, \"Income\": 0, \"Approved\": \"Yes\"}, {\"Age\": 65.17, \"Debt\": 14.0, \"CreditScore\": 11, \"Income\": 1400, \"Approved\": \"Yes\"}, {\"Age\": 40.58, \"Debt\": 3.29, \"CreditScore\": 0, \"Income\": 0, \"Approved\": \"No\"}, {\"Age\": 22.0, \"Debt\": 0.79, \"CreditScore\": 1, \"Income\": 283, \"Approved\": \"No\"}, {\"Age\": 23.5, \"Debt\": 3.165, \"CreditScore\": 1, \"Income\": 80, \"Approved\": \"No\"}, {\"Age\": 21.08, \"Debt\": 4.125, \"CreditScore\": 0, \"Income\": 100, \"Approved\": \"No\"}, {\"Age\": 23.08, \"Debt\": 0.0, \"CreditScore\": 11, \"Income\": 0, \"Approved\": \"No\"}, {\"Age\": 51.42, \"Debt\": 0.04, \"CreditScore\": 0, \"Income\": 3000, \"Approved\": \"Yes\"}, {\"Age\": 20.0, \"Debt\": 0.0, \"CreditScore\": 0, \"Income\": 0, \"Approved\": \"No\"}, {\"Age\": 49.17, \"Debt\": 2.29, \"CreditScore\": 0, \"Income\": 3, \"Approved\": \"No\"}, {\"Age\": 23.58, \"Debt\": 0.83, \"CreditScore\": 1, \"Income\": 11, \"Approved\": \"No\"}, {\"Age\": 20.17, \"Debt\": 9.25, \"CreditScore\": 3, \"Income\": 28, \"Approved\": \"Yes\"}, {\"Age\": 47.25, \"Debt\": 0.75, \"CreditScore\": 1, \"Income\": 892, \"Approved\": \"Yes\"}, {\"Age\": 24.5, \"Debt\": 2.415, \"CreditScore\": 0, \"Income\": 0, \"Approved\": \"No\"}, {\"Age\": 34.08, \"Debt\": 6.5, \"CreditScore\": 0, \"Income\": 0, \"Approved\": \"No\"}, {\"Age\": 34.75, \"Debt\": 15.0, \"CreditScore\": 9, \"Income\": 134, \"Approved\": \"Yes\"}, {\"Age\": 20.08, \"Debt\": 0.125, \"CreditScore\": 1, \"Income\": 768, \"Approved\": \"Yes\"}, {\"Age\": 23.42, \"Debt\": 0.585, \"CreditScore\": 0, \"Income\": 0, \"Approved\": \"No\"}, {\"Age\": 34.17, \"Debt\": 1.54, \"CreditScore\": 1, \"Income\": 50000, \"Approved\": \"Yes\"}, {\"Age\": 25.58, \"Debt\": 0.335, \"CreditScore\": 0, \"Income\": 0, \"Approved\": \"No\"}, {\"Age\": 71.58, \"Debt\": 0.0, \"CreditScore\": 0, \"Income\": 0, \"Approved\": \"Yes\"}, {\"Age\": 54.42, \"Debt\": 0.5, \"CreditScore\": 0, \"Income\": 314, \"Approved\": \"Yes\"}, {\"Age\": 19.17, \"Debt\": 0.585, \"CreditScore\": 0, \"Income\": 0, \"Approved\": \"No\"}, {\"Age\": 27.0, \"Debt\": 0.75, \"CreditScore\": 3, \"Income\": 150, \"Approved\": \"Yes\"}, {\"Age\": 35.17, \"Debt\": 4.5, \"CreditScore\": 0, \"Income\": 0, \"Approved\": \"Yes\"}, {\"Age\": 17.42, \"Debt\": 6.5, \"CreditScore\": 0, \"Income\": 100, \"Approved\": \"No\"}, {\"Age\": 33.67, \"Debt\": 2.165, \"CreditScore\": 0, \"Income\": 0, \"Approved\": \"No\"}, {\"Age\": 20.67, \"Debt\": 0.835, \"CreditScore\": 0, \"Income\": 0, \"Approved\": \"No\"}, {\"Age\": 16.92, \"Debt\": 0.5, \"CreditScore\": 6, \"Income\": 35, \"Approved\": \"No\"}, {\"Age\": 25.0, \"Debt\": 0.875, \"CreditScore\": 0, \"Income\": 5860, \"Approved\": \"Yes\"}, {\"Age\": 29.83, \"Debt\": 3.5, \"CreditScore\": 0, \"Income\": 0, \"Approved\": \"No\"}, {\"Age\": 36.75, \"Debt\": 0.125, \"CreditScore\": 0, \"Income\": 113, \"Approved\": \"Yes\"}, {\"Age\": 24.42, \"Debt\": 2.0, \"CreditScore\": 2, \"Income\": 1300, \"Approved\": \"No\"}, {\"Age\": 22.67, \"Debt\": 0.79, \"CreditScore\": 0, \"Income\": 0, \"Approved\": \"No\"}, {\"Age\": 56.5, \"Debt\": 16.0, \"CreditScore\": 15, \"Income\": 247, \"Approved\": \"Yes\"}, {\"Age\": 34.0, \"Debt\": 4.5, \"CreditScore\": 0, \"Income\": 0, \"Approved\": \"No\"}, {\"Age\": 48.58, \"Debt\": 0.205, \"CreditScore\": 11, \"Income\": 2732, \"Approved\": \"Yes\"}, {\"Age\": 18.08, \"Debt\": 0.375, \"CreditScore\": 0, \"Income\": 0, \"Approved\": \"Yes\"}, {\"Age\": 56.75, \"Debt\": 12.25, \"CreditScore\": 4, \"Income\": 0, \"Approved\": \"Yes\"}, {\"Age\": 28.17, \"Debt\": 0.125, \"CreditScore\": 0, \"Income\": 2100, \"Approved\": \"No\"}, {\"Age\": 34.0, \"Debt\": 5.5, \"CreditScore\": 0, \"Income\": 0, \"Approved\": \"No\"}, {\"Age\": 26.58, \"Debt\": 2.54, \"CreditScore\": 0, \"Income\": 60, \"Approved\": \"No\"}, {\"Age\": 25.25, \"Debt\": 1.0, \"CreditScore\": 0, \"Income\": 0, \"Approved\": \"No\"}, {\"Age\": 18.25, \"Debt\": 0.165, \"CreditScore\": 0, \"Income\": 0, \"Approved\": \"No\"}, {\"Age\": 47.17, \"Debt\": 5.835, \"CreditScore\": 0, \"Income\": 150, \"Approved\": \"No\"}, {\"Age\": 69.17, \"Debt\": 9.0, \"CreditScore\": 1, \"Income\": 6, \"Approved\": \"No\"}, {\"Age\": 23.0, \"Debt\": 0.75, \"CreditScore\": 0, \"Income\": 0, \"Approved\": \"No\"}, {\"Age\": 30.58, \"Debt\": 10.665, \"CreditScore\": 12, \"Income\": 3, \"Approved\": \"No\"}, {\"Age\": 41.0, \"Debt\": 2.04, \"CreditScore\": 23, \"Income\": 1236, \"Approved\": \"Yes\"}, {\"Age\": 28.46, \"Debt\": 0.375, \"CreditScore\": 0, \"Income\": 0, \"Approved\": \"No\"}, {\"Age\": 19.75, \"Debt\": 0.75, \"CreditScore\": 5, \"Income\": 5, \"Approved\": \"No\"}, {\"Age\": 30.25, \"Debt\": 5.5, \"CreditScore\": 0, \"Income\": 0, \"Approved\": \"No\"}, {\"Age\": 28.25, \"Debt\": 0.875, \"CreditScore\": 3, \"Income\": 0, \"Approved\": \"Yes\"}, {\"Age\": 20.5, \"Debt\": 11.835, \"CreditScore\": 0, \"Income\": 0, \"Approved\": \"Yes\"}, {\"Age\": 22.67, \"Debt\": 1.585, \"CreditScore\": 6, \"Income\": 0, \"Approved\": \"Yes\"}, {\"Age\": 21.5, \"Debt\": 11.5, \"CreditScore\": 0, \"Income\": 68, \"Approved\": \"No\"}, {\"Age\": 28.92, \"Debt\": 0.375, \"CreditScore\": 0, \"Income\": 140, \"Approved\": \"No\"}, {\"Age\": 80.25, \"Debt\": 5.5, \"CreditScore\": 0, \"Income\": 340, \"Approved\": \"No\"}, {\"Age\": 27.17, \"Debt\": 1.25, \"CreditScore\": 1, \"Income\": 300, \"Approved\": \"No\"}, {\"Age\": 31.25, \"Debt\": 3.75, \"CreditScore\": 9, \"Income\": 0, \"Approved\": \"Yes\"}, {\"Age\": 27.58, \"Debt\": 2.04, \"CreditScore\": 3, \"Income\": 560, \"Approved\": \"Yes\"}, {\"Age\": 30.42, \"Debt\": 1.375, \"CreditScore\": 3, \"Income\": 33, \"Approved\": \"No\"}, {\"Age\": 45.83, \"Debt\": 10.5, \"CreditScore\": 7, \"Income\": 0, \"Approved\": \"Yes\"}, {\"Age\": 25.67, \"Debt\": 2.21, \"CreditScore\": 0, \"Income\": 0, \"Approved\": \"No\"}, {\"Age\": 17.08, \"Debt\": 0.085, \"CreditScore\": 0, \"Income\": 722, \"Approved\": \"No\"}, {\"Age\": 48.17, \"Debt\": 1.335, \"CreditScore\": 0, \"Income\": 120, \"Approved\": \"No\"}, {\"Age\": 17.58, \"Debt\": 9.0, \"CreditScore\": 0, \"Income\": 0, \"Approved\": \"Yes\"}, {\"Age\": 24.5, \"Debt\": 1.75, \"CreditScore\": 0, \"Income\": 0, \"Approved\": \"No\"}, {\"Age\": 27.83, \"Debt\": 1.54, \"CreditScore\": 5, \"Income\": 3, \"Approved\": \"Yes\"}, {\"Age\": 36.67, \"Debt\": 2.0, \"CreditScore\": 0, \"Income\": 0, \"Approved\": \"No\"}, {\"Age\": 45.33, \"Debt\": 1.0, \"CreditScore\": 0, \"Income\": 0, \"Approved\": \"No\"}, {\"Age\": 19.17, \"Debt\": 4.0, \"CreditScore\": 0, \"Income\": 1000, \"Approved\": \"No\"}, {\"Age\": 26.92, \"Debt\": 13.5, \"CreditScore\": 2, \"Income\": 5000, \"Approved\": \"Yes\"}, {\"Age\": 25.5, \"Debt\": 0.375, \"CreditScore\": 3, \"Income\": 15108, \"Approved\": \"Yes\"}, {\"Age\": 28.46, \"Debt\": 10.5, \"CreditScore\": 0, \"Income\": 0, \"Approved\": \"Yes\"}, {\"Age\": 26.92, \"Debt\": 2.25, \"CreditScore\": 0, \"Income\": 4000, \"Approved\": \"No\"}, {\"Age\": 23.17, \"Debt\": 0.0, \"CreditScore\": 0, \"Income\": 0, \"Approved\": \"Yes\"}, {\"Age\": 24.75, \"Debt\": 13.665, \"CreditScore\": 0, \"Income\": 1, \"Approved\": \"No\"}, {\"Age\": 26.0, \"Debt\": 1.0, \"CreditScore\": 0, \"Income\": 0, \"Approved\": \"Yes\"}, {\"Age\": 20.25, \"Debt\": 9.96, \"CreditScore\": 0, \"Income\": 0, \"Approved\": \"Yes\"}, {\"Age\": 27.58, \"Debt\": 3.0, \"CreditScore\": 1, \"Income\": 10, \"Approved\": \"No\"}, {\"Age\": 25.33, \"Debt\": 2.085, \"CreditScore\": 0, \"Income\": 1, \"Approved\": \"No\"}, {\"Age\": 48.75, \"Debt\": 26.335, \"CreditScore\": 0, \"Income\": 0, \"Approved\": \"No\"}, {\"Age\": 58.58, \"Debt\": 2.71, \"CreditScore\": 0, \"Income\": 0, \"Approved\": \"No\"}, {\"Age\": 35.25, \"Debt\": 3.165, \"CreditScore\": 0, \"Income\": 0, \"Approved\": \"No\"}, {\"Age\": 19.5, \"Debt\": 0.165, \"CreditScore\": 0, \"Income\": 0, \"Approved\": \"No\"}, {\"Age\": 40.0, \"Debt\": 6.5, \"CreditScore\": 1, \"Income\": 500, \"Approved\": \"Yes\"}, {\"Age\": 41.92, \"Debt\": 0.42, \"CreditScore\": 6, \"Income\": 948, \"Approved\": \"Yes\"}, {\"Age\": 28.42, \"Debt\": 3.5, \"CreditScore\": 0, \"Income\": 0, \"Approved\": \"Yes\"}, {\"Age\": 36.75, \"Debt\": 4.71, \"CreditScore\": 0, \"Income\": 0, \"Approved\": \"No\"}, {\"Age\": 18.5, \"Debt\": 2.0, \"CreditScore\": 2, \"Income\": 300, \"Approved\": \"Yes\"}, {\"Age\": 18.17, \"Debt\": 10.25, \"CreditScore\": 0, \"Income\": 13, \"Approved\": \"No\"}, {\"Age\": 15.17, \"Debt\": 7.0, \"CreditScore\": 0, \"Income\": 0, \"Approved\": \"No\"}, {\"Age\": 32.75, \"Debt\": 1.5, \"CreditScore\": 3, \"Income\": 0, \"Approved\": \"Yes\"}, {\"Age\": 26.33, \"Debt\": 13.0, \"CreditScore\": 0, \"Income\": 1110, \"Approved\": \"No\"}, {\"Age\": 17.92, \"Debt\": 0.205, \"CreditScore\": 0, \"Income\": 750, \"Approved\": \"No\"}, {\"Age\": 48.5, \"Debt\": 4.25, \"CreditScore\": 0, \"Income\": 0, \"Approved\": \"Yes\"}, {\"Age\": 15.83, \"Debt\": 7.625, \"CreditScore\": 1, \"Income\": 160, \"Approved\": \"No\"}, {\"Age\": 28.0, \"Debt\": 2.0, \"CreditScore\": 2, \"Income\": 0, \"Approved\": \"Yes\"}, {\"Age\": 24.08, \"Debt\": 9.0, \"CreditScore\": 0, \"Income\": 0, \"Approved\": \"No\"}, {\"Age\": 32.33, \"Debt\": 2.5, \"CreditScore\": 0, \"Income\": 0, \"Approved\": \"No\"}, {\"Age\": 34.67, \"Debt\": 1.08, \"CreditScore\": 0, \"Income\": 0, \"Approved\": \"No\"}, {\"Age\": 23.25, \"Debt\": 1.5, \"CreditScore\": 3, \"Income\": 582, \"Approved\": \"Yes\"}, {\"Age\": 41.17, \"Debt\": 1.25, \"CreditScore\": 0, \"Income\": 195, \"Approved\": \"No\"}, {\"Age\": 38.42, \"Debt\": 0.705, \"CreditScore\": 2, \"Income\": 500, \"Approved\": \"No\"}, {\"Age\": 30.17, \"Debt\": 0.5, \"CreditScore\": 11, \"Income\": 540, \"Approved\": \"Yes\"}, {\"Age\": 17.08, \"Debt\": 3.29, \"CreditScore\": 0, \"Income\": 2, \"Approved\": \"No\"}, {\"Age\": 26.67, \"Debt\": 1.75, \"CreditScore\": 5, \"Income\": 5777, \"Approved\": \"Yes\"}, {\"Age\": 23.0, \"Debt\": 0.75, \"CreditScore\": 0, \"Income\": 0, \"Approved\": \"No\"}, {\"Age\": 25.17, \"Debt\": 3.0, \"CreditScore\": 1, \"Income\": 22, \"Approved\": \"No\"}, {\"Age\": 22.92, \"Debt\": 1.25, \"CreditScore\": 0, \"Income\": 809, \"Approved\": \"No\"}, {\"Age\": 23.08, \"Debt\": 11.5, \"CreditScore\": 9, \"Income\": 742, \"Approved\": \"Yes\"}, {\"Age\": 32.42, \"Debt\": 3.0, \"CreditScore\": 0, \"Income\": 0, \"Approved\": \"No\"}, {\"Age\": 47.67, \"Debt\": 0.29, \"CreditScore\": 20, \"Income\": 15000, \"Approved\": \"Yes\"}, {\"Age\": 43.17, \"Debt\": 5.0, \"CreditScore\": 0, \"Income\": 0, \"Approved\": \"No\"}, {\"Age\": 28.5, \"Debt\": 1.0, \"CreditScore\": 2, \"Income\": 500, \"Approved\": \"No\"}, {\"Age\": 48.58, \"Debt\": 6.5, \"CreditScore\": 0, \"Income\": 0, \"Approved\": \"Yes\"}, {\"Age\": 25.0, \"Debt\": 12.5, \"CreditScore\": 0, \"Income\": 0, \"Approved\": \"Yes\"}, {\"Age\": 28.75, \"Debt\": 3.75, \"CreditScore\": 1, \"Income\": 0, \"Approved\": \"Yes\"}, {\"Age\": 22.83, \"Debt\": 2.29, \"CreditScore\": 7, \"Income\": 2384, \"Approved\": \"Yes\"}, {\"Age\": 46.08, \"Debt\": 3.0, \"CreditScore\": 8, \"Income\": 4159, \"Approved\": \"Yes\"}, {\"Age\": 22.67, \"Debt\": 0.75, \"CreditScore\": 2, \"Income\": 394, \"Approved\": \"No\"}, {\"Age\": 54.58, \"Debt\": 9.415, \"CreditScore\": 11, \"Income\": 300, \"Approved\": \"Yes\"}, {\"Age\": 39.08, \"Debt\": 4.0, \"CreditScore\": 0, \"Income\": 0, \"Approved\": \"No\"}, {\"Age\": 24.5, \"Debt\": 0.5, \"CreditScore\": 0, \"Income\": 824, \"Approved\": \"Yes\"}, {\"Age\": 39.5, \"Debt\": 1.625, \"CreditScore\": 0, \"Income\": 316, \"Approved\": \"No\"}, {\"Age\": 19.42, \"Debt\": 6.5, \"CreditScore\": 7, \"Income\": 2954, \"Approved\": \"Yes\"}, {\"Age\": 35.17, \"Debt\": 2.5, \"CreditScore\": 7, \"Income\": 1270, \"Approved\": \"Yes\"}, {\"Age\": 28.46, \"Debt\": 0.04, \"CreditScore\": 0, \"Income\": 0, \"Approved\": \"No\"}, {\"Age\": 35.0, \"Debt\": 2.5, \"CreditScore\": 0, \"Income\": 0, \"Approved\": \"No\"}, {\"Age\": 23.17, \"Debt\": 11.125, \"CreditScore\": 1, \"Income\": 0, \"Approved\": \"Yes\"}, {\"Age\": 28.0, \"Debt\": 3.0, \"CreditScore\": 0, \"Income\": 67, \"Approved\": \"No\"}, {\"Age\": 17.08, \"Debt\": 0.25, \"CreditScore\": 4, \"Income\": 8, \"Approved\": \"No\"}, {\"Age\": 24.5, \"Debt\": 1.04, \"CreditScore\": 3, \"Income\": 147, \"Approved\": \"No\"}, {\"Age\": 37.75, \"Debt\": 5.5, \"CreditScore\": 0, \"Income\": 0, \"Approved\": \"Yes\"}, {\"Age\": 30.08, \"Debt\": 1.04, \"CreditScore\": 10, \"Income\": 28, \"Approved\": \"No\"}, {\"Age\": 44.25, \"Debt\": 0.5, \"CreditScore\": 0, \"Income\": 0, \"Approved\": \"No\"}, {\"Age\": 31.92, \"Debt\": 4.46, \"CreditScore\": 3, \"Income\": 300, \"Approved\": \"Yes\"}, {\"Age\": 28.58, \"Debt\": 3.625, \"CreditScore\": 0, \"Income\": 0, \"Approved\": \"No\"}, {\"Age\": 33.75, \"Debt\": 0.75, \"CreditScore\": 3, \"Income\": 0, \"Approved\": \"No\"}, {\"Age\": 23.0, \"Debt\": 0.625, \"CreditScore\": 0, \"Income\": 1, \"Approved\": \"No\"}, {\"Age\": 26.67, \"Debt\": 2.71, \"CreditScore\": 1, \"Income\": 0, \"Approved\": \"Yes\"}, {\"Age\": 35.75, \"Debt\": 0.915, \"CreditScore\": 4, \"Income\": 1583, \"Approved\": \"Yes\"}, {\"Age\": 44.17, \"Debt\": 6.665, \"CreditScore\": 3, \"Income\": 0, \"Approved\": \"Yes\"}, {\"Age\": 28.75, \"Debt\": 1.165, \"CreditScore\": 0, \"Income\": 0, \"Approved\": \"No\"}, {\"Age\": 25.75, \"Debt\": 0.75, \"CreditScore\": 0, \"Income\": 23, \"Approved\": \"Yes\"}, {\"Age\": 23.25, \"Debt\": 5.875, \"CreditScore\": 10, \"Income\": 245, \"Approved\": \"Yes\"}, {\"Age\": 22.5, \"Debt\": 11.0, \"CreditScore\": 0, \"Income\": 0, \"Approved\": \"No\"}, {\"Age\": 33.67, \"Debt\": 0.375, \"CreditScore\": 0, \"Income\": 44, \"Approved\": \"Yes\"}, {\"Age\": 24.33, \"Debt\": 2.5, \"CreditScore\": 0, \"Income\": 456, \"Approved\": \"No\"}, {\"Age\": 42.83, \"Debt\": 1.25, \"CreditScore\": 1, \"Income\": 112, \"Approved\": \"No\"}, {\"Age\": 13.75, \"Debt\": 4.0, \"CreditScore\": 2, \"Income\": 1000, \"Approved\": \"Yes\"}]}}, {\"mode\": \"vega-lite\"});\n",
       "</script>"
      ],
      "text/plain": [
       "alt.Chart(...)"
      ]
     },
     "execution_count": 20,
     "metadata": {},
     "output_type": "execute_result"
    }
   ],
   "source": [
    "approval_count_data = alt.Chart(data_train, title=\"Number of approvals\").mark_bar().encode(\n",
    "    x=\"Approved\",\n",
    "    y=\"count()\",\n",
    "    color=\"Approved\"\n",
    ")\n",
    "approval_count_data"
   ]
  },
  {
   "cell_type": "markdown",
   "id": "b7ea6048",
   "metadata": {},
   "source": [
    "Figure 8. A bar graph that shows the number of approved and not approved applicant for credit card."
   ]
  },
  {
   "cell_type": "markdown",
   "id": "ce435bd9",
   "metadata": {},
   "source": [
    "I found that our model was very good at predicting “No”, but struggled with predicting “Yes” accurately ( a type II error). This may be linked to the fact that our dataset contained more Nos and Yeses, as shown by Figure 8. In future, a focus on reducing type II errors would improve our model. "
   ]
  },
  {
   "cell_type": "markdown",
   "id": "e40e7e22",
   "metadata": {},
   "source": [
    "Next, I created a preprocessor using the make_column-transformer. Within this function, we used StandardScaler() on our quantitative predictors: “age,” “debt,” income,” and “credit score” to make sure our predictors had a similar scale and, thus, could not unjustly influence our classification model. I used remainder = “passthrough” to allow our “approved” data to remain in the preprocessor unscaled. We used the make_pipeline() function on our preprocessor and knn, which was fit with x equal to all columns except approved and y equal to the approved column from our data, naming the result knn_fit.  The x and y just specify our predictor values (x) and what our predicted value (y) will be for this model. "
   ]
  },
  {
   "cell_type": "code",
   "execution_count": 21,
   "id": "6f7df912-fdb1-4693-92e8-e85ffef8105b",
   "metadata": {
    "tags": []
   },
   "outputs": [
    {
     "data": {
      "text/html": [
       "<div>\n",
       "<style scoped>\n",
       "    .dataframe tbody tr th:only-of-type {\n",
       "        vertical-align: middle;\n",
       "    }\n",
       "\n",
       "    .dataframe tbody tr th {\n",
       "        vertical-align: top;\n",
       "    }\n",
       "\n",
       "    .dataframe thead th {\n",
       "        text-align: right;\n",
       "    }\n",
       "</style>\n",
       "<table border=\"1\" class=\"dataframe\">\n",
       "  <thead>\n",
       "    <tr style=\"text-align: right;\">\n",
       "      <th></th>\n",
       "      <th>fit_time</th>\n",
       "      <th>score_time</th>\n",
       "      <th>test_score</th>\n",
       "    </tr>\n",
       "  </thead>\n",
       "  <tbody>\n",
       "    <tr>\n",
       "      <th>0</th>\n",
       "      <td>0.002305</td>\n",
       "      <td>0.003632</td>\n",
       "      <td>0.836538</td>\n",
       "    </tr>\n",
       "    <tr>\n",
       "      <th>1</th>\n",
       "      <td>0.002209</td>\n",
       "      <td>0.003778</td>\n",
       "      <td>0.701923</td>\n",
       "    </tr>\n",
       "    <tr>\n",
       "      <th>2</th>\n",
       "      <td>0.002244</td>\n",
       "      <td>0.003481</td>\n",
       "      <td>0.757282</td>\n",
       "    </tr>\n",
       "    <tr>\n",
       "      <th>3</th>\n",
       "      <td>0.002006</td>\n",
       "      <td>0.002959</td>\n",
       "      <td>0.757282</td>\n",
       "    </tr>\n",
       "    <tr>\n",
       "      <th>4</th>\n",
       "      <td>0.001890</td>\n",
       "      <td>0.002967</td>\n",
       "      <td>0.699029</td>\n",
       "    </tr>\n",
       "  </tbody>\n",
       "</table>\n",
       "</div>"
      ],
      "text/plain": [
       "   fit_time  score_time  test_score\n",
       "0  0.002305    0.003632    0.836538\n",
       "1  0.002209    0.003778    0.701923\n",
       "2  0.002244    0.003481    0.757282\n",
       "3  0.002006    0.002959    0.757282\n",
       "4  0.001890    0.002967    0.699029"
      ]
     },
     "execution_count": 21,
     "metadata": {},
     "output_type": "execute_result"
    }
   ],
   "source": [
    "data_pipe = make_pipeline(preprocessor, knn)\n",
    "\n",
    "X=data_train.drop(columns=['Approved'])\n",
    "y=data_train[\"Approved\"]\n",
    "\n",
    "cv_5_df = pd.DataFrame(\n",
    "    cross_validate(\n",
    "        estimator=data_pipe,\n",
    "        cv=5,\n",
    "        X=X,\n",
    "        y=y\n",
    "    )\n",
    ")\n",
    "\n",
    "cv_5_df"
   ]
  },
  {
   "cell_type": "markdown",
   "id": "c12d9483",
   "metadata": {},
   "source": [
    "Table 8. Cross validation of the classifier using cross_validate function."
   ]
  },
  {
   "cell_type": "markdown",
   "id": "1df2c20a",
   "metadata": {},
   "source": [
    "I cross-validated our classifier to estimate the accuracy of the classifier, which had a mean test score of 75 percent and a standard error of 2.5 percent. These values indicate that our classifier is considerably reliable."
   ]
  },
  {
   "cell_type": "code",
   "execution_count": 22,
   "id": "afd6011b-c305-4c52-8754-3e44199ec72c",
   "metadata": {
    "tags": []
   },
   "outputs": [
    {
     "data": {
      "text/html": [
       "<div>\n",
       "<style scoped>\n",
       "    .dataframe tbody tr th:only-of-type {\n",
       "        vertical-align: middle;\n",
       "    }\n",
       "\n",
       "    .dataframe tbody tr th {\n",
       "        vertical-align: top;\n",
       "    }\n",
       "\n",
       "    .dataframe thead th {\n",
       "        text-align: right;\n",
       "    }\n",
       "</style>\n",
       "<table border=\"1\" class=\"dataframe\">\n",
       "  <thead>\n",
       "    <tr style=\"text-align: right;\">\n",
       "      <th></th>\n",
       "      <th>fit_time</th>\n",
       "      <th>score_time</th>\n",
       "      <th>test_score</th>\n",
       "    </tr>\n",
       "  </thead>\n",
       "  <tbody>\n",
       "    <tr>\n",
       "      <th>mean</th>\n",
       "      <td>0.002131</td>\n",
       "      <td>0.003363</td>\n",
       "      <td>0.750411</td>\n",
       "    </tr>\n",
       "    <tr>\n",
       "      <th>sem</th>\n",
       "      <td>0.000078</td>\n",
       "      <td>0.000170</td>\n",
       "      <td>0.025004</td>\n",
       "    </tr>\n",
       "  </tbody>\n",
       "</table>\n",
       "</div>"
      ],
      "text/plain": [
       "      fit_time  score_time  test_score\n",
       "mean  0.002131    0.003363    0.750411\n",
       "sem   0.000078    0.000170    0.025004"
      ]
     },
     "execution_count": 22,
     "metadata": {},
     "output_type": "execute_result"
    }
   ],
   "source": [
    "cv_5_metrics = cv_5_df.agg(['mean', 'sem'])\n",
    "cv_5_metrics"
   ]
  },
  {
   "cell_type": "markdown",
   "id": "b93ee865",
   "metadata": {},
   "source": [
    "Table 9. Mean and standard error values from the cross validation."
   ]
  },
  {
   "cell_type": "code",
   "execution_count": 23,
   "id": "78e16e28-a89e-426f-8c31-014a76f3f3bd",
   "metadata": {
    "tags": []
   },
   "outputs": [
    {
     "data": {
      "text/plain": [
       "{'kneighborsclassifier__n_neighbors': range(1, 100, 4)}"
      ]
     },
     "execution_count": 23,
     "metadata": {},
     "output_type": "execute_result"
    }
   ],
   "source": [
    "knn_best_k = KNeighborsClassifier()\n",
    "parameter_grid = {\n",
    "    \"kneighborsclassifier__n_neighbors\": range(1, 100, 4),\n",
    "}\n",
    "parameter_grid"
   ]
  },
  {
   "cell_type": "code",
   "execution_count": 24,
   "id": "71b18a90-f24f-4cc2-bab3-885eceb5f44d",
   "metadata": {
    "tags": []
   },
   "outputs": [
    {
     "data": {
      "text/html": [
       "<style>#sk-container-id-3 {color: black;}#sk-container-id-3 pre{padding: 0;}#sk-container-id-3 div.sk-toggleable {background-color: white;}#sk-container-id-3 label.sk-toggleable__label {cursor: pointer;display: block;width: 100%;margin-bottom: 0;padding: 0.3em;box-sizing: border-box;text-align: center;}#sk-container-id-3 label.sk-toggleable__label-arrow:before {content: \"▸\";float: left;margin-right: 0.25em;color: #696969;}#sk-container-id-3 label.sk-toggleable__label-arrow:hover:before {color: black;}#sk-container-id-3 div.sk-estimator:hover label.sk-toggleable__label-arrow:before {color: black;}#sk-container-id-3 div.sk-toggleable__content {max-height: 0;max-width: 0;overflow: hidden;text-align: left;background-color: #f0f8ff;}#sk-container-id-3 div.sk-toggleable__content pre {margin: 0.2em;color: black;border-radius: 0.25em;background-color: #f0f8ff;}#sk-container-id-3 input.sk-toggleable__control:checked~div.sk-toggleable__content {max-height: 200px;max-width: 100%;overflow: auto;}#sk-container-id-3 input.sk-toggleable__control:checked~label.sk-toggleable__label-arrow:before {content: \"▾\";}#sk-container-id-3 div.sk-estimator input.sk-toggleable__control:checked~label.sk-toggleable__label {background-color: #d4ebff;}#sk-container-id-3 div.sk-label input.sk-toggleable__control:checked~label.sk-toggleable__label {background-color: #d4ebff;}#sk-container-id-3 input.sk-hidden--visually {border: 0;clip: rect(1px 1px 1px 1px);clip: rect(1px, 1px, 1px, 1px);height: 1px;margin: -1px;overflow: hidden;padding: 0;position: absolute;width: 1px;}#sk-container-id-3 div.sk-estimator {font-family: monospace;background-color: #f0f8ff;border: 1px dotted black;border-radius: 0.25em;box-sizing: border-box;margin-bottom: 0.5em;}#sk-container-id-3 div.sk-estimator:hover {background-color: #d4ebff;}#sk-container-id-3 div.sk-parallel-item::after {content: \"\";width: 100%;border-bottom: 1px solid gray;flex-grow: 1;}#sk-container-id-3 div.sk-label:hover label.sk-toggleable__label {background-color: #d4ebff;}#sk-container-id-3 div.sk-serial::before {content: \"\";position: absolute;border-left: 1px solid gray;box-sizing: border-box;top: 0;bottom: 0;left: 50%;z-index: 0;}#sk-container-id-3 div.sk-serial {display: flex;flex-direction: column;align-items: center;background-color: white;padding-right: 0.2em;padding-left: 0.2em;position: relative;}#sk-container-id-3 div.sk-item {position: relative;z-index: 1;}#sk-container-id-3 div.sk-parallel {display: flex;align-items: stretch;justify-content: center;background-color: white;position: relative;}#sk-container-id-3 div.sk-item::before, #sk-container-id-3 div.sk-parallel-item::before {content: \"\";position: absolute;border-left: 1px solid gray;box-sizing: border-box;top: 0;bottom: 0;left: 50%;z-index: -1;}#sk-container-id-3 div.sk-parallel-item {display: flex;flex-direction: column;z-index: 1;position: relative;background-color: white;}#sk-container-id-3 div.sk-parallel-item:first-child::after {align-self: flex-end;width: 50%;}#sk-container-id-3 div.sk-parallel-item:last-child::after {align-self: flex-start;width: 50%;}#sk-container-id-3 div.sk-parallel-item:only-child::after {width: 0;}#sk-container-id-3 div.sk-dashed-wrapped {border: 1px dashed gray;margin: 0 0.4em 0.5em 0.4em;box-sizing: border-box;padding-bottom: 0.4em;background-color: white;}#sk-container-id-3 div.sk-label label {font-family: monospace;font-weight: bold;display: inline-block;line-height: 1.2em;}#sk-container-id-3 div.sk-label-container {text-align: center;}#sk-container-id-3 div.sk-container {/* jupyter's `normalize.less` sets `[hidden] { display: none; }` but bootstrap.min.css set `[hidden] { display: none !important; }` so we also need the `!important` here to be able to override the default hidden behavior on the sphinx rendered scikit-learn.org. See: https://github.com/scikit-learn/scikit-learn/issues/21755 */display: inline-block !important;position: relative;}#sk-container-id-3 div.sk-text-repr-fallback {display: none;}</style><div id=\"sk-container-id-3\" class=\"sk-top-container\"><div class=\"sk-text-repr-fallback\"><pre>GridSearchCV(cv=5,\n",
       "             estimator=Pipeline(steps=[(&#x27;columntransformer&#x27;,\n",
       "                                        ColumnTransformer(remainder=&#x27;passthrough&#x27;,\n",
       "                                                          transformers=[(&#x27;standardscaler&#x27;,\n",
       "                                                                         StandardScaler(),\n",
       "                                                                         [&#x27;Age&#x27;,\n",
       "                                                                          &#x27;Debt&#x27;,\n",
       "                                                                          &#x27;Income&#x27;,\n",
       "                                                                          &#x27;CreditScore&#x27;])])),\n",
       "                                       (&#x27;kneighborsclassifier&#x27;,\n",
       "                                        KNeighborsClassifier(n_neighbors=15))]),\n",
       "             param_grid={&#x27;kneighborsclassifier__n_neighbors&#x27;: range(1, 100, 4)})</pre><b>In a Jupyter environment, please rerun this cell to show the HTML representation or trust the notebook. <br />On GitHub, the HTML representation is unable to render, please try loading this page with nbviewer.org.</b></div><div class=\"sk-container\" hidden><div class=\"sk-item sk-dashed-wrapped\"><div class=\"sk-label-container\"><div class=\"sk-label sk-toggleable\"><input class=\"sk-toggleable__control sk-hidden--visually\" id=\"sk-estimator-id-13\" type=\"checkbox\" ><label for=\"sk-estimator-id-13\" class=\"sk-toggleable__label sk-toggleable__label-arrow\">GridSearchCV</label><div class=\"sk-toggleable__content\"><pre>GridSearchCV(cv=5,\n",
       "             estimator=Pipeline(steps=[(&#x27;columntransformer&#x27;,\n",
       "                                        ColumnTransformer(remainder=&#x27;passthrough&#x27;,\n",
       "                                                          transformers=[(&#x27;standardscaler&#x27;,\n",
       "                                                                         StandardScaler(),\n",
       "                                                                         [&#x27;Age&#x27;,\n",
       "                                                                          &#x27;Debt&#x27;,\n",
       "                                                                          &#x27;Income&#x27;,\n",
       "                                                                          &#x27;CreditScore&#x27;])])),\n",
       "                                       (&#x27;kneighborsclassifier&#x27;,\n",
       "                                        KNeighborsClassifier(n_neighbors=15))]),\n",
       "             param_grid={&#x27;kneighborsclassifier__n_neighbors&#x27;: range(1, 100, 4)})</pre></div></div></div><div class=\"sk-parallel\"><div class=\"sk-parallel-item\"><div class=\"sk-item\"><div class=\"sk-label-container\"><div class=\"sk-label sk-toggleable\"><input class=\"sk-toggleable__control sk-hidden--visually\" id=\"sk-estimator-id-14\" type=\"checkbox\" ><label for=\"sk-estimator-id-14\" class=\"sk-toggleable__label sk-toggleable__label-arrow\">estimator: Pipeline</label><div class=\"sk-toggleable__content\"><pre>Pipeline(steps=[(&#x27;columntransformer&#x27;,\n",
       "                 ColumnTransformer(remainder=&#x27;passthrough&#x27;,\n",
       "                                   transformers=[(&#x27;standardscaler&#x27;,\n",
       "                                                  StandardScaler(),\n",
       "                                                  [&#x27;Age&#x27;, &#x27;Debt&#x27;, &#x27;Income&#x27;,\n",
       "                                                   &#x27;CreditScore&#x27;])])),\n",
       "                (&#x27;kneighborsclassifier&#x27;, KNeighborsClassifier(n_neighbors=15))])</pre></div></div></div><div class=\"sk-serial\"><div class=\"sk-item\"><div class=\"sk-serial\"><div class=\"sk-item sk-dashed-wrapped\"><div class=\"sk-label-container\"><div class=\"sk-label sk-toggleable\"><input class=\"sk-toggleable__control sk-hidden--visually\" id=\"sk-estimator-id-15\" type=\"checkbox\" ><label for=\"sk-estimator-id-15\" class=\"sk-toggleable__label sk-toggleable__label-arrow\">columntransformer: ColumnTransformer</label><div class=\"sk-toggleable__content\"><pre>ColumnTransformer(remainder=&#x27;passthrough&#x27;,\n",
       "                  transformers=[(&#x27;standardscaler&#x27;, StandardScaler(),\n",
       "                                 [&#x27;Age&#x27;, &#x27;Debt&#x27;, &#x27;Income&#x27;, &#x27;CreditScore&#x27;])])</pre></div></div></div><div class=\"sk-parallel\"><div class=\"sk-parallel-item\"><div class=\"sk-item\"><div class=\"sk-label-container\"><div class=\"sk-label sk-toggleable\"><input class=\"sk-toggleable__control sk-hidden--visually\" id=\"sk-estimator-id-16\" type=\"checkbox\" ><label for=\"sk-estimator-id-16\" class=\"sk-toggleable__label sk-toggleable__label-arrow\">standardscaler</label><div class=\"sk-toggleable__content\"><pre>[&#x27;Age&#x27;, &#x27;Debt&#x27;, &#x27;Income&#x27;, &#x27;CreditScore&#x27;]</pre></div></div></div><div class=\"sk-serial\"><div class=\"sk-item\"><div class=\"sk-estimator sk-toggleable\"><input class=\"sk-toggleable__control sk-hidden--visually\" id=\"sk-estimator-id-17\" type=\"checkbox\" ><label for=\"sk-estimator-id-17\" class=\"sk-toggleable__label sk-toggleable__label-arrow\">StandardScaler</label><div class=\"sk-toggleable__content\"><pre>StandardScaler()</pre></div></div></div></div></div></div><div class=\"sk-parallel-item\"><div class=\"sk-item\"><div class=\"sk-label-container\"><div class=\"sk-label sk-toggleable\"><input class=\"sk-toggleable__control sk-hidden--visually\" id=\"sk-estimator-id-18\" type=\"checkbox\" ><label for=\"sk-estimator-id-18\" class=\"sk-toggleable__label sk-toggleable__label-arrow\">remainder</label><div class=\"sk-toggleable__content\"><pre>[]</pre></div></div></div><div class=\"sk-serial\"><div class=\"sk-item\"><div class=\"sk-estimator sk-toggleable\"><input class=\"sk-toggleable__control sk-hidden--visually\" id=\"sk-estimator-id-19\" type=\"checkbox\" ><label for=\"sk-estimator-id-19\" class=\"sk-toggleable__label sk-toggleable__label-arrow\">passthrough</label><div class=\"sk-toggleable__content\"><pre>passthrough</pre></div></div></div></div></div></div></div></div><div class=\"sk-item\"><div class=\"sk-estimator sk-toggleable\"><input class=\"sk-toggleable__control sk-hidden--visually\" id=\"sk-estimator-id-20\" type=\"checkbox\" ><label for=\"sk-estimator-id-20\" class=\"sk-toggleable__label sk-toggleable__label-arrow\">KNeighborsClassifier</label><div class=\"sk-toggleable__content\"><pre>KNeighborsClassifier(n_neighbors=15)</pre></div></div></div></div></div></div></div></div></div></div></div></div>"
      ],
      "text/plain": [
       "GridSearchCV(cv=5,\n",
       "             estimator=Pipeline(steps=[('columntransformer',\n",
       "                                        ColumnTransformer(remainder='passthrough',\n",
       "                                                          transformers=[('standardscaler',\n",
       "                                                                         StandardScaler(),\n",
       "                                                                         ['Age',\n",
       "                                                                          'Debt',\n",
       "                                                                          'Income',\n",
       "                                                                          'CreditScore'])])),\n",
       "                                       ('kneighborsclassifier',\n",
       "                                        KNeighborsClassifier(n_neighbors=15))]),\n",
       "             param_grid={'kneighborsclassifier__n_neighbors': range(1, 100, 4)})"
      ]
     },
     "execution_count": 24,
     "metadata": {},
     "output_type": "execute_result"
    }
   ],
   "source": [
    "data_tune_grid = GridSearchCV(\n",
    "    estimator=data_pipe,\n",
    "    param_grid=parameter_grid,\n",
    "    cv=5\n",
    ")\n",
    "data_tune_grid"
   ]
  },
  {
   "cell_type": "code",
   "execution_count": 25,
   "id": "88514c50-fa58-408e-a13a-12cfd5117e2d",
   "metadata": {
    "tags": []
   },
   "outputs": [
    {
     "data": {
      "text/html": [
       "<div>\n",
       "<style scoped>\n",
       "    .dataframe tbody tr th:only-of-type {\n",
       "        vertical-align: middle;\n",
       "    }\n",
       "\n",
       "    .dataframe tbody tr th {\n",
       "        vertical-align: top;\n",
       "    }\n",
       "\n",
       "    .dataframe thead th {\n",
       "        text-align: right;\n",
       "    }\n",
       "</style>\n",
       "<table border=\"1\" class=\"dataframe\">\n",
       "  <thead>\n",
       "    <tr style=\"text-align: right;\">\n",
       "      <th></th>\n",
       "      <th>n_neighbors</th>\n",
       "      <th>mean_test_score</th>\n",
       "      <th>sem_test_score</th>\n",
       "    </tr>\n",
       "  </thead>\n",
       "  <tbody>\n",
       "    <tr>\n",
       "      <th>0</th>\n",
       "      <td>1</td>\n",
       "      <td>0.680695</td>\n",
       "      <td>0.011028</td>\n",
       "    </tr>\n",
       "    <tr>\n",
       "      <th>1</th>\n",
       "      <td>5</td>\n",
       "      <td>0.719436</td>\n",
       "      <td>0.012293</td>\n",
       "    </tr>\n",
       "    <tr>\n",
       "      <th>2</th>\n",
       "      <td>9</td>\n",
       "      <td>0.736875</td>\n",
       "      <td>0.015468</td>\n",
       "    </tr>\n",
       "    <tr>\n",
       "      <th>3</th>\n",
       "      <td>13</td>\n",
       "      <td>0.744604</td>\n",
       "      <td>0.015378</td>\n",
       "    </tr>\n",
       "    <tr>\n",
       "      <th>4</th>\n",
       "      <td>17</td>\n",
       "      <td>0.742700</td>\n",
       "      <td>0.016288</td>\n",
       "    </tr>\n",
       "    <tr>\n",
       "      <th>5</th>\n",
       "      <td>21</td>\n",
       "      <td>0.748506</td>\n",
       "      <td>0.015391</td>\n",
       "    </tr>\n",
       "    <tr>\n",
       "      <th>6</th>\n",
       "      <td>25</td>\n",
       "      <td>0.752427</td>\n",
       "      <td>0.016217</td>\n",
       "    </tr>\n",
       "    <tr>\n",
       "      <th>7</th>\n",
       "      <td>29</td>\n",
       "      <td>0.746583</td>\n",
       "      <td>0.015437</td>\n",
       "    </tr>\n",
       "    <tr>\n",
       "      <th>8</th>\n",
       "      <td>33</td>\n",
       "      <td>0.746583</td>\n",
       "      <td>0.014710</td>\n",
       "    </tr>\n",
       "    <tr>\n",
       "      <th>9</th>\n",
       "      <td>37</td>\n",
       "      <td>0.750429</td>\n",
       "      <td>0.014847</td>\n",
       "    </tr>\n",
       "    <tr>\n",
       "      <th>10</th>\n",
       "      <td>41</td>\n",
       "      <td>0.744642</td>\n",
       "      <td>0.012120</td>\n",
       "    </tr>\n",
       "    <tr>\n",
       "      <th>11</th>\n",
       "      <td>45</td>\n",
       "      <td>0.744679</td>\n",
       "      <td>0.013758</td>\n",
       "    </tr>\n",
       "    <tr>\n",
       "      <th>12</th>\n",
       "      <td>49</td>\n",
       "      <td>0.738854</td>\n",
       "      <td>0.011184</td>\n",
       "    </tr>\n",
       "    <tr>\n",
       "      <th>13</th>\n",
       "      <td>53</td>\n",
       "      <td>0.742718</td>\n",
       "      <td>0.011131</td>\n",
       "    </tr>\n",
       "    <tr>\n",
       "      <th>14</th>\n",
       "      <td>57</td>\n",
       "      <td>0.733084</td>\n",
       "      <td>0.011175</td>\n",
       "    </tr>\n",
       "    <tr>\n",
       "      <th>15</th>\n",
       "      <td>61</td>\n",
       "      <td>0.738854</td>\n",
       "      <td>0.010646</td>\n",
       "    </tr>\n",
       "    <tr>\n",
       "      <th>16</th>\n",
       "      <td>65</td>\n",
       "      <td>0.740795</td>\n",
       "      <td>0.009800</td>\n",
       "    </tr>\n",
       "    <tr>\n",
       "      <th>17</th>\n",
       "      <td>69</td>\n",
       "      <td>0.734989</td>\n",
       "      <td>0.010578</td>\n",
       "    </tr>\n",
       "    <tr>\n",
       "      <th>18</th>\n",
       "      <td>73</td>\n",
       "      <td>0.734989</td>\n",
       "      <td>0.009839</td>\n",
       "    </tr>\n",
       "    <tr>\n",
       "      <th>19</th>\n",
       "      <td>77</td>\n",
       "      <td>0.721434</td>\n",
       "      <td>0.011250</td>\n",
       "    </tr>\n",
       "    <tr>\n",
       "      <th>20</th>\n",
       "      <td>81</td>\n",
       "      <td>0.723338</td>\n",
       "      <td>0.010688</td>\n",
       "    </tr>\n",
       "    <tr>\n",
       "      <th>21</th>\n",
       "      <td>85</td>\n",
       "      <td>0.713686</td>\n",
       "      <td>0.011465</td>\n",
       "    </tr>\n",
       "    <tr>\n",
       "      <th>22</th>\n",
       "      <td>89</td>\n",
       "      <td>0.717550</td>\n",
       "      <td>0.010235</td>\n",
       "    </tr>\n",
       "    <tr>\n",
       "      <th>23</th>\n",
       "      <td>93</td>\n",
       "      <td>0.717569</td>\n",
       "      <td>0.009230</td>\n",
       "    </tr>\n",
       "    <tr>\n",
       "      <th>24</th>\n",
       "      <td>97</td>\n",
       "      <td>0.711744</td>\n",
       "      <td>0.010971</td>\n",
       "    </tr>\n",
       "  </tbody>\n",
       "</table>\n",
       "</div>"
      ],
      "text/plain": [
       "   n_neighbors  mean_test_score  sem_test_score\n",
       "0            1         0.680695        0.011028\n",
       "1            5         0.719436        0.012293\n",
       "2            9         0.736875        0.015468\n",
       "3           13         0.744604        0.015378\n",
       "4           17         0.742700        0.016288\n",
       "5           21         0.748506        0.015391\n",
       "6           25         0.752427        0.016217\n",
       "7           29         0.746583        0.015437\n",
       "8           33         0.746583        0.014710\n",
       "9           37         0.750429        0.014847\n",
       "10          41         0.744642        0.012120\n",
       "11          45         0.744679        0.013758\n",
       "12          49         0.738854        0.011184\n",
       "13          53         0.742718        0.011131\n",
       "14          57         0.733084        0.011175\n",
       "15          61         0.738854        0.010646\n",
       "16          65         0.740795        0.009800\n",
       "17          69         0.734989        0.010578\n",
       "18          73         0.734989        0.009839\n",
       "19          77         0.721434        0.011250\n",
       "20          81         0.723338        0.010688\n",
       "21          85         0.713686        0.011465\n",
       "22          89         0.717550        0.010235\n",
       "23          93         0.717569        0.009230\n",
       "24          97         0.711744        0.010971"
      ]
     },
     "execution_count": 25,
     "metadata": {},
     "output_type": "execute_result"
    }
   ],
   "source": [
    "accuracies_grid = pd.DataFrame(\n",
    "    data_tune_grid.fit(\n",
    "        data_train[[\"Age\", \"Debt\",\"Income\",\"CreditScore\"]],\n",
    "        data_train[\"Approved\"]\n",
    "    ).cv_results_\n",
    ")\n",
    "accuracies_grid = (\n",
    "    accuracies_grid[[\n",
    "        \"param_kneighborsclassifier__n_neighbors\",\n",
    "        \"mean_test_score\",\n",
    "        \"std_test_score\"\n",
    "    ]]\n",
    "    .assign(sem_test_score=accuracies_grid[\"std_test_score\"] / 10**(1/2))\n",
    "    .rename(columns={\"param_kneighborsclassifier__n_neighbors\": \"n_neighbors\"})\n",
    "    .drop(columns=[\"std_test_score\"])\n",
    ")\n",
    "accuracies_grid"
   ]
  },
  {
   "cell_type": "markdown",
   "id": "15d5975e",
   "metadata": {},
   "source": [
    "Table 10. Mean and standard error values for each K-values that increases by 4."
   ]
  },
  {
   "cell_type": "markdown",
   "id": "330150cd",
   "metadata": {},
   "source": [
    "I made a table of Mean and standard error values for each K-values that increases by 4 to make a plot of estimated accurcy of a classifier versus different K-values.."
   ]
  },
  {
   "cell_type": "code",
   "execution_count": 26,
   "id": "14853799-e652-4fb3-b995-f6183b404d9a",
   "metadata": {
    "tags": []
   },
   "outputs": [
    {
     "data": {
      "text/html": [
       "\n",
       "<style>\n",
       "  #altair-viz-b6ee180f408349a3924481a5fc8942cf.vega-embed {\n",
       "    width: 100%;\n",
       "    display: flex;\n",
       "  }\n",
       "\n",
       "  #altair-viz-b6ee180f408349a3924481a5fc8942cf.vega-embed details,\n",
       "  #altair-viz-b6ee180f408349a3924481a5fc8942cf.vega-embed details summary {\n",
       "    position: relative;\n",
       "  }\n",
       "</style>\n",
       "<div id=\"altair-viz-b6ee180f408349a3924481a5fc8942cf\"></div>\n",
       "<script type=\"text/javascript\">\n",
       "  var VEGA_DEBUG = (typeof VEGA_DEBUG == \"undefined\") ? {} : VEGA_DEBUG;\n",
       "  (function(spec, embedOpt){\n",
       "    let outputDiv = document.currentScript.previousElementSibling;\n",
       "    if (outputDiv.id !== \"altair-viz-b6ee180f408349a3924481a5fc8942cf\") {\n",
       "      outputDiv = document.getElementById(\"altair-viz-b6ee180f408349a3924481a5fc8942cf\");\n",
       "    }\n",
       "    const paths = {\n",
       "      \"vega\": \"https://cdn.jsdelivr.net/npm/vega@5?noext\",\n",
       "      \"vega-lib\": \"https://cdn.jsdelivr.net/npm/vega-lib?noext\",\n",
       "      \"vega-lite\": \"https://cdn.jsdelivr.net/npm/vega-lite@5.15.1?noext\",\n",
       "      \"vega-embed\": \"https://cdn.jsdelivr.net/npm/vega-embed@6?noext\",\n",
       "    };\n",
       "\n",
       "    function maybeLoadScript(lib, version) {\n",
       "      var key = `${lib.replace(\"-\", \"\")}_version`;\n",
       "      return (VEGA_DEBUG[key] == version) ?\n",
       "        Promise.resolve(paths[lib]) :\n",
       "        new Promise(function(resolve, reject) {\n",
       "          var s = document.createElement('script');\n",
       "          document.getElementsByTagName(\"head\")[0].appendChild(s);\n",
       "          s.async = true;\n",
       "          s.onload = () => {\n",
       "            VEGA_DEBUG[key] = version;\n",
       "            return resolve(paths[lib]);\n",
       "          };\n",
       "          s.onerror = () => reject(`Error loading script: ${paths[lib]}`);\n",
       "          s.src = paths[lib];\n",
       "        });\n",
       "    }\n",
       "\n",
       "    function showError(err) {\n",
       "      outputDiv.innerHTML = `<div class=\"error\" style=\"color:red;\">${err}</div>`;\n",
       "      throw err;\n",
       "    }\n",
       "\n",
       "    function displayChart(vegaEmbed) {\n",
       "      vegaEmbed(outputDiv, spec, embedOpt)\n",
       "        .catch(err => showError(`Javascript Error: ${err.message}<br>This usually means there's a typo in your chart specification. See the javascript console for the full traceback.`));\n",
       "    }\n",
       "\n",
       "    if(typeof define === \"function\" && define.amd) {\n",
       "      requirejs.config({paths});\n",
       "      require([\"vega-embed\"], displayChart, err => showError(`Error loading script: ${err.message}`));\n",
       "    } else {\n",
       "      maybeLoadScript(\"vega\", \"5\")\n",
       "        .then(() => maybeLoadScript(\"vega-lite\", \"5.15.1\"))\n",
       "        .then(() => maybeLoadScript(\"vega-embed\", \"6\"))\n",
       "        .catch(showError)\n",
       "        .then(() => displayChart(vegaEmbed));\n",
       "    }\n",
       "  })({\"config\": {\"view\": {\"continuousWidth\": 300, \"continuousHeight\": 300}}, \"data\": {\"name\": \"data-ad186cbdf35a344601a041ff8d3362e8\"}, \"mark\": {\"type\": \"line\", \"point\": true}, \"encoding\": {\"x\": {\"field\": \"n_neighbors\", \"title\": \"Neighbors\", \"type\": \"quantitative\"}, \"y\": {\"field\": \"mean_test_score\", \"scale\": {\"domain\": [0.65, 0.8]}, \"title\": \"Accuracy estimate\", \"type\": \"quantitative\"}}, \"$schema\": \"https://vega.github.io/schema/vega-lite/v5.15.1.json\", \"datasets\": {\"data-ad186cbdf35a344601a041ff8d3362e8\": [{\"n_neighbors\": 1, \"mean_test_score\": 0.6806945481702764, \"sem_test_score\": 0.011028422653559258}, {\"n_neighbors\": 5, \"mean_test_score\": 0.719436146377894, \"sem_test_score\": 0.012292742176241577}, {\"n_neighbors\": 9, \"mean_test_score\": 0.7368745332337566, \"sem_test_score\": 0.015468445699384627}, {\"n_neighbors\": 13, \"mean_test_score\": 0.7446041822255415, \"sem_test_score\": 0.015377843517838745}, {\"n_neighbors\": 17, \"mean_test_score\": 0.7426997759522032, \"sem_test_score\": 0.016288345884717396}, {\"n_neighbors\": 21, \"mean_test_score\": 0.7485063480209112, \"sem_test_score\": 0.015390901849380583}, {\"n_neighbors\": 25, \"mean_test_score\": 0.7524271844660195, \"sem_test_score\": 0.016216617438841268}, {\"n_neighbors\": 29, \"mean_test_score\": 0.7465832710978343, \"sem_test_score\": 0.015436637575551367}, {\"n_neighbors\": 33, \"mean_test_score\": 0.7465832710978343, \"sem_test_score\": 0.014710168784359831}, {\"n_neighbors\": 37, \"mean_test_score\": 0.7504294249439881, \"sem_test_score\": 0.014847306386956482}, {\"n_neighbors\": 41, \"mean_test_score\": 0.7446415235250188, \"sem_test_score\": 0.012119647845786737}, {\"n_neighbors\": 45, \"mean_test_score\": 0.744678864824496, \"sem_test_score\": 0.013757722624084038}, {\"n_neighbors\": 49, \"mean_test_score\": 0.7388536221060493, \"sem_test_score\": 0.011183884391612865}, {\"n_neighbors\": 53, \"mean_test_score\": 0.7427184466019419, \"sem_test_score\": 0.011130964733144923}, {\"n_neighbors\": 57, \"mean_test_score\": 0.7330843913368186, \"sem_test_score\": 0.011175072493276749}, {\"n_neighbors\": 61, \"mean_test_score\": 0.7388536221060493, \"sem_test_score\": 0.010645899044635577}, {\"n_neighbors\": 65, \"mean_test_score\": 0.740795369678865, \"sem_test_score\": 0.009800003333972886}, {\"n_neighbors\": 69, \"mean_test_score\": 0.7349887976101569, \"sem_test_score\": 0.010577782419227981}, {\"n_neighbors\": 73, \"mean_test_score\": 0.7349887976101569, \"sem_test_score\": 0.009839102924677049}, {\"n_neighbors\": 77, \"mean_test_score\": 0.7214339058999254, \"sem_test_score\": 0.01125008517260675}, {\"n_neighbors\": 81, \"mean_test_score\": 0.7233383121732637, \"sem_test_score\": 0.010688251491408705}, {\"n_neighbors\": 85, \"mean_test_score\": 0.713685586258402, \"sem_test_score\": 0.011464599932165804}, {\"n_neighbors\": 89, \"mean_test_score\": 0.7175504107542944, \"sem_test_score\": 0.010234949789867253}, {\"n_neighbors\": 93, \"mean_test_score\": 0.7175690814040329, \"sem_test_score\": 0.009229791839996625}, {\"n_neighbors\": 97, \"mean_test_score\": 0.7117438386855863, \"sem_test_score\": 0.010970979276978075}]}}, {\"mode\": \"vega-lite\"});\n",
       "</script>"
      ],
      "text/plain": [
       "alt.Chart(...)"
      ]
     },
     "execution_count": 26,
     "metadata": {},
     "output_type": "execute_result"
    }
   ],
   "source": [
    "accuracy_vs_k = alt.Chart(accuracies_grid).mark_line(point=True).encode(\n",
    "    x=alt.X(\"n_neighbors\").title(\"Neighbors\"),\n",
    "    y=alt.Y(\"mean_test_score\")\n",
    "        .scale(domain=(0.65, 0.80))\n",
    "        .title(\"Accuracy estimate\")\n",
    ")\n",
    "\n",
    "accuracy_vs_k"
   ]
  },
  {
   "cell_type": "markdown",
   "id": "8a012b89",
   "metadata": {},
   "source": [
    "Figure 9. The graph shows the accuracy estimates as K-value increases. "
   ]
  },
  {
   "cell_type": "markdown",
   "id": "2450a049",
   "metadata": {},
   "source": [
    "Although the K-value of 25 was the most accurate, as shown onf Figure 9, we decided to keep 15 because it had the best combination of a lower standard error and high accuracy. "
   ]
  },
  {
   "cell_type": "markdown",
   "id": "72ff7457",
   "metadata": {},
   "source": [
    "I then created a dataframe, named new_observation_1, where: age = 33, debt = 6, creditscore = 5, and income = 2039 and aother observation, names new_observation_2, with: age = 29, debt = 4, creditscore = 1, and income = 198. These numbers are based on the mean values I found for these columns earlier. Finally, I use the predict() function with the knn_fit object to predict new_observation. I assign this step to the name prediction and run “prediction” independently to see how our model classified our new observation. "
   ]
  },
  {
   "cell_type": "code",
   "execution_count": 27,
   "id": "5ebb4285-75c7-4f2d-ab07-cdf56c6dd5bb",
   "metadata": {
    "tags": []
   },
   "outputs": [
    {
     "data": {
      "text/plain": [
       "array(['Yes'], dtype=object)"
      ]
     },
     "execution_count": 27,
     "metadata": {},
     "output_type": "execute_result"
    }
   ],
   "source": [
    "# Add 2 new observations based on the data summary means above, 1 where we expect approval, 1 where we don't\n",
    "# Observation 1: Using Approved data means\n",
    "new_observation_1 = pd.DataFrame({\"Age\": [33], \"Debt\": [6], \"CreditScore\": [5], \"Income\":[2039]})\n",
    "\n",
    "# Prediction 1\n",
    "prediction_1 = knn_fit.predict(new_observation_1)\n",
    "prediction_1\n"
   ]
  },
  {
   "cell_type": "code",
   "execution_count": 28,
   "id": "c15af4db-dac6-476d-acb3-4463da0fdabe",
   "metadata": {
    "tags": []
   },
   "outputs": [
    {
     "data": {
      "text/plain": [
       "array(['No'], dtype=object)"
      ]
     },
     "execution_count": 28,
     "metadata": {},
     "output_type": "execute_result"
    }
   ],
   "source": [
    "# Observation 2: Using Not Approved data means\n",
    "new_observation_2 = pd.DataFrame({\"Age\": [29], \"Debt\": [4], \"CreditScore\": [1], \"Income\":[198]})\n",
    "\n",
    "\n",
    "# Prediction 2\n",
    "prediction_2 = knn_fit.predict(new_observation_2)\n",
    "prediction_2"
   ]
  },
  {
   "cell_type": "code",
   "execution_count": 30,
   "id": "a9089f07-b821-44f4-a1ef-f6f17c196e0b",
   "metadata": {
    "tags": []
   },
   "outputs": [
    {
     "data": {
      "text/html": [
       "<div>\n",
       "<style scoped>\n",
       "    .dataframe tbody tr th:only-of-type {\n",
       "        vertical-align: middle;\n",
       "    }\n",
       "\n",
       "    .dataframe tbody tr th {\n",
       "        vertical-align: top;\n",
       "    }\n",
       "\n",
       "    .dataframe thead th {\n",
       "        text-align: right;\n",
       "    }\n",
       "</style>\n",
       "<table border=\"1\" class=\"dataframe\">\n",
       "  <thead>\n",
       "    <tr style=\"text-align: right;\">\n",
       "      <th></th>\n",
       "      <th>Age</th>\n",
       "      <th>Debt</th>\n",
       "      <th>CreditScore</th>\n",
       "      <th>Income</th>\n",
       "    </tr>\n",
       "  </thead>\n",
       "  <tbody>\n",
       "    <tr>\n",
       "      <th>0</th>\n",
       "      <td>33</td>\n",
       "      <td>6</td>\n",
       "      <td>5</td>\n",
       "      <td>2039</td>\n",
       "    </tr>\n",
       "    <tr>\n",
       "      <th>1</th>\n",
       "      <td>29</td>\n",
       "      <td>4</td>\n",
       "      <td>1</td>\n",
       "      <td>198</td>\n",
       "    </tr>\n",
       "  </tbody>\n",
       "</table>\n",
       "</div>"
      ],
      "text/plain": [
       "   Age  Debt  CreditScore  Income\n",
       "0   33     6            5    2039\n",
       "1   29     4            1     198"
      ]
     },
     "execution_count": 30,
     "metadata": {},
     "output_type": "execute_result"
    }
   ],
   "source": [
    "new_obs_1 = pd.DataFrame(new_observation_1)\n",
    "new_obs_2 = pd.DataFrame(new_observation_2)\n",
    "new_obs = pd.concat([new_obs_1, new_obs_2], ignore_index=True)\n",
    "new_obs\n"
   ]
  },
  {
   "cell_type": "markdown",
   "id": "c2323986",
   "metadata": {},
   "source": [
    "Table 11. New observation 1 and 2."
   ]
  },
  {
   "cell_type": "markdown",
   "id": "d0bb70d0",
   "metadata": {},
   "source": [
    "I used the model that I created to make predictions for a few observations I created, new_observation_1 and new_observations_2. In our final visualization, I used our preprocessed data to create scatterplots. I then added black circles using the mark_point() graph, using the & operator to combine this new point with the scatterplots. \n"
   ]
  },
  {
   "cell_type": "code",
   "execution_count": null,
   "id": "ba2cf917-b92d-44d3-8ed1-47286715ed75",
   "metadata": {
    "tags": []
   },
   "outputs": [
    {
     "data": {
      "text/html": [
       "\n",
       "<style>\n",
       "  #altair-viz-ac616a2326df4473a56fe11482447f8e.vega-embed {\n",
       "    width: 100%;\n",
       "    display: flex;\n",
       "  }\n",
       "\n",
       "  #altair-viz-ac616a2326df4473a56fe11482447f8e.vega-embed details,\n",
       "  #altair-viz-ac616a2326df4473a56fe11482447f8e.vega-embed details summary {\n",
       "    position: relative;\n",
       "  }\n",
       "</style>\n",
       "<div id=\"altair-viz-ac616a2326df4473a56fe11482447f8e\"></div>\n",
       "<script type=\"text/javascript\">\n",
       "  var VEGA_DEBUG = (typeof VEGA_DEBUG == \"undefined\") ? {} : VEGA_DEBUG;\n",
       "  (function(spec, embedOpt){\n",
       "    let outputDiv = document.currentScript.previousElementSibling;\n",
       "    if (outputDiv.id !== \"altair-viz-ac616a2326df4473a56fe11482447f8e\") {\n",
       "      outputDiv = document.getElementById(\"altair-viz-ac616a2326df4473a56fe11482447f8e\");\n",
       "    }\n",
       "    const paths = {\n",
       "      \"vega\": \"https://cdn.jsdelivr.net/npm/vega@5?noext\",\n",
       "      \"vega-lib\": \"https://cdn.jsdelivr.net/npm/vega-lib?noext\",\n",
       "      \"vega-lite\": \"https://cdn.jsdelivr.net/npm/vega-lite@5.15.1?noext\",\n",
       "      \"vega-embed\": \"https://cdn.jsdelivr.net/npm/vega-embed@6?noext\",\n",
       "    };\n",
       "\n",
       "    function maybeLoadScript(lib, version) {\n",
       "      var key = `${lib.replace(\"-\", \"\")}_version`;\n",
       "      return (VEGA_DEBUG[key] == version) ?\n",
       "        Promise.resolve(paths[lib]) :\n",
       "        new Promise(function(resolve, reject) {\n",
       "          var s = document.createElement('script');\n",
       "          document.getElementsByTagName(\"head\")[0].appendChild(s);\n",
       "          s.async = true;\n",
       "          s.onload = () => {\n",
       "            VEGA_DEBUG[key] = version;\n",
       "            return resolve(paths[lib]);\n",
       "          };\n",
       "          s.onerror = () => reject(`Error loading script: ${paths[lib]}`);\n",
       "          s.src = paths[lib];\n",
       "        });\n",
       "    }\n",
       "\n",
       "    function showError(err) {\n",
       "      outputDiv.innerHTML = `<div class=\"error\" style=\"color:red;\">${err}</div>`;\n",
       "      throw err;\n",
       "    }\n",
       "\n",
       "    function displayChart(vegaEmbed) {\n",
       "      vegaEmbed(outputDiv, spec, embedOpt)\n",
       "        .catch(err => showError(`Javascript Error: ${err.message}<br>This usually means there's a typo in your chart specification. See the javascript console for the full traceback.`));\n",
       "    }\n",
       "\n",
       "    if(typeof define === \"function\" && define.amd) {\n",
       "      requirejs.config({paths});\n",
       "      require([\"vega-embed\"], displayChart, err => showError(`Error loading script: ${err.message}`));\n",
       "    } else {\n",
       "      maybeLoadScript(\"vega\", \"5\")\n",
       "        .then(() => maybeLoadScript(\"vega-lite\", \"5.15.1\"))\n",
       "        .then(() => maybeLoadScript(\"vega-embed\", \"6\"))\n",
       "        .catch(showError)\n",
       "        .then(() => displayChart(vegaEmbed));\n",
       "    }\n",
       "  })({\"config\": {\"view\": {\"continuousWidth\": 300, \"continuousHeight\": 300}}, \"vconcat\": [{\"layer\": [{\"data\": {\"name\": \"data-9b2ed57830432ad344c2b937c9697da2\"}, \"mark\": {\"type\": \"point\"}, \"encoding\": {\"color\": {\"field\": \"Approved\", \"type\": \"nominal\"}, \"x\": {\"field\": \"CreditScore\", \"scale\": {\"domain\": [0, 20], \"clamp\": true}, \"type\": \"quantitative\"}, \"y\": {\"field\": \"Debt\", \"scale\": {\"domain\": [0, 40], \"clamp\": true}, \"title\": \"Debt\", \"type\": \"quantitative\"}}, \"title\": \"Debt vs Credit Score\"}, {\"data\": {\"name\": \"data-f22234f6b8157c1bcbbc273285942291\"}, \"mark\": {\"type\": \"point\", \"clip\": true, \"color\": \"black\", \"size\": 80}, \"encoding\": {\"x\": {\"field\": \"CreditScore\", \"scale\": {\"domain\": [0, 20], \"clamp\": true}, \"type\": \"quantitative\"}, \"y\": {\"field\": \"Debt\", \"scale\": {\"domain\": [0, 40], \"clamp\": true}, \"title\": \"Debt\", \"type\": \"quantitative\"}}}]}, {\"layer\": [{\"data\": {\"name\": \"data-9b2ed57830432ad344c2b937c9697da2\"}, \"mark\": {\"type\": \"point\"}, \"encoding\": {\"color\": {\"field\": \"Approved\", \"type\": \"nominal\"}, \"x\": {\"field\": \"CreditScore\", \"scale\": {\"domain\": [0, 20], \"clamp\": true}, \"title\": \"Credit Score\", \"type\": \"quantitative\"}, \"y\": {\"field\": \"Age\", \"scale\": {\"domain\": [0, 90], \"clamp\": true}, \"type\": \"quantitative\"}}, \"title\": \"Age vs Credit Score\"}, {\"data\": {\"name\": \"data-f22234f6b8157c1bcbbc273285942291\"}, \"mark\": {\"type\": \"point\", \"clip\": true, \"color\": \"black\", \"size\": 80}, \"encoding\": {\"x\": {\"field\": \"CreditScore\", \"scale\": {\"domain\": [0, 20], \"clamp\": true}, \"type\": \"quantitative\"}, \"y\": {\"field\": \"Age\", \"scale\": {\"domain\": [0, 90], \"clamp\": true}, \"type\": \"quantitative\"}}}]}, {\"layer\": [{\"data\": {\"name\": \"data-9b2ed57830432ad344c2b937c9697da2\"}, \"mark\": {\"type\": \"point\"}, \"encoding\": {\"color\": {\"field\": \"Approved\", \"type\": \"nominal\"}, \"x\": {\"field\": \"CreditScore\", \"scale\": {\"domain\": [0, 20], \"clamp\": true}, \"title\": \"Credit Score\", \"type\": \"quantitative\"}, \"y\": {\"field\": \"Income\", \"scale\": {\"domain\": [0, 10000], \"clamp\": true}, \"type\": \"quantitative\"}}, \"title\": \"Income vs Credit Score\"}, {\"data\": {\"name\": \"data-f22234f6b8157c1bcbbc273285942291\"}, \"mark\": {\"type\": \"point\", \"clip\": true, \"color\": \"black\", \"size\": 80}, \"encoding\": {\"x\": {\"field\": \"CreditScore\", \"scale\": {\"domain\": [0, 20], \"clamp\": true}, \"title\": \"Credit Score\", \"type\": \"quantitative\"}, \"y\": {\"field\": \"Income\", \"scale\": {\"domain\": [0, 10000], \"clamp\": true}, \"type\": \"quantitative\"}}}]}], \"$schema\": \"https://vega.github.io/schema/vega-lite/v5.15.1.json\", \"datasets\": {\"data-9b2ed57830432ad344c2b937c9697da2\": [{\"Age\": 29.58, \"Debt\": 4.75, \"CreditScore\": 1, \"Income\": 68, \"Approved\": \"No\"}, {\"Age\": 25.67, \"Debt\": 12.5, \"CreditScore\": 67, \"Income\": 258, \"Approved\": \"Yes\"}, {\"Age\": 22.5, \"Debt\": 11.5, \"CreditScore\": 0, \"Income\": 4000, \"Approved\": \"No\"}, {\"Age\": 39.33, \"Debt\": 5.875, \"CreditScore\": 14, \"Income\": 0, \"Approved\": \"Yes\"}, {\"Age\": 22.17, \"Debt\": 12.125, \"CreditScore\": 2, \"Income\": 173, \"Approved\": \"No\"}, {\"Age\": 47.75, \"Debt\": 8.0, \"CreditScore\": 6, \"Income\": 1260, \"Approved\": \"Yes\"}, {\"Age\": 18.83, \"Debt\": 3.54, \"CreditScore\": 0, \"Income\": 1, \"Approved\": \"No\"}, {\"Age\": 32.83, \"Debt\": 2.5, \"CreditScore\": 6, \"Income\": 2072, \"Approved\": \"Yes\"}, {\"Age\": 34.83, \"Debt\": 2.5, \"CreditScore\": 0, \"Income\": 0, \"Approved\": \"No\"}, {\"Age\": 65.42, \"Debt\": 11.0, \"CreditScore\": 7, \"Income\": 0, \"Approved\": \"Yes\"}, {\"Age\": 18.58, \"Debt\": 5.71, \"CreditScore\": 0, \"Income\": 0, \"Approved\": \"No\"}, {\"Age\": 24.08, \"Debt\": 0.5, \"CreditScore\": 1, \"Income\": 678, \"Approved\": \"Yes\"}, {\"Age\": 32.0, \"Debt\": 6.0, \"CreditScore\": 0, \"Income\": 0, \"Approved\": \"No\"}, {\"Age\": 43.0, \"Debt\": 0.29, \"CreditScore\": 8, \"Income\": 375, \"Approved\": \"Yes\"}, {\"Age\": 24.58, \"Debt\": 1.25, \"CreditScore\": 0, \"Income\": 0, \"Approved\": \"No\"}, {\"Age\": 27.25, \"Debt\": 1.585, \"CreditScore\": 12, \"Income\": 713, \"Approved\": \"Yes\"}, {\"Age\": 54.33, \"Debt\": 6.75, \"CreditScore\": 11, \"Income\": 284, \"Approved\": \"Yes\"}, {\"Age\": 43.08, \"Debt\": 0.375, \"CreditScore\": 8, \"Income\": 162, \"Approved\": \"Yes\"}, {\"Age\": 29.5, \"Debt\": 2.0, \"CreditScore\": 0, \"Income\": 17, \"Approved\": \"No\"}, {\"Age\": 28.5, \"Debt\": 3.04, \"CreditScore\": 1, \"Income\": 0, \"Approved\": \"Yes\"}, {\"Age\": 28.92, \"Debt\": 15.0, \"CreditScore\": 11, \"Income\": 2283, \"Approved\": \"Yes\"}, {\"Age\": 22.08, \"Debt\": 2.335, \"CreditScore\": 0, \"Income\": 0, \"Approved\": \"No\"}, {\"Age\": 47.0, \"Debt\": 13.0, \"CreditScore\": 9, \"Income\": 0, \"Approved\": \"Yes\"}, {\"Age\": 26.83, \"Debt\": 0.54, \"CreditScore\": 0, \"Income\": 0, \"Approved\": \"No\"}, {\"Age\": 21.17, \"Debt\": 0.0, \"CreditScore\": 0, \"Income\": 0, \"Approved\": \"No\"}, {\"Age\": 20.42, \"Debt\": 0.835, \"CreditScore\": 1, \"Income\": 0, \"Approved\": \"Yes\"}, {\"Age\": 22.58, \"Debt\": 10.75, \"CreditScore\": 5, \"Income\": 560, \"Approved\": \"Yes\"}, {\"Age\": 36.75, \"Debt\": 5.125, \"CreditScore\": 0, \"Income\": 4000, \"Approved\": \"Yes\"}, {\"Age\": 19.17, \"Debt\": 5.415, \"CreditScore\": 0, \"Income\": 484, \"Approved\": \"No\"}, {\"Age\": 53.33, \"Debt\": 0.165, \"CreditScore\": 0, \"Income\": 27, \"Approved\": \"No\"}, {\"Age\": 22.67, \"Debt\": 2.54, \"CreditScore\": 0, \"Income\": 0, \"Approved\": \"Yes\"}, {\"Age\": 57.83, \"Debt\": 7.04, \"CreditScore\": 6, \"Income\": 1332, \"Approved\": \"Yes\"}, {\"Age\": 36.67, \"Debt\": 4.415, \"CreditScore\": 10, \"Income\": 0, \"Approved\": \"Yes\"}, {\"Age\": 29.67, \"Debt\": 1.415, \"CreditScore\": 1, \"Income\": 100, \"Approved\": \"Yes\"}, {\"Age\": 16.08, \"Debt\": 0.335, \"CreditScore\": 1, \"Income\": 126, \"Approved\": \"No\"}, {\"Age\": 17.58, \"Debt\": 10.0, \"CreditScore\": 1, \"Income\": 1, \"Approved\": \"No\"}, {\"Age\": 41.33, \"Debt\": 0.0, \"CreditScore\": 0, \"Income\": 0, \"Approved\": \"Yes\"}, {\"Age\": 22.67, \"Debt\": 10.5, \"CreditScore\": 0, \"Income\": 0, \"Approved\": \"Yes\"}, {\"Age\": 18.92, \"Debt\": 9.0, \"CreditScore\": 2, \"Income\": 591, \"Approved\": \"Yes\"}, {\"Age\": 32.17, \"Debt\": 1.46, \"CreditScore\": 16, \"Income\": 2079, \"Approved\": \"Yes\"}, {\"Age\": 27.75, \"Debt\": 1.29, \"CreditScore\": 0, \"Income\": 0, \"Approved\": \"No\"}, {\"Age\": 24.5, \"Debt\": 13.335, \"CreditScore\": 0, \"Income\": 475, \"Approved\": \"No\"}, {\"Age\": 52.33, \"Debt\": 1.375, \"CreditScore\": 0, \"Income\": 100, \"Approved\": \"No\"}, {\"Age\": 18.0, \"Debt\": 0.165, \"CreditScore\": 0, \"Income\": 40, \"Approved\": \"Yes\"}, {\"Age\": 23.33, \"Debt\": 11.625, \"CreditScore\": 0, \"Income\": 300, \"Approved\": \"Yes\"}, {\"Age\": 21.75, \"Debt\": 11.75, \"CreditScore\": 0, \"Income\": 0, \"Approved\": \"No\"}, {\"Age\": 39.42, \"Debt\": 1.71, \"CreditScore\": 0, \"Income\": 0, \"Approved\": \"No\"}, {\"Age\": 20.08, \"Debt\": 0.25, \"CreditScore\": 0, \"Income\": 0, \"Approved\": \"No\"}, {\"Age\": 39.25, \"Debt\": 9.5, \"CreditScore\": 14, \"Income\": 4607, \"Approved\": \"Yes\"}, {\"Age\": 37.75, \"Debt\": 7.0, \"CreditScore\": 7, \"Income\": 5, \"Approved\": \"No\"}, {\"Age\": 51.92, \"Debt\": 6.5, \"CreditScore\": 0, \"Income\": 0, \"Approved\": \"No\"}, {\"Age\": 21.83, \"Debt\": 11.0, \"CreditScore\": 6, \"Income\": 0, \"Approved\": \"Yes\"}, {\"Age\": 28.33, \"Debt\": 5.0, \"CreditScore\": 0, \"Income\": 0, \"Approved\": \"Yes\"}, {\"Age\": 27.83, \"Debt\": 1.0, \"CreditScore\": 0, \"Income\": 537, \"Approved\": \"No\"}, {\"Age\": 28.46, \"Debt\": 4.0, \"CreditScore\": 0, \"Income\": 0, \"Approved\": \"No\"}, {\"Age\": 29.42, \"Debt\": 1.25, \"CreditScore\": 2, \"Income\": 108, \"Approved\": \"No\"}, {\"Age\": 52.5, \"Debt\": 7.0, \"CreditScore\": 0, \"Income\": 0, \"Approved\": \"No\"}, {\"Age\": 21.83, \"Debt\": 0.25, \"CreditScore\": 0, \"Income\": 0, \"Approved\": \"Yes\"}, {\"Age\": 20.0, \"Debt\": 7.0, \"CreditScore\": 0, \"Income\": 0, \"Approved\": \"No\"}, {\"Age\": 57.58, \"Debt\": 2.0, \"CreditScore\": 1, \"Income\": 10, \"Approved\": \"No\"}, {\"Age\": 29.25, \"Debt\": 14.79, \"CreditScore\": 5, \"Income\": 0, \"Approved\": \"Yes\"}, {\"Age\": 40.92, \"Debt\": 0.835, \"CreditScore\": 0, \"Income\": 1, \"Approved\": \"No\"}, {\"Age\": 30.83, \"Debt\": 0.0, \"CreditScore\": 1, \"Income\": 0, \"Approved\": \"Yes\"}, {\"Age\": 38.58, \"Debt\": 5.0, \"CreditScore\": 0, \"Income\": 0, \"Approved\": \"No\"}, {\"Age\": 24.83, \"Debt\": 4.5, \"CreditScore\": 0, \"Income\": 6, \"Approved\": \"No\"}, {\"Age\": 25.75, \"Debt\": 0.5, \"CreditScore\": 5, \"Income\": 0, \"Approved\": \"Yes\"}, {\"Age\": 21.17, \"Debt\": 0.875, \"CreditScore\": 0, \"Income\": 204, \"Approved\": \"No\"}, {\"Age\": 16.92, \"Debt\": 0.335, \"CreditScore\": 0, \"Income\": 0, \"Approved\": \"No\"}, {\"Age\": 32.75, \"Debt\": 2.335, \"CreditScore\": 0, \"Income\": 0, \"Approved\": \"No\"}, {\"Age\": 60.08, \"Debt\": 14.5, \"CreditScore\": 15, \"Income\": 1000, \"Approved\": \"Yes\"}, {\"Age\": 34.08, \"Debt\": 2.5, \"CreditScore\": 0, \"Income\": 16, \"Approved\": \"No\"}, {\"Age\": 18.42, \"Debt\": 9.25, \"CreditScore\": 4, \"Income\": 540, \"Approved\": \"Yes\"}, {\"Age\": 35.58, \"Debt\": 0.75, \"CreditScore\": 0, \"Income\": 0, \"Approved\": \"No\"}, {\"Age\": 22.5, \"Debt\": 0.125, \"CreditScore\": 0, \"Income\": 70, \"Approved\": \"No\"}, {\"Age\": 21.33, \"Debt\": 10.5, \"CreditScore\": 0, \"Income\": 0, \"Approved\": \"Yes\"}, {\"Age\": 21.75, \"Debt\": 1.75, \"CreditScore\": 0, \"Income\": 0, \"Approved\": \"No\"}, {\"Age\": 57.08, \"Debt\": 0.335, \"CreditScore\": 0, \"Income\": 2197, \"Approved\": \"No\"}, {\"Age\": 44.83, \"Debt\": 7.0, \"CreditScore\": 0, \"Income\": 2, \"Approved\": \"No\"}, {\"Age\": 20.42, \"Debt\": 10.5, \"CreditScore\": 0, \"Income\": 32, \"Approved\": \"No\"}, {\"Age\": 22.25, \"Debt\": 0.46, \"CreditScore\": 0, \"Income\": 55, \"Approved\": \"No\"}, {\"Age\": 41.17, \"Debt\": 6.5, \"CreditScore\": 3, \"Income\": 0, \"Approved\": \"Yes\"}, {\"Age\": 22.67, \"Debt\": 0.335, \"CreditScore\": 0, \"Income\": 0, \"Approved\": \"No\"}, {\"Age\": 40.83, \"Debt\": 3.5, \"CreditScore\": 0, \"Income\": 0, \"Approved\": \"No\"}, {\"Age\": 22.58, \"Debt\": 10.04, \"CreditScore\": 9, \"Income\": 396, \"Approved\": \"Yes\"}, {\"Age\": 35.42, \"Debt\": 12.0, \"CreditScore\": 8, \"Income\": 6590, \"Approved\": \"Yes\"}, {\"Age\": 28.46, \"Debt\": 4.0, \"CreditScore\": 3, \"Income\": 2279, \"Approved\": \"Yes\"}, {\"Age\": 18.17, \"Debt\": 2.46, \"CreditScore\": 2, \"Income\": 587, \"Approved\": \"No\"}, {\"Age\": 26.75, \"Debt\": 4.5, \"CreditScore\": 0, \"Income\": 1210, \"Approved\": \"No\"}, {\"Age\": 31.83, \"Debt\": 0.04, \"CreditScore\": 0, \"Income\": 0, \"Approved\": \"No\"}, {\"Age\": 34.58, \"Debt\": 0.0, \"CreditScore\": 0, \"Income\": 0, \"Approved\": \"No\"}, {\"Age\": 21.0, \"Debt\": 4.79, \"CreditScore\": 1, \"Income\": 300, \"Approved\": \"Yes\"}, {\"Age\": 45.0, \"Debt\": 4.585, \"CreditScore\": 0, \"Income\": 0, \"Approved\": \"No\"}, {\"Age\": 45.17, \"Debt\": 1.5, \"CreditScore\": 0, \"Income\": 0, \"Approved\": \"No\"}, {\"Age\": 21.5, \"Debt\": 6.0, \"CreditScore\": 3, \"Income\": 918, \"Approved\": \"Yes\"}, {\"Age\": 30.5, \"Debt\": 6.5, \"CreditScore\": 7, \"Income\": 3065, \"Approved\": \"Yes\"}, {\"Age\": 33.0, \"Debt\": 2.5, \"CreditScore\": 0, \"Income\": 0, \"Approved\": \"No\"}, {\"Age\": 73.42, \"Debt\": 17.75, \"CreditScore\": 0, \"Income\": 0, \"Approved\": \"Yes\"}, {\"Age\": 54.83, \"Debt\": 15.5, \"CreditScore\": 20, \"Income\": 130, \"Approved\": \"No\"}, {\"Age\": 32.42, \"Debt\": 2.165, \"CreditScore\": 0, \"Income\": 0, \"Approved\": \"No\"}, {\"Age\": 20.67, \"Debt\": 1.25, \"CreditScore\": 3, \"Income\": 210, \"Approved\": \"No\"}, {\"Age\": 58.42, \"Debt\": 21.0, \"CreditScore\": 13, \"Income\": 6700, \"Approved\": \"Yes\"}, {\"Age\": 26.75, \"Debt\": 1.125, \"CreditScore\": 0, \"Income\": 5298, \"Approved\": \"Yes\"}, {\"Age\": 23.42, \"Debt\": 1.0, \"CreditScore\": 0, \"Income\": 0, \"Approved\": \"No\"}, {\"Age\": 23.92, \"Debt\": 0.665, \"CreditScore\": 0, \"Income\": 0, \"Approved\": \"Yes\"}, {\"Age\": 18.75, \"Debt\": 7.5, \"CreditScore\": 5, \"Income\": 26726, \"Approved\": \"Yes\"}, {\"Age\": 23.58, \"Debt\": 1.79, \"CreditScore\": 0, \"Income\": 1, \"Approved\": \"No\"}, {\"Age\": 20.17, \"Debt\": 8.17, \"CreditScore\": 14, \"Income\": 158, \"Approved\": \"Yes\"}, {\"Age\": 41.33, \"Debt\": 1.0, \"CreditScore\": 0, \"Income\": 300, \"Approved\": \"Yes\"}, {\"Age\": 68.67, \"Debt\": 15.0, \"CreditScore\": 14, \"Income\": 3376, \"Approved\": \"Yes\"}, {\"Age\": 47.42, \"Debt\": 3.0, \"CreditScore\": 2, \"Income\": 1704, \"Approved\": \"Yes\"}, {\"Age\": 22.67, \"Debt\": 0.165, \"CreditScore\": 0, \"Income\": 0, \"Approved\": \"Yes\"}, {\"Age\": 25.58, \"Debt\": 0.0, \"CreditScore\": 0, \"Income\": 0, \"Approved\": \"Yes\"}, {\"Age\": 28.08, \"Debt\": 15.0, \"CreditScore\": 0, \"Income\": 13212, \"Approved\": \"Yes\"}, {\"Age\": 16.17, \"Debt\": 0.04, \"CreditScore\": 0, \"Income\": 0, \"Approved\": \"Yes\"}, {\"Age\": 38.58, \"Debt\": 3.335, \"CreditScore\": 14, \"Income\": 1344, \"Approved\": \"Yes\"}, {\"Age\": 33.25, \"Debt\": 3.0, \"CreditScore\": 0, \"Income\": 0, \"Approved\": \"No\"}, {\"Age\": 51.83, \"Debt\": 3.0, \"CreditScore\": 0, \"Income\": 4, \"Approved\": \"No\"}, {\"Age\": 26.5, \"Debt\": 2.71, \"CreditScore\": 0, \"Income\": 0, \"Approved\": \"No\"}, {\"Age\": 36.33, \"Debt\": 2.125, \"CreditScore\": 1, \"Income\": 1187, \"Approved\": \"Yes\"}, {\"Age\": 34.92, \"Debt\": 5.0, \"CreditScore\": 6, \"Income\": 1000, \"Approved\": \"Yes\"}, {\"Age\": 27.0, \"Debt\": 1.5, \"CreditScore\": 0, \"Income\": 1065, \"Approved\": \"Yes\"}, {\"Age\": 23.75, \"Debt\": 0.415, \"CreditScore\": 2, \"Income\": 6, \"Approved\": \"No\"}, {\"Age\": 16.0, \"Debt\": 3.125, \"CreditScore\": 1, \"Income\": 6, \"Approved\": \"No\"}, {\"Age\": 19.58, \"Debt\": 0.585, \"CreditScore\": 3, \"Income\": 769, \"Approved\": \"No\"}, {\"Age\": 29.17, \"Debt\": 3.5, \"CreditScore\": 3, \"Income\": 0, \"Approved\": \"No\"}, {\"Age\": 28.58, \"Debt\": 3.54, \"CreditScore\": 0, \"Income\": 0, \"Approved\": \"No\"}, {\"Age\": 20.33, \"Debt\": 10.0, \"CreditScore\": 4, \"Income\": 1465, \"Approved\": \"Yes\"}, {\"Age\": 25.0, \"Debt\": 11.25, \"CreditScore\": 17, \"Income\": 1208, \"Approved\": \"Yes\"}, {\"Age\": 32.67, \"Debt\": 9.0, \"CreditScore\": 0, \"Income\": 0, \"Approved\": \"Yes\"}, {\"Age\": 38.92, \"Debt\": 1.665, \"CreditScore\": 0, \"Income\": 390, \"Approved\": \"No\"}, {\"Age\": 22.83, \"Debt\": 3.0, \"CreditScore\": 1, \"Income\": 800, \"Approved\": \"Yes\"}, {\"Age\": 18.17, \"Debt\": 10.0, \"CreditScore\": 0, \"Income\": 0, \"Approved\": \"No\"}, {\"Age\": 29.58, \"Debt\": 4.5, \"CreditScore\": 2, \"Income\": 0, \"Approved\": \"Yes\"}, {\"Age\": 23.25, \"Debt\": 12.625, \"CreditScore\": 2, \"Income\": 5552, \"Approved\": \"No\"}, {\"Age\": 18.58, \"Debt\": 10.0, \"CreditScore\": 0, \"Income\": 42, \"Approved\": \"No\"}, {\"Age\": 20.0, \"Debt\": 11.045, \"CreditScore\": 0, \"Income\": 0, \"Approved\": \"No\"}, {\"Age\": 22.42, \"Debt\": 5.665, \"CreditScore\": 7, \"Income\": 3257, \"Approved\": \"Yes\"}, {\"Age\": 31.83, \"Debt\": 2.5, \"CreditScore\": 0, \"Income\": 0, \"Approved\": \"No\"}, {\"Age\": 24.33, \"Debt\": 6.625, \"CreditScore\": 0, \"Income\": 0, \"Approved\": \"Yes\"}, {\"Age\": 21.92, \"Debt\": 11.665, \"CreditScore\": 0, \"Income\": 5, \"Approved\": \"No\"}, {\"Age\": 36.58, \"Debt\": 0.29, \"CreditScore\": 10, \"Income\": 18, \"Approved\": \"No\"}, {\"Age\": 25.67, \"Debt\": 3.25, \"CreditScore\": 1, \"Income\": 21, \"Approved\": \"No\"}, {\"Age\": 42.0, \"Debt\": 0.205, \"CreditScore\": 0, \"Income\": 0, \"Approved\": \"Yes\"}, {\"Age\": 19.58, \"Debt\": 0.665, \"CreditScore\": 0, \"Income\": 5, \"Approved\": \"No\"}, {\"Age\": 36.33, \"Debt\": 3.79, \"CreditScore\": 0, \"Income\": 0, \"Approved\": \"No\"}, {\"Age\": 33.17, \"Debt\": 1.0, \"CreditScore\": 7, \"Income\": 4071, \"Approved\": \"Yes\"}, {\"Age\": 30.17, \"Debt\": 6.5, \"CreditScore\": 8, \"Income\": 1200, \"Approved\": \"Yes\"}, {\"Age\": 56.58, \"Debt\": 18.5, \"CreditScore\": 17, \"Income\": 0, \"Approved\": \"Yes\"}, {\"Age\": 63.33, \"Debt\": 0.54, \"CreditScore\": 3, \"Income\": 0, \"Approved\": \"No\"}, {\"Age\": 41.17, \"Debt\": 4.04, \"CreditScore\": 8, \"Income\": 0, \"Approved\": \"Yes\"}, {\"Age\": 24.5, \"Debt\": 12.75, \"CreditScore\": 2, \"Income\": 444, \"Approved\": \"Yes\"}, {\"Age\": 33.08, \"Debt\": 4.625, \"CreditScore\": 2, \"Income\": 0, \"Approved\": \"Yes\"}, {\"Age\": 33.08, \"Debt\": 1.625, \"CreditScore\": 0, \"Income\": 0, \"Approved\": \"No\"}, {\"Age\": 42.17, \"Debt\": 5.04, \"CreditScore\": 0, \"Income\": 0, \"Approved\": \"Yes\"}, {\"Age\": 32.33, \"Debt\": 7.5, \"CreditScore\": 0, \"Income\": 0, \"Approved\": \"No\"}, {\"Age\": 29.5, \"Debt\": 0.58, \"CreditScore\": 1, \"Income\": 2803, \"Approved\": \"No\"}, {\"Age\": 41.58, \"Debt\": 1.75, \"CreditScore\": 0, \"Income\": 0, \"Approved\": \"No\"}, {\"Age\": 26.67, \"Debt\": 14.585, \"CreditScore\": 0, \"Income\": 0, \"Approved\": \"No\"}, {\"Age\": 23.25, \"Debt\": 1.0, \"CreditScore\": 0, \"Income\": 0, \"Approved\": \"Yes\"}, {\"Age\": 25.83, \"Debt\": 12.835, \"CreditScore\": 0, \"Income\": 2, \"Approved\": \"No\"}, {\"Age\": 29.67, \"Debt\": 0.75, \"CreditScore\": 0, \"Income\": 0, \"Approved\": \"No\"}, {\"Age\": 22.67, \"Debt\": 7.0, \"CreditScore\": 0, \"Income\": 0, \"Approved\": \"No\"}, {\"Age\": 27.67, \"Debt\": 0.75, \"CreditScore\": 0, \"Income\": 251, \"Approved\": \"No\"}, {\"Age\": 32.08, \"Debt\": 4.0, \"CreditScore\": 0, \"Income\": 0, \"Approved\": \"No\"}, {\"Age\": 20.42, \"Debt\": 7.0, \"CreditScore\": 3, \"Income\": 1391, \"Approved\": \"Yes\"}, {\"Age\": 27.67, \"Debt\": 13.75, \"CreditScore\": 0, \"Income\": 500, \"Approved\": \"Yes\"}, {\"Age\": 18.83, \"Debt\": 9.54, \"CreditScore\": 0, \"Income\": 0, \"Approved\": \"Yes\"}, {\"Age\": 48.08, \"Debt\": 3.75, \"CreditScore\": 0, \"Income\": 2, \"Approved\": \"No\"}, {\"Age\": 18.83, \"Debt\": 0.415, \"CreditScore\": 1, \"Income\": 1, \"Approved\": \"No\"}, {\"Age\": 27.67, \"Debt\": 2.0, \"CreditScore\": 4, \"Income\": 7544, \"Approved\": \"Yes\"}, {\"Age\": 17.25, \"Debt\": 3.0, \"CreditScore\": 0, \"Income\": 40, \"Approved\": \"No\"}, {\"Age\": 23.5, \"Debt\": 1.5, \"CreditScore\": 0, \"Income\": 0, \"Approved\": \"No\"}, {\"Age\": 25.92, \"Debt\": 0.875, \"CreditScore\": 2, \"Income\": 3, \"Approved\": \"No\"}, {\"Age\": 38.75, \"Debt\": 1.5, \"CreditScore\": 0, \"Income\": 0, \"Approved\": \"No\"}, {\"Age\": 20.75, \"Debt\": 9.54, \"CreditScore\": 0, \"Income\": 1000, \"Approved\": \"No\"}, {\"Age\": 40.33, \"Debt\": 8.125, \"CreditScore\": 2, \"Income\": 18, \"Approved\": \"No\"}, {\"Age\": 37.42, \"Debt\": 2.04, \"CreditScore\": 0, \"Income\": 5800, \"Approved\": \"Yes\"}, {\"Age\": 34.42, \"Debt\": 1.335, \"CreditScore\": 0, \"Income\": 4500, \"Approved\": \"No\"}, {\"Age\": 22.5, \"Debt\": 0.415, \"CreditScore\": 0, \"Income\": 0, \"Approved\": \"No\"}, {\"Age\": 28.75, \"Debt\": 1.5, \"CreditScore\": 0, \"Income\": 225, \"Approved\": \"No\"}, {\"Age\": 59.5, \"Debt\": 2.75, \"CreditScore\": 5, \"Income\": 58, \"Approved\": \"Yes\"}, {\"Age\": 23.58, \"Debt\": 0.835, \"CreditScore\": 0, \"Income\": 5, \"Approved\": \"No\"}, {\"Age\": 22.5, \"Debt\": 8.5, \"CreditScore\": 10, \"Income\": 990, \"Approved\": \"No\"}, {\"Age\": 27.83, \"Debt\": 4.0, \"CreditScore\": 2, \"Income\": 0, \"Approved\": \"No\"}, {\"Age\": 20.83, \"Debt\": 3.0, \"CreditScore\": 0, \"Income\": 0, \"Approved\": \"Yes\"}, {\"Age\": 39.0, \"Debt\": 5.0, \"CreditScore\": 10, \"Income\": 0, \"Approved\": \"Yes\"}, {\"Age\": 30.75, \"Debt\": 1.585, \"CreditScore\": 0, \"Income\": 0, \"Approved\": \"No\"}, {\"Age\": 22.67, \"Debt\": 0.75, \"CreditScore\": 1, \"Income\": 9, \"Approved\": \"No\"}, {\"Age\": 50.25, \"Debt\": 0.835, \"CreditScore\": 0, \"Income\": 117, \"Approved\": \"No\"}, {\"Age\": 34.0, \"Debt\": 5.085, \"CreditScore\": 0, \"Income\": 0, \"Approved\": \"No\"}, {\"Age\": 48.25, \"Debt\": 25.085, \"CreditScore\": 3, \"Income\": 14, \"Approved\": \"Yes\"}, {\"Age\": 25.25, \"Debt\": 12.5, \"CreditScore\": 0, \"Income\": 1062, \"Approved\": \"No\"}, {\"Age\": 23.75, \"Debt\": 0.71, \"CreditScore\": 1, \"Income\": 4, \"Approved\": \"No\"}, {\"Age\": 41.17, \"Debt\": 1.335, \"CreditScore\": 0, \"Income\": 0, \"Approved\": \"No\"}, {\"Age\": 33.17, \"Debt\": 1.04, \"CreditScore\": 0, \"Income\": 31285, \"Approved\": \"Yes\"}, {\"Age\": 23.75, \"Debt\": 12.0, \"CreditScore\": 0, \"Income\": 0, \"Approved\": \"No\"}, {\"Age\": 20.83, \"Debt\": 0.5, \"CreditScore\": 0, \"Income\": 0, \"Approved\": \"No\"}, {\"Age\": 39.92, \"Debt\": 5.0, \"CreditScore\": 0, \"Income\": 0, \"Approved\": \"No\"}, {\"Age\": 26.17, \"Debt\": 12.5, \"CreditScore\": 0, \"Income\": 17, \"Approved\": \"No\"}, {\"Age\": 39.17, \"Debt\": 2.5, \"CreditScore\": 0, \"Income\": 0, \"Approved\": \"No\"}, {\"Age\": 33.58, \"Debt\": 0.25, \"CreditScore\": 0, \"Income\": 0, \"Approved\": \"No\"}, {\"Age\": 23.42, \"Debt\": 0.79, \"CreditScore\": 2, \"Income\": 400, \"Approved\": \"Yes\"}, {\"Age\": 23.0, \"Debt\": 11.75, \"CreditScore\": 2, \"Income\": 551, \"Approved\": \"Yes\"}, {\"Age\": 33.92, \"Debt\": 1.585, \"CreditScore\": 0, \"Income\": 0, \"Approved\": \"No\"}, {\"Age\": 34.42, \"Debt\": 4.25, \"CreditScore\": 2, \"Income\": 610, \"Approved\": \"Yes\"}, {\"Age\": 19.42, \"Debt\": 7.25, \"CreditScore\": 1, \"Income\": 1, \"Approved\": \"No\"}, {\"Age\": 28.46, \"Debt\": 3.0, \"CreditScore\": 0, \"Income\": 1, \"Approved\": \"No\"}, {\"Age\": 40.83, \"Debt\": 10.0, \"CreditScore\": 0, \"Income\": 837, \"Approved\": \"Yes\"}, {\"Age\": 27.67, \"Debt\": 2.04, \"CreditScore\": 0, \"Income\": 50, \"Approved\": \"No\"}, {\"Age\": 22.75, \"Debt\": 11.5, \"CreditScore\": 0, \"Income\": 0, \"Approved\": \"No\"}, {\"Age\": 37.5, \"Debt\": 0.835, \"CreditScore\": 0, \"Income\": 5, \"Approved\": \"No\"}, {\"Age\": 27.75, \"Debt\": 0.585, \"CreditScore\": 2, \"Income\": 500, \"Approved\": \"Yes\"}, {\"Age\": 55.75, \"Debt\": 7.08, \"CreditScore\": 3, \"Income\": 50, \"Approved\": \"No\"}, {\"Age\": 62.5, \"Debt\": 12.75, \"CreditScore\": 0, \"Income\": 0, \"Approved\": \"No\"}, {\"Age\": 38.25, \"Debt\": 6.0, \"CreditScore\": 0, \"Income\": 0, \"Approved\": \"Yes\"}, {\"Age\": 40.92, \"Debt\": 0.5, \"CreditScore\": 0, \"Income\": 0, \"Approved\": \"No\"}, {\"Age\": 28.46, \"Debt\": 1.5, \"CreditScore\": 2, \"Income\": 105, \"Approved\": \"No\"}, {\"Age\": 27.25, \"Debt\": 1.665, \"CreditScore\": 9, \"Income\": 827, \"Approved\": \"Yes\"}, {\"Age\": 23.58, \"Debt\": 0.585, \"CreditScore\": 0, \"Income\": 87, \"Approved\": \"No\"}, {\"Age\": 16.5, \"Debt\": 0.125, \"CreditScore\": 0, \"Income\": 0, \"Approved\": \"No\"}, {\"Age\": 28.46, \"Debt\": 0.5, \"CreditScore\": 0, \"Income\": 0, \"Approved\": \"No\"}, {\"Age\": 15.83, \"Debt\": 0.585, \"CreditScore\": 2, \"Income\": 0, \"Approved\": \"Yes\"}, {\"Age\": 25.0, \"Debt\": 12.33, \"CreditScore\": 6, \"Income\": 458, \"Approved\": \"Yes\"}, {\"Age\": 32.0, \"Debt\": 1.75, \"CreditScore\": 0, \"Income\": 0, \"Approved\": \"Yes\"}, {\"Age\": 27.67, \"Debt\": 1.5, \"CreditScore\": 0, \"Income\": 0, \"Approved\": \"No\"}, {\"Age\": 23.08, \"Debt\": 2.5, \"CreditScore\": 0, \"Income\": 4208, \"Approved\": \"No\"}, {\"Age\": 36.25, \"Debt\": 5.0, \"CreditScore\": 6, \"Income\": 367, \"Approved\": \"Yes\"}, {\"Age\": 58.67, \"Debt\": 4.46, \"CreditScore\": 6, \"Income\": 560, \"Approved\": \"Yes\"}, {\"Age\": 25.17, \"Debt\": 2.875, \"CreditScore\": 0, \"Income\": 0, \"Approved\": \"Yes\"}, {\"Age\": 19.17, \"Debt\": 8.585, \"CreditScore\": 7, \"Income\": 0, \"Approved\": \"Yes\"}, {\"Age\": 42.08, \"Debt\": 1.04, \"CreditScore\": 6, \"Income\": 10000, \"Approved\": \"Yes\"}, {\"Age\": 34.75, \"Debt\": 2.5, \"CreditScore\": 0, \"Income\": 0, \"Approved\": \"No\"}, {\"Age\": 28.17, \"Debt\": 0.585, \"CreditScore\": 0, \"Income\": 1004, \"Approved\": \"No\"}, {\"Age\": 36.17, \"Debt\": 5.5, \"CreditScore\": 0, \"Income\": 687, \"Approved\": \"No\"}, {\"Age\": 18.83, \"Debt\": 4.415, \"CreditScore\": 0, \"Income\": 0, \"Approved\": \"Yes\"}, {\"Age\": 22.25, \"Debt\": 9.0, \"CreditScore\": 0, \"Income\": 0, \"Approved\": \"No\"}, {\"Age\": 34.83, \"Debt\": 4.0, \"CreditScore\": 0, \"Income\": 0, \"Approved\": \"No\"}, {\"Age\": 26.17, \"Debt\": 2.0, \"CreditScore\": 0, \"Income\": 1, \"Approved\": \"No\"}, {\"Age\": 28.46, \"Debt\": 3.5, \"CreditScore\": 0, \"Income\": 0, \"Approved\": \"No\"}, {\"Age\": 21.42, \"Debt\": 0.75, \"CreditScore\": 0, \"Income\": 2, \"Approved\": \"No\"}, {\"Age\": 18.25, \"Debt\": 10.0, \"CreditScore\": 1, \"Income\": 1, \"Approved\": \"No\"}, {\"Age\": 22.08, \"Debt\": 11.46, \"CreditScore\": 0, \"Income\": 1212, \"Approved\": \"No\"}, {\"Age\": 20.42, \"Debt\": 0.0, \"CreditScore\": 0, \"Income\": 0, \"Approved\": \"No\"}, {\"Age\": 34.92, \"Debt\": 2.5, \"CreditScore\": 0, \"Income\": 200, \"Approved\": \"Yes\"}, {\"Age\": 24.58, \"Debt\": 13.5, \"CreditScore\": 0, \"Income\": 0, \"Approved\": \"No\"}, {\"Age\": 49.83, \"Debt\": 13.585, \"CreditScore\": 0, \"Income\": 0, \"Approved\": \"Yes\"}, {\"Age\": 24.17, \"Debt\": 0.875, \"CreditScore\": 2, \"Income\": 2000, \"Approved\": \"Yes\"}, {\"Age\": 23.58, \"Debt\": 0.46, \"CreditScore\": 6, \"Income\": 347, \"Approved\": \"No\"}, {\"Age\": 23.33, \"Debt\": 1.5, \"CreditScore\": 0, \"Income\": 200, \"Approved\": \"Yes\"}, {\"Age\": 39.08, \"Debt\": 6.0, \"CreditScore\": 5, \"Income\": 1097, \"Approved\": \"Yes\"}, {\"Age\": 36.08, \"Debt\": 2.54, \"CreditScore\": 0, \"Income\": 1000, \"Approved\": \"No\"}, {\"Age\": 32.25, \"Debt\": 1.5, \"CreditScore\": 0, \"Income\": 122, \"Approved\": \"No\"}, {\"Age\": 25.0, \"Debt\": 12.0, \"CreditScore\": 2, \"Income\": 5, \"Approved\": \"No\"}, {\"Age\": 36.17, \"Debt\": 0.42, \"CreditScore\": 0, \"Income\": 2, \"Approved\": \"No\"}, {\"Age\": 32.33, \"Debt\": 3.5, \"CreditScore\": 0, \"Income\": 0, \"Approved\": \"No\"}, {\"Age\": 39.17, \"Debt\": 1.625, \"CreditScore\": 10, \"Income\": 4700, \"Approved\": \"Yes\"}, {\"Age\": 26.17, \"Debt\": 0.835, \"CreditScore\": 0, \"Income\": 0, \"Approved\": \"No\"}, {\"Age\": 49.5, \"Debt\": 7.585, \"CreditScore\": 15, \"Income\": 5000, \"Approved\": \"Yes\"}, {\"Age\": 52.83, \"Debt\": 15.0, \"CreditScore\": 14, \"Income\": 2200, \"Approved\": \"Yes\"}, {\"Age\": 20.17, \"Debt\": 5.625, \"CreditScore\": 0, \"Income\": 0, \"Approved\": \"Yes\"}, {\"Age\": 26.25, \"Debt\": 1.54, \"CreditScore\": 0, \"Income\": 0, \"Approved\": \"No\"}, {\"Age\": 53.92, \"Debt\": 9.625, \"CreditScore\": 5, \"Income\": 0, \"Approved\": \"Yes\"}, {\"Age\": 38.17, \"Debt\": 10.125, \"CreditScore\": 6, \"Income\": 196, \"Approved\": \"Yes\"}, {\"Age\": 20.67, \"Debt\": 1.835, \"CreditScore\": 5, \"Income\": 2503, \"Approved\": \"Yes\"}, {\"Age\": 27.25, \"Debt\": 0.625, \"CreditScore\": 0, \"Income\": 0, \"Approved\": \"No\"}, {\"Age\": 22.75, \"Debt\": 11.0, \"CreditScore\": 7, \"Income\": 809, \"Approved\": \"Yes\"}, {\"Age\": 31.67, \"Debt\": 0.83, \"CreditScore\": 8, \"Income\": 3290, \"Approved\": \"Yes\"}, {\"Age\": 22.33, \"Debt\": 11.0, \"CreditScore\": 1, \"Income\": 278, \"Approved\": \"Yes\"}, {\"Age\": 47.67, \"Debt\": 2.5, \"CreditScore\": 12, \"Income\": 2510, \"Approved\": \"Yes\"}, {\"Age\": 37.33, \"Debt\": 6.5, \"CreditScore\": 12, \"Income\": 0, \"Approved\": \"Yes\"}, {\"Age\": 42.83, \"Debt\": 4.625, \"CreditScore\": 0, \"Income\": 0, \"Approved\": \"Yes\"}, {\"Age\": 20.5, \"Debt\": 10.0, \"CreditScore\": 0, \"Income\": 0, \"Approved\": \"Yes\"}, {\"Age\": 49.58, \"Debt\": 19.0, \"CreditScore\": 1, \"Income\": 0, \"Approved\": \"No\"}, {\"Age\": 52.5, \"Debt\": 6.5, \"CreditScore\": 15, \"Income\": 11202, \"Approved\": \"Yes\"}, {\"Age\": 21.0, \"Debt\": 3.0, \"CreditScore\": 8, \"Income\": 1, \"Approved\": \"Yes\"}, {\"Age\": 19.17, \"Debt\": 0.0, \"CreditScore\": 0, \"Income\": 1, \"Approved\": \"Yes\"}, {\"Age\": 27.42, \"Debt\": 14.5, \"CreditScore\": 1, \"Income\": 11, \"Approved\": \"Yes\"}, {\"Age\": 29.5, \"Debt\": 0.46, \"CreditScore\": 4, \"Income\": 500, \"Approved\": \"Yes\"}, {\"Age\": 36.5, \"Debt\": 4.25, \"CreditScore\": 0, \"Income\": 50, \"Approved\": \"No\"}, {\"Age\": 19.67, \"Debt\": 0.21, \"CreditScore\": 11, \"Income\": 99, \"Approved\": \"Yes\"}, {\"Age\": 25.33, \"Debt\": 0.58, \"CreditScore\": 7, \"Income\": 5124, \"Approved\": \"Yes\"}, {\"Age\": 31.67, \"Debt\": 16.165, \"CreditScore\": 9, \"Income\": 730, \"Approved\": \"Yes\"}, {\"Age\": 40.92, \"Debt\": 2.25, \"CreditScore\": 0, \"Income\": 0, \"Approved\": \"No\"}, {\"Age\": 56.83, \"Debt\": 4.25, \"CreditScore\": 0, \"Income\": 4, \"Approved\": \"No\"}, {\"Age\": 34.83, \"Debt\": 1.25, \"CreditScore\": 0, \"Income\": 0, \"Approved\": \"No\"}, {\"Age\": 51.83, \"Debt\": 2.04, \"CreditScore\": 0, \"Income\": 1, \"Approved\": \"No\"}, {\"Age\": 43.25, \"Debt\": 25.21, \"CreditScore\": 1, \"Income\": 90, \"Approved\": \"No\"}, {\"Age\": 56.42, \"Debt\": 28.0, \"CreditScore\": 40, \"Income\": 15, \"Approved\": \"Yes\"}, {\"Age\": 17.92, \"Debt\": 0.54, \"CreditScore\": 1, \"Income\": 5, \"Approved\": \"No\"}, {\"Age\": 23.5, \"Debt\": 2.75, \"CreditScore\": 0, \"Income\": 25, \"Approved\": \"No\"}, {\"Age\": 49.0, \"Debt\": 1.5, \"CreditScore\": 0, \"Income\": 27, \"Approved\": \"No\"}, {\"Age\": 69.5, \"Debt\": 6.0, \"CreditScore\": 0, \"Income\": 0, \"Approved\": \"No\"}, {\"Age\": 33.5, \"Debt\": 1.75, \"CreditScore\": 4, \"Income\": 857, \"Approved\": \"Yes\"}, {\"Age\": 34.25, \"Debt\": 1.75, \"CreditScore\": 0, \"Income\": 0, \"Approved\": \"No\"}, {\"Age\": 33.67, \"Debt\": 1.25, \"CreditScore\": 0, \"Income\": 0, \"Approved\": \"No\"}, {\"Age\": 36.67, \"Debt\": 3.25, \"CreditScore\": 0, \"Income\": 639, \"Approved\": \"Yes\"}, {\"Age\": 33.58, \"Debt\": 2.75, \"CreditScore\": 6, \"Income\": 0, \"Approved\": \"Yes\"}, {\"Age\": 22.92, \"Debt\": 0.17, \"CreditScore\": 0, \"Income\": 0, \"Approved\": \"No\"}, {\"Age\": 29.42, \"Debt\": 1.25, \"CreditScore\": 0, \"Income\": 0, \"Approved\": \"No\"}, {\"Age\": 50.08, \"Debt\": 12.54, \"CreditScore\": 3, \"Income\": 0, \"Approved\": \"Yes\"}, {\"Age\": 31.08, \"Debt\": 3.085, \"CreditScore\": 2, \"Income\": 41, \"Approved\": \"No\"}, {\"Age\": 32.33, \"Debt\": 0.54, \"CreditScore\": 0, \"Income\": 11177, \"Approved\": \"Yes\"}, {\"Age\": 23.25, \"Debt\": 4.0, \"CreditScore\": 0, \"Income\": 0, \"Approved\": \"Yes\"}, {\"Age\": 17.33, \"Debt\": 9.5, \"CreditScore\": 10, \"Income\": 10, \"Approved\": \"No\"}, {\"Age\": 52.42, \"Debt\": 1.5, \"CreditScore\": 0, \"Income\": 350, \"Approved\": \"No\"}, {\"Age\": 22.92, \"Debt\": 11.585, \"CreditScore\": 0, \"Income\": 1349, \"Approved\": \"Yes\"}, {\"Age\": 32.25, \"Debt\": 0.165, \"CreditScore\": 1, \"Income\": 8000, \"Approved\": \"Yes\"}, {\"Age\": 25.42, \"Debt\": 1.125, \"CreditScore\": 2, \"Income\": 0, \"Approved\": \"No\"}, {\"Age\": 27.58, \"Debt\": 3.25, \"CreditScore\": 2, \"Income\": 1, \"Approved\": \"No\"}, {\"Age\": 16.0, \"Debt\": 0.165, \"CreditScore\": 2, \"Income\": 1, \"Approved\": \"No\"}, {\"Age\": 28.58, \"Debt\": 1.665, \"CreditScore\": 0, \"Income\": 0, \"Approved\": \"No\"}, {\"Age\": 23.08, \"Debt\": 11.5, \"CreditScore\": 11, \"Income\": 284, \"Approved\": \"Yes\"}, {\"Age\": 33.17, \"Debt\": 3.04, \"CreditScore\": 1, \"Income\": 18027, \"Approved\": \"Yes\"}, {\"Age\": 39.92, \"Debt\": 0.54, \"CreditScore\": 3, \"Income\": 1000, \"Approved\": \"Yes\"}, {\"Age\": 31.33, \"Debt\": 19.5, \"CreditScore\": 16, \"Income\": 5000, \"Approved\": \"Yes\"}, {\"Age\": 41.0, \"Debt\": 0.04, \"CreditScore\": 1, \"Income\": 0, \"Approved\": \"Yes\"}, {\"Age\": 32.25, \"Debt\": 14.0, \"CreditScore\": 2, \"Income\": 1, \"Approved\": \"No\"}, {\"Age\": 21.58, \"Debt\": 0.79, \"CreditScore\": 0, \"Income\": 0, \"Approved\": \"No\"}, {\"Age\": 38.67, \"Debt\": 0.21, \"CreditScore\": 0, \"Income\": 0, \"Approved\": \"Yes\"}, {\"Age\": 23.08, \"Debt\": 2.5, \"CreditScore\": 11, \"Income\": 2184, \"Approved\": \"Yes\"}, {\"Age\": 20.42, \"Debt\": 7.5, \"CreditScore\": 1, \"Income\": 234, \"Approved\": \"Yes\"}, {\"Age\": 33.75, \"Debt\": 2.75, \"CreditScore\": 0, \"Income\": 0, \"Approved\": \"No\"}, {\"Age\": 22.17, \"Debt\": 2.25, \"CreditScore\": 0, \"Income\": 10, \"Approved\": \"No\"}, {\"Age\": 35.75, \"Debt\": 2.415, \"CreditScore\": 2, \"Income\": 1, \"Approved\": \"No\"}, {\"Age\": 20.83, \"Debt\": 8.5, \"CreditScore\": 0, \"Income\": 351, \"Approved\": \"No\"}, {\"Age\": 57.08, \"Debt\": 19.5, \"CreditScore\": 7, \"Income\": 3000, \"Approved\": \"Yes\"}, {\"Age\": 18.92, \"Debt\": 9.25, \"CreditScore\": 4, \"Income\": 500, \"Approved\": \"Yes\"}, {\"Age\": 16.25, \"Debt\": 0.835, \"CreditScore\": 0, \"Income\": 0, \"Approved\": \"No\"}, {\"Age\": 43.17, \"Debt\": 2.25, \"CreditScore\": 0, \"Income\": 0, \"Approved\": \"No\"}, {\"Age\": 28.17, \"Debt\": 0.375, \"CreditScore\": 4, \"Income\": 0, \"Approved\": \"Yes\"}, {\"Age\": 30.0, \"Debt\": 5.29, \"CreditScore\": 5, \"Income\": 500, \"Approved\": \"Yes\"}, {\"Age\": 19.67, \"Debt\": 0.375, \"CreditScore\": 2, \"Income\": 0, \"Approved\": \"Yes\"}, {\"Age\": 22.08, \"Debt\": 0.83, \"CreditScore\": 0, \"Income\": 0, \"Approved\": \"Yes\"}, {\"Age\": 28.58, \"Debt\": 3.75, \"CreditScore\": 1, \"Income\": 154, \"Approved\": \"No\"}, {\"Age\": 57.42, \"Debt\": 8.5, \"CreditScore\": 3, \"Income\": 0, \"Approved\": \"Yes\"}, {\"Age\": 41.42, \"Debt\": 5.0, \"CreditScore\": 6, \"Income\": 0, \"Approved\": \"Yes\"}, {\"Age\": 28.67, \"Debt\": 9.335, \"CreditScore\": 6, \"Income\": 168, \"Approved\": \"Yes\"}, {\"Age\": 24.75, \"Debt\": 0.54, \"CreditScore\": 0, \"Income\": 1, \"Approved\": \"No\"}, {\"Age\": 23.5, \"Debt\": 9.0, \"CreditScore\": 5, \"Income\": 0, \"Approved\": \"Yes\"}, {\"Age\": 35.17, \"Debt\": 25.125, \"CreditScore\": 1, \"Income\": 500, \"Approved\": \"Yes\"}, {\"Age\": 34.5, \"Debt\": 4.04, \"CreditScore\": 7, \"Income\": 0, \"Approved\": \"Yes\"}, {\"Age\": 16.08, \"Debt\": 0.75, \"CreditScore\": 5, \"Income\": 690, \"Approved\": \"Yes\"}, {\"Age\": 24.58, \"Debt\": 12.5, \"CreditScore\": 0, \"Income\": 0, \"Approved\": \"No\"}, {\"Age\": 29.5, \"Debt\": 1.085, \"CreditScore\": 0, \"Income\": 13, \"Approved\": \"No\"}, {\"Age\": 16.33, \"Debt\": 0.21, \"CreditScore\": 0, \"Income\": 1, \"Approved\": \"No\"}, {\"Age\": 21.83, \"Debt\": 1.54, \"CreditScore\": 0, \"Income\": 0, \"Approved\": \"No\"}, {\"Age\": 64.08, \"Debt\": 0.165, \"CreditScore\": 1, \"Income\": 100, \"Approved\": \"Yes\"}, {\"Age\": 42.75, \"Debt\": 4.085, \"CreditScore\": 0, \"Income\": 100, \"Approved\": \"No\"}, {\"Age\": 29.58, \"Debt\": 1.75, \"CreditScore\": 0, \"Income\": 0, \"Approved\": \"No\"}, {\"Age\": 24.75, \"Debt\": 3.0, \"CreditScore\": 19, \"Income\": 500, \"Approved\": \"Yes\"}, {\"Age\": 39.58, \"Debt\": 5.0, \"CreditScore\": 2, \"Income\": 1, \"Approved\": \"No\"}, {\"Age\": 23.92, \"Debt\": 0.585, \"CreditScore\": 0, \"Income\": 1, \"Approved\": \"No\"}, {\"Age\": 19.58, \"Debt\": 0.665, \"CreditScore\": 1, \"Income\": 2, \"Approved\": \"No\"}, {\"Age\": 40.58, \"Debt\": 5.0, \"CreditScore\": 7, \"Income\": 3065, \"Approved\": \"Yes\"}, {\"Age\": 30.58, \"Debt\": 2.71, \"CreditScore\": 0, \"Income\": 0, \"Approved\": \"No\"}, {\"Age\": 25.67, \"Debt\": 0.29, \"CreditScore\": 0, \"Income\": 0, \"Approved\": \"No\"}, {\"Age\": 28.46, \"Debt\": 5.0, \"CreditScore\": 0, \"Income\": 0, \"Approved\": \"No\"}, {\"Age\": 31.25, \"Debt\": 2.835, \"CreditScore\": 5, \"Income\": 146, \"Approved\": \"No\"}, {\"Age\": 37.33, \"Debt\": 2.5, \"CreditScore\": 0, \"Income\": 246, \"Approved\": \"No\"}, {\"Age\": 28.25, \"Debt\": 5.125, \"CreditScore\": 2, \"Income\": 7, \"Approved\": \"Yes\"}, {\"Age\": 26.75, \"Debt\": 2.0, \"CreditScore\": 0, \"Income\": 0, \"Approved\": \"No\"}, {\"Age\": 18.42, \"Debt\": 10.415, \"CreditScore\": 0, \"Income\": 375, \"Approved\": \"No\"}, {\"Age\": 67.75, \"Debt\": 5.5, \"CreditScore\": 1, \"Income\": 0, \"Approved\": \"Yes\"}, {\"Age\": 18.83, \"Debt\": 0.0, \"CreditScore\": 0, \"Income\": 1, \"Approved\": \"No\"}, {\"Age\": 48.17, \"Debt\": 7.625, \"CreditScore\": 12, \"Income\": 790, \"Approved\": \"Yes\"}, {\"Age\": 48.17, \"Debt\": 3.5, \"CreditScore\": 0, \"Income\": 0, \"Approved\": \"Yes\"}, {\"Age\": 65.17, \"Debt\": 14.0, \"CreditScore\": 11, \"Income\": 1400, \"Approved\": \"Yes\"}, {\"Age\": 40.58, \"Debt\": 3.29, \"CreditScore\": 0, \"Income\": 0, \"Approved\": \"No\"}, {\"Age\": 22.0, \"Debt\": 0.79, \"CreditScore\": 1, \"Income\": 283, \"Approved\": \"No\"}, {\"Age\": 23.5, \"Debt\": 3.165, \"CreditScore\": 1, \"Income\": 80, \"Approved\": \"No\"}, {\"Age\": 21.08, \"Debt\": 4.125, \"CreditScore\": 0, \"Income\": 100, \"Approved\": \"No\"}, {\"Age\": 23.08, \"Debt\": 0.0, \"CreditScore\": 11, \"Income\": 0, \"Approved\": \"No\"}, {\"Age\": 51.42, \"Debt\": 0.04, \"CreditScore\": 0, \"Income\": 3000, \"Approved\": \"Yes\"}, {\"Age\": 20.0, \"Debt\": 0.0, \"CreditScore\": 0, \"Income\": 0, \"Approved\": \"No\"}, {\"Age\": 49.17, \"Debt\": 2.29, \"CreditScore\": 0, \"Income\": 3, \"Approved\": \"No\"}, {\"Age\": 23.58, \"Debt\": 0.83, \"CreditScore\": 1, \"Income\": 11, \"Approved\": \"No\"}, {\"Age\": 20.17, \"Debt\": 9.25, \"CreditScore\": 3, \"Income\": 28, \"Approved\": \"Yes\"}, {\"Age\": 47.25, \"Debt\": 0.75, \"CreditScore\": 1, \"Income\": 892, \"Approved\": \"Yes\"}, {\"Age\": 24.5, \"Debt\": 2.415, \"CreditScore\": 0, \"Income\": 0, \"Approved\": \"No\"}, {\"Age\": 34.08, \"Debt\": 6.5, \"CreditScore\": 0, \"Income\": 0, \"Approved\": \"No\"}, {\"Age\": 34.75, \"Debt\": 15.0, \"CreditScore\": 9, \"Income\": 134, \"Approved\": \"Yes\"}, {\"Age\": 20.08, \"Debt\": 0.125, \"CreditScore\": 1, \"Income\": 768, \"Approved\": \"Yes\"}, {\"Age\": 23.42, \"Debt\": 0.585, \"CreditScore\": 0, \"Income\": 0, \"Approved\": \"No\"}, {\"Age\": 34.17, \"Debt\": 1.54, \"CreditScore\": 1, \"Income\": 50000, \"Approved\": \"Yes\"}, {\"Age\": 25.58, \"Debt\": 0.335, \"CreditScore\": 0, \"Income\": 0, \"Approved\": \"No\"}, {\"Age\": 71.58, \"Debt\": 0.0, \"CreditScore\": 0, \"Income\": 0, \"Approved\": \"Yes\"}, {\"Age\": 54.42, \"Debt\": 0.5, \"CreditScore\": 0, \"Income\": 314, \"Approved\": \"Yes\"}, {\"Age\": 19.17, \"Debt\": 0.585, \"CreditScore\": 0, \"Income\": 0, \"Approved\": \"No\"}, {\"Age\": 27.0, \"Debt\": 0.75, \"CreditScore\": 3, \"Income\": 150, \"Approved\": \"Yes\"}, {\"Age\": 35.17, \"Debt\": 4.5, \"CreditScore\": 0, \"Income\": 0, \"Approved\": \"Yes\"}, {\"Age\": 17.42, \"Debt\": 6.5, \"CreditScore\": 0, \"Income\": 100, \"Approved\": \"No\"}, {\"Age\": 33.67, \"Debt\": 2.165, \"CreditScore\": 0, \"Income\": 0, \"Approved\": \"No\"}, {\"Age\": 20.67, \"Debt\": 0.835, \"CreditScore\": 0, \"Income\": 0, \"Approved\": \"No\"}, {\"Age\": 16.92, \"Debt\": 0.5, \"CreditScore\": 6, \"Income\": 35, \"Approved\": \"No\"}, {\"Age\": 25.0, \"Debt\": 0.875, \"CreditScore\": 0, \"Income\": 5860, \"Approved\": \"Yes\"}, {\"Age\": 29.83, \"Debt\": 3.5, \"CreditScore\": 0, \"Income\": 0, \"Approved\": \"No\"}, {\"Age\": 36.75, \"Debt\": 0.125, \"CreditScore\": 0, \"Income\": 113, \"Approved\": \"Yes\"}, {\"Age\": 24.42, \"Debt\": 2.0, \"CreditScore\": 2, \"Income\": 1300, \"Approved\": \"No\"}, {\"Age\": 22.67, \"Debt\": 0.79, \"CreditScore\": 0, \"Income\": 0, \"Approved\": \"No\"}, {\"Age\": 56.5, \"Debt\": 16.0, \"CreditScore\": 15, \"Income\": 247, \"Approved\": \"Yes\"}, {\"Age\": 34.0, \"Debt\": 4.5, \"CreditScore\": 0, \"Income\": 0, \"Approved\": \"No\"}, {\"Age\": 48.58, \"Debt\": 0.205, \"CreditScore\": 11, \"Income\": 2732, \"Approved\": \"Yes\"}, {\"Age\": 18.08, \"Debt\": 0.375, \"CreditScore\": 0, \"Income\": 0, \"Approved\": \"Yes\"}, {\"Age\": 56.75, \"Debt\": 12.25, \"CreditScore\": 4, \"Income\": 0, \"Approved\": \"Yes\"}, {\"Age\": 28.17, \"Debt\": 0.125, \"CreditScore\": 0, \"Income\": 2100, \"Approved\": \"No\"}, {\"Age\": 34.0, \"Debt\": 5.5, \"CreditScore\": 0, \"Income\": 0, \"Approved\": \"No\"}, {\"Age\": 26.58, \"Debt\": 2.54, \"CreditScore\": 0, \"Income\": 60, \"Approved\": \"No\"}, {\"Age\": 25.25, \"Debt\": 1.0, \"CreditScore\": 0, \"Income\": 0, \"Approved\": \"No\"}, {\"Age\": 18.25, \"Debt\": 0.165, \"CreditScore\": 0, \"Income\": 0, \"Approved\": \"No\"}, {\"Age\": 47.17, \"Debt\": 5.835, \"CreditScore\": 0, \"Income\": 150, \"Approved\": \"No\"}, {\"Age\": 69.17, \"Debt\": 9.0, \"CreditScore\": 1, \"Income\": 6, \"Approved\": \"No\"}, {\"Age\": 23.0, \"Debt\": 0.75, \"CreditScore\": 0, \"Income\": 0, \"Approved\": \"No\"}, {\"Age\": 30.58, \"Debt\": 10.665, \"CreditScore\": 12, \"Income\": 3, \"Approved\": \"No\"}, {\"Age\": 41.0, \"Debt\": 2.04, \"CreditScore\": 23, \"Income\": 1236, \"Approved\": \"Yes\"}, {\"Age\": 28.46, \"Debt\": 0.375, \"CreditScore\": 0, \"Income\": 0, \"Approved\": \"No\"}, {\"Age\": 19.75, \"Debt\": 0.75, \"CreditScore\": 5, \"Income\": 5, \"Approved\": \"No\"}, {\"Age\": 30.25, \"Debt\": 5.5, \"CreditScore\": 0, \"Income\": 0, \"Approved\": \"No\"}, {\"Age\": 28.25, \"Debt\": 0.875, \"CreditScore\": 3, \"Income\": 0, \"Approved\": \"Yes\"}, {\"Age\": 20.5, \"Debt\": 11.835, \"CreditScore\": 0, \"Income\": 0, \"Approved\": \"Yes\"}, {\"Age\": 22.67, \"Debt\": 1.585, \"CreditScore\": 6, \"Income\": 0, \"Approved\": \"Yes\"}, {\"Age\": 21.5, \"Debt\": 11.5, \"CreditScore\": 0, \"Income\": 68, \"Approved\": \"No\"}, {\"Age\": 28.92, \"Debt\": 0.375, \"CreditScore\": 0, \"Income\": 140, \"Approved\": \"No\"}, {\"Age\": 80.25, \"Debt\": 5.5, \"CreditScore\": 0, \"Income\": 340, \"Approved\": \"No\"}, {\"Age\": 27.17, \"Debt\": 1.25, \"CreditScore\": 1, \"Income\": 300, \"Approved\": \"No\"}, {\"Age\": 31.25, \"Debt\": 3.75, \"CreditScore\": 9, \"Income\": 0, \"Approved\": \"Yes\"}, {\"Age\": 27.58, \"Debt\": 2.04, \"CreditScore\": 3, \"Income\": 560, \"Approved\": \"Yes\"}, {\"Age\": 30.42, \"Debt\": 1.375, \"CreditScore\": 3, \"Income\": 33, \"Approved\": \"No\"}, {\"Age\": 45.83, \"Debt\": 10.5, \"CreditScore\": 7, \"Income\": 0, \"Approved\": \"Yes\"}, {\"Age\": 25.67, \"Debt\": 2.21, \"CreditScore\": 0, \"Income\": 0, \"Approved\": \"No\"}, {\"Age\": 17.08, \"Debt\": 0.085, \"CreditScore\": 0, \"Income\": 722, \"Approved\": \"No\"}, {\"Age\": 48.17, \"Debt\": 1.335, \"CreditScore\": 0, \"Income\": 120, \"Approved\": \"No\"}, {\"Age\": 17.58, \"Debt\": 9.0, \"CreditScore\": 0, \"Income\": 0, \"Approved\": \"Yes\"}, {\"Age\": 24.5, \"Debt\": 1.75, \"CreditScore\": 0, \"Income\": 0, \"Approved\": \"No\"}, {\"Age\": 27.83, \"Debt\": 1.54, \"CreditScore\": 5, \"Income\": 3, \"Approved\": \"Yes\"}, {\"Age\": 36.67, \"Debt\": 2.0, \"CreditScore\": 0, \"Income\": 0, \"Approved\": \"No\"}, {\"Age\": 45.33, \"Debt\": 1.0, \"CreditScore\": 0, \"Income\": 0, \"Approved\": \"No\"}, {\"Age\": 19.17, \"Debt\": 4.0, \"CreditScore\": 0, \"Income\": 1000, \"Approved\": \"No\"}, {\"Age\": 26.92, \"Debt\": 13.5, \"CreditScore\": 2, \"Income\": 5000, \"Approved\": \"Yes\"}, {\"Age\": 25.5, \"Debt\": 0.375, \"CreditScore\": 3, \"Income\": 15108, \"Approved\": \"Yes\"}, {\"Age\": 28.46, \"Debt\": 10.5, \"CreditScore\": 0, \"Income\": 0, \"Approved\": \"Yes\"}, {\"Age\": 26.92, \"Debt\": 2.25, \"CreditScore\": 0, \"Income\": 4000, \"Approved\": \"No\"}, {\"Age\": 23.17, \"Debt\": 0.0, \"CreditScore\": 0, \"Income\": 0, \"Approved\": \"Yes\"}, {\"Age\": 24.75, \"Debt\": 13.665, \"CreditScore\": 0, \"Income\": 1, \"Approved\": \"No\"}, {\"Age\": 26.0, \"Debt\": 1.0, \"CreditScore\": 0, \"Income\": 0, \"Approved\": \"Yes\"}, {\"Age\": 20.25, \"Debt\": 9.96, \"CreditScore\": 0, \"Income\": 0, \"Approved\": \"Yes\"}, {\"Age\": 27.58, \"Debt\": 3.0, \"CreditScore\": 1, \"Income\": 10, \"Approved\": \"No\"}, {\"Age\": 25.33, \"Debt\": 2.085, \"CreditScore\": 0, \"Income\": 1, \"Approved\": \"No\"}, {\"Age\": 48.75, \"Debt\": 26.335, \"CreditScore\": 0, \"Income\": 0, \"Approved\": \"No\"}, {\"Age\": 58.58, \"Debt\": 2.71, \"CreditScore\": 0, \"Income\": 0, \"Approved\": \"No\"}, {\"Age\": 35.25, \"Debt\": 3.165, \"CreditScore\": 0, \"Income\": 0, \"Approved\": \"No\"}, {\"Age\": 19.5, \"Debt\": 0.165, \"CreditScore\": 0, \"Income\": 0, \"Approved\": \"No\"}, {\"Age\": 40.0, \"Debt\": 6.5, \"CreditScore\": 1, \"Income\": 500, \"Approved\": \"Yes\"}, {\"Age\": 41.92, \"Debt\": 0.42, \"CreditScore\": 6, \"Income\": 948, \"Approved\": \"Yes\"}, {\"Age\": 28.42, \"Debt\": 3.5, \"CreditScore\": 0, \"Income\": 0, \"Approved\": \"Yes\"}, {\"Age\": 36.75, \"Debt\": 4.71, \"CreditScore\": 0, \"Income\": 0, \"Approved\": \"No\"}, {\"Age\": 18.5, \"Debt\": 2.0, \"CreditScore\": 2, \"Income\": 300, \"Approved\": \"Yes\"}, {\"Age\": 18.17, \"Debt\": 10.25, \"CreditScore\": 0, \"Income\": 13, \"Approved\": \"No\"}, {\"Age\": 15.17, \"Debt\": 7.0, \"CreditScore\": 0, \"Income\": 0, \"Approved\": \"No\"}, {\"Age\": 32.75, \"Debt\": 1.5, \"CreditScore\": 3, \"Income\": 0, \"Approved\": \"Yes\"}, {\"Age\": 26.33, \"Debt\": 13.0, \"CreditScore\": 0, \"Income\": 1110, \"Approved\": \"No\"}, {\"Age\": 17.92, \"Debt\": 0.205, \"CreditScore\": 0, \"Income\": 750, \"Approved\": \"No\"}, {\"Age\": 48.5, \"Debt\": 4.25, \"CreditScore\": 0, \"Income\": 0, \"Approved\": \"Yes\"}, {\"Age\": 15.83, \"Debt\": 7.625, \"CreditScore\": 1, \"Income\": 160, \"Approved\": \"No\"}, {\"Age\": 28.0, \"Debt\": 2.0, \"CreditScore\": 2, \"Income\": 0, \"Approved\": \"Yes\"}, {\"Age\": 24.08, \"Debt\": 9.0, \"CreditScore\": 0, \"Income\": 0, \"Approved\": \"No\"}, {\"Age\": 32.33, \"Debt\": 2.5, \"CreditScore\": 0, \"Income\": 0, \"Approved\": \"No\"}, {\"Age\": 34.67, \"Debt\": 1.08, \"CreditScore\": 0, \"Income\": 0, \"Approved\": \"No\"}, {\"Age\": 23.25, \"Debt\": 1.5, \"CreditScore\": 3, \"Income\": 582, \"Approved\": \"Yes\"}, {\"Age\": 41.17, \"Debt\": 1.25, \"CreditScore\": 0, \"Income\": 195, \"Approved\": \"No\"}, {\"Age\": 38.42, \"Debt\": 0.705, \"CreditScore\": 2, \"Income\": 500, \"Approved\": \"No\"}, {\"Age\": 30.17, \"Debt\": 0.5, \"CreditScore\": 11, \"Income\": 540, \"Approved\": \"Yes\"}, {\"Age\": 17.08, \"Debt\": 3.29, \"CreditScore\": 0, \"Income\": 2, \"Approved\": \"No\"}, {\"Age\": 26.67, \"Debt\": 1.75, \"CreditScore\": 5, \"Income\": 5777, \"Approved\": \"Yes\"}, {\"Age\": 23.0, \"Debt\": 0.75, \"CreditScore\": 0, \"Income\": 0, \"Approved\": \"No\"}, {\"Age\": 25.17, \"Debt\": 3.0, \"CreditScore\": 1, \"Income\": 22, \"Approved\": \"No\"}, {\"Age\": 22.92, \"Debt\": 1.25, \"CreditScore\": 0, \"Income\": 809, \"Approved\": \"No\"}, {\"Age\": 23.08, \"Debt\": 11.5, \"CreditScore\": 9, \"Income\": 742, \"Approved\": \"Yes\"}, {\"Age\": 32.42, \"Debt\": 3.0, \"CreditScore\": 0, \"Income\": 0, \"Approved\": \"No\"}, {\"Age\": 47.67, \"Debt\": 0.29, \"CreditScore\": 20, \"Income\": 15000, \"Approved\": \"Yes\"}, {\"Age\": 43.17, \"Debt\": 5.0, \"CreditScore\": 0, \"Income\": 0, \"Approved\": \"No\"}, {\"Age\": 28.5, \"Debt\": 1.0, \"CreditScore\": 2, \"Income\": 500, \"Approved\": \"No\"}, {\"Age\": 48.58, \"Debt\": 6.5, \"CreditScore\": 0, \"Income\": 0, \"Approved\": \"Yes\"}, {\"Age\": 25.0, \"Debt\": 12.5, \"CreditScore\": 0, \"Income\": 0, \"Approved\": \"Yes\"}, {\"Age\": 28.75, \"Debt\": 3.75, \"CreditScore\": 1, \"Income\": 0, \"Approved\": \"Yes\"}, {\"Age\": 22.83, \"Debt\": 2.29, \"CreditScore\": 7, \"Income\": 2384, \"Approved\": \"Yes\"}, {\"Age\": 46.08, \"Debt\": 3.0, \"CreditScore\": 8, \"Income\": 4159, \"Approved\": \"Yes\"}, {\"Age\": 22.67, \"Debt\": 0.75, \"CreditScore\": 2, \"Income\": 394, \"Approved\": \"No\"}, {\"Age\": 54.58, \"Debt\": 9.415, \"CreditScore\": 11, \"Income\": 300, \"Approved\": \"Yes\"}, {\"Age\": 39.08, \"Debt\": 4.0, \"CreditScore\": 0, \"Income\": 0, \"Approved\": \"No\"}, {\"Age\": 24.5, \"Debt\": 0.5, \"CreditScore\": 0, \"Income\": 824, \"Approved\": \"Yes\"}, {\"Age\": 39.5, \"Debt\": 1.625, \"CreditScore\": 0, \"Income\": 316, \"Approved\": \"No\"}, {\"Age\": 19.42, \"Debt\": 6.5, \"CreditScore\": 7, \"Income\": 2954, \"Approved\": \"Yes\"}, {\"Age\": 35.17, \"Debt\": 2.5, \"CreditScore\": 7, \"Income\": 1270, \"Approved\": \"Yes\"}, {\"Age\": 28.46, \"Debt\": 0.04, \"CreditScore\": 0, \"Income\": 0, \"Approved\": \"No\"}, {\"Age\": 35.0, \"Debt\": 2.5, \"CreditScore\": 0, \"Income\": 0, \"Approved\": \"No\"}, {\"Age\": 23.17, \"Debt\": 11.125, \"CreditScore\": 1, \"Income\": 0, \"Approved\": \"Yes\"}, {\"Age\": 28.0, \"Debt\": 3.0, \"CreditScore\": 0, \"Income\": 67, \"Approved\": \"No\"}, {\"Age\": 17.08, \"Debt\": 0.25, \"CreditScore\": 4, \"Income\": 8, \"Approved\": \"No\"}, {\"Age\": 24.5, \"Debt\": 1.04, \"CreditScore\": 3, \"Income\": 147, \"Approved\": \"No\"}, {\"Age\": 37.75, \"Debt\": 5.5, \"CreditScore\": 0, \"Income\": 0, \"Approved\": \"Yes\"}, {\"Age\": 30.08, \"Debt\": 1.04, \"CreditScore\": 10, \"Income\": 28, \"Approved\": \"No\"}, {\"Age\": 44.25, \"Debt\": 0.5, \"CreditScore\": 0, \"Income\": 0, \"Approved\": \"No\"}, {\"Age\": 31.92, \"Debt\": 4.46, \"CreditScore\": 3, \"Income\": 300, \"Approved\": \"Yes\"}, {\"Age\": 28.58, \"Debt\": 3.625, \"CreditScore\": 0, \"Income\": 0, \"Approved\": \"No\"}, {\"Age\": 33.75, \"Debt\": 0.75, \"CreditScore\": 3, \"Income\": 0, \"Approved\": \"No\"}, {\"Age\": 23.0, \"Debt\": 0.625, \"CreditScore\": 0, \"Income\": 1, \"Approved\": \"No\"}, {\"Age\": 26.67, \"Debt\": 2.71, \"CreditScore\": 1, \"Income\": 0, \"Approved\": \"Yes\"}, {\"Age\": 35.75, \"Debt\": 0.915, \"CreditScore\": 4, \"Income\": 1583, \"Approved\": \"Yes\"}, {\"Age\": 44.17, \"Debt\": 6.665, \"CreditScore\": 3, \"Income\": 0, \"Approved\": \"Yes\"}, {\"Age\": 28.75, \"Debt\": 1.165, \"CreditScore\": 0, \"Income\": 0, \"Approved\": \"No\"}, {\"Age\": 25.75, \"Debt\": 0.75, \"CreditScore\": 0, \"Income\": 23, \"Approved\": \"Yes\"}, {\"Age\": 23.25, \"Debt\": 5.875, \"CreditScore\": 10, \"Income\": 245, \"Approved\": \"Yes\"}, {\"Age\": 22.5, \"Debt\": 11.0, \"CreditScore\": 0, \"Income\": 0, \"Approved\": \"No\"}, {\"Age\": 33.67, \"Debt\": 0.375, \"CreditScore\": 0, \"Income\": 44, \"Approved\": \"Yes\"}, {\"Age\": 24.33, \"Debt\": 2.5, \"CreditScore\": 0, \"Income\": 456, \"Approved\": \"No\"}, {\"Age\": 42.83, \"Debt\": 1.25, \"CreditScore\": 1, \"Income\": 112, \"Approved\": \"No\"}, {\"Age\": 13.75, \"Debt\": 4.0, \"CreditScore\": 2, \"Income\": 1000, \"Approved\": \"Yes\"}], \"data-f22234f6b8157c1bcbbc273285942291\": [{\"Age\": 33, \"Debt\": 6, \"CreditScore\": 5, \"Income\": 2039}]}}, {\"mode\": \"vega-lite\"});\n",
       "</script>"
      ],
      "text/plain": [
       "alt.VConcatChart(...)"
      ]
     },
     "execution_count": 63,
     "metadata": {},
     "output_type": "execute_result"
    }
   ],
   "source": [
    "\n",
    "\n",
    "debt_pred = scatterplot_debt_creditscore + (\n",
    "    # Standardize the new data point with transformer fitted on the original data\n",
    "    alt.Chart(new_obs)\n",
    "    .mark_point(size=80, color='black', clip=True).encode(\n",
    "        y=alt.Y(\"Debt\").title(\"Debt\").scale(domain=[0,40],clamp=True),\n",
    "    x=alt.X(\"CreditScore\").scale(domain=[0,20],clamp= True),\n",
    "    )\n",
    ")\n",
    "age_pred = scatterplot_age + (\n",
    "    alt.Chart(new_obs)\n",
    "    .mark_point(size=80, color='black', clip=True).encode(\n",
    "        x=alt.X(\"CreditScore\").scale(domain=[0,20],clamp=True),\n",
    "        y=alt.Y(\"Age\").scale(domain=[0,90],clamp= True),\n",
    "    )\n",
    ")\n",
    "income_pred = scatterplot_income + (\n",
    "    alt.Chart(new_obs)\n",
    "    .mark_point(size=80, color='black', clip=True).encode(\n",
    "        x=alt.X(\"CreditScore\").title(\"Credit Score\").scale(domain=[0,20],clamp=True),\n",
    "        y=alt.Y(\"Income\").scale(domain=[0,10000],clamp= True),\n",
    "    )\n",
    ")\n",
    "final_plot = debt_pred&age_pred&income_pred\n",
    "final_plot"
   ]
  },
  {
   "cell_type": "markdown",
   "id": "33fac694",
   "metadata": {},
   "source": [
    "Figure 10. These scatter plots shows the relationship between credit score and debt, age, and income and the correlation with credit card approval. The two new observations are added to the plot as black circles. "
   ]
  },
  {
   "cell_type": "markdown",
   "id": "8c242303",
   "metadata": {},
   "source": [
    "This allowed me to visualize the nearest neighbors for these observations in two dimensions, and understand why my model was making the predictions it was. The model predicted observation 1 would be approved, while 2 would not. The visualizations help understand this; observation 1 was surrounded by orange (approved) dots on all of our graphs, while 2’s nearest neighbors were typically blue (unapproved). "
   ]
  },
  {
   "cell_type": "markdown",
   "id": "c5cb9812",
   "metadata": {},
   "source": [
    "From all the visualizations, we have noticed that credit score and income strongly correlate with credit card approval. However, age and debt did not show a strong correlation as expected, as we did not see a big difference in approval rates across ages."
   ]
  },
  {
   "cell_type": "markdown",
   "id": "66bda3e0",
   "metadata": {},
   "source": [
    "The analysis focused on credit card approval, exploring the relationships between key variables (debt, income, age, credit score) and approval status. I employed a KNN-Neighbors algorithm to predict approvals based on these variables. Noteworthy findings include robust correlations between credit score and income with approval rates. Surprisingly, age exhibited a smaller impact than expected, and the average age difference between approved and non-approved applications was relatively modest.\n",
    "\n",
    "My expectations were generally met, as the analysis uncovered correlations aligning with anticipated trends. The strong influence of credit score and income on approval aligned with expectations. However, the smaller-than-expected impact of age was a notable deviation. This finding suggests that age might not be as influential in credit card approval decisions as initially hypothesized.\n",
    "\n",
    "These findings hold significance in several aspects. Understanding the factors influencing approval in a society increasingly reliant on credit cards in the digital economy is crucial. I can leverage these insights to refine approval criteria, potentially leading to more accurate risk assessments. Moreover, recognizing the potential biases and disparities in approval processes highlights the need for ethical considerations in credit decision algorithms. Addressing these issues could contribute to fairer and more inclusive financial systems.\n",
    "\n",
    "The current findings open avenues for future exploration:\n",
    "1. Model Generalization: How well does the KNN-Neighbors model generalize to new, unseen data? Further evaluation on external datasets is essential to assess the model's reliability in real-world scenarios.\n",
    "\n",
    "2. Additional Features: Could the inclusion of additional features beyond the current set (employment history, education, etc.) improve prediction accuracy? Investigating additional factors may enhance the model's overall performance.\n",
    "\n",
    "In conclusion, while the analysis provided valuable insights into credit card approval dynamics, there is room for further exploration to refine models, address ethical considerations, and enhance my understanding of the complex factors influencing financial decisions."
   ]
  },
  {
   "cell_type": "markdown",
   "id": "e9c8c949",
   "metadata": {},
   "source": [
    "References:\n",
    "\n",
    "Quinlan,J. R.. Credit Approval. UCI Machine Learning Repository. https://doi.org/10.24432/C5FS30.\n",
    "Surekha, M., Umesh, U., & Dhinakaran, D. P. (2022). A study on utilization and convenient of credit card. Journal of Positive School Psychology, 5635-5645.\n",
    "\n",
    "Wagner, H. (2004). The use of credit scoring in the mortgage industry. Journal of Financial Services Marketing, 9(2), 179–183. https://doi.org/10.1057/palgrave.fsm.4770151"
   ]
  },
  {
   "cell_type": "markdown",
   "id": "d969f42d",
   "metadata": {},
   "source": []
  }
 ],
 "metadata": {
  "kernelspec": {
   "display_name": "Python 3 (ipykernel)",
   "language": "python",
   "name": "python3"
  },
  "language_info": {
   "codemirror_mode": {
    "name": "ipython",
    "version": 3
   },
   "file_extension": ".py",
   "mimetype": "text/x-python",
   "name": "python",
   "nbconvert_exporter": "python",
   "pygments_lexer": "ipython3",
   "version": "3.10.5"
  }
 },
 "nbformat": 4,
 "nbformat_minor": 5
}
